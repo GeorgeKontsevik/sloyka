{
 "cells": [
  {
   "cell_type": "markdown",
   "metadata": {},
   "source": [
    "This notebook is an example of using semantic_graph module"
   ]
  },
  {
   "cell_type": "code",
   "execution_count": 1,
   "metadata": {},
   "outputs": [
    {
     "name": "stderr",
     "output_type": "stream",
     "text": [
      "[nltk_data] Downloading package stopwords to\n",
      "[nltk_data]     C:\\Users\\thebe\\AppData\\Roaming\\nltk_data...\n",
      "[nltk_data]   Package stopwords is already up-to-date!\n"
     ]
    }
   ],
   "source": [
    "import pandas as pd\n",
    "import networkx as nx\n",
    "\n",
    "from factfinder.src.semantic_graph import Semgraph"
   ]
  },
  {
   "cell_type": "code",
   "execution_count": 2,
   "metadata": {},
   "outputs": [
    {
     "name": "stderr",
     "output_type": "stream",
     "text": [
      "Some weights of the model checkpoint at DeepPavlov/rubert-base-cased were not used when initializing BertModel: ['cls.predictions.bias', 'cls.predictions.decoder.bias', 'cls.predictions.decoder.weight', 'cls.predictions.transform.LayerNorm.bias', 'cls.predictions.transform.LayerNorm.weight', 'cls.predictions.transform.dense.bias', 'cls.predictions.transform.dense.weight', 'cls.seq_relationship.bias', 'cls.seq_relationship.weight']\n",
      "- This IS expected if you are initializing BertModel from the checkpoint of a model trained on another task or with another architecture (e.g. initializing a BertForSequenceClassification model from a BertForPreTraining model).\n",
      "- This IS NOT expected if you are initializing BertModel from the checkpoint of a model that you expect to be exactly identical (initializing a BertForSequenceClassification model from a BertForSequenceClassification model).\n"
     ]
    }
   ],
   "source": [
    "# initialisation of semantic graph class\n",
    "sm = Semgraph()"
   ]
  },
  {
   "cell_type": "code",
   "execution_count": 3,
   "metadata": {},
   "outputs": [],
   "source": [
    "# downloadinf data, higly recommended to use after Geocoder class\n",
    "test_df  = pd.read_feather(\"I:\\\\sloyka\\\\data\\\\processed\\\\df_strts.feather\")[:500]"
   ]
  },
  {
   "cell_type": "code",
   "execution_count": 4,
   "metadata": {},
   "outputs": [
    {
     "name": "stdout",
     "output_type": "stream",
     "text": [
      "Extracting keywords\n"
     ]
    },
    {
     "name": "stderr",
     "output_type": "stream",
     "text": [
      "100%|██████████| 216/216 [00:12<00:00, 16.91it/s]\n"
     ]
    },
    {
     "name": "stdout",
     "output_type": "stream",
     "text": [
      "Keywords extracted\n",
      "Calculating semantic closeness\n"
     ]
    },
    {
     "name": "stderr",
     "output_type": "stream",
     "text": [
      "100%|██████████| 595/595 [00:06<00:00, 94.02it/s]\n"
     ]
    }
   ],
   "source": [
    "# building semantic graph as networkx object\n",
    "G = sm.build_semantic_graph(test_df,\n",
    "                        text_column='Текст комментария',\n",
    "                        toponim_column='only_full_street_name',\n",
    "                        toponim_name_column='initial_street',\n",
    "                        toponim_type_column='Toponims',\n",
    "                        semantic_score_filter=0.6\n",
    "                        )"
   ]
  },
  {
   "cell_type": "code",
   "execution_count": 5,
   "metadata": {},
   "outputs": [
    {
     "data": {
      "text/plain": [
       "NodeView(('Гагаринская улица', 'лифт', 'улица Дудко', 'скрыться', 'очистить', 'подъезд', 'Пражская улица', 'жильё', 'дом', 'улица Карпинского', 'дверь', 'дверной', 'Старо-Петергофский проспект', 'жилец', 'улица Фёдора Котанова', 'электроэнергия', 'улица Жени Егоровой', 'мусоропровод', 'Туристская улица', 'заставить', 'улица Декабристов', 'уборка', 'Петергофский переулок', 'путин', 'владимирович', 'владимир', 'Прямой переулок', 'глыба', 'Прямой проспект', 'улица Корнея Чуковского', 'снег', 'Изборская улица', 'Яковлевский переулок', 'песочек', 'мост Ветеранов', 'мусорщик', 'мост Подвойского', 'убрать', 'улица Рылеева', 'улица Евдокима Огнева', 'улица', 'улица Пилотов', 'авиагородок', 'улица Ивана Фомина', 'дмитриевич', 'александрович', 'проспект Художников', 'туалет', 'Витебская улица', 'Московский проспект', 'Камышовая улица', 'улица Маршала Казакова', 'собственник', 'Среднеохтинский проспект', 'отопление', 'Рабфаковская улица', 'ждать', 'корп', 'Садовая улица', 'крыса', 'улица Подвойского', 'Прямая улица', 'Суворовский проспект', 'проживать', 'Комендантский проспект', 'лифтовый', 'Загородный проспект', 'владимирский', 'февраль'))"
      ]
     },
     "execution_count": 5,
     "metadata": {},
     "output_type": "execute_result"
    }
   ],
   "source": [
    "G.nodes"
   ]
  },
  {
   "cell_type": "code",
   "execution_count": 6,
   "metadata": {},
   "outputs": [],
   "source": [
    "\n",
    "nx.write_graphml(G, \"I:\\\\sloyka\\\\data\\\\processed\\\\semantic_graph_example.graphml\", encoding = 'utf-8')"
   ]
  }
 ],
 "metadata": {
  "kernelspec": {
   "display_name": "venv",
   "language": "python",
   "name": "python3"
  },
  "language_info": {
   "codemirror_mode": {
    "name": "ipython",
    "version": 3
   },
   "file_extension": ".py",
   "mimetype": "text/x-python",
   "name": "python",
   "nbconvert_exporter": "python",
   "pygments_lexer": "ipython3",
   "version": "3.11.8"
  }
 },
 "nbformat": 4,
 "nbformat_minor": 2
}
