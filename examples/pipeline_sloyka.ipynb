{
 "cells": [
  {
   "cell_type": "markdown",
   "metadata": {},
   "source": [
    "# Pipeline Sloyka class"
   ]
  },
  {
   "cell_type": "markdown",
   "metadata": {},
   "source": [
    "Импорт модуля Pipeline из Sloyka:"
   ]
  },
  {
   "cell_type": "code",
   "execution_count": null,
   "metadata": {},
   "outputs": [],
   "source": [
    "%pip install sloyka"
   ]
  },
  {
   "cell_type": "code",
   "execution_count": 1,
   "metadata": {},
   "outputs": [
    {
     "name": "stderr",
     "output_type": "stream",
     "text": [
      "/Users/sashamorozov/Documents/Code/lib_sloyka/sloyka/.venv/lib/python3.10/site-packages/tqdm/auto.py:22: TqdmWarning: IProgress not found. Please update jupyter and ipywidgets. See https://ipywidgets.readthedocs.io/en/stable/user_install.html\n",
      "  from .autonotebook import tqdm as notebook_tqdm\n"
     ]
    },
    {
     "name": "stdout",
     "output_type": "stream",
     "text": [
      "INFO: Pandarallel will run on -1 workers.\n",
      "INFO: Pandarallel will use standard multiprocessing data transfer (pipe) to transfer data between the main process and workers.\n"
     ]
    },
    {
     "name": "stderr",
     "output_type": "stream",
     "text": [
      "[nltk_data] Downloading package stopwords to\n",
      "[nltk_data]     /Users/sashamorozov/nltk_data...\n",
      "[nltk_data]   Package stopwords is already up-to-date!\n"
     ]
    }
   ],
   "source": [
    "import sloyka\n",
    "from sloyka import Pipeline"
   ]
  },
  {
   "cell_type": "markdown",
   "metadata": {},
   "source": [
    "Передаем модулю неообходимые данные о территории, группе ВК, сервисном ключе и дате, до который выгружать посты:"
   ]
  },
  {
   "cell_type": "code",
   "execution_count": 2,
   "metadata": {},
   "outputs": [],
   "source": [
    "osm_city_name = 'Санкт-Петербург' # Выбор территории\n",
    "osm_city_level = 5 # Уровень админ. деления с ОСМ\n",
    "domain = \"mytndvor\" # ID группы ВК (\"Центральный район за комфортную городскую среду\")\n",
    "token = '...' # Сервисный ключ доступа из приложения ВК\n",
    "count = 1000 # Кол-во постов в одном запросе\n",
    "date = \"2024-03-01\" # Дата, до которой парсятся посты"
   ]
  },
  {
   "cell_type": "markdown",
   "metadata": {},
   "source": [
    "Запуск модуля Pipeline, на выходе сохраняются и записываются три файла: выгруженные тексты постов, граф в формате `graphml`, визуализированный граф в `html`:"
   ]
  },
  {
   "cell_type": "code",
   "execution_count": 7,
   "metadata": {},
   "outputs": [
    {
     "name": "stdout",
     "output_type": "stream",
     "text": [
      "2024-02-15 19:30:00\n",
      "posts downloaded\n"
     ]
    },
    {
     "name": "stderr",
     "output_type": "stream",
     "text": [
      "100%|██████████| 100/100 [10:41<00:00,  6.41s/it]\n"
     ]
    },
    {
     "name": "stdout",
     "output_type": "stream",
     "text": [
      "comments downloaded\n",
      "2024-04-04 18:03:25,686 SequenceTagger predicts: Dictionary with 5 tags: O, S-ADDRESS, B-ADDRESS, E-ADDRESS, I-ADDRESS\n",
      "\u001b[32m04-04 18:03\u001b[0m | \u001b[1mINFO    \u001b[0m | \u001b[36mclear_names started\u001b[0m\n",
      "\u001b[32m04-04 18:03\u001b[0m | \u001b[1mINFO    \u001b[0m | \u001b[36mget_street started\u001b[0m\n",
      "\u001b[32m04-04 18:03\u001b[0m | \u001b[1mINFO    \u001b[0m | \u001b[36mextract_ner_street started\u001b[0m\n"
     ]
    },
    {
     "name": "stderr",
     "output_type": "stream",
     "text": [
      " 15%|█▍        | 881/6048 [00:06<00:30, 167.97it/s]"
     ]
    },
    {
     "name": "stdout",
     "output_type": "stream",
     "text": [
      "2024-04-04 18:03:48,023 Warning: An empty Sentence was created! Are there empty strings in your dataset?\n"
     ]
    },
    {
     "name": "stderr",
     "output_type": "stream",
     "text": [
      " 30%|███       | 1825/6048 [00:10<00:20, 205.99it/s]"
     ]
    },
    {
     "name": "stdout",
     "output_type": "stream",
     "text": [
      "2024-04-04 18:03:52,651 Warning: An empty Sentence was created! Are there empty strings in your dataset?\n"
     ]
    },
    {
     "name": "stderr",
     "output_type": "stream",
     "text": [
      " 54%|█████▎    | 3245/6048 [00:17<00:12, 217.33it/s]"
     ]
    },
    {
     "name": "stdout",
     "output_type": "stream",
     "text": [
      "2024-04-04 18:03:59,862 Warning: An empty Sentence was created! Are there empty strings in your dataset?\n",
      "2024-04-04 18:03:59,924 Warning: An empty Sentence was created! Are there empty strings in your dataset?\n"
     ]
    },
    {
     "name": "stderr",
     "output_type": "stream",
     "text": [
      " 54%|█████▍    | 3291/6048 [00:18<00:13, 206.56it/s]"
     ]
    },
    {
     "name": "stdout",
     "output_type": "stream",
     "text": [
      "2024-04-04 18:04:00,154 Warning: An empty Sentence was created! Are there empty strings in your dataset?\n"
     ]
    },
    {
     "name": "stderr",
     "output_type": "stream",
     "text": [
      " 58%|█████▊    | 3511/6048 [00:19<00:14, 171.86it/s]"
     ]
    },
    {
     "name": "stdout",
     "output_type": "stream",
     "text": [
      "2024-04-04 18:04:01,457 Warning: An empty Sentence was created! Are there empty strings in your dataset?\n"
     ]
    },
    {
     "name": "stderr",
     "output_type": "stream",
     "text": [
      " 64%|██████▍   | 3887/6048 [00:21<00:11, 189.63it/s]"
     ]
    },
    {
     "name": "stdout",
     "output_type": "stream",
     "text": [
      "2024-04-04 18:04:03,239 Warning: An empty Sentence was created! Are there empty strings in your dataset?\n"
     ]
    },
    {
     "name": "stderr",
     "output_type": "stream",
     "text": [
      " 65%|██████▍   | 3928/6048 [00:21<00:11, 190.59it/s]"
     ]
    },
    {
     "name": "stdout",
     "output_type": "stream",
     "text": [
      "2024-04-04 18:04:03,455 Warning: An empty Sentence was created! Are there empty strings in your dataset?\n"
     ]
    },
    {
     "name": "stderr",
     "output_type": "stream",
     "text": [
      " 76%|███████▌  | 4594/6048 [00:24<00:06, 209.04it/s]"
     ]
    },
    {
     "name": "stdout",
     "output_type": "stream",
     "text": [
      "2024-04-04 18:04:06,920 Warning: An empty Sentence was created! Are there empty strings in your dataset?\n"
     ]
    },
    {
     "name": "stderr",
     "output_type": "stream",
     "text": [
      " 78%|███████▊  | 4709/6048 [00:25<00:06, 219.11it/s]"
     ]
    },
    {
     "name": "stdout",
     "output_type": "stream",
     "text": [
      "2024-04-04 18:04:07,448 Warning: An empty Sentence was created! Are there empty strings in your dataset?\n"
     ]
    },
    {
     "name": "stderr",
     "output_type": "stream",
     "text": [
      " 80%|███████▉  | 4824/6048 [00:26<00:05, 216.31it/s]"
     ]
    },
    {
     "name": "stdout",
     "output_type": "stream",
     "text": [
      "2024-04-04 18:04:07,947 Warning: An empty Sentence was created! Are there empty strings in your dataset?\n"
     ]
    },
    {
     "name": "stderr",
     "output_type": "stream",
     "text": [
      " 96%|█████████▌| 5805/6048 [00:30<00:01, 203.62it/s]"
     ]
    },
    {
     "name": "stdout",
     "output_type": "stream",
     "text": [
      "2024-04-04 18:04:12,888 Warning: An empty Sentence was created! Are there empty strings in your dataset?\n"
     ]
    },
    {
     "name": "stderr",
     "output_type": "stream",
     "text": [
      " 97%|█████████▋| 5867/6048 [00:31<00:00, 182.21it/s]"
     ]
    },
    {
     "name": "stdout",
     "output_type": "stream",
     "text": [
      "2024-04-04 18:04:13,344 Warning: An empty Sentence was created! Are there empty strings in your dataset?\n"
     ]
    },
    {
     "name": "stderr",
     "output_type": "stream",
     "text": [
      " 98%|█████████▊| 5929/6048 [00:31<00:00, 195.43it/s]"
     ]
    },
    {
     "name": "stdout",
     "output_type": "stream",
     "text": [
      "2024-04-04 18:04:13,588 Warning: An empty Sentence was created! Are there empty strings in your dataset?\n"
     ]
    },
    {
     "name": "stderr",
     "output_type": "stream",
     "text": [
      "100%|██████████| 6048/6048 [00:32<00:00, 186.70it/s]\n",
      "100%|██████████| 6048/6048 [00:35<00:00, 169.65it/s]"
     ]
    },
    {
     "name": "stdout",
     "output_type": "stream",
     "text": [
      "\u001b[32m04-04 18:04\u001b[0m | \u001b[1mINFO    \u001b[0m | \u001b[36mpattern1.sub started\u001b[0m\n"
     ]
    },
    {
     "name": "stderr",
     "output_type": "stream",
     "text": [
      "\n",
      "100%|██████████| 6048/6048 [00:00<00:00, 287345.53it/s]"
     ]
    },
    {
     "name": "stdout",
     "output_type": "stream",
     "text": [
      "\u001b[32m04-04 18:04\u001b[0m | \u001b[1mINFO    \u001b[0m | \u001b[36mpattern2.findall started\u001b[0m\n"
     ]
    },
    {
     "name": "stderr",
     "output_type": "stream",
     "text": [
      "\n",
      "100%|██████████| 6048/6048 [00:00<00:00, 294891.43it/s]"
     ]
    },
    {
     "name": "stdout",
     "output_type": "stream",
     "text": [
      "\u001b[32m04-04 18:04\u001b[0m | \u001b[1mINFO    \u001b[0m | \u001b[36mpattern2.sub started\u001b[0m\n"
     ]
    },
    {
     "name": "stderr",
     "output_type": "stream",
     "text": [
      "\n",
      "100%|██████████| 6048/6048 [00:00<00:00, 314588.40it/s]"
     ]
    },
    {
     "name": "stdout",
     "output_type": "stream",
     "text": [
      "\u001b[32m04-04 18:04\u001b[0m | \u001b[1mINFO    \u001b[0m | \u001b[36mextract_building_num started\u001b[0m\n"
     ]
    },
    {
     "name": "stderr",
     "output_type": "stream",
     "text": [
      "\n",
      "100%|██████████| 6048/6048 [00:00<00:00, 45519.99it/s]"
     ]
    },
    {
     "name": "stdout",
     "output_type": "stream",
     "text": [
      "\u001b[32m04-04 18:04\u001b[0m | \u001b[1mINFO    \u001b[0m | \u001b[36mextract_toponym started\u001b[0m\n"
     ]
    },
    {
     "name": "stderr",
     "output_type": "stream",
     "text": [
      "\n",
      "100%|██████████| 6048/6048 [00:00<00:00, 11636.00it/s]"
     ]
    },
    {
     "name": "stdout",
     "output_type": "stream",
     "text": [
      "\u001b[32m04-04 18:04\u001b[0m | \u001b[1mINFO    \u001b[0m | \u001b[36mget_stem started\u001b[0m\n"
     ]
    },
    {
     "name": "stderr",
     "output_type": "stream",
     "text": [
      "\n"
     ]
    },
    {
     "name": "stdout",
     "output_type": "stream",
     "text": [
      "\u001b[32m04-04 18:05\u001b[0m | \u001b[1mINFO    \u001b[0m | \u001b[36mcreate_gdf started\u001b[0m\n"
     ]
    },
    {
     "name": "stderr",
     "output_type": "stream",
     "text": [
      "100%|██████████| 6678/6678 [09:39<00:00, 11.52it/s] \n"
     ]
    },
    {
     "name": "stdout",
     "output_type": "stream",
     "text": [
      "Extracting keywords from post chains...\n"
     ]
    },
    {
     "name": "stderr",
     "output_type": "stream",
     "text": [
      "100%|██████████| 40/40 [01:33<00:00,  2.33s/it]\n"
     ]
    },
    {
     "name": "stdout",
     "output_type": "stream",
     "text": [
      "Extracting keywords from comment chains...\n"
     ]
    },
    {
     "name": "stderr",
     "output_type": "stream",
     "text": [
      "100%|██████████| 185/185 [00:40<00:00,  4.52it/s]\n"
     ]
    },
    {
     "name": "stdout",
     "output_type": "stream",
     "text": [
      "Extracting keywords from replies...\n"
     ]
    },
    {
     "name": "stderr",
     "output_type": "stream",
     "text": [
      "100%|██████████| 146/146 [00:13<00:00, 10.75it/s]\n"
     ]
    },
    {
     "name": "stdout",
     "output_type": "stream",
     "text": [
      "Calculating semantic closeness...\n"
     ]
    },
    {
     "name": "stderr",
     "output_type": "stream",
     "text": [
      "100%|██████████| 149331/149331 [03:33<00:00, 700.55it/s]\n"
     ]
    }
   ],
   "source": [
    "test = Pipeline(domain, token, count, date, osm_city_name, osm_city_level)\n",
    "posts, graph = test.process()"
   ]
  },
  {
   "cell_type": "code",
   "execution_count": 18,
   "metadata": {},
   "outputs": [
    {
     "data": {
      "text/html": [
       "<div>\n",
       "<style scoped>\n",
       "    .dataframe tbody tr th:only-of-type {\n",
       "        vertical-align: middle;\n",
       "    }\n",
       "\n",
       "    .dataframe tbody tr th {\n",
       "        vertical-align: top;\n",
       "    }\n",
       "\n",
       "    .dataframe thead th {\n",
       "        text-align: right;\n",
       "    }\n",
       "</style>\n",
       "<table border=\"1\" class=\"dataframe\">\n",
       "  <thead>\n",
       "    <tr style=\"text-align: right;\">\n",
       "      <th></th>\n",
       "      <th>date</th>\n",
       "      <th>id</th>\n",
       "      <th>text</th>\n",
       "      <th>views.count</th>\n",
       "      <th>likes.count</th>\n",
       "      <th>reposts.count</th>\n",
       "      <th>type</th>\n",
       "      <th>link</th>\n",
       "      <th>Street</th>\n",
       "      <th>Score</th>\n",
       "    </tr>\n",
       "  </thead>\n",
       "  <tbody>\n",
       "    <tr>\n",
       "      <th>117</th>\n",
       "      <td>2024-01-24 10:30:00</td>\n",
       "      <td>326389</td>\n",
       "      <td>Когда Комитет по благоустройству прекратит год...</td>\n",
       "      <td>3722</td>\n",
       "      <td>59</td>\n",
       "      <td>3</td>\n",
       "      <td>post</td>\n",
       "      <td>NaN</td>\n",
       "      <td>None</td>\n",
       "      <td>NaN</td>\n",
       "    </tr>\n",
       "    <tr>\n",
       "      <th>86</th>\n",
       "      <td>2024-02-08 19:30:00</td>\n",
       "      <td>328572</td>\n",
       "      <td>Начало положено! Во вторник вечером состоялась...</td>\n",
       "      <td>4767</td>\n",
       "      <td>89</td>\n",
       "      <td>12</td>\n",
       "      <td>post</td>\n",
       "      <td>https://forms.yandex.ru/u/65a7a4a8c769f1088328...</td>\n",
       "      <td>Конной 24</td>\n",
       "      <td>0.905</td>\n",
       "    </tr>\n",
       "    <tr>\n",
       "      <th>43</th>\n",
       "      <td>2024-03-01 10:30:00</td>\n",
       "      <td>331114</td>\n",
       "      <td>Кто-то в Кремле подписан на группу Ц? Вчера пр...</td>\n",
       "      <td>4393</td>\n",
       "      <td>89</td>\n",
       "      <td>6</td>\n",
       "      <td>post</td>\n",
       "      <td>https://vk.com/wall-129354225_160496|восстанав...</td>\n",
       "      <td>Кремле</td>\n",
       "      <td>NaN</td>\n",
       "    </tr>\n",
       "    <tr>\n",
       "      <th>16</th>\n",
       "      <td>2024-03-14 19:30:00</td>\n",
       "      <td>332428</td>\n",
       "      <td>Я художник, я так вижу 🎨 Историческое здание н...</td>\n",
       "      <td>6037</td>\n",
       "      <td>77</td>\n",
       "      <td>8</td>\n",
       "      <td>post</td>\n",
       "      <td>NaN</td>\n",
       "      <td>Полтавской 7</td>\n",
       "      <td>0.976</td>\n",
       "    </tr>\n",
       "    <tr>\n",
       "      <th>375</th>\n",
       "      <td>2023-09-20 19:30:00</td>\n",
       "      <td>312204</td>\n",
       "      <td>Друзья, пока стоит чудесная осенняя погода, вн...</td>\n",
       "      <td>4539</td>\n",
       "      <td>49</td>\n",
       "      <td>7</td>\n",
       "      <td>post</td>\n",
       "      <td>NaN</td>\n",
       "      <td>Овсянниковском саду</td>\n",
       "      <td>NaN</td>\n",
       "    </tr>\n",
       "    <tr>\n",
       "      <th>154</th>\n",
       "      <td>2024-01-06 19:30:00</td>\n",
       "      <td>324331</td>\n",
       "      <td>В нашей ежегодной рубрике #отчет2023@mytndvor ...</td>\n",
       "      <td>4357</td>\n",
       "      <td>58</td>\n",
       "      <td>6</td>\n",
       "      <td>post</td>\n",
       "      <td>https://vk.com/wall-129354225_293374|раздельный</td>\n",
       "      <td>Жуковского 43</td>\n",
       "      <td>0.901</td>\n",
       "    </tr>\n",
       "    <tr>\n",
       "      <th>356</th>\n",
       "      <td>2023-09-29 19:30:00</td>\n",
       "      <td>312886</td>\n",
       "      <td>Друзья, а вы бы хотели ещё раз отдохнуть этой ...</td>\n",
       "      <td>3399</td>\n",
       "      <td>32</td>\n",
       "      <td>9</td>\n",
       "      <td>post</td>\n",
       "      <td>NaN</td>\n",
       "      <td>None</td>\n",
       "      <td>NaN</td>\n",
       "    </tr>\n",
       "    <tr>\n",
       "      <th>108</th>\n",
       "      <td>2024-01-28 19:30:00</td>\n",
       "      <td>326890</td>\n",
       "      <td>Вы не забыли, петербуржцы, что во время оттепе...</td>\n",
       "      <td>9284</td>\n",
       "      <td>103</td>\n",
       "      <td>14</td>\n",
       "      <td>post</td>\n",
       "      <td>NaN</td>\n",
       "      <td>Владимирском 3</td>\n",
       "      <td>0.846</td>\n",
       "    </tr>\n",
       "    <tr>\n",
       "      <th>331</th>\n",
       "      <td>2023-10-11 19:30:00</td>\n",
       "      <td>314236</td>\n",
       "      <td>Озеленение окончено! Увезли яблоньки с кадок н...</td>\n",
       "      <td>26057</td>\n",
       "      <td>162</td>\n",
       "      <td>16</td>\n",
       "      <td>post</td>\n",
       "      <td>NaN</td>\n",
       "      <td>Восстания</td>\n",
       "      <td>NaN</td>\n",
       "    </tr>\n",
       "    <tr>\n",
       "      <th>81</th>\n",
       "      <td>2024-02-11 10:30:00</td>\n",
       "      <td>328892</td>\n",
       "      <td>Вчера состоялись наши зимние активные игры в О...</td>\n",
       "      <td>3539</td>\n",
       "      <td>83</td>\n",
       "      <td>4</td>\n",
       "      <td>post</td>\n",
       "      <td>NaN</td>\n",
       "      <td>Овсянниковском саду</td>\n",
       "      <td>NaN</td>\n",
       "    </tr>\n",
       "  </tbody>\n",
       "</table>\n",
       "</div>"
      ],
      "text/plain": [
       "                   date      id  ...               Street  Score\n",
       "117 2024-01-24 10:30:00  326389  ...                 None    NaN\n",
       "86  2024-02-08 19:30:00  328572  ...            Конной 24  0.905\n",
       "43  2024-03-01 10:30:00  331114  ...               Кремле    NaN\n",
       "16  2024-03-14 19:30:00  332428  ...         Полтавской 7  0.976\n",
       "375 2023-09-20 19:30:00  312204  ...  Овсянниковском саду    NaN\n",
       "154 2024-01-06 19:30:00  324331  ...        Жуковского 43  0.901\n",
       "356 2023-09-29 19:30:00  312886  ...                 None    NaN\n",
       "108 2024-01-28 19:30:00  326890  ...       Владимирском 3  0.846\n",
       "331 2023-10-11 19:30:00  314236  ...            Восстания    NaN\n",
       "81  2024-02-11 10:30:00  328892  ...  Овсянниковском саду    NaN\n",
       "\n",
       "[10 rows x 10 columns]"
      ]
     },
     "execution_count": 18,
     "metadata": {},
     "output_type": "execute_result"
    }
   ],
   "source": [
    "posts.sample(10)"
   ]
  },
  {
   "cell_type": "code",
   "execution_count": 19,
   "metadata": {},
   "outputs": [
    {
     "name": "stdout",
     "output_type": "stream",
     "text": [
      "Graph with 32 nodes and 22 edges\n"
     ]
    }
   ],
   "source": [
    "print(graph)"
   ]
  },
  {
   "cell_type": "markdown",
   "metadata": {},
   "source": [
    "# Pipeline Sloyka step by step"
   ]
  },
  {
   "cell_type": "markdown",
   "metadata": {},
   "source": [
    "## Установка необходимых для работы библиотек и модулей ##"
   ]
  },
  {
   "cell_type": "markdown",
   "metadata": {},
   "source": [
    "Установка Sloyka и Pyvis для визуализации семантического графа:"
   ]
  },
  {
   "cell_type": "code",
   "execution_count": 4,
   "metadata": {},
   "outputs": [
    {
     "name": "stdout",
     "output_type": "stream",
     "text": [
      "Requirement already satisfied: sloyka in /Users/sashamorozov/Documents/Code/lib_sloyka/sloyka/.venv/lib/python3.10/site-packages (0.1.0)\n",
      "Requirement already satisfied: autodocsumm==0.2.11 in /Users/sashamorozov/Documents/Code/lib_sloyka/sloyka/.venv/lib/python3.10/site-packages (from sloyka) (0.2.11)\n",
      "Requirement already satisfied: bertopic==0.15.0 in /Users/sashamorozov/Documents/Code/lib_sloyka/sloyka/.venv/lib/python3.10/site-packages (from sloyka) (0.15.0)\n",
      "Requirement already satisfied: black==23.1.0 in /Users/sashamorozov/Documents/Code/lib_sloyka/sloyka/.venv/lib/python3.10/site-packages (from sloyka) (23.1.0)\n",
      "Requirement already satisfied: flair==0.12.2 in /Users/sashamorozov/Documents/Code/lib_sloyka/sloyka/.venv/lib/python3.10/site-packages (from sloyka) (0.12.2)\n",
      "Requirement already satisfied: flake8==6.0.0 in /Users/sashamorozov/Documents/Code/lib_sloyka/sloyka/.venv/lib/python3.10/site-packages (from sloyka) (6.0.0)\n",
      "Requirement already satisfied: fuzzywuzzy==0.18.0 in /Users/sashamorozov/Documents/Code/lib_sloyka/sloyka/.venv/lib/python3.10/site-packages (from sloyka) (0.18.0)\n",
      "Requirement already satisfied: geopandas==0.12.2 in /Users/sashamorozov/Documents/Code/lib_sloyka/sloyka/.venv/lib/python3.10/site-packages (from sloyka) (0.12.2)\n",
      "Requirement already satisfied: geopy==2.3.0 in /Users/sashamorozov/Documents/Code/lib_sloyka/sloyka/.venv/lib/python3.10/site-packages (from sloyka) (2.3.0)\n",
      "Requirement already satisfied: isort==5.12.0 in /Users/sashamorozov/Documents/Code/lib_sloyka/sloyka/.venv/lib/python3.10/site-packages (from sloyka) (5.12.0)\n",
      "Requirement already satisfied: keybert==0.8.3 in /Users/sashamorozov/Documents/Code/lib_sloyka/sloyka/.venv/lib/python3.10/site-packages (from sloyka) (0.8.3)\n",
      "Requirement already satisfied: loguru==0.7.2 in /Users/sashamorozov/Documents/Code/lib_sloyka/sloyka/.venv/lib/python3.10/site-packages (from sloyka) (0.7.2)\n",
      "Requirement already satisfied: matplotlib==3.7.0 in /Users/sashamorozov/Documents/Code/lib_sloyka/sloyka/.venv/lib/python3.10/site-packages (from sloyka) (3.7.0)\n",
      "Requirement already satisfied: natasha==1.6.0 in /Users/sashamorozov/Documents/Code/lib_sloyka/sloyka/.venv/lib/python3.10/site-packages (from sloyka) (1.6.0)\n",
      "Requirement already satisfied: networkx==3.1 in /Users/sashamorozov/Documents/Code/lib_sloyka/sloyka/.venv/lib/python3.10/site-packages (from sloyka) (3.1)\n",
      "Requirement already satisfied: nltk==3.8.1 in /Users/sashamorozov/Documents/Code/lib_sloyka/sloyka/.venv/lib/python3.10/site-packages (from sloyka) (3.8.1)\n",
      "Requirement already satisfied: numpy==1.25.2 in /Users/sashamorozov/Documents/Code/lib_sloyka/sloyka/.venv/lib/python3.10/site-packages (from sloyka) (1.25.2)\n",
      "Requirement already satisfied: osm2geojson==0.2.3 in /Users/sashamorozov/Documents/Code/lib_sloyka/sloyka/.venv/lib/python3.10/site-packages (from sloyka) (0.2.3)\n",
      "Requirement already satisfied: osmnx==1.5.1 in /Users/sashamorozov/Documents/Code/lib_sloyka/sloyka/.venv/lib/python3.10/site-packages (from sloyka) (1.5.1)\n",
      "Requirement already satisfied: pandarallel==1.6.5 in /Users/sashamorozov/Documents/Code/lib_sloyka/sloyka/.venv/lib/python3.10/site-packages (from sloyka) (1.6.5)\n",
      "Requirement already satisfied: pandas==1.5.3 in /Users/sashamorozov/Documents/Code/lib_sloyka/sloyka/.venv/lib/python3.10/site-packages (from sloyka) (1.5.3)\n",
      "Requirement already satisfied: pyarrow==15.0.0 in /Users/sashamorozov/Documents/Code/lib_sloyka/sloyka/.venv/lib/python3.10/site-packages (from sloyka) (15.0.0)\n",
      "Requirement already satisfied: pylint==3.0.2 in /Users/sashamorozov/Documents/Code/lib_sloyka/sloyka/.venv/lib/python3.10/site-packages (from sloyka) (3.0.2)\n",
      "Requirement already satisfied: pymorphy2==0.9.1 in /Users/sashamorozov/Documents/Code/lib_sloyka/sloyka/.venv/lib/python3.10/site-packages (from sloyka) (0.9.1)\n",
      "Requirement already satisfied: pymorphy2-dicts-ru==2.4.417127.4579844 in /Users/sashamorozov/Documents/Code/lib_sloyka/sloyka/.venv/lib/python3.10/site-packages (from sloyka) (2.4.417127.4579844)\n",
      "Requirement already satisfied: pymorphy3==2.0.1 in /Users/sashamorozov/Documents/Code/lib_sloyka/sloyka/.venv/lib/python3.10/site-packages (from sloyka) (2.0.1)\n",
      "Requirement already satisfied: scikit-learn==1.2.1 in /Users/sashamorozov/Documents/Code/lib_sloyka/sloyka/.venv/lib/python3.10/site-packages (from sloyka) (1.2.1)\n",
      "Requirement already satisfied: seaborn==0.12.2 in /Users/sashamorozov/Documents/Code/lib_sloyka/sloyka/.venv/lib/python3.10/site-packages (from sloyka) (0.12.2)\n",
      "Requirement already satisfied: shapely==2.0.1 in /Users/sashamorozov/Documents/Code/lib_sloyka/sloyka/.venv/lib/python3.10/site-packages (from sloyka) (2.0.1)\n",
      "Requirement already satisfied: spacy==3.5.0 in /Users/sashamorozov/Documents/Code/lib_sloyka/sloyka/.venv/lib/python3.10/site-packages (from sloyka) (3.5.0)\n",
      "Requirement already satisfied: sphinx==7.1.2 in /Users/sashamorozov/Documents/Code/lib_sloyka/sloyka/.venv/lib/python3.10/site-packages (from sloyka) (7.1.2)\n",
      "Requirement already satisfied: sphinx-rtd-theme==1.3.0rc1 in /Users/sashamorozov/Documents/Code/lib_sloyka/sloyka/.venv/lib/python3.10/site-packages (from sloyka) (1.3.0rc1)\n",
      "Requirement already satisfied: torch==2.1.1 in /Users/sashamorozov/Documents/Code/lib_sloyka/sloyka/.venv/lib/python3.10/site-packages (from sloyka) (2.1.1)\n",
      "Requirement already satisfied: tqdm==4.64.1 in /Users/sashamorozov/Documents/Code/lib_sloyka/sloyka/.venv/lib/python3.10/site-packages (from sloyka) (4.64.1)\n",
      "Requirement already satisfied: transformers==4.30.2 in /Users/sashamorozov/Documents/Code/lib_sloyka/sloyka/.venv/lib/python3.10/site-packages (from sloyka) (4.30.2)\n",
      "Requirement already satisfied: vk-api==11.9.9 in /Users/sashamorozov/Documents/Code/lib_sloyka/sloyka/.venv/lib/python3.10/site-packages (from sloyka) (11.9.9)\n",
      "Requirement already satisfied: hdbscan>=0.8.29 in /Users/sashamorozov/Documents/Code/lib_sloyka/sloyka/.venv/lib/python3.10/site-packages (from bertopic==0.15.0->sloyka) (0.8.33)\n",
      "Requirement already satisfied: umap-learn>=0.5.0 in /Users/sashamorozov/Documents/Code/lib_sloyka/sloyka/.venv/lib/python3.10/site-packages (from bertopic==0.15.0->sloyka) (0.5.5)\n",
      "Requirement already satisfied: sentence-transformers>=0.4.1 in /Users/sashamorozov/Documents/Code/lib_sloyka/sloyka/.venv/lib/python3.10/site-packages (from bertopic==0.15.0->sloyka) (2.2.2)\n",
      "Requirement already satisfied: plotly>=4.7.0 in /Users/sashamorozov/Documents/Code/lib_sloyka/sloyka/.venv/lib/python3.10/site-packages (from bertopic==0.15.0->sloyka) (5.19.0)\n",
      "Requirement already satisfied: click>=8.0.0 in /Users/sashamorozov/Documents/Code/lib_sloyka/sloyka/.venv/lib/python3.10/site-packages (from black==23.1.0->sloyka) (8.1.7)\n",
      "Requirement already satisfied: mypy-extensions>=0.4.3 in /Users/sashamorozov/Documents/Code/lib_sloyka/sloyka/.venv/lib/python3.10/site-packages (from black==23.1.0->sloyka) (1.0.0)\n",
      "Requirement already satisfied: packaging>=22.0 in /Users/sashamorozov/Documents/Code/lib_sloyka/sloyka/.venv/lib/python3.10/site-packages (from black==23.1.0->sloyka) (23.2)\n",
      "Requirement already satisfied: pathspec>=0.9.0 in /Users/sashamorozov/Documents/Code/lib_sloyka/sloyka/.venv/lib/python3.10/site-packages (from black==23.1.0->sloyka) (0.12.1)\n",
      "Requirement already satisfied: platformdirs>=2 in /Users/sashamorozov/Documents/Code/lib_sloyka/sloyka/.venv/lib/python3.10/site-packages (from black==23.1.0->sloyka) (4.2.0)\n",
      "Requirement already satisfied: tomli>=1.1.0 in /Users/sashamorozov/Documents/Code/lib_sloyka/sloyka/.venv/lib/python3.10/site-packages (from black==23.1.0->sloyka) (2.0.1)\n",
      "Requirement already satisfied: python-dateutil>=2.6.1 in /Users/sashamorozov/Documents/Code/lib_sloyka/sloyka/.venv/lib/python3.10/site-packages (from flair==0.12.2->sloyka) (2.8.2)\n",
      "Requirement already satisfied: gensim>=3.8.0 in /Users/sashamorozov/Documents/Code/lib_sloyka/sloyka/.venv/lib/python3.10/site-packages (from flair==0.12.2->sloyka) (4.3.2)\n",
      "Requirement already satisfied: segtok>=1.5.7 in /Users/sashamorozov/Documents/Code/lib_sloyka/sloyka/.venv/lib/python3.10/site-packages (from flair==0.12.2->sloyka) (1.5.11)\n",
      "Requirement already satisfied: mpld3==0.3 in /Users/sashamorozov/Documents/Code/lib_sloyka/sloyka/.venv/lib/python3.10/site-packages (from flair==0.12.2->sloyka) (0.3)\n",
      "Requirement already satisfied: sqlitedict>=1.6.0 in /Users/sashamorozov/Documents/Code/lib_sloyka/sloyka/.venv/lib/python3.10/site-packages (from flair==0.12.2->sloyka) (2.1.0)\n",
      "Requirement already satisfied: deprecated>=1.2.4 in /Users/sashamorozov/Documents/Code/lib_sloyka/sloyka/.venv/lib/python3.10/site-packages (from flair==0.12.2->sloyka) (1.2.14)\n",
      "Requirement already satisfied: hyperopt>=0.2.7 in /Users/sashamorozov/Documents/Code/lib_sloyka/sloyka/.venv/lib/python3.10/site-packages (from flair==0.12.2->sloyka) (0.2.7)\n",
      "Requirement already satisfied: boto3 in /Users/sashamorozov/Documents/Code/lib_sloyka/sloyka/.venv/lib/python3.10/site-packages (from flair==0.12.2->sloyka) (1.34.46)\n",
      "Requirement already satisfied: bpemb>=0.3.2 in /Users/sashamorozov/Documents/Code/lib_sloyka/sloyka/.venv/lib/python3.10/site-packages (from flair==0.12.2->sloyka) (0.3.4)\n",
      "Requirement already satisfied: regex in /Users/sashamorozov/Documents/Code/lib_sloyka/sloyka/.venv/lib/python3.10/site-packages (from flair==0.12.2->sloyka) (2023.12.25)\n",
      "Requirement already satisfied: tabulate in /Users/sashamorozov/Documents/Code/lib_sloyka/sloyka/.venv/lib/python3.10/site-packages (from flair==0.12.2->sloyka) (0.9.0)\n",
      "Requirement already satisfied: langdetect in /Users/sashamorozov/Documents/Code/lib_sloyka/sloyka/.venv/lib/python3.10/site-packages (from flair==0.12.2->sloyka) (1.0.9)\n",
      "Requirement already satisfied: lxml in /Users/sashamorozov/Documents/Code/lib_sloyka/sloyka/.venv/lib/python3.10/site-packages (from flair==0.12.2->sloyka) (5.1.0)\n",
      "Requirement already satisfied: ftfy in /Users/sashamorozov/Documents/Code/lib_sloyka/sloyka/.venv/lib/python3.10/site-packages (from flair==0.12.2->sloyka) (6.1.3)\n",
      "Requirement already satisfied: janome in /Users/sashamorozov/Documents/Code/lib_sloyka/sloyka/.venv/lib/python3.10/site-packages (from flair==0.12.2->sloyka) (0.5.0)\n",
      "Requirement already satisfied: gdown==4.4.0 in /Users/sashamorozov/Documents/Code/lib_sloyka/sloyka/.venv/lib/python3.10/site-packages (from flair==0.12.2->sloyka) (4.4.0)\n",
      "Requirement already satisfied: huggingface-hub>=0.10.0 in /Users/sashamorozov/Documents/Code/lib_sloyka/sloyka/.venv/lib/python3.10/site-packages (from flair==0.12.2->sloyka) (0.20.3)\n",
      "Requirement already satisfied: conllu>=4.0 in /Users/sashamorozov/Documents/Code/lib_sloyka/sloyka/.venv/lib/python3.10/site-packages (from flair==0.12.2->sloyka) (4.5.3)\n",
      "Requirement already satisfied: more-itertools in /Users/sashamorozov/Documents/Code/lib_sloyka/sloyka/.venv/lib/python3.10/site-packages (from flair==0.12.2->sloyka) (10.2.0)\n",
      "Requirement already satisfied: wikipedia-api in /Users/sashamorozov/Documents/Code/lib_sloyka/sloyka/.venv/lib/python3.10/site-packages (from flair==0.12.2->sloyka) (0.6.0)\n",
      "Requirement already satisfied: pptree in /Users/sashamorozov/Documents/Code/lib_sloyka/sloyka/.venv/lib/python3.10/site-packages (from flair==0.12.2->sloyka) (3.1)\n",
      "Requirement already satisfied: pytorch-revgrad in /Users/sashamorozov/Documents/Code/lib_sloyka/sloyka/.venv/lib/python3.10/site-packages (from flair==0.12.2->sloyka) (0.2.0)\n",
      "Requirement already satisfied: transformer-smaller-training-vocab>=0.2.1 in /Users/sashamorozov/Documents/Code/lib_sloyka/sloyka/.venv/lib/python3.10/site-packages (from flair==0.12.2->sloyka) (0.3.3)\n",
      "Requirement already satisfied: mccabe<0.8.0,>=0.7.0 in /Users/sashamorozov/Documents/Code/lib_sloyka/sloyka/.venv/lib/python3.10/site-packages (from flake8==6.0.0->sloyka) (0.7.0)\n",
      "Requirement already satisfied: pycodestyle<2.11.0,>=2.10.0 in /Users/sashamorozov/Documents/Code/lib_sloyka/sloyka/.venv/lib/python3.10/site-packages (from flake8==6.0.0->sloyka) (2.10.0)\n",
      "Requirement already satisfied: pyflakes<3.1.0,>=3.0.0 in /Users/sashamorozov/Documents/Code/lib_sloyka/sloyka/.venv/lib/python3.10/site-packages (from flake8==6.0.0->sloyka) (3.0.1)\n",
      "Requirement already satisfied: fiona>=1.8 in /Users/sashamorozov/Documents/Code/lib_sloyka/sloyka/.venv/lib/python3.10/site-packages (from geopandas==0.12.2->sloyka) (1.9.5)\n",
      "Requirement already satisfied: pyproj>=2.6.1.post1 in /Users/sashamorozov/Documents/Code/lib_sloyka/sloyka/.venv/lib/python3.10/site-packages (from geopandas==0.12.2->sloyka) (3.6.1)\n",
      "Requirement already satisfied: geographiclib<3,>=1.52 in /Users/sashamorozov/Documents/Code/lib_sloyka/sloyka/.venv/lib/python3.10/site-packages (from geopy==2.3.0->sloyka) (2.0)\n",
      "Requirement already satisfied: rich>=10.4.0 in /Users/sashamorozov/Documents/Code/lib_sloyka/sloyka/.venv/lib/python3.10/site-packages (from keybert==0.8.3->sloyka) (13.7.0)\n",
      "Requirement already satisfied: contourpy>=1.0.1 in /Users/sashamorozov/Documents/Code/lib_sloyka/sloyka/.venv/lib/python3.10/site-packages (from matplotlib==3.7.0->sloyka) (1.2.0)\n",
      "Requirement already satisfied: cycler>=0.10 in /Users/sashamorozov/Documents/Code/lib_sloyka/sloyka/.venv/lib/python3.10/site-packages (from matplotlib==3.7.0->sloyka) (0.12.1)\n",
      "Requirement already satisfied: fonttools>=4.22.0 in /Users/sashamorozov/Documents/Code/lib_sloyka/sloyka/.venv/lib/python3.10/site-packages (from matplotlib==3.7.0->sloyka) (4.49.0)\n",
      "Requirement already satisfied: kiwisolver>=1.0.1 in /Users/sashamorozov/Documents/Code/lib_sloyka/sloyka/.venv/lib/python3.10/site-packages (from matplotlib==3.7.0->sloyka) (1.4.5)\n",
      "Requirement already satisfied: pillow>=6.2.0 in /Users/sashamorozov/Documents/Code/lib_sloyka/sloyka/.venv/lib/python3.10/site-packages (from matplotlib==3.7.0->sloyka) (10.2.0)\n",
      "Requirement already satisfied: pyparsing>=2.3.1 in /Users/sashamorozov/Documents/Code/lib_sloyka/sloyka/.venv/lib/python3.10/site-packages (from matplotlib==3.7.0->sloyka) (3.1.1)\n",
      "Requirement already satisfied: razdel>=0.5.0 in /Users/sashamorozov/Documents/Code/lib_sloyka/sloyka/.venv/lib/python3.10/site-packages (from natasha==1.6.0->sloyka) (0.5.0)\n",
      "Requirement already satisfied: navec>=0.9.0 in /Users/sashamorozov/Documents/Code/lib_sloyka/sloyka/.venv/lib/python3.10/site-packages (from natasha==1.6.0->sloyka) (0.10.0)\n",
      "Requirement already satisfied: slovnet>=0.6.0 in /Users/sashamorozov/Documents/Code/lib_sloyka/sloyka/.venv/lib/python3.10/site-packages (from natasha==1.6.0->sloyka) (0.6.0)\n",
      "Requirement already satisfied: yargy>=0.16.0 in /Users/sashamorozov/Documents/Code/lib_sloyka/sloyka/.venv/lib/python3.10/site-packages (from natasha==1.6.0->sloyka) (0.16.0)\n",
      "Requirement already satisfied: ipymarkup>=0.8.0 in /Users/sashamorozov/Documents/Code/lib_sloyka/sloyka/.venv/lib/python3.10/site-packages (from natasha==1.6.0->sloyka) (0.9.0)\n",
      "Requirement already satisfied: joblib in /Users/sashamorozov/Documents/Code/lib_sloyka/sloyka/.venv/lib/python3.10/site-packages (from nltk==3.8.1->sloyka) (1.3.2)\n",
      "Requirement already satisfied: requests in /Users/sashamorozov/Documents/Code/lib_sloyka/sloyka/.venv/lib/python3.10/site-packages (from osm2geojson==0.2.3->sloyka) (2.31.0)\n",
      "Requirement already satisfied: dill>=0.3.1 in /Users/sashamorozov/Documents/Code/lib_sloyka/sloyka/.venv/lib/python3.10/site-packages (from pandarallel==1.6.5->sloyka) (0.3.8)\n",
      "Requirement already satisfied: psutil in /Users/sashamorozov/Documents/Code/lib_sloyka/sloyka/.venv/lib/python3.10/site-packages (from pandarallel==1.6.5->sloyka) (5.9.8)\n",
      "Requirement already satisfied: pytz>=2020.1 in /Users/sashamorozov/Documents/Code/lib_sloyka/sloyka/.venv/lib/python3.10/site-packages (from pandas==1.5.3->sloyka) (2024.1)\n",
      "Requirement already satisfied: astroid<=3.1.0-dev0,>=3.0.1 in /Users/sashamorozov/Documents/Code/lib_sloyka/sloyka/.venv/lib/python3.10/site-packages (from pylint==3.0.2->sloyka) (3.0.3)\n",
      "Requirement already satisfied: tomlkit>=0.10.1 in /Users/sashamorozov/Documents/Code/lib_sloyka/sloyka/.venv/lib/python3.10/site-packages (from pylint==3.0.2->sloyka) (0.12.3)\n",
      "Requirement already satisfied: dawg-python>=0.7.1 in /Users/sashamorozov/Documents/Code/lib_sloyka/sloyka/.venv/lib/python3.10/site-packages (from pymorphy2==0.9.1->sloyka) (0.7.2)\n",
      "Requirement already satisfied: docopt>=0.6 in /Users/sashamorozov/Documents/Code/lib_sloyka/sloyka/.venv/lib/python3.10/site-packages (from pymorphy2==0.9.1->sloyka) (0.6.2)\n",
      "Requirement already satisfied: pymorphy3-dicts-ru in /Users/sashamorozov/Documents/Code/lib_sloyka/sloyka/.venv/lib/python3.10/site-packages (from pymorphy3==2.0.1->sloyka) (2.4.417150.4580142)\n",
      "Requirement already satisfied: scipy>=1.3.2 in /Users/sashamorozov/Documents/Code/lib_sloyka/sloyka/.venv/lib/python3.10/site-packages (from scikit-learn==1.2.1->sloyka) (1.12.0)\n",
      "Requirement already satisfied: threadpoolctl>=2.0.0 in /Users/sashamorozov/Documents/Code/lib_sloyka/sloyka/.venv/lib/python3.10/site-packages (from scikit-learn==1.2.1->sloyka) (3.3.0)\n",
      "Requirement already satisfied: spacy-legacy<3.1.0,>=3.0.11 in /Users/sashamorozov/Documents/Code/lib_sloyka/sloyka/.venv/lib/python3.10/site-packages (from spacy==3.5.0->sloyka) (3.0.12)\n",
      "Requirement already satisfied: spacy-loggers<2.0.0,>=1.0.0 in /Users/sashamorozov/Documents/Code/lib_sloyka/sloyka/.venv/lib/python3.10/site-packages (from spacy==3.5.0->sloyka) (1.0.5)\n",
      "Requirement already satisfied: murmurhash<1.1.0,>=0.28.0 in /Users/sashamorozov/Documents/Code/lib_sloyka/sloyka/.venv/lib/python3.10/site-packages (from spacy==3.5.0->sloyka) (1.0.10)\n",
      "Requirement already satisfied: cymem<2.1.0,>=2.0.2 in /Users/sashamorozov/Documents/Code/lib_sloyka/sloyka/.venv/lib/python3.10/site-packages (from spacy==3.5.0->sloyka) (2.0.8)\n",
      "Requirement already satisfied: preshed<3.1.0,>=3.0.2 in /Users/sashamorozov/Documents/Code/lib_sloyka/sloyka/.venv/lib/python3.10/site-packages (from spacy==3.5.0->sloyka) (3.0.9)\n",
      "Requirement already satisfied: thinc<8.2.0,>=8.1.0 in /Users/sashamorozov/Documents/Code/lib_sloyka/sloyka/.venv/lib/python3.10/site-packages (from spacy==3.5.0->sloyka) (8.1.12)\n",
      "Requirement already satisfied: wasabi<1.2.0,>=0.9.1 in /Users/sashamorozov/Documents/Code/lib_sloyka/sloyka/.venv/lib/python3.10/site-packages (from spacy==3.5.0->sloyka) (1.1.2)\n",
      "Requirement already satisfied: srsly<3.0.0,>=2.4.3 in /Users/sashamorozov/Documents/Code/lib_sloyka/sloyka/.venv/lib/python3.10/site-packages (from spacy==3.5.0->sloyka) (2.4.8)\n",
      "Requirement already satisfied: catalogue<2.1.0,>=2.0.6 in /Users/sashamorozov/Documents/Code/lib_sloyka/sloyka/.venv/lib/python3.10/site-packages (from spacy==3.5.0->sloyka) (2.0.10)\n",
      "Requirement already satisfied: typer<0.8.0,>=0.3.0 in /Users/sashamorozov/Documents/Code/lib_sloyka/sloyka/.venv/lib/python3.10/site-packages (from spacy==3.5.0->sloyka) (0.7.0)\n",
      "Requirement already satisfied: pathy>=0.10.0 in /Users/sashamorozov/Documents/Code/lib_sloyka/sloyka/.venv/lib/python3.10/site-packages (from spacy==3.5.0->sloyka) (0.11.0)\n",
      "Requirement already satisfied: smart-open<7.0.0,>=5.2.1 in /Users/sashamorozov/Documents/Code/lib_sloyka/sloyka/.venv/lib/python3.10/site-packages (from spacy==3.5.0->sloyka) (6.4.0)\n",
      "Requirement already satisfied: pydantic!=1.8,!=1.8.1,<1.11.0,>=1.7.4 in /Users/sashamorozov/Documents/Code/lib_sloyka/sloyka/.venv/lib/python3.10/site-packages (from spacy==3.5.0->sloyka) (1.10.14)\n",
      "Requirement already satisfied: jinja2 in /Users/sashamorozov/Documents/Code/lib_sloyka/sloyka/.venv/lib/python3.10/site-packages (from spacy==3.5.0->sloyka) (3.1.3)\n",
      "Requirement already satisfied: setuptools in /Users/sashamorozov/Documents/Code/lib_sloyka/sloyka/.venv/lib/python3.10/site-packages (from spacy==3.5.0->sloyka) (69.1.0)\n",
      "Requirement already satisfied: langcodes<4.0.0,>=3.2.0 in /Users/sashamorozov/Documents/Code/lib_sloyka/sloyka/.venv/lib/python3.10/site-packages (from spacy==3.5.0->sloyka) (3.3.0)\n",
      "Requirement already satisfied: sphinxcontrib-applehelp in /Users/sashamorozov/Documents/Code/lib_sloyka/sloyka/.venv/lib/python3.10/site-packages (from sphinx==7.1.2->sloyka) (1.0.8)\n",
      "Requirement already satisfied: sphinxcontrib-devhelp in /Users/sashamorozov/Documents/Code/lib_sloyka/sloyka/.venv/lib/python3.10/site-packages (from sphinx==7.1.2->sloyka) (1.0.6)\n",
      "Requirement already satisfied: sphinxcontrib-jsmath in /Users/sashamorozov/Documents/Code/lib_sloyka/sloyka/.venv/lib/python3.10/site-packages (from sphinx==7.1.2->sloyka) (1.0.1)\n",
      "Requirement already satisfied: sphinxcontrib-htmlhelp>=2.0.0 in /Users/sashamorozov/Documents/Code/lib_sloyka/sloyka/.venv/lib/python3.10/site-packages (from sphinx==7.1.2->sloyka) (2.0.5)\n",
      "Requirement already satisfied: sphinxcontrib-serializinghtml>=1.1.5 in /Users/sashamorozov/Documents/Code/lib_sloyka/sloyka/.venv/lib/python3.10/site-packages (from sphinx==7.1.2->sloyka) (1.1.10)\n",
      "Requirement already satisfied: sphinxcontrib-qthelp in /Users/sashamorozov/Documents/Code/lib_sloyka/sloyka/.venv/lib/python3.10/site-packages (from sphinx==7.1.2->sloyka) (1.0.7)\n",
      "Requirement already satisfied: Pygments>=2.13 in /Users/sashamorozov/Documents/Code/lib_sloyka/sloyka/.venv/lib/python3.10/site-packages (from sphinx==7.1.2->sloyka) (2.17.2)\n",
      "Requirement already satisfied: docutils<0.21,>=0.18.1 in /Users/sashamorozov/Documents/Code/lib_sloyka/sloyka/.venv/lib/python3.10/site-packages (from sphinx==7.1.2->sloyka) (0.18.1)\n",
      "Requirement already satisfied: snowballstemmer>=2.0 in /Users/sashamorozov/Documents/Code/lib_sloyka/sloyka/.venv/lib/python3.10/site-packages (from sphinx==7.1.2->sloyka) (2.2.0)\n",
      "Requirement already satisfied: babel>=2.9 in /Users/sashamorozov/Documents/Code/lib_sloyka/sloyka/.venv/lib/python3.10/site-packages (from sphinx==7.1.2->sloyka) (2.14.0)\n",
      "Requirement already satisfied: alabaster<0.8,>=0.7 in /Users/sashamorozov/Documents/Code/lib_sloyka/sloyka/.venv/lib/python3.10/site-packages (from sphinx==7.1.2->sloyka) (0.7.16)\n",
      "Requirement already satisfied: imagesize>=1.3 in /Users/sashamorozov/Documents/Code/lib_sloyka/sloyka/.venv/lib/python3.10/site-packages (from sphinx==7.1.2->sloyka) (1.4.1)\n",
      "Requirement already satisfied: sphinxcontrib-jquery<5,>=4 in /Users/sashamorozov/Documents/Code/lib_sloyka/sloyka/.venv/lib/python3.10/site-packages (from sphinx-rtd-theme==1.3.0rc1->sloyka) (4.1)\n",
      "Requirement already satisfied: filelock in /Users/sashamorozov/Documents/Code/lib_sloyka/sloyka/.venv/lib/python3.10/site-packages (from torch==2.1.1->sloyka) (3.13.1)\n",
      "Requirement already satisfied: typing-extensions in /Users/sashamorozov/Documents/Code/lib_sloyka/sloyka/.venv/lib/python3.10/site-packages (from torch==2.1.1->sloyka) (4.9.0)\n",
      "Requirement already satisfied: sympy in /Users/sashamorozov/Documents/Code/lib_sloyka/sloyka/.venv/lib/python3.10/site-packages (from torch==2.1.1->sloyka) (1.12)\n",
      "Requirement already satisfied: fsspec in /Users/sashamorozov/Documents/Code/lib_sloyka/sloyka/.venv/lib/python3.10/site-packages (from torch==2.1.1->sloyka) (2024.2.0)\n",
      "Requirement already satisfied: pyyaml>=5.1 in /Users/sashamorozov/Documents/Code/lib_sloyka/sloyka/.venv/lib/python3.10/site-packages (from transformers==4.30.2->sloyka) (6.0.1)\n",
      "Requirement already satisfied: tokenizers!=0.11.3,<0.14,>=0.11.1 in /Users/sashamorozov/Documents/Code/lib_sloyka/sloyka/.venv/lib/python3.10/site-packages (from transformers==4.30.2->sloyka) (0.13.3)\n",
      "Requirement already satisfied: safetensors>=0.3.1 in /Users/sashamorozov/Documents/Code/lib_sloyka/sloyka/.venv/lib/python3.10/site-packages (from transformers==4.30.2->sloyka) (0.4.2)\n",
      "Requirement already satisfied: six in /Users/sashamorozov/Documents/Code/lib_sloyka/sloyka/.venv/lib/python3.10/site-packages (from gdown==4.4.0->flair==0.12.2->sloyka) (1.16.0)\n",
      "Requirement already satisfied: beautifulsoup4 in /Users/sashamorozov/Documents/Code/lib_sloyka/sloyka/.venv/lib/python3.10/site-packages (from gdown==4.4.0->flair==0.12.2->sloyka) (4.12.3)\n",
      "Requirement already satisfied: sentencepiece in /Users/sashamorozov/Documents/Code/lib_sloyka/sloyka/.venv/lib/python3.10/site-packages (from bpemb>=0.3.2->flair==0.12.2->sloyka) (0.1.99)\n",
      "Requirement already satisfied: wrapt<2,>=1.10 in /Users/sashamorozov/Documents/Code/lib_sloyka/sloyka/.venv/lib/python3.10/site-packages (from deprecated>=1.2.4->flair==0.12.2->sloyka) (1.16.0)\n",
      "Requirement already satisfied: attrs>=19.2.0 in /Users/sashamorozov/Documents/Code/lib_sloyka/sloyka/.venv/lib/python3.10/site-packages (from fiona>=1.8->geopandas==0.12.2->sloyka) (23.2.0)\n",
      "Requirement already satisfied: certifi in /Users/sashamorozov/Documents/Code/lib_sloyka/sloyka/.venv/lib/python3.10/site-packages (from fiona>=1.8->geopandas==0.12.2->sloyka) (2024.2.2)\n",
      "Requirement already satisfied: click-plugins>=1.0 in /Users/sashamorozov/Documents/Code/lib_sloyka/sloyka/.venv/lib/python3.10/site-packages (from fiona>=1.8->geopandas==0.12.2->sloyka) (1.1.1)\n",
      "Requirement already satisfied: cligj>=0.5 in /Users/sashamorozov/Documents/Code/lib_sloyka/sloyka/.venv/lib/python3.10/site-packages (from fiona>=1.8->geopandas==0.12.2->sloyka) (0.7.2)\n",
      "Requirement already satisfied: cython<3,>=0.27 in /Users/sashamorozov/Documents/Code/lib_sloyka/sloyka/.venv/lib/python3.10/site-packages (from hdbscan>=0.8.29->bertopic==0.15.0->sloyka) (0.29.37)\n",
      "Requirement already satisfied: future in /Users/sashamorozov/Documents/Code/lib_sloyka/sloyka/.venv/lib/python3.10/site-packages (from hyperopt>=0.2.7->flair==0.12.2->sloyka) (0.18.3)\n",
      "Requirement already satisfied: cloudpickle in /Users/sashamorozov/Documents/Code/lib_sloyka/sloyka/.venv/lib/python3.10/site-packages (from hyperopt>=0.2.7->flair==0.12.2->sloyka) (3.0.0)\n",
      "Requirement already satisfied: py4j in /Users/sashamorozov/Documents/Code/lib_sloyka/sloyka/.venv/lib/python3.10/site-packages (from hyperopt>=0.2.7->flair==0.12.2->sloyka) (0.10.9.7)\n",
      "Requirement already satisfied: intervaltree>=3 in /Users/sashamorozov/Documents/Code/lib_sloyka/sloyka/.venv/lib/python3.10/site-packages (from ipymarkup>=0.8.0->natasha==1.6.0->sloyka) (3.1.0)\n",
      "Requirement already satisfied: MarkupSafe>=2.0 in /Users/sashamorozov/Documents/Code/lib_sloyka/sloyka/.venv/lib/python3.10/site-packages (from jinja2->spacy==3.5.0->sloyka) (2.1.5)\n",
      "Requirement already satisfied: pathlib-abc==0.1.1 in /Users/sashamorozov/Documents/Code/lib_sloyka/sloyka/.venv/lib/python3.10/site-packages (from pathy>=0.10.0->spacy==3.5.0->sloyka) (0.1.1)\n",
      "Requirement already satisfied: tenacity>=6.2.0 in /Users/sashamorozov/Documents/Code/lib_sloyka/sloyka/.venv/lib/python3.10/site-packages (from plotly>=4.7.0->bertopic==0.15.0->sloyka) (8.2.3)\n",
      "Requirement already satisfied: charset-normalizer<4,>=2 in /Users/sashamorozov/Documents/Code/lib_sloyka/sloyka/.venv/lib/python3.10/site-packages (from requests->osm2geojson==0.2.3->sloyka) (3.3.2)\n",
      "Requirement already satisfied: idna<4,>=2.5 in /Users/sashamorozov/Documents/Code/lib_sloyka/sloyka/.venv/lib/python3.10/site-packages (from requests->osm2geojson==0.2.3->sloyka) (3.6)\n",
      "Requirement already satisfied: urllib3<3,>=1.21.1 in /Users/sashamorozov/Documents/Code/lib_sloyka/sloyka/.venv/lib/python3.10/site-packages (from requests->osm2geojson==0.2.3->sloyka) (2.0.7)\n",
      "Requirement already satisfied: markdown-it-py>=2.2.0 in /Users/sashamorozov/Documents/Code/lib_sloyka/sloyka/.venv/lib/python3.10/site-packages (from rich>=10.4.0->keybert==0.8.3->sloyka) (3.0.0)\n",
      "Requirement already satisfied: torchvision in /Users/sashamorozov/Documents/Code/lib_sloyka/sloyka/.venv/lib/python3.10/site-packages (from sentence-transformers>=0.4.1->bertopic==0.15.0->sloyka) (0.16.1)\n",
      "Requirement already satisfied: blis<0.8.0,>=0.7.8 in /Users/sashamorozov/Documents/Code/lib_sloyka/sloyka/.venv/lib/python3.10/site-packages (from thinc<8.2.0,>=8.1.0->spacy==3.5.0->sloyka) (0.7.11)\n",
      "Requirement already satisfied: confection<1.0.0,>=0.0.1 in /Users/sashamorozov/Documents/Code/lib_sloyka/sloyka/.venv/lib/python3.10/site-packages (from thinc<8.2.0,>=8.1.0->spacy==3.5.0->sloyka) (0.1.4)\n",
      "Requirement already satisfied: protobuf<=3.20.3 in /Users/sashamorozov/Documents/Code/lib_sloyka/sloyka/.venv/lib/python3.10/site-packages (from transformers[sentencepiece]>=4.18.0->flair==0.12.2->sloyka) (3.20.3)\n",
      "Requirement already satisfied: numba>=0.51.2 in /Users/sashamorozov/Documents/Code/lib_sloyka/sloyka/.venv/lib/python3.10/site-packages (from umap-learn>=0.5.0->bertopic==0.15.0->sloyka) (0.59.0)\n",
      "Requirement already satisfied: pynndescent>=0.5 in /Users/sashamorozov/Documents/Code/lib_sloyka/sloyka/.venv/lib/python3.10/site-packages (from umap-learn>=0.5.0->bertopic==0.15.0->sloyka) (0.5.11)\n",
      "Requirement already satisfied: botocore<1.35.0,>=1.34.46 in /Users/sashamorozov/Documents/Code/lib_sloyka/sloyka/.venv/lib/python3.10/site-packages (from boto3->flair==0.12.2->sloyka) (1.34.46)\n",
      "Requirement already satisfied: jmespath<2.0.0,>=0.7.1 in /Users/sashamorozov/Documents/Code/lib_sloyka/sloyka/.venv/lib/python3.10/site-packages (from boto3->flair==0.12.2->sloyka) (1.0.1)\n",
      "Requirement already satisfied: s3transfer<0.11.0,>=0.10.0 in /Users/sashamorozov/Documents/Code/lib_sloyka/sloyka/.venv/lib/python3.10/site-packages (from boto3->flair==0.12.2->sloyka) (0.10.0)\n",
      "Requirement already satisfied: wcwidth<0.3.0,>=0.2.12 in /Users/sashamorozov/Documents/Code/lib_sloyka/sloyka/.venv/lib/python3.10/site-packages (from ftfy->flair==0.12.2->sloyka) (0.2.13)\n",
      "Requirement already satisfied: mpmath>=0.19 in /Users/sashamorozov/Documents/Code/lib_sloyka/sloyka/.venv/lib/python3.10/site-packages (from sympy->torch==2.1.1->sloyka) (1.3.0)\n",
      "Requirement already satisfied: sortedcontainers<3.0,>=2.0 in /Users/sashamorozov/Documents/Code/lib_sloyka/sloyka/.venv/lib/python3.10/site-packages (from intervaltree>=3->ipymarkup>=0.8.0->natasha==1.6.0->sloyka) (2.4.0)\n",
      "Requirement already satisfied: mdurl~=0.1 in /Users/sashamorozov/Documents/Code/lib_sloyka/sloyka/.venv/lib/python3.10/site-packages (from markdown-it-py>=2.2.0->rich>=10.4.0->keybert==0.8.3->sloyka) (0.1.2)\n",
      "Requirement already satisfied: llvmlite<0.43,>=0.42.0dev0 in /Users/sashamorozov/Documents/Code/lib_sloyka/sloyka/.venv/lib/python3.10/site-packages (from numba>=0.51.2->umap-learn>=0.5.0->bertopic==0.15.0->sloyka) (0.42.0)\n",
      "Requirement already satisfied: accelerate>=0.20.2 in /Users/sashamorozov/Documents/Code/lib_sloyka/sloyka/.venv/lib/python3.10/site-packages (from transformers[torch]<5.0,>=4.1->transformer-smaller-training-vocab>=0.2.1->flair==0.12.2->sloyka) (0.27.2)\n",
      "Requirement already satisfied: soupsieve>1.2 in /Users/sashamorozov/Documents/Code/lib_sloyka/sloyka/.venv/lib/python3.10/site-packages (from beautifulsoup4->gdown==4.4.0->flair==0.12.2->sloyka) (2.5)\n",
      "Requirement already satisfied: PySocks!=1.5.7,>=1.5.6 in /Users/sashamorozov/Documents/Code/lib_sloyka/sloyka/.venv/lib/python3.10/site-packages (from requests[socks]->gdown==4.4.0->flair==0.12.2->sloyka) (1.7.1)\n",
      "Note: you may need to restart the kernel to use updated packages.\n",
      "Requirement already satisfied: pyvis in /Users/sashamorozov/Documents/Code/lib_sloyka/sloyka/.venv/lib/python3.10/site-packages (0.3.2)\n",
      "Requirement already satisfied: ipython>=5.3.0 in /Users/sashamorozov/Documents/Code/lib_sloyka/sloyka/.venv/lib/python3.10/site-packages (from pyvis) (8.21.0)\n",
      "Requirement already satisfied: jinja2>=2.9.6 in /Users/sashamorozov/Documents/Code/lib_sloyka/sloyka/.venv/lib/python3.10/site-packages (from pyvis) (3.1.3)\n",
      "Requirement already satisfied: jsonpickle>=1.4.1 in /Users/sashamorozov/Documents/Code/lib_sloyka/sloyka/.venv/lib/python3.10/site-packages (from pyvis) (3.0.3)\n",
      "Requirement already satisfied: networkx>=1.11 in /Users/sashamorozov/Documents/Code/lib_sloyka/sloyka/.venv/lib/python3.10/site-packages (from pyvis) (3.1)\n",
      "Requirement already satisfied: decorator in /Users/sashamorozov/Documents/Code/lib_sloyka/sloyka/.venv/lib/python3.10/site-packages (from ipython>=5.3.0->pyvis) (5.1.1)\n",
      "Requirement already satisfied: jedi>=0.16 in /Users/sashamorozov/Documents/Code/lib_sloyka/sloyka/.venv/lib/python3.10/site-packages (from ipython>=5.3.0->pyvis) (0.19.1)\n",
      "Requirement already satisfied: matplotlib-inline in /Users/sashamorozov/Documents/Code/lib_sloyka/sloyka/.venv/lib/python3.10/site-packages (from ipython>=5.3.0->pyvis) (0.1.6)\n",
      "Requirement already satisfied: prompt-toolkit<3.1.0,>=3.0.41 in /Users/sashamorozov/Documents/Code/lib_sloyka/sloyka/.venv/lib/python3.10/site-packages (from ipython>=5.3.0->pyvis) (3.0.43)\n",
      "Requirement already satisfied: pygments>=2.4.0 in /Users/sashamorozov/Documents/Code/lib_sloyka/sloyka/.venv/lib/python3.10/site-packages (from ipython>=5.3.0->pyvis) (2.17.2)\n",
      "Requirement already satisfied: stack-data in /Users/sashamorozov/Documents/Code/lib_sloyka/sloyka/.venv/lib/python3.10/site-packages (from ipython>=5.3.0->pyvis) (0.6.3)\n",
      "Requirement already satisfied: traitlets>=5 in /Users/sashamorozov/Documents/Code/lib_sloyka/sloyka/.venv/lib/python3.10/site-packages (from ipython>=5.3.0->pyvis) (5.14.1)\n",
      "Requirement already satisfied: exceptiongroup in /Users/sashamorozov/Documents/Code/lib_sloyka/sloyka/.venv/lib/python3.10/site-packages (from ipython>=5.3.0->pyvis) (1.2.0)\n",
      "Requirement already satisfied: pexpect>4.3 in /Users/sashamorozov/Documents/Code/lib_sloyka/sloyka/.venv/lib/python3.10/site-packages (from ipython>=5.3.0->pyvis) (4.9.0)\n",
      "Requirement already satisfied: MarkupSafe>=2.0 in /Users/sashamorozov/Documents/Code/lib_sloyka/sloyka/.venv/lib/python3.10/site-packages (from jinja2>=2.9.6->pyvis) (2.1.5)\n",
      "Requirement already satisfied: parso<0.9.0,>=0.8.3 in /Users/sashamorozov/Documents/Code/lib_sloyka/sloyka/.venv/lib/python3.10/site-packages (from jedi>=0.16->ipython>=5.3.0->pyvis) (0.8.3)\n",
      "Requirement already satisfied: ptyprocess>=0.5 in /Users/sashamorozov/Documents/Code/lib_sloyka/sloyka/.venv/lib/python3.10/site-packages (from pexpect>4.3->ipython>=5.3.0->pyvis) (0.7.0)\n",
      "Requirement already satisfied: wcwidth in /Users/sashamorozov/Documents/Code/lib_sloyka/sloyka/.venv/lib/python3.10/site-packages (from prompt-toolkit<3.1.0,>=3.0.41->ipython>=5.3.0->pyvis) (0.2.13)\n",
      "Requirement already satisfied: executing>=1.2.0 in /Users/sashamorozov/Documents/Code/lib_sloyka/sloyka/.venv/lib/python3.10/site-packages (from stack-data->ipython>=5.3.0->pyvis) (2.0.1)\n",
      "Requirement already satisfied: asttokens>=2.1.0 in /Users/sashamorozov/Documents/Code/lib_sloyka/sloyka/.venv/lib/python3.10/site-packages (from stack-data->ipython>=5.3.0->pyvis) (2.4.1)\n",
      "Requirement already satisfied: pure-eval in /Users/sashamorozov/Documents/Code/lib_sloyka/sloyka/.venv/lib/python3.10/site-packages (from stack-data->ipython>=5.3.0->pyvis) (0.2.2)\n",
      "Requirement already satisfied: six>=1.12.0 in /Users/sashamorozov/Documents/Code/lib_sloyka/sloyka/.venv/lib/python3.10/site-packages (from asttokens>=2.1.0->stack-data->ipython>=5.3.0->pyvis) (1.16.0)\n",
      "Note: you may need to restart the kernel to use updated packages.\n"
     ]
    }
   ],
   "source": [
    "%pip install sloyka\n",
    "%pip install pyvis"
   ]
  },
  {
   "cell_type": "markdown",
   "metadata": {},
   "source": [
    "Импорт необходимых модулей:"
   ]
  },
  {
   "cell_type": "code",
   "execution_count": 1,
   "metadata": {},
   "outputs": [],
   "source": [
    "# import sloyka\n",
    "import warnings\n",
    "\n",
    "warnings.simplefilter(\"ignore\")\n",
    "\n",
    "import networkx as nx \n",
    "from pyvis.network import Network"
   ]
  },
  {
   "cell_type": "markdown",
   "metadata": {},
   "source": [
    "## Загрузка данных из ВК ##"
   ]
  },
  {
   "cell_type": "markdown",
   "metadata": {},
   "source": [
    "Вызов метода для парсинга данных с группы ВК:"
   ]
  },
  {
   "cell_type": "code",
   "execution_count": 2,
   "metadata": {},
   "outputs": [
    {
     "name": "stdout",
     "output_type": "stream",
     "text": [
      "INFO: Pandarallel will run on -1 workers.\n",
      "INFO: Pandarallel will use standard multiprocessing data transfer (pipe) to transfer data between the main process and workers.\n"
     ]
    },
    {
     "name": "stderr",
     "output_type": "stream",
     "text": [
      "[nltk_data] Downloading package stopwords to\n",
      "[nltk_data]     /Users/sashamorozov/nltk_data...\n",
      "[nltk_data]   Package stopwords is already up-to-date!\n"
     ]
    }
   ],
   "source": [
    "from sloyka import VKParser "
   ]
  },
  {
   "cell_type": "markdown",
   "metadata": {},
   "source": [
    "Ввод `id` группы ВК, с которой будут парситься данные, в `token` сервисный ключ приложения ВК."
   ]
  },
  {
   "cell_type": "code",
   "execution_count": 3,
   "metadata": {},
   "outputs": [],
   "source": [
    "domain = 'mytndvor' # группа \"центральный район за комфортную среду обитания\"\n",
    "token = '...' # Сервисный ключ доступа из приложения ВК"
   ]
  },
  {
   "cell_type": "markdown",
   "metadata": {},
   "source": [
    "Запуск парсера, необходимо также уставновить дату, до которой будут выкачиваться тексты постов в формате \"гггг.мм.дд.\":"
   ]
  },
  {
   "cell_type": "code",
   "execution_count": 5,
   "metadata": {},
   "outputs": [
    {
     "name": "stdout",
     "output_type": "stream",
     "text": [
      "2024-02-25 08:30:00\n",
      "posts downloaded\n"
     ]
    },
    {
     "name": "stderr",
     "output_type": "stream",
     "text": [
      "100%|██████████| 100/100 [13:34<00:00,  8.14s/it]\n"
     ]
    },
    {
     "name": "stdout",
     "output_type": "stream",
     "text": [
      "comments downloaded\n"
     ]
    }
   ],
   "source": [
    "posts = VKParser().run_parser(domain, token, 1000, \"2024-03-15\") "
   ]
  },
  {
   "cell_type": "markdown",
   "metadata": {},
   "source": [
    "Результат:"
   ]
  },
  {
   "cell_type": "code",
   "execution_count": 6,
   "metadata": {},
   "outputs": [
    {
     "data": {
      "text/html": [
       "<div>\n",
       "<style scoped>\n",
       "    .dataframe tbody tr th:only-of-type {\n",
       "        vertical-align: middle;\n",
       "    }\n",
       "\n",
       "    .dataframe tbody tr th {\n",
       "        vertical-align: top;\n",
       "    }\n",
       "\n",
       "    .dataframe thead th {\n",
       "        text-align: right;\n",
       "    }\n",
       "</style>\n",
       "<table border=\"1\" class=\"dataframe\">\n",
       "  <thead>\n",
       "    <tr style=\"text-align: right;\">\n",
       "      <th></th>\n",
       "      <th>date</th>\n",
       "      <th>id</th>\n",
       "      <th>text</th>\n",
       "      <th>views.count</th>\n",
       "      <th>likes.count</th>\n",
       "      <th>reposts.count</th>\n",
       "      <th>type</th>\n",
       "      <th>link</th>\n",
       "      <th>post_id</th>\n",
       "      <th>parents_stack</th>\n",
       "    </tr>\n",
       "  </thead>\n",
       "  <tbody>\n",
       "    <tr>\n",
       "      <th>0</th>\n",
       "      <td>2024-04-13 18:30:00</td>\n",
       "      <td>339076</td>\n",
       "      <td>Жизнь дала трещину… У мусорного контейнера на ...</td>\n",
       "      <td>1479.0</td>\n",
       "      <td>26</td>\n",
       "      <td>4.0</td>\n",
       "      <td>post</td>\n",
       "      <td>NaN</td>\n",
       "      <td>NaN</td>\n",
       "      <td>NaN</td>\n",
       "    </tr>\n",
       "    <tr>\n",
       "      <th>1</th>\n",
       "      <td>2024-04-13 09:30:00</td>\n",
       "      <td>339022</td>\n",
       "      <td>С глаз долой - из сердца вон: закатали резиной...</td>\n",
       "      <td>2842.0</td>\n",
       "      <td>49</td>\n",
       "      <td>8.0</td>\n",
       "      <td>post</td>\n",
       "      <td>NaN</td>\n",
       "      <td>NaN</td>\n",
       "      <td>NaN</td>\n",
       "    </tr>\n",
       "    <tr>\n",
       "      <th>2</th>\n",
       "      <td>2024-04-12 18:30:00</td>\n",
       "      <td>338913</td>\n",
       "      <td>В среду вечером прошла очередная обучающая лек...</td>\n",
       "      <td>3376.0</td>\n",
       "      <td>69</td>\n",
       "      <td>10.0</td>\n",
       "      <td>post</td>\n",
       "      <td>NaN</td>\n",
       "      <td>NaN</td>\n",
       "      <td>NaN</td>\n",
       "    </tr>\n",
       "    <tr>\n",
       "      <th>3</th>\n",
       "      <td>2024-04-12 09:30:00</td>\n",
       "      <td>338809</td>\n",
       "      <td>Депутатов в МО Смольнинское с 1 апреля больше ...</td>\n",
       "      <td>9806.0</td>\n",
       "      <td>130</td>\n",
       "      <td>13.0</td>\n",
       "      <td>post</td>\n",
       "      <td>NaN</td>\n",
       "      <td>NaN</td>\n",
       "      <td>NaN</td>\n",
       "    </tr>\n",
       "    <tr>\n",
       "      <th>4</th>\n",
       "      <td>2024-04-11 18:30:00</td>\n",
       "      <td>338692</td>\n",
       "      <td>Гражданское неравнодушие и активизм по ходу пь...</td>\n",
       "      <td>4581.0</td>\n",
       "      <td>63</td>\n",
       "      <td>5.0</td>\n",
       "      <td>post</td>\n",
       "      <td>https://vk.com/wall-129354225_332885|Масленицу</td>\n",
       "      <td>NaN</td>\n",
       "      <td>NaN</td>\n",
       "    </tr>\n",
       "    <tr>\n",
       "      <th>...</th>\n",
       "      <td>...</td>\n",
       "      <td>...</td>\n",
       "      <td>...</td>\n",
       "      <td>...</td>\n",
       "      <td>...</td>\n",
       "      <td>...</td>\n",
       "      <td>...</td>\n",
       "      <td>...</td>\n",
       "      <td>...</td>\n",
       "      <td>...</td>\n",
       "    </tr>\n",
       "    <tr>\n",
       "      <th>7139</th>\n",
       "      <td>2024-02-25 20:37:21</td>\n",
       "      <td>330407</td>\n",
       "      <td>Фото красноречивые. И так практически повсюду.</td>\n",
       "      <td>NaN</td>\n",
       "      <td>1</td>\n",
       "      <td>NaN</td>\n",
       "      <td>comment</td>\n",
       "      <td>NaN</td>\n",
       "      <td>330306.0</td>\n",
       "      <td>None</td>\n",
       "    </tr>\n",
       "    <tr>\n",
       "      <th>7140</th>\n",
       "      <td>2024-02-26 15:55:02</td>\n",
       "      <td>330464</td>\n",
       "      <td>Муниципальные выборы уже давно не зависят от ч...</td>\n",
       "      <td>NaN</td>\n",
       "      <td>2</td>\n",
       "      <td>NaN</td>\n",
       "      <td>comment</td>\n",
       "      <td>NaN</td>\n",
       "      <td>330306.0</td>\n",
       "      <td>None</td>\n",
       "    </tr>\n",
       "    <tr>\n",
       "      <th>7141</th>\n",
       "      <td>2024-02-26 19:39:46</td>\n",
       "      <td>330518</td>\n",
       "      <td>Местные и наглые депутатишки . . Слушай .. Мне...</td>\n",
       "      <td>NaN</td>\n",
       "      <td>1</td>\n",
       "      <td>NaN</td>\n",
       "      <td>comment</td>\n",
       "      <td>NaN</td>\n",
       "      <td>330306.0</td>\n",
       "      <td>None</td>\n",
       "    </tr>\n",
       "    <tr>\n",
       "      <th>7142</th>\n",
       "      <td>2024-02-27 00:10:26</td>\n",
       "      <td>330551</td>\n",
       "      <td>Знайте . , что если у метро ( да любая ) откры...</td>\n",
       "      <td>NaN</td>\n",
       "      <td>0</td>\n",
       "      <td>NaN</td>\n",
       "      <td>comment</td>\n",
       "      <td>NaN</td>\n",
       "      <td>330306.0</td>\n",
       "      <td>None</td>\n",
       "    </tr>\n",
       "    <tr>\n",
       "      <th>7143</th>\n",
       "      <td>2024-02-27 03:48:32</td>\n",
       "      <td>330558</td>\n",
       "      <td>Я везде схожу. Для себя хотя бы очистить совес...</td>\n",
       "      <td>NaN</td>\n",
       "      <td>0</td>\n",
       "      <td>NaN</td>\n",
       "      <td>comment</td>\n",
       "      <td>NaN</td>\n",
       "      <td>330306.0</td>\n",
       "      <td>None</td>\n",
       "    </tr>\n",
       "  </tbody>\n",
       "</table>\n",
       "<p>7144 rows × 10 columns</p>\n",
       "</div>"
      ],
      "text/plain": [
       "                     date      id  \\\n",
       "0     2024-04-13 18:30:00  339076   \n",
       "1     2024-04-13 09:30:00  339022   \n",
       "2     2024-04-12 18:30:00  338913   \n",
       "3     2024-04-12 09:30:00  338809   \n",
       "4     2024-04-11 18:30:00  338692   \n",
       "...                   ...     ...   \n",
       "7139  2024-02-25 20:37:21  330407   \n",
       "7140  2024-02-26 15:55:02  330464   \n",
       "7141  2024-02-26 19:39:46  330518   \n",
       "7142  2024-02-27 00:10:26  330551   \n",
       "7143  2024-02-27 03:48:32  330558   \n",
       "\n",
       "                                                   text  views.count  \\\n",
       "0     Жизнь дала трещину… У мусорного контейнера на ...       1479.0   \n",
       "1     С глаз долой - из сердца вон: закатали резиной...       2842.0   \n",
       "2     В среду вечером прошла очередная обучающая лек...       3376.0   \n",
       "3     Депутатов в МО Смольнинское с 1 апреля больше ...       9806.0   \n",
       "4     Гражданское неравнодушие и активизм по ходу пь...       4581.0   \n",
       "...                                                 ...          ...   \n",
       "7139     Фото красноречивые. И так практически повсюду.          NaN   \n",
       "7140  Муниципальные выборы уже давно не зависят от ч...          NaN   \n",
       "7141  Местные и наглые депутатишки . . Слушай .. Мне...          NaN   \n",
       "7142  Знайте . , что если у метро ( да любая ) откры...          NaN   \n",
       "7143  Я везде схожу. Для себя хотя бы очистить совес...          NaN   \n",
       "\n",
       "      likes.count  reposts.count     type  \\\n",
       "0              26            4.0     post   \n",
       "1              49            8.0     post   \n",
       "2              69           10.0     post   \n",
       "3             130           13.0     post   \n",
       "4              63            5.0     post   \n",
       "...           ...            ...      ...   \n",
       "7139            1            NaN  comment   \n",
       "7140            2            NaN  comment   \n",
       "7141            1            NaN  comment   \n",
       "7142            0            NaN  comment   \n",
       "7143            0            NaN  comment   \n",
       "\n",
       "                                                link   post_id parents_stack  \n",
       "0                                                NaN       NaN           NaN  \n",
       "1                                                NaN       NaN           NaN  \n",
       "2                                                NaN       NaN           NaN  \n",
       "3                                                NaN       NaN           NaN  \n",
       "4     https://vk.com/wall-129354225_332885|Масленицу       NaN           NaN  \n",
       "...                                              ...       ...           ...  \n",
       "7139                                             NaN  330306.0          None  \n",
       "7140                                             NaN  330306.0          None  \n",
       "7141                                             NaN  330306.0          None  \n",
       "7142                                             NaN  330306.0          None  \n",
       "7143                                             NaN  330306.0          None  \n",
       "\n",
       "[7144 rows x 10 columns]"
      ]
     },
     "execution_count": 6,
     "metadata": {},
     "output_type": "execute_result"
    }
   ],
   "source": [
    "posts"
   ]
  },
  {
   "cell_type": "markdown",
   "metadata": {},
   "source": [
    "Сохранение результата в формате `.csv`:"
   ]
  },
  {
   "cell_type": "code",
   "execution_count": 7,
   "metadata": {},
   "outputs": [],
   "source": [
    "posts.to_csv('posts.csv', index=False)"
   ]
  },
  {
   "cell_type": "markdown",
   "metadata": {},
   "source": [
    "## Геокодирование ##"
   ]
  },
  {
   "cell_type": "markdown",
   "metadata": {},
   "source": [
    "Импорт Геокодера из Sloyka:"
   ]
  },
  {
   "cell_type": "code",
   "execution_count": 8,
   "metadata": {},
   "outputs": [
    {
     "name": "stdout",
     "output_type": "stream",
     "text": [
      "2024-04-13 21:56:41,724 SequenceTagger predicts: Dictionary with 5 tags: O, S-ADDRESS, B-ADDRESS, E-ADDRESS, I-ADDRESS\n"
     ]
    }
   ],
   "source": [
    "from sloyka import Geocoder\n",
    "geocoder = Geocoder()"
   ]
  },
  {
   "cell_type": "markdown",
   "metadata": {},
   "source": [
    "Запуск гекодера, на вход датафрейм `posts` и колонка `text` из него:"
   ]
  },
  {
   "cell_type": "code",
   "execution_count": 9,
   "metadata": {},
   "outputs": [],
   "source": [
    "import pandas as pd\n",
    "post = pd.read_csv('/Users/sashamorozov/Documents/Code/lib_sloyka/sloyka/examples/posts.csv')"
   ]
  },
  {
   "cell_type": "code",
   "execution_count": 10,
   "metadata": {},
   "outputs": [
    {
     "name": "stdout",
     "output_type": "stream",
     "text": [
      "\u001b[32m04-13 21:57\u001b[0m | \u001b[1mINFO    \u001b[0m | \u001b[36mclear_names started\u001b[0m\n",
      "\u001b[32m04-13 21:57\u001b[0m | \u001b[1mINFO    \u001b[0m | \u001b[36mget_street started\u001b[0m\n",
      "\u001b[32m04-13 21:57\u001b[0m | \u001b[1mINFO    \u001b[0m | \u001b[36mextract_ner_street started\u001b[0m\n"
     ]
    },
    {
     "name": "stderr",
     "output_type": "stream",
     "text": [
      " 91%|█████████ | 6512/7144 [00:32<00:02, 240.55it/s]"
     ]
    },
    {
     "name": "stdout",
     "output_type": "stream",
     "text": [
      "2024-04-13 21:57:36,403 Warning: An empty Sentence was created! Are there empty strings in your dataset?\n"
     ]
    },
    {
     "name": "stderr",
     "output_type": "stream",
     "text": [
      "100%|██████████| 7144/7144 [00:35<00:00, 201.24it/s]\n",
      "100%|██████████| 7144/7144 [00:30<00:00, 233.58it/s]"
     ]
    },
    {
     "name": "stdout",
     "output_type": "stream",
     "text": [
      "\u001b[32m04-13 21:58\u001b[0m | \u001b[1mINFO    \u001b[0m | \u001b[36mpattern1.sub started\u001b[0m\n"
     ]
    },
    {
     "name": "stderr",
     "output_type": "stream",
     "text": [
      "\n",
      "100%|██████████| 7144/7144 [00:00<00:00, 367639.72it/s]"
     ]
    },
    {
     "name": "stdout",
     "output_type": "stream",
     "text": [
      "\u001b[32m04-13 21:58\u001b[0m | \u001b[1mINFO    \u001b[0m | \u001b[36mpattern2.findall started\u001b[0m\n"
     ]
    },
    {
     "name": "stderr",
     "output_type": "stream",
     "text": [
      "\n",
      "100%|██████████| 7144/7144 [00:00<00:00, 688244.66it/s]"
     ]
    },
    {
     "name": "stdout",
     "output_type": "stream",
     "text": [
      "\u001b[32m04-13 21:58\u001b[0m | \u001b[1mINFO    \u001b[0m | \u001b[36mpattern2.sub started\u001b[0m\n"
     ]
    },
    {
     "name": "stderr",
     "output_type": "stream",
     "text": [
      "\n",
      "100%|██████████| 7144/7144 [00:00<00:00, 1007637.21it/s]"
     ]
    },
    {
     "name": "stdout",
     "output_type": "stream",
     "text": [
      "\u001b[32m04-13 21:58\u001b[0m | \u001b[1mINFO    \u001b[0m | \u001b[36mextract_building_num started\u001b[0m\n"
     ]
    },
    {
     "name": "stderr",
     "output_type": "stream",
     "text": [
      "\n",
      "100%|██████████| 7144/7144 [00:00<00:00, 57056.56it/s]"
     ]
    },
    {
     "name": "stdout",
     "output_type": "stream",
     "text": [
      "\u001b[32m04-13 21:58\u001b[0m | \u001b[1mINFO    \u001b[0m | \u001b[36mextract_toponym started\u001b[0m\n"
     ]
    },
    {
     "name": "stderr",
     "output_type": "stream",
     "text": [
      "\n",
      "100%|██████████| 7144/7144 [00:00<00:00, 11991.16it/s]"
     ]
    },
    {
     "name": "stdout",
     "output_type": "stream",
     "text": [
      "\u001b[32m04-13 21:58\u001b[0m | \u001b[1mINFO    \u001b[0m | \u001b[36mget_stem started\u001b[0m\n"
     ]
    },
    {
     "name": "stderr",
     "output_type": "stream",
     "text": [
      "\n"
     ]
    },
    {
     "name": "stdout",
     "output_type": "stream",
     "text": [
      "\u001b[32m04-13 21:58\u001b[0m | \u001b[1mINFO    \u001b[0m | \u001b[36mcreate_gdf started\u001b[0m\n"
     ]
    },
    {
     "name": "stderr",
     "output_type": "stream",
     "text": [
      "100%|██████████| 7898/7898 [10:02<00:00, 13.11it/s]  \n"
     ]
    }
   ],
   "source": [
    "res = geocoder.run(df=post, text_column='text')"
   ]
  },
  {
   "cell_type": "markdown",
   "metadata": {},
   "source": [
    "Результат:"
   ]
  },
  {
   "cell_type": "code",
   "execution_count": 11,
   "metadata": {},
   "outputs": [
    {
     "data": {
      "text/html": [
       "<div>\n",
       "<style scoped>\n",
       "    .dataframe tbody tr th:only-of-type {\n",
       "        vertical-align: middle;\n",
       "    }\n",
       "\n",
       "    .dataframe tbody tr th {\n",
       "        vertical-align: top;\n",
       "    }\n",
       "\n",
       "    .dataframe thead th {\n",
       "        text-align: right;\n",
       "    }\n",
       "</style>\n",
       "<table border=\"1\" class=\"dataframe\">\n",
       "  <thead>\n",
       "    <tr style=\"text-align: right;\">\n",
       "      <th></th>\n",
       "      <th>date</th>\n",
       "      <th>id</th>\n",
       "      <th>text</th>\n",
       "      <th>views.count</th>\n",
       "      <th>likes.count</th>\n",
       "      <th>reposts.count</th>\n",
       "      <th>type</th>\n",
       "      <th>link</th>\n",
       "      <th>post_id</th>\n",
       "      <th>parents_stack</th>\n",
       "      <th>...</th>\n",
       "      <th>Numbers</th>\n",
       "      <th>initial_street</th>\n",
       "      <th>Toponims</th>\n",
       "      <th>full_street_name</th>\n",
       "      <th>location_options</th>\n",
       "      <th>addr_to_geocode</th>\n",
       "      <th>only_full_street_name</th>\n",
       "      <th>only_full_street_name_numbers</th>\n",
       "      <th>Location</th>\n",
       "      <th>geometry</th>\n",
       "    </tr>\n",
       "  </thead>\n",
       "  <tbody>\n",
       "    <tr>\n",
       "      <th>0</th>\n",
       "      <td>2024-04-13 18:30:00</td>\n",
       "      <td>339076</td>\n",
       "      <td>Жизнь дала трещину… У мусорного контейнера на ...</td>\n",
       "      <td>1479.0</td>\n",
       "      <td>26</td>\n",
       "      <td>4.0</td>\n",
       "      <td>post</td>\n",
       "      <td>NaN</td>\n",
       "      <td>NaN</td>\n",
       "      <td>NaN</td>\n",
       "      <td>...</td>\n",
       "      <td></td>\n",
       "      <td>Восстания</td>\n",
       "      <td>улица</td>\n",
       "      <td>улица Восстания  Санкт-Петербург Россия</td>\n",
       "      <td>['улица Восстания  Санкт-Петербург Россия']</td>\n",
       "      <td>улица Восстания  Санкт-Петербург Россия</td>\n",
       "      <td>улица Восстания</td>\n",
       "      <td>улица Восстания</td>\n",
       "      <td>улица Восстания, Литейный округ, Санкт-Петербу...</td>\n",
       "      <td>POINT (30.35997 59.93145)</td>\n",
       "    </tr>\n",
       "    <tr>\n",
       "      <th>1</th>\n",
       "      <td>2024-04-13 09:30:00</td>\n",
       "      <td>339022</td>\n",
       "      <td>С глаз долой - из сердца вон: закатали резиной...</td>\n",
       "      <td>2842.0</td>\n",
       "      <td>49</td>\n",
       "      <td>8.0</td>\n",
       "      <td>post</td>\n",
       "      <td>NaN</td>\n",
       "      <td>NaN</td>\n",
       "      <td>NaN</td>\n",
       "      <td>...</td>\n",
       "      <td></td>\n",
       "      <td>Смольнинское</td>\n",
       "      <td>None</td>\n",
       "      <td>None</td>\n",
       "      <td>None</td>\n",
       "      <td>None</td>\n",
       "      <td>None</td>\n",
       "      <td>None</td>\n",
       "      <td>None</td>\n",
       "      <td>None</td>\n",
       "    </tr>\n",
       "    <tr>\n",
       "      <th>2</th>\n",
       "      <td>2024-04-12 18:30:00</td>\n",
       "      <td>338913</td>\n",
       "      <td>В среду вечером прошла очередная обучающая лек...</td>\n",
       "      <td>3376.0</td>\n",
       "      <td>69</td>\n",
       "      <td>10.0</td>\n",
       "      <td>post</td>\n",
       "      <td>NaN</td>\n",
       "      <td>NaN</td>\n",
       "      <td>NaN</td>\n",
       "      <td>...</td>\n",
       "      <td></td>\n",
       "      <td>Невском</td>\n",
       "      <td>None</td>\n",
       "      <td>Невский путепровод  Санкт-Петербург Россия,Нев...</td>\n",
       "      <td>['Невский путепровод  Санкт-Петербург Россия',...</td>\n",
       "      <td>Невский путепровод  Санкт-Петербург Россия</td>\n",
       "      <td>Невский путепровод</td>\n",
       "      <td>Невский путепровод</td>\n",
       "      <td>Невский путепровод, Ивановский округ, Санкт-Пе...</td>\n",
       "      <td>POINT (30.42609 59.86956)</td>\n",
       "    </tr>\n",
       "    <tr>\n",
       "      <th>2</th>\n",
       "      <td>2024-04-12 18:30:00</td>\n",
       "      <td>338913</td>\n",
       "      <td>В среду вечером прошла очередная обучающая лек...</td>\n",
       "      <td>3376.0</td>\n",
       "      <td>69</td>\n",
       "      <td>10.0</td>\n",
       "      <td>post</td>\n",
       "      <td>NaN</td>\n",
       "      <td>NaN</td>\n",
       "      <td>NaN</td>\n",
       "      <td>...</td>\n",
       "      <td></td>\n",
       "      <td>Невском</td>\n",
       "      <td>None</td>\n",
       "      <td>Невский путепровод  Санкт-Петербург Россия,Нев...</td>\n",
       "      <td>['Невский путепровод  Санкт-Петербург Россия',...</td>\n",
       "      <td>Невский путепровод  Санкт-Петербург Россия</td>\n",
       "      <td>Невский проспект</td>\n",
       "      <td>Невский проспект</td>\n",
       "      <td>Невский путепровод, Ивановский округ, Санкт-Пе...</td>\n",
       "      <td>POINT (30.42609 59.86956)</td>\n",
       "    </tr>\n",
       "    <tr>\n",
       "      <th>2</th>\n",
       "      <td>2024-04-12 18:30:00</td>\n",
       "      <td>338913</td>\n",
       "      <td>В среду вечером прошла очередная обучающая лек...</td>\n",
       "      <td>3376.0</td>\n",
       "      <td>69</td>\n",
       "      <td>10.0</td>\n",
       "      <td>post</td>\n",
       "      <td>NaN</td>\n",
       "      <td>NaN</td>\n",
       "      <td>NaN</td>\n",
       "      <td>...</td>\n",
       "      <td></td>\n",
       "      <td>Невском</td>\n",
       "      <td>None</td>\n",
       "      <td>Невский путепровод  Санкт-Петербург Россия,Нев...</td>\n",
       "      <td>['Невский путепровод  Санкт-Петербург Россия',...</td>\n",
       "      <td>Невский путепровод  Санкт-Петербург Россия</td>\n",
       "      <td>Невский переулок</td>\n",
       "      <td>Невский переулок</td>\n",
       "      <td>Невский путепровод, Ивановский округ, Санкт-Пе...</td>\n",
       "      <td>POINT (30.42609 59.86956)</td>\n",
       "    </tr>\n",
       "    <tr>\n",
       "      <th>...</th>\n",
       "      <td>...</td>\n",
       "      <td>...</td>\n",
       "      <td>...</td>\n",
       "      <td>...</td>\n",
       "      <td>...</td>\n",
       "      <td>...</td>\n",
       "      <td>...</td>\n",
       "      <td>...</td>\n",
       "      <td>...</td>\n",
       "      <td>...</td>\n",
       "      <td>...</td>\n",
       "      <td>...</td>\n",
       "      <td>...</td>\n",
       "      <td>...</td>\n",
       "      <td>...</td>\n",
       "      <td>...</td>\n",
       "      <td>...</td>\n",
       "      <td>...</td>\n",
       "      <td>...</td>\n",
       "      <td>...</td>\n",
       "      <td>...</td>\n",
       "    </tr>\n",
       "    <tr>\n",
       "      <th>7139</th>\n",
       "      <td>2024-02-25 20:37:21</td>\n",
       "      <td>330407</td>\n",
       "      <td>Фото красноречивые. И так практически повсюду.</td>\n",
       "      <td>NaN</td>\n",
       "      <td>1</td>\n",
       "      <td>NaN</td>\n",
       "      <td>comment</td>\n",
       "      <td>NaN</td>\n",
       "      <td>330306.0</td>\n",
       "      <td>NaN</td>\n",
       "      <td>...</td>\n",
       "      <td></td>\n",
       "      <td>None</td>\n",
       "      <td>None</td>\n",
       "      <td></td>\n",
       "      <td>['']</td>\n",
       "      <td></td>\n",
       "      <td>None</td>\n",
       "      <td>None</td>\n",
       "      <td>None</td>\n",
       "      <td>None</td>\n",
       "    </tr>\n",
       "    <tr>\n",
       "      <th>7140</th>\n",
       "      <td>2024-02-26 15:55:02</td>\n",
       "      <td>330464</td>\n",
       "      <td>Муниципальные выборы уже давно не зависят от ч...</td>\n",
       "      <td>NaN</td>\n",
       "      <td>2</td>\n",
       "      <td>NaN</td>\n",
       "      <td>comment</td>\n",
       "      <td>NaN</td>\n",
       "      <td>330306.0</td>\n",
       "      <td>NaN</td>\n",
       "      <td>...</td>\n",
       "      <td></td>\n",
       "      <td>None</td>\n",
       "      <td>None</td>\n",
       "      <td></td>\n",
       "      <td>['']</td>\n",
       "      <td></td>\n",
       "      <td>None</td>\n",
       "      <td>None</td>\n",
       "      <td>None</td>\n",
       "      <td>None</td>\n",
       "    </tr>\n",
       "    <tr>\n",
       "      <th>7141</th>\n",
       "      <td>2024-02-26 19:39:46</td>\n",
       "      <td>330518</td>\n",
       "      <td>Местные и наглые депутатишки . . Слушай .. Мне...</td>\n",
       "      <td>NaN</td>\n",
       "      <td>1</td>\n",
       "      <td>NaN</td>\n",
       "      <td>comment</td>\n",
       "      <td>NaN</td>\n",
       "      <td>330306.0</td>\n",
       "      <td>NaN</td>\n",
       "      <td>...</td>\n",
       "      <td></td>\n",
       "      <td>None</td>\n",
       "      <td>None</td>\n",
       "      <td></td>\n",
       "      <td>['']</td>\n",
       "      <td></td>\n",
       "      <td>None</td>\n",
       "      <td>None</td>\n",
       "      <td>None</td>\n",
       "      <td>None</td>\n",
       "    </tr>\n",
       "    <tr>\n",
       "      <th>7142</th>\n",
       "      <td>2024-02-27 00:10:26</td>\n",
       "      <td>330551</td>\n",
       "      <td>Знайте . , что если у метро ( да любая ) откры...</td>\n",
       "      <td>NaN</td>\n",
       "      <td>0</td>\n",
       "      <td>NaN</td>\n",
       "      <td>comment</td>\n",
       "      <td>NaN</td>\n",
       "      <td>330306.0</td>\n",
       "      <td>NaN</td>\n",
       "      <td>...</td>\n",
       "      <td></td>\n",
       "      <td>None</td>\n",
       "      <td>None</td>\n",
       "      <td></td>\n",
       "      <td>['']</td>\n",
       "      <td></td>\n",
       "      <td>None</td>\n",
       "      <td>None</td>\n",
       "      <td>None</td>\n",
       "      <td>None</td>\n",
       "    </tr>\n",
       "    <tr>\n",
       "      <th>7143</th>\n",
       "      <td>2024-02-27 03:48:32</td>\n",
       "      <td>330558</td>\n",
       "      <td>Я везде схожу. Для себя хотя бы очистить совес...</td>\n",
       "      <td>NaN</td>\n",
       "      <td>0</td>\n",
       "      <td>NaN</td>\n",
       "      <td>comment</td>\n",
       "      <td>NaN</td>\n",
       "      <td>330306.0</td>\n",
       "      <td>NaN</td>\n",
       "      <td>...</td>\n",
       "      <td></td>\n",
       "      <td>None</td>\n",
       "      <td>None</td>\n",
       "      <td></td>\n",
       "      <td>['']</td>\n",
       "      <td></td>\n",
       "      <td>None</td>\n",
       "      <td>None</td>\n",
       "      <td>None</td>\n",
       "      <td>None</td>\n",
       "    </tr>\n",
       "  </tbody>\n",
       "</table>\n",
       "<p>7898 rows × 22 columns</p>\n",
       "</div>"
      ],
      "text/plain": [
       "                     date      id  \\\n",
       "0     2024-04-13 18:30:00  339076   \n",
       "1     2024-04-13 09:30:00  339022   \n",
       "2     2024-04-12 18:30:00  338913   \n",
       "2     2024-04-12 18:30:00  338913   \n",
       "2     2024-04-12 18:30:00  338913   \n",
       "...                   ...     ...   \n",
       "7139  2024-02-25 20:37:21  330407   \n",
       "7140  2024-02-26 15:55:02  330464   \n",
       "7141  2024-02-26 19:39:46  330518   \n",
       "7142  2024-02-27 00:10:26  330551   \n",
       "7143  2024-02-27 03:48:32  330558   \n",
       "\n",
       "                                                   text  views.count  \\\n",
       "0     Жизнь дала трещину… У мусорного контейнера на ...       1479.0   \n",
       "1     С глаз долой - из сердца вон: закатали резиной...       2842.0   \n",
       "2     В среду вечером прошла очередная обучающая лек...       3376.0   \n",
       "2     В среду вечером прошла очередная обучающая лек...       3376.0   \n",
       "2     В среду вечером прошла очередная обучающая лек...       3376.0   \n",
       "...                                                 ...          ...   \n",
       "7139     Фото красноречивые. И так практически повсюду.          NaN   \n",
       "7140  Муниципальные выборы уже давно не зависят от ч...          NaN   \n",
       "7141  Местные и наглые депутатишки . . Слушай .. Мне...          NaN   \n",
       "7142  Знайте . , что если у метро ( да любая ) откры...          NaN   \n",
       "7143  Я везде схожу. Для себя хотя бы очистить совес...          NaN   \n",
       "\n",
       "      likes.count  reposts.count     type link   post_id  parents_stack  ...  \\\n",
       "0              26            4.0     post  NaN       NaN            NaN  ...   \n",
       "1              49            8.0     post  NaN       NaN            NaN  ...   \n",
       "2              69           10.0     post  NaN       NaN            NaN  ...   \n",
       "2              69           10.0     post  NaN       NaN            NaN  ...   \n",
       "2              69           10.0     post  NaN       NaN            NaN  ...   \n",
       "...           ...            ...      ...  ...       ...            ...  ...   \n",
       "7139            1            NaN  comment  NaN  330306.0            NaN  ...   \n",
       "7140            2            NaN  comment  NaN  330306.0            NaN  ...   \n",
       "7141            1            NaN  comment  NaN  330306.0            NaN  ...   \n",
       "7142            0            NaN  comment  NaN  330306.0            NaN  ...   \n",
       "7143            0            NaN  comment  NaN  330306.0            NaN  ...   \n",
       "\n",
       "     Numbers  initial_street Toponims  \\\n",
       "0                  Восстания    улица   \n",
       "1               Смольнинское     None   \n",
       "2                    Невском     None   \n",
       "2                    Невском     None   \n",
       "2                    Невском     None   \n",
       "...      ...             ...      ...   \n",
       "7139                    None     None   \n",
       "7140                    None     None   \n",
       "7141                    None     None   \n",
       "7142                    None     None   \n",
       "7143                    None     None   \n",
       "\n",
       "                                       full_street_name  \\\n",
       "0               улица Восстания  Санкт-Петербург Россия   \n",
       "1                                                  None   \n",
       "2     Невский путепровод  Санкт-Петербург Россия,Нев...   \n",
       "2     Невский путепровод  Санкт-Петербург Россия,Нев...   \n",
       "2     Невский путепровод  Санкт-Петербург Россия,Нев...   \n",
       "...                                                 ...   \n",
       "7139                                                      \n",
       "7140                                                      \n",
       "7141                                                      \n",
       "7142                                                      \n",
       "7143                                                      \n",
       "\n",
       "                                       location_options  \\\n",
       "0           ['улица Восстания  Санкт-Петербург Россия']   \n",
       "1                                                  None   \n",
       "2     ['Невский путепровод  Санкт-Петербург Россия',...   \n",
       "2     ['Невский путепровод  Санкт-Петербург Россия',...   \n",
       "2     ['Невский путепровод  Санкт-Петербург Россия',...   \n",
       "...                                                 ...   \n",
       "7139                                               ['']   \n",
       "7140                                               ['']   \n",
       "7141                                               ['']   \n",
       "7142                                               ['']   \n",
       "7143                                               ['']   \n",
       "\n",
       "                                 addr_to_geocode only_full_street_name  \\\n",
       "0        улица Восстания  Санкт-Петербург Россия       улица Восстания   \n",
       "1                                           None                  None   \n",
       "2     Невский путепровод  Санкт-Петербург Россия    Невский путепровод   \n",
       "2     Невский путепровод  Санкт-Петербург Россия      Невский проспект   \n",
       "2     Невский путепровод  Санкт-Петербург Россия      Невский переулок   \n",
       "...                                          ...                   ...   \n",
       "7139                                                              None   \n",
       "7140                                                              None   \n",
       "7141                                                              None   \n",
       "7142                                                              None   \n",
       "7143                                                              None   \n",
       "\n",
       "     only_full_street_name_numbers  \\\n",
       "0                  улица Восстания   \n",
       "1                             None   \n",
       "2               Невский путепровод   \n",
       "2                 Невский проспект   \n",
       "2                 Невский переулок   \n",
       "...                            ...   \n",
       "7139                          None   \n",
       "7140                          None   \n",
       "7141                          None   \n",
       "7142                          None   \n",
       "7143                          None   \n",
       "\n",
       "                                               Location  \\\n",
       "0     улица Восстания, Литейный округ, Санкт-Петербу...   \n",
       "1                                                  None   \n",
       "2     Невский путепровод, Ивановский округ, Санкт-Пе...   \n",
       "2     Невский путепровод, Ивановский округ, Санкт-Пе...   \n",
       "2     Невский путепровод, Ивановский округ, Санкт-Пе...   \n",
       "...                                                 ...   \n",
       "7139                                               None   \n",
       "7140                                               None   \n",
       "7141                                               None   \n",
       "7142                                               None   \n",
       "7143                                               None   \n",
       "\n",
       "                       geometry  \n",
       "0     POINT (30.35997 59.93145)  \n",
       "1                          None  \n",
       "2     POINT (30.42609 59.86956)  \n",
       "2     POINT (30.42609 59.86956)  \n",
       "2     POINT (30.42609 59.86956)  \n",
       "...                         ...  \n",
       "7139                       None  \n",
       "7140                       None  \n",
       "7141                       None  \n",
       "7142                       None  \n",
       "7143                       None  \n",
       "\n",
       "[7898 rows x 22 columns]"
      ]
     },
     "execution_count": 11,
     "metadata": {},
     "output_type": "execute_result"
    }
   ],
   "source": [
    "res"
   ]
  },
  {
   "cell_type": "markdown",
   "metadata": {},
   "source": [
    "Сохранение результата в формате `.csv`:"
   ]
  },
  {
   "cell_type": "code",
   "execution_count": 12,
   "metadata": {},
   "outputs": [],
   "source": [
    "res.to_csv('data_posts.csv', index=False) "
   ]
  },
  {
   "cell_type": "markdown",
   "metadata": {},
   "source": [
    "## Построение семантического графа ##"
   ]
  },
  {
   "cell_type": "markdown",
   "metadata": {},
   "source": [
    "Импорт метода для построения семантического графа:"
   ]
  },
  {
   "cell_type": "code",
   "execution_count": 13,
   "metadata": {},
   "outputs": [],
   "source": [
    "from sloyka import Semgraph\n",
    "sm = Semgraph(device='cpu')"
   ]
  },
  {
   "cell_type": "markdown",
   "metadata": {},
   "source": [
    "Сборка семантического графа на основе полученных данных:"
   ]
  },
  {
   "cell_type": "code",
   "execution_count": 14,
   "metadata": {},
   "outputs": [
    {
     "name": "stdout",
     "output_type": "stream",
     "text": [
      "Extracting keywords from post chains...\n"
     ]
    },
    {
     "name": "stderr",
     "output_type": "stream",
     "text": [
      "100%|██████████| 39/39 [02:19<00:00,  3.57s/it]\n"
     ]
    },
    {
     "name": "stdout",
     "output_type": "stream",
     "text": [
      "Extracting keywords from comment chains...\n"
     ]
    },
    {
     "name": "stderr",
     "output_type": "stream",
     "text": [
      "100%|██████████| 189/189 [00:42<00:00,  4.40it/s]\n"
     ]
    },
    {
     "name": "stdout",
     "output_type": "stream",
     "text": [
      "Extracting keywords from replies...\n"
     ]
    },
    {
     "name": "stderr",
     "output_type": "stream",
     "text": [
      "100%|██████████| 176/176 [00:17<00:00,  9.82it/s]\n"
     ]
    },
    {
     "name": "stdout",
     "output_type": "stream",
     "text": [
      "Calculating semantic closeness...\n"
     ]
    },
    {
     "name": "stderr",
     "output_type": "stream",
     "text": [
      "100%|██████████| 185136/185136 [04:21<00:00, 709.16it/s]\n"
     ]
    }
   ],
   "source": [
    "# На вход df с геокодированными данными\n",
    "G = sm.build_graph(res,\n",
    "                id_column='id',\n",
    "                text_column='text',\n",
    "                text_type_column='type',\n",
    "                toponym_column='only_full_street_name_numbers',\n",
    "                toponym_name_column='initial_street',\n",
    "                toponym_type_column='Toponims',\n",
    "                post_id_column='post_id',\n",
    "                parents_stack_column='parents_stack',\n",
    "                location_column='Location',\n",
    "                geometry_column='geometry')"
   ]
  },
  {
   "cell_type": "markdown",
   "metadata": {},
   "source": [
    "Сохранение графа в формате `graphml`:"
   ]
  },
  {
   "cell_type": "code",
   "execution_count": 15,
   "metadata": {},
   "outputs": [],
   "source": [
    "nx.write_graphml(G, 'sem_graph.graphml', encoding='utf-8')"
   ]
  },
  {
   "cell_type": "markdown",
   "metadata": {},
   "source": [
    "Визуализация графа в формате `html`:"
   ]
  },
  {
   "cell_type": "code",
   "execution_count": 16,
   "metadata": {},
   "outputs": [],
   "source": [
    "nt = Network('1000px', '1000px')\n",
    "nt.show_buttons(filter_=['physics'])\n",
    "nt.from_nx(G)\n",
    "\n",
    "nt.write_html('graph.html')"
   ]
  }
 ],
 "metadata": {
  "kernelspec": {
   "display_name": "venv",
   "language": "python",
   "name": "python3"
  },
  "language_info": {
   "codemirror_mode": {
    "name": "ipython",
    "version": 3
   },
   "file_extension": ".py",
   "mimetype": "text/x-python",
   "name": "python",
   "nbconvert_exporter": "python",
   "pygments_lexer": "ipython3",
   "version": "3.10.13"
  }
 },
 "nbformat": 4,
 "nbformat_minor": 2
}
