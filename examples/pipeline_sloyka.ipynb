{
 "cells": [
  {
   "cell_type": "markdown",
   "metadata": {},
   "source": [
    "# Pipeline Sloyka class"
   ]
  },
  {
   "cell_type": "markdown",
   "metadata": {},
   "source": [
    "Импорт модуля Pipeline из Sloyka:"
   ]
  },
  {
   "cell_type": "code",
   "execution_count": null,
   "metadata": {},
   "outputs": [],
   "source": [
    "%pip install sloyka"
   ]
  },
  {
   "cell_type": "code",
   "execution_count": 1,
   "metadata": {},
   "outputs": [
    {
     "name": "stderr",
     "output_type": "stream",
     "text": [
      "/Users/sashamorozov/Documents/Code/lib_sloyka/sloyka/.venv/lib/python3.10/site-packages/tqdm/auto.py:22: TqdmWarning: IProgress not found. Please update jupyter and ipywidgets. See https://ipywidgets.readthedocs.io/en/stable/user_install.html\n",
      "  from .autonotebook import tqdm as notebook_tqdm\n"
     ]
    },
    {
     "name": "stdout",
     "output_type": "stream",
     "text": [
      "INFO: Pandarallel will run on -1 workers.\n",
      "INFO: Pandarallel will use standard multiprocessing data transfer (pipe) to transfer data between the main process and workers.\n"
     ]
    },
    {
     "name": "stderr",
     "output_type": "stream",
     "text": [
      "[nltk_data] Downloading package stopwords to\n",
      "[nltk_data]     /Users/sashamorozov/nltk_data...\n",
      "[nltk_data]   Package stopwords is already up-to-date!\n"
     ]
    }
   ],
   "source": [
    "import sloyka\n",
    "from sloyka import Pipeline"
   ]
  },
  {
   "cell_type": "markdown",
   "metadata": {},
   "source": [
    "Передаем модулю неообходимые данные о территории, группе ВК, сервисном ключе и дате, до который выгружать посты:"
   ]
  },
  {
   "cell_type": "code",
   "execution_count": 2,
   "metadata": {},
   "outputs": [],
   "source": [
    "osm_city_name = 'Санкт-Петербург' # Выбор территории\n",
    "osm_city_level = 5 # Уровень админ. деления с ОСМ\n",
    "owner_id = \"-129354225\" # ID группы ВК (\"Центральный район за комфортную городскую среду\")\n",
    "token = '492f35ec492f35ec492f35ecdd4a3926724492f492f35ec2c17df616b6994a83242f520' # Сервисный ключ доступа из приложения ВК\n",
    "count = 100 # Кол-во постов в одном запросе\n",
    "date = \"2023-09-20\" # Дата, до которой парсятся посты"
   ]
  },
  {
   "cell_type": "markdown",
   "metadata": {},
   "source": [
    "Запуск модуля Pipeline, на выходе сохраняются и записываются три файла: выгруженные тексты постов, граф в формате `graphml`, визуализированный граф в `html`:"
   ]
  },
  {
   "cell_type": "code",
   "execution_count": 3,
   "metadata": {},
   "outputs": [
    {
     "name": "stdout",
     "output_type": "stream",
     "text": [
      "2024-02-14 10:30:00\n",
      "2023-12-27 19:30:00\n",
      "2023-11-08 10:30:00\n",
      "2023-09-20 19:30:00\n",
      "2023-08-03 19:30:00\n",
      "posts downloaded\n"
     ]
    },
    {
     "name": "stderr",
     "output_type": "stream",
     "text": [
      "100%|██████████| 500/500 [48:21<00:00,  5.80s/it]  \n"
     ]
    },
    {
     "name": "stdout",
     "output_type": "stream",
     "text": [
      "comments downloaded\n",
      "2024-04-03 12:50:33,040 SequenceTagger predicts: Dictionary with 5 tags: O, S-ADDRESS, B-ADDRESS, E-ADDRESS, I-ADDRESS\n",
      "\u001b[32m04-03 12:50\u001b[0m | \u001b[1mINFO    \u001b[0m | \u001b[36mclear_names started\u001b[0m\n",
      "\u001b[32m04-03 12:50\u001b[0m | \u001b[1mINFO    \u001b[0m | \u001b[36mget_street started\u001b[0m\n",
      "\u001b[32m04-03 12:50\u001b[0m | \u001b[1mINFO    \u001b[0m | \u001b[36mextract_ner_street started\u001b[0m\n"
     ]
    },
    {
     "name": "stderr",
     "output_type": "stream",
     "text": [
      "  4%|▍         | 979/25071 [00:13<02:33, 156.98it/s]"
     ]
    },
    {
     "name": "stdout",
     "output_type": "stream",
     "text": [
      "2024-04-03 12:51:02,550 Warning: An empty Sentence was created! Are there empty strings in your dataset?\n"
     ]
    },
    {
     "name": "stderr",
     "output_type": "stream",
     "text": [
      "  8%|▊         | 1905/25071 [00:18<02:00, 192.54it/s]"
     ]
    },
    {
     "name": "stdout",
     "output_type": "stream",
     "text": [
      "2024-04-03 12:51:07,457 Warning: An empty Sentence was created! Are there empty strings in your dataset?\n"
     ]
    },
    {
     "name": "stderr",
     "output_type": "stream",
     "text": [
      " 13%|█▎        | 3326/25071 [00:26<01:50, 196.25it/s]"
     ]
    },
    {
     "name": "stdout",
     "output_type": "stream",
     "text": [
      "2024-04-03 12:51:15,450 Warning: An empty Sentence was created! Are there empty strings in your dataset?\n",
      "2024-04-03 12:51:15,520 Warning: An empty Sentence was created! Are there empty strings in your dataset?\n"
     ]
    },
    {
     "name": "stderr",
     "output_type": "stream",
     "text": [
      " 13%|█▎        | 3367/25071 [00:26<01:53, 190.97it/s]"
     ]
    },
    {
     "name": "stdout",
     "output_type": "stream",
     "text": [
      "2024-04-03 12:51:15,771 Warning: An empty Sentence was created! Are there empty strings in your dataset?\n"
     ]
    },
    {
     "name": "stderr",
     "output_type": "stream",
     "text": [
      " 14%|█▍        | 3603/25071 [00:28<02:16, 156.71it/s]"
     ]
    },
    {
     "name": "stdout",
     "output_type": "stream",
     "text": [
      "2024-04-03 12:51:17,217 Warning: An empty Sentence was created! Are there empty strings in your dataset?\n"
     ]
    },
    {
     "name": "stderr",
     "output_type": "stream",
     "text": [
      " 16%|█▌        | 3966/25071 [00:30<02:14, 156.36it/s]"
     ]
    },
    {
     "name": "stdout",
     "output_type": "stream",
     "text": [
      "2024-04-03 12:51:19,318 Warning: An empty Sentence was created! Are there empty strings in your dataset?\n"
     ]
    },
    {
     "name": "stderr",
     "output_type": "stream",
     "text": [
      " 16%|█▌        | 4003/25071 [00:30<02:07, 165.27it/s]"
     ]
    },
    {
     "name": "stdout",
     "output_type": "stream",
     "text": [
      "2024-04-03 12:51:19,541 Warning: An empty Sentence was created! Are there empty strings in your dataset?\n"
     ]
    },
    {
     "name": "stderr",
     "output_type": "stream",
     "text": [
      " 19%|█▊        | 4672/25071 [00:34<01:47, 190.20it/s]"
     ]
    },
    {
     "name": "stdout",
     "output_type": "stream",
     "text": [
      "2024-04-03 12:51:23,253 Warning: An empty Sentence was created! Are there empty strings in your dataset?\n"
     ]
    },
    {
     "name": "stderr",
     "output_type": "stream",
     "text": [
      " 19%|█▉        | 4797/25071 [00:34<01:41, 199.66it/s]"
     ]
    },
    {
     "name": "stdout",
     "output_type": "stream",
     "text": [
      "2024-04-03 12:51:23,838 Warning: An empty Sentence was created! Are there empty strings in your dataset?\n"
     ]
    },
    {
     "name": "stderr",
     "output_type": "stream",
     "text": [
      " 20%|█▉        | 4904/25071 [00:35<01:44, 193.54it/s]"
     ]
    },
    {
     "name": "stdout",
     "output_type": "stream",
     "text": [
      "2024-04-03 12:51:24,387 Warning: An empty Sentence was created! Are there empty strings in your dataset?\n"
     ]
    },
    {
     "name": "stderr",
     "output_type": "stream",
     "text": [
      " 23%|██▎       | 5876/25071 [00:40<01:37, 197.68it/s]"
     ]
    },
    {
     "name": "stdout",
     "output_type": "stream",
     "text": [
      "2024-04-03 12:51:29,888 Warning: An empty Sentence was created! Are there empty strings in your dataset?\n"
     ]
    },
    {
     "name": "stderr",
     "output_type": "stream",
     "text": [
      " 24%|██▍       | 5959/25071 [00:41<01:43, 184.28it/s]"
     ]
    },
    {
     "name": "stdout",
     "output_type": "stream",
     "text": [
      "2024-04-03 12:51:30,334 Warning: An empty Sentence was created! Are there empty strings in your dataset?\n"
     ]
    },
    {
     "name": "stderr",
     "output_type": "stream",
     "text": [
      " 24%|██▍       | 5999/25071 [00:41<01:42, 185.29it/s]"
     ]
    },
    {
     "name": "stdout",
     "output_type": "stream",
     "text": [
      "2024-04-03 12:51:30,591 Warning: An empty Sentence was created! Are there empty strings in your dataset?\n"
     ]
    },
    {
     "name": "stderr",
     "output_type": "stream",
     "text": [
      " 26%|██▋       | 6587/25071 [00:44<02:14, 137.77it/s]"
     ]
    },
    {
     "name": "stdout",
     "output_type": "stream",
     "text": [
      "2024-04-03 12:51:34,055 Warning: An empty Sentence was created! Are there empty strings in your dataset?\n",
      "2024-04-03 12:51:34,065 Warning: An empty Sentence was created! Are there empty strings in your dataset?\n",
      "2024-04-03 12:51:34,066 Warning: An empty Sentence was created! Are there empty strings in your dataset?\n"
     ]
    },
    {
     "name": "stderr",
     "output_type": "stream",
     "text": [
      " 27%|██▋       | 6662/25071 [00:45<01:48, 170.35it/s]"
     ]
    },
    {
     "name": "stdout",
     "output_type": "stream",
     "text": [
      "2024-04-03 12:51:34,465 Warning: An empty Sentence was created! Are there empty strings in your dataset?\n"
     ]
    },
    {
     "name": "stderr",
     "output_type": "stream",
     "text": [
      " 27%|██▋       | 6753/25071 [00:45<01:45, 173.44it/s]"
     ]
    },
    {
     "name": "stdout",
     "output_type": "stream",
     "text": [
      "2024-04-03 12:51:35,030 Warning: An empty Sentence was created! Are there empty strings in your dataset?\n"
     ]
    },
    {
     "name": "stderr",
     "output_type": "stream",
     "text": [
      " 28%|██▊       | 6984/25071 [00:47<02:03, 146.42it/s]"
     ]
    },
    {
     "name": "stdout",
     "output_type": "stream",
     "text": [
      "2024-04-03 12:51:36,475 Warning: An empty Sentence was created! Are there empty strings in your dataset?\n"
     ]
    },
    {
     "name": "stderr",
     "output_type": "stream",
     "text": [
      " 36%|███▌      | 8939/25071 [00:58<01:40, 161.08it/s]"
     ]
    },
    {
     "name": "stdout",
     "output_type": "stream",
     "text": [
      "2024-04-03 12:51:47,767 Warning: An empty Sentence was created! Are there empty strings in your dataset?\n"
     ]
    },
    {
     "name": "stderr",
     "output_type": "stream",
     "text": [
      " 37%|███▋      | 9221/25071 [01:00<01:36, 164.20it/s]"
     ]
    },
    {
     "name": "stdout",
     "output_type": "stream",
     "text": [
      "2024-04-03 12:51:49,473 Warning: An empty Sentence was created! Are there empty strings in your dataset?\n"
     ]
    },
    {
     "name": "stderr",
     "output_type": "stream",
     "text": [
      " 39%|███▉      | 9831/25071 [01:03<01:22, 185.27it/s]"
     ]
    },
    {
     "name": "stdout",
     "output_type": "stream",
     "text": [
      "2024-04-03 12:51:52,655 Warning: An empty Sentence was created! Are there empty strings in your dataset?\n"
     ]
    },
    {
     "name": "stderr",
     "output_type": "stream",
     "text": [
      " 40%|███▉      | 10024/25071 [01:04<01:26, 173.27it/s]"
     ]
    },
    {
     "name": "stdout",
     "output_type": "stream",
     "text": [
      "2024-04-03 12:51:53,825 Warning: An empty Sentence was created! Are there empty strings in your dataset?\n"
     ]
    },
    {
     "name": "stderr",
     "output_type": "stream",
     "text": [
      " 42%|████▏     | 10632/25071 [01:08<01:34, 153.33it/s]"
     ]
    },
    {
     "name": "stdout",
     "output_type": "stream",
     "text": [
      "2024-04-03 12:51:57,431 Warning: An empty Sentence was created! Are there empty strings in your dataset?\n"
     ]
    },
    {
     "name": "stderr",
     "output_type": "stream",
     "text": [
      " 44%|████▍     | 11143/25071 [01:11<01:16, 181.93it/s]"
     ]
    },
    {
     "name": "stdout",
     "output_type": "stream",
     "text": [
      "2024-04-03 12:52:00,322 Warning: An empty Sentence was created! Are there empty strings in your dataset?\n"
     ]
    },
    {
     "name": "stderr",
     "output_type": "stream",
     "text": [
      " 47%|████▋     | 11901/25071 [01:15<01:14, 176.18it/s]"
     ]
    },
    {
     "name": "stdout",
     "output_type": "stream",
     "text": [
      "2024-04-03 12:52:04,596 Warning: An empty Sentence was created! Are there empty strings in your dataset?\n",
      "2024-04-03 12:52:04,597 Warning: An empty Sentence was created! Are there empty strings in your dataset?\n",
      "2024-04-03 12:52:04,597 Warning: An empty Sentence was created! Are there empty strings in your dataset?\n",
      "2024-04-03 12:52:04,597 Warning: An empty Sentence was created! Are there empty strings in your dataset?\n",
      "2024-04-03 12:52:04,598 Warning: An empty Sentence was created! Are there empty strings in your dataset?\n"
     ]
    },
    {
     "name": "stderr",
     "output_type": "stream",
     "text": [
      " 48%|████▊     | 11919/25071 [01:15<01:14, 176.06it/s]"
     ]
    },
    {
     "name": "stdout",
     "output_type": "stream",
     "text": [
      "2024-04-03 12:52:04,676 Warning: An empty Sentence was created! Are there empty strings in your dataset?\n"
     ]
    },
    {
     "name": "stderr",
     "output_type": "stream",
     "text": [
      " 49%|████▊     | 12179/25071 [01:17<01:18, 164.19it/s]"
     ]
    },
    {
     "name": "stdout",
     "output_type": "stream",
     "text": [
      "2024-04-03 12:52:06,162 Warning: An empty Sentence was created! Are there empty strings in your dataset?\n"
     ]
    },
    {
     "name": "stderr",
     "output_type": "stream",
     "text": [
      " 49%|████▉     | 12311/25071 [01:17<01:16, 167.50it/s]"
     ]
    },
    {
     "name": "stdout",
     "output_type": "stream",
     "text": [
      "2024-04-03 12:52:07,004 Warning: An empty Sentence was created! Are there empty strings in your dataset?\n"
     ]
    },
    {
     "name": "stderr",
     "output_type": "stream",
     "text": [
      " 50%|█████     | 12621/25071 [01:19<01:11, 175.16it/s]"
     ]
    },
    {
     "name": "stdout",
     "output_type": "stream",
     "text": [
      "2024-04-03 12:52:08,694 Warning: An empty Sentence was created! Are there empty strings in your dataset?\n"
     ]
    },
    {
     "name": "stderr",
     "output_type": "stream",
     "text": [
      " 55%|█████▍    | 13696/25071 [01:25<01:04, 176.45it/s]"
     ]
    },
    {
     "name": "stdout",
     "output_type": "stream",
     "text": [
      "2024-04-03 12:52:14,895 Warning: An empty Sentence was created! Are there empty strings in your dataset?\n"
     ]
    },
    {
     "name": "stderr",
     "output_type": "stream",
     "text": [
      " 57%|█████▋    | 14401/25071 [01:29<00:59, 177.86it/s]"
     ]
    },
    {
     "name": "stdout",
     "output_type": "stream",
     "text": [
      "2024-04-03 12:52:19,056 Warning: An empty Sentence was created! Are there empty strings in your dataset?\n"
     ]
    },
    {
     "name": "stderr",
     "output_type": "stream",
     "text": [
      " 58%|█████▊    | 14619/25071 [01:31<00:55, 187.41it/s]"
     ]
    },
    {
     "name": "stdout",
     "output_type": "stream",
     "text": [
      "2024-04-03 12:52:20,223 Warning: An empty Sentence was created! Are there empty strings in your dataset?\n"
     ]
    },
    {
     "name": "stderr",
     "output_type": "stream",
     "text": [
      " 59%|█████▊    | 14695/25071 [01:31<00:58, 177.07it/s]"
     ]
    },
    {
     "name": "stdout",
     "output_type": "stream",
     "text": [
      "2024-04-03 12:52:20,680 Warning: An empty Sentence was created! Are there empty strings in your dataset?\n"
     ]
    },
    {
     "name": "stderr",
     "output_type": "stream",
     "text": [
      " 62%|██████▏   | 15435/25071 [01:35<00:54, 176.24it/s]"
     ]
    },
    {
     "name": "stdout",
     "output_type": "stream",
     "text": [
      "2024-04-03 12:52:25,074 Warning: An empty Sentence was created! Are there empty strings in your dataset?\n"
     ]
    },
    {
     "name": "stderr",
     "output_type": "stream",
     "text": [
      " 62%|██████▏   | 15606/25071 [01:36<00:51, 183.42it/s]"
     ]
    },
    {
     "name": "stdout",
     "output_type": "stream",
     "text": [
      "2024-04-03 12:52:26,037 Warning: An empty Sentence was created! Are there empty strings in your dataset?\n"
     ]
    },
    {
     "name": "stderr",
     "output_type": "stream",
     "text": [
      " 64%|██████▎   | 15938/25071 [01:38<00:51, 176.55it/s]"
     ]
    },
    {
     "name": "stdout",
     "output_type": "stream",
     "text": [
      "2024-04-03 12:52:27,848 Warning: An empty Sentence was created! Are there empty strings in your dataset?\n"
     ]
    },
    {
     "name": "stderr",
     "output_type": "stream",
     "text": [
      " 64%|██████▍   | 16050/25071 [01:39<00:50, 180.11it/s]"
     ]
    },
    {
     "name": "stdout",
     "output_type": "stream",
     "text": [
      "2024-04-03 12:52:28,575 Warning: An empty Sentence was created! Are there empty strings in your dataset?\n",
      "2024-04-03 12:52:28,580 Warning: An empty Sentence was created! Are there empty strings in your dataset?\n",
      "2024-04-03 12:52:28,580 Warning: An empty Sentence was created! Are there empty strings in your dataset?\n"
     ]
    },
    {
     "name": "stderr",
     "output_type": "stream",
     "text": [
      " 64%|██████▍   | 16135/25071 [01:39<00:46, 190.56it/s]"
     ]
    },
    {
     "name": "stdout",
     "output_type": "stream",
     "text": [
      "2024-04-03 12:52:29,044 Warning: An empty Sentence was created! Are there empty strings in your dataset?\n"
     ]
    },
    {
     "name": "stderr",
     "output_type": "stream",
     "text": [
      " 64%|██████▍   | 16155/25071 [01:39<00:48, 184.29it/s]"
     ]
    },
    {
     "name": "stdout",
     "output_type": "stream",
     "text": [
      "2024-04-03 12:52:29,045 Warning: An empty Sentence was created! Are there empty strings in your dataset?\n"
     ]
    },
    {
     "name": "stderr",
     "output_type": "stream",
     "text": [
      " 69%|██████▊   | 17185/25071 [01:45<00:43, 180.06it/s]"
     ]
    },
    {
     "name": "stdout",
     "output_type": "stream",
     "text": [
      "2024-04-03 12:52:34,944 Warning: An empty Sentence was created! Are there empty strings in your dataset?\n"
     ]
    },
    {
     "name": "stderr",
     "output_type": "stream",
     "text": [
      " 69%|██████▊   | 17204/25071 [01:45<00:44, 178.35it/s]"
     ]
    },
    {
     "name": "stdout",
     "output_type": "stream",
     "text": [
      "2024-04-03 12:52:35,105 Warning: An empty Sentence was created! Are there empty strings in your dataset?\n",
      "2024-04-03 12:52:35,106 Warning: An empty Sentence was created! Are there empty strings in your dataset?\n"
     ]
    },
    {
     "name": "stderr",
     "output_type": "stream",
     "text": [
      " 69%|██████▉   | 17277/25071 [01:46<00:44, 176.48it/s]"
     ]
    },
    {
     "name": "stdout",
     "output_type": "stream",
     "text": [
      "2024-04-03 12:52:35,479 Warning: An empty Sentence was created! Are there empty strings in your dataset?\n"
     ]
    },
    {
     "name": "stderr",
     "output_type": "stream",
     "text": [
      " 72%|███████▏  | 18094/25071 [01:51<00:43, 159.59it/s]"
     ]
    },
    {
     "name": "stdout",
     "output_type": "stream",
     "text": [
      "2024-04-03 12:52:40,254 Warning: An empty Sentence was created! Are there empty strings in your dataset?\n"
     ]
    },
    {
     "name": "stderr",
     "output_type": "stream",
     "text": [
      " 73%|███████▎  | 18303/25071 [01:52<00:39, 171.38it/s]"
     ]
    },
    {
     "name": "stdout",
     "output_type": "stream",
     "text": [
      "2024-04-03 12:52:41,424 Warning: An empty Sentence was created! Are there empty strings in your dataset?\n"
     ]
    },
    {
     "name": "stderr",
     "output_type": "stream",
     "text": [
      " 73%|███████▎  | 18409/25071 [01:52<00:33, 196.74it/s]"
     ]
    },
    {
     "name": "stdout",
     "output_type": "stream",
     "text": [
      "2024-04-03 12:52:41,959 Warning: An empty Sentence was created! Are there empty strings in your dataset?\n",
      "2024-04-03 12:52:42,010 Warning: An empty Sentence was created! Are there empty strings in your dataset?\n"
     ]
    },
    {
     "name": "stderr",
     "output_type": "stream",
     "text": [
      " 74%|███████▎  | 18449/25071 [01:53<00:35, 189.03it/s]"
     ]
    },
    {
     "name": "stdout",
     "output_type": "stream",
     "text": [
      "2024-04-03 12:52:42,209 Warning: An empty Sentence was created! Are there empty strings in your dataset?\n"
     ]
    },
    {
     "name": "stderr",
     "output_type": "stream",
     "text": [
      " 74%|███████▍  | 18610/25071 [01:53<00:33, 190.89it/s]"
     ]
    },
    {
     "name": "stdout",
     "output_type": "stream",
     "text": [
      "2024-04-03 12:52:43,027 Warning: An empty Sentence was created! Are there empty strings in your dataset?\n",
      "2024-04-03 12:52:43,028 Warning: An empty Sentence was created! Are there empty strings in your dataset?\n"
     ]
    },
    {
     "name": "stderr",
     "output_type": "stream",
     "text": [
      " 78%|███████▊  | 19459/25071 [01:58<00:35, 156.06it/s]"
     ]
    },
    {
     "name": "stdout",
     "output_type": "stream",
     "text": [
      "2024-04-03 12:52:48,096 Warning: An empty Sentence was created! Are there empty strings in your dataset?\n",
      "2024-04-03 12:52:48,097 Warning: An empty Sentence was created! Are there empty strings in your dataset?\n"
     ]
    },
    {
     "name": "stderr",
     "output_type": "stream",
     "text": [
      " 78%|███████▊  | 19480/25071 [01:59<00:33, 169.28it/s]"
     ]
    },
    {
     "name": "stdout",
     "output_type": "stream",
     "text": [
      "2024-04-03 12:52:48,248 Warning: An empty Sentence was created! Are there empty strings in your dataset?\n",
      "2024-04-03 12:52:48,255 Warning: An empty Sentence was created! Are there empty strings in your dataset?\n"
     ]
    },
    {
     "name": "stderr",
     "output_type": "stream",
     "text": [
      " 79%|███████▉  | 19889/25071 [02:01<00:26, 197.78it/s]"
     ]
    },
    {
     "name": "stdout",
     "output_type": "stream",
     "text": [
      "2024-04-03 12:52:50,622 Warning: An empty Sentence was created! Are there empty strings in your dataset?\n"
     ]
    },
    {
     "name": "stderr",
     "output_type": "stream",
     "text": [
      " 80%|███████▉  | 19948/25071 [02:01<00:27, 187.15it/s]"
     ]
    },
    {
     "name": "stdout",
     "output_type": "stream",
     "text": [
      "2024-04-03 12:52:50,880 Warning: An empty Sentence was created! Are there empty strings in your dataset?\n"
     ]
    },
    {
     "name": "stderr",
     "output_type": "stream",
     "text": [
      " 81%|████████  | 20292/25071 [02:03<00:26, 178.15it/s]"
     ]
    },
    {
     "name": "stdout",
     "output_type": "stream",
     "text": [
      "2024-04-03 12:52:52,928 Warning: An empty Sentence was created! Are there empty strings in your dataset?\n"
     ]
    },
    {
     "name": "stderr",
     "output_type": "stream",
     "text": [
      " 81%|████████▏ | 20410/25071 [02:04<00:25, 183.98it/s]"
     ]
    },
    {
     "name": "stdout",
     "output_type": "stream",
     "text": [
      "2024-04-03 12:52:53,587 Warning: An empty Sentence was created! Are there empty strings in your dataset?\n"
     ]
    },
    {
     "name": "stderr",
     "output_type": "stream",
     "text": [
      " 81%|████████▏ | 20429/25071 [02:04<00:25, 183.35it/s]"
     ]
    },
    {
     "name": "stdout",
     "output_type": "stream",
     "text": [
      "2024-04-03 12:52:53,736 Warning: An empty Sentence was created! Are there empty strings in your dataset?\n"
     ]
    },
    {
     "name": "stderr",
     "output_type": "stream",
     "text": [
      " 82%|████████▏ | 20465/25071 [02:04<00:28, 162.38it/s]"
     ]
    },
    {
     "name": "stdout",
     "output_type": "stream",
     "text": [
      "2024-04-03 12:52:53,872 Warning: An empty Sentence was created! Are there empty strings in your dataset?\n"
     ]
    },
    {
     "name": "stderr",
     "output_type": "stream",
     "text": [
      " 83%|████████▎ | 20695/25071 [02:06<00:25, 174.28it/s]"
     ]
    },
    {
     "name": "stdout",
     "output_type": "stream",
     "text": [
      "2024-04-03 12:52:55,249 Warning: An empty Sentence was created! Are there empty strings in your dataset?\n"
     ]
    },
    {
     "name": "stderr",
     "output_type": "stream",
     "text": [
      " 83%|████████▎ | 20718/25071 [02:06<00:23, 189.07it/s]"
     ]
    },
    {
     "name": "stdout",
     "output_type": "stream",
     "text": [
      "2024-04-03 12:52:55,318 Warning: An empty Sentence was created! Are there empty strings in your dataset?\n",
      "2024-04-03 12:52:55,319 Warning: An empty Sentence was created! Are there empty strings in your dataset?\n"
     ]
    },
    {
     "name": "stderr",
     "output_type": "stream",
     "text": [
      " 85%|████████▍ | 21187/25071 [02:08<00:20, 188.10it/s]"
     ]
    },
    {
     "name": "stdout",
     "output_type": "stream",
     "text": [
      "2024-04-03 12:52:57,907 Warning: An empty Sentence was created! Are there empty strings in your dataset?\n"
     ]
    },
    {
     "name": "stderr",
     "output_type": "stream",
     "text": [
      " 85%|████████▍ | 21207/25071 [02:08<00:20, 187.64it/s]"
     ]
    },
    {
     "name": "stdout",
     "output_type": "stream",
     "text": [
      "2024-04-03 12:52:58,074 Warning: An empty Sentence was created! Are there empty strings in your dataset?\n"
     ]
    },
    {
     "name": "stderr",
     "output_type": "stream",
     "text": [
      " 87%|████████▋ | 21864/25071 [02:12<00:17, 180.97it/s]"
     ]
    },
    {
     "name": "stdout",
     "output_type": "stream",
     "text": [
      "2024-04-03 12:53:01,578 Warning: An empty Sentence was created! Are there empty strings in your dataset?\n"
     ]
    },
    {
     "name": "stderr",
     "output_type": "stream",
     "text": [
      " 88%|████████▊ | 22102/25071 [02:13<00:17, 174.07it/s]"
     ]
    },
    {
     "name": "stdout",
     "output_type": "stream",
     "text": [
      "2024-04-03 12:53:03,133 Warning: An empty Sentence was created! Are there empty strings in your dataset?\n"
     ]
    },
    {
     "name": "stderr",
     "output_type": "stream",
     "text": [
      " 88%|████████▊ | 22166/25071 [02:14<00:22, 130.74it/s]"
     ]
    },
    {
     "name": "stdout",
     "output_type": "stream",
     "text": [
      "2024-04-03 12:53:03,685 Warning: An empty Sentence was created! Are there empty strings in your dataset?\n"
     ]
    },
    {
     "name": "stderr",
     "output_type": "stream",
     "text": [
      " 96%|█████████▋| 24140/25071 [02:25<00:05, 181.59it/s]"
     ]
    },
    {
     "name": "stdout",
     "output_type": "stream",
     "text": [
      "2024-04-03 12:53:14,899 Warning: An empty Sentence was created! Are there empty strings in your dataset?\n"
     ]
    },
    {
     "name": "stderr",
     "output_type": "stream",
     "text": [
      " 98%|█████████▊| 24456/25071 [02:27<00:03, 164.01it/s]"
     ]
    },
    {
     "name": "stdout",
     "output_type": "stream",
     "text": [
      "2024-04-03 12:53:16,901 Warning: An empty Sentence was created! Are there empty strings in your dataset?\n",
      "2024-04-03 12:53:16,931 Warning: An empty Sentence was created! Are there empty strings in your dataset?\n"
     ]
    },
    {
     "name": "stderr",
     "output_type": "stream",
     "text": [
      "100%|█████████▉| 24946/25071 [02:30<00:00, 165.56it/s]"
     ]
    },
    {
     "name": "stdout",
     "output_type": "stream",
     "text": [
      "2024-04-03 12:53:20,173 Warning: An empty Sentence was created! Are there empty strings in your dataset?\n"
     ]
    },
    {
     "name": "stderr",
     "output_type": "stream",
     "text": [
      "100%|██████████| 25071/25071 [02:32<00:00, 164.76it/s]\n",
      " 94%|█████████▎| 23471/25071 [02:17<00:09, 170.84it/s]\n"
     ]
    },
    {
     "ename": "ValueError",
     "evalue": "zero-size array to reduction operation minimum which has no identity",
     "output_type": "error",
     "traceback": [
      "\u001b[0;31m---------------------------------------------------------------------------\u001b[0m",
      "\u001b[0;31mValueError\u001b[0m                                Traceback (most recent call last)",
      "Cell \u001b[0;32mIn[3], line 2\u001b[0m\n\u001b[1;32m      1\u001b[0m test \u001b[38;5;241m=\u001b[39m Pipeline(owner_id, token, count, date, osm_city_name, osm_city_level)\n\u001b[0;32m----> 2\u001b[0m posts, graph \u001b[38;5;241m=\u001b[39m \u001b[43mtest\u001b[49m\u001b[38;5;241;43m.\u001b[39;49m\u001b[43mprocess\u001b[49m\u001b[43m(\u001b[49m\u001b[43m)\u001b[49m\n",
      "File \u001b[0;32m~/Documents/Code/lib_sloyka/sloyka/sloyka/src/pipeline.py:97\u001b[0m, in \u001b[0;36mPipeline.process\u001b[0;34m(self)\u001b[0m\n\u001b[1;32m     95\u001b[0m \u001b[38;5;28mself\u001b[39m\u001b[38;5;241m.\u001b[39mget_posts()\n\u001b[1;32m     96\u001b[0m \u001b[38;5;28mself\u001b[39m\u001b[38;5;241m.\u001b[39msave_posts_csv()\n\u001b[0;32m---> 97\u001b[0m \u001b[38;5;28;43mself\u001b[39;49m\u001b[38;5;241;43m.\u001b[39;49m\u001b[43mgeocoding\u001b[49m\u001b[43m(\u001b[49m\u001b[43m)\u001b[49m\n\u001b[1;32m     98\u001b[0m \u001b[38;5;28mself\u001b[39m\u001b[38;5;241m.\u001b[39mbuild_semantic_graph()\n\u001b[1;32m     99\u001b[0m \u001b[38;5;28mself\u001b[39m\u001b[38;5;241m.\u001b[39msave_graphml()\n",
      "File \u001b[0;32m~/Documents/Code/lib_sloyka/sloyka/sloyka/src/pipeline.py:57\u001b[0m, in \u001b[0;36mPipeline.geocoding\u001b[0;34m(self, text_column)\u001b[0m\n\u001b[1;32m     55\u001b[0m \u001b[38;5;28;01mdef\u001b[39;00m \u001b[38;5;21mgeocoding\u001b[39m(\u001b[38;5;28mself\u001b[39m, text_column\u001b[38;5;241m=\u001b[39m\u001b[38;5;124m'\u001b[39m\u001b[38;5;124mtext\u001b[39m\u001b[38;5;124m'\u001b[39m):\n\u001b[1;32m     56\u001b[0m     geocoder \u001b[38;5;241m=\u001b[39m Geocoder(osm_city_name\u001b[38;5;241m=\u001b[39m\u001b[38;5;28mself\u001b[39m\u001b[38;5;241m.\u001b[39mosm_city_name, osm_city_level\u001b[38;5;241m=\u001b[39m\u001b[38;5;28mself\u001b[39m\u001b[38;5;241m.\u001b[39mosm_city_level)\n\u001b[0;32m---> 57\u001b[0m     \u001b[38;5;28mself\u001b[39m\u001b[38;5;241m.\u001b[39mres \u001b[38;5;241m=\u001b[39m \u001b[43mgeocoder\u001b[49m\u001b[38;5;241;43m.\u001b[39;49m\u001b[43mrun\u001b[49m\u001b[43m(\u001b[49m\u001b[43mdf\u001b[49m\u001b[38;5;241;43m=\u001b[39;49m\u001b[38;5;28;43mself\u001b[39;49m\u001b[38;5;241;43m.\u001b[39;49m\u001b[43mposts\u001b[49m\u001b[43m,\u001b[49m\u001b[43m \u001b[49m\u001b[43mtext_column\u001b[49m\u001b[38;5;241;43m=\u001b[39;49m\u001b[43mtext_column\u001b[49m\u001b[43m)\u001b[49m\n",
      "File \u001b[0;32m~/Documents/Code/lib_sloyka/sloyka/sloyka/src/geocoder.py:733\u001b[0m, in \u001b[0;36mGeocoder.run\u001b[0;34m(self, df, text_column)\u001b[0m\n\u001b[1;32m    730\u001b[0m \u001b[38;5;66;03m# initial_df = df.copy()\u001b[39;00m\n\u001b[1;32m    731\u001b[0m street_names \u001b[38;5;241m=\u001b[39m Streets\u001b[38;5;241m.\u001b[39mrun(\u001b[38;5;28mself\u001b[39m\u001b[38;5;241m.\u001b[39mosm_city_name, \u001b[38;5;28mself\u001b[39m\u001b[38;5;241m.\u001b[39mosm_city_level)\n\u001b[0;32m--> 733\u001b[0m df \u001b[38;5;241m=\u001b[39m \u001b[38;5;28;43mself\u001b[39;49m\u001b[38;5;241;43m.\u001b[39;49m\u001b[43mget_street\u001b[49m\u001b[43m(\u001b[49m\u001b[43mdf\u001b[49m\u001b[43m,\u001b[49m\u001b[43m \u001b[49m\u001b[43mtext_column\u001b[49m\u001b[43m)\u001b[49m\n\u001b[1;32m    734\u001b[0m street_names \u001b[38;5;241m=\u001b[39m \u001b[38;5;28mself\u001b[39m\u001b[38;5;241m.\u001b[39mget_stem(street_names)\n\u001b[1;32m    735\u001b[0m df \u001b[38;5;241m=\u001b[39m \u001b[38;5;28mself\u001b[39m\u001b[38;5;241m.\u001b[39mfind_word_form(df, street_names)\n",
      "File \u001b[0;32m~/Documents/Code/lib_sloyka/sloyka/sloyka/src/geocoder.py:604\u001b[0m, in \u001b[0;36mGeocoder.get_street\u001b[0;34m(self, df, text_column)\u001b[0m\n\u001b[1;32m    599\u001b[0m logger\u001b[38;5;241m.\u001b[39minfo(\u001b[38;5;124m'\u001b[39m\u001b[38;5;124mextract_ner_street started\u001b[39m\u001b[38;5;124m'\u001b[39m)\n\u001b[1;32m    601\u001b[0m df[[\u001b[38;5;124m\"\u001b[39m\u001b[38;5;124mStreet\u001b[39m\u001b[38;5;124m\"\u001b[39m, \u001b[38;5;124m\"\u001b[39m\u001b[38;5;124mScore\u001b[39m\u001b[38;5;124m\"\u001b[39m]] \u001b[38;5;241m=\u001b[39m df[text_column]\u001b[38;5;241m.\u001b[39mprogress_apply(\n\u001b[1;32m    602\u001b[0m     \u001b[38;5;28;01mlambda\u001b[39;00m t: \u001b[38;5;28mself\u001b[39m\u001b[38;5;241m.\u001b[39mextract_ner_street(t)\n\u001b[1;32m    603\u001b[0m )\n\u001b[0;32m--> 604\u001b[0m df[\u001b[38;5;124m\"\u001b[39m\u001b[38;5;124mStreet\u001b[39m\u001b[38;5;124m\"\u001b[39m] \u001b[38;5;241m=\u001b[39m \u001b[43mdf\u001b[49m\u001b[43m[\u001b[49m\u001b[43m[\u001b[49m\u001b[43mtext_column\u001b[49m\u001b[43m,\u001b[49m\u001b[43m \u001b[49m\u001b[38;5;124;43m\"\u001b[39;49m\u001b[38;5;124;43mStreet\u001b[39;49m\u001b[38;5;124;43m\"\u001b[39;49m\u001b[43m]\u001b[49m\u001b[43m]\u001b[49m\u001b[38;5;241;43m.\u001b[39;49m\u001b[43mprogress_apply\u001b[49m\u001b[43m(\u001b[49m\n\u001b[1;32m    605\u001b[0m \u001b[43m    \u001b[49m\u001b[38;5;28;43;01mlambda\u001b[39;49;00m\u001b[43m \u001b[49m\u001b[43mrow\u001b[49m\u001b[43m:\u001b[49m\u001b[43m \u001b[49m\u001b[43mGeocoder\u001b[49m\u001b[38;5;241;43m.\u001b[39;49m\u001b[43mget_ner_address_natasha\u001b[49m\u001b[43m(\u001b[49m\n\u001b[1;32m    606\u001b[0m \u001b[43m        \u001b[49m\u001b[43mrow\u001b[49m\u001b[43m,\u001b[49m\u001b[43m \u001b[49m\u001b[38;5;28;43mself\u001b[39;49m\u001b[38;5;241;43m.\u001b[39;49m\u001b[43mexceptions\u001b[49m\u001b[43m,\u001b[49m\u001b[43m \u001b[49m\u001b[43mtext_column\u001b[49m\n\u001b[1;32m    607\u001b[0m \u001b[43m    \u001b[49m\u001b[43m)\u001b[49m\u001b[43m,\u001b[49m\n\u001b[1;32m    608\u001b[0m \u001b[43m    \u001b[49m\u001b[43maxis\u001b[49m\u001b[38;5;241;43m=\u001b[39;49m\u001b[38;5;241;43m1\u001b[39;49m\u001b[43m,\u001b[49m\n\u001b[1;32m    609\u001b[0m \u001b[43m\u001b[49m\u001b[43m)\u001b[49m\n\u001b[1;32m    611\u001b[0m \u001b[38;5;66;03m# df = df[df.Street.notna()]\u001b[39;00m\n\u001b[1;32m    612\u001b[0m \u001b[38;5;66;03m# df = df[df[\"Street\"].str.contains(\"[а-яА-Я]\")]\u001b[39;00m\n\u001b[1;32m    614\u001b[0m logger\u001b[38;5;241m.\u001b[39minfo(\u001b[38;5;124m'\u001b[39m\u001b[38;5;124mpattern1.sub started\u001b[39m\u001b[38;5;124m'\u001b[39m)\n",
      "File \u001b[0;32m~/Documents/Code/lib_sloyka/sloyka/.venv/lib/python3.10/site-packages/tqdm/std.py:814\u001b[0m, in \u001b[0;36mtqdm.pandas.<locals>.inner_generator.<locals>.inner\u001b[0;34m(df, func, *args, **kwargs)\u001b[0m\n\u001b[1;32m    811\u001b[0m \u001b[38;5;66;03m# Apply the provided function (in **kwargs)\u001b[39;00m\n\u001b[1;32m    812\u001b[0m \u001b[38;5;66;03m# on the df using our wrapper (which provides bar updating)\u001b[39;00m\n\u001b[1;32m    813\u001b[0m \u001b[38;5;28;01mtry\u001b[39;00m:\n\u001b[0;32m--> 814\u001b[0m     \u001b[38;5;28;01mreturn\u001b[39;00m \u001b[38;5;28;43mgetattr\u001b[39;49m\u001b[43m(\u001b[49m\u001b[43mdf\u001b[49m\u001b[43m,\u001b[49m\u001b[43m \u001b[49m\u001b[43mdf_function\u001b[49m\u001b[43m)\u001b[49m\u001b[43m(\u001b[49m\u001b[43mwrapper\u001b[49m\u001b[43m,\u001b[49m\u001b[43m \u001b[49m\u001b[38;5;241;43m*\u001b[39;49m\u001b[38;5;241;43m*\u001b[39;49m\u001b[43mkwargs\u001b[49m\u001b[43m)\u001b[49m\n\u001b[1;32m    815\u001b[0m \u001b[38;5;28;01mfinally\u001b[39;00m:\n\u001b[1;32m    816\u001b[0m     t\u001b[38;5;241m.\u001b[39mclose()\n",
      "File \u001b[0;32m~/Documents/Code/lib_sloyka/sloyka/.venv/lib/python3.10/site-packages/pandas/core/frame.py:9568\u001b[0m, in \u001b[0;36mDataFrame.apply\u001b[0;34m(self, func, axis, raw, result_type, args, **kwargs)\u001b[0m\n\u001b[1;32m   9557\u001b[0m \u001b[38;5;28;01mfrom\u001b[39;00m \u001b[38;5;21;01mpandas\u001b[39;00m\u001b[38;5;21;01m.\u001b[39;00m\u001b[38;5;21;01mcore\u001b[39;00m\u001b[38;5;21;01m.\u001b[39;00m\u001b[38;5;21;01mapply\u001b[39;00m \u001b[38;5;28;01mimport\u001b[39;00m frame_apply\n\u001b[1;32m   9559\u001b[0m op \u001b[38;5;241m=\u001b[39m frame_apply(\n\u001b[1;32m   9560\u001b[0m     \u001b[38;5;28mself\u001b[39m,\n\u001b[1;32m   9561\u001b[0m     func\u001b[38;5;241m=\u001b[39mfunc,\n\u001b[0;32m   (...)\u001b[0m\n\u001b[1;32m   9566\u001b[0m     kwargs\u001b[38;5;241m=\u001b[39mkwargs,\n\u001b[1;32m   9567\u001b[0m )\n\u001b[0;32m-> 9568\u001b[0m \u001b[38;5;28;01mreturn\u001b[39;00m \u001b[43mop\u001b[49m\u001b[38;5;241;43m.\u001b[39;49m\u001b[43mapply\u001b[49m\u001b[43m(\u001b[49m\u001b[43m)\u001b[49m\u001b[38;5;241m.\u001b[39m__finalize__(\u001b[38;5;28mself\u001b[39m, method\u001b[38;5;241m=\u001b[39m\u001b[38;5;124m\"\u001b[39m\u001b[38;5;124mapply\u001b[39m\u001b[38;5;124m\"\u001b[39m)\n",
      "File \u001b[0;32m~/Documents/Code/lib_sloyka/sloyka/.venv/lib/python3.10/site-packages/pandas/core/apply.py:764\u001b[0m, in \u001b[0;36mFrameApply.apply\u001b[0;34m(self)\u001b[0m\n\u001b[1;32m    761\u001b[0m \u001b[38;5;28;01melif\u001b[39;00m \u001b[38;5;28mself\u001b[39m\u001b[38;5;241m.\u001b[39mraw:\n\u001b[1;32m    762\u001b[0m     \u001b[38;5;28;01mreturn\u001b[39;00m \u001b[38;5;28mself\u001b[39m\u001b[38;5;241m.\u001b[39mapply_raw()\n\u001b[0;32m--> 764\u001b[0m \u001b[38;5;28;01mreturn\u001b[39;00m \u001b[38;5;28;43mself\u001b[39;49m\u001b[38;5;241;43m.\u001b[39;49m\u001b[43mapply_standard\u001b[49m\u001b[43m(\u001b[49m\u001b[43m)\u001b[49m\n",
      "File \u001b[0;32m~/Documents/Code/lib_sloyka/sloyka/.venv/lib/python3.10/site-packages/pandas/core/apply.py:891\u001b[0m, in \u001b[0;36mFrameApply.apply_standard\u001b[0;34m(self)\u001b[0m\n\u001b[1;32m    890\u001b[0m \u001b[38;5;28;01mdef\u001b[39;00m \u001b[38;5;21mapply_standard\u001b[39m(\u001b[38;5;28mself\u001b[39m):\n\u001b[0;32m--> 891\u001b[0m     results, res_index \u001b[38;5;241m=\u001b[39m \u001b[38;5;28;43mself\u001b[39;49m\u001b[38;5;241;43m.\u001b[39;49m\u001b[43mapply_series_generator\u001b[49m\u001b[43m(\u001b[49m\u001b[43m)\u001b[49m\n\u001b[1;32m    893\u001b[0m     \u001b[38;5;66;03m# wrap results\u001b[39;00m\n\u001b[1;32m    894\u001b[0m     \u001b[38;5;28;01mreturn\u001b[39;00m \u001b[38;5;28mself\u001b[39m\u001b[38;5;241m.\u001b[39mwrap_results(results, res_index)\n",
      "File \u001b[0;32m~/Documents/Code/lib_sloyka/sloyka/.venv/lib/python3.10/site-packages/pandas/core/apply.py:907\u001b[0m, in \u001b[0;36mFrameApply.apply_series_generator\u001b[0;34m(self)\u001b[0m\n\u001b[1;32m    904\u001b[0m \u001b[38;5;28;01mwith\u001b[39;00m option_context(\u001b[38;5;124m\"\u001b[39m\u001b[38;5;124mmode.chained_assignment\u001b[39m\u001b[38;5;124m\"\u001b[39m, \u001b[38;5;28;01mNone\u001b[39;00m):\n\u001b[1;32m    905\u001b[0m     \u001b[38;5;28;01mfor\u001b[39;00m i, v \u001b[38;5;129;01min\u001b[39;00m \u001b[38;5;28menumerate\u001b[39m(series_gen):\n\u001b[1;32m    906\u001b[0m         \u001b[38;5;66;03m# ignore SettingWithCopy here in case the user mutates\u001b[39;00m\n\u001b[0;32m--> 907\u001b[0m         results[i] \u001b[38;5;241m=\u001b[39m \u001b[38;5;28;43mself\u001b[39;49m\u001b[38;5;241;43m.\u001b[39;49m\u001b[43mf\u001b[49m\u001b[43m(\u001b[49m\u001b[43mv\u001b[49m\u001b[43m)\u001b[49m\n\u001b[1;32m    908\u001b[0m         \u001b[38;5;28;01mif\u001b[39;00m \u001b[38;5;28misinstance\u001b[39m(results[i], ABCSeries):\n\u001b[1;32m    909\u001b[0m             \u001b[38;5;66;03m# If we have a view on v, we need to make a copy because\u001b[39;00m\n\u001b[1;32m    910\u001b[0m             \u001b[38;5;66;03m#  series_generator will swap out the underlying data\u001b[39;00m\n\u001b[1;32m    911\u001b[0m             results[i] \u001b[38;5;241m=\u001b[39m results[i]\u001b[38;5;241m.\u001b[39mcopy(deep\u001b[38;5;241m=\u001b[39m\u001b[38;5;28;01mFalse\u001b[39;00m)\n",
      "File \u001b[0;32m~/Documents/Code/lib_sloyka/sloyka/.venv/lib/python3.10/site-packages/tqdm/std.py:809\u001b[0m, in \u001b[0;36mtqdm.pandas.<locals>.inner_generator.<locals>.inner.<locals>.wrapper\u001b[0;34m(*args, **kwargs)\u001b[0m\n\u001b[1;32m    803\u001b[0m \u001b[38;5;28;01mdef\u001b[39;00m \u001b[38;5;21mwrapper\u001b[39m(\u001b[38;5;241m*\u001b[39margs, \u001b[38;5;241m*\u001b[39m\u001b[38;5;241m*\u001b[39mkwargs):\n\u001b[1;32m    804\u001b[0m     \u001b[38;5;66;03m# update tbar correctly\u001b[39;00m\n\u001b[1;32m    805\u001b[0m     \u001b[38;5;66;03m# it seems `pandas apply` calls `func` twice\u001b[39;00m\n\u001b[1;32m    806\u001b[0m     \u001b[38;5;66;03m# on the first column/row to decide whether it can\u001b[39;00m\n\u001b[1;32m    807\u001b[0m     \u001b[38;5;66;03m# take a fast or slow code path; so stop when t.total==t.n\u001b[39;00m\n\u001b[1;32m    808\u001b[0m     t\u001b[38;5;241m.\u001b[39mupdate(n\u001b[38;5;241m=\u001b[39m\u001b[38;5;241m1\u001b[39m \u001b[38;5;28;01mif\u001b[39;00m \u001b[38;5;129;01mnot\u001b[39;00m t\u001b[38;5;241m.\u001b[39mtotal \u001b[38;5;129;01mor\u001b[39;00m t\u001b[38;5;241m.\u001b[39mn \u001b[38;5;241m<\u001b[39m t\u001b[38;5;241m.\u001b[39mtotal \u001b[38;5;28;01melse\u001b[39;00m \u001b[38;5;241m0\u001b[39m)\n\u001b[0;32m--> 809\u001b[0m     \u001b[38;5;28;01mreturn\u001b[39;00m \u001b[43mfunc\u001b[49m\u001b[43m(\u001b[49m\u001b[38;5;241;43m*\u001b[39;49m\u001b[43margs\u001b[49m\u001b[43m,\u001b[49m\u001b[43m \u001b[49m\u001b[38;5;241;43m*\u001b[39;49m\u001b[38;5;241;43m*\u001b[39;49m\u001b[43mkwargs\u001b[49m\u001b[43m)\u001b[49m\n",
      "File \u001b[0;32m~/Documents/Code/lib_sloyka/sloyka/sloyka/src/geocoder.py:605\u001b[0m, in \u001b[0;36mGeocoder.get_street.<locals>.<lambda>\u001b[0;34m(row)\u001b[0m\n\u001b[1;32m    599\u001b[0m logger\u001b[38;5;241m.\u001b[39minfo(\u001b[38;5;124m'\u001b[39m\u001b[38;5;124mextract_ner_street started\u001b[39m\u001b[38;5;124m'\u001b[39m)\n\u001b[1;32m    601\u001b[0m df[[\u001b[38;5;124m\"\u001b[39m\u001b[38;5;124mStreet\u001b[39m\u001b[38;5;124m\"\u001b[39m, \u001b[38;5;124m\"\u001b[39m\u001b[38;5;124mScore\u001b[39m\u001b[38;5;124m\"\u001b[39m]] \u001b[38;5;241m=\u001b[39m df[text_column]\u001b[38;5;241m.\u001b[39mprogress_apply(\n\u001b[1;32m    602\u001b[0m     \u001b[38;5;28;01mlambda\u001b[39;00m t: \u001b[38;5;28mself\u001b[39m\u001b[38;5;241m.\u001b[39mextract_ner_street(t)\n\u001b[1;32m    603\u001b[0m )\n\u001b[1;32m    604\u001b[0m df[\u001b[38;5;124m\"\u001b[39m\u001b[38;5;124mStreet\u001b[39m\u001b[38;5;124m\"\u001b[39m] \u001b[38;5;241m=\u001b[39m df[[text_column, \u001b[38;5;124m\"\u001b[39m\u001b[38;5;124mStreet\u001b[39m\u001b[38;5;124m\"\u001b[39m]]\u001b[38;5;241m.\u001b[39mprogress_apply(\n\u001b[0;32m--> 605\u001b[0m     \u001b[38;5;28;01mlambda\u001b[39;00m row: \u001b[43mGeocoder\u001b[49m\u001b[38;5;241;43m.\u001b[39;49m\u001b[43mget_ner_address_natasha\u001b[49m\u001b[43m(\u001b[49m\n\u001b[1;32m    606\u001b[0m \u001b[43m        \u001b[49m\u001b[43mrow\u001b[49m\u001b[43m,\u001b[49m\u001b[43m \u001b[49m\u001b[38;5;28;43mself\u001b[39;49m\u001b[38;5;241;43m.\u001b[39;49m\u001b[43mexceptions\u001b[49m\u001b[43m,\u001b[49m\u001b[43m \u001b[49m\u001b[43mtext_column\u001b[49m\n\u001b[1;32m    607\u001b[0m \u001b[43m    \u001b[49m\u001b[43m)\u001b[49m,\n\u001b[1;32m    608\u001b[0m     axis\u001b[38;5;241m=\u001b[39m\u001b[38;5;241m1\u001b[39m,\n\u001b[1;32m    609\u001b[0m )\n\u001b[1;32m    611\u001b[0m \u001b[38;5;66;03m# df = df[df.Street.notna()]\u001b[39;00m\n\u001b[1;32m    612\u001b[0m \u001b[38;5;66;03m# df = df[df[\"Street\"].str.contains(\"[а-яА-Я]\")]\u001b[39;00m\n\u001b[1;32m    614\u001b[0m logger\u001b[38;5;241m.\u001b[39minfo(\u001b[38;5;124m'\u001b[39m\u001b[38;5;124mpattern1.sub started\u001b[39m\u001b[38;5;124m'\u001b[39m)\n",
      "File \u001b[0;32m~/Documents/Code/lib_sloyka/sloyka/sloyka/src/geocoder.py:356\u001b[0m, in \u001b[0;36mGeocoder.get_ner_address_natasha\u001b[0;34m(row, exceptions, text_col)\u001b[0m\n\u001b[1;32m    354\u001b[0m doc\u001b[38;5;241m.\u001b[39msegment(segmenter)\n\u001b[1;32m    355\u001b[0m doc\u001b[38;5;241m.\u001b[39mtag_morph(morph_tagger)\n\u001b[0;32m--> 356\u001b[0m \u001b[43mdoc\u001b[49m\u001b[38;5;241;43m.\u001b[39;49m\u001b[43mparse_syntax\u001b[49m\u001b[43m(\u001b[49m\u001b[43msyntax_parser\u001b[49m\u001b[43m)\u001b[49m\n\u001b[1;32m    357\u001b[0m doc\u001b[38;5;241m.\u001b[39mtag_ner(ner_tagger)\n\u001b[1;32m    358\u001b[0m \u001b[38;5;28;01mfor\u001b[39;00m span \u001b[38;5;129;01min\u001b[39;00m doc\u001b[38;5;241m.\u001b[39mspans:\n",
      "File \u001b[0;32m~/Documents/Code/lib_sloyka/sloyka/.venv/lib/python3.10/site-packages/natasha/doc.py:139\u001b[0m, in \u001b[0;36mDoc.parse_syntax\u001b[0;34m(self, parser)\u001b[0m\n\u001b[1;32m    138\u001b[0m \u001b[38;5;28;01mdef\u001b[39;00m \u001b[38;5;21mparse_syntax\u001b[39m(\u001b[38;5;28mself\u001b[39m, parser):\n\u001b[0;32m--> 139\u001b[0m     \u001b[43mparse_syntax_doc\u001b[49m\u001b[43m(\u001b[49m\u001b[38;5;28;43mself\u001b[39;49m\u001b[43m,\u001b[49m\u001b[43m \u001b[49m\u001b[43mparser\u001b[49m\u001b[43m)\u001b[49m\n",
      "File \u001b[0;32m~/Documents/Code/lib_sloyka/sloyka/.venv/lib/python3.10/site-packages/natasha/doc.py:239\u001b[0m, in \u001b[0;36mparse_syntax_doc\u001b[0;34m(doc, parser)\u001b[0m\n\u001b[1;32m    237\u001b[0m chunk \u001b[38;5;241m=\u001b[39m [sent_words(_) \u001b[38;5;28;01mfor\u001b[39;00m _ \u001b[38;5;129;01min\u001b[39;00m doc\u001b[38;5;241m.\u001b[39msents]\n\u001b[1;32m    238\u001b[0m markups \u001b[38;5;241m=\u001b[39m parser\u001b[38;5;241m.\u001b[39mmap(chunk)\n\u001b[0;32m--> 239\u001b[0m \u001b[38;5;28;01mfor\u001b[39;00m sent_id, (sent, markup) \u001b[38;5;129;01min\u001b[39;00m \u001b[38;5;28menumerate\u001b[39m(\u001b[38;5;28mzip\u001b[39m(doc\u001b[38;5;241m.\u001b[39msents, markups), \u001b[38;5;241m1\u001b[39m):\n\u001b[1;32m    240\u001b[0m     inject_syntax(sent\u001b[38;5;241m.\u001b[39mtokens, markup\u001b[38;5;241m.\u001b[39mtokens)\n\u001b[1;32m    241\u001b[0m     offset_syntax(sent_id, sent\u001b[38;5;241m.\u001b[39mtokens)\n",
      "File \u001b[0;32m~/Documents/Code/lib_sloyka/sloyka/.venv/lib/python3.10/site-packages/natasha/syntax.py:79\u001b[0m, in \u001b[0;36mSyntaxParser.map\u001b[0;34m(self, items)\u001b[0m\n\u001b[1;32m     77\u001b[0m \u001b[38;5;28;01mdef\u001b[39;00m \u001b[38;5;21mmap\u001b[39m(\u001b[38;5;28mself\u001b[39m, items):\n\u001b[1;32m     78\u001b[0m     markups \u001b[38;5;241m=\u001b[39m SlovnetSyntax\u001b[38;5;241m.\u001b[39mmap(\u001b[38;5;28mself\u001b[39m, items)\n\u001b[0;32m---> 79\u001b[0m     \u001b[38;5;28;01mfor\u001b[39;00m markup \u001b[38;5;129;01min\u001b[39;00m markups:\n\u001b[1;32m     80\u001b[0m         \u001b[38;5;28;01myield\u001b[39;00m adapt_markup(markup)\n",
      "File \u001b[0;32m~/Documents/Code/lib_sloyka/sloyka/.venv/lib/python3.10/site-packages/slovnet/api.py:35\u001b[0m, in \u001b[0;36mAPI.map\u001b[0;34m(self, items)\u001b[0m\n\u001b[1;32m     33\u001b[0m \u001b[38;5;28;01mdef\u001b[39;00m \u001b[38;5;21mmap\u001b[39m(\u001b[38;5;28mself\u001b[39m, items):\n\u001b[1;32m     34\u001b[0m     \u001b[38;5;28;01mfor\u001b[39;00m chunk \u001b[38;5;129;01min\u001b[39;00m chop(items, \u001b[38;5;28mself\u001b[39m\u001b[38;5;241m.\u001b[39mbatch_size):\n\u001b[0;32m---> 35\u001b[0m         \u001b[38;5;28;01myield from\u001b[39;00m \u001b[38;5;28mself\u001b[39m\u001b[38;5;241m.\u001b[39minfer(chunk)\n",
      "File \u001b[0;32m~/Documents/Code/lib_sloyka/sloyka/.venv/lib/python3.10/site-packages/slovnet/exec/infer.py:109\u001b[0m, in \u001b[0;36mSyntaxInfer.__call__\u001b[0;34m(self, items)\u001b[0m\n\u001b[1;32m    106\u001b[0m preds \u001b[38;5;241m=\u001b[39m \u001b[38;5;28mself\u001b[39m\u001b[38;5;241m.\u001b[39mprocess(inputs)\n\u001b[1;32m    107\u001b[0m preds \u001b[38;5;241m=\u001b[39m \u001b[38;5;28mself\u001b[39m\u001b[38;5;241m.\u001b[39mdecoder(preds)\n\u001b[0;32m--> 109\u001b[0m \u001b[38;5;28;01mfor\u001b[39;00m item, pred \u001b[38;5;129;01min\u001b[39;00m \u001b[38;5;28mzip\u001b[39m(items, preds):\n\u001b[1;32m    110\u001b[0m     ids, head_ids, rels \u001b[38;5;241m=\u001b[39m pred\n\u001b[1;32m    111\u001b[0m     tuples \u001b[38;5;241m=\u001b[39m \u001b[38;5;28mzip\u001b[39m(ids, item, head_ids, rels)\n",
      "File \u001b[0;32m~/Documents/Code/lib_sloyka/sloyka/.venv/lib/python3.10/site-packages/slovnet/exec/infer.py:82\u001b[0m, in \u001b[0;36mSyntaxDecoder.__call__\u001b[0;34m(self, preds)\u001b[0m\n\u001b[1;32m     81\u001b[0m \u001b[38;5;28;01mdef\u001b[39;00m \u001b[38;5;21m__call__\u001b[39m(\u001b[38;5;28mself\u001b[39m, preds):\n\u001b[0;32m---> 82\u001b[0m     \u001b[38;5;28;01mfor\u001b[39;00m pred \u001b[38;5;129;01min\u001b[39;00m preds:\n\u001b[1;32m     83\u001b[0m         head_ids, rel_ids \u001b[38;5;241m=\u001b[39m pred\n\u001b[1;32m     84\u001b[0m         ids \u001b[38;5;241m=\u001b[39m [\u001b[38;5;28mstr\u001b[39m(_ \u001b[38;5;241m+\u001b[39m \u001b[38;5;241m1\u001b[39m) \u001b[38;5;28;01mfor\u001b[39;00m _ \u001b[38;5;129;01min\u001b[39;00m \u001b[38;5;28mrange\u001b[39m(\u001b[38;5;28mlen\u001b[39m(head_ids))]\n",
      "File \u001b[0;32m~/Documents/Code/lib_sloyka/sloyka/.venv/lib/python3.10/site-packages/slovnet/exec/infer.py:93\u001b[0m, in \u001b[0;36mSyntaxInfer.process\u001b[0;34m(self, inputs)\u001b[0m\n\u001b[1;32m     91\u001b[0m \u001b[38;5;28;01mdef\u001b[39;00m \u001b[38;5;21mprocess\u001b[39m(\u001b[38;5;28mself\u001b[39m, inputs):\n\u001b[1;32m     92\u001b[0m     \u001b[38;5;28;01mfor\u001b[39;00m \u001b[38;5;28minput\u001b[39m \u001b[38;5;129;01min\u001b[39;00m inputs:\n\u001b[0;32m---> 93\u001b[0m         pred \u001b[38;5;241m=\u001b[39m \u001b[38;5;28;43mself\u001b[39;49m\u001b[38;5;241;43m.\u001b[39;49m\u001b[43mmodel\u001b[49m\u001b[43m(\u001b[49m\u001b[38;5;28;43minput\u001b[39;49m\u001b[38;5;241;43m.\u001b[39;49m\u001b[43mword_id\u001b[49m\u001b[43m,\u001b[49m\u001b[43m \u001b[49m\u001b[38;5;28;43minput\u001b[39;49m\u001b[38;5;241;43m.\u001b[39;49m\u001b[43mshape_id\u001b[49m\u001b[43m,\u001b[49m\u001b[43m \u001b[49m\u001b[38;5;28;43minput\u001b[39;49m\u001b[38;5;241;43m.\u001b[39;49m\u001b[43mpad_mask\u001b[49m\u001b[43m)\u001b[49m\n\u001b[1;32m     94\u001b[0m         mask \u001b[38;5;241m=\u001b[39m \u001b[38;5;241m~\u001b[39m\u001b[38;5;28minput\u001b[39m\u001b[38;5;241m.\u001b[39mpad_mask\n\u001b[1;32m     96\u001b[0m         head_id \u001b[38;5;241m=\u001b[39m \u001b[38;5;28mself\u001b[39m\u001b[38;5;241m.\u001b[39mmodel\u001b[38;5;241m.\u001b[39mhead\u001b[38;5;241m.\u001b[39mdecode(pred\u001b[38;5;241m.\u001b[39mhead_id, mask)\n",
      "File \u001b[0;32m~/Documents/Code/lib_sloyka/sloyka/.venv/lib/python3.10/site-packages/slovnet/exec/model.py:479\u001b[0m, in \u001b[0;36mSyntax.__call__\u001b[0;34m(self, word_id, shape_id, pad_mask)\u001b[0m\n\u001b[1;32m    476\u001b[0m x \u001b[38;5;241m=\u001b[39m \u001b[38;5;28mself\u001b[39m\u001b[38;5;241m.\u001b[39mencoder(x, pad_mask)\n\u001b[1;32m    478\u001b[0m head_id \u001b[38;5;241m=\u001b[39m \u001b[38;5;28mself\u001b[39m\u001b[38;5;241m.\u001b[39mhead(x)\n\u001b[0;32m--> 479\u001b[0m target_head_id \u001b[38;5;241m=\u001b[39m \u001b[38;5;28;43mself\u001b[39;49m\u001b[38;5;241;43m.\u001b[39;49m\u001b[43mhead\u001b[49m\u001b[38;5;241;43m.\u001b[39;49m\u001b[43mdecode\u001b[49m\u001b[43m(\u001b[49m\u001b[43mhead_id\u001b[49m\u001b[43m,\u001b[49m\u001b[43m \u001b[49m\u001b[38;5;241;43m~\u001b[39;49m\u001b[43mpad_mask\u001b[49m\u001b[43m)\u001b[49m\n\u001b[1;32m    480\u001b[0m rel_id \u001b[38;5;241m=\u001b[39m \u001b[38;5;28mself\u001b[39m\u001b[38;5;241m.\u001b[39mrel(x, target_head_id)\n\u001b[1;32m    481\u001b[0m \u001b[38;5;28;01mreturn\u001b[39;00m SyntaxPred(head_id, rel_id)\n",
      "File \u001b[0;32m~/Documents/Code/lib_sloyka/sloyka/.venv/lib/python3.10/site-packages/slovnet/exec/model.py:402\u001b[0m, in \u001b[0;36mSyntaxHead.decode\u001b[0;34m(self, pred, mask)\u001b[0m\n\u001b[1;32m    399\u001b[0m mask \u001b[38;5;241m=\u001b[39m matmul_mask(mask)\n\u001b[1;32m    400\u001b[0m mask \u001b[38;5;241m=\u001b[39m strip_root(mask)\n\u001b[0;32m--> 402\u001b[0m pred \u001b[38;5;241m=\u001b[39m fill_masked(pred, \u001b[38;5;241m~\u001b[39mmask, \u001b[43mpred\u001b[49m\u001b[38;5;241;43m.\u001b[39;49m\u001b[43mmin\u001b[49m\u001b[43m(\u001b[49m\u001b[43m)\u001b[49m)\n\u001b[1;32m    403\u001b[0m \u001b[38;5;28;01mreturn\u001b[39;00m pred\u001b[38;5;241m.\u001b[39margmax(\u001b[38;5;241m-\u001b[39m\u001b[38;5;241m1\u001b[39m)\n",
      "File \u001b[0;32m~/Documents/Code/lib_sloyka/sloyka/.venv/lib/python3.10/site-packages/numpy/core/_methods.py:45\u001b[0m, in \u001b[0;36m_amin\u001b[0;34m(a, axis, out, keepdims, initial, where)\u001b[0m\n\u001b[1;32m     43\u001b[0m \u001b[38;5;28;01mdef\u001b[39;00m \u001b[38;5;21m_amin\u001b[39m(a, axis\u001b[38;5;241m=\u001b[39m\u001b[38;5;28;01mNone\u001b[39;00m, out\u001b[38;5;241m=\u001b[39m\u001b[38;5;28;01mNone\u001b[39;00m, keepdims\u001b[38;5;241m=\u001b[39m\u001b[38;5;28;01mFalse\u001b[39;00m,\n\u001b[1;32m     44\u001b[0m           initial\u001b[38;5;241m=\u001b[39m_NoValue, where\u001b[38;5;241m=\u001b[39m\u001b[38;5;28;01mTrue\u001b[39;00m):\n\u001b[0;32m---> 45\u001b[0m     \u001b[38;5;28;01mreturn\u001b[39;00m \u001b[43mumr_minimum\u001b[49m\u001b[43m(\u001b[49m\u001b[43ma\u001b[49m\u001b[43m,\u001b[49m\u001b[43m \u001b[49m\u001b[43maxis\u001b[49m\u001b[43m,\u001b[49m\u001b[43m \u001b[49m\u001b[38;5;28;43;01mNone\u001b[39;49;00m\u001b[43m,\u001b[49m\u001b[43m \u001b[49m\u001b[43mout\u001b[49m\u001b[43m,\u001b[49m\u001b[43m \u001b[49m\u001b[43mkeepdims\u001b[49m\u001b[43m,\u001b[49m\u001b[43m \u001b[49m\u001b[43minitial\u001b[49m\u001b[43m,\u001b[49m\u001b[43m \u001b[49m\u001b[43mwhere\u001b[49m\u001b[43m)\u001b[49m\n",
      "\u001b[0;31mValueError\u001b[0m: zero-size array to reduction operation minimum which has no identity"
     ]
    }
   ],
   "source": [
    "test = Pipeline(owner_id, token, count, date, osm_city_name, osm_city_level)\n",
    "posts, graph = test.process()"
   ]
  },
  {
   "cell_type": "code",
   "execution_count": 18,
   "metadata": {},
   "outputs": [
    {
     "data": {
      "text/html": [
       "<div>\n",
       "<style scoped>\n",
       "    .dataframe tbody tr th:only-of-type {\n",
       "        vertical-align: middle;\n",
       "    }\n",
       "\n",
       "    .dataframe tbody tr th {\n",
       "        vertical-align: top;\n",
       "    }\n",
       "\n",
       "    .dataframe thead th {\n",
       "        text-align: right;\n",
       "    }\n",
       "</style>\n",
       "<table border=\"1\" class=\"dataframe\">\n",
       "  <thead>\n",
       "    <tr style=\"text-align: right;\">\n",
       "      <th></th>\n",
       "      <th>date</th>\n",
       "      <th>id</th>\n",
       "      <th>text</th>\n",
       "      <th>views.count</th>\n",
       "      <th>likes.count</th>\n",
       "      <th>reposts.count</th>\n",
       "      <th>type</th>\n",
       "      <th>link</th>\n",
       "      <th>Street</th>\n",
       "      <th>Score</th>\n",
       "    </tr>\n",
       "  </thead>\n",
       "  <tbody>\n",
       "    <tr>\n",
       "      <th>117</th>\n",
       "      <td>2024-01-24 10:30:00</td>\n",
       "      <td>326389</td>\n",
       "      <td>Когда Комитет по благоустройству прекратит год...</td>\n",
       "      <td>3722</td>\n",
       "      <td>59</td>\n",
       "      <td>3</td>\n",
       "      <td>post</td>\n",
       "      <td>NaN</td>\n",
       "      <td>None</td>\n",
       "      <td>NaN</td>\n",
       "    </tr>\n",
       "    <tr>\n",
       "      <th>86</th>\n",
       "      <td>2024-02-08 19:30:00</td>\n",
       "      <td>328572</td>\n",
       "      <td>Начало положено! Во вторник вечером состоялась...</td>\n",
       "      <td>4767</td>\n",
       "      <td>89</td>\n",
       "      <td>12</td>\n",
       "      <td>post</td>\n",
       "      <td>https://forms.yandex.ru/u/65a7a4a8c769f1088328...</td>\n",
       "      <td>Конной 24</td>\n",
       "      <td>0.905</td>\n",
       "    </tr>\n",
       "    <tr>\n",
       "      <th>43</th>\n",
       "      <td>2024-03-01 10:30:00</td>\n",
       "      <td>331114</td>\n",
       "      <td>Кто-то в Кремле подписан на группу Ц? Вчера пр...</td>\n",
       "      <td>4393</td>\n",
       "      <td>89</td>\n",
       "      <td>6</td>\n",
       "      <td>post</td>\n",
       "      <td>https://vk.com/wall-129354225_160496|восстанав...</td>\n",
       "      <td>Кремле</td>\n",
       "      <td>NaN</td>\n",
       "    </tr>\n",
       "    <tr>\n",
       "      <th>16</th>\n",
       "      <td>2024-03-14 19:30:00</td>\n",
       "      <td>332428</td>\n",
       "      <td>Я художник, я так вижу 🎨 Историческое здание н...</td>\n",
       "      <td>6037</td>\n",
       "      <td>77</td>\n",
       "      <td>8</td>\n",
       "      <td>post</td>\n",
       "      <td>NaN</td>\n",
       "      <td>Полтавской 7</td>\n",
       "      <td>0.976</td>\n",
       "    </tr>\n",
       "    <tr>\n",
       "      <th>375</th>\n",
       "      <td>2023-09-20 19:30:00</td>\n",
       "      <td>312204</td>\n",
       "      <td>Друзья, пока стоит чудесная осенняя погода, вн...</td>\n",
       "      <td>4539</td>\n",
       "      <td>49</td>\n",
       "      <td>7</td>\n",
       "      <td>post</td>\n",
       "      <td>NaN</td>\n",
       "      <td>Овсянниковском саду</td>\n",
       "      <td>NaN</td>\n",
       "    </tr>\n",
       "    <tr>\n",
       "      <th>154</th>\n",
       "      <td>2024-01-06 19:30:00</td>\n",
       "      <td>324331</td>\n",
       "      <td>В нашей ежегодной рубрике #отчет2023@mytndvor ...</td>\n",
       "      <td>4357</td>\n",
       "      <td>58</td>\n",
       "      <td>6</td>\n",
       "      <td>post</td>\n",
       "      <td>https://vk.com/wall-129354225_293374|раздельный</td>\n",
       "      <td>Жуковского 43</td>\n",
       "      <td>0.901</td>\n",
       "    </tr>\n",
       "    <tr>\n",
       "      <th>356</th>\n",
       "      <td>2023-09-29 19:30:00</td>\n",
       "      <td>312886</td>\n",
       "      <td>Друзья, а вы бы хотели ещё раз отдохнуть этой ...</td>\n",
       "      <td>3399</td>\n",
       "      <td>32</td>\n",
       "      <td>9</td>\n",
       "      <td>post</td>\n",
       "      <td>NaN</td>\n",
       "      <td>None</td>\n",
       "      <td>NaN</td>\n",
       "    </tr>\n",
       "    <tr>\n",
       "      <th>108</th>\n",
       "      <td>2024-01-28 19:30:00</td>\n",
       "      <td>326890</td>\n",
       "      <td>Вы не забыли, петербуржцы, что во время оттепе...</td>\n",
       "      <td>9284</td>\n",
       "      <td>103</td>\n",
       "      <td>14</td>\n",
       "      <td>post</td>\n",
       "      <td>NaN</td>\n",
       "      <td>Владимирском 3</td>\n",
       "      <td>0.846</td>\n",
       "    </tr>\n",
       "    <tr>\n",
       "      <th>331</th>\n",
       "      <td>2023-10-11 19:30:00</td>\n",
       "      <td>314236</td>\n",
       "      <td>Озеленение окончено! Увезли яблоньки с кадок н...</td>\n",
       "      <td>26057</td>\n",
       "      <td>162</td>\n",
       "      <td>16</td>\n",
       "      <td>post</td>\n",
       "      <td>NaN</td>\n",
       "      <td>Восстания</td>\n",
       "      <td>NaN</td>\n",
       "    </tr>\n",
       "    <tr>\n",
       "      <th>81</th>\n",
       "      <td>2024-02-11 10:30:00</td>\n",
       "      <td>328892</td>\n",
       "      <td>Вчера состоялись наши зимние активные игры в О...</td>\n",
       "      <td>3539</td>\n",
       "      <td>83</td>\n",
       "      <td>4</td>\n",
       "      <td>post</td>\n",
       "      <td>NaN</td>\n",
       "      <td>Овсянниковском саду</td>\n",
       "      <td>NaN</td>\n",
       "    </tr>\n",
       "  </tbody>\n",
       "</table>\n",
       "</div>"
      ],
      "text/plain": [
       "                   date      id  ...               Street  Score\n",
       "117 2024-01-24 10:30:00  326389  ...                 None    NaN\n",
       "86  2024-02-08 19:30:00  328572  ...            Конной 24  0.905\n",
       "43  2024-03-01 10:30:00  331114  ...               Кремле    NaN\n",
       "16  2024-03-14 19:30:00  332428  ...         Полтавской 7  0.976\n",
       "375 2023-09-20 19:30:00  312204  ...  Овсянниковском саду    NaN\n",
       "154 2024-01-06 19:30:00  324331  ...        Жуковского 43  0.901\n",
       "356 2023-09-29 19:30:00  312886  ...                 None    NaN\n",
       "108 2024-01-28 19:30:00  326890  ...       Владимирском 3  0.846\n",
       "331 2023-10-11 19:30:00  314236  ...            Восстания    NaN\n",
       "81  2024-02-11 10:30:00  328892  ...  Овсянниковском саду    NaN\n",
       "\n",
       "[10 rows x 10 columns]"
      ]
     },
     "execution_count": 18,
     "metadata": {},
     "output_type": "execute_result"
    }
   ],
   "source": [
    "posts.sample(10)"
   ]
  },
  {
   "cell_type": "code",
   "execution_count": 19,
   "metadata": {},
   "outputs": [
    {
     "name": "stdout",
     "output_type": "stream",
     "text": [
      "Graph with 32 nodes and 22 edges\n"
     ]
    }
   ],
   "source": [
    "print(graph)"
   ]
  },
  {
   "cell_type": "markdown",
   "metadata": {},
   "source": [
    "# Pipeline Sloyka step by step"
   ]
  },
  {
   "cell_type": "markdown",
   "metadata": {},
   "source": [
    "## Установка необходимых для работы библиотек и модулей ##"
   ]
  },
  {
   "cell_type": "markdown",
   "metadata": {},
   "source": [
    "Установка Sloyka и Pyvis для визуализации семантического графа:"
   ]
  },
  {
   "cell_type": "code",
   "execution_count": 4,
   "metadata": {},
   "outputs": [
    {
     "name": "stdout",
     "output_type": "stream",
     "text": [
      "Requirement already satisfied: sloyka in /Users/sashamorozov/Documents/Code/lib_sloyka/sloyka/.venv/lib/python3.10/site-packages (0.1.0)\n",
      "Requirement already satisfied: autodocsumm==0.2.11 in /Users/sashamorozov/Documents/Code/lib_sloyka/sloyka/.venv/lib/python3.10/site-packages (from sloyka) (0.2.11)\n",
      "Requirement already satisfied: bertopic==0.15.0 in /Users/sashamorozov/Documents/Code/lib_sloyka/sloyka/.venv/lib/python3.10/site-packages (from sloyka) (0.15.0)\n",
      "Requirement already satisfied: black==23.1.0 in /Users/sashamorozov/Documents/Code/lib_sloyka/sloyka/.venv/lib/python3.10/site-packages (from sloyka) (23.1.0)\n",
      "Requirement already satisfied: flair==0.12.2 in /Users/sashamorozov/Documents/Code/lib_sloyka/sloyka/.venv/lib/python3.10/site-packages (from sloyka) (0.12.2)\n",
      "Requirement already satisfied: flake8==6.0.0 in /Users/sashamorozov/Documents/Code/lib_sloyka/sloyka/.venv/lib/python3.10/site-packages (from sloyka) (6.0.0)\n",
      "Requirement already satisfied: fuzzywuzzy==0.18.0 in /Users/sashamorozov/Documents/Code/lib_sloyka/sloyka/.venv/lib/python3.10/site-packages (from sloyka) (0.18.0)\n",
      "Requirement already satisfied: geopandas==0.12.2 in /Users/sashamorozov/Documents/Code/lib_sloyka/sloyka/.venv/lib/python3.10/site-packages (from sloyka) (0.12.2)\n",
      "Requirement already satisfied: geopy==2.3.0 in /Users/sashamorozov/Documents/Code/lib_sloyka/sloyka/.venv/lib/python3.10/site-packages (from sloyka) (2.3.0)\n",
      "Requirement already satisfied: isort==5.12.0 in /Users/sashamorozov/Documents/Code/lib_sloyka/sloyka/.venv/lib/python3.10/site-packages (from sloyka) (5.12.0)\n",
      "Requirement already satisfied: keybert==0.8.3 in /Users/sashamorozov/Documents/Code/lib_sloyka/sloyka/.venv/lib/python3.10/site-packages (from sloyka) (0.8.3)\n",
      "Requirement already satisfied: loguru==0.7.2 in /Users/sashamorozov/Documents/Code/lib_sloyka/sloyka/.venv/lib/python3.10/site-packages (from sloyka) (0.7.2)\n",
      "Requirement already satisfied: matplotlib==3.7.0 in /Users/sashamorozov/Documents/Code/lib_sloyka/sloyka/.venv/lib/python3.10/site-packages (from sloyka) (3.7.0)\n",
      "Requirement already satisfied: natasha==1.6.0 in /Users/sashamorozov/Documents/Code/lib_sloyka/sloyka/.venv/lib/python3.10/site-packages (from sloyka) (1.6.0)\n",
      "Requirement already satisfied: networkx==3.1 in /Users/sashamorozov/Documents/Code/lib_sloyka/sloyka/.venv/lib/python3.10/site-packages (from sloyka) (3.1)\n",
      "Requirement already satisfied: nltk==3.8.1 in /Users/sashamorozov/Documents/Code/lib_sloyka/sloyka/.venv/lib/python3.10/site-packages (from sloyka) (3.8.1)\n",
      "Requirement already satisfied: numpy==1.25.2 in /Users/sashamorozov/Documents/Code/lib_sloyka/sloyka/.venv/lib/python3.10/site-packages (from sloyka) (1.25.2)\n",
      "Requirement already satisfied: osm2geojson==0.2.3 in /Users/sashamorozov/Documents/Code/lib_sloyka/sloyka/.venv/lib/python3.10/site-packages (from sloyka) (0.2.3)\n",
      "Requirement already satisfied: osmnx==1.5.1 in /Users/sashamorozov/Documents/Code/lib_sloyka/sloyka/.venv/lib/python3.10/site-packages (from sloyka) (1.5.1)\n",
      "Requirement already satisfied: pandarallel==1.6.5 in /Users/sashamorozov/Documents/Code/lib_sloyka/sloyka/.venv/lib/python3.10/site-packages (from sloyka) (1.6.5)\n",
      "Requirement already satisfied: pandas==1.5.3 in /Users/sashamorozov/Documents/Code/lib_sloyka/sloyka/.venv/lib/python3.10/site-packages (from sloyka) (1.5.3)\n",
      "Requirement already satisfied: pyarrow==15.0.0 in /Users/sashamorozov/Documents/Code/lib_sloyka/sloyka/.venv/lib/python3.10/site-packages (from sloyka) (15.0.0)\n",
      "Requirement already satisfied: pylint==3.0.2 in /Users/sashamorozov/Documents/Code/lib_sloyka/sloyka/.venv/lib/python3.10/site-packages (from sloyka) (3.0.2)\n",
      "Requirement already satisfied: pymorphy2==0.9.1 in /Users/sashamorozov/Documents/Code/lib_sloyka/sloyka/.venv/lib/python3.10/site-packages (from sloyka) (0.9.1)\n",
      "Requirement already satisfied: pymorphy2-dicts-ru==2.4.417127.4579844 in /Users/sashamorozov/Documents/Code/lib_sloyka/sloyka/.venv/lib/python3.10/site-packages (from sloyka) (2.4.417127.4579844)\n",
      "Requirement already satisfied: pymorphy3==2.0.1 in /Users/sashamorozov/Documents/Code/lib_sloyka/sloyka/.venv/lib/python3.10/site-packages (from sloyka) (2.0.1)\n",
      "Requirement already satisfied: scikit-learn==1.2.1 in /Users/sashamorozov/Documents/Code/lib_sloyka/sloyka/.venv/lib/python3.10/site-packages (from sloyka) (1.2.1)\n",
      "Requirement already satisfied: seaborn==0.12.2 in /Users/sashamorozov/Documents/Code/lib_sloyka/sloyka/.venv/lib/python3.10/site-packages (from sloyka) (0.12.2)\n",
      "Requirement already satisfied: shapely==2.0.1 in /Users/sashamorozov/Documents/Code/lib_sloyka/sloyka/.venv/lib/python3.10/site-packages (from sloyka) (2.0.1)\n",
      "Requirement already satisfied: spacy==3.5.0 in /Users/sashamorozov/Documents/Code/lib_sloyka/sloyka/.venv/lib/python3.10/site-packages (from sloyka) (3.5.0)\n",
      "Requirement already satisfied: sphinx==7.1.2 in /Users/sashamorozov/Documents/Code/lib_sloyka/sloyka/.venv/lib/python3.10/site-packages (from sloyka) (7.1.2)\n",
      "Requirement already satisfied: sphinx-rtd-theme==1.3.0rc1 in /Users/sashamorozov/Documents/Code/lib_sloyka/sloyka/.venv/lib/python3.10/site-packages (from sloyka) (1.3.0rc1)\n",
      "Requirement already satisfied: torch==2.1.1 in /Users/sashamorozov/Documents/Code/lib_sloyka/sloyka/.venv/lib/python3.10/site-packages (from sloyka) (2.1.1)\n",
      "Requirement already satisfied: tqdm==4.64.1 in /Users/sashamorozov/Documents/Code/lib_sloyka/sloyka/.venv/lib/python3.10/site-packages (from sloyka) (4.64.1)\n",
      "Requirement already satisfied: transformers==4.30.2 in /Users/sashamorozov/Documents/Code/lib_sloyka/sloyka/.venv/lib/python3.10/site-packages (from sloyka) (4.30.2)\n",
      "Requirement already satisfied: vk-api==11.9.9 in /Users/sashamorozov/Documents/Code/lib_sloyka/sloyka/.venv/lib/python3.10/site-packages (from sloyka) (11.9.9)\n",
      "Requirement already satisfied: hdbscan>=0.8.29 in /Users/sashamorozov/Documents/Code/lib_sloyka/sloyka/.venv/lib/python3.10/site-packages (from bertopic==0.15.0->sloyka) (0.8.33)\n",
      "Requirement already satisfied: umap-learn>=0.5.0 in /Users/sashamorozov/Documents/Code/lib_sloyka/sloyka/.venv/lib/python3.10/site-packages (from bertopic==0.15.0->sloyka) (0.5.5)\n",
      "Requirement already satisfied: sentence-transformers>=0.4.1 in /Users/sashamorozov/Documents/Code/lib_sloyka/sloyka/.venv/lib/python3.10/site-packages (from bertopic==0.15.0->sloyka) (2.2.2)\n",
      "Requirement already satisfied: plotly>=4.7.0 in /Users/sashamorozov/Documents/Code/lib_sloyka/sloyka/.venv/lib/python3.10/site-packages (from bertopic==0.15.0->sloyka) (5.19.0)\n",
      "Requirement already satisfied: click>=8.0.0 in /Users/sashamorozov/Documents/Code/lib_sloyka/sloyka/.venv/lib/python3.10/site-packages (from black==23.1.0->sloyka) (8.1.7)\n",
      "Requirement already satisfied: mypy-extensions>=0.4.3 in /Users/sashamorozov/Documents/Code/lib_sloyka/sloyka/.venv/lib/python3.10/site-packages (from black==23.1.0->sloyka) (1.0.0)\n",
      "Requirement already satisfied: packaging>=22.0 in /Users/sashamorozov/Documents/Code/lib_sloyka/sloyka/.venv/lib/python3.10/site-packages (from black==23.1.0->sloyka) (23.2)\n",
      "Requirement already satisfied: pathspec>=0.9.0 in /Users/sashamorozov/Documents/Code/lib_sloyka/sloyka/.venv/lib/python3.10/site-packages (from black==23.1.0->sloyka) (0.12.1)\n",
      "Requirement already satisfied: platformdirs>=2 in /Users/sashamorozov/Documents/Code/lib_sloyka/sloyka/.venv/lib/python3.10/site-packages (from black==23.1.0->sloyka) (4.2.0)\n",
      "Requirement already satisfied: tomli>=1.1.0 in /Users/sashamorozov/Documents/Code/lib_sloyka/sloyka/.venv/lib/python3.10/site-packages (from black==23.1.0->sloyka) (2.0.1)\n",
      "Requirement already satisfied: python-dateutil>=2.6.1 in /Users/sashamorozov/Documents/Code/lib_sloyka/sloyka/.venv/lib/python3.10/site-packages (from flair==0.12.2->sloyka) (2.8.2)\n",
      "Requirement already satisfied: gensim>=3.8.0 in /Users/sashamorozov/Documents/Code/lib_sloyka/sloyka/.venv/lib/python3.10/site-packages (from flair==0.12.2->sloyka) (4.3.2)\n",
      "Requirement already satisfied: segtok>=1.5.7 in /Users/sashamorozov/Documents/Code/lib_sloyka/sloyka/.venv/lib/python3.10/site-packages (from flair==0.12.2->sloyka) (1.5.11)\n",
      "Requirement already satisfied: mpld3==0.3 in /Users/sashamorozov/Documents/Code/lib_sloyka/sloyka/.venv/lib/python3.10/site-packages (from flair==0.12.2->sloyka) (0.3)\n",
      "Requirement already satisfied: sqlitedict>=1.6.0 in /Users/sashamorozov/Documents/Code/lib_sloyka/sloyka/.venv/lib/python3.10/site-packages (from flair==0.12.2->sloyka) (2.1.0)\n",
      "Requirement already satisfied: deprecated>=1.2.4 in /Users/sashamorozov/Documents/Code/lib_sloyka/sloyka/.venv/lib/python3.10/site-packages (from flair==0.12.2->sloyka) (1.2.14)\n",
      "Requirement already satisfied: hyperopt>=0.2.7 in /Users/sashamorozov/Documents/Code/lib_sloyka/sloyka/.venv/lib/python3.10/site-packages (from flair==0.12.2->sloyka) (0.2.7)\n",
      "Requirement already satisfied: boto3 in /Users/sashamorozov/Documents/Code/lib_sloyka/sloyka/.venv/lib/python3.10/site-packages (from flair==0.12.2->sloyka) (1.34.46)\n",
      "Requirement already satisfied: bpemb>=0.3.2 in /Users/sashamorozov/Documents/Code/lib_sloyka/sloyka/.venv/lib/python3.10/site-packages (from flair==0.12.2->sloyka) (0.3.4)\n",
      "Requirement already satisfied: regex in /Users/sashamorozov/Documents/Code/lib_sloyka/sloyka/.venv/lib/python3.10/site-packages (from flair==0.12.2->sloyka) (2023.12.25)\n",
      "Requirement already satisfied: tabulate in /Users/sashamorozov/Documents/Code/lib_sloyka/sloyka/.venv/lib/python3.10/site-packages (from flair==0.12.2->sloyka) (0.9.0)\n",
      "Requirement already satisfied: langdetect in /Users/sashamorozov/Documents/Code/lib_sloyka/sloyka/.venv/lib/python3.10/site-packages (from flair==0.12.2->sloyka) (1.0.9)\n",
      "Requirement already satisfied: lxml in /Users/sashamorozov/Documents/Code/lib_sloyka/sloyka/.venv/lib/python3.10/site-packages (from flair==0.12.2->sloyka) (5.1.0)\n",
      "Requirement already satisfied: ftfy in /Users/sashamorozov/Documents/Code/lib_sloyka/sloyka/.venv/lib/python3.10/site-packages (from flair==0.12.2->sloyka) (6.1.3)\n",
      "Requirement already satisfied: janome in /Users/sashamorozov/Documents/Code/lib_sloyka/sloyka/.venv/lib/python3.10/site-packages (from flair==0.12.2->sloyka) (0.5.0)\n",
      "Requirement already satisfied: gdown==4.4.0 in /Users/sashamorozov/Documents/Code/lib_sloyka/sloyka/.venv/lib/python3.10/site-packages (from flair==0.12.2->sloyka) (4.4.0)\n",
      "Requirement already satisfied: huggingface-hub>=0.10.0 in /Users/sashamorozov/Documents/Code/lib_sloyka/sloyka/.venv/lib/python3.10/site-packages (from flair==0.12.2->sloyka) (0.20.3)\n",
      "Requirement already satisfied: conllu>=4.0 in /Users/sashamorozov/Documents/Code/lib_sloyka/sloyka/.venv/lib/python3.10/site-packages (from flair==0.12.2->sloyka) (4.5.3)\n",
      "Requirement already satisfied: more-itertools in /Users/sashamorozov/Documents/Code/lib_sloyka/sloyka/.venv/lib/python3.10/site-packages (from flair==0.12.2->sloyka) (10.2.0)\n",
      "Requirement already satisfied: wikipedia-api in /Users/sashamorozov/Documents/Code/lib_sloyka/sloyka/.venv/lib/python3.10/site-packages (from flair==0.12.2->sloyka) (0.6.0)\n",
      "Requirement already satisfied: pptree in /Users/sashamorozov/Documents/Code/lib_sloyka/sloyka/.venv/lib/python3.10/site-packages (from flair==0.12.2->sloyka) (3.1)\n",
      "Requirement already satisfied: pytorch-revgrad in /Users/sashamorozov/Documents/Code/lib_sloyka/sloyka/.venv/lib/python3.10/site-packages (from flair==0.12.2->sloyka) (0.2.0)\n",
      "Requirement already satisfied: transformer-smaller-training-vocab>=0.2.1 in /Users/sashamorozov/Documents/Code/lib_sloyka/sloyka/.venv/lib/python3.10/site-packages (from flair==0.12.2->sloyka) (0.3.3)\n",
      "Requirement already satisfied: mccabe<0.8.0,>=0.7.0 in /Users/sashamorozov/Documents/Code/lib_sloyka/sloyka/.venv/lib/python3.10/site-packages (from flake8==6.0.0->sloyka) (0.7.0)\n",
      "Requirement already satisfied: pycodestyle<2.11.0,>=2.10.0 in /Users/sashamorozov/Documents/Code/lib_sloyka/sloyka/.venv/lib/python3.10/site-packages (from flake8==6.0.0->sloyka) (2.10.0)\n",
      "Requirement already satisfied: pyflakes<3.1.0,>=3.0.0 in /Users/sashamorozov/Documents/Code/lib_sloyka/sloyka/.venv/lib/python3.10/site-packages (from flake8==6.0.0->sloyka) (3.0.1)\n",
      "Requirement already satisfied: fiona>=1.8 in /Users/sashamorozov/Documents/Code/lib_sloyka/sloyka/.venv/lib/python3.10/site-packages (from geopandas==0.12.2->sloyka) (1.9.5)\n",
      "Requirement already satisfied: pyproj>=2.6.1.post1 in /Users/sashamorozov/Documents/Code/lib_sloyka/sloyka/.venv/lib/python3.10/site-packages (from geopandas==0.12.2->sloyka) (3.6.1)\n",
      "Requirement already satisfied: geographiclib<3,>=1.52 in /Users/sashamorozov/Documents/Code/lib_sloyka/sloyka/.venv/lib/python3.10/site-packages (from geopy==2.3.0->sloyka) (2.0)\n",
      "Requirement already satisfied: rich>=10.4.0 in /Users/sashamorozov/Documents/Code/lib_sloyka/sloyka/.venv/lib/python3.10/site-packages (from keybert==0.8.3->sloyka) (13.7.0)\n",
      "Requirement already satisfied: contourpy>=1.0.1 in /Users/sashamorozov/Documents/Code/lib_sloyka/sloyka/.venv/lib/python3.10/site-packages (from matplotlib==3.7.0->sloyka) (1.2.0)\n",
      "Requirement already satisfied: cycler>=0.10 in /Users/sashamorozov/Documents/Code/lib_sloyka/sloyka/.venv/lib/python3.10/site-packages (from matplotlib==3.7.0->sloyka) (0.12.1)\n",
      "Requirement already satisfied: fonttools>=4.22.0 in /Users/sashamorozov/Documents/Code/lib_sloyka/sloyka/.venv/lib/python3.10/site-packages (from matplotlib==3.7.0->sloyka) (4.49.0)\n",
      "Requirement already satisfied: kiwisolver>=1.0.1 in /Users/sashamorozov/Documents/Code/lib_sloyka/sloyka/.venv/lib/python3.10/site-packages (from matplotlib==3.7.0->sloyka) (1.4.5)\n",
      "Requirement already satisfied: pillow>=6.2.0 in /Users/sashamorozov/Documents/Code/lib_sloyka/sloyka/.venv/lib/python3.10/site-packages (from matplotlib==3.7.0->sloyka) (10.2.0)\n",
      "Requirement already satisfied: pyparsing>=2.3.1 in /Users/sashamorozov/Documents/Code/lib_sloyka/sloyka/.venv/lib/python3.10/site-packages (from matplotlib==3.7.0->sloyka) (3.1.1)\n",
      "Requirement already satisfied: razdel>=0.5.0 in /Users/sashamorozov/Documents/Code/lib_sloyka/sloyka/.venv/lib/python3.10/site-packages (from natasha==1.6.0->sloyka) (0.5.0)\n",
      "Requirement already satisfied: navec>=0.9.0 in /Users/sashamorozov/Documents/Code/lib_sloyka/sloyka/.venv/lib/python3.10/site-packages (from natasha==1.6.0->sloyka) (0.10.0)\n",
      "Requirement already satisfied: slovnet>=0.6.0 in /Users/sashamorozov/Documents/Code/lib_sloyka/sloyka/.venv/lib/python3.10/site-packages (from natasha==1.6.0->sloyka) (0.6.0)\n",
      "Requirement already satisfied: yargy>=0.16.0 in /Users/sashamorozov/Documents/Code/lib_sloyka/sloyka/.venv/lib/python3.10/site-packages (from natasha==1.6.0->sloyka) (0.16.0)\n",
      "Requirement already satisfied: ipymarkup>=0.8.0 in /Users/sashamorozov/Documents/Code/lib_sloyka/sloyka/.venv/lib/python3.10/site-packages (from natasha==1.6.0->sloyka) (0.9.0)\n",
      "Requirement already satisfied: joblib in /Users/sashamorozov/Documents/Code/lib_sloyka/sloyka/.venv/lib/python3.10/site-packages (from nltk==3.8.1->sloyka) (1.3.2)\n",
      "Requirement already satisfied: requests in /Users/sashamorozov/Documents/Code/lib_sloyka/sloyka/.venv/lib/python3.10/site-packages (from osm2geojson==0.2.3->sloyka) (2.31.0)\n",
      "Requirement already satisfied: dill>=0.3.1 in /Users/sashamorozov/Documents/Code/lib_sloyka/sloyka/.venv/lib/python3.10/site-packages (from pandarallel==1.6.5->sloyka) (0.3.8)\n",
      "Requirement already satisfied: psutil in /Users/sashamorozov/Documents/Code/lib_sloyka/sloyka/.venv/lib/python3.10/site-packages (from pandarallel==1.6.5->sloyka) (5.9.8)\n",
      "Requirement already satisfied: pytz>=2020.1 in /Users/sashamorozov/Documents/Code/lib_sloyka/sloyka/.venv/lib/python3.10/site-packages (from pandas==1.5.3->sloyka) (2024.1)\n",
      "Requirement already satisfied: astroid<=3.1.0-dev0,>=3.0.1 in /Users/sashamorozov/Documents/Code/lib_sloyka/sloyka/.venv/lib/python3.10/site-packages (from pylint==3.0.2->sloyka) (3.0.3)\n",
      "Requirement already satisfied: tomlkit>=0.10.1 in /Users/sashamorozov/Documents/Code/lib_sloyka/sloyka/.venv/lib/python3.10/site-packages (from pylint==3.0.2->sloyka) (0.12.3)\n",
      "Requirement already satisfied: dawg-python>=0.7.1 in /Users/sashamorozov/Documents/Code/lib_sloyka/sloyka/.venv/lib/python3.10/site-packages (from pymorphy2==0.9.1->sloyka) (0.7.2)\n",
      "Requirement already satisfied: docopt>=0.6 in /Users/sashamorozov/Documents/Code/lib_sloyka/sloyka/.venv/lib/python3.10/site-packages (from pymorphy2==0.9.1->sloyka) (0.6.2)\n",
      "Requirement already satisfied: pymorphy3-dicts-ru in /Users/sashamorozov/Documents/Code/lib_sloyka/sloyka/.venv/lib/python3.10/site-packages (from pymorphy3==2.0.1->sloyka) (2.4.417150.4580142)\n",
      "Requirement already satisfied: scipy>=1.3.2 in /Users/sashamorozov/Documents/Code/lib_sloyka/sloyka/.venv/lib/python3.10/site-packages (from scikit-learn==1.2.1->sloyka) (1.12.0)\n",
      "Requirement already satisfied: threadpoolctl>=2.0.0 in /Users/sashamorozov/Documents/Code/lib_sloyka/sloyka/.venv/lib/python3.10/site-packages (from scikit-learn==1.2.1->sloyka) (3.3.0)\n",
      "Requirement already satisfied: spacy-legacy<3.1.0,>=3.0.11 in /Users/sashamorozov/Documents/Code/lib_sloyka/sloyka/.venv/lib/python3.10/site-packages (from spacy==3.5.0->sloyka) (3.0.12)\n",
      "Requirement already satisfied: spacy-loggers<2.0.0,>=1.0.0 in /Users/sashamorozov/Documents/Code/lib_sloyka/sloyka/.venv/lib/python3.10/site-packages (from spacy==3.5.0->sloyka) (1.0.5)\n",
      "Requirement already satisfied: murmurhash<1.1.0,>=0.28.0 in /Users/sashamorozov/Documents/Code/lib_sloyka/sloyka/.venv/lib/python3.10/site-packages (from spacy==3.5.0->sloyka) (1.0.10)\n",
      "Requirement already satisfied: cymem<2.1.0,>=2.0.2 in /Users/sashamorozov/Documents/Code/lib_sloyka/sloyka/.venv/lib/python3.10/site-packages (from spacy==3.5.0->sloyka) (2.0.8)\n",
      "Requirement already satisfied: preshed<3.1.0,>=3.0.2 in /Users/sashamorozov/Documents/Code/lib_sloyka/sloyka/.venv/lib/python3.10/site-packages (from spacy==3.5.0->sloyka) (3.0.9)\n",
      "Requirement already satisfied: thinc<8.2.0,>=8.1.0 in /Users/sashamorozov/Documents/Code/lib_sloyka/sloyka/.venv/lib/python3.10/site-packages (from spacy==3.5.0->sloyka) (8.1.12)\n",
      "Requirement already satisfied: wasabi<1.2.0,>=0.9.1 in /Users/sashamorozov/Documents/Code/lib_sloyka/sloyka/.venv/lib/python3.10/site-packages (from spacy==3.5.0->sloyka) (1.1.2)\n",
      "Requirement already satisfied: srsly<3.0.0,>=2.4.3 in /Users/sashamorozov/Documents/Code/lib_sloyka/sloyka/.venv/lib/python3.10/site-packages (from spacy==3.5.0->sloyka) (2.4.8)\n",
      "Requirement already satisfied: catalogue<2.1.0,>=2.0.6 in /Users/sashamorozov/Documents/Code/lib_sloyka/sloyka/.venv/lib/python3.10/site-packages (from spacy==3.5.0->sloyka) (2.0.10)\n",
      "Requirement already satisfied: typer<0.8.0,>=0.3.0 in /Users/sashamorozov/Documents/Code/lib_sloyka/sloyka/.venv/lib/python3.10/site-packages (from spacy==3.5.0->sloyka) (0.7.0)\n",
      "Requirement already satisfied: pathy>=0.10.0 in /Users/sashamorozov/Documents/Code/lib_sloyka/sloyka/.venv/lib/python3.10/site-packages (from spacy==3.5.0->sloyka) (0.11.0)\n",
      "Requirement already satisfied: smart-open<7.0.0,>=5.2.1 in /Users/sashamorozov/Documents/Code/lib_sloyka/sloyka/.venv/lib/python3.10/site-packages (from spacy==3.5.0->sloyka) (6.4.0)\n",
      "Requirement already satisfied: pydantic!=1.8,!=1.8.1,<1.11.0,>=1.7.4 in /Users/sashamorozov/Documents/Code/lib_sloyka/sloyka/.venv/lib/python3.10/site-packages (from spacy==3.5.0->sloyka) (1.10.14)\n",
      "Requirement already satisfied: jinja2 in /Users/sashamorozov/Documents/Code/lib_sloyka/sloyka/.venv/lib/python3.10/site-packages (from spacy==3.5.0->sloyka) (3.1.3)\n",
      "Requirement already satisfied: setuptools in /Users/sashamorozov/Documents/Code/lib_sloyka/sloyka/.venv/lib/python3.10/site-packages (from spacy==3.5.0->sloyka) (69.1.0)\n",
      "Requirement already satisfied: langcodes<4.0.0,>=3.2.0 in /Users/sashamorozov/Documents/Code/lib_sloyka/sloyka/.venv/lib/python3.10/site-packages (from spacy==3.5.0->sloyka) (3.3.0)\n",
      "Requirement already satisfied: sphinxcontrib-applehelp in /Users/sashamorozov/Documents/Code/lib_sloyka/sloyka/.venv/lib/python3.10/site-packages (from sphinx==7.1.2->sloyka) (1.0.8)\n",
      "Requirement already satisfied: sphinxcontrib-devhelp in /Users/sashamorozov/Documents/Code/lib_sloyka/sloyka/.venv/lib/python3.10/site-packages (from sphinx==7.1.2->sloyka) (1.0.6)\n",
      "Requirement already satisfied: sphinxcontrib-jsmath in /Users/sashamorozov/Documents/Code/lib_sloyka/sloyka/.venv/lib/python3.10/site-packages (from sphinx==7.1.2->sloyka) (1.0.1)\n",
      "Requirement already satisfied: sphinxcontrib-htmlhelp>=2.0.0 in /Users/sashamorozov/Documents/Code/lib_sloyka/sloyka/.venv/lib/python3.10/site-packages (from sphinx==7.1.2->sloyka) (2.0.5)\n",
      "Requirement already satisfied: sphinxcontrib-serializinghtml>=1.1.5 in /Users/sashamorozov/Documents/Code/lib_sloyka/sloyka/.venv/lib/python3.10/site-packages (from sphinx==7.1.2->sloyka) (1.1.10)\n",
      "Requirement already satisfied: sphinxcontrib-qthelp in /Users/sashamorozov/Documents/Code/lib_sloyka/sloyka/.venv/lib/python3.10/site-packages (from sphinx==7.1.2->sloyka) (1.0.7)\n",
      "Requirement already satisfied: Pygments>=2.13 in /Users/sashamorozov/Documents/Code/lib_sloyka/sloyka/.venv/lib/python3.10/site-packages (from sphinx==7.1.2->sloyka) (2.17.2)\n",
      "Requirement already satisfied: docutils<0.21,>=0.18.1 in /Users/sashamorozov/Documents/Code/lib_sloyka/sloyka/.venv/lib/python3.10/site-packages (from sphinx==7.1.2->sloyka) (0.18.1)\n",
      "Requirement already satisfied: snowballstemmer>=2.0 in /Users/sashamorozov/Documents/Code/lib_sloyka/sloyka/.venv/lib/python3.10/site-packages (from sphinx==7.1.2->sloyka) (2.2.0)\n",
      "Requirement already satisfied: babel>=2.9 in /Users/sashamorozov/Documents/Code/lib_sloyka/sloyka/.venv/lib/python3.10/site-packages (from sphinx==7.1.2->sloyka) (2.14.0)\n",
      "Requirement already satisfied: alabaster<0.8,>=0.7 in /Users/sashamorozov/Documents/Code/lib_sloyka/sloyka/.venv/lib/python3.10/site-packages (from sphinx==7.1.2->sloyka) (0.7.16)\n",
      "Requirement already satisfied: imagesize>=1.3 in /Users/sashamorozov/Documents/Code/lib_sloyka/sloyka/.venv/lib/python3.10/site-packages (from sphinx==7.1.2->sloyka) (1.4.1)\n",
      "Requirement already satisfied: sphinxcontrib-jquery<5,>=4 in /Users/sashamorozov/Documents/Code/lib_sloyka/sloyka/.venv/lib/python3.10/site-packages (from sphinx-rtd-theme==1.3.0rc1->sloyka) (4.1)\n",
      "Requirement already satisfied: filelock in /Users/sashamorozov/Documents/Code/lib_sloyka/sloyka/.venv/lib/python3.10/site-packages (from torch==2.1.1->sloyka) (3.13.1)\n",
      "Requirement already satisfied: typing-extensions in /Users/sashamorozov/Documents/Code/lib_sloyka/sloyka/.venv/lib/python3.10/site-packages (from torch==2.1.1->sloyka) (4.9.0)\n",
      "Requirement already satisfied: sympy in /Users/sashamorozov/Documents/Code/lib_sloyka/sloyka/.venv/lib/python3.10/site-packages (from torch==2.1.1->sloyka) (1.12)\n",
      "Requirement already satisfied: fsspec in /Users/sashamorozov/Documents/Code/lib_sloyka/sloyka/.venv/lib/python3.10/site-packages (from torch==2.1.1->sloyka) (2024.2.0)\n",
      "Requirement already satisfied: pyyaml>=5.1 in /Users/sashamorozov/Documents/Code/lib_sloyka/sloyka/.venv/lib/python3.10/site-packages (from transformers==4.30.2->sloyka) (6.0.1)\n",
      "Requirement already satisfied: tokenizers!=0.11.3,<0.14,>=0.11.1 in /Users/sashamorozov/Documents/Code/lib_sloyka/sloyka/.venv/lib/python3.10/site-packages (from transformers==4.30.2->sloyka) (0.13.3)\n",
      "Requirement already satisfied: safetensors>=0.3.1 in /Users/sashamorozov/Documents/Code/lib_sloyka/sloyka/.venv/lib/python3.10/site-packages (from transformers==4.30.2->sloyka) (0.4.2)\n",
      "Requirement already satisfied: six in /Users/sashamorozov/Documents/Code/lib_sloyka/sloyka/.venv/lib/python3.10/site-packages (from gdown==4.4.0->flair==0.12.2->sloyka) (1.16.0)\n",
      "Requirement already satisfied: beautifulsoup4 in /Users/sashamorozov/Documents/Code/lib_sloyka/sloyka/.venv/lib/python3.10/site-packages (from gdown==4.4.0->flair==0.12.2->sloyka) (4.12.3)\n",
      "Requirement already satisfied: sentencepiece in /Users/sashamorozov/Documents/Code/lib_sloyka/sloyka/.venv/lib/python3.10/site-packages (from bpemb>=0.3.2->flair==0.12.2->sloyka) (0.1.99)\n",
      "Requirement already satisfied: wrapt<2,>=1.10 in /Users/sashamorozov/Documents/Code/lib_sloyka/sloyka/.venv/lib/python3.10/site-packages (from deprecated>=1.2.4->flair==0.12.2->sloyka) (1.16.0)\n",
      "Requirement already satisfied: attrs>=19.2.0 in /Users/sashamorozov/Documents/Code/lib_sloyka/sloyka/.venv/lib/python3.10/site-packages (from fiona>=1.8->geopandas==0.12.2->sloyka) (23.2.0)\n",
      "Requirement already satisfied: certifi in /Users/sashamorozov/Documents/Code/lib_sloyka/sloyka/.venv/lib/python3.10/site-packages (from fiona>=1.8->geopandas==0.12.2->sloyka) (2024.2.2)\n",
      "Requirement already satisfied: click-plugins>=1.0 in /Users/sashamorozov/Documents/Code/lib_sloyka/sloyka/.venv/lib/python3.10/site-packages (from fiona>=1.8->geopandas==0.12.2->sloyka) (1.1.1)\n",
      "Requirement already satisfied: cligj>=0.5 in /Users/sashamorozov/Documents/Code/lib_sloyka/sloyka/.venv/lib/python3.10/site-packages (from fiona>=1.8->geopandas==0.12.2->sloyka) (0.7.2)\n",
      "Requirement already satisfied: cython<3,>=0.27 in /Users/sashamorozov/Documents/Code/lib_sloyka/sloyka/.venv/lib/python3.10/site-packages (from hdbscan>=0.8.29->bertopic==0.15.0->sloyka) (0.29.37)\n",
      "Requirement already satisfied: future in /Users/sashamorozov/Documents/Code/lib_sloyka/sloyka/.venv/lib/python3.10/site-packages (from hyperopt>=0.2.7->flair==0.12.2->sloyka) (0.18.3)\n",
      "Requirement already satisfied: cloudpickle in /Users/sashamorozov/Documents/Code/lib_sloyka/sloyka/.venv/lib/python3.10/site-packages (from hyperopt>=0.2.7->flair==0.12.2->sloyka) (3.0.0)\n",
      "Requirement already satisfied: py4j in /Users/sashamorozov/Documents/Code/lib_sloyka/sloyka/.venv/lib/python3.10/site-packages (from hyperopt>=0.2.7->flair==0.12.2->sloyka) (0.10.9.7)\n",
      "Requirement already satisfied: intervaltree>=3 in /Users/sashamorozov/Documents/Code/lib_sloyka/sloyka/.venv/lib/python3.10/site-packages (from ipymarkup>=0.8.0->natasha==1.6.0->sloyka) (3.1.0)\n",
      "Requirement already satisfied: MarkupSafe>=2.0 in /Users/sashamorozov/Documents/Code/lib_sloyka/sloyka/.venv/lib/python3.10/site-packages (from jinja2->spacy==3.5.0->sloyka) (2.1.5)\n",
      "Requirement already satisfied: pathlib-abc==0.1.1 in /Users/sashamorozov/Documents/Code/lib_sloyka/sloyka/.venv/lib/python3.10/site-packages (from pathy>=0.10.0->spacy==3.5.0->sloyka) (0.1.1)\n",
      "Requirement already satisfied: tenacity>=6.2.0 in /Users/sashamorozov/Documents/Code/lib_sloyka/sloyka/.venv/lib/python3.10/site-packages (from plotly>=4.7.0->bertopic==0.15.0->sloyka) (8.2.3)\n",
      "Requirement already satisfied: charset-normalizer<4,>=2 in /Users/sashamorozov/Documents/Code/lib_sloyka/sloyka/.venv/lib/python3.10/site-packages (from requests->osm2geojson==0.2.3->sloyka) (3.3.2)\n",
      "Requirement already satisfied: idna<4,>=2.5 in /Users/sashamorozov/Documents/Code/lib_sloyka/sloyka/.venv/lib/python3.10/site-packages (from requests->osm2geojson==0.2.3->sloyka) (3.6)\n",
      "Requirement already satisfied: urllib3<3,>=1.21.1 in /Users/sashamorozov/Documents/Code/lib_sloyka/sloyka/.venv/lib/python3.10/site-packages (from requests->osm2geojson==0.2.3->sloyka) (2.0.7)\n",
      "Requirement already satisfied: markdown-it-py>=2.2.0 in /Users/sashamorozov/Documents/Code/lib_sloyka/sloyka/.venv/lib/python3.10/site-packages (from rich>=10.4.0->keybert==0.8.3->sloyka) (3.0.0)\n",
      "Requirement already satisfied: torchvision in /Users/sashamorozov/Documents/Code/lib_sloyka/sloyka/.venv/lib/python3.10/site-packages (from sentence-transformers>=0.4.1->bertopic==0.15.0->sloyka) (0.16.1)\n",
      "Requirement already satisfied: blis<0.8.0,>=0.7.8 in /Users/sashamorozov/Documents/Code/lib_sloyka/sloyka/.venv/lib/python3.10/site-packages (from thinc<8.2.0,>=8.1.0->spacy==3.5.0->sloyka) (0.7.11)\n",
      "Requirement already satisfied: confection<1.0.0,>=0.0.1 in /Users/sashamorozov/Documents/Code/lib_sloyka/sloyka/.venv/lib/python3.10/site-packages (from thinc<8.2.0,>=8.1.0->spacy==3.5.0->sloyka) (0.1.4)\n",
      "Requirement already satisfied: protobuf<=3.20.3 in /Users/sashamorozov/Documents/Code/lib_sloyka/sloyka/.venv/lib/python3.10/site-packages (from transformers[sentencepiece]>=4.18.0->flair==0.12.2->sloyka) (3.20.3)\n",
      "Requirement already satisfied: numba>=0.51.2 in /Users/sashamorozov/Documents/Code/lib_sloyka/sloyka/.venv/lib/python3.10/site-packages (from umap-learn>=0.5.0->bertopic==0.15.0->sloyka) (0.59.0)\n",
      "Requirement already satisfied: pynndescent>=0.5 in /Users/sashamorozov/Documents/Code/lib_sloyka/sloyka/.venv/lib/python3.10/site-packages (from umap-learn>=0.5.0->bertopic==0.15.0->sloyka) (0.5.11)\n",
      "Requirement already satisfied: botocore<1.35.0,>=1.34.46 in /Users/sashamorozov/Documents/Code/lib_sloyka/sloyka/.venv/lib/python3.10/site-packages (from boto3->flair==0.12.2->sloyka) (1.34.46)\n",
      "Requirement already satisfied: jmespath<2.0.0,>=0.7.1 in /Users/sashamorozov/Documents/Code/lib_sloyka/sloyka/.venv/lib/python3.10/site-packages (from boto3->flair==0.12.2->sloyka) (1.0.1)\n",
      "Requirement already satisfied: s3transfer<0.11.0,>=0.10.0 in /Users/sashamorozov/Documents/Code/lib_sloyka/sloyka/.venv/lib/python3.10/site-packages (from boto3->flair==0.12.2->sloyka) (0.10.0)\n",
      "Requirement already satisfied: wcwidth<0.3.0,>=0.2.12 in /Users/sashamorozov/Documents/Code/lib_sloyka/sloyka/.venv/lib/python3.10/site-packages (from ftfy->flair==0.12.2->sloyka) (0.2.13)\n",
      "Requirement already satisfied: mpmath>=0.19 in /Users/sashamorozov/Documents/Code/lib_sloyka/sloyka/.venv/lib/python3.10/site-packages (from sympy->torch==2.1.1->sloyka) (1.3.0)\n",
      "Requirement already satisfied: sortedcontainers<3.0,>=2.0 in /Users/sashamorozov/Documents/Code/lib_sloyka/sloyka/.venv/lib/python3.10/site-packages (from intervaltree>=3->ipymarkup>=0.8.0->natasha==1.6.0->sloyka) (2.4.0)\n",
      "Requirement already satisfied: mdurl~=0.1 in /Users/sashamorozov/Documents/Code/lib_sloyka/sloyka/.venv/lib/python3.10/site-packages (from markdown-it-py>=2.2.0->rich>=10.4.0->keybert==0.8.3->sloyka) (0.1.2)\n",
      "Requirement already satisfied: llvmlite<0.43,>=0.42.0dev0 in /Users/sashamorozov/Documents/Code/lib_sloyka/sloyka/.venv/lib/python3.10/site-packages (from numba>=0.51.2->umap-learn>=0.5.0->bertopic==0.15.0->sloyka) (0.42.0)\n",
      "Requirement already satisfied: accelerate>=0.20.2 in /Users/sashamorozov/Documents/Code/lib_sloyka/sloyka/.venv/lib/python3.10/site-packages (from transformers[torch]<5.0,>=4.1->transformer-smaller-training-vocab>=0.2.1->flair==0.12.2->sloyka) (0.27.2)\n",
      "Requirement already satisfied: soupsieve>1.2 in /Users/sashamorozov/Documents/Code/lib_sloyka/sloyka/.venv/lib/python3.10/site-packages (from beautifulsoup4->gdown==4.4.0->flair==0.12.2->sloyka) (2.5)\n",
      "Requirement already satisfied: PySocks!=1.5.7,>=1.5.6 in /Users/sashamorozov/Documents/Code/lib_sloyka/sloyka/.venv/lib/python3.10/site-packages (from requests[socks]->gdown==4.4.0->flair==0.12.2->sloyka) (1.7.1)\n",
      "Note: you may need to restart the kernel to use updated packages.\n",
      "Requirement already satisfied: pyvis in /Users/sashamorozov/Documents/Code/lib_sloyka/sloyka/.venv/lib/python3.10/site-packages (0.3.2)\n",
      "Requirement already satisfied: ipython>=5.3.0 in /Users/sashamorozov/Documents/Code/lib_sloyka/sloyka/.venv/lib/python3.10/site-packages (from pyvis) (8.21.0)\n",
      "Requirement already satisfied: jinja2>=2.9.6 in /Users/sashamorozov/Documents/Code/lib_sloyka/sloyka/.venv/lib/python3.10/site-packages (from pyvis) (3.1.3)\n",
      "Requirement already satisfied: jsonpickle>=1.4.1 in /Users/sashamorozov/Documents/Code/lib_sloyka/sloyka/.venv/lib/python3.10/site-packages (from pyvis) (3.0.3)\n",
      "Requirement already satisfied: networkx>=1.11 in /Users/sashamorozov/Documents/Code/lib_sloyka/sloyka/.venv/lib/python3.10/site-packages (from pyvis) (3.1)\n",
      "Requirement already satisfied: decorator in /Users/sashamorozov/Documents/Code/lib_sloyka/sloyka/.venv/lib/python3.10/site-packages (from ipython>=5.3.0->pyvis) (5.1.1)\n",
      "Requirement already satisfied: jedi>=0.16 in /Users/sashamorozov/Documents/Code/lib_sloyka/sloyka/.venv/lib/python3.10/site-packages (from ipython>=5.3.0->pyvis) (0.19.1)\n",
      "Requirement already satisfied: matplotlib-inline in /Users/sashamorozov/Documents/Code/lib_sloyka/sloyka/.venv/lib/python3.10/site-packages (from ipython>=5.3.0->pyvis) (0.1.6)\n",
      "Requirement already satisfied: prompt-toolkit<3.1.0,>=3.0.41 in /Users/sashamorozov/Documents/Code/lib_sloyka/sloyka/.venv/lib/python3.10/site-packages (from ipython>=5.3.0->pyvis) (3.0.43)\n",
      "Requirement already satisfied: pygments>=2.4.0 in /Users/sashamorozov/Documents/Code/lib_sloyka/sloyka/.venv/lib/python3.10/site-packages (from ipython>=5.3.0->pyvis) (2.17.2)\n",
      "Requirement already satisfied: stack-data in /Users/sashamorozov/Documents/Code/lib_sloyka/sloyka/.venv/lib/python3.10/site-packages (from ipython>=5.3.0->pyvis) (0.6.3)\n",
      "Requirement already satisfied: traitlets>=5 in /Users/sashamorozov/Documents/Code/lib_sloyka/sloyka/.venv/lib/python3.10/site-packages (from ipython>=5.3.0->pyvis) (5.14.1)\n",
      "Requirement already satisfied: exceptiongroup in /Users/sashamorozov/Documents/Code/lib_sloyka/sloyka/.venv/lib/python3.10/site-packages (from ipython>=5.3.0->pyvis) (1.2.0)\n",
      "Requirement already satisfied: pexpect>4.3 in /Users/sashamorozov/Documents/Code/lib_sloyka/sloyka/.venv/lib/python3.10/site-packages (from ipython>=5.3.0->pyvis) (4.9.0)\n",
      "Requirement already satisfied: MarkupSafe>=2.0 in /Users/sashamorozov/Documents/Code/lib_sloyka/sloyka/.venv/lib/python3.10/site-packages (from jinja2>=2.9.6->pyvis) (2.1.5)\n",
      "Requirement already satisfied: parso<0.9.0,>=0.8.3 in /Users/sashamorozov/Documents/Code/lib_sloyka/sloyka/.venv/lib/python3.10/site-packages (from jedi>=0.16->ipython>=5.3.0->pyvis) (0.8.3)\n",
      "Requirement already satisfied: ptyprocess>=0.5 in /Users/sashamorozov/Documents/Code/lib_sloyka/sloyka/.venv/lib/python3.10/site-packages (from pexpect>4.3->ipython>=5.3.0->pyvis) (0.7.0)\n",
      "Requirement already satisfied: wcwidth in /Users/sashamorozov/Documents/Code/lib_sloyka/sloyka/.venv/lib/python3.10/site-packages (from prompt-toolkit<3.1.0,>=3.0.41->ipython>=5.3.0->pyvis) (0.2.13)\n",
      "Requirement already satisfied: executing>=1.2.0 in /Users/sashamorozov/Documents/Code/lib_sloyka/sloyka/.venv/lib/python3.10/site-packages (from stack-data->ipython>=5.3.0->pyvis) (2.0.1)\n",
      "Requirement already satisfied: asttokens>=2.1.0 in /Users/sashamorozov/Documents/Code/lib_sloyka/sloyka/.venv/lib/python3.10/site-packages (from stack-data->ipython>=5.3.0->pyvis) (2.4.1)\n",
      "Requirement already satisfied: pure-eval in /Users/sashamorozov/Documents/Code/lib_sloyka/sloyka/.venv/lib/python3.10/site-packages (from stack-data->ipython>=5.3.0->pyvis) (0.2.2)\n",
      "Requirement already satisfied: six>=1.12.0 in /Users/sashamorozov/Documents/Code/lib_sloyka/sloyka/.venv/lib/python3.10/site-packages (from asttokens>=2.1.0->stack-data->ipython>=5.3.0->pyvis) (1.16.0)\n",
      "Note: you may need to restart the kernel to use updated packages.\n"
     ]
    }
   ],
   "source": [
    "%pip install sloyka\n",
    "%pip install pyvis"
   ]
  },
  {
   "cell_type": "markdown",
   "metadata": {},
   "source": [
    "Импорт необходимых модулей:"
   ]
  },
  {
   "cell_type": "code",
   "execution_count": 1,
   "metadata": {},
   "outputs": [
    {
     "name": "stderr",
     "output_type": "stream",
     "text": [
      "/Users/sashamorozov/Documents/Code/lib_sloyka/sloyka/.venv/lib/python3.10/site-packages/tqdm/auto.py:22: TqdmWarning: IProgress not found. Please update jupyter and ipywidgets. See https://ipywidgets.readthedocs.io/en/stable/user_install.html\n",
      "  from .autonotebook import tqdm as notebook_tqdm\n"
     ]
    },
    {
     "name": "stdout",
     "output_type": "stream",
     "text": [
      "INFO: Pandarallel will run on -1 workers.\n",
      "INFO: Pandarallel will use standard multiprocessing data transfer (pipe) to transfer data between the main process and workers.\n"
     ]
    },
    {
     "name": "stderr",
     "output_type": "stream",
     "text": [
      "[nltk_data] Downloading package stopwords to\n",
      "[nltk_data]     /Users/sashamorozov/nltk_data...\n",
      "[nltk_data]   Package stopwords is already up-to-date!\n"
     ]
    }
   ],
   "source": [
    "import sloyka\n",
    "import warnings\n",
    "\n",
    "warnings.simplefilter(\"ignore\")\n",
    "\n",
    "import networkx as nx \n",
    "from pyvis.network import Network"
   ]
  },
  {
   "cell_type": "markdown",
   "metadata": {},
   "source": [
    "## Загрузка данных из ВК ##"
   ]
  },
  {
   "cell_type": "markdown",
   "metadata": {},
   "source": [
    "Вызов метода для парсинга данных с группы ВК:"
   ]
  },
  {
   "cell_type": "code",
   "execution_count": 3,
   "metadata": {},
   "outputs": [],
   "source": [
    "from sloyka import VKParser"
   ]
  },
  {
   "cell_type": "markdown",
   "metadata": {},
   "source": [
    "Ввод `id` группы ВК, с которой будут парситься данные, в `token` сервисный ключ приложения ВК."
   ]
  },
  {
   "cell_type": "code",
   "execution_count": 4,
   "metadata": {},
   "outputs": [],
   "source": [
    "owner_id = \"-129354225\" # группа ВК \"Центральный район за комфортную среду обитания\", id должен начинаться с \"-\"\n",
    "token = '492f35ec492f35ec492f35ecdd4a3926724492f492f35ec2c17df616b6994a83242f520' # Сервисный ключ доступа из приложения ВК"
   ]
  },
  {
   "cell_type": "markdown",
   "metadata": {},
   "source": [
    "Запуск парсера, необходимо также уставновить дату, до которой будут выкачиваться тексты постов в формате \"гггг.мм.дд.\":"
   ]
  },
  {
   "cell_type": "code",
   "execution_count": 6,
   "metadata": {},
   "outputs": [
    {
     "name": "stdout",
     "output_type": "stream",
     "text": [
      "2024-02-14 19:30:00\n",
      "posts downloaded\n"
     ]
    },
    {
     "name": "stderr",
     "output_type": "stream",
     "text": [
      "100%|██████████| 100/100 [10:06<00:00,  6.07s/it]\n"
     ]
    },
    {
     "name": "stdout",
     "output_type": "stream",
     "text": [
      "comments downloaded\n"
     ]
    }
   ],
   "source": [
    "posts = VKParser().run_parser(owner_id, token, 1000, \"2024-02-20\") "
   ]
  },
  {
   "cell_type": "markdown",
   "metadata": {},
   "source": [
    "Результат:"
   ]
  },
  {
   "cell_type": "code",
   "execution_count": 7,
   "metadata": {},
   "outputs": [
    {
     "data": {
      "text/html": [
       "<div>\n",
       "<style scoped>\n",
       "    .dataframe tbody tr th:only-of-type {\n",
       "        vertical-align: middle;\n",
       "    }\n",
       "\n",
       "    .dataframe tbody tr th {\n",
       "        vertical-align: top;\n",
       "    }\n",
       "\n",
       "    .dataframe thead th {\n",
       "        text-align: right;\n",
       "    }\n",
       "</style>\n",
       "<table border=\"1\" class=\"dataframe\">\n",
       "  <thead>\n",
       "    <tr style=\"text-align: right;\">\n",
       "      <th></th>\n",
       "      <th>date</th>\n",
       "      <th>id</th>\n",
       "      <th>text</th>\n",
       "      <th>views.count</th>\n",
       "      <th>likes.count</th>\n",
       "      <th>reposts.count</th>\n",
       "      <th>type</th>\n",
       "      <th>link</th>\n",
       "      <th>post_id</th>\n",
       "      <th>parents_stack</th>\n",
       "    </tr>\n",
       "  </thead>\n",
       "  <tbody>\n",
       "    <tr>\n",
       "      <th>0</th>\n",
       "      <td>2024-04-03 14:14:00</td>\n",
       "      <td>336610</td>\n",
       "      <td>Последний штрих зимы в Центральном районе или ...</td>\n",
       "      <td>1839.0</td>\n",
       "      <td>44</td>\n",
       "      <td>21.0</td>\n",
       "      <td>post</td>\n",
       "      <td>NaN</td>\n",
       "      <td>NaN</td>\n",
       "      <td>NaN</td>\n",
       "    </tr>\n",
       "    <tr>\n",
       "      <th>1</th>\n",
       "      <td>2024-04-03 10:30:00</td>\n",
       "      <td>336446</td>\n",
       "      <td>Плачевные последствия сноса дома Малозёмовой д...</td>\n",
       "      <td>2300.0</td>\n",
       "      <td>53</td>\n",
       "      <td>15.0</td>\n",
       "      <td>post</td>\n",
       "      <td>NaN</td>\n",
       "      <td>NaN</td>\n",
       "      <td>NaN</td>\n",
       "    </tr>\n",
       "    <tr>\n",
       "      <th>2</th>\n",
       "      <td>2024-04-02 19:30:00</td>\n",
       "      <td>335988</td>\n",
       "      <td>4 апреля в четверг состоится очередное заседан...</td>\n",
       "      <td>2665.0</td>\n",
       "      <td>46</td>\n",
       "      <td>10.0</td>\n",
       "      <td>post</td>\n",
       "      <td>https://balt2media.timepad.ru/event/2769709/До...</td>\n",
       "      <td>NaN</td>\n",
       "      <td>NaN</td>\n",
       "    </tr>\n",
       "    <tr>\n",
       "      <th>3</th>\n",
       "      <td>2024-04-02 10:30:00</td>\n",
       "      <td>335728</td>\n",
       "      <td>Собираем инициативную группу для организации р...</td>\n",
       "      <td>10604.0</td>\n",
       "      <td>508</td>\n",
       "      <td>202.0</td>\n",
       "      <td>post</td>\n",
       "      <td>https://vk.com/wall-129354225_333949|ваше</td>\n",
       "      <td>NaN</td>\n",
       "      <td>NaN</td>\n",
       "    </tr>\n",
       "    <tr>\n",
       "      <th>4</th>\n",
       "      <td>2024-04-01 19:30:00</td>\n",
       "      <td>335584</td>\n",
       "      <td>В Дикси намедни привезли царь-морковь 🥕Одна мо...</td>\n",
       "      <td>3745.0</td>\n",
       "      <td>55</td>\n",
       "      <td>11.0</td>\n",
       "      <td>post</td>\n",
       "      <td>NaN</td>\n",
       "      <td>NaN</td>\n",
       "      <td>NaN</td>\n",
       "    </tr>\n",
       "    <tr>\n",
       "      <th>...</th>\n",
       "      <td>...</td>\n",
       "      <td>...</td>\n",
       "      <td>...</td>\n",
       "      <td>...</td>\n",
       "      <td>...</td>\n",
       "      <td>...</td>\n",
       "      <td>...</td>\n",
       "      <td>...</td>\n",
       "      <td>...</td>\n",
       "      <td>...</td>\n",
       "    </tr>\n",
       "    <tr>\n",
       "      <th>5986</th>\n",
       "      <td>2024-02-15 10:03:38</td>\n",
       "      <td>329297</td>\n",
       "      <td>Подпишите с \"W\" возмездный договор на размещен...</td>\n",
       "      <td>NaN</td>\n",
       "      <td>1</td>\n",
       "      <td>NaN</td>\n",
       "      <td>comment</td>\n",
       "      <td>NaN</td>\n",
       "      <td>329242.0</td>\n",
       "      <td>None</td>\n",
       "    </tr>\n",
       "    <tr>\n",
       "      <th>5987</th>\n",
       "      <td>2024-02-15 13:02:56</td>\n",
       "      <td>329307</td>\n",
       "      <td>[id588441849|Сергей], единственное, комитет по...</td>\n",
       "      <td>NaN</td>\n",
       "      <td>0</td>\n",
       "      <td>NaN</td>\n",
       "      <td>reply</td>\n",
       "      <td>NaN</td>\n",
       "      <td>329242.0</td>\n",
       "      <td>329297</td>\n",
       "    </tr>\n",
       "    <tr>\n",
       "      <th>5988</th>\n",
       "      <td>2024-02-15 16:59:03</td>\n",
       "      <td>329323</td>\n",
       "      <td>[id588441849|Сергей], вот ниже Компечати напис...</td>\n",
       "      <td>NaN</td>\n",
       "      <td>1</td>\n",
       "      <td>NaN</td>\n",
       "      <td>reply</td>\n",
       "      <td>NaN</td>\n",
       "      <td>329242.0</td>\n",
       "      <td>329297</td>\n",
       "    </tr>\n",
       "    <tr>\n",
       "      <th>5989</th>\n",
       "      <td>2024-02-15 13:04:41</td>\n",
       "      <td>329308</td>\n",
       "      <td>KNru у нас как-то тоже запоганил фасад дома.\\n...</td>\n",
       "      <td>NaN</td>\n",
       "      <td>1</td>\n",
       "      <td>NaN</td>\n",
       "      <td>comment</td>\n",
       "      <td>NaN</td>\n",
       "      <td>329242.0</td>\n",
       "      <td>None</td>\n",
       "    </tr>\n",
       "    <tr>\n",
       "      <th>5990</th>\n",
       "      <td>2024-02-15 14:30:40</td>\n",
       "      <td>329320</td>\n",
       "      <td>Написал обращение по поводу баннеров.</td>\n",
       "      <td>NaN</td>\n",
       "      <td>2</td>\n",
       "      <td>NaN</td>\n",
       "      <td>comment</td>\n",
       "      <td>NaN</td>\n",
       "      <td>329242.0</td>\n",
       "      <td>None</td>\n",
       "    </tr>\n",
       "  </tbody>\n",
       "</table>\n",
       "<p>5991 rows × 10 columns</p>\n",
       "</div>"
      ],
      "text/plain": [
       "                     date      id  \\\n",
       "0     2024-04-03 14:14:00  336610   \n",
       "1     2024-04-03 10:30:00  336446   \n",
       "2     2024-04-02 19:30:00  335988   \n",
       "3     2024-04-02 10:30:00  335728   \n",
       "4     2024-04-01 19:30:00  335584   \n",
       "...                   ...     ...   \n",
       "5986  2024-02-15 10:03:38  329297   \n",
       "5987  2024-02-15 13:02:56  329307   \n",
       "5988  2024-02-15 16:59:03  329323   \n",
       "5989  2024-02-15 13:04:41  329308   \n",
       "5990  2024-02-15 14:30:40  329320   \n",
       "\n",
       "                                                   text  views.count  \\\n",
       "0     Последний штрих зимы в Центральном районе или ...       1839.0   \n",
       "1     Плачевные последствия сноса дома Малозёмовой д...       2300.0   \n",
       "2     4 апреля в четверг состоится очередное заседан...       2665.0   \n",
       "3     Собираем инициативную группу для организации р...      10604.0   \n",
       "4     В Дикси намедни привезли царь-морковь 🥕Одна мо...       3745.0   \n",
       "...                                                 ...          ...   \n",
       "5986  Подпишите с \"W\" возмездный договор на размещен...          NaN   \n",
       "5987  [id588441849|Сергей], единственное, комитет по...          NaN   \n",
       "5988  [id588441849|Сергей], вот ниже Компечати напис...          NaN   \n",
       "5989  KNru у нас как-то тоже запоганил фасад дома.\\n...          NaN   \n",
       "5990              Написал обращение по поводу баннеров.          NaN   \n",
       "\n",
       "      likes.count  reposts.count     type  \\\n",
       "0              44           21.0     post   \n",
       "1              53           15.0     post   \n",
       "2              46           10.0     post   \n",
       "3             508          202.0     post   \n",
       "4              55           11.0     post   \n",
       "...           ...            ...      ...   \n",
       "5986            1            NaN  comment   \n",
       "5987            0            NaN    reply   \n",
       "5988            1            NaN    reply   \n",
       "5989            1            NaN  comment   \n",
       "5990            2            NaN  comment   \n",
       "\n",
       "                                                   link   post_id  \\\n",
       "0                                                   NaN       NaN   \n",
       "1                                                   NaN       NaN   \n",
       "2     https://balt2media.timepad.ru/event/2769709/До...       NaN   \n",
       "3             https://vk.com/wall-129354225_333949|ваше       NaN   \n",
       "4                                                   NaN       NaN   \n",
       "...                                                 ...       ...   \n",
       "5986                                                NaN  329242.0   \n",
       "5987                                                NaN  329242.0   \n",
       "5988                                                NaN  329242.0   \n",
       "5989                                                NaN  329242.0   \n",
       "5990                                                NaN  329242.0   \n",
       "\n",
       "     parents_stack  \n",
       "0              NaN  \n",
       "1              NaN  \n",
       "2              NaN  \n",
       "3              NaN  \n",
       "4              NaN  \n",
       "...            ...  \n",
       "5986          None  \n",
       "5987        329297  \n",
       "5988        329297  \n",
       "5989          None  \n",
       "5990          None  \n",
       "\n",
       "[5991 rows x 10 columns]"
      ]
     },
     "execution_count": 7,
     "metadata": {},
     "output_type": "execute_result"
    }
   ],
   "source": [
    "posts"
   ]
  },
  {
   "cell_type": "markdown",
   "metadata": {},
   "source": [
    "Сохранение результата в формате `.csv`:"
   ]
  },
  {
   "cell_type": "code",
   "execution_count": 10,
   "metadata": {},
   "outputs": [],
   "source": [
    "posts.to_csv('posts.csv', index=False)"
   ]
  },
  {
   "cell_type": "markdown",
   "metadata": {},
   "source": [
    "## Геокодирование ##"
   ]
  },
  {
   "cell_type": "markdown",
   "metadata": {},
   "source": [
    "Импорт Геокодера из Sloyka:"
   ]
  },
  {
   "cell_type": "code",
   "execution_count": 2,
   "metadata": {},
   "outputs": [
    {
     "name": "stdout",
     "output_type": "stream",
     "text": [
      "2024-04-03 17:38:38,692 SequenceTagger predicts: Dictionary with 5 tags: O, S-ADDRESS, B-ADDRESS, E-ADDRESS, I-ADDRESS\n"
     ]
    }
   ],
   "source": [
    "from sloyka import Geocoder\n",
    "geocoder = Geocoder()"
   ]
  },
  {
   "cell_type": "markdown",
   "metadata": {},
   "source": [
    "Запуск гекодера, на вход датафрейм `posts` и колонка `text` из него:"
   ]
  },
  {
   "cell_type": "code",
   "execution_count": 6,
   "metadata": {},
   "outputs": [],
   "source": [
    "import pandas as pd\n",
    "post = pd.read_csv('/Users/sashamorozov/Documents/Code/lib_sloyka/sloyka/examples/posts.csv')"
   ]
  },
  {
   "cell_type": "code",
   "execution_count": 8,
   "metadata": {},
   "outputs": [
    {
     "name": "stdout",
     "output_type": "stream",
     "text": [
      "\u001b[32m04-03 17:44\u001b[0m | \u001b[1mINFO    \u001b[0m | \u001b[36mclear_names started\u001b[0m\n",
      "\u001b[32m04-03 17:44\u001b[0m | \u001b[1mINFO    \u001b[0m | \u001b[36mget_street started\u001b[0m\n",
      "\u001b[32m04-03 17:44\u001b[0m | \u001b[1mINFO    \u001b[0m | \u001b[36mextract_ner_street started\u001b[0m\n"
     ]
    },
    {
     "name": "stderr",
     "output_type": "stream",
     "text": [
      " 76%|███████▌  | 4562/5991 [00:24<00:06, 223.70it/s]"
     ]
    },
    {
     "name": "stdout",
     "output_type": "stream",
     "text": [
      "2024-04-03 17:45:21,783 Warning: An empty Sentence was created! Are there empty strings in your dataset?\n"
     ]
    },
    {
     "name": "stderr",
     "output_type": "stream",
     "text": [
      "100%|██████████| 5991/5991 [00:31<00:00, 188.89it/s]\n",
      "100%|██████████| 5991/5991 [00:33<00:00, 178.51it/s]"
     ]
    },
    {
     "name": "stdout",
     "output_type": "stream",
     "text": [
      "\u001b[32m04-03 17:46\u001b[0m | \u001b[1mINFO    \u001b[0m | \u001b[36mpattern1.sub started\u001b[0m\n"
     ]
    },
    {
     "name": "stderr",
     "output_type": "stream",
     "text": [
      "\n",
      "100%|██████████| 5991/5991 [00:00<00:00, 310656.54it/s]"
     ]
    },
    {
     "name": "stdout",
     "output_type": "stream",
     "text": [
      "\u001b[32m04-03 17:46\u001b[0m | \u001b[1mINFO    \u001b[0m | \u001b[36mpattern2.findall started\u001b[0m\n"
     ]
    },
    {
     "name": "stderr",
     "output_type": "stream",
     "text": [
      "\n",
      "100%|██████████| 5991/5991 [00:00<00:00, 628453.26it/s]"
     ]
    },
    {
     "name": "stdout",
     "output_type": "stream",
     "text": [
      "\u001b[32m04-03 17:46\u001b[0m | \u001b[1mINFO    \u001b[0m | \u001b[36mpattern2.sub started\u001b[0m\n"
     ]
    },
    {
     "name": "stderr",
     "output_type": "stream",
     "text": [
      "\n",
      "100%|██████████| 5991/5991 [00:00<00:00, 1571290.35it/s]"
     ]
    },
    {
     "name": "stdout",
     "output_type": "stream",
     "text": [
      "\u001b[32m04-03 17:46\u001b[0m | \u001b[1mINFO    \u001b[0m | \u001b[36mextract_building_num started\u001b[0m\n"
     ]
    },
    {
     "name": "stderr",
     "output_type": "stream",
     "text": [
      "\n",
      "100%|██████████| 5991/5991 [00:00<00:00, 33967.78it/s]\n"
     ]
    },
    {
     "name": "stdout",
     "output_type": "stream",
     "text": [
      "\u001b[32m04-03 17:46\u001b[0m | \u001b[1mINFO    \u001b[0m | \u001b[36mextract_toponym started\u001b[0m\n"
     ]
    },
    {
     "name": "stderr",
     "output_type": "stream",
     "text": [
      "100%|██████████| 5991/5991 [00:00<00:00, 11285.84it/s]"
     ]
    },
    {
     "name": "stdout",
     "output_type": "stream",
     "text": [
      "\u001b[32m04-03 17:46\u001b[0m | \u001b[1mINFO    \u001b[0m | \u001b[36mget_stem started\u001b[0m\n"
     ]
    },
    {
     "name": "stderr",
     "output_type": "stream",
     "text": [
      "\n"
     ]
    },
    {
     "name": "stdout",
     "output_type": "stream",
     "text": [
      "\u001b[32m04-03 17:46\u001b[0m | \u001b[1mINFO    \u001b[0m | \u001b[36mcreate_gdf started\u001b[0m\n"
     ]
    },
    {
     "name": "stderr",
     "output_type": "stream",
     "text": [
      "100%|██████████| 6653/6653 [09:37<00:00, 11.52it/s]  \n"
     ]
    }
   ],
   "source": [
    "res = geocoder.run(df=post, text_column='text')"
   ]
  },
  {
   "cell_type": "markdown",
   "metadata": {},
   "source": [
    "Результат:"
   ]
  },
  {
   "cell_type": "code",
   "execution_count": 9,
   "metadata": {},
   "outputs": [
    {
     "data": {
      "text/html": [
       "<div>\n",
       "<style scoped>\n",
       "    .dataframe tbody tr th:only-of-type {\n",
       "        vertical-align: middle;\n",
       "    }\n",
       "\n",
       "    .dataframe tbody tr th {\n",
       "        vertical-align: top;\n",
       "    }\n",
       "\n",
       "    .dataframe thead th {\n",
       "        text-align: right;\n",
       "    }\n",
       "</style>\n",
       "<table border=\"1\" class=\"dataframe\">\n",
       "  <thead>\n",
       "    <tr style=\"text-align: right;\">\n",
       "      <th></th>\n",
       "      <th>date</th>\n",
       "      <th>id</th>\n",
       "      <th>text</th>\n",
       "      <th>views.count</th>\n",
       "      <th>likes.count</th>\n",
       "      <th>reposts.count</th>\n",
       "      <th>type</th>\n",
       "      <th>link</th>\n",
       "      <th>post_id</th>\n",
       "      <th>parents_stack</th>\n",
       "      <th>Street</th>\n",
       "      <th>Score</th>\n",
       "      <th>Numbers</th>\n",
       "      <th>initial_street</th>\n",
       "      <th>Toponims</th>\n",
       "      <th>full_street_name</th>\n",
       "      <th>location_options</th>\n",
       "    </tr>\n",
       "  </thead>\n",
       "  <tbody>\n",
       "    <tr>\n",
       "      <th>0</th>\n",
       "      <td>2024-04-03 14:14:00</td>\n",
       "      <td>336610</td>\n",
       "      <td>Последний штрих зимы в Центральном районе или ...</td>\n",
       "      <td>1839.0</td>\n",
       "      <td>44</td>\n",
       "      <td>21.0</td>\n",
       "      <td>post</td>\n",
       "      <td>NaN</td>\n",
       "      <td>NaN</td>\n",
       "      <td>NaN</td>\n",
       "      <td>центральном районе</td>\n",
       "      <td>NaN</td>\n",
       "      <td></td>\n",
       "      <td>Центральном районе</td>\n",
       "      <td>None</td>\n",
       "      <td>None</td>\n",
       "      <td>None</td>\n",
       "    </tr>\n",
       "    <tr>\n",
       "      <th>1</th>\n",
       "      <td>2024-04-03 10:30:00</td>\n",
       "      <td>336446</td>\n",
       "      <td>Плачевные последствия сноса дома Малозёмовой д...</td>\n",
       "      <td>2300.0</td>\n",
       "      <td>53</td>\n",
       "      <td>15.0</td>\n",
       "      <td>post</td>\n",
       "      <td>NaN</td>\n",
       "      <td>NaN</td>\n",
       "      <td>NaN</td>\n",
       "      <td>малозёмовой</td>\n",
       "      <td>0.812</td>\n",
       "      <td>58</td>\n",
       "      <td>Малозёмовой</td>\n",
       "      <td>None</td>\n",
       "      <td>None</td>\n",
       "      <td>None</td>\n",
       "    </tr>\n",
       "    <tr>\n",
       "      <th>2</th>\n",
       "      <td>2024-04-02 19:30:00</td>\n",
       "      <td>335988</td>\n",
       "      <td>4 апреля в четверг состоится очередное заседан...</td>\n",
       "      <td>2665.0</td>\n",
       "      <td>46</td>\n",
       "      <td>10.0</td>\n",
       "      <td>post</td>\n",
       "      <td>https://balt2media.timepad.ru/event/2769709/До...</td>\n",
       "      <td>NaN</td>\n",
       "      <td>NaN</td>\n",
       "      <td>конной</td>\n",
       "      <td>0.900</td>\n",
       "      <td>24</td>\n",
       "      <td>Конной</td>\n",
       "      <td>None</td>\n",
       "      <td>Конная улица 24 Санкт-Петербург Россия</td>\n",
       "      <td>[Конная улица 24 Санкт-Петербург Россия]</td>\n",
       "    </tr>\n",
       "    <tr>\n",
       "      <th>3</th>\n",
       "      <td>2024-04-02 10:30:00</td>\n",
       "      <td>335728</td>\n",
       "      <td>Собираем инициативную группу для организации р...</td>\n",
       "      <td>10604.0</td>\n",
       "      <td>508</td>\n",
       "      <td>202.0</td>\n",
       "      <td>post</td>\n",
       "      <td>https://vk.com/wall-129354225_333949|ваше</td>\n",
       "      <td>NaN</td>\n",
       "      <td>NaN</td>\n",
       "      <td>None</td>\n",
       "      <td>NaN</td>\n",
       "      <td></td>\n",
       "      <td>None</td>\n",
       "      <td>None</td>\n",
       "      <td></td>\n",
       "      <td>[]</td>\n",
       "    </tr>\n",
       "    <tr>\n",
       "      <th>4</th>\n",
       "      <td>2024-04-01 19:30:00</td>\n",
       "      <td>335584</td>\n",
       "      <td>В Дикси намедни привезли царь-морковь 🥕Одна мо...</td>\n",
       "      <td>3745.0</td>\n",
       "      <td>55</td>\n",
       "      <td>11.0</td>\n",
       "      <td>post</td>\n",
       "      <td>NaN</td>\n",
       "      <td>NaN</td>\n",
       "      <td>NaN</td>\n",
       "      <td>None</td>\n",
       "      <td>NaN</td>\n",
       "      <td></td>\n",
       "      <td>None</td>\n",
       "      <td>None</td>\n",
       "      <td></td>\n",
       "      <td>[]</td>\n",
       "    </tr>\n",
       "    <tr>\n",
       "      <th>...</th>\n",
       "      <td>...</td>\n",
       "      <td>...</td>\n",
       "      <td>...</td>\n",
       "      <td>...</td>\n",
       "      <td>...</td>\n",
       "      <td>...</td>\n",
       "      <td>...</td>\n",
       "      <td>...</td>\n",
       "      <td>...</td>\n",
       "      <td>...</td>\n",
       "      <td>...</td>\n",
       "      <td>...</td>\n",
       "      <td>...</td>\n",
       "      <td>...</td>\n",
       "      <td>...</td>\n",
       "      <td>...</td>\n",
       "      <td>...</td>\n",
       "    </tr>\n",
       "    <tr>\n",
       "      <th>5986</th>\n",
       "      <td>2024-02-15 10:03:38</td>\n",
       "      <td>329297</td>\n",
       "      <td>Подпишите с \"W\" возмездный договор на размещен...</td>\n",
       "      <td>NaN</td>\n",
       "      <td>1</td>\n",
       "      <td>NaN</td>\n",
       "      <td>comment</td>\n",
       "      <td>NaN</td>\n",
       "      <td>329242.0</td>\n",
       "      <td>NaN</td>\n",
       "      <td>компечати</td>\n",
       "      <td>NaN</td>\n",
       "      <td></td>\n",
       "      <td>Компечати</td>\n",
       "      <td>None</td>\n",
       "      <td>None</td>\n",
       "      <td>None</td>\n",
       "    </tr>\n",
       "    <tr>\n",
       "      <th>5987</th>\n",
       "      <td>2024-02-15 13:02:56</td>\n",
       "      <td>329307</td>\n",
       "      <td>[id588441849|Сергей], единственное, комитет по...</td>\n",
       "      <td>NaN</td>\n",
       "      <td>0</td>\n",
       "      <td>NaN</td>\n",
       "      <td>reply</td>\n",
       "      <td>NaN</td>\n",
       "      <td>329242.0</td>\n",
       "      <td>329297.0</td>\n",
       "      <td>None</td>\n",
       "      <td>NaN</td>\n",
       "      <td></td>\n",
       "      <td>None</td>\n",
       "      <td>None</td>\n",
       "      <td></td>\n",
       "      <td>[]</td>\n",
       "    </tr>\n",
       "    <tr>\n",
       "      <th>5988</th>\n",
       "      <td>2024-02-15 16:59:03</td>\n",
       "      <td>329323</td>\n",
       "      <td>[id588441849|Сергей], вот ниже Компечати напис...</td>\n",
       "      <td>NaN</td>\n",
       "      <td>1</td>\n",
       "      <td>NaN</td>\n",
       "      <td>reply</td>\n",
       "      <td>NaN</td>\n",
       "      <td>329242.0</td>\n",
       "      <td>329297.0</td>\n",
       "      <td>невском</td>\n",
       "      <td>0.820</td>\n",
       "      <td>128</td>\n",
       "      <td>Невском</td>\n",
       "      <td>None</td>\n",
       "      <td>Невский проспект 128 Санкт-Петербург Россия,Не...</td>\n",
       "      <td>[Невский проспект 128 Санкт-Петербург Россия, ...</td>\n",
       "    </tr>\n",
       "    <tr>\n",
       "      <th>5989</th>\n",
       "      <td>2024-02-15 13:04:41</td>\n",
       "      <td>329308</td>\n",
       "      <td>KNru у нас как-то тоже запоганил фасад дома.\\n...</td>\n",
       "      <td>NaN</td>\n",
       "      <td>1</td>\n",
       "      <td>NaN</td>\n",
       "      <td>comment</td>\n",
       "      <td>NaN</td>\n",
       "      <td>329242.0</td>\n",
       "      <td>NaN</td>\n",
       "      <td>None</td>\n",
       "      <td>NaN</td>\n",
       "      <td></td>\n",
       "      <td>None</td>\n",
       "      <td>None</td>\n",
       "      <td></td>\n",
       "      <td>[]</td>\n",
       "    </tr>\n",
       "    <tr>\n",
       "      <th>5990</th>\n",
       "      <td>2024-02-15 14:30:40</td>\n",
       "      <td>329320</td>\n",
       "      <td>Написал обращение по поводу баннеров.</td>\n",
       "      <td>NaN</td>\n",
       "      <td>2</td>\n",
       "      <td>NaN</td>\n",
       "      <td>comment</td>\n",
       "      <td>NaN</td>\n",
       "      <td>329242.0</td>\n",
       "      <td>NaN</td>\n",
       "      <td>None</td>\n",
       "      <td>NaN</td>\n",
       "      <td></td>\n",
       "      <td>None</td>\n",
       "      <td>None</td>\n",
       "      <td></td>\n",
       "      <td>[]</td>\n",
       "    </tr>\n",
       "  </tbody>\n",
       "</table>\n",
       "<p>5991 rows × 17 columns</p>\n",
       "</div>"
      ],
      "text/plain": [
       "                     date      id  \\\n",
       "0     2024-04-03 14:14:00  336610   \n",
       "1     2024-04-03 10:30:00  336446   \n",
       "2     2024-04-02 19:30:00  335988   \n",
       "3     2024-04-02 10:30:00  335728   \n",
       "4     2024-04-01 19:30:00  335584   \n",
       "...                   ...     ...   \n",
       "5986  2024-02-15 10:03:38  329297   \n",
       "5987  2024-02-15 13:02:56  329307   \n",
       "5988  2024-02-15 16:59:03  329323   \n",
       "5989  2024-02-15 13:04:41  329308   \n",
       "5990  2024-02-15 14:30:40  329320   \n",
       "\n",
       "                                                   text  views.count  \\\n",
       "0     Последний штрих зимы в Центральном районе или ...       1839.0   \n",
       "1     Плачевные последствия сноса дома Малозёмовой д...       2300.0   \n",
       "2     4 апреля в четверг состоится очередное заседан...       2665.0   \n",
       "3     Собираем инициативную группу для организации р...      10604.0   \n",
       "4     В Дикси намедни привезли царь-морковь 🥕Одна мо...       3745.0   \n",
       "...                                                 ...          ...   \n",
       "5986  Подпишите с \"W\" возмездный договор на размещен...          NaN   \n",
       "5987  [id588441849|Сергей], единственное, комитет по...          NaN   \n",
       "5988  [id588441849|Сергей], вот ниже Компечати напис...          NaN   \n",
       "5989  KNru у нас как-то тоже запоганил фасад дома.\\n...          NaN   \n",
       "5990              Написал обращение по поводу баннеров.          NaN   \n",
       "\n",
       "      likes.count  reposts.count     type  \\\n",
       "0              44           21.0     post   \n",
       "1              53           15.0     post   \n",
       "2              46           10.0     post   \n",
       "3             508          202.0     post   \n",
       "4              55           11.0     post   \n",
       "...           ...            ...      ...   \n",
       "5986            1            NaN  comment   \n",
       "5987            0            NaN    reply   \n",
       "5988            1            NaN    reply   \n",
       "5989            1            NaN  comment   \n",
       "5990            2            NaN  comment   \n",
       "\n",
       "                                                   link   post_id  \\\n",
       "0                                                   NaN       NaN   \n",
       "1                                                   NaN       NaN   \n",
       "2     https://balt2media.timepad.ru/event/2769709/До...       NaN   \n",
       "3             https://vk.com/wall-129354225_333949|ваше       NaN   \n",
       "4                                                   NaN       NaN   \n",
       "...                                                 ...       ...   \n",
       "5986                                                NaN  329242.0   \n",
       "5987                                                NaN  329242.0   \n",
       "5988                                                NaN  329242.0   \n",
       "5989                                                NaN  329242.0   \n",
       "5990                                                NaN  329242.0   \n",
       "\n",
       "      parents_stack              Street  Score Numbers      initial_street  \\\n",
       "0               NaN  центральном районе    NaN          Центральном районе   \n",
       "1               NaN         малозёмовой  0.812      58         Малозёмовой   \n",
       "2               NaN              конной  0.900      24              Конной   \n",
       "3               NaN                None    NaN                        None   \n",
       "4               NaN                None    NaN                        None   \n",
       "...             ...                 ...    ...     ...                 ...   \n",
       "5986            NaN           компечати    NaN                   Компечати   \n",
       "5987       329297.0                None    NaN                        None   \n",
       "5988       329297.0             невском  0.820     128             Невском   \n",
       "5989            NaN                None    NaN                        None   \n",
       "5990            NaN                None    NaN                        None   \n",
       "\n",
       "     Toponims                                   full_street_name  \\\n",
       "0        None                                               None   \n",
       "1        None                                               None   \n",
       "2        None             Конная улица 24 Санкт-Петербург Россия   \n",
       "3        None                                                      \n",
       "4        None                                                      \n",
       "...       ...                                                ...   \n",
       "5986     None                                               None   \n",
       "5987     None                                                      \n",
       "5988     None  Невский проспект 128 Санкт-Петербург Россия,Не...   \n",
       "5989     None                                                      \n",
       "5990     None                                                      \n",
       "\n",
       "                                       location_options  \n",
       "0                                                  None  \n",
       "1                                                  None  \n",
       "2              [Конная улица 24 Санкт-Петербург Россия]  \n",
       "3                                                    []  \n",
       "4                                                    []  \n",
       "...                                                 ...  \n",
       "5986                                               None  \n",
       "5987                                                 []  \n",
       "5988  [Невский проспект 128 Санкт-Петербург Россия, ...  \n",
       "5989                                                 []  \n",
       "5990                                                 []  \n",
       "\n",
       "[5991 rows x 17 columns]"
      ]
     },
     "execution_count": 9,
     "metadata": {},
     "output_type": "execute_result"
    }
   ],
   "source": [
    "post"
   ]
  },
  {
   "cell_type": "code",
   "execution_count": 12,
   "metadata": {},
   "outputs": [
    {
     "data": {
      "text/html": [
       "<div>\n",
       "<style scoped>\n",
       "    .dataframe tbody tr th:only-of-type {\n",
       "        vertical-align: middle;\n",
       "    }\n",
       "\n",
       "    .dataframe tbody tr th {\n",
       "        vertical-align: top;\n",
       "    }\n",
       "\n",
       "    .dataframe thead th {\n",
       "        text-align: right;\n",
       "    }\n",
       "</style>\n",
       "<table border=\"1\" class=\"dataframe\">\n",
       "  <thead>\n",
       "    <tr style=\"text-align: right;\">\n",
       "      <th></th>\n",
       "      <th>date</th>\n",
       "      <th>id</th>\n",
       "      <th>text</th>\n",
       "      <th>views.count</th>\n",
       "      <th>likes.count</th>\n",
       "      <th>reposts.count</th>\n",
       "      <th>type</th>\n",
       "      <th>link</th>\n",
       "      <th>Street</th>\n",
       "      <th>Score</th>\n",
       "      <th>Numbers</th>\n",
       "      <th>initial_street</th>\n",
       "      <th>Toponims</th>\n",
       "      <th>full_street_name</th>\n",
       "      <th>location_options</th>\n",
       "      <th>addr_to_geocode</th>\n",
       "      <th>only_full_street_name</th>\n",
       "      <th>Location</th>\n",
       "      <th>geometry</th>\n",
       "    </tr>\n",
       "  </thead>\n",
       "  <tbody>\n",
       "    <tr>\n",
       "      <th>0</th>\n",
       "      <td>2024-04-02 19:30:00</td>\n",
       "      <td>335988</td>\n",
       "      <td>4 апреля в четверг состоится очередное заседан...</td>\n",
       "      <td>1527</td>\n",
       "      <td>33</td>\n",
       "      <td>6</td>\n",
       "      <td>post</td>\n",
       "      <td>https://balt2media.timepad.ru/event/2769709/До...</td>\n",
       "      <td>конной</td>\n",
       "      <td>0.897</td>\n",
       "      <td>24</td>\n",
       "      <td>Конной</td>\n",
       "      <td>None</td>\n",
       "      <td>Конная улица 24 Санкт-Петербург Россия</td>\n",
       "      <td>['Конная улица 24 Санкт-Петербург Россия']</td>\n",
       "      <td>Конная улица 24 Санкт-Петербург Россия</td>\n",
       "      <td>Конная улица</td>\n",
       "      <td>24, Конная улица, Пески, округ Смольнинское, С...</td>\n",
       "      <td>POINT (30.37789 59.92800)</td>\n",
       "    </tr>\n",
       "    <tr>\n",
       "      <th>1</th>\n",
       "      <td>2024-04-02 10:30:00</td>\n",
       "      <td>335728</td>\n",
       "      <td>Собираем инициативную группу для организации р...</td>\n",
       "      <td>7026</td>\n",
       "      <td>341</td>\n",
       "      <td>140</td>\n",
       "      <td>post</td>\n",
       "      <td>https://vk.com/wall-129354225_333949|ваше</td>\n",
       "      <td>None</td>\n",
       "      <td>NaN</td>\n",
       "      <td></td>\n",
       "      <td>None</td>\n",
       "      <td>None</td>\n",
       "      <td></td>\n",
       "      <td>['']</td>\n",
       "      <td></td>\n",
       "      <td></td>\n",
       "      <td>None</td>\n",
       "      <td>None</td>\n",
       "    </tr>\n",
       "    <tr>\n",
       "      <th>2</th>\n",
       "      <td>2024-04-01 19:30:00</td>\n",
       "      <td>335584</td>\n",
       "      <td>В Дикси намедни привезли царь-морковь 🥕Одна мо...</td>\n",
       "      <td>3577</td>\n",
       "      <td>54</td>\n",
       "      <td>11</td>\n",
       "      <td>post</td>\n",
       "      <td>NaN</td>\n",
       "      <td>None</td>\n",
       "      <td>NaN</td>\n",
       "      <td></td>\n",
       "      <td>None</td>\n",
       "      <td>None</td>\n",
       "      <td></td>\n",
       "      <td>['']</td>\n",
       "      <td></td>\n",
       "      <td></td>\n",
       "      <td>None</td>\n",
       "      <td>None</td>\n",
       "    </tr>\n",
       "    <tr>\n",
       "      <th>3</th>\n",
       "      <td>2024-04-01 10:30:01</td>\n",
       "      <td>335494</td>\n",
       "      <td>А вы уже в курсе, что АДминистрация Невского р...</td>\n",
       "      <td>13547</td>\n",
       "      <td>103</td>\n",
       "      <td>12</td>\n",
       "      <td>post</td>\n",
       "      <td>NaN</td>\n",
       "      <td>невского района</td>\n",
       "      <td>NaN</td>\n",
       "      <td></td>\n",
       "      <td>Невского района</td>\n",
       "      <td>None</td>\n",
       "      <td>None</td>\n",
       "      <td>None</td>\n",
       "      <td>None</td>\n",
       "      <td>None</td>\n",
       "      <td>None</td>\n",
       "      <td>None</td>\n",
       "    </tr>\n",
       "    <tr>\n",
       "      <th>4</th>\n",
       "      <td>2024-03-31 19:30:00</td>\n",
       "      <td>335455</td>\n",
       "      <td>Какая относительно ранняя весна в этом году по...</td>\n",
       "      <td>3579</td>\n",
       "      <td>61</td>\n",
       "      <td>3</td>\n",
       "      <td>post</td>\n",
       "      <td>NaN</td>\n",
       "      <td>None</td>\n",
       "      <td>NaN</td>\n",
       "      <td></td>\n",
       "      <td>None</td>\n",
       "      <td>None</td>\n",
       "      <td></td>\n",
       "      <td>['']</td>\n",
       "      <td></td>\n",
       "      <td></td>\n",
       "      <td>None</td>\n",
       "      <td>None</td>\n",
       "    </tr>\n",
       "    <tr>\n",
       "      <th>...</th>\n",
       "      <td>...</td>\n",
       "      <td>...</td>\n",
       "      <td>...</td>\n",
       "      <td>...</td>\n",
       "      <td>...</td>\n",
       "      <td>...</td>\n",
       "      <td>...</td>\n",
       "      <td>...</td>\n",
       "      <td>...</td>\n",
       "      <td>...</td>\n",
       "      <td>...</td>\n",
       "      <td>...</td>\n",
       "      <td>...</td>\n",
       "      <td>...</td>\n",
       "      <td>...</td>\n",
       "      <td>...</td>\n",
       "      <td>...</td>\n",
       "      <td>...</td>\n",
       "      <td>...</td>\n",
       "    </tr>\n",
       "    <tr>\n",
       "      <th>769</th>\n",
       "      <td>2023-08-05 10:30:00</td>\n",
       "      <td>308014</td>\n",
       "      <td>Во дворе, где расположен театр на Литейном, во...</td>\n",
       "      <td>9648</td>\n",
       "      <td>133</td>\n",
       "      <td>15</td>\n",
       "      <td>post</td>\n",
       "      <td>NaN</td>\n",
       "      <td>литейном</td>\n",
       "      <td>NaN</td>\n",
       "      <td></td>\n",
       "      <td>Литейном</td>\n",
       "      <td>None</td>\n",
       "      <td>Литейный проспект  Санкт-Петербург Россия,Лите...</td>\n",
       "      <td>['Литейный проспект  Санкт-Петербург Россия', ...</td>\n",
       "      <td>Литейный мост  Санкт-Петербург Россия</td>\n",
       "      <td>Литейный мост</td>\n",
       "      <td>Литейный мост, улица Академика Лебедева, Выбор...</td>\n",
       "      <td>POINT (30.34952 59.95194)</td>\n",
       "    </tr>\n",
       "    <tr>\n",
       "      <th>770</th>\n",
       "      <td>2023-08-04 19:30:00</td>\n",
       "      <td>307971</td>\n",
       "      <td>Лето - самое время запасаться витаминами в их ...</td>\n",
       "      <td>3668</td>\n",
       "      <td>28</td>\n",
       "      <td>3</td>\n",
       "      <td>post</td>\n",
       "      <td>NaN</td>\n",
       "      <td>None</td>\n",
       "      <td>NaN</td>\n",
       "      <td></td>\n",
       "      <td>None</td>\n",
       "      <td>None</td>\n",
       "      <td></td>\n",
       "      <td>['']</td>\n",
       "      <td></td>\n",
       "      <td></td>\n",
       "      <td>None</td>\n",
       "      <td>None</td>\n",
       "    </tr>\n",
       "    <tr>\n",
       "      <th>771</th>\n",
       "      <td>2023-08-04 10:30:00</td>\n",
       "      <td>307935</td>\n",
       "      <td>Когда перестанете заниматься рутинной бессмысл...</td>\n",
       "      <td>5412</td>\n",
       "      <td>42</td>\n",
       "      <td>7</td>\n",
       "      <td>post</td>\n",
       "      <td>NaN</td>\n",
       "      <td>фонтанки л</td>\n",
       "      <td>0.965</td>\n",
       "      <td>39</td>\n",
       "      <td>Фонтанки Л</td>\n",
       "      <td>None</td>\n",
       "      <td>None</td>\n",
       "      <td>None</td>\n",
       "      <td>None</td>\n",
       "      <td>None</td>\n",
       "      <td>None</td>\n",
       "      <td>None</td>\n",
       "    </tr>\n",
       "    <tr>\n",
       "      <th>772</th>\n",
       "      <td>2023-08-03 19:30:00</td>\n",
       "      <td>307906</td>\n",
       "      <td>Напоминаем, послезавтра в субботу 5 августа со...</td>\n",
       "      <td>2772</td>\n",
       "      <td>30</td>\n",
       "      <td>4</td>\n",
       "      <td>post</td>\n",
       "      <td>NaN</td>\n",
       "      <td>мытнинские</td>\n",
       "      <td>0.741</td>\n",
       "      <td>4</td>\n",
       "      <td>Мытнинские</td>\n",
       "      <td>None</td>\n",
       "      <td>None</td>\n",
       "      <td>None</td>\n",
       "      <td>None</td>\n",
       "      <td>None</td>\n",
       "      <td>None</td>\n",
       "      <td>None</td>\n",
       "    </tr>\n",
       "    <tr>\n",
       "      <th>773</th>\n",
       "      <td>2023-08-03 10:30:00</td>\n",
       "      <td>307867</td>\n",
       "      <td>Объявим бой ездунам по тротуарам!На днях к нам...</td>\n",
       "      <td>5456</td>\n",
       "      <td>82</td>\n",
       "      <td>6</td>\n",
       "      <td>post</td>\n",
       "      <td>NaN</td>\n",
       "      <td>московской</td>\n",
       "      <td>0.793</td>\n",
       "      <td></td>\n",
       "      <td>Московской</td>\n",
       "      <td>улица</td>\n",
       "      <td>Московская улица  Санкт-Петербург Россия</td>\n",
       "      <td>['Московская улица  Санкт-Петербург Россия']</td>\n",
       "      <td>Московская улица  Санкт-Петербург Россия</td>\n",
       "      <td>Московская улица</td>\n",
       "      <td>Московская улица, Колпино, Санкт-Петербург, Се...</td>\n",
       "      <td>POINT (30.61701 59.73267)</td>\n",
       "    </tr>\n",
       "  </tbody>\n",
       "</table>\n",
       "<p>774 rows × 19 columns</p>\n",
       "</div>"
      ],
      "text/plain": [
       "                   date      id  \\\n",
       "0   2024-04-02 19:30:00  335988   \n",
       "1   2024-04-02 10:30:00  335728   \n",
       "2   2024-04-01 19:30:00  335584   \n",
       "3   2024-04-01 10:30:01  335494   \n",
       "4   2024-03-31 19:30:00  335455   \n",
       "..                  ...     ...   \n",
       "769 2023-08-05 10:30:00  308014   \n",
       "770 2023-08-04 19:30:00  307971   \n",
       "771 2023-08-04 10:30:00  307935   \n",
       "772 2023-08-03 19:30:00  307906   \n",
       "773 2023-08-03 10:30:00  307867   \n",
       "\n",
       "                                                  text  views.count  \\\n",
       "0    4 апреля в четверг состоится очередное заседан...         1527   \n",
       "1    Собираем инициативную группу для организации р...         7026   \n",
       "2    В Дикси намедни привезли царь-морковь 🥕Одна мо...         3577   \n",
       "3    А вы уже в курсе, что АДминистрация Невского р...        13547   \n",
       "4    Какая относительно ранняя весна в этом году по...         3579   \n",
       "..                                                 ...          ...   \n",
       "769  Во дворе, где расположен театр на Литейном, во...         9648   \n",
       "770  Лето - самое время запасаться витаминами в их ...         3668   \n",
       "771  Когда перестанете заниматься рутинной бессмысл...         5412   \n",
       "772  Напоминаем, послезавтра в субботу 5 августа со...         2772   \n",
       "773  Объявим бой ездунам по тротуарам!На днях к нам...         5456   \n",
       "\n",
       "     likes.count  reposts.count  type  \\\n",
       "0             33              6  post   \n",
       "1            341            140  post   \n",
       "2             54             11  post   \n",
       "3            103             12  post   \n",
       "4             61              3  post   \n",
       "..           ...            ...   ...   \n",
       "769          133             15  post   \n",
       "770           28              3  post   \n",
       "771           42              7  post   \n",
       "772           30              4  post   \n",
       "773           82              6  post   \n",
       "\n",
       "                                                  link           Street  \\\n",
       "0    https://balt2media.timepad.ru/event/2769709/До...           конной   \n",
       "1            https://vk.com/wall-129354225_333949|ваше             None   \n",
       "2                                                  NaN             None   \n",
       "3                                                  NaN  невского района   \n",
       "4                                                  NaN             None   \n",
       "..                                                 ...              ...   \n",
       "769                                                NaN         литейном   \n",
       "770                                                NaN             None   \n",
       "771                                                NaN       фонтанки л   \n",
       "772                                                NaN       мытнинские   \n",
       "773                                                NaN       московской   \n",
       "\n",
       "     Score Numbers   initial_street Toponims  \\\n",
       "0    0.897      24           Конной     None   \n",
       "1      NaN                     None     None   \n",
       "2      NaN                     None     None   \n",
       "3      NaN          Невского района     None   \n",
       "4      NaN                     None     None   \n",
       "..     ...     ...              ...      ...   \n",
       "769    NaN                 Литейном     None   \n",
       "770    NaN                     None     None   \n",
       "771  0.965      39       Фонтанки Л     None   \n",
       "772  0.741       4       Мытнинские     None   \n",
       "773  0.793               Московской    улица   \n",
       "\n",
       "                                      full_street_name  \\\n",
       "0               Конная улица 24 Санкт-Петербург Россия   \n",
       "1                                                        \n",
       "2                                                        \n",
       "3                                                 None   \n",
       "4                                                        \n",
       "..                                                 ...   \n",
       "769  Литейный проспект  Санкт-Петербург Россия,Лите...   \n",
       "770                                                      \n",
       "771                                               None   \n",
       "772                                               None   \n",
       "773           Московская улица  Санкт-Петербург Россия   \n",
       "\n",
       "                                      location_options  \\\n",
       "0           ['Конная улица 24 Санкт-Петербург Россия']   \n",
       "1                                                 ['']   \n",
       "2                                                 ['']   \n",
       "3                                                 None   \n",
       "4                                                 ['']   \n",
       "..                                                 ...   \n",
       "769  ['Литейный проспект  Санкт-Петербург Россия', ...   \n",
       "770                                               ['']   \n",
       "771                                               None   \n",
       "772                                               None   \n",
       "773       ['Московская улица  Санкт-Петербург Россия']   \n",
       "\n",
       "                              addr_to_geocode only_full_street_name  \\\n",
       "0      Конная улица 24 Санкт-Петербург Россия          Конная улица   \n",
       "1                                                                     \n",
       "2                                                                     \n",
       "3                                        None                  None   \n",
       "4                                                                     \n",
       "..                                        ...                   ...   \n",
       "769     Литейный мост  Санкт-Петербург Россия         Литейный мост   \n",
       "770                                                                   \n",
       "771                                      None                  None   \n",
       "772                                      None                  None   \n",
       "773  Московская улица  Санкт-Петербург Россия      Московская улица   \n",
       "\n",
       "                                              Location  \\\n",
       "0    24, Конная улица, Пески, округ Смольнинское, С...   \n",
       "1                                                 None   \n",
       "2                                                 None   \n",
       "3                                                 None   \n",
       "4                                                 None   \n",
       "..                                                 ...   \n",
       "769  Литейный мост, улица Академика Лебедева, Выбор...   \n",
       "770                                               None   \n",
       "771                                               None   \n",
       "772                                               None   \n",
       "773  Московская улица, Колпино, Санкт-Петербург, Се...   \n",
       "\n",
       "                      geometry  \n",
       "0    POINT (30.37789 59.92800)  \n",
       "1                         None  \n",
       "2                         None  \n",
       "3                         None  \n",
       "4                         None  \n",
       "..                         ...  \n",
       "769  POINT (30.34952 59.95194)  \n",
       "770                       None  \n",
       "771                       None  \n",
       "772                       None  \n",
       "773  POINT (30.61701 59.73267)  \n",
       "\n",
       "[774 rows x 19 columns]"
      ]
     },
     "execution_count": 12,
     "metadata": {},
     "output_type": "execute_result"
    }
   ],
   "source": [
    "res"
   ]
  },
  {
   "cell_type": "markdown",
   "metadata": {},
   "source": [
    "Сохранение результата в формате `.csv`:"
   ]
  },
  {
   "cell_type": "code",
   "execution_count": 29,
   "metadata": {},
   "outputs": [],
   "source": [
    "res.to_csv('data_posts.csv', index=False) "
   ]
  },
  {
   "cell_type": "markdown",
   "metadata": {},
   "source": [
    "## Построение семантического графа ##"
   ]
  },
  {
   "cell_type": "markdown",
   "metadata": {},
   "source": [
    "Импорт метода для построения семантического графа:"
   ]
  },
  {
   "cell_type": "code",
   "execution_count": 10,
   "metadata": {},
   "outputs": [],
   "source": [
    "from sloyka import Semgraph\n",
    "sm = Semgraph(device='cpu')"
   ]
  },
  {
   "cell_type": "markdown",
   "metadata": {},
   "source": [
    "Сборка семантического графа на основе полученных данных:"
   ]
  },
  {
   "cell_type": "code",
   "execution_count": 11,
   "metadata": {},
   "outputs": [
    {
     "ename": "KeyError",
     "evalue": "'only_full_street_name'",
     "output_type": "error",
     "traceback": [
      "\u001b[0;31m---------------------------------------------------------------------------\u001b[0m",
      "\u001b[0;31mKeyError\u001b[0m                                  Traceback (most recent call last)",
      "File \u001b[0;32m~/Documents/Code/lib_sloyka/sloyka/.venv/lib/python3.10/site-packages/pandas/core/indexes/base.py:3802\u001b[0m, in \u001b[0;36mIndex.get_loc\u001b[0;34m(self, key, method, tolerance)\u001b[0m\n\u001b[1;32m   3801\u001b[0m \u001b[38;5;28;01mtry\u001b[39;00m:\n\u001b[0;32m-> 3802\u001b[0m     \u001b[38;5;28;01mreturn\u001b[39;00m \u001b[38;5;28;43mself\u001b[39;49m\u001b[38;5;241;43m.\u001b[39;49m\u001b[43m_engine\u001b[49m\u001b[38;5;241;43m.\u001b[39;49m\u001b[43mget_loc\u001b[49m\u001b[43m(\u001b[49m\u001b[43mcasted_key\u001b[49m\u001b[43m)\u001b[49m\n\u001b[1;32m   3803\u001b[0m \u001b[38;5;28;01mexcept\u001b[39;00m \u001b[38;5;167;01mKeyError\u001b[39;00m \u001b[38;5;28;01mas\u001b[39;00m err:\n",
      "File \u001b[0;32m~/Documents/Code/lib_sloyka/sloyka/.venv/lib/python3.10/site-packages/pandas/_libs/index.pyx:138\u001b[0m, in \u001b[0;36mpandas._libs.index.IndexEngine.get_loc\u001b[0;34m()\u001b[0m\n",
      "File \u001b[0;32m~/Documents/Code/lib_sloyka/sloyka/.venv/lib/python3.10/site-packages/pandas/_libs/index.pyx:165\u001b[0m, in \u001b[0;36mpandas._libs.index.IndexEngine.get_loc\u001b[0;34m()\u001b[0m\n",
      "File \u001b[0;32mpandas/_libs/hashtable_class_helper.pxi:5745\u001b[0m, in \u001b[0;36mpandas._libs.hashtable.PyObjectHashTable.get_item\u001b[0;34m()\u001b[0m\n",
      "File \u001b[0;32mpandas/_libs/hashtable_class_helper.pxi:5753\u001b[0m, in \u001b[0;36mpandas._libs.hashtable.PyObjectHashTable.get_item\u001b[0;34m()\u001b[0m\n",
      "\u001b[0;31mKeyError\u001b[0m: 'only_full_street_name'",
      "\nThe above exception was the direct cause of the following exception:\n",
      "\u001b[0;31mKeyError\u001b[0m                                  Traceback (most recent call last)",
      "Cell \u001b[0;32mIn[11], line 2\u001b[0m\n\u001b[1;32m      1\u001b[0m \u001b[38;5;66;03m# На вход df с геокодированными данными\u001b[39;00m\n\u001b[0;32m----> 2\u001b[0m G \u001b[38;5;241m=\u001b[39m \u001b[43msm\u001b[49m\u001b[38;5;241;43m.\u001b[39;49m\u001b[43mbuild_graph\u001b[49m\u001b[43m(\u001b[49m\u001b[43mpost\u001b[49m\u001b[43m,\u001b[49m\n\u001b[1;32m      3\u001b[0m \u001b[43m            \u001b[49m\u001b[38;5;124;43m'\u001b[39;49m\u001b[38;5;124;43mid\u001b[39;49m\u001b[38;5;124;43m'\u001b[39;49m\u001b[43m,\u001b[49m\n\u001b[1;32m      4\u001b[0m \u001b[43m            \u001b[49m\u001b[38;5;124;43m'\u001b[39;49m\u001b[38;5;124;43mtext\u001b[39;49m\u001b[38;5;124;43m'\u001b[39;49m\u001b[43m,\u001b[49m\n\u001b[1;32m      5\u001b[0m \u001b[43m            \u001b[49m\u001b[38;5;124;43m'\u001b[39;49m\u001b[38;5;124;43mtype\u001b[39;49m\u001b[38;5;124;43m'\u001b[39;49m\u001b[43m,\u001b[49m\n\u001b[1;32m      6\u001b[0m \u001b[43m            \u001b[49m\u001b[38;5;124;43m'\u001b[39;49m\u001b[38;5;124;43monly_full_street_name\u001b[39;49m\u001b[38;5;124;43m'\u001b[39;49m\u001b[43m,\u001b[49m\u001b[43m \u001b[49m\n\u001b[1;32m      7\u001b[0m \u001b[43m            \u001b[49m\u001b[38;5;124;43m'\u001b[39;49m\u001b[38;5;124;43minitial_street\u001b[39;49m\u001b[38;5;124;43m'\u001b[39;49m\u001b[43m,\u001b[49m\n\u001b[1;32m      8\u001b[0m \u001b[43m            \u001b[49m\u001b[38;5;124;43m'\u001b[39;49m\u001b[38;5;124;43mToponims\u001b[39;49m\u001b[38;5;124;43m'\u001b[39;49m\u001b[43m,\u001b[49m\n\u001b[1;32m      9\u001b[0m \u001b[43m            \u001b[49m\u001b[38;5;124;43m'\u001b[39;49m\u001b[38;5;124;43mpost_id\u001b[39;49m\u001b[38;5;124;43m'\u001b[39;49m\u001b[43m,\u001b[49m\n\u001b[1;32m     10\u001b[0m \u001b[43m            \u001b[49m\u001b[38;5;124;43m'\u001b[39;49m\u001b[38;5;124;43mparents_stack\u001b[39;49m\u001b[38;5;124;43m'\u001b[39;49m\u001b[43m,\u001b[49m\n\u001b[1;32m     11\u001b[0m \u001b[43m            \u001b[49m\u001b[38;5;124;43m'\u001b[39;49m\u001b[38;5;124;43mLocation\u001b[39;49m\u001b[38;5;124;43m'\u001b[39;49m\u001b[43m,\u001b[49m\n\u001b[1;32m     12\u001b[0m \u001b[43m            \u001b[49m\u001b[38;5;124;43m'\u001b[39;49m\u001b[38;5;124;43mgeometry\u001b[39;49m\u001b[38;5;124;43m'\u001b[39;49m\u001b[43m)\u001b[49m\n\u001b[1;32m     13\u001b[0m             \u001b[38;5;66;03m# key_score_filter=0.6,       # скор для извлечения слов из сообщений. Больше - меньше слов в графе, меньш- больше слов в графе (хуже смысл)\u001b[39;00m\n\u001b[1;32m     14\u001b[0m             \u001b[38;5;66;03m# semantic_score_filter=0.75) # скор для построения связей между извлечёнными словами. Больше - меньше связей в графе, меньш - больше связей в графе (хуже смысл)\u001b[39;00m\n",
      "File \u001b[0;32m~/Documents/Code/lib_sloyka/sloyka/sloyka/src/semantic_graph.py:593\u001b[0m, in \u001b[0;36mSemgraph.build_graph\u001b[0;34m(self, data, id_column, text_column, text_type_column, toponym_column, toponym_name_column, toponym_type_column, post_id_column, parents_stack_column, directed, location_column, geometry_column, key_score_filter, semantic_score_filter, top_n)\u001b[0m\n\u001b[1;32m    585\u001b[0m data \u001b[38;5;241m=\u001b[39m \u001b[38;5;28mself\u001b[39m\u001b[38;5;241m.\u001b[39mclean_from_toponims(data,\n\u001b[1;32m    586\u001b[0m                                 text_column,\n\u001b[1;32m    587\u001b[0m                                 toponym_name_column,\n\u001b[1;32m    588\u001b[0m                                 toponym_type_column)\n\u001b[1;32m    590\u001b[0m data \u001b[38;5;241m=\u001b[39m \u001b[38;5;28mself\u001b[39m\u001b[38;5;241m.\u001b[39mclean_from_links(data,\n\u001b[1;32m    591\u001b[0m                              text_column)\n\u001b[0;32m--> 593\u001b[0m data \u001b[38;5;241m=\u001b[39m \u001b[38;5;28;43mself\u001b[39;49m\u001b[38;5;241;43m.\u001b[39;49m\u001b[43mfill_empty_toponim\u001b[49m\u001b[43m(\u001b[49m\u001b[43mdata\u001b[49m\u001b[43m,\u001b[49m\n\u001b[1;32m    594\u001b[0m \u001b[43m                               \u001b[49m\u001b[43mtoponym_column\u001b[49m\u001b[43m)\u001b[49m\n\u001b[1;32m    596\u001b[0m extracted \u001b[38;5;241m=\u001b[39m \u001b[38;5;28mself\u001b[39m\u001b[38;5;241m.\u001b[39mextract_keywords(data,\n\u001b[1;32m    597\u001b[0m                                   text_column,\n\u001b[1;32m    598\u001b[0m                                   text_type_column,\n\u001b[0;32m   (...)\u001b[0m\n\u001b[1;32m    603\u001b[0m                                   key_score_filter,\n\u001b[1;32m    604\u001b[0m                                   top_n)\n\u001b[1;32m    606\u001b[0m df \u001b[38;5;241m=\u001b[39m extracted[\u001b[38;5;241m0\u001b[39m]\n",
      "File \u001b[0;32m~/Documents/Code/lib_sloyka/sloyka/sloyka/src/semantic_graph.py:167\u001b[0m, in \u001b[0;36mSemgraph.fill_empty_toponim\u001b[0;34m(data, toponim_column)\u001b[0m\n\u001b[1;32m    162\u001b[0m \u001b[38;5;129m@staticmethod\u001b[39m\n\u001b[1;32m    163\u001b[0m \u001b[38;5;28;01mdef\u001b[39;00m \u001b[38;5;21mfill_empty_toponim\u001b[39m(data: pd\u001b[38;5;241m.\u001b[39mDataFrame \u001b[38;5;129;01mor\u001b[39;00m gpd\u001b[38;5;241m.\u001b[39mGeoDataFrame,\n\u001b[1;32m    164\u001b[0m                        toponim_column: \u001b[38;5;28mstr\u001b[39m):\n\u001b[1;32m    166\u001b[0m     \u001b[38;5;28;01mfor\u001b[39;00m i \u001b[38;5;129;01min\u001b[39;00m \u001b[38;5;28mrange\u001b[39m(\u001b[38;5;28mlen\u001b[39m(data)):\n\u001b[0;32m--> 167\u001b[0m         check \u001b[38;5;241m=\u001b[39m \u001b[43mdata\u001b[49m\u001b[43m[\u001b[49m\u001b[43mtoponim_column\u001b[49m\u001b[43m]\u001b[49m\u001b[38;5;241m.\u001b[39miloc[i]\n\u001b[1;32m    168\u001b[0m         \u001b[38;5;28;01mif\u001b[39;00m check \u001b[38;5;241m==\u001b[39m \u001b[38;5;124m'\u001b[39m\u001b[38;5;124m'\u001b[39m:\n\u001b[1;32m    169\u001b[0m             data\u001b[38;5;241m.\u001b[39mat[i, toponim_column] \u001b[38;5;241m=\u001b[39m \u001b[38;5;28;01mNone\u001b[39;00m\n",
      "File \u001b[0;32m~/Documents/Code/lib_sloyka/sloyka/.venv/lib/python3.10/site-packages/pandas/core/frame.py:3807\u001b[0m, in \u001b[0;36mDataFrame.__getitem__\u001b[0;34m(self, key)\u001b[0m\n\u001b[1;32m   3805\u001b[0m \u001b[38;5;28;01mif\u001b[39;00m \u001b[38;5;28mself\u001b[39m\u001b[38;5;241m.\u001b[39mcolumns\u001b[38;5;241m.\u001b[39mnlevels \u001b[38;5;241m>\u001b[39m \u001b[38;5;241m1\u001b[39m:\n\u001b[1;32m   3806\u001b[0m     \u001b[38;5;28;01mreturn\u001b[39;00m \u001b[38;5;28mself\u001b[39m\u001b[38;5;241m.\u001b[39m_getitem_multilevel(key)\n\u001b[0;32m-> 3807\u001b[0m indexer \u001b[38;5;241m=\u001b[39m \u001b[38;5;28;43mself\u001b[39;49m\u001b[38;5;241;43m.\u001b[39;49m\u001b[43mcolumns\u001b[49m\u001b[38;5;241;43m.\u001b[39;49m\u001b[43mget_loc\u001b[49m\u001b[43m(\u001b[49m\u001b[43mkey\u001b[49m\u001b[43m)\u001b[49m\n\u001b[1;32m   3808\u001b[0m \u001b[38;5;28;01mif\u001b[39;00m is_integer(indexer):\n\u001b[1;32m   3809\u001b[0m     indexer \u001b[38;5;241m=\u001b[39m [indexer]\n",
      "File \u001b[0;32m~/Documents/Code/lib_sloyka/sloyka/.venv/lib/python3.10/site-packages/pandas/core/indexes/base.py:3804\u001b[0m, in \u001b[0;36mIndex.get_loc\u001b[0;34m(self, key, method, tolerance)\u001b[0m\n\u001b[1;32m   3802\u001b[0m     \u001b[38;5;28;01mreturn\u001b[39;00m \u001b[38;5;28mself\u001b[39m\u001b[38;5;241m.\u001b[39m_engine\u001b[38;5;241m.\u001b[39mget_loc(casted_key)\n\u001b[1;32m   3803\u001b[0m \u001b[38;5;28;01mexcept\u001b[39;00m \u001b[38;5;167;01mKeyError\u001b[39;00m \u001b[38;5;28;01mas\u001b[39;00m err:\n\u001b[0;32m-> 3804\u001b[0m     \u001b[38;5;28;01mraise\u001b[39;00m \u001b[38;5;167;01mKeyError\u001b[39;00m(key) \u001b[38;5;28;01mfrom\u001b[39;00m \u001b[38;5;21;01merr\u001b[39;00m\n\u001b[1;32m   3805\u001b[0m \u001b[38;5;28;01mexcept\u001b[39;00m \u001b[38;5;167;01mTypeError\u001b[39;00m:\n\u001b[1;32m   3806\u001b[0m     \u001b[38;5;66;03m# If we have a listlike key, _check_indexing_error will raise\u001b[39;00m\n\u001b[1;32m   3807\u001b[0m     \u001b[38;5;66;03m#  InvalidIndexError. Otherwise we fall through and re-raise\u001b[39;00m\n\u001b[1;32m   3808\u001b[0m     \u001b[38;5;66;03m#  the TypeError.\u001b[39;00m\n\u001b[1;32m   3809\u001b[0m     \u001b[38;5;28mself\u001b[39m\u001b[38;5;241m.\u001b[39m_check_indexing_error(key)\n",
      "\u001b[0;31mKeyError\u001b[0m: 'only_full_street_name'"
     ]
    }
   ],
   "source": [
    "# На вход df с геокодированными данными\n",
    "G = sm.build_graph(post,\n",
    "            'id',\n",
    "            'text',\n",
    "            'type',\n",
    "            'only_full_street_name', \n",
    "            'initial_street',\n",
    "            'Toponims',\n",
    "            'post_id',\n",
    "            'parents_stack',\n",
    "            'Location',\n",
    "            'geometry')\n",
    "            # key_score_filter=0.6,       # скор для извлечения слов из сообщений. Больше - меньше слов в графе, меньш- больше слов в графе (хуже смысл)\n",
    "            # semantic_score_filter=0.75) # скор для построения связей между извлечёнными словами. Больше - меньше связей в графе, меньш - больше связей в графе (хуже смысл)"
   ]
  },
  {
   "cell_type": "markdown",
   "metadata": {},
   "source": [
    "Сохранение графа в формате `graphml`:"
   ]
  },
  {
   "cell_type": "code",
   "execution_count": 39,
   "metadata": {},
   "outputs": [],
   "source": [
    "nx.write_graphml(G, 'sem_graph.graphml', encoding='utf-8')"
   ]
  },
  {
   "cell_type": "markdown",
   "metadata": {},
   "source": [
    "Визуализация графа в формате `html`:"
   ]
  },
  {
   "cell_type": "code",
   "execution_count": 42,
   "metadata": {},
   "outputs": [],
   "source": [
    "nt = Network('1000px', '1000px')\n",
    "nt.show_buttons(filter_=['physics'])\n",
    "nt.from_nx(G)\n",
    "\n",
    "nt.write_html('graph.html')"
   ]
  }
 ],
 "metadata": {
  "kernelspec": {
   "display_name": "venv",
   "language": "python",
   "name": "python3"
  },
  "language_info": {
   "codemirror_mode": {
    "name": "ipython",
    "version": 3
   },
   "file_extension": ".py",
   "mimetype": "text/x-python",
   "name": "python",
   "nbconvert_exporter": "python",
   "pygments_lexer": "ipython3",
   "version": "3.10.13"
  }
 },
 "nbformat": 4,
 "nbformat_minor": 2
}
