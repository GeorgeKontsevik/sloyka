{
 "cells": [
  {
   "cell_type": "markdown",
   "metadata": {},
   "source": [
    "# Pipeline Sloyka class"
   ]
  },
  {
   "cell_type": "markdown",
   "metadata": {},
   "source": [
    "Импорт модуля Pipeline из Sloyka:"
   ]
  },
  {
   "cell_type": "code",
   "execution_count": null,
   "metadata": {},
   "outputs": [],
   "source": [
    "%pip install sloyka"
   ]
  },
  {
   "cell_type": "code",
   "execution_count": 1,
   "metadata": {},
   "outputs": [
    {
     "name": "stderr",
     "output_type": "stream",
     "text": [
      "/Users/sashamorozov/Documents/Code/lib_sloyka/sloyka/.venv/lib/python3.10/site-packages/tqdm/auto.py:22: TqdmWarning: IProgress not found. Please update jupyter and ipywidgets. See https://ipywidgets.readthedocs.io/en/stable/user_install.html\n",
      "  from .autonotebook import tqdm as notebook_tqdm\n"
     ]
    },
    {
     "name": "stdout",
     "output_type": "stream",
     "text": [
      "INFO: Pandarallel will run on -1 workers.\n",
      "INFO: Pandarallel will use standard multiprocessing data transfer (pipe) to transfer data between the main process and workers.\n"
     ]
    },
    {
     "name": "stderr",
     "output_type": "stream",
     "text": [
      "[nltk_data] Downloading package stopwords to\n",
      "[nltk_data]     /Users/sashamorozov/nltk_data...\n",
      "[nltk_data]   Package stopwords is already up-to-date!\n"
     ]
    }
   ],
   "source": [
    "import sloyka\n",
    "from sloyka import Pipeline"
   ]
  },
  {
   "cell_type": "markdown",
   "metadata": {},
   "source": [
    "Передаем модулю неообходимые данные о территории, группе ВК, сервисном ключе и дате, до который выгружать посты:"
   ]
  },
  {
   "cell_type": "code",
   "execution_count": 4,
   "metadata": {},
   "outputs": [],
   "source": [
    "osm_city_name = 'Санкт-Петербург' # Выбор территории\n",
    "osm_city_level = 5 # Уровень админ. деления с ОСМ\n",
    "owner_id = \"-129354225\" # ID группы ВК (\"Центральный район за комфортную городскую среду\")\n",
    "token = '...' # Сервисный ключ доступа из приложения ВК\n",
    "count = 100 # Кол-во постов в одном запросе\n",
    "date = \"2023-09-20\" # Дата, до которой парсятся посты"
   ]
  },
  {
   "cell_type": "markdown",
   "metadata": {},
   "source": [
    "Запуск модуля Pipeline, на выходе сохраняются и записываются три файла: выгруженные тексты постов, граф в формате `graphml`, визуализированный граф в `html`:"
   ]
  },
  {
   "cell_type": "code",
   "execution_count": null,
   "metadata": {},
   "outputs": [],
   "source": [
    "test = Pipeline(owner_id, token, count, date, osm_city_name, osm_city_level)\n",
    "posts, graph = test.process()"
   ]
  },
  {
   "cell_type": "code",
   "execution_count": 18,
   "metadata": {},
   "outputs": [
    {
     "data": {
      "text/html": [
       "<div>\n",
       "<style scoped>\n",
       "    .dataframe tbody tr th:only-of-type {\n",
       "        vertical-align: middle;\n",
       "    }\n",
       "\n",
       "    .dataframe tbody tr th {\n",
       "        vertical-align: top;\n",
       "    }\n",
       "\n",
       "    .dataframe thead th {\n",
       "        text-align: right;\n",
       "    }\n",
       "</style>\n",
       "<table border=\"1\" class=\"dataframe\">\n",
       "  <thead>\n",
       "    <tr style=\"text-align: right;\">\n",
       "      <th></th>\n",
       "      <th>date</th>\n",
       "      <th>id</th>\n",
       "      <th>text</th>\n",
       "      <th>views.count</th>\n",
       "      <th>likes.count</th>\n",
       "      <th>reposts.count</th>\n",
       "      <th>type</th>\n",
       "      <th>link</th>\n",
       "      <th>Street</th>\n",
       "      <th>Score</th>\n",
       "    </tr>\n",
       "  </thead>\n",
       "  <tbody>\n",
       "    <tr>\n",
       "      <th>117</th>\n",
       "      <td>2024-01-24 10:30:00</td>\n",
       "      <td>326389</td>\n",
       "      <td>Когда Комитет по благоустройству прекратит год...</td>\n",
       "      <td>3722</td>\n",
       "      <td>59</td>\n",
       "      <td>3</td>\n",
       "      <td>post</td>\n",
       "      <td>NaN</td>\n",
       "      <td>None</td>\n",
       "      <td>NaN</td>\n",
       "    </tr>\n",
       "    <tr>\n",
       "      <th>86</th>\n",
       "      <td>2024-02-08 19:30:00</td>\n",
       "      <td>328572</td>\n",
       "      <td>Начало положено! Во вторник вечером состоялась...</td>\n",
       "      <td>4767</td>\n",
       "      <td>89</td>\n",
       "      <td>12</td>\n",
       "      <td>post</td>\n",
       "      <td>https://forms.yandex.ru/u/65a7a4a8c769f1088328...</td>\n",
       "      <td>Конной 24</td>\n",
       "      <td>0.905</td>\n",
       "    </tr>\n",
       "    <tr>\n",
       "      <th>43</th>\n",
       "      <td>2024-03-01 10:30:00</td>\n",
       "      <td>331114</td>\n",
       "      <td>Кто-то в Кремле подписан на группу Ц? Вчера пр...</td>\n",
       "      <td>4393</td>\n",
       "      <td>89</td>\n",
       "      <td>6</td>\n",
       "      <td>post</td>\n",
       "      <td>https://vk.com/wall-129354225_160496|восстанав...</td>\n",
       "      <td>Кремле</td>\n",
       "      <td>NaN</td>\n",
       "    </tr>\n",
       "    <tr>\n",
       "      <th>16</th>\n",
       "      <td>2024-03-14 19:30:00</td>\n",
       "      <td>332428</td>\n",
       "      <td>Я художник, я так вижу 🎨 Историческое здание н...</td>\n",
       "      <td>6037</td>\n",
       "      <td>77</td>\n",
       "      <td>8</td>\n",
       "      <td>post</td>\n",
       "      <td>NaN</td>\n",
       "      <td>Полтавской 7</td>\n",
       "      <td>0.976</td>\n",
       "    </tr>\n",
       "    <tr>\n",
       "      <th>375</th>\n",
       "      <td>2023-09-20 19:30:00</td>\n",
       "      <td>312204</td>\n",
       "      <td>Друзья, пока стоит чудесная осенняя погода, вн...</td>\n",
       "      <td>4539</td>\n",
       "      <td>49</td>\n",
       "      <td>7</td>\n",
       "      <td>post</td>\n",
       "      <td>NaN</td>\n",
       "      <td>Овсянниковском саду</td>\n",
       "      <td>NaN</td>\n",
       "    </tr>\n",
       "    <tr>\n",
       "      <th>154</th>\n",
       "      <td>2024-01-06 19:30:00</td>\n",
       "      <td>324331</td>\n",
       "      <td>В нашей ежегодной рубрике #отчет2023@mytndvor ...</td>\n",
       "      <td>4357</td>\n",
       "      <td>58</td>\n",
       "      <td>6</td>\n",
       "      <td>post</td>\n",
       "      <td>https://vk.com/wall-129354225_293374|раздельный</td>\n",
       "      <td>Жуковского 43</td>\n",
       "      <td>0.901</td>\n",
       "    </tr>\n",
       "    <tr>\n",
       "      <th>356</th>\n",
       "      <td>2023-09-29 19:30:00</td>\n",
       "      <td>312886</td>\n",
       "      <td>Друзья, а вы бы хотели ещё раз отдохнуть этой ...</td>\n",
       "      <td>3399</td>\n",
       "      <td>32</td>\n",
       "      <td>9</td>\n",
       "      <td>post</td>\n",
       "      <td>NaN</td>\n",
       "      <td>None</td>\n",
       "      <td>NaN</td>\n",
       "    </tr>\n",
       "    <tr>\n",
       "      <th>108</th>\n",
       "      <td>2024-01-28 19:30:00</td>\n",
       "      <td>326890</td>\n",
       "      <td>Вы не забыли, петербуржцы, что во время оттепе...</td>\n",
       "      <td>9284</td>\n",
       "      <td>103</td>\n",
       "      <td>14</td>\n",
       "      <td>post</td>\n",
       "      <td>NaN</td>\n",
       "      <td>Владимирском 3</td>\n",
       "      <td>0.846</td>\n",
       "    </tr>\n",
       "    <tr>\n",
       "      <th>331</th>\n",
       "      <td>2023-10-11 19:30:00</td>\n",
       "      <td>314236</td>\n",
       "      <td>Озеленение окончено! Увезли яблоньки с кадок н...</td>\n",
       "      <td>26057</td>\n",
       "      <td>162</td>\n",
       "      <td>16</td>\n",
       "      <td>post</td>\n",
       "      <td>NaN</td>\n",
       "      <td>Восстания</td>\n",
       "      <td>NaN</td>\n",
       "    </tr>\n",
       "    <tr>\n",
       "      <th>81</th>\n",
       "      <td>2024-02-11 10:30:00</td>\n",
       "      <td>328892</td>\n",
       "      <td>Вчера состоялись наши зимние активные игры в О...</td>\n",
       "      <td>3539</td>\n",
       "      <td>83</td>\n",
       "      <td>4</td>\n",
       "      <td>post</td>\n",
       "      <td>NaN</td>\n",
       "      <td>Овсянниковском саду</td>\n",
       "      <td>NaN</td>\n",
       "    </tr>\n",
       "  </tbody>\n",
       "</table>\n",
       "</div>"
      ],
      "text/plain": [
       "                   date      id  ...               Street  Score\n",
       "117 2024-01-24 10:30:00  326389  ...                 None    NaN\n",
       "86  2024-02-08 19:30:00  328572  ...            Конной 24  0.905\n",
       "43  2024-03-01 10:30:00  331114  ...               Кремле    NaN\n",
       "16  2024-03-14 19:30:00  332428  ...         Полтавской 7  0.976\n",
       "375 2023-09-20 19:30:00  312204  ...  Овсянниковском саду    NaN\n",
       "154 2024-01-06 19:30:00  324331  ...        Жуковского 43  0.901\n",
       "356 2023-09-29 19:30:00  312886  ...                 None    NaN\n",
       "108 2024-01-28 19:30:00  326890  ...       Владимирском 3  0.846\n",
       "331 2023-10-11 19:30:00  314236  ...            Восстания    NaN\n",
       "81  2024-02-11 10:30:00  328892  ...  Овсянниковском саду    NaN\n",
       "\n",
       "[10 rows x 10 columns]"
      ]
     },
     "execution_count": 18,
     "metadata": {},
     "output_type": "execute_result"
    }
   ],
   "source": [
    "posts.sample(10)"
   ]
  },
  {
   "cell_type": "code",
   "execution_count": 19,
   "metadata": {},
   "outputs": [
    {
     "name": "stdout",
     "output_type": "stream",
     "text": [
      "Graph with 32 nodes and 22 edges\n"
     ]
    }
   ],
   "source": [
    "print(graph)"
   ]
  },
  {
   "cell_type": "markdown",
   "metadata": {},
   "source": [
    "# Pipeline Sloyka step by step"
   ]
  },
  {
   "cell_type": "markdown",
   "metadata": {},
   "source": [
    "## Установка необходимых для работы библиотек и модулей ##"
   ]
  },
  {
   "cell_type": "markdown",
   "metadata": {},
   "source": [
    "Установка Sloyka и Pyvis для визуализации семантического графа:"
   ]
  },
  {
   "cell_type": "code",
   "execution_count": 2,
   "metadata": {},
   "outputs": [
    {
     "name": "stdout",
     "output_type": "stream",
     "text": [
      "Requirement already satisfied: pyvis in /Users/sashamorozov/Documents/Code/lib_sloyka/sloyka/.venv/lib/python3.10/site-packages (0.3.2)\n",
      "Requirement already satisfied: ipython>=5.3.0 in /Users/sashamorozov/Documents/Code/lib_sloyka/sloyka/.venv/lib/python3.10/site-packages (from pyvis) (8.21.0)\n",
      "Requirement already satisfied: jinja2>=2.9.6 in /Users/sashamorozov/Documents/Code/lib_sloyka/sloyka/.venv/lib/python3.10/site-packages (from pyvis) (3.1.3)\n",
      "Requirement already satisfied: jsonpickle>=1.4.1 in /Users/sashamorozov/Documents/Code/lib_sloyka/sloyka/.venv/lib/python3.10/site-packages (from pyvis) (3.0.3)\n",
      "Requirement already satisfied: networkx>=1.11 in /Users/sashamorozov/Documents/Code/lib_sloyka/sloyka/.venv/lib/python3.10/site-packages (from pyvis) (3.1)\n",
      "Requirement already satisfied: decorator in /Users/sashamorozov/Documents/Code/lib_sloyka/sloyka/.venv/lib/python3.10/site-packages (from ipython>=5.3.0->pyvis) (5.1.1)\n",
      "Requirement already satisfied: jedi>=0.16 in /Users/sashamorozov/Documents/Code/lib_sloyka/sloyka/.venv/lib/python3.10/site-packages (from ipython>=5.3.0->pyvis) (0.19.1)\n",
      "Requirement already satisfied: matplotlib-inline in /Users/sashamorozov/Documents/Code/lib_sloyka/sloyka/.venv/lib/python3.10/site-packages (from ipython>=5.3.0->pyvis) (0.1.6)\n",
      "Requirement already satisfied: prompt-toolkit<3.1.0,>=3.0.41 in /Users/sashamorozov/Documents/Code/lib_sloyka/sloyka/.venv/lib/python3.10/site-packages (from ipython>=5.3.0->pyvis) (3.0.43)\n",
      "Requirement already satisfied: pygments>=2.4.0 in /Users/sashamorozov/Documents/Code/lib_sloyka/sloyka/.venv/lib/python3.10/site-packages (from ipython>=5.3.0->pyvis) (2.17.2)\n",
      "Requirement already satisfied: stack-data in /Users/sashamorozov/Documents/Code/lib_sloyka/sloyka/.venv/lib/python3.10/site-packages (from ipython>=5.3.0->pyvis) (0.6.3)\n",
      "Requirement already satisfied: traitlets>=5 in /Users/sashamorozov/Documents/Code/lib_sloyka/sloyka/.venv/lib/python3.10/site-packages (from ipython>=5.3.0->pyvis) (5.14.1)\n",
      "Requirement already satisfied: exceptiongroup in /Users/sashamorozov/Documents/Code/lib_sloyka/sloyka/.venv/lib/python3.10/site-packages (from ipython>=5.3.0->pyvis) (1.2.0)\n",
      "Requirement already satisfied: pexpect>4.3 in /Users/sashamorozov/Documents/Code/lib_sloyka/sloyka/.venv/lib/python3.10/site-packages (from ipython>=5.3.0->pyvis) (4.9.0)\n",
      "Requirement already satisfied: MarkupSafe>=2.0 in /Users/sashamorozov/Documents/Code/lib_sloyka/sloyka/.venv/lib/python3.10/site-packages (from jinja2>=2.9.6->pyvis) (2.1.5)\n",
      "Requirement already satisfied: parso<0.9.0,>=0.8.3 in /Users/sashamorozov/Documents/Code/lib_sloyka/sloyka/.venv/lib/python3.10/site-packages (from jedi>=0.16->ipython>=5.3.0->pyvis) (0.8.3)\n",
      "Requirement already satisfied: ptyprocess>=0.5 in /Users/sashamorozov/Documents/Code/lib_sloyka/sloyka/.venv/lib/python3.10/site-packages (from pexpect>4.3->ipython>=5.3.0->pyvis) (0.7.0)\n",
      "Requirement already satisfied: wcwidth in /Users/sashamorozov/Documents/Code/lib_sloyka/sloyka/.venv/lib/python3.10/site-packages (from prompt-toolkit<3.1.0,>=3.0.41->ipython>=5.3.0->pyvis) (0.2.13)\n",
      "Requirement already satisfied: executing>=1.2.0 in /Users/sashamorozov/Documents/Code/lib_sloyka/sloyka/.venv/lib/python3.10/site-packages (from stack-data->ipython>=5.3.0->pyvis) (2.0.1)\n",
      "Requirement already satisfied: asttokens>=2.1.0 in /Users/sashamorozov/Documents/Code/lib_sloyka/sloyka/.venv/lib/python3.10/site-packages (from stack-data->ipython>=5.3.0->pyvis) (2.4.1)\n",
      "Requirement already satisfied: pure-eval in /Users/sashamorozov/Documents/Code/lib_sloyka/sloyka/.venv/lib/python3.10/site-packages (from stack-data->ipython>=5.3.0->pyvis) (0.2.2)\n",
      "Requirement already satisfied: six>=1.12.0 in /Users/sashamorozov/Documents/Code/lib_sloyka/sloyka/.venv/lib/python3.10/site-packages (from asttokens>=2.1.0->stack-data->ipython>=5.3.0->pyvis) (1.16.0)\n",
      "Note: you may need to restart the kernel to use updated packages.\n"
     ]
    }
   ],
   "source": [
    "%pip install sloyka\n",
    "%pip install pyvis"
   ]
  },
  {
   "cell_type": "markdown",
   "metadata": {},
   "source": [
    "Импорт необходимых модулей:"
   ]
  },
  {
   "cell_type": "code",
   "execution_count": 3,
   "metadata": {},
   "outputs": [],
   "source": [
    "import sloyka\n",
    "import warnings\n",
    "\n",
    "warnings.simplefilter(\"ignore\")\n",
    "\n",
    "import networkx as nx \n",
    "from pyvis.network import Network"
   ]
  },
  {
   "cell_type": "markdown",
   "metadata": {},
   "source": [
    "## Загрузка данных из ВК ##"
   ]
  },
  {
   "cell_type": "markdown",
   "metadata": {},
   "source": [
    "Вызов метода для парсинга данных с группы ВК:"
   ]
  },
  {
   "cell_type": "code",
   "execution_count": 6,
   "metadata": {},
   "outputs": [],
   "source": [
    "from sloyka import VKParser"
   ]
  },
  {
   "cell_type": "markdown",
   "metadata": {},
   "source": [
    "Ввод `id` группы ВК, с которой будут парситься данные, в `token` сервисный ключ приложения ВК."
   ]
  },
  {
   "cell_type": "code",
   "execution_count": 9,
   "metadata": {},
   "outputs": [],
   "source": [
    "owner_id = \"-129354225\" # группа ВК \"Центральный район за комфортную среду обитания\", id должен начинаться с \"-\"\n",
    "token = '...' # Сервисный ключ доступа из приложения ВК"
   ]
  },
  {
   "cell_type": "markdown",
   "metadata": {},
   "source": [
    "Запуск парсера, необходимо также уставновить дату, до которой будут выкачиваться тексты постов в формате \"гггг.мм.дд.\":"
   ]
  },
  {
   "cell_type": "code",
   "execution_count": 10,
   "metadata": {},
   "outputs": [
    {
     "name": "stdout",
     "output_type": "stream",
     "text": [
      "2024-01-31 10:30:00\n",
      "2023-12-13 19:30:00\n",
      "2023-10-25 10:30:00\n",
      "2023-09-07 10:30:00\n",
      "finished\n"
     ]
    }
   ],
   "source": [
    "posts = VKParser().run_posts(owner_id, token, 100, \"2023-09-20\") "
   ]
  },
  {
   "cell_type": "markdown",
   "metadata": {},
   "source": [
    "Результат:"
   ]
  },
  {
   "cell_type": "code",
   "execution_count": 11,
   "metadata": {},
   "outputs": [
    {
     "data": {
      "text/html": [
       "<div>\n",
       "<style scoped>\n",
       "    .dataframe tbody tr th:only-of-type {\n",
       "        vertical-align: middle;\n",
       "    }\n",
       "\n",
       "    .dataframe tbody tr th {\n",
       "        vertical-align: top;\n",
       "    }\n",
       "\n",
       "    .dataframe thead th {\n",
       "        text-align: right;\n",
       "    }\n",
       "</style>\n",
       "<table border=\"1\" class=\"dataframe\">\n",
       "  <thead>\n",
       "    <tr style=\"text-align: right;\">\n",
       "      <th></th>\n",
       "      <th>date</th>\n",
       "      <th>id</th>\n",
       "      <th>text</th>\n",
       "      <th>views.count</th>\n",
       "      <th>likes.count</th>\n",
       "      <th>reposts.count</th>\n",
       "      <th>link</th>\n",
       "    </tr>\n",
       "  </thead>\n",
       "  <tbody>\n",
       "    <tr>\n",
       "      <th>0</th>\n",
       "      <td>2024-03-20 10:30:00</td>\n",
       "      <td>333265</td>\n",
       "      <td>Вот и отгуляла широкая Масленица! Наша команда...</td>\n",
       "      <td>1192</td>\n",
       "      <td>27</td>\n",
       "      <td>3</td>\n",
       "      <td>https://vk.com/wall-129354225_332885|ярко,</td>\n",
       "    </tr>\n",
       "    <tr>\n",
       "      <th>1</th>\n",
       "      <td>2024-03-19 19:30:00</td>\n",
       "      <td>333226</td>\n",
       "      <td>На том же месте сквозь года Вот так каланча ве...</td>\n",
       "      <td>3230</td>\n",
       "      <td>40</td>\n",
       "      <td>11</td>\n",
       "      <td>https://vk.com/wall-129354225_325408|уплотните...</td>\n",
       "    </tr>\n",
       "    <tr>\n",
       "      <th>2</th>\n",
       "      <td>2024-03-19 10:30:00</td>\n",
       "      <td>333157</td>\n",
       "      <td>Мы не об этом просили! На углу Восстания и Жук...</td>\n",
       "      <td>6333</td>\n",
       "      <td>72</td>\n",
       "      <td>14</td>\n",
       "      <td>https://vk.com/wall-129354225_315591?access_ke...</td>\n",
       "    </tr>\n",
       "    <tr>\n",
       "      <th>3</th>\n",
       "      <td>2024-03-18 19:30:00</td>\n",
       "      <td>333061</td>\n",
       "      <td>Без вашей помощи мы не справимся! Открываем кр...</td>\n",
       "      <td>6574</td>\n",
       "      <td>89</td>\n",
       "      <td>28</td>\n",
       "      <td>https://vk.com/@mytndvor-programma2024|предвыб...</td>\n",
       "    </tr>\n",
       "    <tr>\n",
       "      <th>4</th>\n",
       "      <td>2024-03-18 10:30:00</td>\n",
       "      <td>333033</td>\n",
       "      <td>Начинаем новую неделю с хороших новостей: в Пе...</td>\n",
       "      <td>6262</td>\n",
       "      <td>183</td>\n",
       "      <td>9</td>\n",
       "      <td>https://vk.com/wall-129354225_330987|нашей</td>\n",
       "    </tr>\n",
       "    <tr>\n",
       "      <th>...</th>\n",
       "      <td>...</td>\n",
       "      <td>...</td>\n",
       "      <td>...</td>\n",
       "      <td>...</td>\n",
       "      <td>...</td>\n",
       "      <td>...</td>\n",
       "      <td>...</td>\n",
       "    </tr>\n",
       "    <tr>\n",
       "      <th>395</th>\n",
       "      <td>2023-09-09 10:30:00</td>\n",
       "      <td>311015</td>\n",
       "      <td>Больно терять балконы исторического центра. И ...</td>\n",
       "      <td>5602</td>\n",
       "      <td>98</td>\n",
       "      <td>14</td>\n",
       "      <td>NaN</td>\n",
       "    </tr>\n",
       "    <tr>\n",
       "      <th>396</th>\n",
       "      <td>2023-09-08 19:30:00</td>\n",
       "      <td>310989</td>\n",
       "      <td>Наверняка многие слышали, что ярославские и си...</td>\n",
       "      <td>3363</td>\n",
       "      <td>69</td>\n",
       "      <td>6</td>\n",
       "      <td>NaN</td>\n",
       "    </tr>\n",
       "    <tr>\n",
       "      <th>397</th>\n",
       "      <td>2023-09-08 10:30:00</td>\n",
       "      <td>310978</td>\n",
       "      <td>Сегодня исполняется ровно 82 года, как началас...</td>\n",
       "      <td>7362</td>\n",
       "      <td>144</td>\n",
       "      <td>15</td>\n",
       "      <td>NaN</td>\n",
       "    </tr>\n",
       "    <tr>\n",
       "      <th>398</th>\n",
       "      <td>2023-09-07 19:30:00</td>\n",
       "      <td>310962</td>\n",
       "      <td>Осенний кубок Овсянниковского сада по волейбол...</td>\n",
       "      <td>2555</td>\n",
       "      <td>29</td>\n",
       "      <td>6</td>\n",
       "      <td>NaN</td>\n",
       "    </tr>\n",
       "    <tr>\n",
       "      <th>399</th>\n",
       "      <td>2023-09-07 10:30:00</td>\n",
       "      <td>310919</td>\n",
       "      <td>Когда на голову упадёт - тогда и приходите. С ...</td>\n",
       "      <td>4574</td>\n",
       "      <td>56</td>\n",
       "      <td>7</td>\n",
       "      <td>NaN</td>\n",
       "    </tr>\n",
       "  </tbody>\n",
       "</table>\n",
       "<p>400 rows × 7 columns</p>\n",
       "</div>"
      ],
      "text/plain": [
       "                   date      id  \\\n",
       "0   2024-03-20 10:30:00  333265   \n",
       "1   2024-03-19 19:30:00  333226   \n",
       "2   2024-03-19 10:30:00  333157   \n",
       "3   2024-03-18 19:30:00  333061   \n",
       "4   2024-03-18 10:30:00  333033   \n",
       "..                  ...     ...   \n",
       "395 2023-09-09 10:30:00  311015   \n",
       "396 2023-09-08 19:30:00  310989   \n",
       "397 2023-09-08 10:30:00  310978   \n",
       "398 2023-09-07 19:30:00  310962   \n",
       "399 2023-09-07 10:30:00  310919   \n",
       "\n",
       "                                                  text  views.count  \\\n",
       "0    Вот и отгуляла широкая Масленица! Наша команда...         1192   \n",
       "1    На том же месте сквозь года Вот так каланча ве...         3230   \n",
       "2    Мы не об этом просили! На углу Восстания и Жук...         6333   \n",
       "3    Без вашей помощи мы не справимся! Открываем кр...         6574   \n",
       "4    Начинаем новую неделю с хороших новостей: в Пе...         6262   \n",
       "..                                                 ...          ...   \n",
       "395  Больно терять балконы исторического центра. И ...         5602   \n",
       "396  Наверняка многие слышали, что ярославские и си...         3363   \n",
       "397  Сегодня исполняется ровно 82 года, как началас...         7362   \n",
       "398  Осенний кубок Овсянниковского сада по волейбол...         2555   \n",
       "399  Когда на голову упадёт - тогда и приходите. С ...         4574   \n",
       "\n",
       "     likes.count  reposts.count  \\\n",
       "0             27              3   \n",
       "1             40             11   \n",
       "2             72             14   \n",
       "3             89             28   \n",
       "4            183              9   \n",
       "..           ...            ...   \n",
       "395           98             14   \n",
       "396           69              6   \n",
       "397          144             15   \n",
       "398           29              6   \n",
       "399           56              7   \n",
       "\n",
       "                                                  link  \n",
       "0           https://vk.com/wall-129354225_332885|ярко,  \n",
       "1    https://vk.com/wall-129354225_325408|уплотните...  \n",
       "2    https://vk.com/wall-129354225_315591?access_ke...  \n",
       "3    https://vk.com/@mytndvor-programma2024|предвыб...  \n",
       "4           https://vk.com/wall-129354225_330987|нашей  \n",
       "..                                                 ...  \n",
       "395                                                NaN  \n",
       "396                                                NaN  \n",
       "397                                                NaN  \n",
       "398                                                NaN  \n",
       "399                                                NaN  \n",
       "\n",
       "[400 rows x 7 columns]"
      ]
     },
     "execution_count": 11,
     "metadata": {},
     "output_type": "execute_result"
    }
   ],
   "source": [
    "posts"
   ]
  },
  {
   "cell_type": "markdown",
   "metadata": {},
   "source": [
    "Сохранение результата в формате `.csv`:"
   ]
  },
  {
   "cell_type": "code",
   "execution_count": 30,
   "metadata": {},
   "outputs": [],
   "source": [
    "posts.to_csv('posts.csv', index=False)"
   ]
  },
  {
   "cell_type": "markdown",
   "metadata": {},
   "source": [
    "## Геокодирование ##"
   ]
  },
  {
   "cell_type": "markdown",
   "metadata": {},
   "source": [
    "Импорт Геокодера из Sloyka:"
   ]
  },
  {
   "cell_type": "code",
   "execution_count": 5,
   "metadata": {},
   "outputs": [
    {
     "name": "stdout",
     "output_type": "stream",
     "text": [
      "2024-03-22 13:54:08,649 SequenceTagger predicts: Dictionary with 5 tags: O, S-ADDRESS, B-ADDRESS, E-ADDRESS, I-ADDRESS\n"
     ]
    }
   ],
   "source": [
    "from sloyka import Geocoder\n",
    "geocoder = Geocoder()"
   ]
  },
  {
   "cell_type": "markdown",
   "metadata": {},
   "source": [
    "Запуск гекодера, на вход датафрейм `posts` и колонка `text` из него:"
   ]
  },
  {
   "cell_type": "code",
   "execution_count": 14,
   "metadata": {},
   "outputs": [
    {
     "name": "stderr",
     "output_type": "stream",
     "text": [
      "\u001b[32m2024-03-20 12:52:41.468\u001b[0m | \u001b[1mINFO    \u001b[0m | \u001b[36msloyka.src.geocoder\u001b[0m:\u001b[36mclear_names\u001b[0m:\u001b[36m256\u001b[0m - \u001b[1mclear_names started\u001b[0m\n",
      "\u001b[32m2024-03-20 12:52:41.482\u001b[0m | \u001b[1mINFO    \u001b[0m | \u001b[36msloyka.src.geocoder\u001b[0m:\u001b[36mget_street\u001b[0m:\u001b[36m597\u001b[0m - \u001b[1mget_street started\u001b[0m\n",
      "\u001b[32m2024-03-20 12:52:41.483\u001b[0m | \u001b[1mINFO    \u001b[0m | \u001b[36msloyka.src.geocoder\u001b[0m:\u001b[36mget_street\u001b[0m:\u001b[36m602\u001b[0m - \u001b[1mextract_ner_street started\u001b[0m\n",
      "100%|██████████| 400/400 [00:07<00:00, 51.53it/s]\n",
      "100%|██████████| 400/400 [00:09<00:00, 44.15it/s]\n",
      "\u001b[32m2024-03-20 12:52:58.330\u001b[0m | \u001b[1mINFO    \u001b[0m | \u001b[36msloyka.src.geocoder\u001b[0m:\u001b[36mget_street\u001b[0m:\u001b[36m617\u001b[0m - \u001b[1mpattern1.sub started\u001b[0m\n",
      "100%|██████████| 310/310 [00:00<00:00, 335111.92it/s]\n",
      "\u001b[32m2024-03-20 12:52:58.338\u001b[0m | \u001b[1mINFO    \u001b[0m | \u001b[36msloyka.src.geocoder\u001b[0m:\u001b[36mget_street\u001b[0m:\u001b[36m622\u001b[0m - \u001b[1mpattern2.findall started\u001b[0m\n",
      "100%|██████████| 310/310 [00:00<00:00, 37611.64it/s]\n",
      "\u001b[32m2024-03-20 12:52:58.352\u001b[0m | \u001b[1mINFO    \u001b[0m | \u001b[36msloyka.src.geocoder\u001b[0m:\u001b[36mget_street\u001b[0m:\u001b[36m630\u001b[0m - \u001b[1mpattern2.sub started\u001b[0m\n",
      "100%|██████████| 310/310 [00:00<00:00, 374383.60it/s]\n",
      "\u001b[32m2024-03-20 12:52:58.361\u001b[0m | \u001b[1mINFO    \u001b[0m | \u001b[36msloyka.src.geocoder\u001b[0m:\u001b[36mget_street\u001b[0m:\u001b[36m639\u001b[0m - \u001b[1mextract_building_num started\u001b[0m\n",
      "100%|██████████| 310/310 [00:00<00:00, 16593.72it/s]\n",
      "\u001b[32m2024-03-20 12:52:58.389\u001b[0m | \u001b[1mINFO    \u001b[0m | \u001b[36msloyka.src.geocoder\u001b[0m:\u001b[36mget_street\u001b[0m:\u001b[36m648\u001b[0m - \u001b[1mextract_toponym started\u001b[0m\n",
      "100%|██████████| 310/310 [00:00<00:00, 1324.84it/s]\n",
      "\u001b[32m2024-03-20 12:52:58.626\u001b[0m | \u001b[1mINFO    \u001b[0m | \u001b[36msloyka.src.geocoder\u001b[0m:\u001b[36mget_stem\u001b[0m:\u001b[36m473\u001b[0m - \u001b[1mget_stem started\u001b[0m\n",
      "\u001b[32m2024-03-20 12:53:03.954\u001b[0m | \u001b[1mINFO    \u001b[0m | \u001b[36msloyka.src.geocoder\u001b[0m:\u001b[36mcreate_gdf\u001b[0m:\u001b[36m663\u001b[0m - \u001b[1mcreate_gdf started\u001b[0m\n",
      "100%|██████████| 398/398 [01:20<00:00,  4.96it/s]\n"
     ]
    }
   ],
   "source": [
    "res = geocoder.run(df=posts, text_column='text')"
   ]
  },
  {
   "cell_type": "markdown",
   "metadata": {},
   "source": [
    "Результат:"
   ]
  },
  {
   "cell_type": "code",
   "execution_count": 15,
   "metadata": {},
   "outputs": [
    {
     "data": {
      "text/html": [
       "<div>\n",
       "<style scoped>\n",
       "    .dataframe tbody tr th:only-of-type {\n",
       "        vertical-align: middle;\n",
       "    }\n",
       "\n",
       "    .dataframe tbody tr th {\n",
       "        vertical-align: top;\n",
       "    }\n",
       "\n",
       "    .dataframe thead th {\n",
       "        text-align: right;\n",
       "    }\n",
       "</style>\n",
       "<table border=\"1\" class=\"dataframe\">\n",
       "  <thead>\n",
       "    <tr style=\"text-align: right;\">\n",
       "      <th></th>\n",
       "      <th>date</th>\n",
       "      <th>id</th>\n",
       "      <th>text</th>\n",
       "      <th>views.count</th>\n",
       "      <th>likes.count</th>\n",
       "      <th>reposts.count</th>\n",
       "      <th>link</th>\n",
       "      <th>Street</th>\n",
       "      <th>Score</th>\n",
       "      <th>Numbers</th>\n",
       "      <th>initial_street</th>\n",
       "      <th>Toponims</th>\n",
       "      <th>full_street_name</th>\n",
       "      <th>location_options</th>\n",
       "      <th>addr_to_geocode</th>\n",
       "      <th>only_full_street_name</th>\n",
       "      <th>Location</th>\n",
       "      <th>geometry</th>\n",
       "    </tr>\n",
       "  </thead>\n",
       "  <tbody>\n",
       "    <tr>\n",
       "      <th>0</th>\n",
       "      <td>2024-03-19 19:30:00</td>\n",
       "      <td>333226</td>\n",
       "      <td>На том же месте сквозь года Вот так каланча ве...</td>\n",
       "      <td>3230</td>\n",
       "      <td>40</td>\n",
       "      <td>11</td>\n",
       "      <td>https://vk.com/wall-129354225_325408|уплотните...</td>\n",
       "      <td>загородном</td>\n",
       "      <td>NaN</td>\n",
       "      <td>37</td>\n",
       "      <td>Загородном</td>\n",
       "      <td>None</td>\n",
       "      <td>Загородный проспект 37 Санкт-Петербург Россия</td>\n",
       "      <td>['Загородный проспект 37 Санкт-Петербург Россия']</td>\n",
       "      <td>Загородный проспект 37 Санкт-Петербург Россия</td>\n",
       "      <td>Загородный проспект</td>\n",
       "      <td>Электродом, 37/70 литА, Загородный проспект, о...</td>\n",
       "      <td>POINT (30.33256 59.92240)</td>\n",
       "    </tr>\n",
       "    <tr>\n",
       "      <th>1</th>\n",
       "      <td>2024-03-19 10:30:00</td>\n",
       "      <td>333157</td>\n",
       "      <td>Мы не об этом просили! На углу Восстания и Жук...</td>\n",
       "      <td>6333</td>\n",
       "      <td>72</td>\n",
       "      <td>14</td>\n",
       "      <td>https://vk.com/wall-129354225_315591?access_ke...</td>\n",
       "      <td>бадаева</td>\n",
       "      <td>0.971</td>\n",
       "      <td></td>\n",
       "      <td>Бадаева</td>\n",
       "      <td>None</td>\n",
       "      <td>улица Бадаева  Санкт-Петербург Россия</td>\n",
       "      <td>['улица Бадаева  Санкт-Петербург Россия']</td>\n",
       "      <td>улица Бадаева  Санкт-Петербург Россия</td>\n",
       "      <td>улица Бадаева</td>\n",
       "      <td>улица Бадаева, округ Правобережный, Санкт-Пете...</td>\n",
       "      <td>POINT (30.45535 59.91689)</td>\n",
       "    </tr>\n",
       "    <tr>\n",
       "      <th>2</th>\n",
       "      <td>2024-03-17 10:30:00</td>\n",
       "      <td>332749</td>\n",
       "      <td>Пока по всей стране проводятся выборы Президен...</td>\n",
       "      <td>10181</td>\n",
       "      <td>108</td>\n",
       "      <td>30</td>\n",
       "      <td>NaN</td>\n",
       "      <td>литейном</td>\n",
       "      <td>0.766</td>\n",
       "      <td>24</td>\n",
       "      <td>Литейном</td>\n",
       "      <td>None</td>\n",
       "      <td>Литейный мост 24 Санкт-Петербург Россия,Литейн...</td>\n",
       "      <td>['Литейный мост 24 Санкт-Петербург Россия', 'Л...</td>\n",
       "      <td>Литейный мост 24 Санкт-Петербург Россия</td>\n",
       "      <td>Литейный мост</td>\n",
       "      <td>Литейный мост, Разлив, Сестрорецк, Санкт-Петер...</td>\n",
       "      <td>POINT (29.95420 60.08878)</td>\n",
       "    </tr>\n",
       "    <tr>\n",
       "      <th>3</th>\n",
       "      <td>2024-03-17 10:30:00</td>\n",
       "      <td>332749</td>\n",
       "      <td>Пока по всей стране проводятся выборы Президен...</td>\n",
       "      <td>10181</td>\n",
       "      <td>108</td>\n",
       "      <td>30</td>\n",
       "      <td>NaN</td>\n",
       "      <td>литейном</td>\n",
       "      <td>0.766</td>\n",
       "      <td>24</td>\n",
       "      <td>Литейном</td>\n",
       "      <td>None</td>\n",
       "      <td>Литейный мост 24 Санкт-Петербург Россия,Литейн...</td>\n",
       "      <td>['Литейный мост 24 Санкт-Петербург Россия', 'Л...</td>\n",
       "      <td>Литейный мост 24 Санкт-Петербург Россия</td>\n",
       "      <td>Литейный проспект</td>\n",
       "      <td>Литейный мост, Разлив, Сестрорецк, Санкт-Петер...</td>\n",
       "      <td>POINT (29.95420 60.08878)</td>\n",
       "    </tr>\n",
       "    <tr>\n",
       "      <th>4</th>\n",
       "      <td>2024-03-17 10:30:00</td>\n",
       "      <td>332749</td>\n",
       "      <td>Пока по всей стране проводятся выборы Президен...</td>\n",
       "      <td>10181</td>\n",
       "      <td>108</td>\n",
       "      <td>30</td>\n",
       "      <td>NaN</td>\n",
       "      <td>литейном</td>\n",
       "      <td>0.766</td>\n",
       "      <td>24</td>\n",
       "      <td>Литейном</td>\n",
       "      <td>None</td>\n",
       "      <td>Литейный мост 24 Санкт-Петербург Россия,Литейн...</td>\n",
       "      <td>['Литейный мост 24 Санкт-Петербург Россия', 'Л...</td>\n",
       "      <td>Литейный проспект 24 Санкт-Петербург Россия</td>\n",
       "      <td>Литейный мост</td>\n",
       "      <td>Дом Мурузи, 24, Литейный проспект, Литейный ок...</td>\n",
       "      <td>POINT (30.34956 59.94247)</td>\n",
       "    </tr>\n",
       "    <tr>\n",
       "      <th>...</th>\n",
       "      <td>...</td>\n",
       "      <td>...</td>\n",
       "      <td>...</td>\n",
       "      <td>...</td>\n",
       "      <td>...</td>\n",
       "      <td>...</td>\n",
       "      <td>...</td>\n",
       "      <td>...</td>\n",
       "      <td>...</td>\n",
       "      <td>...</td>\n",
       "      <td>...</td>\n",
       "      <td>...</td>\n",
       "      <td>...</td>\n",
       "      <td>...</td>\n",
       "      <td>...</td>\n",
       "      <td>...</td>\n",
       "      <td>...</td>\n",
       "      <td>...</td>\n",
       "    </tr>\n",
       "    <tr>\n",
       "      <th>393</th>\n",
       "      <td>2023-09-10 10:30:00</td>\n",
       "      <td>311065</td>\n",
       "      <td>Вы там нормально себя чувствуете? Решили до ку...</td>\n",
       "      <td>13531</td>\n",
       "      <td>130</td>\n",
       "      <td>13</td>\n",
       "      <td>NaN</td>\n",
       "      <td>адмиралтейской</td>\n",
       "      <td>NaN</td>\n",
       "      <td></td>\n",
       "      <td>Адмиралтейской</td>\n",
       "      <td>None</td>\n",
       "      <td>Адмиралтейская набережная  Санкт-Петербург Рос...</td>\n",
       "      <td>['Адмиралтейская набережная  Санкт-Петербург Р...</td>\n",
       "      <td>Адмиралтейская набережная  Санкт-Петербург Россия</td>\n",
       "      <td>Адмиралтейская набережная</td>\n",
       "      <td>Адмиралтейская набережная, Адмиралтейский окру...</td>\n",
       "      <td>POINT (30.30745 59.93892)</td>\n",
       "    </tr>\n",
       "    <tr>\n",
       "      <th>394</th>\n",
       "      <td>2023-09-10 10:30:00</td>\n",
       "      <td>311065</td>\n",
       "      <td>Вы там нормально себя чувствуете? Решили до ку...</td>\n",
       "      <td>13531</td>\n",
       "      <td>130</td>\n",
       "      <td>13</td>\n",
       "      <td>NaN</td>\n",
       "      <td>адмиралтейской</td>\n",
       "      <td>NaN</td>\n",
       "      <td></td>\n",
       "      <td>Адмиралтейской</td>\n",
       "      <td>None</td>\n",
       "      <td>Адмиралтейская набережная  Санкт-Петербург Рос...</td>\n",
       "      <td>['Адмиралтейская набережная  Санкт-Петербург Р...</td>\n",
       "      <td>Адмиралтейская набережная  Санкт-Петербург Россия</td>\n",
       "      <td>Адмиралтейская улица</td>\n",
       "      <td>Адмиралтейская набережная, Адмиралтейский окру...</td>\n",
       "      <td>POINT (30.30745 59.93892)</td>\n",
       "    </tr>\n",
       "    <tr>\n",
       "      <th>395</th>\n",
       "      <td>2023-09-10 10:30:00</td>\n",
       "      <td>311065</td>\n",
       "      <td>Вы там нормально себя чувствуете? Решили до ку...</td>\n",
       "      <td>13531</td>\n",
       "      <td>130</td>\n",
       "      <td>13</td>\n",
       "      <td>NaN</td>\n",
       "      <td>адмиралтейской</td>\n",
       "      <td>NaN</td>\n",
       "      <td></td>\n",
       "      <td>Адмиралтейской</td>\n",
       "      <td>None</td>\n",
       "      <td>Адмиралтейская набережная  Санкт-Петербург Рос...</td>\n",
       "      <td>['Адмиралтейская набережная  Санкт-Петербург Р...</td>\n",
       "      <td>Адмиралтейская улица  Санкт-Петербург Россия</td>\n",
       "      <td>Адмиралтейская набережная</td>\n",
       "      <td>Адмиралтейская улица, Близнецы, Колпино, Санкт...</td>\n",
       "      <td>POINT (30.59574 59.74681)</td>\n",
       "    </tr>\n",
       "    <tr>\n",
       "      <th>396</th>\n",
       "      <td>2023-09-10 10:30:00</td>\n",
       "      <td>311065</td>\n",
       "      <td>Вы там нормально себя чувствуете? Решили до ку...</td>\n",
       "      <td>13531</td>\n",
       "      <td>130</td>\n",
       "      <td>13</td>\n",
       "      <td>NaN</td>\n",
       "      <td>адмиралтейской</td>\n",
       "      <td>NaN</td>\n",
       "      <td></td>\n",
       "      <td>Адмиралтейской</td>\n",
       "      <td>None</td>\n",
       "      <td>Адмиралтейская набережная  Санкт-Петербург Рос...</td>\n",
       "      <td>['Адмиралтейская набережная  Санкт-Петербург Р...</td>\n",
       "      <td>Адмиралтейская улица  Санкт-Петербург Россия</td>\n",
       "      <td>Адмиралтейская улица</td>\n",
       "      <td>Адмиралтейская улица, Близнецы, Колпино, Санкт...</td>\n",
       "      <td>POINT (30.59574 59.74681)</td>\n",
       "    </tr>\n",
       "    <tr>\n",
       "      <th>397</th>\n",
       "      <td>2023-09-09 10:30:00</td>\n",
       "      <td>311015</td>\n",
       "      <td>Больно терять балконы исторического центра. И ...</td>\n",
       "      <td>5602</td>\n",
       "      <td>98</td>\n",
       "      <td>14</td>\n",
       "      <td>NaN</td>\n",
       "      <td>некрасова</td>\n",
       "      <td>0.902</td>\n",
       "      <td>60</td>\n",
       "      <td>Некрасова</td>\n",
       "      <td>None</td>\n",
       "      <td>улица Некрасова 60 Санкт-Петербург Россия</td>\n",
       "      <td>['улица Некрасова 60 Санкт-Петербург Россия']</td>\n",
       "      <td>улица Некрасова 60 Санкт-Петербург Россия</td>\n",
       "      <td>улица Некрасова</td>\n",
       "      <td>60, улица Некрасова, Пески, округ Смольнинское...</td>\n",
       "      <td>POINT (30.36946 59.93851)</td>\n",
       "    </tr>\n",
       "  </tbody>\n",
       "</table>\n",
       "<p>397 rows × 18 columns</p>\n",
       "</div>"
      ],
      "text/plain": [
       "                   date      id  \\\n",
       "0   2024-03-19 19:30:00  333226   \n",
       "1   2024-03-19 10:30:00  333157   \n",
       "2   2024-03-17 10:30:00  332749   \n",
       "3   2024-03-17 10:30:00  332749   \n",
       "4   2024-03-17 10:30:00  332749   \n",
       "..                  ...     ...   \n",
       "393 2023-09-10 10:30:00  311065   \n",
       "394 2023-09-10 10:30:00  311065   \n",
       "395 2023-09-10 10:30:00  311065   \n",
       "396 2023-09-10 10:30:00  311065   \n",
       "397 2023-09-09 10:30:00  311015   \n",
       "\n",
       "                                                  text  views.count  \\\n",
       "0    На том же месте сквозь года Вот так каланча ве...         3230   \n",
       "1    Мы не об этом просили! На углу Восстания и Жук...         6333   \n",
       "2    Пока по всей стране проводятся выборы Президен...        10181   \n",
       "3    Пока по всей стране проводятся выборы Президен...        10181   \n",
       "4    Пока по всей стране проводятся выборы Президен...        10181   \n",
       "..                                                 ...          ...   \n",
       "393  Вы там нормально себя чувствуете? Решили до ку...        13531   \n",
       "394  Вы там нормально себя чувствуете? Решили до ку...        13531   \n",
       "395  Вы там нормально себя чувствуете? Решили до ку...        13531   \n",
       "396  Вы там нормально себя чувствуете? Решили до ку...        13531   \n",
       "397  Больно терять балконы исторического центра. И ...         5602   \n",
       "\n",
       "     likes.count  reposts.count  \\\n",
       "0             40             11   \n",
       "1             72             14   \n",
       "2            108             30   \n",
       "3            108             30   \n",
       "4            108             30   \n",
       "..           ...            ...   \n",
       "393          130             13   \n",
       "394          130             13   \n",
       "395          130             13   \n",
       "396          130             13   \n",
       "397           98             14   \n",
       "\n",
       "                                                  link          Street  Score  \\\n",
       "0    https://vk.com/wall-129354225_325408|уплотните...      загородном    NaN   \n",
       "1    https://vk.com/wall-129354225_315591?access_ke...         бадаева  0.971   \n",
       "2                                                  NaN        литейном  0.766   \n",
       "3                                                  NaN        литейном  0.766   \n",
       "4                                                  NaN        литейном  0.766   \n",
       "..                                                 ...             ...    ...   \n",
       "393                                                NaN  адмиралтейской    NaN   \n",
       "394                                                NaN  адмиралтейской    NaN   \n",
       "395                                                NaN  адмиралтейской    NaN   \n",
       "396                                                NaN  адмиралтейской    NaN   \n",
       "397                                                NaN       некрасова  0.902   \n",
       "\n",
       "    Numbers  initial_street Toponims  \\\n",
       "0        37      Загородном     None   \n",
       "1                   Бадаева     None   \n",
       "2        24        Литейном     None   \n",
       "3        24        Литейном     None   \n",
       "4        24        Литейном     None   \n",
       "..      ...             ...      ...   \n",
       "393          Адмиралтейской     None   \n",
       "394          Адмиралтейской     None   \n",
       "395          Адмиралтейской     None   \n",
       "396          Адмиралтейской     None   \n",
       "397      60       Некрасова     None   \n",
       "\n",
       "                                      full_street_name  \\\n",
       "0        Загородный проспект 37 Санкт-Петербург Россия   \n",
       "1                улица Бадаева  Санкт-Петербург Россия   \n",
       "2    Литейный мост 24 Санкт-Петербург Россия,Литейн...   \n",
       "3    Литейный мост 24 Санкт-Петербург Россия,Литейн...   \n",
       "4    Литейный мост 24 Санкт-Петербург Россия,Литейн...   \n",
       "..                                                 ...   \n",
       "393  Адмиралтейская набережная  Санкт-Петербург Рос...   \n",
       "394  Адмиралтейская набережная  Санкт-Петербург Рос...   \n",
       "395  Адмиралтейская набережная  Санкт-Петербург Рос...   \n",
       "396  Адмиралтейская набережная  Санкт-Петербург Рос...   \n",
       "397          улица Некрасова 60 Санкт-Петербург Россия   \n",
       "\n",
       "                                      location_options  \\\n",
       "0    ['Загородный проспект 37 Санкт-Петербург Россия']   \n",
       "1            ['улица Бадаева  Санкт-Петербург Россия']   \n",
       "2    ['Литейный мост 24 Санкт-Петербург Россия', 'Л...   \n",
       "3    ['Литейный мост 24 Санкт-Петербург Россия', 'Л...   \n",
       "4    ['Литейный мост 24 Санкт-Петербург Россия', 'Л...   \n",
       "..                                                 ...   \n",
       "393  ['Адмиралтейская набережная  Санкт-Петербург Р...   \n",
       "394  ['Адмиралтейская набережная  Санкт-Петербург Р...   \n",
       "395  ['Адмиралтейская набережная  Санкт-Петербург Р...   \n",
       "396  ['Адмиралтейская набережная  Санкт-Петербург Р...   \n",
       "397      ['улица Некрасова 60 Санкт-Петербург Россия']   \n",
       "\n",
       "                                       addr_to_geocode  \\\n",
       "0        Загородный проспект 37 Санкт-Петербург Россия   \n",
       "1                улица Бадаева  Санкт-Петербург Россия   \n",
       "2              Литейный мост 24 Санкт-Петербург Россия   \n",
       "3              Литейный мост 24 Санкт-Петербург Россия   \n",
       "4          Литейный проспект 24 Санкт-Петербург Россия   \n",
       "..                                                 ...   \n",
       "393  Адмиралтейская набережная  Санкт-Петербург Россия   \n",
       "394  Адмиралтейская набережная  Санкт-Петербург Россия   \n",
       "395       Адмиралтейская улица  Санкт-Петербург Россия   \n",
       "396       Адмиралтейская улица  Санкт-Петербург Россия   \n",
       "397          улица Некрасова 60 Санкт-Петербург Россия   \n",
       "\n",
       "         only_full_street_name  \\\n",
       "0          Загородный проспект   \n",
       "1                улица Бадаева   \n",
       "2                Литейный мост   \n",
       "3            Литейный проспект   \n",
       "4                Литейный мост   \n",
       "..                         ...   \n",
       "393  Адмиралтейская набережная   \n",
       "394       Адмиралтейская улица   \n",
       "395  Адмиралтейская набережная   \n",
       "396       Адмиралтейская улица   \n",
       "397            улица Некрасова   \n",
       "\n",
       "                                              Location  \\\n",
       "0    Электродом, 37/70 литА, Загородный проспект, о...   \n",
       "1    улица Бадаева, округ Правобережный, Санкт-Пете...   \n",
       "2    Литейный мост, Разлив, Сестрорецк, Санкт-Петер...   \n",
       "3    Литейный мост, Разлив, Сестрорецк, Санкт-Петер...   \n",
       "4    Дом Мурузи, 24, Литейный проспект, Литейный ок...   \n",
       "..                                                 ...   \n",
       "393  Адмиралтейская набережная, Адмиралтейский окру...   \n",
       "394  Адмиралтейская набережная, Адмиралтейский окру...   \n",
       "395  Адмиралтейская улица, Близнецы, Колпино, Санкт...   \n",
       "396  Адмиралтейская улица, Близнецы, Колпино, Санкт...   \n",
       "397  60, улица Некрасова, Пески, округ Смольнинское...   \n",
       "\n",
       "                      geometry  \n",
       "0    POINT (30.33256 59.92240)  \n",
       "1    POINT (30.45535 59.91689)  \n",
       "2    POINT (29.95420 60.08878)  \n",
       "3    POINT (29.95420 60.08878)  \n",
       "4    POINT (30.34956 59.94247)  \n",
       "..                         ...  \n",
       "393  POINT (30.30745 59.93892)  \n",
       "394  POINT (30.30745 59.93892)  \n",
       "395  POINT (30.59574 59.74681)  \n",
       "396  POINT (30.59574 59.74681)  \n",
       "397  POINT (30.36946 59.93851)  \n",
       "\n",
       "[397 rows x 18 columns]"
      ]
     },
     "execution_count": 15,
     "metadata": {},
     "output_type": "execute_result"
    }
   ],
   "source": [
    "res"
   ]
  },
  {
   "cell_type": "markdown",
   "metadata": {},
   "source": [
    "Сохранение результата в формате `.csv`:"
   ]
  },
  {
   "cell_type": "code",
   "execution_count": 29,
   "metadata": {},
   "outputs": [],
   "source": [
    "res.to_csv('data_posts.csv', index=False) "
   ]
  },
  {
   "cell_type": "markdown",
   "metadata": {},
   "source": [
    "## Построение семантического графа ##"
   ]
  },
  {
   "cell_type": "markdown",
   "metadata": {},
   "source": [
    "Импорт метода для построения семантического графа:"
   ]
  },
  {
   "cell_type": "code",
   "execution_count": 6,
   "metadata": {},
   "outputs": [],
   "source": [
    "from sloyka import Semgraph\n",
    "sm = Semgraph(device='cpu')"
   ]
  },
  {
   "cell_type": "markdown",
   "metadata": {},
   "source": [
    "Сборка семантического графа на основе полученных данных:"
   ]
  },
  {
   "cell_type": "code",
   "execution_count": 37,
   "metadata": {},
   "outputs": [
    {
     "name": "stdout",
     "output_type": "stream",
     "text": [
      "Extracting keywords\n"
     ]
    },
    {
     "name": "stderr",
     "output_type": "stream",
     "text": [
      "100%|██████████| 62/62 [00:34<00:00,  1.79it/s]\n"
     ]
    },
    {
     "name": "stdout",
     "output_type": "stream",
     "text": [
      "Keywords extracted\n",
      "Calculating semantic closeness\n"
     ]
    },
    {
     "name": "stderr",
     "output_type": "stream",
     "text": [
      "100%|██████████| 276/276 [00:03<00:00, 79.93it/s]\n"
     ]
    }
   ],
   "source": [
    "# На вход df с геокодированными данными\n",
    "G = sm.build_semantic_graph(res,\n",
    "                        'text',\n",
    "                        'only_full_street_name', \n",
    "                        'initial_street',\n",
    "                        'Toponims',\n",
    "                        key_score_filter=0.6,       # скор для извлечения слов из сообщений. Больше - меньше слов в графе, меньш- больше слов в графе (хуже смысл)\n",
    "                        semantic_score_filter=0.75) # скор для построения связей между извлечёнными словами. Больше - меньше связей в графе, меньш - больше связей в графе (хуже смысл)"
   ]
  },
  {
   "cell_type": "markdown",
   "metadata": {},
   "source": [
    "Сохранение графа в формате `graphml`:"
   ]
  },
  {
   "cell_type": "code",
   "execution_count": 39,
   "metadata": {},
   "outputs": [],
   "source": [
    "nx.write_graphml(G, 'sem_graph.graphml', encoding='utf-8')"
   ]
  },
  {
   "cell_type": "markdown",
   "metadata": {},
   "source": [
    "Визуализация графа в формате `html`:"
   ]
  },
  {
   "cell_type": "code",
   "execution_count": 42,
   "metadata": {},
   "outputs": [],
   "source": [
    "nt = Network('1000px', '1000px')\n",
    "nt.show_buttons(filter_=['physics'])\n",
    "nt.from_nx(G)\n",
    "\n",
    "nt.write_html('graph.html')"
   ]
  }
 ],
 "metadata": {
  "kernelspec": {
   "display_name": "venv",
   "language": "python",
   "name": "python3"
  },
  "language_info": {
   "codemirror_mode": {
    "name": "ipython",
    "version": 3
   },
   "file_extension": ".py",
   "mimetype": "text/x-python",
   "name": "python",
   "nbconvert_exporter": "python",
   "pygments_lexer": "ipython3",
   "version": "3.10.13"
  }
 },
 "nbformat": 4,
 "nbformat_minor": 2
}
