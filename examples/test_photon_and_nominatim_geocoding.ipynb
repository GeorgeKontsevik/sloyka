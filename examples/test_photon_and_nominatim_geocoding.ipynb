{
 "cells": [
  {
   "cell_type": "code",
   "execution_count": 1,
   "metadata": {},
   "outputs": [],
   "source": [
    "import requests\n",
    "\n",
    "def search_location(query, limit=1):\n",
    "    endpoint = \"https://photon.komoot.io/api/\"\n",
    "    params = {\n",
    "        \"q\": query,\n",
    "        \"limit\": limit\n",
    "    }\n",
    "    response = requests.get(endpoint, params=params)\n",
    "    results = response.json()[\"features\"]\n",
    "    return results\n",
    "\n",
    "# Example usage:\n",
    "results = search_location(\"Краснодар благодарн 7\")\n",
    "first_result = results[0]  # Assuming you want to use the first result\n",
    "\n",
    "# Extract the coordinates\n",
    "coordinates = first_result[\"geometry\"][\"coordinates\"]"
   ]
  },
  {
   "cell_type": "code",
   "execution_count": 2,
   "metadata": {},
   "outputs": [
    {
     "data": {
      "text/plain": [
       "{'geometry': {'coordinates': [39.01981735963324, 45.03956945],\n",
       "  'type': 'Point'},\n",
       " 'type': 'Feature',\n",
       " 'properties': {'osm_id': 77275679,\n",
       "  'extent': [39.0197403, 45.0396241, 39.0199016, 45.0395164],\n",
       "  'country': 'Россия',\n",
       "  'city': 'Краснодар',\n",
       "  'countrycode': 'RU',\n",
       "  'postcode': '350087',\n",
       "  'locality': 'Царское село',\n",
       "  'county': 'городской округ Краснодар',\n",
       "  'type': 'house',\n",
       "  'osm_type': 'W',\n",
       "  'osm_key': 'building',\n",
       "  'housenumber': '7',\n",
       "  'street': 'Благодарная улица',\n",
       "  'district': 'Прикубанский округ',\n",
       "  'osm_value': 'yes',\n",
       "  'state': 'Краснодарский край'}}"
      ]
     },
     "execution_count": 2,
     "metadata": {},
     "output_type": "execute_result"
    }
   ],
   "source": [
    "first_result"
   ]
  },
  {
   "cell_type": "code",
   "execution_count": 3,
   "metadata": {},
   "outputs": [
    {
     "name": "stdout",
     "output_type": "stream",
     "text": [
      "{'place_id': 214868781, 'licence': 'Data © OpenStreetMap contributors, ODbL 1.0. http://osm.org/copyright', 'osm_type': 'way', 'osm_id': 77275679, 'lat': '45.03956945', 'lon': '39.01981735963324', 'class': 'building', 'type': 'yes', 'place_rank': 30, 'importance': 9.99999999995449e-06, 'addresstype': 'building', 'name': '', 'display_name': '7, Благодарная улица, Царское село, Прикубанский округ, Краснодар, городской округ Краснодар, Краснодарский край, Южный федеральный округ, 350087, Россия', 'address': {'house_number': '7', 'road': 'Благодарная улица', 'neighbourhood': 'Царское село', 'city_district': 'Прикубанский округ', 'city': 'Краснодар', 'county': 'городской округ Краснодар', 'state': 'Краснодарский край', 'ISO3166-2-lvl4': 'RU-KDA', 'region': 'Южный федеральный округ', 'postcode': '350087', 'country': 'Россия', 'country_code': 'ru'}, 'boundingbox': ['45.0395164', '45.0396241', '39.0197403', '39.0199016'], 'geojson': {'type': 'Polygon', 'coordinates': [[[39.0197403, 45.0395213], [39.019884, 45.0395164], [39.0199016, 45.0396241], [39.0197438, 45.0396176], [39.0197403, 45.0395213]]]}}\n"
     ]
    }
   ],
   "source": [
    "import requests\n",
    "\n",
    "def get_location_polygon(coordinates):\n",
    "    endpoint = \"https://nominatim.openstreetmap.org/reverse\"\n",
    "    params = {\n",
    "        \"format\": \"json\",\n",
    "        \"polygon_geojson\": \"1\",\n",
    "        \"lat\": coordinates[1],\n",
    "        \"lon\": coordinates[0]\n",
    "    }\n",
    "    response = requests.get(endpoint, params=params)\n",
    "    result = response.json()\n",
    "    return result\n",
    "\n",
    "# Extract the coordinates\n",
    "coordinates = first_result['geometry']['coordinates']\n",
    "\n",
    "# Get the location polygon\n",
    "location_polygon = get_location_polygon(coordinates)\n",
    "\n",
    "print(location_polygon)\n"
   ]
  }
 ],
 "metadata": {
  "kernelspec": {
   "display_name": "Python 3",
   "language": "python",
   "name": "python3"
  },
  "language_info": {
   "codemirror_mode": {
    "name": "ipython",
    "version": 3
   },
   "file_extension": ".py",
   "mimetype": "text/x-python",
   "name": "python",
   "nbconvert_exporter": "python",
   "pygments_lexer": "ipython3",
   "version": "3.8.10"
  }
 },
 "nbformat": 4,
 "nbformat_minor": 2
}
