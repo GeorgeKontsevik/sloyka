{
 "cells": [
  {
   "cell_type": "markdown",
   "source": [
    "Импорт необходимых библиотек. Проверьте, что всё стоит.\n",
    "Если данные предварительно не прогнали через Geocoder, то необходимо это сделать.\n",
    "На данный момент версия геокодера из pip (pip install sloyka) пригодна для работы только с второй таблицей, первая таблица через него будет построена неправильно.\n",
    "Если у вас скачена последняя версия библиотеки с github() с ветки dev, то по идее достаточно просто положить блокнот в папку sloyka\\src\\\n"
   ],
   "metadata": {
    "collapsed": false
   }
  },
  {
   "cell_type": "code",
   "execution_count": 1,
   "metadata": {
    "collapsed": true
   },
   "outputs": [
    {
     "name": "stdout",
     "output_type": "stream",
     "text": [
      "INFO: Pandarallel will run on -1 workers.\n",
      "INFO: Pandarallel will use standard multiprocessing data transfer (pipe) to transfer data between the main process and workers.\n",
      "\n",
      "WARNING: You are on Windows. If you detect any issue with pandarallel, be sure you checked out the Troubleshooting page:\n",
      "https://nalepae.github.io/pandarallel/troubleshooting/\n"
     ]
    },
    {
     "name": "stderr",
     "output_type": "stream",
     "text": [
      "[nltk_data] Downloading package stopwords to\n",
      "[nltk_data]     C:\\Users\\thebe\\AppData\\Roaming\\nltk_data...\n",
      "[nltk_data]   Package stopwords is already up-to-date!\n",
      "I:\\sloyka\\venv\\Lib\\site-packages\\fuzzywuzzy\\fuzz.py:11: UserWarning: Using slow pure-python SequenceMatcher. Install python-Levenshtein to remove this warning\n",
      "  warnings.warn('Using slow pure-python SequenceMatcher. Install python-Levenshtein to remove this warning')\n",
      "[nltk_data] Downloading package stopwords to\n",
      "[nltk_data]     C:\\Users\\thebe\\AppData\\Roaming\\nltk_data...\n",
      "[nltk_data]   Package stopwords is already up-to-date!\n"
     ]
    }
   ],
   "source": [
    "import pandas as pd\n",
    "import geopandas as gpd\n",
    "from tqdm.auto import tqdm\n",
    "from keybert import KeyBERT\n",
    "import random\n",
    "import re\n",
    "import nltk\n",
    "from nltk.corpus import stopwords\n",
    "import numpy as np\n",
    "\n",
    "from sloyka import Geocoder # или from geocoder import Geocoder, если не настроен импорт через sloyka ещё может быть вариант sloyka.src.geocoder\n",
    "\n",
    "nltk.download('stopwords')\n",
    "\n",
    "RUS_STOPWORDS = stopwords.words('russian') + ['фото', 'улица', 'дом', 'проспект',\n",
    "                                              'дорога', 'час', 'год', 'утро',\n",
    "                                              'здравствуйте', 'ул', 'пр', 'здание',\n",
    "                                              'город', 'аноним', 'утро', 'день',\n",
    "                                              'вечер']"
   ]
  },
  {
   "cell_type": "markdown",
   "source": [
    "Инициируем необходимые функции."
   ],
   "metadata": {
    "collapsed": false
   }
  },
  {
   "cell_type": "code",
   "execution_count": 2,
   "outputs": [],
   "source": [
    "from pathlib import Path\n",
    "\n",
    "directory = \"C:\\\\Users\\\\thebe\\\\OneDrive - ITMO UNIVERSITY\\\\НИРМА\\\\Data\\\\Rawdata\\\\new_parser\"\n",
    "path_list = Path(directory).glob('*.csv')\n",
    "\n",
    "df = pd.DataFrame()\n",
    "\n",
    "for path in path_list:\n",
    "\n",
    "    tmp_df = pd.read_csv(path, encoding='utf-8')\n",
    "    df = pd.concat([df, tmp_df])"
   ],
   "metadata": {
    "collapsed": false
   }
  },
  {
   "cell_type": "code",
   "execution_count": 3,
   "outputs": [],
   "source": [
    "df = df.reset_index()"
   ],
   "metadata": {
    "collapsed": false
   }
  },
  {
   "cell_type": "code",
   "execution_count": 4,
   "outputs": [],
   "source": [
    "for i in range(len(df)):\n",
    "    tmp = df['parents_stack'].iloc[i]\n",
    "    if tmp is not np.nan and tmp is not int:\n",
    "        if len(tmp) > 2:\n",
    "            df.at[i, 'parents_stack'] = int(tmp[1:len(tmp)-1])\n",
    "        else:\n",
    "            df.at[i, 'parents_stack'] = np.nan"
   ],
   "metadata": {
    "collapsed": false
   }
  },
  {
   "cell_type": "code",
   "execution_count": 5,
   "outputs": [
    {
     "data": {
      "text/plain": "        index                 date      id  \\\n0           0  2024-03-27 09:00:01  232611   \n1           1  2024-03-27 08:21:35  232609   \n2           2  2024-03-27 07:49:43  232606   \n3           3  2024-03-27 07:49:22  232605   \n4           4  2024-03-26 22:42:51  232598   \n...       ...                  ...     ...   \n253570    761  2022-12-01 05:34:05  169982   \n253571    762  2022-11-29 18:18:54  169957   \n253572    763  2022-11-29 18:59:49  169961   \n253573    764  2022-11-30 06:27:16  169964   \n253574    765  2022-11-30 06:27:42  169966   \n\n                                                     text  views.count  \\\n0       РАБОТА в г. СЕСТРОРЕЦКЕООО “Вириал” (машиностр...        260.0   \n1       С Днем театра всех! И кто знает - остались ли ...        360.0   \n2       В пригороде Петербурга начали токовать ТЕТЕРЕВ...        752.0   \n3                               Утро туманное, утро седое        676.0   \n4                            Чей котейка в Дубках бегает?       1332.0   \n...                                                   ...          ...   \n253570                    [id138219748|Сергей], спасибо 🤗          NaN   \n253571  Пытались поджечь?\\n\\nИ хорошо что не горит, а ...          NaN   \n253572                                                NaN          NaN   \n253573                                             Дорого          NaN   \n253574                                      На вайлдберис          NaN   \n\n        likes.count  reposts.count     type  \\\n0               0.0            0.0     post   \n1               0.0            0.0     post   \n2               4.0            0.0     post   \n3               4.0            0.0     post   \n4              15.0            2.0     post   \n...             ...            ...      ...   \n253570          0.0            NaN    reply   \n253571          1.0            NaN  comment   \n253572          0.0            NaN    reply   \n253573          0.0            NaN  comment   \n253574          0.0            NaN  comment   \n\n                                             link   post_id parents_stack  \n0       https://clck.ru/34cGGQ#работавсестрорецке       NaN           NaN  \n1                                             NaN       NaN           NaN  \n2        https://vk.com/video-147416952_456239386       NaN           NaN  \n3                                             NaN       NaN           NaN  \n4                                             NaN       NaN           NaN  \n...                                           ...       ...           ...  \n253570                                        NaN  169967.0        169981  \n253571                                        NaN  169955.0           NaN  \n253572                                        NaN  169955.0        169957  \n253573                                        NaN  169920.0           NaN  \n253574                                        NaN  169920.0           NaN  \n\n[253575 rows x 11 columns]",
      "text/html": "<div>\n<style scoped>\n    .dataframe tbody tr th:only-of-type {\n        vertical-align: middle;\n    }\n\n    .dataframe tbody tr th {\n        vertical-align: top;\n    }\n\n    .dataframe thead th {\n        text-align: right;\n    }\n</style>\n<table border=\"1\" class=\"dataframe\">\n  <thead>\n    <tr style=\"text-align: right;\">\n      <th></th>\n      <th>index</th>\n      <th>date</th>\n      <th>id</th>\n      <th>text</th>\n      <th>views.count</th>\n      <th>likes.count</th>\n      <th>reposts.count</th>\n      <th>type</th>\n      <th>link</th>\n      <th>post_id</th>\n      <th>parents_stack</th>\n    </tr>\n  </thead>\n  <tbody>\n    <tr>\n      <th>0</th>\n      <td>0</td>\n      <td>2024-03-27 09:00:01</td>\n      <td>232611</td>\n      <td>РАБОТА в г. СЕСТРОРЕЦКЕООО “Вириал” (машиностр...</td>\n      <td>260.0</td>\n      <td>0.0</td>\n      <td>0.0</td>\n      <td>post</td>\n      <td>https://clck.ru/34cGGQ#работавсестрорецке</td>\n      <td>NaN</td>\n      <td>NaN</td>\n    </tr>\n    <tr>\n      <th>1</th>\n      <td>1</td>\n      <td>2024-03-27 08:21:35</td>\n      <td>232609</td>\n      <td>С Днем театра всех! И кто знает - остались ли ...</td>\n      <td>360.0</td>\n      <td>0.0</td>\n      <td>0.0</td>\n      <td>post</td>\n      <td>NaN</td>\n      <td>NaN</td>\n      <td>NaN</td>\n    </tr>\n    <tr>\n      <th>2</th>\n      <td>2</td>\n      <td>2024-03-27 07:49:43</td>\n      <td>232606</td>\n      <td>В пригороде Петербурга начали токовать ТЕТЕРЕВ...</td>\n      <td>752.0</td>\n      <td>4.0</td>\n      <td>0.0</td>\n      <td>post</td>\n      <td>https://vk.com/video-147416952_456239386</td>\n      <td>NaN</td>\n      <td>NaN</td>\n    </tr>\n    <tr>\n      <th>3</th>\n      <td>3</td>\n      <td>2024-03-27 07:49:22</td>\n      <td>232605</td>\n      <td>Утро туманное, утро седое</td>\n      <td>676.0</td>\n      <td>4.0</td>\n      <td>0.0</td>\n      <td>post</td>\n      <td>NaN</td>\n      <td>NaN</td>\n      <td>NaN</td>\n    </tr>\n    <tr>\n      <th>4</th>\n      <td>4</td>\n      <td>2024-03-26 22:42:51</td>\n      <td>232598</td>\n      <td>Чей котейка в Дубках бегает?</td>\n      <td>1332.0</td>\n      <td>15.0</td>\n      <td>2.0</td>\n      <td>post</td>\n      <td>NaN</td>\n      <td>NaN</td>\n      <td>NaN</td>\n    </tr>\n    <tr>\n      <th>...</th>\n      <td>...</td>\n      <td>...</td>\n      <td>...</td>\n      <td>...</td>\n      <td>...</td>\n      <td>...</td>\n      <td>...</td>\n      <td>...</td>\n      <td>...</td>\n      <td>...</td>\n      <td>...</td>\n    </tr>\n    <tr>\n      <th>253570</th>\n      <td>761</td>\n      <td>2022-12-01 05:34:05</td>\n      <td>169982</td>\n      <td>[id138219748|Сергей], спасибо 🤗</td>\n      <td>NaN</td>\n      <td>0.0</td>\n      <td>NaN</td>\n      <td>reply</td>\n      <td>NaN</td>\n      <td>169967.0</td>\n      <td>169981</td>\n    </tr>\n    <tr>\n      <th>253571</th>\n      <td>762</td>\n      <td>2022-11-29 18:18:54</td>\n      <td>169957</td>\n      <td>Пытались поджечь?\\n\\nИ хорошо что не горит, а ...</td>\n      <td>NaN</td>\n      <td>1.0</td>\n      <td>NaN</td>\n      <td>comment</td>\n      <td>NaN</td>\n      <td>169955.0</td>\n      <td>NaN</td>\n    </tr>\n    <tr>\n      <th>253572</th>\n      <td>763</td>\n      <td>2022-11-29 18:59:49</td>\n      <td>169961</td>\n      <td>NaN</td>\n      <td>NaN</td>\n      <td>0.0</td>\n      <td>NaN</td>\n      <td>reply</td>\n      <td>NaN</td>\n      <td>169955.0</td>\n      <td>169957</td>\n    </tr>\n    <tr>\n      <th>253573</th>\n      <td>764</td>\n      <td>2022-11-30 06:27:16</td>\n      <td>169964</td>\n      <td>Дорого</td>\n      <td>NaN</td>\n      <td>0.0</td>\n      <td>NaN</td>\n      <td>comment</td>\n      <td>NaN</td>\n      <td>169920.0</td>\n      <td>NaN</td>\n    </tr>\n    <tr>\n      <th>253574</th>\n      <td>765</td>\n      <td>2022-11-30 06:27:42</td>\n      <td>169966</td>\n      <td>На вайлдберис</td>\n      <td>NaN</td>\n      <td>0.0</td>\n      <td>NaN</td>\n      <td>comment</td>\n      <td>NaN</td>\n      <td>169920.0</td>\n      <td>NaN</td>\n    </tr>\n  </tbody>\n</table>\n<p>253575 rows × 11 columns</p>\n</div>"
     },
     "execution_count": 5,
     "metadata": {},
     "output_type": "execute_result"
    }
   ],
   "source": [
    "df"
   ],
   "metadata": {
    "collapsed": false
   }
  },
  {
   "cell_type": "code",
   "execution_count": 6,
   "outputs": [],
   "source": [
    "def clean_from_dublicates(data: pd.DataFrame or gpd.GeoDataFrame,\n",
    "                              id_column: str\n",
    "                              ) -> pd.DataFrame or gpd.GeoDataFrame:\n",
    "\n",
    "    uniq_df = data.drop_duplicates(subset=[id_column], keep='first')\n",
    "    uniq_df = uniq_df.reset_index(drop=True)\n",
    "\n",
    "    return uniq_df\n",
    "\n",
    "def clean_from_digits(data: pd.DataFrame or gpd.GeoDataFrame,\n",
    "                          text_column: str\n",
    "                          ) -> pd.DataFrame or gpd.GeoDataFrame:\n",
    "\n",
    "    for i in range(len(data)):\n",
    "        text = str(data[text_column].iloc[i]).lower()\n",
    "        cleaned_text = ''.join([j for j in text if not j.isdigit()])\n",
    "\n",
    "        data.at[i, text_column] = cleaned_text\n",
    "\n",
    "    return data\n",
    "\n",
    "\n",
    "def clean_from_toponims(data: pd.DataFrame or gpd.GeoDataFrame,\n",
    "                            text_column: str,\n",
    "                            name_column: str,\n",
    "                            toponim_type_column: str\n",
    "                            ) -> pd.DataFrame or gpd.GeoDataFrame:\n",
    "\n",
    "    for i in range(len(data)):\n",
    "\n",
    "        text = str(data[text_column].iloc[i]).lower()\n",
    "        word_list = text.split()\n",
    "        toponims = [str(data[name_column].iloc[i]).lower(), str(data[toponim_type_column].iloc[i]).lower()]\n",
    "\n",
    "        text = ' '.join([j for j in word_list if j not in toponims])\n",
    "\n",
    "        data.at[i, text_column] = text\n",
    "\n",
    "    return data\n",
    "\n",
    "\n",
    "def clean_from_links(data: pd.DataFrame or gpd.GeoDataFrame,\n",
    "                         text_column: str\n",
    "                         ) -> pd.DataFrame or gpd.GeoDataFrame:\n",
    "\n",
    "    for i in range(len(data)):\n",
    "        text = str(data[text_column].iloc[i])\n",
    "        if '[' in text and ']' in text:\n",
    "            start = text.index('[')\n",
    "            stop = text.index(']')\n",
    "\n",
    "            text = text[:start] + text[stop:]\n",
    "\n",
    "        text = re.sub(r'^https?:\\/\\/.*[\\r\\n]*', '', text, flags=re.MULTILINE)\n",
    "\n",
    "        data.at[i, text_column] = text\n",
    "\n",
    "    return data"
   ],
   "metadata": {
    "collapsed": false
   }
  },
  {
   "cell_type": "code",
   "execution_count": 7,
   "outputs": [
    {
     "data": {
      "text/plain": "253575"
     },
     "execution_count": 7,
     "metadata": {},
     "output_type": "execute_result"
    }
   ],
   "source": [
    "len(df)"
   ],
   "metadata": {
    "collapsed": false
   }
  },
  {
   "cell_type": "code",
   "execution_count": 8,
   "outputs": [
    {
     "data": {
      "text/plain": "252768"
     },
     "execution_count": 8,
     "metadata": {},
     "output_type": "execute_result"
    }
   ],
   "source": [
    "df = df.dropna(subset='text')\n",
    "len(df)"
   ],
   "metadata": {
    "collapsed": false
   }
  },
  {
   "cell_type": "code",
   "execution_count": 9,
   "outputs": [
    {
     "data": {
      "text/plain": "Empty DataFrame\nColumns: [index, date, id, text, views.count, likes.count, reposts.count, type, link, post_id, parents_stack]\nIndex: []",
      "text/html": "<div>\n<style scoped>\n    .dataframe tbody tr th:only-of-type {\n        vertical-align: middle;\n    }\n\n    .dataframe tbody tr th {\n        vertical-align: top;\n    }\n\n    .dataframe thead th {\n        text-align: right;\n    }\n</style>\n<table border=\"1\" class=\"dataframe\">\n  <thead>\n    <tr style=\"text-align: right;\">\n      <th></th>\n      <th>index</th>\n      <th>date</th>\n      <th>id</th>\n      <th>text</th>\n      <th>views.count</th>\n      <th>likes.count</th>\n      <th>reposts.count</th>\n      <th>type</th>\n      <th>link</th>\n      <th>post_id</th>\n      <th>parents_stack</th>\n    </tr>\n  </thead>\n  <tbody>\n  </tbody>\n</table>\n</div>"
     },
     "execution_count": 9,
     "metadata": {},
     "output_type": "execute_result"
    }
   ],
   "source": [
    "df.loc[df['text'] == None]"
   ],
   "metadata": {
    "collapsed": false
   }
  },
  {
   "cell_type": "code",
   "execution_count": 10,
   "outputs": [],
   "source": [
    "len(df)\n",
    "df_1 = df[:len(df)//4]"
   ],
   "metadata": {
    "collapsed": false
   }
  },
  {
   "cell_type": "markdown",
   "source": [
    "#Таблица 1"
   ],
   "metadata": {
    "collapsed": false
   }
  },
  {
   "cell_type": "markdown",
   "source": [
    "Загружаем данные. Если есть df сразу после парсера, то загружать ничего не нужно."
   ],
   "metadata": {
    "collapsed": false
   }
  },
  {
   "cell_type": "code",
   "execution_count": 11,
   "outputs": [],
   "source": [
    "file = \"C:\\\\Users\\\\thebe\\\\Downloads\\\\Telegram Desktop\\\\ruina.geojson\" # на винде путь через двойной \\\\\n",
    "gdf = gpd.read_file(file)"
   ],
   "metadata": {
    "collapsed": false
   }
  },
  {
   "cell_type": "code",
   "execution_count": 12,
   "outputs": [
    {
     "name": "stderr",
     "output_type": "stream",
     "text": [
      "C:\\Users\\thebe\\AppData\\Local\\Temp\\ipykernel_14156\\2242205876.py:56: SettingWithCopyWarning: \n",
      "A value is trying to be set on a copy of a slice from a DataFrame\n",
      "\n",
      "See the caveats in the documentation: https://pandas.pydata.org/pandas-docs/stable/user_guide/indexing.html#returning-a-view-versus-a-copy\n",
      "  data.at[i, text_column] = text\n"
     ]
    }
   ],
   "source": [
    "df = clean_from_links(df, 'text')"
   ],
   "metadata": {
    "collapsed": false
   }
  },
  {
   "cell_type": "code",
   "execution_count": 13,
   "outputs": [
    {
     "data": {
      "text/plain": "253574"
     },
     "execution_count": 13,
     "metadata": {},
     "output_type": "execute_result"
    }
   ],
   "source": [
    "len(df)"
   ],
   "metadata": {
    "collapsed": false
   }
  },
  {
   "cell_type": "code",
   "execution_count": 14,
   "outputs": [
    {
     "data": {
      "text/plain": "253574"
     },
     "execution_count": 14,
     "metadata": {},
     "output_type": "execute_result"
    }
   ],
   "source": [
    "df = df.replace('', None)\n",
    "df.loc[df['text'] == '']\n",
    "len(df)"
   ],
   "metadata": {
    "collapsed": false
   }
  },
  {
   "cell_type": "markdown",
   "source": [
    "Или, если данные, сохранённые после парсера."
   ],
   "metadata": {
    "collapsed": false
   }
  },
  {
   "cell_type": "code",
   "execution_count": 15,
   "outputs": [
    {
     "name": "stdout",
     "output_type": "stream",
     "text": [
      "2024-03-28 22:17:07,722 SequenceTagger predicts: Dictionary with 5 tags: O, S-ADDRESS, B-ADDRESS, E-ADDRESS, I-ADDRESS\n",
      "\u001B[32m03-28 22:17\u001B[0m | \u001B[1mINFO    \u001B[0m | \u001B[36mclear_names started\u001B[0m\n",
      "\u001B[32m03-28 22:17\u001B[0m | \u001B[1mINFO    \u001B[0m | \u001B[36mget_street started\u001B[0m\n",
      "\u001B[32m03-28 22:17\u001B[0m | \u001B[1mINFO    \u001B[0m | \u001B[36mextract_ner_street started\u001B[0m\n"
     ]
    },
    {
     "name": "stderr",
     "output_type": "stream",
     "text": [
      " 99%|█████████▉| 252247/253574 [32:23<00:11, 110.75it/s]"
     ]
    },
    {
     "name": "stdout",
     "output_type": "stream",
     "text": [
      "2024-03-28 22:49:54,991 Warning: An empty Sentence was created! Are there empty strings in your dataset?\n"
     ]
    },
    {
     "name": "stderr",
     "output_type": "stream",
     "text": [
      "100%|█████████▉| 252313/253574 [32:23<00:11, 113.05it/s]"
     ]
    },
    {
     "name": "stdout",
     "output_type": "stream",
     "text": [
      "2024-03-28 22:49:55,548 Warning: An empty Sentence was created! Are there empty strings in your dataset?\n"
     ]
    },
    {
     "name": "stderr",
     "output_type": "stream",
     "text": [
      "100%|██████████| 253574/253574 [32:37<00:00, 129.53it/s]\n",
      "100%|██████████| 253574/253574 [20:39<00:00, 204.52it/s]"
     ]
    },
    {
     "name": "stdout",
     "output_type": "stream",
     "text": [
      "\u001B[32m03-28 23:10\u001B[0m | \u001B[1mINFO    \u001B[0m | \u001B[36mpattern1.sub started\u001B[0m\n"
     ]
    },
    {
     "name": "stderr",
     "output_type": "stream",
     "text": [
      "\n",
      "100%|██████████| 253574/253574 [00:00<00:00, 1545043.81it/s]"
     ]
    },
    {
     "name": "stdout",
     "output_type": "stream",
     "text": [
      "\u001B[32m03-28 23:10\u001B[0m | \u001B[1mINFO    \u001B[0m | \u001B[36mpattern2.findall started\u001B[0m\n"
     ]
    },
    {
     "name": "stderr",
     "output_type": "stream",
     "text": [
      "\n",
      "100%|██████████| 253574/253574 [00:00<00:00, 2028162.61it/s]"
     ]
    },
    {
     "name": "stdout",
     "output_type": "stream",
     "text": [
      "\u001B[32m03-28 23:10\u001B[0m | \u001B[1mINFO    \u001B[0m | \u001B[36mpattern2.sub started\u001B[0m\n"
     ]
    },
    {
     "name": "stderr",
     "output_type": "stream",
     "text": [
      "\n",
      "100%|██████████| 253574/253574 [00:00<00:00, 1885060.90it/s]\n"
     ]
    },
    {
     "name": "stdout",
     "output_type": "stream",
     "text": [
      "\u001B[32m03-28 23:10\u001B[0m | \u001B[1mINFO    \u001B[0m | \u001B[36mextract_building_num started\u001B[0m\n"
     ]
    },
    {
     "name": "stderr",
     "output_type": "stream",
     "text": [
      "100%|██████████| 253574/253574 [00:04<00:00, 57248.96it/s]"
     ]
    },
    {
     "name": "stdout",
     "output_type": "stream",
     "text": [
      "\u001B[32m03-28 23:10\u001B[0m | \u001B[1mINFO    \u001B[0m | \u001B[36mextract_toponym started\u001B[0m\n"
     ]
    },
    {
     "name": "stderr",
     "output_type": "stream",
     "text": [
      "\n",
      "100%|██████████| 253574/253574 [00:23<00:00, 10828.26it/s]"
     ]
    },
    {
     "name": "stdout",
     "output_type": "stream",
     "text": [
      "\u001B[32m03-28 23:11\u001B[0m | \u001B[1mINFO    \u001B[0m | \u001B[36mget_stem started\u001B[0m\n"
     ]
    },
    {
     "name": "stderr",
     "output_type": "stream",
     "text": [
      "\n"
     ]
    },
    {
     "name": "stdout",
     "output_type": "stream",
     "text": [
      "\u001B[32m03-28 23:27\u001B[0m | \u001B[1mINFO    \u001B[0m | \u001B[36mcreate_gdf started\u001B[0m\n"
     ]
    },
    {
     "name": "stderr",
     "output_type": "stream",
     "text": [
      "100%|██████████| 270751/270751 [5:01:26<00:00, 14.97it/s]   \n"
     ]
    }
   ],
   "source": [
    "# df = pd.read_csv('путь', sep='; или другой разделитель', encoding='utf-8')\n",
    "g = Geocoder(device='cuda')\n",
    "gdf = g.run(df, 'text')"
   ],
   "metadata": {
    "collapsed": false
   }
  },
  {
   "cell_type": "markdown",
   "source": [
    "Смотрим, что всё прогналось и выявились топонимы.\n",
    "На всякий случай сделаем копию и будем работать с ней, чтобы если что не ждать снова, пока Geocoder отработает."
   ],
   "metadata": {
    "collapsed": false
   }
  },
  {
   "cell_type": "code",
   "execution_count": 16,
   "outputs": [
    {
     "data": {
      "text/plain": "        index                 date        id  \\\n0         0.0  2024-03-27 09:00:01  232611.0   \n1         1.0  2024-03-27 08:21:35  232609.0   \n2         2.0  2024-03-27 07:49:43  232606.0   \n3         3.0  2024-03-27 07:49:22  232605.0   \n4         4.0  2024-03-26 22:42:51  232598.0   \n...       ...                  ...       ...   \n270746    NaN                  NaN       NaN   \n270747    NaN                  NaN       NaN   \n270748    NaN                  NaN       NaN   \n270749    NaN                  NaN       NaN   \n270750    NaN                  NaN       NaN   \n\n                                                     text  views.count  \\\n0       РАБОТА в г. СЕСТРОРЕЦКЕООО “Вириал” (машиностр...        260.0   \n1       С Днем театра всех! И кто знает - остались ли ...        360.0   \n2       В пригороде Петербурга начали токовать ТЕТЕРЕВ...        752.0   \n3                               Утро туманное, утро седое        676.0   \n4                            Чей котейка в Дубках бегает?       1332.0   \n...                                                   ...          ...   \n270746                ], когда? На прошлой неделе еще был          NaN   \n270747                              Спасибо за размещение          NaN   \n270748  ], на Смоленском православном запрещено, а на ...          NaN   \n270749  У мемориала Большое Заречье отдыхает стая ЛЕБЕ...          NaN   \n270750                                               None          NaN   \n\n        likes.count  reposts.count  type  \\\n0               0.0            0.0  post   \n1               0.0            0.0  post   \n2               4.0            0.0  post   \n3               4.0            0.0  post   \n4              15.0            2.0  post   \n...             ...            ...   ...   \n270746          NaN            NaN   NaN   \n270747          NaN            NaN   NaN   \n270748          NaN            NaN   NaN   \n270749          NaN            NaN   NaN   \n270750          NaN            NaN   NaN   \n\n                                             link  post_id  ...  Score  \\\n0       https://clck.ru/34cGGQ#работавсестрорецке      NaN  ...  0.998   \n1                                             NaN      NaN  ...    NaN   \n2        https://vk.com/video-147416952_456239386      NaN  ...    NaN   \n3                                             NaN      NaN  ...    NaN   \n4                                             NaN      NaN  ...    NaN   \n...                                           ...      ...  ...    ...   \n270746                                        NaN      NaN  ...    NaN   \n270747                                        NaN      NaN  ...    NaN   \n270748                                        NaN      NaN  ...    NaN   \n270749                                        NaN      NaN  ...    NaN   \n270750                                        NaN      NaN  ...    NaN   \n\n       Numbers           initial_street Toponims  \\\n0                               Воскова    улица   \n1                      Курортном районе     None   \n2                      Гатчинском парке     None   \n3                                  None     None   \n4                                Дубках     None   \n...        ...                      ...      ...   \n270746                             None     None   \n270747                             None     None   \n270748          Смоленском православном     None   \n270749                  Большое Заречье     None   \n270750                             None     None   \n\n                             full_street_name  \\\n0       улица Воскова  Санкт-Петербург Россия   \n1                                        None   \n2                                        None   \n3                                               \n4                                        None   \n...                                       ...   \n270746                                          \n270747                                          \n270748                                   None   \n270749                                   None   \n270750                                          \n\n                                 location_options  \\\n0       ['улица Воскова  Санкт-Петербург Россия']   \n1                                            None   \n2                                            None   \n3                                            ['']   \n4                                            None   \n...                                           ...   \n270746                                       ['']   \n270747                                       ['']   \n270748                                       None   \n270749                                       None   \n270750                                       ['']   \n\n                              addr_to_geocode only_full_street_name  \\\n0       улица Воскова  Санкт-Петербург Россия         улица Воскова   \n1                                        None                  None   \n2                                        None                  None   \n3                                                                     \n4                                        None                  None   \n...                                       ...                   ...   \n270746                                                                \n270747                                                                \n270748                                   None                  None   \n270749                                   None                  None   \n270750                                                                \n\n                                                 Location  \\\n0       улица Воскова, Петроградская сторона, Введенск...   \n1                                                    None   \n2                                                    None   \n3                                                    None   \n4                                                    None   \n...                                                   ...   \n270746                                               None   \n270747                                               None   \n270748                                               None   \n270749                                               None   \n270750                                               None   \n\n                         geometry  \n0       POINT (30.30505 59.95767)  \n1                            None  \n2                            None  \n3                            None  \n4                            None  \n...                           ...  \n270746                       None  \n270747                       None  \n270748                       None  \n270749                       None  \n270750                       None  \n\n[270751 rows x 22 columns]",
      "text/html": "<div>\n<style scoped>\n    .dataframe tbody tr th:only-of-type {\n        vertical-align: middle;\n    }\n\n    .dataframe tbody tr th {\n        vertical-align: top;\n    }\n\n    .dataframe thead th {\n        text-align: right;\n    }\n</style>\n<table border=\"1\" class=\"dataframe\">\n  <thead>\n    <tr style=\"text-align: right;\">\n      <th></th>\n      <th>index</th>\n      <th>date</th>\n      <th>id</th>\n      <th>text</th>\n      <th>views.count</th>\n      <th>likes.count</th>\n      <th>reposts.count</th>\n      <th>type</th>\n      <th>link</th>\n      <th>post_id</th>\n      <th>...</th>\n      <th>Score</th>\n      <th>Numbers</th>\n      <th>initial_street</th>\n      <th>Toponims</th>\n      <th>full_street_name</th>\n      <th>location_options</th>\n      <th>addr_to_geocode</th>\n      <th>only_full_street_name</th>\n      <th>Location</th>\n      <th>geometry</th>\n    </tr>\n  </thead>\n  <tbody>\n    <tr>\n      <th>0</th>\n      <td>0.0</td>\n      <td>2024-03-27 09:00:01</td>\n      <td>232611.0</td>\n      <td>РАБОТА в г. СЕСТРОРЕЦКЕООО “Вириал” (машиностр...</td>\n      <td>260.0</td>\n      <td>0.0</td>\n      <td>0.0</td>\n      <td>post</td>\n      <td>https://clck.ru/34cGGQ#работавсестрорецке</td>\n      <td>NaN</td>\n      <td>...</td>\n      <td>0.998</td>\n      <td></td>\n      <td>Воскова</td>\n      <td>улица</td>\n      <td>улица Воскова  Санкт-Петербург Россия</td>\n      <td>['улица Воскова  Санкт-Петербург Россия']</td>\n      <td>улица Воскова  Санкт-Петербург Россия</td>\n      <td>улица Воскова</td>\n      <td>улица Воскова, Петроградская сторона, Введенск...</td>\n      <td>POINT (30.30505 59.95767)</td>\n    </tr>\n    <tr>\n      <th>1</th>\n      <td>1.0</td>\n      <td>2024-03-27 08:21:35</td>\n      <td>232609.0</td>\n      <td>С Днем театра всех! И кто знает - остались ли ...</td>\n      <td>360.0</td>\n      <td>0.0</td>\n      <td>0.0</td>\n      <td>post</td>\n      <td>NaN</td>\n      <td>NaN</td>\n      <td>...</td>\n      <td>NaN</td>\n      <td></td>\n      <td>Курортном районе</td>\n      <td>None</td>\n      <td>None</td>\n      <td>None</td>\n      <td>None</td>\n      <td>None</td>\n      <td>None</td>\n      <td>None</td>\n    </tr>\n    <tr>\n      <th>2</th>\n      <td>2.0</td>\n      <td>2024-03-27 07:49:43</td>\n      <td>232606.0</td>\n      <td>В пригороде Петербурга начали токовать ТЕТЕРЕВ...</td>\n      <td>752.0</td>\n      <td>4.0</td>\n      <td>0.0</td>\n      <td>post</td>\n      <td>https://vk.com/video-147416952_456239386</td>\n      <td>NaN</td>\n      <td>...</td>\n      <td>NaN</td>\n      <td></td>\n      <td>Гатчинском парке</td>\n      <td>None</td>\n      <td>None</td>\n      <td>None</td>\n      <td>None</td>\n      <td>None</td>\n      <td>None</td>\n      <td>None</td>\n    </tr>\n    <tr>\n      <th>3</th>\n      <td>3.0</td>\n      <td>2024-03-27 07:49:22</td>\n      <td>232605.0</td>\n      <td>Утро туманное, утро седое</td>\n      <td>676.0</td>\n      <td>4.0</td>\n      <td>0.0</td>\n      <td>post</td>\n      <td>NaN</td>\n      <td>NaN</td>\n      <td>...</td>\n      <td>NaN</td>\n      <td></td>\n      <td>None</td>\n      <td>None</td>\n      <td></td>\n      <td>['']</td>\n      <td></td>\n      <td></td>\n      <td>None</td>\n      <td>None</td>\n    </tr>\n    <tr>\n      <th>4</th>\n      <td>4.0</td>\n      <td>2024-03-26 22:42:51</td>\n      <td>232598.0</td>\n      <td>Чей котейка в Дубках бегает?</td>\n      <td>1332.0</td>\n      <td>15.0</td>\n      <td>2.0</td>\n      <td>post</td>\n      <td>NaN</td>\n      <td>NaN</td>\n      <td>...</td>\n      <td>NaN</td>\n      <td></td>\n      <td>Дубках</td>\n      <td>None</td>\n      <td>None</td>\n      <td>None</td>\n      <td>None</td>\n      <td>None</td>\n      <td>None</td>\n      <td>None</td>\n    </tr>\n    <tr>\n      <th>...</th>\n      <td>...</td>\n      <td>...</td>\n      <td>...</td>\n      <td>...</td>\n      <td>...</td>\n      <td>...</td>\n      <td>...</td>\n      <td>...</td>\n      <td>...</td>\n      <td>...</td>\n      <td>...</td>\n      <td>...</td>\n      <td>...</td>\n      <td>...</td>\n      <td>...</td>\n      <td>...</td>\n      <td>...</td>\n      <td>...</td>\n      <td>...</td>\n      <td>...</td>\n      <td>...</td>\n    </tr>\n    <tr>\n      <th>270746</th>\n      <td>NaN</td>\n      <td>NaN</td>\n      <td>NaN</td>\n      <td>], когда? На прошлой неделе еще был</td>\n      <td>NaN</td>\n      <td>NaN</td>\n      <td>NaN</td>\n      <td>NaN</td>\n      <td>NaN</td>\n      <td>NaN</td>\n      <td>...</td>\n      <td>NaN</td>\n      <td></td>\n      <td>None</td>\n      <td>None</td>\n      <td></td>\n      <td>['']</td>\n      <td></td>\n      <td></td>\n      <td>None</td>\n      <td>None</td>\n    </tr>\n    <tr>\n      <th>270747</th>\n      <td>NaN</td>\n      <td>NaN</td>\n      <td>NaN</td>\n      <td>Спасибо за размещение</td>\n      <td>NaN</td>\n      <td>NaN</td>\n      <td>NaN</td>\n      <td>NaN</td>\n      <td>NaN</td>\n      <td>NaN</td>\n      <td>...</td>\n      <td>NaN</td>\n      <td></td>\n      <td>None</td>\n      <td>None</td>\n      <td></td>\n      <td>['']</td>\n      <td></td>\n      <td></td>\n      <td>None</td>\n      <td>None</td>\n    </tr>\n    <tr>\n      <th>270748</th>\n      <td>NaN</td>\n      <td>NaN</td>\n      <td>NaN</td>\n      <td>], на Смоленском православном запрещено, а на ...</td>\n      <td>NaN</td>\n      <td>NaN</td>\n      <td>NaN</td>\n      <td>NaN</td>\n      <td>NaN</td>\n      <td>NaN</td>\n      <td>...</td>\n      <td>NaN</td>\n      <td></td>\n      <td>Смоленском православном</td>\n      <td>None</td>\n      <td>None</td>\n      <td>None</td>\n      <td>None</td>\n      <td>None</td>\n      <td>None</td>\n      <td>None</td>\n    </tr>\n    <tr>\n      <th>270749</th>\n      <td>NaN</td>\n      <td>NaN</td>\n      <td>NaN</td>\n      <td>У мемориала Большое Заречье отдыхает стая ЛЕБЕ...</td>\n      <td>NaN</td>\n      <td>NaN</td>\n      <td>NaN</td>\n      <td>NaN</td>\n      <td>NaN</td>\n      <td>NaN</td>\n      <td>...</td>\n      <td>NaN</td>\n      <td></td>\n      <td>Большое Заречье</td>\n      <td>None</td>\n      <td>None</td>\n      <td>None</td>\n      <td>None</td>\n      <td>None</td>\n      <td>None</td>\n      <td>None</td>\n    </tr>\n    <tr>\n      <th>270750</th>\n      <td>NaN</td>\n      <td>NaN</td>\n      <td>NaN</td>\n      <td>None</td>\n      <td>NaN</td>\n      <td>NaN</td>\n      <td>NaN</td>\n      <td>NaN</td>\n      <td>NaN</td>\n      <td>NaN</td>\n      <td>...</td>\n      <td>NaN</td>\n      <td></td>\n      <td>None</td>\n      <td>None</td>\n      <td></td>\n      <td>['']</td>\n      <td></td>\n      <td></td>\n      <td>None</td>\n      <td>None</td>\n    </tr>\n  </tbody>\n</table>\n<p>270751 rows × 22 columns</p>\n</div>"
     },
     "execution_count": 16,
     "metadata": {},
     "output_type": "execute_result"
    }
   ],
   "source": [
    "gdf_back_up = gdf.copy()\n",
    "gdf_back_up"
   ],
   "metadata": {
    "collapsed": false
   }
  },
  {
   "cell_type": "markdown",
   "source": [
    "Очищаем текст"
   ],
   "metadata": {
    "collapsed": false
   }
  },
  {
   "cell_type": "code",
   "execution_count": 17,
   "outputs": [],
   "source": [
    "gdf = clean_from_dublicates(data=gdf,\n",
    "                               id_column='id')\n",
    "gdf = clean_from_digits(gdf,\n",
    "                           'text')\n",
    "gdf = clean_from_toponims(gdf,\n",
    "                             'text',\n",
    "                             'initial_street',\n",
    "                             'Toponims')\n",
    "gdf = clean_from_links(gdf,\n",
    "                          text_column='text')"
   ],
   "metadata": {
    "collapsed": false
   }
  },
  {
   "cell_type": "markdown",
   "source": [
    "Инициализируем модель киберта"
   ],
   "metadata": {
    "collapsed": false
   }
  },
  {
   "cell_type": "code",
   "execution_count": 18,
   "outputs": [
    {
     "name": "stderr",
     "output_type": "stream",
     "text": [
      "No sentence-transformers model found with name DeepPavlov/rubert-base-cased. Creating a new one with MEAN pooling.\n"
     ]
    }
   ],
   "source": [
    "model = KeyBERT(model='DeepPavlov/rubert-base-cased') # Или другая модель, вообще, надо потестировать"
   ],
   "metadata": {
    "collapsed": false
   }
  },
  {
   "cell_type": "markdown",
   "source": [
    "Создаём новые столбцы и заполняем пустыми значениями"
   ],
   "metadata": {
    "collapsed": false
   }
  },
  {
   "cell_type": "code",
   "execution_count": 19,
   "outputs": [],
   "source": [
    "gdf[['words', 'is_true']] = None"
   ],
   "metadata": {
    "collapsed": false
   }
  },
  {
   "cell_type": "markdown",
   "source": [
    "Извлекаем слова и запсисываем в gpd"
   ],
   "metadata": {
    "collapsed": false
   }
  },
  {
   "cell_type": "code",
   "execution_count": 20,
   "outputs": [
    {
     "data": {
      "text/plain": "  0%|          | 0/232678 [00:00<?, ?it/s]",
      "application/vnd.jupyter.widget-view+json": {
       "version_major": 2,
       "version_minor": 0,
       "model_id": "da9f6ec9b7d446b6ba8a0fc5233aa3b9"
      }
     },
     "metadata": {},
     "output_type": "display_data"
    }
   ],
   "source": [
    "for i in tqdm(range(len(gdf))):\n",
    "    text = gdf['text'].loc[i]\n",
    "    extraction = model.extract_keywords(text, top_n=1, stop_words=RUS_STOPWORDS)\n",
    "    if extraction:\n",
    "        gdf.at[i, 'words'] = extraction[0][0]"
   ],
   "metadata": {
    "collapsed": false
   }
  },
  {
   "cell_type": "markdown",
   "source": [
    "Проверяем, что всё записалось"
   ],
   "metadata": {
    "collapsed": false
   }
  },
  {
   "cell_type": "code",
   "execution_count": 21,
   "outputs": [
    {
     "data": {
      "text/plain": "        index                 date        id  \\\n0         0.0  2024-03-27 09:00:01  232611.0   \n1         1.0  2024-03-27 08:21:35  232609.0   \n2         2.0  2024-03-27 07:49:43  232606.0   \n3         3.0  2024-03-27 07:49:22  232605.0   \n4         4.0  2024-03-26 22:42:51  232598.0   \n...       ...                  ...       ...   \n232673  761.0  2022-12-01 05:34:05  169982.0   \n232674  762.0  2022-11-29 18:18:54  169957.0   \n232675  764.0  2022-11-30 06:27:16  169964.0   \n232676  765.0  2022-11-30 06:27:42  169966.0   \n232677    NaN                  NaN       NaN   \n\n                                                     text  views.count  \\\n0       работа в г. сестрорецкеооо “вириал” (машиностр...        260.0   \n1       с днем театра всех! и кто знает - остались ли ...        360.0   \n2       в пригороде петербурга начали токовать тетерев...        752.0   \n3                               утро туманное, утро седое        676.0   \n4                                   чей котейка в бегает?       1332.0   \n...                                                   ...          ...   \n232673                                       ], спасибо 🤗          NaN   \n232674  пытались поджечь? и хорошо что не горит, а то ...          NaN   \n232675                                             дорого          NaN   \n232676                                      на вайлдберис          NaN   \n232677               ], сегодня идите, должны найти сразу          NaN   \n\n        likes.count  reposts.count     type  \\\n0               0.0            0.0     post   \n1               0.0            0.0     post   \n2               4.0            0.0     post   \n3               4.0            0.0     post   \n4              15.0            2.0     post   \n...             ...            ...      ...   \n232673          0.0            NaN    reply   \n232674          1.0            NaN  comment   \n232675          0.0            NaN  comment   \n232676          0.0            NaN  comment   \n232677          NaN            NaN      NaN   \n\n                                             link   post_id  ...  \\\n0       https://clck.ru/34cGGQ#работавсестрорецке       NaN  ...   \n1                                             NaN       NaN  ...   \n2        https://vk.com/video-147416952_456239386       NaN  ...   \n3                                             NaN       NaN  ...   \n4                                             NaN       NaN  ...   \n...                                           ...       ...  ...   \n232673                                        NaN  169967.0  ...   \n232674                                        NaN  169955.0  ...   \n232675                                        NaN  169920.0  ...   \n232676                                        NaN  169920.0  ...   \n232677                                        NaN       NaN  ...   \n\n          initial_street Toponims                       full_street_name  \\\n0                Воскова    улица  улица Воскова  Санкт-Петербург Россия   \n1       Курортном районе     None                                   None   \n2       Гатчинском парке     None                                   None   \n3                   None     None                                          \n4                 Дубках     None                                   None   \n...                  ...      ...                                    ...   \n232673              None     None                                          \n232674              None     None                                          \n232675              None     None                                          \n232676              None     None                                          \n232677              None     None                                          \n\n                                 location_options  \\\n0       ['улица Воскова  Санкт-Петербург Россия']   \n1                                            None   \n2                                            None   \n3                                            ['']   \n4                                            None   \n...                                           ...   \n232673                                       ['']   \n232674                                       ['']   \n232675                                       ['']   \n232676                                       ['']   \n232677                                       ['']   \n\n                              addr_to_geocode only_full_street_name  \\\n0       улица Воскова  Санкт-Петербург Россия         улица Воскова   \n1                                        None                  None   \n2                                        None                  None   \n3                                                                     \n4                                        None                  None   \n...                                       ...                   ...   \n232673                                                                \n232674                                                                \n232675                                                                \n232676                                                                \n232677                                                                \n\n                                                 Location  \\\n0       улица Воскова, Петроградская сторона, Введенск...   \n1                                                    None   \n2                                                    None   \n3                                                    None   \n4                                                    None   \n...                                                   ...   \n232673                                               None   \n232674                                               None   \n232675                                               None   \n232676                                               None   \n232677                                               None   \n\n                         geometry       words is_true  \n0       POINT (30.30505 59.95767)        cggq    None  \n1                            None       театр    None  \n2                            None          vk    None  \n3                            None       седое    None  \n4                            None      бегает    None  \n...                           ...         ...     ...  \n232673                       None     спасибо    None  \n232674                       None         мчс    None  \n232675                       None      дорого    None  \n232676                       None  вайлдберис    None  \n232677                       None       идите    None  \n\n[232678 rows x 24 columns]",
      "text/html": "<div>\n<style scoped>\n    .dataframe tbody tr th:only-of-type {\n        vertical-align: middle;\n    }\n\n    .dataframe tbody tr th {\n        vertical-align: top;\n    }\n\n    .dataframe thead th {\n        text-align: right;\n    }\n</style>\n<table border=\"1\" class=\"dataframe\">\n  <thead>\n    <tr style=\"text-align: right;\">\n      <th></th>\n      <th>index</th>\n      <th>date</th>\n      <th>id</th>\n      <th>text</th>\n      <th>views.count</th>\n      <th>likes.count</th>\n      <th>reposts.count</th>\n      <th>type</th>\n      <th>link</th>\n      <th>post_id</th>\n      <th>...</th>\n      <th>initial_street</th>\n      <th>Toponims</th>\n      <th>full_street_name</th>\n      <th>location_options</th>\n      <th>addr_to_geocode</th>\n      <th>only_full_street_name</th>\n      <th>Location</th>\n      <th>geometry</th>\n      <th>words</th>\n      <th>is_true</th>\n    </tr>\n  </thead>\n  <tbody>\n    <tr>\n      <th>0</th>\n      <td>0.0</td>\n      <td>2024-03-27 09:00:01</td>\n      <td>232611.0</td>\n      <td>работа в г. сестрорецкеооо “вириал” (машиностр...</td>\n      <td>260.0</td>\n      <td>0.0</td>\n      <td>0.0</td>\n      <td>post</td>\n      <td>https://clck.ru/34cGGQ#работавсестрорецке</td>\n      <td>NaN</td>\n      <td>...</td>\n      <td>Воскова</td>\n      <td>улица</td>\n      <td>улица Воскова  Санкт-Петербург Россия</td>\n      <td>['улица Воскова  Санкт-Петербург Россия']</td>\n      <td>улица Воскова  Санкт-Петербург Россия</td>\n      <td>улица Воскова</td>\n      <td>улица Воскова, Петроградская сторона, Введенск...</td>\n      <td>POINT (30.30505 59.95767)</td>\n      <td>cggq</td>\n      <td>None</td>\n    </tr>\n    <tr>\n      <th>1</th>\n      <td>1.0</td>\n      <td>2024-03-27 08:21:35</td>\n      <td>232609.0</td>\n      <td>с днем театра всех! и кто знает - остались ли ...</td>\n      <td>360.0</td>\n      <td>0.0</td>\n      <td>0.0</td>\n      <td>post</td>\n      <td>NaN</td>\n      <td>NaN</td>\n      <td>...</td>\n      <td>Курортном районе</td>\n      <td>None</td>\n      <td>None</td>\n      <td>None</td>\n      <td>None</td>\n      <td>None</td>\n      <td>None</td>\n      <td>None</td>\n      <td>театр</td>\n      <td>None</td>\n    </tr>\n    <tr>\n      <th>2</th>\n      <td>2.0</td>\n      <td>2024-03-27 07:49:43</td>\n      <td>232606.0</td>\n      <td>в пригороде петербурга начали токовать тетерев...</td>\n      <td>752.0</td>\n      <td>4.0</td>\n      <td>0.0</td>\n      <td>post</td>\n      <td>https://vk.com/video-147416952_456239386</td>\n      <td>NaN</td>\n      <td>...</td>\n      <td>Гатчинском парке</td>\n      <td>None</td>\n      <td>None</td>\n      <td>None</td>\n      <td>None</td>\n      <td>None</td>\n      <td>None</td>\n      <td>None</td>\n      <td>vk</td>\n      <td>None</td>\n    </tr>\n    <tr>\n      <th>3</th>\n      <td>3.0</td>\n      <td>2024-03-27 07:49:22</td>\n      <td>232605.0</td>\n      <td>утро туманное, утро седое</td>\n      <td>676.0</td>\n      <td>4.0</td>\n      <td>0.0</td>\n      <td>post</td>\n      <td>NaN</td>\n      <td>NaN</td>\n      <td>...</td>\n      <td>None</td>\n      <td>None</td>\n      <td></td>\n      <td>['']</td>\n      <td></td>\n      <td></td>\n      <td>None</td>\n      <td>None</td>\n      <td>седое</td>\n      <td>None</td>\n    </tr>\n    <tr>\n      <th>4</th>\n      <td>4.0</td>\n      <td>2024-03-26 22:42:51</td>\n      <td>232598.0</td>\n      <td>чей котейка в бегает?</td>\n      <td>1332.0</td>\n      <td>15.0</td>\n      <td>2.0</td>\n      <td>post</td>\n      <td>NaN</td>\n      <td>NaN</td>\n      <td>...</td>\n      <td>Дубках</td>\n      <td>None</td>\n      <td>None</td>\n      <td>None</td>\n      <td>None</td>\n      <td>None</td>\n      <td>None</td>\n      <td>None</td>\n      <td>бегает</td>\n      <td>None</td>\n    </tr>\n    <tr>\n      <th>...</th>\n      <td>...</td>\n      <td>...</td>\n      <td>...</td>\n      <td>...</td>\n      <td>...</td>\n      <td>...</td>\n      <td>...</td>\n      <td>...</td>\n      <td>...</td>\n      <td>...</td>\n      <td>...</td>\n      <td>...</td>\n      <td>...</td>\n      <td>...</td>\n      <td>...</td>\n      <td>...</td>\n      <td>...</td>\n      <td>...</td>\n      <td>...</td>\n      <td>...</td>\n      <td>...</td>\n    </tr>\n    <tr>\n      <th>232673</th>\n      <td>761.0</td>\n      <td>2022-12-01 05:34:05</td>\n      <td>169982.0</td>\n      <td>], спасибо 🤗</td>\n      <td>NaN</td>\n      <td>0.0</td>\n      <td>NaN</td>\n      <td>reply</td>\n      <td>NaN</td>\n      <td>169967.0</td>\n      <td>...</td>\n      <td>None</td>\n      <td>None</td>\n      <td></td>\n      <td>['']</td>\n      <td></td>\n      <td></td>\n      <td>None</td>\n      <td>None</td>\n      <td>спасибо</td>\n      <td>None</td>\n    </tr>\n    <tr>\n      <th>232674</th>\n      <td>762.0</td>\n      <td>2022-11-29 18:18:54</td>\n      <td>169957.0</td>\n      <td>пытались поджечь? и хорошо что не горит, а то ...</td>\n      <td>NaN</td>\n      <td>1.0</td>\n      <td>NaN</td>\n      <td>comment</td>\n      <td>NaN</td>\n      <td>169955.0</td>\n      <td>...</td>\n      <td>None</td>\n      <td>None</td>\n      <td></td>\n      <td>['']</td>\n      <td></td>\n      <td></td>\n      <td>None</td>\n      <td>None</td>\n      <td>мчс</td>\n      <td>None</td>\n    </tr>\n    <tr>\n      <th>232675</th>\n      <td>764.0</td>\n      <td>2022-11-30 06:27:16</td>\n      <td>169964.0</td>\n      <td>дорого</td>\n      <td>NaN</td>\n      <td>0.0</td>\n      <td>NaN</td>\n      <td>comment</td>\n      <td>NaN</td>\n      <td>169920.0</td>\n      <td>...</td>\n      <td>None</td>\n      <td>None</td>\n      <td></td>\n      <td>['']</td>\n      <td></td>\n      <td></td>\n      <td>None</td>\n      <td>None</td>\n      <td>дорого</td>\n      <td>None</td>\n    </tr>\n    <tr>\n      <th>232676</th>\n      <td>765.0</td>\n      <td>2022-11-30 06:27:42</td>\n      <td>169966.0</td>\n      <td>на вайлдберис</td>\n      <td>NaN</td>\n      <td>0.0</td>\n      <td>NaN</td>\n      <td>comment</td>\n      <td>NaN</td>\n      <td>169920.0</td>\n      <td>...</td>\n      <td>None</td>\n      <td>None</td>\n      <td></td>\n      <td>['']</td>\n      <td></td>\n      <td></td>\n      <td>None</td>\n      <td>None</td>\n      <td>вайлдберис</td>\n      <td>None</td>\n    </tr>\n    <tr>\n      <th>232677</th>\n      <td>NaN</td>\n      <td>NaN</td>\n      <td>NaN</td>\n      <td>], сегодня идите, должны найти сразу</td>\n      <td>NaN</td>\n      <td>NaN</td>\n      <td>NaN</td>\n      <td>NaN</td>\n      <td>NaN</td>\n      <td>NaN</td>\n      <td>...</td>\n      <td>None</td>\n      <td>None</td>\n      <td></td>\n      <td>['']</td>\n      <td></td>\n      <td></td>\n      <td>None</td>\n      <td>None</td>\n      <td>идите</td>\n      <td>None</td>\n    </tr>\n  </tbody>\n</table>\n<p>232678 rows × 24 columns</p>\n</div>"
     },
     "execution_count": 21,
     "metadata": {},
     "output_type": "execute_result"
    }
   ],
   "source": [
    "gdf"
   ],
   "metadata": {
    "collapsed": false
   }
  },
  {
   "cell_type": "markdown",
   "source": [
    "Устанавливаем сколько процентов от текста будем анализировать"
   ],
   "metadata": {
    "collapsed": false
   }
  },
  {
   "cell_type": "code",
   "execution_count": 42,
   "outputs": [],
   "source": [
    "percent = 10 # целое число от 0 до 100\n",
    "\n",
    "num_to_extract = len(gdf) * percent//100 # всего будет извлечено строк"
   ],
   "metadata": {
    "collapsed": false
   }
  },
  {
   "cell_type": "markdown",
   "source": [
    "Выделяем посты в новый gdf"
   ],
   "metadata": {
    "collapsed": false
   }
  },
  {
   "cell_type": "code",
   "execution_count": 23,
   "outputs": [],
   "source": [
    "posts = gdf.loc[gdf['type'] == 'post']"
   ],
   "metadata": {
    "collapsed": false
   }
  },
  {
   "cell_type": "markdown",
   "source": [
    "Очищаем от пустых значений, где слова не извлеклись"
   ],
   "metadata": {
    "collapsed": false
   }
  },
  {
   "cell_type": "code",
   "execution_count": 24,
   "outputs": [],
   "source": [
    "posts = posts.dropna(subset='words').reset_index()"
   ],
   "metadata": {
    "collapsed": false
   }
  },
  {
   "cell_type": "markdown",
   "source": [
    "Создаём список случайных индексов для заполнения для постов"
   ],
   "metadata": {
    "collapsed": false
   }
  },
  {
   "cell_type": "code",
   "execution_count": 25,
   "outputs": [],
   "source": [
    "post_indexes_to_check = []\n",
    "\n",
    "while len(post_indexes_to_check) < num_to_extract//2:\n",
    "  index = random.randint(0, len(posts))\n",
    "  if index not in post_indexes_to_check:\n",
    "    post_indexes_to_check.append(index)"
   ],
   "metadata": {
    "collapsed": false
   }
  },
  {
   "cell_type": "markdown",
   "source": [
    "Всё тоже самое для комментариев"
   ],
   "metadata": {
    "collapsed": false
   }
  },
  {
   "cell_type": "code",
   "execution_count": 26,
   "outputs": [],
   "source": [
    "comments = gdf.loc[gdf['type'] != 'post']"
   ],
   "metadata": {
    "collapsed": false
   }
  },
  {
   "cell_type": "code",
   "execution_count": 27,
   "outputs": [],
   "source": [
    "comments = comments.dropna(subset='words').reset_index()"
   ],
   "metadata": {
    "collapsed": false
   }
  },
  {
   "cell_type": "code",
   "execution_count": 28,
   "outputs": [],
   "source": [
    "comment_indexes_to_check = []\n",
    "\n",
    "while len(comment_indexes_to_check) < num_to_extract//2:\n",
    "  index = random.randint(0, len(posts))\n",
    "  if index not in comment_indexes_to_check:\n",
    "    comment_indexes_to_check.append(index)"
   ],
   "metadata": {
    "collapsed": false
   }
  },
  {
   "cell_type": "markdown",
   "source": [
    "Складываем, чтобы получить все нужные нам индексы"
   ],
   "metadata": {
    "collapsed": false
   }
  },
  {
   "cell_type": "code",
   "execution_count": 29,
   "outputs": [],
   "source": [
    "indexes_to_check = post_indexes_to_check + comment_indexes_to_check"
   ],
   "metadata": {
    "collapsed": false
   }
  },
  {
   "cell_type": "markdown",
   "source": [
    "Извлекаем все нужные значения по индексам из сходных данных"
   ],
   "metadata": {
    "collapsed": false
   }
  },
  {
   "cell_type": "code",
   "execution_count": 30,
   "outputs": [],
   "source": [
    "gdf_to_table = gdf.iloc[indexes_to_check].reset_index()"
   ],
   "metadata": {
    "collapsed": false
   }
  },
  {
   "cell_type": "markdown",
   "source": [
    "Смотрим что получилось"
   ],
   "metadata": {
    "collapsed": false
   }
  },
  {
   "cell_type": "code",
   "execution_count": 31,
   "outputs": [
    {
     "data": {
      "text/plain": "       level_0    index                 date        id  \\\n0        20497   8200.0  2022-11-11 10:07:50  269772.0   \n1         9143    377.0  2023-03-24 10:18:43   20517.0   \n2        25033    144.0  2024-01-09 22:52:00   72037.0   \n3        17731   5407.0  2023-06-30 19:11:52  304148.0   \n4         9485    719.0  2024-03-16 17:52:09   28043.0   \n...        ...      ...                  ...       ...   \n23261    15850   3521.0  2024-02-17 09:35:27  329428.0   \n23262    13630   1294.0  2024-03-18 17:07:06  333080.0   \n23263     9321    555.0  2024-03-25 08:36:55   28308.0   \n23264     1964   1969.0  2023-11-06 22:23:33  225449.0   \n23265    22374  10092.0  2022-10-26 12:38:52  266097.0   \n\n                                                    text  views.count  \\\n0      поставят надувной каток, когда все успокоится ...          NaN   \n1      🌤 плюсовая температура, умеренный ветер, преим...        661.0   \n2      ретро-автомобили возле \"окея\" 🚗 видео от подпи...       4906.0   \n3         ], да, цепочка: гужа - жилищный комитет - фкр.          NaN   \n4      ], добрый день! список избирательных участков ...          NaN   \n...                                                  ...          ...   \n23261                                      именно так ☺️          NaN   \n23262                                         ], спасибо          NaN   \n23263   ], дома нужно сидеть, посетителям в такое время!          NaN   \n23264                 ещё мельче сделать чертеж могли???          NaN   \n23265  ], да ради бога, только тогда не надо щеки над...          NaN   \n\n       likes.count  reposts.count     type link  ...  initial_street Toponims  \\\n0              0.0            NaN    reply  NaN  ...            None     None   \n1              4.0            0.0     post  NaN  ...            None     None   \n2             47.0            4.0     post  NaN  ...     Богатырский     None   \n3              0.0            NaN    reply  NaN  ...            None     None   \n4              2.0            NaN  comment  NaN  ...              РФ     None   \n...            ...            ...      ...  ...  ...             ...      ...   \n23261          0.0            NaN  comment  NaN  ...            None     None   \n23262          7.0            NaN  comment  NaN  ...            None     None   \n23263          2.0            NaN  comment  NaN  ...            None     None   \n23264          1.0            NaN  comment  NaN  ...            None     None   \n23265          0.0            NaN    reply  NaN  ...            None     None   \n\n                                   full_street_name  \\\n0                                                     \n1                                                     \n2      Богатырский проспект  Санкт-Петербург Россия   \n3                                                     \n4                                              None   \n...                                             ...   \n23261                                                 \n23262                                                 \n23263                                                 \n23264                                                 \n23265                                                 \n\n                                       location_options  \\\n0                                                  ['']   \n1                                                  ['']   \n2      ['Богатырский проспект  Санкт-Петербург Россия']   \n3                                                  ['']   \n4                                                  None   \n...                                                 ...   \n23261                                              ['']   \n23262                                              ['']   \n23263                                              ['']   \n23264                                              ['']   \n23265                                              ['']   \n\n                                    addr_to_geocode only_full_street_name  \\\n0                                                                           \n1                                                                           \n2      Богатырский проспект  Санкт-Петербург Россия  Богатырский проспект   \n3                                                                           \n4                                              None                  None   \n...                                             ...                   ...   \n23261                                                                       \n23262                                                                       \n23263                                                                       \n23264                                                                       \n23265                                                                       \n\n                                                Location  \\\n0                                                   None   \n1                                                   None   \n2      Богатырский проспект, Северо-Приморская часть,...   \n3                                                   None   \n4                                                   None   \n...                                                  ...   \n23261                                               None   \n23262                                               None   \n23263                                               None   \n23264                                               None   \n23265                                               None   \n\n                        geometry                words is_true  \n0                           None           успокоится    None  \n1                           None  делаемпетербургчище    None  \n2      POINT (30.23542 60.00397)                 окея    None  \n3                           None                  фкр    None  \n4                           None          reg_kirovsk    None  \n...                          ...                  ...     ...  \n23261                       None               именно    None  \n23262                       None              спасибо    None  \n23263                       None                нужно    None  \n23264                       None                могли    None  \n23265                       None            работаешь    None  \n\n[23266 rows x 25 columns]",
      "text/html": "<div>\n<style scoped>\n    .dataframe tbody tr th:only-of-type {\n        vertical-align: middle;\n    }\n\n    .dataframe tbody tr th {\n        vertical-align: top;\n    }\n\n    .dataframe thead th {\n        text-align: right;\n    }\n</style>\n<table border=\"1\" class=\"dataframe\">\n  <thead>\n    <tr style=\"text-align: right;\">\n      <th></th>\n      <th>level_0</th>\n      <th>index</th>\n      <th>date</th>\n      <th>id</th>\n      <th>text</th>\n      <th>views.count</th>\n      <th>likes.count</th>\n      <th>reposts.count</th>\n      <th>type</th>\n      <th>link</th>\n      <th>...</th>\n      <th>initial_street</th>\n      <th>Toponims</th>\n      <th>full_street_name</th>\n      <th>location_options</th>\n      <th>addr_to_geocode</th>\n      <th>only_full_street_name</th>\n      <th>Location</th>\n      <th>geometry</th>\n      <th>words</th>\n      <th>is_true</th>\n    </tr>\n  </thead>\n  <tbody>\n    <tr>\n      <th>0</th>\n      <td>20497</td>\n      <td>8200.0</td>\n      <td>2022-11-11 10:07:50</td>\n      <td>269772.0</td>\n      <td>поставят надувной каток, когда все успокоится ...</td>\n      <td>NaN</td>\n      <td>0.0</td>\n      <td>NaN</td>\n      <td>reply</td>\n      <td>NaN</td>\n      <td>...</td>\n      <td>None</td>\n      <td>None</td>\n      <td></td>\n      <td>['']</td>\n      <td></td>\n      <td></td>\n      <td>None</td>\n      <td>None</td>\n      <td>успокоится</td>\n      <td>None</td>\n    </tr>\n    <tr>\n      <th>1</th>\n      <td>9143</td>\n      <td>377.0</td>\n      <td>2023-03-24 10:18:43</td>\n      <td>20517.0</td>\n      <td>🌤 плюсовая температура, умеренный ветер, преим...</td>\n      <td>661.0</td>\n      <td>4.0</td>\n      <td>0.0</td>\n      <td>post</td>\n      <td>NaN</td>\n      <td>...</td>\n      <td>None</td>\n      <td>None</td>\n      <td></td>\n      <td>['']</td>\n      <td></td>\n      <td></td>\n      <td>None</td>\n      <td>None</td>\n      <td>делаемпетербургчище</td>\n      <td>None</td>\n    </tr>\n    <tr>\n      <th>2</th>\n      <td>25033</td>\n      <td>144.0</td>\n      <td>2024-01-09 22:52:00</td>\n      <td>72037.0</td>\n      <td>ретро-автомобили возле \"окея\" 🚗 видео от подпи...</td>\n      <td>4906.0</td>\n      <td>47.0</td>\n      <td>4.0</td>\n      <td>post</td>\n      <td>NaN</td>\n      <td>...</td>\n      <td>Богатырский</td>\n      <td>None</td>\n      <td>Богатырский проспект  Санкт-Петербург Россия</td>\n      <td>['Богатырский проспект  Санкт-Петербург Россия']</td>\n      <td>Богатырский проспект  Санкт-Петербург Россия</td>\n      <td>Богатырский проспект</td>\n      <td>Богатырский проспект, Северо-Приморская часть,...</td>\n      <td>POINT (30.23542 60.00397)</td>\n      <td>окея</td>\n      <td>None</td>\n    </tr>\n    <tr>\n      <th>3</th>\n      <td>17731</td>\n      <td>5407.0</td>\n      <td>2023-06-30 19:11:52</td>\n      <td>304148.0</td>\n      <td>], да, цепочка: гужа - жилищный комитет - фкр.</td>\n      <td>NaN</td>\n      <td>0.0</td>\n      <td>NaN</td>\n      <td>reply</td>\n      <td>NaN</td>\n      <td>...</td>\n      <td>None</td>\n      <td>None</td>\n      <td></td>\n      <td>['']</td>\n      <td></td>\n      <td></td>\n      <td>None</td>\n      <td>None</td>\n      <td>фкр</td>\n      <td>None</td>\n    </tr>\n    <tr>\n      <th>4</th>\n      <td>9485</td>\n      <td>719.0</td>\n      <td>2024-03-16 17:52:09</td>\n      <td>28043.0</td>\n      <td>], добрый день! список избирательных участков ...</td>\n      <td>NaN</td>\n      <td>2.0</td>\n      <td>NaN</td>\n      <td>comment</td>\n      <td>NaN</td>\n      <td>...</td>\n      <td>РФ</td>\n      <td>None</td>\n      <td>None</td>\n      <td>None</td>\n      <td>None</td>\n      <td>None</td>\n      <td>None</td>\n      <td>None</td>\n      <td>reg_kirovsk</td>\n      <td>None</td>\n    </tr>\n    <tr>\n      <th>...</th>\n      <td>...</td>\n      <td>...</td>\n      <td>...</td>\n      <td>...</td>\n      <td>...</td>\n      <td>...</td>\n      <td>...</td>\n      <td>...</td>\n      <td>...</td>\n      <td>...</td>\n      <td>...</td>\n      <td>...</td>\n      <td>...</td>\n      <td>...</td>\n      <td>...</td>\n      <td>...</td>\n      <td>...</td>\n      <td>...</td>\n      <td>...</td>\n      <td>...</td>\n      <td>...</td>\n    </tr>\n    <tr>\n      <th>23261</th>\n      <td>15850</td>\n      <td>3521.0</td>\n      <td>2024-02-17 09:35:27</td>\n      <td>329428.0</td>\n      <td>именно так ☺️</td>\n      <td>NaN</td>\n      <td>0.0</td>\n      <td>NaN</td>\n      <td>comment</td>\n      <td>NaN</td>\n      <td>...</td>\n      <td>None</td>\n      <td>None</td>\n      <td></td>\n      <td>['']</td>\n      <td></td>\n      <td></td>\n      <td>None</td>\n      <td>None</td>\n      <td>именно</td>\n      <td>None</td>\n    </tr>\n    <tr>\n      <th>23262</th>\n      <td>13630</td>\n      <td>1294.0</td>\n      <td>2024-03-18 17:07:06</td>\n      <td>333080.0</td>\n      <td>], спасибо</td>\n      <td>NaN</td>\n      <td>7.0</td>\n      <td>NaN</td>\n      <td>comment</td>\n      <td>NaN</td>\n      <td>...</td>\n      <td>None</td>\n      <td>None</td>\n      <td></td>\n      <td>['']</td>\n      <td></td>\n      <td></td>\n      <td>None</td>\n      <td>None</td>\n      <td>спасибо</td>\n      <td>None</td>\n    </tr>\n    <tr>\n      <th>23263</th>\n      <td>9321</td>\n      <td>555.0</td>\n      <td>2024-03-25 08:36:55</td>\n      <td>28308.0</td>\n      <td>], дома нужно сидеть, посетителям в такое время!</td>\n      <td>NaN</td>\n      <td>2.0</td>\n      <td>NaN</td>\n      <td>comment</td>\n      <td>NaN</td>\n      <td>...</td>\n      <td>None</td>\n      <td>None</td>\n      <td></td>\n      <td>['']</td>\n      <td></td>\n      <td></td>\n      <td>None</td>\n      <td>None</td>\n      <td>нужно</td>\n      <td>None</td>\n    </tr>\n    <tr>\n      <th>23264</th>\n      <td>1964</td>\n      <td>1969.0</td>\n      <td>2023-11-06 22:23:33</td>\n      <td>225449.0</td>\n      <td>ещё мельче сделать чертеж могли???</td>\n      <td>NaN</td>\n      <td>1.0</td>\n      <td>NaN</td>\n      <td>comment</td>\n      <td>NaN</td>\n      <td>...</td>\n      <td>None</td>\n      <td>None</td>\n      <td></td>\n      <td>['']</td>\n      <td></td>\n      <td></td>\n      <td>None</td>\n      <td>None</td>\n      <td>могли</td>\n      <td>None</td>\n    </tr>\n    <tr>\n      <th>23265</th>\n      <td>22374</td>\n      <td>10092.0</td>\n      <td>2022-10-26 12:38:52</td>\n      <td>266097.0</td>\n      <td>], да ради бога, только тогда не надо щеки над...</td>\n      <td>NaN</td>\n      <td>0.0</td>\n      <td>NaN</td>\n      <td>reply</td>\n      <td>NaN</td>\n      <td>...</td>\n      <td>None</td>\n      <td>None</td>\n      <td></td>\n      <td>['']</td>\n      <td></td>\n      <td></td>\n      <td>None</td>\n      <td>None</td>\n      <td>работаешь</td>\n      <td>None</td>\n    </tr>\n  </tbody>\n</table>\n<p>23266 rows × 25 columns</p>\n</div>"
     },
     "execution_count": 31,
     "metadata": {},
     "output_type": "execute_result"
    }
   ],
   "source": [
    "gdf_to_table"
   ],
   "metadata": {
    "collapsed": false
   }
  },
  {
   "cell_type": "markdown",
   "source": [
    "Формируем gdf только с нужными нам столбцами"
   ],
   "metadata": {
    "collapsed": false
   }
  },
  {
   "cell_type": "code",
   "execution_count": 32,
   "outputs": [],
   "source": [
    "result_df = gdf_to_table[['id', 'text', 'words', 'is_true']]"
   ],
   "metadata": {
    "collapsed": false
   }
  },
  {
   "cell_type": "code",
   "execution_count": 33,
   "outputs": [
    {
     "data": {
      "text/plain": "             id                                               text  \\\n0      269772.0  поставят надувной каток, когда все успокоится ...   \n1       20517.0  🌤 плюсовая температура, умеренный ветер, преим...   \n2       72037.0  ретро-автомобили возле \"окея\" 🚗 видео от подпи...   \n3      304148.0     ], да, цепочка: гужа - жилищный комитет - фкр.   \n4       28043.0  ], добрый день! список избирательных участков ...   \n...         ...                                                ...   \n23261  329428.0                                      именно так ☺️   \n23262  333080.0                                         ], спасибо   \n23263   28308.0   ], дома нужно сидеть, посетителям в такое время!   \n23264  225449.0                 ещё мельче сделать чертеж могли???   \n23265  266097.0  ], да ради бога, только тогда не надо щеки над...   \n\n                     words is_true  \n0               успокоится    None  \n1      делаемпетербургчище    None  \n2                     окея    None  \n3                      фкр    None  \n4              reg_kirovsk    None  \n...                    ...     ...  \n23261               именно    None  \n23262              спасибо    None  \n23263                нужно    None  \n23264                могли    None  \n23265            работаешь    None  \n\n[23266 rows x 4 columns]",
      "text/html": "<div>\n<style scoped>\n    .dataframe tbody tr th:only-of-type {\n        vertical-align: middle;\n    }\n\n    .dataframe tbody tr th {\n        vertical-align: top;\n    }\n\n    .dataframe thead th {\n        text-align: right;\n    }\n</style>\n<table border=\"1\" class=\"dataframe\">\n  <thead>\n    <tr style=\"text-align: right;\">\n      <th></th>\n      <th>id</th>\n      <th>text</th>\n      <th>words</th>\n      <th>is_true</th>\n    </tr>\n  </thead>\n  <tbody>\n    <tr>\n      <th>0</th>\n      <td>269772.0</td>\n      <td>поставят надувной каток, когда все успокоится ...</td>\n      <td>успокоится</td>\n      <td>None</td>\n    </tr>\n    <tr>\n      <th>1</th>\n      <td>20517.0</td>\n      <td>🌤 плюсовая температура, умеренный ветер, преим...</td>\n      <td>делаемпетербургчище</td>\n      <td>None</td>\n    </tr>\n    <tr>\n      <th>2</th>\n      <td>72037.0</td>\n      <td>ретро-автомобили возле \"окея\" 🚗 видео от подпи...</td>\n      <td>окея</td>\n      <td>None</td>\n    </tr>\n    <tr>\n      <th>3</th>\n      <td>304148.0</td>\n      <td>], да, цепочка: гужа - жилищный комитет - фкр.</td>\n      <td>фкр</td>\n      <td>None</td>\n    </tr>\n    <tr>\n      <th>4</th>\n      <td>28043.0</td>\n      <td>], добрый день! список избирательных участков ...</td>\n      <td>reg_kirovsk</td>\n      <td>None</td>\n    </tr>\n    <tr>\n      <th>...</th>\n      <td>...</td>\n      <td>...</td>\n      <td>...</td>\n      <td>...</td>\n    </tr>\n    <tr>\n      <th>23261</th>\n      <td>329428.0</td>\n      <td>именно так ☺️</td>\n      <td>именно</td>\n      <td>None</td>\n    </tr>\n    <tr>\n      <th>23262</th>\n      <td>333080.0</td>\n      <td>], спасибо</td>\n      <td>спасибо</td>\n      <td>None</td>\n    </tr>\n    <tr>\n      <th>23263</th>\n      <td>28308.0</td>\n      <td>], дома нужно сидеть, посетителям в такое время!</td>\n      <td>нужно</td>\n      <td>None</td>\n    </tr>\n    <tr>\n      <th>23264</th>\n      <td>225449.0</td>\n      <td>ещё мельче сделать чертеж могли???</td>\n      <td>могли</td>\n      <td>None</td>\n    </tr>\n    <tr>\n      <th>23265</th>\n      <td>266097.0</td>\n      <td>], да ради бога, только тогда не надо щеки над...</td>\n      <td>работаешь</td>\n      <td>None</td>\n    </tr>\n  </tbody>\n</table>\n<p>23266 rows × 4 columns</p>\n</div>"
     },
     "execution_count": 33,
     "metadata": {},
     "output_type": "execute_result"
    }
   ],
   "source": [
    "result_df"
   ],
   "metadata": {
    "collapsed": false
   }
  },
  {
   "cell_type": "markdown",
   "source": [
    "Сохраняем в удобный формат"
   ],
   "metadata": {
    "collapsed": false
   }
  },
  {
   "cell_type": "code",
   "execution_count": 35,
   "outputs": [],
   "source": [
    "result_df.to_csv('firs_table.csv', sep=';', encoding='utf-8')"
   ],
   "metadata": {
    "collapsed": false
   }
  },
  {
   "cell_type": "markdown",
   "source": [
    "#Таблица 2"
   ],
   "metadata": {
    "collapsed": false
   }
  },
  {
   "cell_type": "markdown",
   "source": [
    "Берём наш изначальный gdf"
   ],
   "metadata": {
    "collapsed": false
   }
  },
  {
   "cell_type": "code",
   "execution_count": 139,
   "outputs": [],
   "source": [
    "file = \"C:\\\\Users\\\\thebe\\\\Downloads\\\\Telegram Desktop\\\\ruina.geojson\"\n",
    "gdf = gpd.read_file(file)"
   ],
   "metadata": {
    "collapsed": false
   }
  },
  {
   "cell_type": "markdown",
   "source": [
    "Или если работаем с теми же данными"
   ],
   "metadata": {
    "collapsed": false
   }
  },
  {
   "cell_type": "code",
   "execution_count": 103,
   "outputs": [],
   "source": [
    "gdf = gdf_back_up"
   ],
   "metadata": {
    "collapsed": false
   }
  },
  {
   "cell_type": "markdown",
   "source": [
    "Избавляемся от ненужных строк (где не геокодер нашёл топоним)"
   ],
   "metadata": {
    "collapsed": false
   }
  },
  {
   "cell_type": "code",
   "execution_count": 104,
   "outputs": [
    {
     "data": {
      "text/plain": "270751"
     },
     "execution_count": 104,
     "metadata": {},
     "output_type": "execute_result"
    }
   ],
   "source": [
    "len(gdf)"
   ],
   "metadata": {
    "collapsed": false
   }
  },
  {
   "cell_type": "code",
   "execution_count": 105,
   "outputs": [],
   "source": [
    "gdf = gdf.dropna(subset='only_full_street_name')"
   ],
   "metadata": {
    "collapsed": false
   }
  },
  {
   "cell_type": "code",
   "execution_count": 106,
   "outputs": [
    {
     "data": {
      "text/plain": "242379"
     },
     "execution_count": 106,
     "metadata": {},
     "output_type": "execute_result"
    }
   ],
   "source": [
    "len(gdf)"
   ],
   "metadata": {
    "collapsed": false
   }
  },
  {
   "cell_type": "code",
   "execution_count": 108,
   "outputs": [
    {
     "data": {
      "text/plain": "        level_0  index                 date        id  \\\n0             0    0.0  2024-03-27 09:00:01  232611.0   \n1             3    3.0  2024-03-27 07:49:22  232605.0   \n2             8    8.0  2024-03-26 12:34:40  232565.0   \n3             9    9.0  2024-03-26 12:08:51  232564.0   \n4            12   12.0  2024-03-25 13:57:46  232514.0   \n...         ...    ...                  ...       ...   \n242374   270744    NaN                  NaN       NaN   \n242375   270745    NaN                  NaN       NaN   \n242376   270746    NaN                  NaN       NaN   \n242377   270747    NaN                  NaN       NaN   \n242378   270750    NaN                  NaN       NaN   \n\n                                                     text  views.count  \\\n0       РАБОТА в г. СЕСТРОРЕЦКЕООО “Вириал” (машиностр...        260.0   \n1                               Утро туманное, утро седое        676.0   \n2       Местная администрация города Сестрорецка уведо...       2390.0   \n3       ВНИМАНИЕ! ПОМОГИТЕ НАЙТИ ПОДРОСТКА! Максимальн...       2640.0   \n4                                                Фотофакт       2379.0   \n...                                                   ...          ...   \n242374  ], не переживайте,кормим его очень хорошо., у ...          NaN   \n242375  У них дворников нет у этой УК, т. е нет дворни...          NaN   \n242376                ], когда? На прошлой неделе еще был          NaN   \n242377                              Спасибо за размещение          NaN   \n242378                                               None          NaN   \n\n        likes.count  reposts.count  type  \\\n0               0.0            0.0  post   \n1               4.0            0.0  post   \n2              13.0            9.0  post   \n3              22.0            9.0  post   \n4              18.0            2.0  post   \n...             ...            ...   ...   \n242374          NaN            NaN   NaN   \n242375          NaN            NaN   NaN   \n242376          NaN            NaN   NaN   \n242377          NaN            NaN   NaN   \n242378          NaN            NaN   NaN   \n\n                                             link  ...  Score Numbers  \\\n0       https://clck.ru/34cGGQ#работавсестрорецке  ...  0.998           \n1                                             NaN  ...    NaN           \n2                                             NaN  ...  0.996           \n3                                             NaN  ...    NaN           \n4                                             NaN  ...    NaN           \n...                                           ...  ...    ...     ...   \n242374                                        NaN  ...    NaN           \n242375                                        NaN  ...    NaN           \n242376                                        NaN  ...    NaN           \n242377                                        NaN  ...    NaN           \n242378                                        NaN  ...    NaN           \n\n       initial_street  Toponims                          full_street_name  \\\n0             Воскова     улица     улица Воскова  Санкт-Петербург Россия   \n1                None      None                                             \n2          Приморское      None  Приморское шоссе  Санкт-Петербург Россия   \n3                None      None                                             \n4                None      None                                             \n...               ...       ...                                       ...   \n242374           None      None                                             \n242375           None      None                                             \n242376           None      None                                             \n242377           None      None                                             \n242378           None      None                                             \n\n                                    location_options  \\\n0          ['улица Воскова  Санкт-Петербург Россия']   \n1                                               ['']   \n2       ['Приморское шоссе  Санкт-Петербург Россия']   \n3                                               ['']   \n4                                               ['']   \n...                                              ...   \n242374                                          ['']   \n242375                                          ['']   \n242376                                          ['']   \n242377                                          ['']   \n242378                                          ['']   \n\n                                 addr_to_geocode only_full_street_name  \\\n0          улица Воскова  Санкт-Петербург Россия         улица Воскова   \n1                                                                        \n2       Приморское шоссе  Санкт-Петербург Россия      Приморское шоссе   \n3                                                                        \n4                                                                        \n...                                          ...                   ...   \n242374                                                                   \n242375                                                                   \n242376                                                                   \n242377                                                                   \n242378                                                                   \n\n                                                 Location  \\\n0       улица Воскова, Петроградская сторона, Введенск...   \n1                                                    None   \n2       Приморское шоссе, Лахта, округ Лахта-Ольгино, ...   \n3                                                    None   \n4                                                    None   \n...                                                   ...   \n242374                                               None   \n242375                                               None   \n242376                                               None   \n242377                                               None   \n242378                                               None   \n\n                         geometry  \n0       POINT (30.30505 59.95767)  \n1                            None  \n2       POINT (30.17560 59.98921)  \n3                            None  \n4                            None  \n...                           ...  \n242374                       None  \n242375                       None  \n242376                       None  \n242377                       None  \n242378                       None  \n\n[242379 rows x 23 columns]",
      "text/html": "<div>\n<style scoped>\n    .dataframe tbody tr th:only-of-type {\n        vertical-align: middle;\n    }\n\n    .dataframe tbody tr th {\n        vertical-align: top;\n    }\n\n    .dataframe thead th {\n        text-align: right;\n    }\n</style>\n<table border=\"1\" class=\"dataframe\">\n  <thead>\n    <tr style=\"text-align: right;\">\n      <th></th>\n      <th>level_0</th>\n      <th>index</th>\n      <th>date</th>\n      <th>id</th>\n      <th>text</th>\n      <th>views.count</th>\n      <th>likes.count</th>\n      <th>reposts.count</th>\n      <th>type</th>\n      <th>link</th>\n      <th>...</th>\n      <th>Score</th>\n      <th>Numbers</th>\n      <th>initial_street</th>\n      <th>Toponims</th>\n      <th>full_street_name</th>\n      <th>location_options</th>\n      <th>addr_to_geocode</th>\n      <th>only_full_street_name</th>\n      <th>Location</th>\n      <th>geometry</th>\n    </tr>\n  </thead>\n  <tbody>\n    <tr>\n      <th>0</th>\n      <td>0</td>\n      <td>0.0</td>\n      <td>2024-03-27 09:00:01</td>\n      <td>232611.0</td>\n      <td>РАБОТА в г. СЕСТРОРЕЦКЕООО “Вириал” (машиностр...</td>\n      <td>260.0</td>\n      <td>0.0</td>\n      <td>0.0</td>\n      <td>post</td>\n      <td>https://clck.ru/34cGGQ#работавсестрорецке</td>\n      <td>...</td>\n      <td>0.998</td>\n      <td></td>\n      <td>Воскова</td>\n      <td>улица</td>\n      <td>улица Воскова  Санкт-Петербург Россия</td>\n      <td>['улица Воскова  Санкт-Петербург Россия']</td>\n      <td>улица Воскова  Санкт-Петербург Россия</td>\n      <td>улица Воскова</td>\n      <td>улица Воскова, Петроградская сторона, Введенск...</td>\n      <td>POINT (30.30505 59.95767)</td>\n    </tr>\n    <tr>\n      <th>1</th>\n      <td>3</td>\n      <td>3.0</td>\n      <td>2024-03-27 07:49:22</td>\n      <td>232605.0</td>\n      <td>Утро туманное, утро седое</td>\n      <td>676.0</td>\n      <td>4.0</td>\n      <td>0.0</td>\n      <td>post</td>\n      <td>NaN</td>\n      <td>...</td>\n      <td>NaN</td>\n      <td></td>\n      <td>None</td>\n      <td>None</td>\n      <td></td>\n      <td>['']</td>\n      <td></td>\n      <td></td>\n      <td>None</td>\n      <td>None</td>\n    </tr>\n    <tr>\n      <th>2</th>\n      <td>8</td>\n      <td>8.0</td>\n      <td>2024-03-26 12:34:40</td>\n      <td>232565.0</td>\n      <td>Местная администрация города Сестрорецка уведо...</td>\n      <td>2390.0</td>\n      <td>13.0</td>\n      <td>9.0</td>\n      <td>post</td>\n      <td>NaN</td>\n      <td>...</td>\n      <td>0.996</td>\n      <td></td>\n      <td>Приморское</td>\n      <td>None</td>\n      <td>Приморское шоссе  Санкт-Петербург Россия</td>\n      <td>['Приморское шоссе  Санкт-Петербург Россия']</td>\n      <td>Приморское шоссе  Санкт-Петербург Россия</td>\n      <td>Приморское шоссе</td>\n      <td>Приморское шоссе, Лахта, округ Лахта-Ольгино, ...</td>\n      <td>POINT (30.17560 59.98921)</td>\n    </tr>\n    <tr>\n      <th>3</th>\n      <td>9</td>\n      <td>9.0</td>\n      <td>2024-03-26 12:08:51</td>\n      <td>232564.0</td>\n      <td>ВНИМАНИЕ! ПОМОГИТЕ НАЙТИ ПОДРОСТКА! Максимальн...</td>\n      <td>2640.0</td>\n      <td>22.0</td>\n      <td>9.0</td>\n      <td>post</td>\n      <td>NaN</td>\n      <td>...</td>\n      <td>NaN</td>\n      <td></td>\n      <td>None</td>\n      <td>None</td>\n      <td></td>\n      <td>['']</td>\n      <td></td>\n      <td></td>\n      <td>None</td>\n      <td>None</td>\n    </tr>\n    <tr>\n      <th>4</th>\n      <td>12</td>\n      <td>12.0</td>\n      <td>2024-03-25 13:57:46</td>\n      <td>232514.0</td>\n      <td>Фотофакт</td>\n      <td>2379.0</td>\n      <td>18.0</td>\n      <td>2.0</td>\n      <td>post</td>\n      <td>NaN</td>\n      <td>...</td>\n      <td>NaN</td>\n      <td></td>\n      <td>None</td>\n      <td>None</td>\n      <td></td>\n      <td>['']</td>\n      <td></td>\n      <td></td>\n      <td>None</td>\n      <td>None</td>\n    </tr>\n    <tr>\n      <th>...</th>\n      <td>...</td>\n      <td>...</td>\n      <td>...</td>\n      <td>...</td>\n      <td>...</td>\n      <td>...</td>\n      <td>...</td>\n      <td>...</td>\n      <td>...</td>\n      <td>...</td>\n      <td>...</td>\n      <td>...</td>\n      <td>...</td>\n      <td>...</td>\n      <td>...</td>\n      <td>...</td>\n      <td>...</td>\n      <td>...</td>\n      <td>...</td>\n      <td>...</td>\n      <td>...</td>\n    </tr>\n    <tr>\n      <th>242374</th>\n      <td>270744</td>\n      <td>NaN</td>\n      <td>NaN</td>\n      <td>NaN</td>\n      <td>], не переживайте,кормим его очень хорошо., у ...</td>\n      <td>NaN</td>\n      <td>NaN</td>\n      <td>NaN</td>\n      <td>NaN</td>\n      <td>NaN</td>\n      <td>...</td>\n      <td>NaN</td>\n      <td></td>\n      <td>None</td>\n      <td>None</td>\n      <td></td>\n      <td>['']</td>\n      <td></td>\n      <td></td>\n      <td>None</td>\n      <td>None</td>\n    </tr>\n    <tr>\n      <th>242375</th>\n      <td>270745</td>\n      <td>NaN</td>\n      <td>NaN</td>\n      <td>NaN</td>\n      <td>У них дворников нет у этой УК, т. е нет дворни...</td>\n      <td>NaN</td>\n      <td>NaN</td>\n      <td>NaN</td>\n      <td>NaN</td>\n      <td>NaN</td>\n      <td>...</td>\n      <td>NaN</td>\n      <td></td>\n      <td>None</td>\n      <td>None</td>\n      <td></td>\n      <td>['']</td>\n      <td></td>\n      <td></td>\n      <td>None</td>\n      <td>None</td>\n    </tr>\n    <tr>\n      <th>242376</th>\n      <td>270746</td>\n      <td>NaN</td>\n      <td>NaN</td>\n      <td>NaN</td>\n      <td>], когда? На прошлой неделе еще был</td>\n      <td>NaN</td>\n      <td>NaN</td>\n      <td>NaN</td>\n      <td>NaN</td>\n      <td>NaN</td>\n      <td>...</td>\n      <td>NaN</td>\n      <td></td>\n      <td>None</td>\n      <td>None</td>\n      <td></td>\n      <td>['']</td>\n      <td></td>\n      <td></td>\n      <td>None</td>\n      <td>None</td>\n    </tr>\n    <tr>\n      <th>242377</th>\n      <td>270747</td>\n      <td>NaN</td>\n      <td>NaN</td>\n      <td>NaN</td>\n      <td>Спасибо за размещение</td>\n      <td>NaN</td>\n      <td>NaN</td>\n      <td>NaN</td>\n      <td>NaN</td>\n      <td>NaN</td>\n      <td>...</td>\n      <td>NaN</td>\n      <td></td>\n      <td>None</td>\n      <td>None</td>\n      <td></td>\n      <td>['']</td>\n      <td></td>\n      <td></td>\n      <td>None</td>\n      <td>None</td>\n    </tr>\n    <tr>\n      <th>242378</th>\n      <td>270750</td>\n      <td>NaN</td>\n      <td>NaN</td>\n      <td>NaN</td>\n      <td>None</td>\n      <td>NaN</td>\n      <td>NaN</td>\n      <td>NaN</td>\n      <td>NaN</td>\n      <td>NaN</td>\n      <td>...</td>\n      <td>NaN</td>\n      <td></td>\n      <td>None</td>\n      <td>None</td>\n      <td></td>\n      <td>['']</td>\n      <td></td>\n      <td></td>\n      <td>None</td>\n      <td>None</td>\n    </tr>\n  </tbody>\n</table>\n<p>242379 rows × 23 columns</p>\n</div>"
     },
     "execution_count": 108,
     "metadata": {},
     "output_type": "execute_result"
    }
   ],
   "source": [
    "df_from_geo = pd.DataFrame(gdf)\n",
    "df_from_geo = df_from_geo.reset_index()\n",
    "df_from_geo"
   ],
   "metadata": {
    "collapsed": false
   }
  },
  {
   "cell_type": "code",
   "execution_count": 109,
   "outputs": [
    {
     "data": {
      "text/plain": "  0%|          | 0/242379 [00:00<?, ?it/s]",
      "application/vnd.jupyter.widget-view+json": {
       "version_major": 2,
       "version_minor": 0,
       "model_id": "f6ba4f4c8c234819a27e80e848ae4011"
      }
     },
     "metadata": {},
     "output_type": "display_data"
    },
    {
     "name": "stderr",
     "output_type": "stream",
     "text": [
      "C:\\Users\\thebe\\AppData\\Local\\Temp\\ipykernel_14156\\3820647194.py:3: SettingWithCopyWarning: \n",
      "A value is trying to be set on a copy of a slice from a DataFrame\n",
      "\n",
      "See the caveats in the documentation: https://pandas.pydata.org/pandas-docs/stable/user_guide/indexing.html#returning-a-view-versus-a-copy\n",
      "  gdf.at[i, 'only_full_street_name'] = None\n"
     ]
    }
   ],
   "source": [
    "for i in tqdm(range(len(df_from_geo))):\n",
    "    if gdf.only_full_street_name.iloc[i] == '':\n",
    "        gdf.at[i, 'only_full_street_name'] = None\n"
   ],
   "metadata": {
    "collapsed": false
   }
  },
  {
   "cell_type": "code",
   "execution_count": 114,
   "outputs": [],
   "source": [
    "df_from_geo['only_full_street_name'] = df_from_geo['only_full_street_name'].replace('', None)\n",
    "df_from_geo.only_full_street_name.iloc[1]"
   ],
   "metadata": {
    "collapsed": false
   }
  },
  {
   "cell_type": "code",
   "execution_count": 117,
   "outputs": [
    {
     "name": "stdout",
     "output_type": "stream",
     "text": [
      "242379\n",
      "35235\n"
     ]
    }
   ],
   "source": [
    "print(len(df_from_geo))\n",
    "df_from_geo = df_from_geo.dropna(subset='only_full_street_name')\n",
    "print(len(df_from_geo))"
   ],
   "metadata": {
    "collapsed": false
   }
  },
  {
   "cell_type": "code",
   "execution_count": 138,
   "outputs": [],
   "source": [
    "df_from_geo = df_from_geo.reset_index()"
   ],
   "metadata": {
    "collapsed": false
   }
  },
  {
   "cell_type": "code",
   "execution_count": 140,
   "outputs": [],
   "source": [
    "df_from_geo = df_from_geo.drop(columns='index')"
   ],
   "metadata": {
    "collapsed": false
   }
  },
  {
   "cell_type": "code",
   "execution_count": 118,
   "outputs": [
    {
     "data": {
      "text/plain": "False"
     },
     "execution_count": 118,
     "metadata": {},
     "output_type": "execute_result"
    }
   ],
   "source": [
    "gdf.only_full_street_name.iloc[1] == ''"
   ],
   "metadata": {
    "collapsed": false
   }
  },
  {
   "cell_type": "code",
   "execution_count": 102,
   "outputs": [
    {
     "data": {
      "text/plain": "96301"
     },
     "execution_count": 102,
     "metadata": {},
     "output_type": "execute_result"
    }
   ],
   "source": [
    "len(gdf)"
   ],
   "metadata": {
    "collapsed": false
   }
  },
  {
   "cell_type": "code",
   "execution_count": 141,
   "outputs": [],
   "source": [
    "percent = 10 # целое число от 0 до 100\n",
    "\n",
    "num_to_extract = len(df_from_geo) * percent//100 # всего будет извлечено строк"
   ],
   "metadata": {
    "collapsed": false
   }
  },
  {
   "cell_type": "code",
   "execution_count": 142,
   "outputs": [
    {
     "data": {
      "text/plain": "3523"
     },
     "execution_count": 142,
     "metadata": {},
     "output_type": "execute_result"
    }
   ],
   "source": [
    "num_to_extract"
   ],
   "metadata": {
    "collapsed": false
   }
  },
  {
   "cell_type": "code",
   "execution_count": 143,
   "outputs": [],
   "source": [
    "posts = gdf.loc[gdf['type'] == 'post']"
   ],
   "metadata": {
    "collapsed": false
   }
  },
  {
   "cell_type": "code",
   "execution_count": 144,
   "outputs": [],
   "source": [
    "posts = posts.reset_index()"
   ],
   "metadata": {
    "collapsed": false
   }
  },
  {
   "cell_type": "code",
   "execution_count": 145,
   "outputs": [],
   "source": [
    "post_indexes_to_check = []\n",
    "\n",
    "while len(post_indexes_to_check) < num_to_extract//2:\n",
    "  index = random.randint(0, len(posts))\n",
    "  if index not in post_indexes_to_check:\n",
    "    post_indexes_to_check.append(index)"
   ],
   "metadata": {
    "collapsed": false
   }
  },
  {
   "cell_type": "code",
   "execution_count": 146,
   "outputs": [],
   "source": [
    "comments = gdf.loc[gdf['type'] != 'post']"
   ],
   "metadata": {
    "collapsed": false
   }
  },
  {
   "cell_type": "code",
   "execution_count": 147,
   "outputs": [],
   "source": [
    "comments = comments.reset_index()"
   ],
   "metadata": {
    "collapsed": false
   }
  },
  {
   "cell_type": "code",
   "execution_count": 148,
   "outputs": [],
   "source": [
    "comment_indexes_to_check = []\n",
    "\n",
    "while len(comment_indexes_to_check) < num_to_extract//2:\n",
    "  index = random.randint(0, len(posts))\n",
    "  if index not in comment_indexes_to_check:\n",
    "    comment_indexes_to_check.append(index)"
   ],
   "metadata": {
    "collapsed": false
   }
  },
  {
   "cell_type": "code",
   "execution_count": 149,
   "outputs": [],
   "source": [
    "indexes_to_check = post_indexes_to_check + comment_indexes_to_check"
   ],
   "metadata": {
    "collapsed": false
   }
  },
  {
   "cell_type": "code",
   "execution_count": 150,
   "outputs": [
    {
     "data": {
      "text/plain": "3522"
     },
     "execution_count": 150,
     "metadata": {},
     "output_type": "execute_result"
    }
   ],
   "source": [
    "len(indexes_to_check)"
   ],
   "metadata": {
    "collapsed": false
   }
  },
  {
   "cell_type": "markdown",
   "source": [
    "Выделяем нужные столбцы"
   ],
   "metadata": {
    "collapsed": false
   }
  },
  {
   "cell_type": "code",
   "execution_count": 136,
   "outputs": [],
   "source": [
    "df_from_geo = df_from_geo.drop(columns=['index', 'level_0'])"
   ],
   "metadata": {
    "collapsed": false
   }
  },
  {
   "cell_type": "code",
   "execution_count": 151,
   "outputs": [
    {
     "data": {
      "text/plain": "                      date        id  \\\n0      2024-03-27 09:00:01  232611.0   \n1      2024-03-26 12:34:40  232565.0   \n2      2024-03-23 22:46:36  232462.0   \n3      2024-03-22 13:14:07  232246.0   \n4      2024-03-22 11:12:20  232240.0   \n...                    ...       ...   \n35230                  NaN       NaN   \n35231                  NaN       NaN   \n35232                  NaN       NaN   \n35233                  NaN       NaN   \n35234                  NaN       NaN   \n\n                                                    text  views.count  \\\n0      РАБОТА в г. СЕСТРОРЕЦКЕООО “Вириал” (машиностр...        260.0   \n1      Местная администрация города Сестрорецка уведо...       2390.0   \n2      Здравствуйте. Есть корм для рыбок Петушков в в...       4543.0   \n3      Белая туча заволокла Сестрорецк. Туча сползла ...       6671.0   \n4      ПОИСК РОДСТВЕННИКОВ. Здравствуйте. Ищу потомко...       2925.0   \n...                                                  ...          ...   \n35230  То есть колдобины от ЖД моста до Энергетиков н...          NaN   \n35231  То есть колдобины от ЖД моста до Энергетиков н...          NaN   \n35232  То есть колдобины от ЖД моста до Энергетиков н...          NaN   \n35233  ], у этого вопроса есть предыстория:\\n[id42808...          NaN   \n35234  На Холмистой 49 51 пришёл серый 🐈‍⬛ кот ищут х...          NaN   \n\n       likes.count  reposts.count  type  \\\n0              0.0            0.0  post   \n1             13.0            9.0  post   \n2              6.0            1.0  post   \n3             36.0            5.0  post   \n4              7.0            1.0  post   \n...            ...            ...   ...   \n35230          NaN            NaN   NaN   \n35231          NaN            NaN   NaN   \n35232          NaN            NaN   NaN   \n35233          NaN            NaN   NaN   \n35234          NaN            NaN   NaN   \n\n                                            link  post_id parents_stack  ...  \\\n0      https://clck.ru/34cGGQ#работавсестрорецке      NaN           NaN  ...   \n1                                            NaN      NaN           NaN  ...   \n2                                            NaN      NaN           NaN  ...   \n3                                            NaN      NaN           NaN  ...   \n4                                            NaN      NaN           NaN  ...   \n...                                          ...      ...           ...  ...   \n35230                                        NaN      NaN           NaN  ...   \n35231                                        NaN      NaN           NaN  ...   \n35232                                        NaN      NaN           NaN  ...   \n35233                                        NaN      NaN           NaN  ...   \n35234                                        NaN      NaN           NaN  ...   \n\n       Score  Numbers initial_street Toponims  \\\n0      0.998                 Воскова    улица   \n1      0.996              Приморское     None   \n2        NaN                 Воскова     None   \n3      0.972       5а        Воскова     None   \n4      0.998      322     Приморское     None   \n...      ...      ...            ...      ...   \n35230  0.939             Энергетиков     None   \n35231  0.939             Энергетиков     None   \n35232  0.939             Энергетиков     None   \n35233    NaN              Новостроек     None   \n35234  0.985       49      Холмистой     None   \n\n                                        full_street_name  \\\n0                  улица Воскова  Санкт-Петербург Россия   \n1               Приморское шоссе  Санкт-Петербург Россия   \n2                  улица Воскова  Санкт-Петербург Россия   \n3                улица Воскова 5а Санкт-Петербург Россия   \n4            Приморское шоссе 322 Санкт-Петербург Россия   \n...                                                  ...   \n35230  проспект Энергетиков  Санкт-Петербург Россия,м...   \n35231  проспект Энергетиков  Санкт-Петербург Россия,м...   \n35232  проспект Энергетиков  Санкт-Петербург Россия,м...   \n35233           улица Новостроек  Санкт-Петербург Россия   \n35234          Холмистая улица 49 Санкт-Петербург Россия   \n\n                                        location_options  \\\n0              ['улица Воскова  Санкт-Петербург Россия']   \n1           ['Приморское шоссе  Санкт-Петербург Россия']   \n2              ['улица Воскова  Санкт-Петербург Россия']   \n3            ['улица Воскова 5а Санкт-Петербург Россия']   \n4        ['Приморское шоссе 322 Санкт-Петербург Россия']   \n...                                                  ...   \n35230  ['проспект Энергетиков  Санкт-Петербург Россия...   \n35231  ['проспект Энергетиков  Санкт-Петербург Россия...   \n35232  ['проспект Энергетиков  Санкт-Петербург Россия...   \n35233       ['улица Новостроек  Санкт-Петербург Россия']   \n35234      ['Холмистая улица 49 Санкт-Петербург Россия']   \n\n                                    addr_to_geocode only_full_street_name  \\\n0             улица Воскова  Санкт-Петербург Россия         улица Воскова   \n1          Приморское шоссе  Санкт-Петербург Россия      Приморское шоссе   \n2             улица Воскова  Санкт-Петербург Россия         улица Воскова   \n3           улица Воскова 5а Санкт-Петербург Россия         улица Воскова   \n4       Приморское шоссе 322 Санкт-Петербург Россия      Приморское шоссе   \n...                                             ...                   ...   \n35230  проспект Энергетиков  Санкт-Петербург Россия      мост Энергетиков   \n35231      мост Энергетиков  Санкт-Петербург Россия  проспект Энергетиков   \n35232      мост Энергетиков  Санкт-Петербург Россия      мост Энергетиков   \n35233      улица Новостроек  Санкт-Петербург Россия      улица Новостроек   \n35234     Холмистая улица 49 Санкт-Петербург Россия       Холмистая улица   \n\n                                                Location  \\\n0      улица Воскова, Петроградская сторона, Введенск...   \n1      Приморское шоссе, Лахта, округ Лахта-Ольгино, ...   \n2      улица Воскова, Петроградская сторона, Введенск...   \n3      улица Воскова, Петроградская сторона, Введенск...   \n4      322, Приморское шоссе, Разлив, Сестрорецк, Сан...   \n...                                                  ...   \n35230  проспект Энергетиков, округ Полюстрово, Санкт-...   \n35231  мост Энергетиков, Яблоновка, округ Малая Охта,...   \n35232  мост Энергетиков, Яблоновка, округ Малая Охта,...   \n35233  улица Новостроек, Автово, округ Автово, Санкт-...   \n35234  49, Холмистая улица, Каупилово, Лисий Нос, Сан...   \n\n                        geometry  \n0      POINT (30.30505 59.95767)  \n1      POINT (30.17560 59.98921)  \n2      POINT (30.30505 59.95767)  \n3      POINT (30.30505 59.95767)  \n4      POINT (29.97837 60.09920)  \n...                          ...  \n35230  POINT (30.43714 59.97155)  \n35231  POINT (30.43541 59.93633)  \n35232  POINT (30.43541 59.93633)  \n35233  POINT (30.26071 59.87681)  \n35234  POINT (30.00115 60.02294)  \n\n[35235 rows x 21 columns]",
      "text/html": "<div>\n<style scoped>\n    .dataframe tbody tr th:only-of-type {\n        vertical-align: middle;\n    }\n\n    .dataframe tbody tr th {\n        vertical-align: top;\n    }\n\n    .dataframe thead th {\n        text-align: right;\n    }\n</style>\n<table border=\"1\" class=\"dataframe\">\n  <thead>\n    <tr style=\"text-align: right;\">\n      <th></th>\n      <th>date</th>\n      <th>id</th>\n      <th>text</th>\n      <th>views.count</th>\n      <th>likes.count</th>\n      <th>reposts.count</th>\n      <th>type</th>\n      <th>link</th>\n      <th>post_id</th>\n      <th>parents_stack</th>\n      <th>...</th>\n      <th>Score</th>\n      <th>Numbers</th>\n      <th>initial_street</th>\n      <th>Toponims</th>\n      <th>full_street_name</th>\n      <th>location_options</th>\n      <th>addr_to_geocode</th>\n      <th>only_full_street_name</th>\n      <th>Location</th>\n      <th>geometry</th>\n    </tr>\n  </thead>\n  <tbody>\n    <tr>\n      <th>0</th>\n      <td>2024-03-27 09:00:01</td>\n      <td>232611.0</td>\n      <td>РАБОТА в г. СЕСТРОРЕЦКЕООО “Вириал” (машиностр...</td>\n      <td>260.0</td>\n      <td>0.0</td>\n      <td>0.0</td>\n      <td>post</td>\n      <td>https://clck.ru/34cGGQ#работавсестрорецке</td>\n      <td>NaN</td>\n      <td>NaN</td>\n      <td>...</td>\n      <td>0.998</td>\n      <td></td>\n      <td>Воскова</td>\n      <td>улица</td>\n      <td>улица Воскова  Санкт-Петербург Россия</td>\n      <td>['улица Воскова  Санкт-Петербург Россия']</td>\n      <td>улица Воскова  Санкт-Петербург Россия</td>\n      <td>улица Воскова</td>\n      <td>улица Воскова, Петроградская сторона, Введенск...</td>\n      <td>POINT (30.30505 59.95767)</td>\n    </tr>\n    <tr>\n      <th>1</th>\n      <td>2024-03-26 12:34:40</td>\n      <td>232565.0</td>\n      <td>Местная администрация города Сестрорецка уведо...</td>\n      <td>2390.0</td>\n      <td>13.0</td>\n      <td>9.0</td>\n      <td>post</td>\n      <td>NaN</td>\n      <td>NaN</td>\n      <td>NaN</td>\n      <td>...</td>\n      <td>0.996</td>\n      <td></td>\n      <td>Приморское</td>\n      <td>None</td>\n      <td>Приморское шоссе  Санкт-Петербург Россия</td>\n      <td>['Приморское шоссе  Санкт-Петербург Россия']</td>\n      <td>Приморское шоссе  Санкт-Петербург Россия</td>\n      <td>Приморское шоссе</td>\n      <td>Приморское шоссе, Лахта, округ Лахта-Ольгино, ...</td>\n      <td>POINT (30.17560 59.98921)</td>\n    </tr>\n    <tr>\n      <th>2</th>\n      <td>2024-03-23 22:46:36</td>\n      <td>232462.0</td>\n      <td>Здравствуйте. Есть корм для рыбок Петушков в в...</td>\n      <td>4543.0</td>\n      <td>6.0</td>\n      <td>1.0</td>\n      <td>post</td>\n      <td>NaN</td>\n      <td>NaN</td>\n      <td>NaN</td>\n      <td>...</td>\n      <td>NaN</td>\n      <td></td>\n      <td>Воскова</td>\n      <td>None</td>\n      <td>улица Воскова  Санкт-Петербург Россия</td>\n      <td>['улица Воскова  Санкт-Петербург Россия']</td>\n      <td>улица Воскова  Санкт-Петербург Россия</td>\n      <td>улица Воскова</td>\n      <td>улица Воскова, Петроградская сторона, Введенск...</td>\n      <td>POINT (30.30505 59.95767)</td>\n    </tr>\n    <tr>\n      <th>3</th>\n      <td>2024-03-22 13:14:07</td>\n      <td>232246.0</td>\n      <td>Белая туча заволокла Сестрорецк. Туча сползла ...</td>\n      <td>6671.0</td>\n      <td>36.0</td>\n      <td>5.0</td>\n      <td>post</td>\n      <td>NaN</td>\n      <td>NaN</td>\n      <td>NaN</td>\n      <td>...</td>\n      <td>0.972</td>\n      <td>5а</td>\n      <td>Воскова</td>\n      <td>None</td>\n      <td>улица Воскова 5а Санкт-Петербург Россия</td>\n      <td>['улица Воскова 5а Санкт-Петербург Россия']</td>\n      <td>улица Воскова 5а Санкт-Петербург Россия</td>\n      <td>улица Воскова</td>\n      <td>улица Воскова, Петроградская сторона, Введенск...</td>\n      <td>POINT (30.30505 59.95767)</td>\n    </tr>\n    <tr>\n      <th>4</th>\n      <td>2024-03-22 11:12:20</td>\n      <td>232240.0</td>\n      <td>ПОИСК РОДСТВЕННИКОВ. Здравствуйте. Ищу потомко...</td>\n      <td>2925.0</td>\n      <td>7.0</td>\n      <td>1.0</td>\n      <td>post</td>\n      <td>NaN</td>\n      <td>NaN</td>\n      <td>NaN</td>\n      <td>...</td>\n      <td>0.998</td>\n      <td>322</td>\n      <td>Приморское</td>\n      <td>None</td>\n      <td>Приморское шоссе 322 Санкт-Петербург Россия</td>\n      <td>['Приморское шоссе 322 Санкт-Петербург Россия']</td>\n      <td>Приморское шоссе 322 Санкт-Петербург Россия</td>\n      <td>Приморское шоссе</td>\n      <td>322, Приморское шоссе, Разлив, Сестрорецк, Сан...</td>\n      <td>POINT (29.97837 60.09920)</td>\n    </tr>\n    <tr>\n      <th>...</th>\n      <td>...</td>\n      <td>...</td>\n      <td>...</td>\n      <td>...</td>\n      <td>...</td>\n      <td>...</td>\n      <td>...</td>\n      <td>...</td>\n      <td>...</td>\n      <td>...</td>\n      <td>...</td>\n      <td>...</td>\n      <td>...</td>\n      <td>...</td>\n      <td>...</td>\n      <td>...</td>\n      <td>...</td>\n      <td>...</td>\n      <td>...</td>\n      <td>...</td>\n      <td>...</td>\n    </tr>\n    <tr>\n      <th>35230</th>\n      <td>NaN</td>\n      <td>NaN</td>\n      <td>То есть колдобины от ЖД моста до Энергетиков н...</td>\n      <td>NaN</td>\n      <td>NaN</td>\n      <td>NaN</td>\n      <td>NaN</td>\n      <td>NaN</td>\n      <td>NaN</td>\n      <td>NaN</td>\n      <td>...</td>\n      <td>0.939</td>\n      <td></td>\n      <td>Энергетиков</td>\n      <td>None</td>\n      <td>проспект Энергетиков  Санкт-Петербург Россия,м...</td>\n      <td>['проспект Энергетиков  Санкт-Петербург Россия...</td>\n      <td>проспект Энергетиков  Санкт-Петербург Россия</td>\n      <td>мост Энергетиков</td>\n      <td>проспект Энергетиков, округ Полюстрово, Санкт-...</td>\n      <td>POINT (30.43714 59.97155)</td>\n    </tr>\n    <tr>\n      <th>35231</th>\n      <td>NaN</td>\n      <td>NaN</td>\n      <td>То есть колдобины от ЖД моста до Энергетиков н...</td>\n      <td>NaN</td>\n      <td>NaN</td>\n      <td>NaN</td>\n      <td>NaN</td>\n      <td>NaN</td>\n      <td>NaN</td>\n      <td>NaN</td>\n      <td>...</td>\n      <td>0.939</td>\n      <td></td>\n      <td>Энергетиков</td>\n      <td>None</td>\n      <td>проспект Энергетиков  Санкт-Петербург Россия,м...</td>\n      <td>['проспект Энергетиков  Санкт-Петербург Россия...</td>\n      <td>мост Энергетиков  Санкт-Петербург Россия</td>\n      <td>проспект Энергетиков</td>\n      <td>мост Энергетиков, Яблоновка, округ Малая Охта,...</td>\n      <td>POINT (30.43541 59.93633)</td>\n    </tr>\n    <tr>\n      <th>35232</th>\n      <td>NaN</td>\n      <td>NaN</td>\n      <td>То есть колдобины от ЖД моста до Энергетиков н...</td>\n      <td>NaN</td>\n      <td>NaN</td>\n      <td>NaN</td>\n      <td>NaN</td>\n      <td>NaN</td>\n      <td>NaN</td>\n      <td>NaN</td>\n      <td>...</td>\n      <td>0.939</td>\n      <td></td>\n      <td>Энергетиков</td>\n      <td>None</td>\n      <td>проспект Энергетиков  Санкт-Петербург Россия,м...</td>\n      <td>['проспект Энергетиков  Санкт-Петербург Россия...</td>\n      <td>мост Энергетиков  Санкт-Петербург Россия</td>\n      <td>мост Энергетиков</td>\n      <td>мост Энергетиков, Яблоновка, округ Малая Охта,...</td>\n      <td>POINT (30.43541 59.93633)</td>\n    </tr>\n    <tr>\n      <th>35233</th>\n      <td>NaN</td>\n      <td>NaN</td>\n      <td>], у этого вопроса есть предыстория:\\n[id42808...</td>\n      <td>NaN</td>\n      <td>NaN</td>\n      <td>NaN</td>\n      <td>NaN</td>\n      <td>NaN</td>\n      <td>NaN</td>\n      <td>NaN</td>\n      <td>...</td>\n      <td>NaN</td>\n      <td></td>\n      <td>Новостроек</td>\n      <td>None</td>\n      <td>улица Новостроек  Санкт-Петербург Россия</td>\n      <td>['улица Новостроек  Санкт-Петербург Россия']</td>\n      <td>улица Новостроек  Санкт-Петербург Россия</td>\n      <td>улица Новостроек</td>\n      <td>улица Новостроек, Автово, округ Автово, Санкт-...</td>\n      <td>POINT (30.26071 59.87681)</td>\n    </tr>\n    <tr>\n      <th>35234</th>\n      <td>NaN</td>\n      <td>NaN</td>\n      <td>На Холмистой 49 51 пришёл серый 🐈‍⬛ кот ищут х...</td>\n      <td>NaN</td>\n      <td>NaN</td>\n      <td>NaN</td>\n      <td>NaN</td>\n      <td>NaN</td>\n      <td>NaN</td>\n      <td>NaN</td>\n      <td>...</td>\n      <td>0.985</td>\n      <td>49</td>\n      <td>Холмистой</td>\n      <td>None</td>\n      <td>Холмистая улица 49 Санкт-Петербург Россия</td>\n      <td>['Холмистая улица 49 Санкт-Петербург Россия']</td>\n      <td>Холмистая улица 49 Санкт-Петербург Россия</td>\n      <td>Холмистая улица</td>\n      <td>49, Холмистая улица, Каупилово, Лисий Нос, Сан...</td>\n      <td>POINT (30.00115 60.02294)</td>\n    </tr>\n  </tbody>\n</table>\n<p>35235 rows × 21 columns</p>\n</div>"
     },
     "execution_count": 151,
     "metadata": {},
     "output_type": "execute_result"
    }
   ],
   "source": [
    "df_from_geo"
   ],
   "metadata": {
    "collapsed": false
   }
  },
  {
   "cell_type": "code",
   "execution_count": 163,
   "outputs": [],
   "source": [
    "gdf = gdf_back_up.copy()"
   ],
   "metadata": {
    "collapsed": false
   }
  },
  {
   "cell_type": "code",
   "execution_count": 167,
   "outputs": [
    {
     "data": {
      "text/plain": "        index                 date        id  \\\n3         3.0  2024-03-27 07:49:22  232605.0   \n9         9.0  2024-03-26 12:08:51  232564.0   \n12       12.0  2024-03-25 13:57:46  232514.0   \n14       14.0  2024-03-24 23:57:45  232501.0   \n15       15.0  2024-03-24 19:00:00  232492.0   \n...       ...                  ...       ...   \n270744    NaN                  NaN       NaN   \n270745    NaN                  NaN       NaN   \n270746    NaN                  NaN       NaN   \n270747    NaN                  NaN       NaN   \n270750    NaN                  NaN       NaN   \n\n                                                     text  views.count  \\\n3                               Утро туманное, утро седое        676.0   \n9       ВНИМАНИЕ! ПОМОГИТЕ НАЙТИ ПОДРОСТКА! Максимальн...       2640.0   \n12                                               Фотофакт       2379.0   \n14      Срочно!Убежала собака в районе улицы первого м...       2580.0   \n15      Вызов нарколог-Сестрорецк.рф на дом! 8(921)900...       1941.0   \n...                                                   ...          ...   \n270744  ], не переживайте,кормим его очень хорошо., у ...          NaN   \n270745  У них дворников нет у этой УК, т. е нет дворни...          NaN   \n270746                ], когда? На прошлой неделе еще был          NaN   \n270747                              Спасибо за размещение          NaN   \n270750                                               None          NaN   \n\n        likes.count  reposts.count  type link  post_id  ... Score Numbers  \\\n3               4.0            0.0  post  NaN      NaN  ...   NaN           \n9              22.0            9.0  post  NaN      NaN  ...   NaN           \n12             18.0            2.0  post  NaN      NaN  ...   NaN           \n14             15.0            1.0  post  NaN      NaN  ...   NaN           \n15              3.0            0.0  post  NaN      NaN  ...   NaN           \n...             ...            ...   ...  ...      ...  ...   ...     ...   \n270744          NaN            NaN   NaN  NaN      NaN  ...   NaN           \n270745          NaN            NaN   NaN  NaN      NaN  ...   NaN           \n270746          NaN            NaN   NaN  NaN      NaN  ...   NaN           \n270747          NaN            NaN   NaN  NaN      NaN  ...   NaN           \n270750          NaN            NaN   NaN  NaN      NaN  ...   NaN           \n\n        initial_street Toponims full_street_name location_options  \\\n3                 None     None                              ['']   \n9                 None     None                              ['']   \n12                None     None                              ['']   \n14                None     None                              ['']   \n15                None     None                              ['']   \n...                ...      ...              ...              ...   \n270744            None     None                              ['']   \n270745            None     None                              ['']   \n270746            None     None                              ['']   \n270747            None     None                              ['']   \n270750            None     None                              ['']   \n\n       addr_to_geocode only_full_street_name Location geometry  \n3                                                None     None  \n9                                                None     None  \n12                                               None     None  \n14                                               None     None  \n15                                               None     None  \n...                ...                   ...      ...      ...  \n270744                                           None     None  \n270745                                           None     None  \n270746                                           None     None  \n270747                                           None     None  \n270750                                           None     None  \n\n[207144 rows x 22 columns]",
      "text/html": "<div>\n<style scoped>\n    .dataframe tbody tr th:only-of-type {\n        vertical-align: middle;\n    }\n\n    .dataframe tbody tr th {\n        vertical-align: top;\n    }\n\n    .dataframe thead th {\n        text-align: right;\n    }\n</style>\n<table border=\"1\" class=\"dataframe\">\n  <thead>\n    <tr style=\"text-align: right;\">\n      <th></th>\n      <th>index</th>\n      <th>date</th>\n      <th>id</th>\n      <th>text</th>\n      <th>views.count</th>\n      <th>likes.count</th>\n      <th>reposts.count</th>\n      <th>type</th>\n      <th>link</th>\n      <th>post_id</th>\n      <th>...</th>\n      <th>Score</th>\n      <th>Numbers</th>\n      <th>initial_street</th>\n      <th>Toponims</th>\n      <th>full_street_name</th>\n      <th>location_options</th>\n      <th>addr_to_geocode</th>\n      <th>only_full_street_name</th>\n      <th>Location</th>\n      <th>geometry</th>\n    </tr>\n  </thead>\n  <tbody>\n    <tr>\n      <th>3</th>\n      <td>3.0</td>\n      <td>2024-03-27 07:49:22</td>\n      <td>232605.0</td>\n      <td>Утро туманное, утро седое</td>\n      <td>676.0</td>\n      <td>4.0</td>\n      <td>0.0</td>\n      <td>post</td>\n      <td>NaN</td>\n      <td>NaN</td>\n      <td>...</td>\n      <td>NaN</td>\n      <td></td>\n      <td>None</td>\n      <td>None</td>\n      <td></td>\n      <td>['']</td>\n      <td></td>\n      <td></td>\n      <td>None</td>\n      <td>None</td>\n    </tr>\n    <tr>\n      <th>9</th>\n      <td>9.0</td>\n      <td>2024-03-26 12:08:51</td>\n      <td>232564.0</td>\n      <td>ВНИМАНИЕ! ПОМОГИТЕ НАЙТИ ПОДРОСТКА! Максимальн...</td>\n      <td>2640.0</td>\n      <td>22.0</td>\n      <td>9.0</td>\n      <td>post</td>\n      <td>NaN</td>\n      <td>NaN</td>\n      <td>...</td>\n      <td>NaN</td>\n      <td></td>\n      <td>None</td>\n      <td>None</td>\n      <td></td>\n      <td>['']</td>\n      <td></td>\n      <td></td>\n      <td>None</td>\n      <td>None</td>\n    </tr>\n    <tr>\n      <th>12</th>\n      <td>12.0</td>\n      <td>2024-03-25 13:57:46</td>\n      <td>232514.0</td>\n      <td>Фотофакт</td>\n      <td>2379.0</td>\n      <td>18.0</td>\n      <td>2.0</td>\n      <td>post</td>\n      <td>NaN</td>\n      <td>NaN</td>\n      <td>...</td>\n      <td>NaN</td>\n      <td></td>\n      <td>None</td>\n      <td>None</td>\n      <td></td>\n      <td>['']</td>\n      <td></td>\n      <td></td>\n      <td>None</td>\n      <td>None</td>\n    </tr>\n    <tr>\n      <th>14</th>\n      <td>14.0</td>\n      <td>2024-03-24 23:57:45</td>\n      <td>232501.0</td>\n      <td>Срочно!Убежала собака в районе улицы первого м...</td>\n      <td>2580.0</td>\n      <td>15.0</td>\n      <td>1.0</td>\n      <td>post</td>\n      <td>NaN</td>\n      <td>NaN</td>\n      <td>...</td>\n      <td>NaN</td>\n      <td></td>\n      <td>None</td>\n      <td>None</td>\n      <td></td>\n      <td>['']</td>\n      <td></td>\n      <td></td>\n      <td>None</td>\n      <td>None</td>\n    </tr>\n    <tr>\n      <th>15</th>\n      <td>15.0</td>\n      <td>2024-03-24 19:00:00</td>\n      <td>232492.0</td>\n      <td>Вызов нарколог-Сестрорецк.рф на дом! 8(921)900...</td>\n      <td>1941.0</td>\n      <td>3.0</td>\n      <td>0.0</td>\n      <td>post</td>\n      <td>NaN</td>\n      <td>NaN</td>\n      <td>...</td>\n      <td>NaN</td>\n      <td></td>\n      <td>None</td>\n      <td>None</td>\n      <td></td>\n      <td>['']</td>\n      <td></td>\n      <td></td>\n      <td>None</td>\n      <td>None</td>\n    </tr>\n    <tr>\n      <th>...</th>\n      <td>...</td>\n      <td>...</td>\n      <td>...</td>\n      <td>...</td>\n      <td>...</td>\n      <td>...</td>\n      <td>...</td>\n      <td>...</td>\n      <td>...</td>\n      <td>...</td>\n      <td>...</td>\n      <td>...</td>\n      <td>...</td>\n      <td>...</td>\n      <td>...</td>\n      <td>...</td>\n      <td>...</td>\n      <td>...</td>\n      <td>...</td>\n      <td>...</td>\n      <td>...</td>\n    </tr>\n    <tr>\n      <th>270744</th>\n      <td>NaN</td>\n      <td>NaN</td>\n      <td>NaN</td>\n      <td>], не переживайте,кормим его очень хорошо., у ...</td>\n      <td>NaN</td>\n      <td>NaN</td>\n      <td>NaN</td>\n      <td>NaN</td>\n      <td>NaN</td>\n      <td>NaN</td>\n      <td>...</td>\n      <td>NaN</td>\n      <td></td>\n      <td>None</td>\n      <td>None</td>\n      <td></td>\n      <td>['']</td>\n      <td></td>\n      <td></td>\n      <td>None</td>\n      <td>None</td>\n    </tr>\n    <tr>\n      <th>270745</th>\n      <td>NaN</td>\n      <td>NaN</td>\n      <td>NaN</td>\n      <td>У них дворников нет у этой УК, т. е нет дворни...</td>\n      <td>NaN</td>\n      <td>NaN</td>\n      <td>NaN</td>\n      <td>NaN</td>\n      <td>NaN</td>\n      <td>NaN</td>\n      <td>...</td>\n      <td>NaN</td>\n      <td></td>\n      <td>None</td>\n      <td>None</td>\n      <td></td>\n      <td>['']</td>\n      <td></td>\n      <td></td>\n      <td>None</td>\n      <td>None</td>\n    </tr>\n    <tr>\n      <th>270746</th>\n      <td>NaN</td>\n      <td>NaN</td>\n      <td>NaN</td>\n      <td>], когда? На прошлой неделе еще был</td>\n      <td>NaN</td>\n      <td>NaN</td>\n      <td>NaN</td>\n      <td>NaN</td>\n      <td>NaN</td>\n      <td>NaN</td>\n      <td>...</td>\n      <td>NaN</td>\n      <td></td>\n      <td>None</td>\n      <td>None</td>\n      <td></td>\n      <td>['']</td>\n      <td></td>\n      <td></td>\n      <td>None</td>\n      <td>None</td>\n    </tr>\n    <tr>\n      <th>270747</th>\n      <td>NaN</td>\n      <td>NaN</td>\n      <td>NaN</td>\n      <td>Спасибо за размещение</td>\n      <td>NaN</td>\n      <td>NaN</td>\n      <td>NaN</td>\n      <td>NaN</td>\n      <td>NaN</td>\n      <td>NaN</td>\n      <td>...</td>\n      <td>NaN</td>\n      <td></td>\n      <td>None</td>\n      <td>None</td>\n      <td></td>\n      <td>['']</td>\n      <td></td>\n      <td></td>\n      <td>None</td>\n      <td>None</td>\n    </tr>\n    <tr>\n      <th>270750</th>\n      <td>NaN</td>\n      <td>NaN</td>\n      <td>NaN</td>\n      <td>None</td>\n      <td>NaN</td>\n      <td>NaN</td>\n      <td>NaN</td>\n      <td>NaN</td>\n      <td>NaN</td>\n      <td>NaN</td>\n      <td>...</td>\n      <td>NaN</td>\n      <td></td>\n      <td>None</td>\n      <td>None</td>\n      <td></td>\n      <td>['']</td>\n      <td></td>\n      <td></td>\n      <td>None</td>\n      <td>None</td>\n    </tr>\n  </tbody>\n</table>\n<p>207144 rows × 22 columns</p>\n</div>"
     },
     "execution_count": 167,
     "metadata": {},
     "output_type": "execute_result"
    }
   ],
   "source": [
    "gdf = gdf.dropna(subset='only_full_street_name')\n",
    "gdf_empty = gdf.loc[gdf['only_full_street_name'] == '']\n",
    "gdf_empty"
   ],
   "metadata": {
    "collapsed": false
   }
  },
  {
   "cell_type": "code",
   "execution_count": 170,
   "outputs": [],
   "source": [
    "empty_indexes = []\n",
    "\n",
    "while len(empty_indexes) < 2000:\n",
    "  index = random.randint(0, len(gdf_empty))\n",
    "  if index not in empty_indexes:\n",
    "    empty_indexes.append(index)"
   ],
   "metadata": {
    "collapsed": false
   }
  },
  {
   "cell_type": "code",
   "execution_count": 171,
   "outputs": [
    {
     "data": {
      "text/plain": "2000"
     },
     "execution_count": 171,
     "metadata": {},
     "output_type": "execute_result"
    }
   ],
   "source": [
    "len(empty_indexes)"
   ],
   "metadata": {
    "collapsed": false
   }
  },
  {
   "cell_type": "code",
   "execution_count": 173,
   "outputs": [],
   "source": [
    "empty_result_df = gdf_empty.iloc[empty_indexes].reset_index()"
   ],
   "metadata": {
    "collapsed": false
   }
  },
  {
   "cell_type": "code",
   "execution_count": 175,
   "outputs": [],
   "source": [
    "empty_result_df = empty_result_df[['id', 'text', 'only_full_street_name']]"
   ],
   "metadata": {
    "collapsed": false
   }
  },
  {
   "cell_type": "code",
   "execution_count": 177,
   "outputs": [
    {
     "name": "stderr",
     "output_type": "stream",
     "text": [
      "C:\\Users\\thebe\\AppData\\Local\\Temp\\ipykernel_14156\\1515476269.py:4: SettingWithCopyWarning: \n",
      "A value is trying to be set on a copy of a slice from a DataFrame.\n",
      "Try using .loc[row_indexer,col_indexer] = value instead\n",
      "\n",
      "See the caveats in the documentation: https://pandas.pydata.org/pandas-docs/stable/user_guide/indexing.html#returning-a-view-versus-a-copy\n",
      "  empty_result_df[i] = None\n",
      "C:\\Users\\thebe\\AppData\\Local\\Temp\\ipykernel_14156\\1515476269.py:4: SettingWithCopyWarning: \n",
      "A value is trying to be set on a copy of a slice from a DataFrame.\n",
      "Try using .loc[row_indexer,col_indexer] = value instead\n",
      "\n",
      "See the caveats in the documentation: https://pandas.pydata.org/pandas-docs/stable/user_guide/indexing.html#returning-a-view-versus-a-copy\n",
      "  empty_result_df[i] = None\n",
      "C:\\Users\\thebe\\AppData\\Local\\Temp\\ipykernel_14156\\1515476269.py:4: SettingWithCopyWarning: \n",
      "A value is trying to be set on a copy of a slice from a DataFrame.\n",
      "Try using .loc[row_indexer,col_indexer] = value instead\n",
      "\n",
      "See the caveats in the documentation: https://pandas.pydata.org/pandas-docs/stable/user_guide/indexing.html#returning-a-view-versus-a-copy\n",
      "  empty_result_df[i] = None\n",
      "C:\\Users\\thebe\\AppData\\Local\\Temp\\ipykernel_14156\\1515476269.py:4: SettingWithCopyWarning: \n",
      "A value is trying to be set on a copy of a slice from a DataFrame.\n",
      "Try using .loc[row_indexer,col_indexer] = value instead\n",
      "\n",
      "See the caveats in the documentation: https://pandas.pydata.org/pandas-docs/stable/user_guide/indexing.html#returning-a-view-versus-a-copy\n",
      "  empty_result_df[i] = None\n"
     ]
    }
   ],
   "source": [
    "columns = ['TP', 'TN', 'FP', 'FN']\n",
    "\n",
    "for i in columns:\n",
    "    empty_result_df[i] = None"
   ],
   "metadata": {
    "collapsed": false
   }
  },
  {
   "cell_type": "code",
   "execution_count": 178,
   "outputs": [
    {
     "data": {
      "text/plain": "             id                                               text  \\\n0       77699.0  ], приходите за сыром☺ ( он типо Адыгейского) ...   \n1     4361369.0  И у аптеки ЛекОптТорг на углу тоже скользко, е...   \n2      263201.0  ], Вы пишете страшные вещи.\\nЕсли для нас - по...   \n3      149422.0  ВНИМАНИЕ! ПОМОГИТЕ НАЙТИ ЧЕЛОВЕКА! Максимальны...   \n4     1604911.0                                        Бородаааааа   \n...         ...                                                ...   \n1995    74742.0  Ребята понимают кто является гарантом их благо...   \n1996  1417044.0                                Да, начальник один.   \n1997    19697.0  И вновь благодарим всех, кто принял участие в ...   \n1998  1594619.0  С дач вернулись пенсионеры скучно сидеть дома,...   \n1999  1376120.0  Респект всем неравнодушным! Добро - самое глав...   \n\n     only_full_street_name    TP    TN    FP    FN  \n0                           None  None  None  None  \n1                           None  None  None  None  \n2                           None  None  None  None  \n3                           None  None  None  None  \n4                           None  None  None  None  \n...                    ...   ...   ...   ...   ...  \n1995                        None  None  None  None  \n1996                        None  None  None  None  \n1997                        None  None  None  None  \n1998                        None  None  None  None  \n1999                        None  None  None  None  \n\n[2000 rows x 7 columns]",
      "text/html": "<div>\n<style scoped>\n    .dataframe tbody tr th:only-of-type {\n        vertical-align: middle;\n    }\n\n    .dataframe tbody tr th {\n        vertical-align: top;\n    }\n\n    .dataframe thead th {\n        text-align: right;\n    }\n</style>\n<table border=\"1\" class=\"dataframe\">\n  <thead>\n    <tr style=\"text-align: right;\">\n      <th></th>\n      <th>id</th>\n      <th>text</th>\n      <th>only_full_street_name</th>\n      <th>TP</th>\n      <th>TN</th>\n      <th>FP</th>\n      <th>FN</th>\n    </tr>\n  </thead>\n  <tbody>\n    <tr>\n      <th>0</th>\n      <td>77699.0</td>\n      <td>], приходите за сыром☺ ( он типо Адыгейского) ...</td>\n      <td></td>\n      <td>None</td>\n      <td>None</td>\n      <td>None</td>\n      <td>None</td>\n    </tr>\n    <tr>\n      <th>1</th>\n      <td>4361369.0</td>\n      <td>И у аптеки ЛекОптТорг на углу тоже скользко, е...</td>\n      <td></td>\n      <td>None</td>\n      <td>None</td>\n      <td>None</td>\n      <td>None</td>\n    </tr>\n    <tr>\n      <th>2</th>\n      <td>263201.0</td>\n      <td>], Вы пишете страшные вещи.\\nЕсли для нас - по...</td>\n      <td></td>\n      <td>None</td>\n      <td>None</td>\n      <td>None</td>\n      <td>None</td>\n    </tr>\n    <tr>\n      <th>3</th>\n      <td>149422.0</td>\n      <td>ВНИМАНИЕ! ПОМОГИТЕ НАЙТИ ЧЕЛОВЕКА! Максимальны...</td>\n      <td></td>\n      <td>None</td>\n      <td>None</td>\n      <td>None</td>\n      <td>None</td>\n    </tr>\n    <tr>\n      <th>4</th>\n      <td>1604911.0</td>\n      <td>Бородаааааа</td>\n      <td></td>\n      <td>None</td>\n      <td>None</td>\n      <td>None</td>\n      <td>None</td>\n    </tr>\n    <tr>\n      <th>...</th>\n      <td>...</td>\n      <td>...</td>\n      <td>...</td>\n      <td>...</td>\n      <td>...</td>\n      <td>...</td>\n      <td>...</td>\n    </tr>\n    <tr>\n      <th>1995</th>\n      <td>74742.0</td>\n      <td>Ребята понимают кто является гарантом их благо...</td>\n      <td></td>\n      <td>None</td>\n      <td>None</td>\n      <td>None</td>\n      <td>None</td>\n    </tr>\n    <tr>\n      <th>1996</th>\n      <td>1417044.0</td>\n      <td>Да, начальник один.</td>\n      <td></td>\n      <td>None</td>\n      <td>None</td>\n      <td>None</td>\n      <td>None</td>\n    </tr>\n    <tr>\n      <th>1997</th>\n      <td>19697.0</td>\n      <td>И вновь благодарим всех, кто принял участие в ...</td>\n      <td></td>\n      <td>None</td>\n      <td>None</td>\n      <td>None</td>\n      <td>None</td>\n    </tr>\n    <tr>\n      <th>1998</th>\n      <td>1594619.0</td>\n      <td>С дач вернулись пенсионеры скучно сидеть дома,...</td>\n      <td></td>\n      <td>None</td>\n      <td>None</td>\n      <td>None</td>\n      <td>None</td>\n    </tr>\n    <tr>\n      <th>1999</th>\n      <td>1376120.0</td>\n      <td>Респект всем неравнодушным! Добро - самое глав...</td>\n      <td></td>\n      <td>None</td>\n      <td>None</td>\n      <td>None</td>\n      <td>None</td>\n    </tr>\n  </tbody>\n</table>\n<p>2000 rows × 7 columns</p>\n</div>"
     },
     "execution_count": 178,
     "metadata": {},
     "output_type": "execute_result"
    }
   ],
   "source": [
    "empty_result_df"
   ],
   "metadata": {
    "collapsed": false
   }
  },
  {
   "cell_type": "code",
   "execution_count": 179,
   "outputs": [],
   "source": [
    "joined_result_df = pd.concat([result_df, empty_result_df])"
   ],
   "metadata": {
    "collapsed": false
   }
  },
  {
   "cell_type": "code",
   "execution_count": 180,
   "outputs": [
    {
     "data": {
      "text/plain": "             id                                               text  \\\n0       78805.0  У нас в Пушкине тоже сегодня игра,к нам ребята...   \n1       64866.0  Здравствуйте!Дорогие соседи,рядом с ТК \"Парнас...   \n2       17764.0  Праздник в кругу семьи! 🎉❄Семья - это крепость...   \n3     4105977.0  Внутреннее кольцо КАД закрывают.Движение от Пр...   \n4     1554859.0  знак весит, на многих весит ограничитель, но п...   \n...         ...                                                ...   \n1995    74742.0  Ребята понимают кто является гарантом их благо...   \n1996  1417044.0                                Да, начальник один.   \n1997    19697.0  И вновь благодарим всех, кто принял участие в ...   \n1998  1594619.0  С дач вернулись пенсионеры скучно сидеть дома,...   \n1999  1376120.0  Респект всем неравнодушным! Добро - самое глав...   \n\n     only_full_street_name    TP    TN    FP    FN  \n0            улица Пушкина  None  None  None  None  \n1         улица Меркурьева  None  None  None  None  \n2         Невский проспект  None  None  None  None  \n3      Приморский проспект  None  None  None  None  \n4           Витебский мост  None  None  None  None  \n...                    ...   ...   ...   ...   ...  \n1995                        None  None  None  None  \n1996                        None  None  None  None  \n1997                        None  None  None  None  \n1998                        None  None  None  None  \n1999                        None  None  None  None  \n\n[5522 rows x 7 columns]",
      "text/html": "<div>\n<style scoped>\n    .dataframe tbody tr th:only-of-type {\n        vertical-align: middle;\n    }\n\n    .dataframe tbody tr th {\n        vertical-align: top;\n    }\n\n    .dataframe thead th {\n        text-align: right;\n    }\n</style>\n<table border=\"1\" class=\"dataframe\">\n  <thead>\n    <tr style=\"text-align: right;\">\n      <th></th>\n      <th>id</th>\n      <th>text</th>\n      <th>only_full_street_name</th>\n      <th>TP</th>\n      <th>TN</th>\n      <th>FP</th>\n      <th>FN</th>\n    </tr>\n  </thead>\n  <tbody>\n    <tr>\n      <th>0</th>\n      <td>78805.0</td>\n      <td>У нас в Пушкине тоже сегодня игра,к нам ребята...</td>\n      <td>улица Пушкина</td>\n      <td>None</td>\n      <td>None</td>\n      <td>None</td>\n      <td>None</td>\n    </tr>\n    <tr>\n      <th>1</th>\n      <td>64866.0</td>\n      <td>Здравствуйте!Дорогие соседи,рядом с ТК \"Парнас...</td>\n      <td>улица Меркурьева</td>\n      <td>None</td>\n      <td>None</td>\n      <td>None</td>\n      <td>None</td>\n    </tr>\n    <tr>\n      <th>2</th>\n      <td>17764.0</td>\n      <td>Праздник в кругу семьи! 🎉❄Семья - это крепость...</td>\n      <td>Невский проспект</td>\n      <td>None</td>\n      <td>None</td>\n      <td>None</td>\n      <td>None</td>\n    </tr>\n    <tr>\n      <th>3</th>\n      <td>4105977.0</td>\n      <td>Внутреннее кольцо КАД закрывают.Движение от Пр...</td>\n      <td>Приморский проспект</td>\n      <td>None</td>\n      <td>None</td>\n      <td>None</td>\n      <td>None</td>\n    </tr>\n    <tr>\n      <th>4</th>\n      <td>1554859.0</td>\n      <td>знак весит, на многих весит ограничитель, но п...</td>\n      <td>Витебский мост</td>\n      <td>None</td>\n      <td>None</td>\n      <td>None</td>\n      <td>None</td>\n    </tr>\n    <tr>\n      <th>...</th>\n      <td>...</td>\n      <td>...</td>\n      <td>...</td>\n      <td>...</td>\n      <td>...</td>\n      <td>...</td>\n      <td>...</td>\n    </tr>\n    <tr>\n      <th>1995</th>\n      <td>74742.0</td>\n      <td>Ребята понимают кто является гарантом их благо...</td>\n      <td></td>\n      <td>None</td>\n      <td>None</td>\n      <td>None</td>\n      <td>None</td>\n    </tr>\n    <tr>\n      <th>1996</th>\n      <td>1417044.0</td>\n      <td>Да, начальник один.</td>\n      <td></td>\n      <td>None</td>\n      <td>None</td>\n      <td>None</td>\n      <td>None</td>\n    </tr>\n    <tr>\n      <th>1997</th>\n      <td>19697.0</td>\n      <td>И вновь благодарим всех, кто принял участие в ...</td>\n      <td></td>\n      <td>None</td>\n      <td>None</td>\n      <td>None</td>\n      <td>None</td>\n    </tr>\n    <tr>\n      <th>1998</th>\n      <td>1594619.0</td>\n      <td>С дач вернулись пенсионеры скучно сидеть дома,...</td>\n      <td></td>\n      <td>None</td>\n      <td>None</td>\n      <td>None</td>\n      <td>None</td>\n    </tr>\n    <tr>\n      <th>1999</th>\n      <td>1376120.0</td>\n      <td>Респект всем неравнодушным! Добро - самое глав...</td>\n      <td></td>\n      <td>None</td>\n      <td>None</td>\n      <td>None</td>\n      <td>None</td>\n    </tr>\n  </tbody>\n</table>\n<p>5522 rows × 7 columns</p>\n</div>"
     },
     "execution_count": 180,
     "metadata": {},
     "output_type": "execute_result"
    }
   ],
   "source": [
    "joined_result_df"
   ],
   "metadata": {
    "collapsed": false
   }
  },
  {
   "cell_type": "code",
   "execution_count": 152,
   "outputs": [],
   "source": [
    "result_df = df_from_geo.iloc[indexes_to_check].reset_index()"
   ],
   "metadata": {
    "collapsed": false
   }
  },
  {
   "cell_type": "code",
   "execution_count": 153,
   "outputs": [],
   "source": [
    "result_df = result_df[['id', 'text', 'only_full_street_name']]"
   ],
   "metadata": {
    "collapsed": false
   }
  },
  {
   "cell_type": "markdown",
   "source": [
    "Добавляем новые колонки и заполняем None"
   ],
   "metadata": {
    "collapsed": false
   }
  },
  {
   "cell_type": "code",
   "execution_count": 154,
   "outputs": [],
   "source": [
    "columns = ['TP', 'TN', 'FP', 'FN']"
   ],
   "metadata": {
    "collapsed": false
   }
  },
  {
   "cell_type": "code",
   "execution_count": 155,
   "outputs": [],
   "source": [
    "for i in columns:\n",
    "    result_df[i] = None"
   ],
   "metadata": {
    "collapsed": false
   }
  },
  {
   "cell_type": "markdown",
   "source": [
    "Проверяем, что получилось"
   ],
   "metadata": {
    "collapsed": false
   }
  },
  {
   "cell_type": "code",
   "execution_count": 156,
   "outputs": [
    {
     "data": {
      "text/plain": "             id                                               text  \\\n0       78805.0  У нас в Пушкине тоже сегодня игра,к нам ребята...   \n1       64866.0  Здравствуйте!Дорогие соседи,рядом с ТК \"Парнас...   \n2       17764.0  Праздник в кругу семьи! 🎉❄Семья - это крепость...   \n3     4105977.0  Внутреннее кольцо КАД закрывают.Движение от Пр...   \n4     1554859.0  знак весит, на многих весит ограничитель, но п...   \n...         ...                                                ...   \n3517   928953.0  ], в Выборгском и я получаю розовую квитанцию…...   \n3518  1672364.0  ], невозможно сожрать ухо без допинга, накачан...   \n3519    19135.0  я отправила  заявку  на указанную почту .  Воп...   \n3520    20233.0  🔔 В марте 2024 года пройдёт 17-й конкурс профе...   \n3521   958666.0  Какой еще вред экологии от пары надписей? По к...   \n\n     only_full_street_name    TP    TN    FP    FN  \n0            улица Пушкина  None  None  None  None  \n1         улица Меркурьева  None  None  None  None  \n2         Невский проспект  None  None  None  None  \n3      Приморский проспект  None  None  None  None  \n4           Витебский мост  None  None  None  None  \n...                    ...   ...   ...   ...   ...  \n3517   Выборгский переулок  None  None  None  None  \n3518         улица Пушкина  None  None  None  None  \n3519        Песочное шоссе  None  None  None  None  \n3520      улица Ломоносова  None  None  None  None  \n3521       путепровод Нева  None  None  None  None  \n\n[3522 rows x 7 columns]",
      "text/html": "<div>\n<style scoped>\n    .dataframe tbody tr th:only-of-type {\n        vertical-align: middle;\n    }\n\n    .dataframe tbody tr th {\n        vertical-align: top;\n    }\n\n    .dataframe thead th {\n        text-align: right;\n    }\n</style>\n<table border=\"1\" class=\"dataframe\">\n  <thead>\n    <tr style=\"text-align: right;\">\n      <th></th>\n      <th>id</th>\n      <th>text</th>\n      <th>only_full_street_name</th>\n      <th>TP</th>\n      <th>TN</th>\n      <th>FP</th>\n      <th>FN</th>\n    </tr>\n  </thead>\n  <tbody>\n    <tr>\n      <th>0</th>\n      <td>78805.0</td>\n      <td>У нас в Пушкине тоже сегодня игра,к нам ребята...</td>\n      <td>улица Пушкина</td>\n      <td>None</td>\n      <td>None</td>\n      <td>None</td>\n      <td>None</td>\n    </tr>\n    <tr>\n      <th>1</th>\n      <td>64866.0</td>\n      <td>Здравствуйте!Дорогие соседи,рядом с ТК \"Парнас...</td>\n      <td>улица Меркурьева</td>\n      <td>None</td>\n      <td>None</td>\n      <td>None</td>\n      <td>None</td>\n    </tr>\n    <tr>\n      <th>2</th>\n      <td>17764.0</td>\n      <td>Праздник в кругу семьи! 🎉❄Семья - это крепость...</td>\n      <td>Невский проспект</td>\n      <td>None</td>\n      <td>None</td>\n      <td>None</td>\n      <td>None</td>\n    </tr>\n    <tr>\n      <th>3</th>\n      <td>4105977.0</td>\n      <td>Внутреннее кольцо КАД закрывают.Движение от Пр...</td>\n      <td>Приморский проспект</td>\n      <td>None</td>\n      <td>None</td>\n      <td>None</td>\n      <td>None</td>\n    </tr>\n    <tr>\n      <th>4</th>\n      <td>1554859.0</td>\n      <td>знак весит, на многих весит ограничитель, но п...</td>\n      <td>Витебский мост</td>\n      <td>None</td>\n      <td>None</td>\n      <td>None</td>\n      <td>None</td>\n    </tr>\n    <tr>\n      <th>...</th>\n      <td>...</td>\n      <td>...</td>\n      <td>...</td>\n      <td>...</td>\n      <td>...</td>\n      <td>...</td>\n      <td>...</td>\n    </tr>\n    <tr>\n      <th>3517</th>\n      <td>928953.0</td>\n      <td>], в Выборгском и я получаю розовую квитанцию…...</td>\n      <td>Выборгский переулок</td>\n      <td>None</td>\n      <td>None</td>\n      <td>None</td>\n      <td>None</td>\n    </tr>\n    <tr>\n      <th>3518</th>\n      <td>1672364.0</td>\n      <td>], невозможно сожрать ухо без допинга, накачан...</td>\n      <td>улица Пушкина</td>\n      <td>None</td>\n      <td>None</td>\n      <td>None</td>\n      <td>None</td>\n    </tr>\n    <tr>\n      <th>3519</th>\n      <td>19135.0</td>\n      <td>я отправила  заявку  на указанную почту .  Воп...</td>\n      <td>Песочное шоссе</td>\n      <td>None</td>\n      <td>None</td>\n      <td>None</td>\n      <td>None</td>\n    </tr>\n    <tr>\n      <th>3520</th>\n      <td>20233.0</td>\n      <td>🔔 В марте 2024 года пройдёт 17-й конкурс профе...</td>\n      <td>улица Ломоносова</td>\n      <td>None</td>\n      <td>None</td>\n      <td>None</td>\n      <td>None</td>\n    </tr>\n    <tr>\n      <th>3521</th>\n      <td>958666.0</td>\n      <td>Какой еще вред экологии от пары надписей? По к...</td>\n      <td>путепровод Нева</td>\n      <td>None</td>\n      <td>None</td>\n      <td>None</td>\n      <td>None</td>\n    </tr>\n  </tbody>\n</table>\n<p>3522 rows × 7 columns</p>\n</div>"
     },
     "execution_count": 156,
     "metadata": {},
     "output_type": "execute_result"
    }
   ],
   "source": [
    "result_df"
   ],
   "metadata": {
    "collapsed": false
   }
  },
  {
   "cell_type": "markdown",
   "source": [
    "Сохранем в файл"
   ],
   "metadata": {
    "collapsed": false
   }
  },
  {
   "cell_type": "code",
   "execution_count": 181,
   "outputs": [],
   "source": [
    "joined_result_df.to_csv('second_table.csv', sep=';', encoding='utf-8')"
   ],
   "metadata": {
    "collapsed": false
   }
  }
 ],
 "metadata": {
  "kernelspec": {
   "display_name": "Python 3",
   "language": "python",
   "name": "python3"
  },
  "language_info": {
   "codemirror_mode": {
    "name": "ipython",
    "version": 2
   },
   "file_extension": ".py",
   "mimetype": "text/x-python",
   "name": "python",
   "nbconvert_exporter": "python",
   "pygments_lexer": "ipython2",
   "version": "2.7.6"
  }
 },
 "nbformat": 4,
 "nbformat_minor": 0
}
