{
 "cells": [
  {
   "cell_type": "code",
   "execution_count": 1,
   "metadata": {
    "collapsed": true
   },
   "outputs": [],
   "source": [
    "import pandas as pd\n",
    "import keybert"
   ]
  },
  {
   "cell_type": "code",
   "execution_count": 10,
   "outputs": [],
   "source": [
    "import warnings\n",
    "\n",
    "warnings.simplefilter(\"ignore\")\n",
    "\n",
    "import os\n",
    "import sys\n",
    "\n",
    "folder = os.getcwd().split(\"\\\\examples\")[0]\n",
    "sys.path.append(folder)\n",
    "\n",
    "from sloyka.src.data_getter import VKParser"
   ],
   "metadata": {
    "collapsed": false
   }
  },
  {
   "cell_type": "code",
   "execution_count": 11,
   "outputs": [],
   "source": [
    "owner_id='-129354225' # группа \"центральный район за комфортную среду обитания\"\n",
    "token='af981bccaf981bccaf981bcc00ac8f3fccaaf98af981bccca2667d92812caf000917163'"
   ],
   "metadata": {
    "collapsed": false
   }
  },
  {
   "cell_type": "code",
   "execution_count": 12,
   "outputs": [
    {
     "name": "stdout",
     "output_type": "stream",
     "text": [
      "2024-02-01 19:30:00\n",
      "posts downloaded\n"
     ]
    }
   ],
   "source": [
    "posts_df = VKParser().run_posts(owner_id, token, 100, \"2024-03-01\")"
   ],
   "metadata": {
    "collapsed": false
   }
  },
  {
   "cell_type": "code",
   "execution_count": 13,
   "outputs": [
    {
     "name": "stdout",
     "output_type": "stream",
     "text": [
      "comments downloaded\n"
     ]
    }
   ],
   "source": [
    "post_ids = posts_df[\"id\"].to_list()\n",
    "comments_df = VKParser().run_comments(owner_id=owner_id, post_ids=post_ids, access_token=token)"
   ],
   "metadata": {
    "collapsed": false
   }
  },
  {
   "cell_type": "code",
   "execution_count": 15,
   "outputs": [
    {
     "name": "stdout",
     "output_type": "stream",
     "text": [
      "2024-02-01 19:30:00\n",
      "posts downloaded\n",
      "comments downloaded\n"
     ]
    }
   ],
   "source": [
    "result_df = VKParser().run_parser(owner_id, token, step=100, cutoff_date='2024-03-20') #объединяем посты и комментарии в один датафрейм"
   ],
   "metadata": {
    "collapsed": false
   }
  },
  {
   "cell_type": "code",
   "execution_count": 16,
   "outputs": [
    {
     "data": {
      "text/plain": "                    date      id  \\\n0    2024-03-21 19:30:00  333766   \n1    2024-03-21 10:30:00  333530   \n2    2024-03-20 19:30:00  333376   \n3    2024-03-20 10:30:00  333265   \n4    2024-03-19 19:30:00  333226   \n..                   ...     ...   \n715  2024-02-07 10:42:30  328420   \n716  2024-02-07 12:57:57  328422   \n717  2024-02-07 14:03:22  328427   \n718  2024-02-07 15:26:01  328438   \n719  2024-02-07 18:56:25  328462   \n\n                                                  text  views.count  \\\n0    В доме на Синопской набережной 32/35 из-за поз...        795.0   \n1    Сделайте сад Сан-Галли безопасным для граждан,...       3527.0   \n2    «Электросамокатная саранча» вновь повылезала н...       9866.0   \n3    Вот и отгуляла широкая Масленица! Наша команда...       4599.0   \n4    На том же месте сквозь года Вот так каланча ве...       4355.0   \n..                                                 ...          ...   \n715  Люди десятилетиями ждут замены лифтов, чтоб он...          NaN   \n716  С вопросом капремонта  лифтов, к сожалению, ст...          NaN   \n717  Думаю что лифты в порядке. Просто их выключили...          NaN   \n718         [id10835085|Андрей], очень даже может быть          NaN   \n719  С лифтами ныне у многих проблемы. У меня в дом...          NaN   \n\n     likes.count  reposts.count     type  \\\n0             28            8.0     post   \n1            126           23.0     post   \n2            188           24.0     post   \n3             54            8.0     post   \n4             51           11.0     post   \n..           ...            ...      ...   \n715            2            NaN  comment   \n716            4            NaN  comment   \n717            1            NaN  comment   \n718            1            NaN    reply   \n719            0            NaN  comment   \n\n                                                  link   post_id parents_stack  \n0                                                  NaN       NaN           NaN  \n1                                                  NaN       NaN           NaN  \n2                                                  NaN       NaN           NaN  \n3           https://vk.com/wall-129354225_332885|ярко,       NaN           NaN  \n4    https://vk.com/wall-129354225_325408|уплотните...       NaN           NaN  \n..                                                 ...       ...           ...  \n715                                                NaN  328388.0            []  \n716                                                NaN  328388.0            []  \n717                                                NaN  328388.0            []  \n718                                                NaN  328388.0      [328427]  \n719                                                NaN  328388.0            []  \n\n[720 rows x 10 columns]",
      "text/html": "<div>\n<style scoped>\n    .dataframe tbody tr th:only-of-type {\n        vertical-align: middle;\n    }\n\n    .dataframe tbody tr th {\n        vertical-align: top;\n    }\n\n    .dataframe thead th {\n        text-align: right;\n    }\n</style>\n<table border=\"1\" class=\"dataframe\">\n  <thead>\n    <tr style=\"text-align: right;\">\n      <th></th>\n      <th>date</th>\n      <th>id</th>\n      <th>text</th>\n      <th>views.count</th>\n      <th>likes.count</th>\n      <th>reposts.count</th>\n      <th>type</th>\n      <th>link</th>\n      <th>post_id</th>\n      <th>parents_stack</th>\n    </tr>\n  </thead>\n  <tbody>\n    <tr>\n      <th>0</th>\n      <td>2024-03-21 19:30:00</td>\n      <td>333766</td>\n      <td>В доме на Синопской набережной 32/35 из-за поз...</td>\n      <td>795.0</td>\n      <td>28</td>\n      <td>8.0</td>\n      <td>post</td>\n      <td>NaN</td>\n      <td>NaN</td>\n      <td>NaN</td>\n    </tr>\n    <tr>\n      <th>1</th>\n      <td>2024-03-21 10:30:00</td>\n      <td>333530</td>\n      <td>Сделайте сад Сан-Галли безопасным для граждан,...</td>\n      <td>3527.0</td>\n      <td>126</td>\n      <td>23.0</td>\n      <td>post</td>\n      <td>NaN</td>\n      <td>NaN</td>\n      <td>NaN</td>\n    </tr>\n    <tr>\n      <th>2</th>\n      <td>2024-03-20 19:30:00</td>\n      <td>333376</td>\n      <td>«Электросамокатная саранча» вновь повылезала н...</td>\n      <td>9866.0</td>\n      <td>188</td>\n      <td>24.0</td>\n      <td>post</td>\n      <td>NaN</td>\n      <td>NaN</td>\n      <td>NaN</td>\n    </tr>\n    <tr>\n      <th>3</th>\n      <td>2024-03-20 10:30:00</td>\n      <td>333265</td>\n      <td>Вот и отгуляла широкая Масленица! Наша команда...</td>\n      <td>4599.0</td>\n      <td>54</td>\n      <td>8.0</td>\n      <td>post</td>\n      <td>https://vk.com/wall-129354225_332885|ярко,</td>\n      <td>NaN</td>\n      <td>NaN</td>\n    </tr>\n    <tr>\n      <th>4</th>\n      <td>2024-03-19 19:30:00</td>\n      <td>333226</td>\n      <td>На том же месте сквозь года Вот так каланча ве...</td>\n      <td>4355.0</td>\n      <td>51</td>\n      <td>11.0</td>\n      <td>post</td>\n      <td>https://vk.com/wall-129354225_325408|уплотните...</td>\n      <td>NaN</td>\n      <td>NaN</td>\n    </tr>\n    <tr>\n      <th>...</th>\n      <td>...</td>\n      <td>...</td>\n      <td>...</td>\n      <td>...</td>\n      <td>...</td>\n      <td>...</td>\n      <td>...</td>\n      <td>...</td>\n      <td>...</td>\n      <td>...</td>\n    </tr>\n    <tr>\n      <th>715</th>\n      <td>2024-02-07 10:42:30</td>\n      <td>328420</td>\n      <td>Люди десятилетиями ждут замены лифтов, чтоб он...</td>\n      <td>NaN</td>\n      <td>2</td>\n      <td>NaN</td>\n      <td>comment</td>\n      <td>NaN</td>\n      <td>328388.0</td>\n      <td>[]</td>\n    </tr>\n    <tr>\n      <th>716</th>\n      <td>2024-02-07 12:57:57</td>\n      <td>328422</td>\n      <td>С вопросом капремонта  лифтов, к сожалению, ст...</td>\n      <td>NaN</td>\n      <td>4</td>\n      <td>NaN</td>\n      <td>comment</td>\n      <td>NaN</td>\n      <td>328388.0</td>\n      <td>[]</td>\n    </tr>\n    <tr>\n      <th>717</th>\n      <td>2024-02-07 14:03:22</td>\n      <td>328427</td>\n      <td>Думаю что лифты в порядке. Просто их выключили...</td>\n      <td>NaN</td>\n      <td>1</td>\n      <td>NaN</td>\n      <td>comment</td>\n      <td>NaN</td>\n      <td>328388.0</td>\n      <td>[]</td>\n    </tr>\n    <tr>\n      <th>718</th>\n      <td>2024-02-07 15:26:01</td>\n      <td>328438</td>\n      <td>[id10835085|Андрей], очень даже может быть</td>\n      <td>NaN</td>\n      <td>1</td>\n      <td>NaN</td>\n      <td>reply</td>\n      <td>NaN</td>\n      <td>328388.0</td>\n      <td>[328427]</td>\n    </tr>\n    <tr>\n      <th>719</th>\n      <td>2024-02-07 18:56:25</td>\n      <td>328462</td>\n      <td>С лифтами ныне у многих проблемы. У меня в дом...</td>\n      <td>NaN</td>\n      <td>0</td>\n      <td>NaN</td>\n      <td>comment</td>\n      <td>NaN</td>\n      <td>328388.0</td>\n      <td>[]</td>\n    </tr>\n  </tbody>\n</table>\n<p>720 rows × 10 columns</p>\n</div>"
     },
     "execution_count": 16,
     "metadata": {},
     "output_type": "execute_result"
    }
   ],
   "source": [
    "result_df"
   ],
   "metadata": {
    "collapsed": false
   }
  },
  {
   "cell_type": "code",
   "execution_count": 17,
   "outputs": [],
   "source": [
    "result_df.to_csv(\"C:\\\\Users\\\\thebe\\\\Downloads\\\\ruina.csv\")"
   ],
   "metadata": {
    "collapsed": false
   }
  },
  {
   "cell_type": "code",
   "execution_count": 153,
   "outputs": [],
   "source": [
    "df_from_csv = pd.read_csv(\"C:\\\\Users\\\\thebe\\\\Downloads\\\\ruina.csv\")"
   ],
   "metadata": {
    "collapsed": false
   }
  },
  {
   "cell_type": "code",
   "execution_count": 154,
   "outputs": [
    {
     "name": "stdout",
     "output_type": "stream",
     "text": [
      "2024-03-22 14:11:45,652 SequenceTagger predicts: Dictionary with 5 tags: O, S-ADDRESS, B-ADDRESS, E-ADDRESS, I-ADDRESS\n",
      "\u001B[32m03-22 14:12\u001B[0m | \u001B[1mINFO    \u001B[0m | \u001B[36mclear_names started\u001B[0m\n",
      "\u001B[32m03-22 14:12\u001B[0m | \u001B[1mINFO    \u001B[0m | \u001B[36mget_street started\u001B[0m\n",
      "\u001B[32m03-22 14:12\u001B[0m | \u001B[1mINFO    \u001B[0m | \u001B[36mextract_ner_street started\u001B[0m\n"
     ]
    },
    {
     "name": "stderr",
     "output_type": "stream",
     "text": [
      "100%|██████████| 720/720 [00:06<00:00, 105.55it/s]\n",
      "100%|██████████| 720/720 [00:04<00:00, 169.52it/s]"
     ]
    },
    {
     "name": "stdout",
     "output_type": "stream",
     "text": [
      "\u001B[32m03-22 14:12\u001B[0m | \u001B[1mINFO    \u001B[0m | \u001B[36mpattern1.sub started\u001B[0m\n"
     ]
    },
    {
     "name": "stderr",
     "output_type": "stream",
     "text": [
      "\n",
      "100%|██████████| 720/720 [00:00<00:00, 719537.50it/s]"
     ]
    },
    {
     "name": "stdout",
     "output_type": "stream",
     "text": [
      "\u001B[32m03-22 14:12\u001B[0m | \u001B[1mINFO    \u001B[0m | \u001B[36mpattern2.findall started\u001B[0m\n"
     ]
    },
    {
     "name": "stderr",
     "output_type": "stream",
     "text": [
      "\n",
      "100%|██████████| 720/720 [00:00<00:00, 723675.74it/s]"
     ]
    },
    {
     "name": "stdout",
     "output_type": "stream",
     "text": [
      "\u001B[32m03-22 14:12\u001B[0m | \u001B[1mINFO    \u001B[0m | \u001B[36mpattern2.sub started\u001B[0m\n"
     ]
    },
    {
     "name": "stderr",
     "output_type": "stream",
     "text": [
      "\n",
      "100%|██████████| 720/720 [00:00<00:00, 718681.31it/s]"
     ]
    },
    {
     "name": "stdout",
     "output_type": "stream",
     "text": [
      "\u001B[32m03-22 14:12\u001B[0m | \u001B[1mINFO    \u001B[0m | \u001B[36mextract_building_num started\u001B[0m\n"
     ]
    },
    {
     "name": "stderr",
     "output_type": "stream",
     "text": [
      "\n",
      "100%|██████████| 720/720 [00:00<00:00, 36892.37it/s]"
     ]
    },
    {
     "name": "stdout",
     "output_type": "stream",
     "text": [
      "\u001B[32m03-22 14:12\u001B[0m | \u001B[1mINFO    \u001B[0m | \u001B[36mextract_toponym started\u001B[0m\n"
     ]
    },
    {
     "name": "stderr",
     "output_type": "stream",
     "text": [
      "\n",
      "100%|██████████| 720/720 [00:00<00:00, 4140.13it/s]"
     ]
    },
    {
     "name": "stdout",
     "output_type": "stream",
     "text": [
      "\u001B[32m03-22 14:12\u001B[0m | \u001B[1mINFO    \u001B[0m | \u001B[36mget_stem started\u001B[0m\n"
     ]
    },
    {
     "name": "stderr",
     "output_type": "stream",
     "text": [
      "\n"
     ]
    },
    {
     "ename": "ValueError",
     "evalue": "Unable to fill values because RangeIndex cannot contain NA",
     "output_type": "error",
     "traceback": [
      "\u001B[1;31m---------------------------------------------------------------------------\u001B[0m",
      "\u001B[1;31mValueError\u001B[0m                                Traceback (most recent call last)",
      "Cell \u001B[1;32mIn[154], line 5\u001B[0m\n\u001B[0;32m      1\u001B[0m \u001B[38;5;28;01mfrom\u001B[39;00m \u001B[38;5;21;01mgeocoder\u001B[39;00m \u001B[38;5;28;01mimport\u001B[39;00m Geocoder\n\u001B[0;32m      3\u001B[0m g \u001B[38;5;241m=\u001B[39m Geocoder(device\u001B[38;5;241m=\u001B[39m\u001B[38;5;124m'\u001B[39m\u001B[38;5;124mcuda\u001B[39m\u001B[38;5;124m'\u001B[39m)\n\u001B[1;32m----> 5\u001B[0m gdf \u001B[38;5;241m=\u001B[39m \u001B[43mg\u001B[49m\u001B[38;5;241;43m.\u001B[39;49m\u001B[43mrun\u001B[49m\u001B[43m(\u001B[49m\u001B[43mdf_from_csv\u001B[49m\u001B[43m,\u001B[49m\u001B[43m \u001B[49m\u001B[38;5;124;43m'\u001B[39;49m\u001B[38;5;124;43mtext\u001B[39;49m\u001B[38;5;124;43m'\u001B[39;49m\u001B[43m)\u001B[49m\n",
      "File \u001B[1;32mI:\\sloyka\\sloyka\\src\\geocoder.py:740\u001B[0m, in \u001B[0;36mGeocoder.run\u001B[1;34m(self, df, text_column)\u001B[0m\n\u001B[0;32m    738\u001B[0m df \u001B[38;5;241m=\u001B[39m \u001B[38;5;28mself\u001B[39m\u001B[38;5;241m.\u001B[39mget_street(df, text_column)\n\u001B[0;32m    739\u001B[0m street_names \u001B[38;5;241m=\u001B[39m \u001B[38;5;28mself\u001B[39m\u001B[38;5;241m.\u001B[39mget_stem(street_names)\n\u001B[1;32m--> 740\u001B[0m df \u001B[38;5;241m=\u001B[39m \u001B[38;5;28;43mself\u001B[39;49m\u001B[38;5;241;43m.\u001B[39;49m\u001B[43mfind_word_form\u001B[49m\u001B[43m(\u001B[49m\u001B[43mdf\u001B[49m\u001B[43m,\u001B[49m\u001B[43m \u001B[49m\u001B[43mstreet_names\u001B[49m\u001B[43m)\u001B[49m\n\u001B[0;32m    741\u001B[0m gdf \u001B[38;5;241m=\u001B[39m \u001B[38;5;28mself\u001B[39m\u001B[38;5;241m.\u001B[39mcreate_gdf(df)\n\u001B[0;32m    742\u001B[0m \u001B[38;5;66;03m# gdf2 = self.merge_to_initial_df(gdf, initial_df)\u001B[39;00m\n\u001B[0;32m    743\u001B[0m \n\u001B[0;32m    744\u001B[0m \u001B[38;5;66;03m# # Add a new 'level' column using the get_level function\u001B[39;00m\n\u001B[0;32m    745\u001B[0m \u001B[38;5;66;03m# gdf2[\"level\"] = gdf2.progress_apply(self.get_level, axis=1)\u001B[39;00m\n\u001B[0;32m    746\u001B[0m \u001B[38;5;66;03m# gdf2 = self.set_global_repr_point(gdf2)\u001B[39;00m\n",
      "File \u001B[1;32mI:\\sloyka\\sloyka\\src\\geocoder.py:561\u001B[0m, in \u001B[0;36mGeocoder.find_word_form\u001B[1;34m(self, df, strts_df)\u001B[0m\n\u001B[0;32m    558\u001B[0m new_df \u001B[38;5;241m=\u001B[39m tmp_df_1\u001B[38;5;241m.\u001B[39mto_frame()\u001B[38;5;241m.\u001B[39mjoin(tmp_df_2\u001B[38;5;241m.\u001B[39mto_frame()) \n\u001B[0;32m    560\u001B[0m df\u001B[38;5;241m.\u001B[39mdrop(columns\u001B[38;5;241m=\u001B[39m[\u001B[38;5;124m'\u001B[39m\u001B[38;5;124monly_full_street_name\u001B[39m\u001B[38;5;124m'\u001B[39m], inplace\u001B[38;5;241m=\u001B[39m\u001B[38;5;28;01mTrue\u001B[39;00m)\n\u001B[1;32m--> 561\u001B[0m df \u001B[38;5;241m=\u001B[39m \u001B[43mdf\u001B[49m\u001B[38;5;241;43m.\u001B[39;49m\u001B[43mmerge\u001B[49m\u001B[43m(\u001B[49m\u001B[43mnew_df\u001B[49m\u001B[43m,\u001B[49m\u001B[43m \u001B[49m\u001B[43mleft_on\u001B[49m\u001B[38;5;241;43m=\u001B[39;49m\u001B[43mdf\u001B[49m\u001B[38;5;241;43m.\u001B[39;49m\u001B[43mindex\u001B[49m\u001B[43m,\u001B[49m\u001B[43m \u001B[49m\u001B[43mright_on\u001B[49m\u001B[38;5;241;43m=\u001B[39;49m\u001B[43mnew_df\u001B[49m\u001B[38;5;241;43m.\u001B[39;49m\u001B[43mindex\u001B[49m\u001B[43m)\u001B[49m\n\u001B[0;32m    562\u001B[0m df\u001B[38;5;241m.\u001B[39mdrop(columns\u001B[38;5;241m=\u001B[39m[\u001B[38;5;124m'\u001B[39m\u001B[38;5;124mkey_0\u001B[39m\u001B[38;5;124m'\u001B[39m], inplace\u001B[38;5;241m=\u001B[39m\u001B[38;5;28;01mTrue\u001B[39;00m)\n\u001B[0;32m    564\u001B[0m \u001B[38;5;66;03m# new_df = df[\"only_full_street_name\"].explode()\u001B[39;00m\n\u001B[0;32m    565\u001B[0m \u001B[38;5;66;03m# new_df.name = \"only_full_street_name\"\u001B[39;00m\n\u001B[0;32m    566\u001B[0m \u001B[38;5;66;03m# df.drop(columns=['key_0', 'only_full_street_name'], inplace=True)\u001B[39;00m\n\u001B[0;32m    567\u001B[0m \u001B[38;5;66;03m# df = df.merge(new_df, left_on=df.index, right_on=new_df.index)\u001B[39;00m\n\u001B[0;32m    568\u001B[0m \n\u001B[0;32m    569\u001B[0m \u001B[38;5;66;03m# print(df.head())\u001B[39;00m\n",
      "File \u001B[1;32mI:\\sloyka\\venv\\lib\\site-packages\\pandas\\core\\frame.py:10819\u001B[0m, in \u001B[0;36mDataFrame.merge\u001B[1;34m(self, right, how, on, left_on, right_on, left_index, right_index, sort, suffixes, copy, indicator, validate)\u001B[0m\n\u001B[0;32m  10800\u001B[0m \u001B[38;5;129m@Substitution\u001B[39m(\u001B[38;5;124m\"\u001B[39m\u001B[38;5;124m\"\u001B[39m)\n\u001B[0;32m  10801\u001B[0m \u001B[38;5;129m@Appender\u001B[39m(_merge_doc, indents\u001B[38;5;241m=\u001B[39m\u001B[38;5;241m2\u001B[39m)\n\u001B[0;32m  10802\u001B[0m \u001B[38;5;28;01mdef\u001B[39;00m \u001B[38;5;21mmerge\u001B[39m(\n\u001B[1;32m   (...)\u001B[0m\n\u001B[0;32m  10815\u001B[0m     validate: MergeValidate \u001B[38;5;241m|\u001B[39m \u001B[38;5;28;01mNone\u001B[39;00m \u001B[38;5;241m=\u001B[39m \u001B[38;5;28;01mNone\u001B[39;00m,\n\u001B[0;32m  10816\u001B[0m ) \u001B[38;5;241m-\u001B[39m\u001B[38;5;241m>\u001B[39m DataFrame:\n\u001B[0;32m  10817\u001B[0m     \u001B[38;5;28;01mfrom\u001B[39;00m \u001B[38;5;21;01mpandas\u001B[39;00m\u001B[38;5;21;01m.\u001B[39;00m\u001B[38;5;21;01mcore\u001B[39;00m\u001B[38;5;21;01m.\u001B[39;00m\u001B[38;5;21;01mreshape\u001B[39;00m\u001B[38;5;21;01m.\u001B[39;00m\u001B[38;5;21;01mmerge\u001B[39;00m \u001B[38;5;28;01mimport\u001B[39;00m merge\n\u001B[1;32m> 10819\u001B[0m     \u001B[38;5;28;01mreturn\u001B[39;00m \u001B[43mmerge\u001B[49m\u001B[43m(\u001B[49m\n\u001B[0;32m  10820\u001B[0m \u001B[43m        \u001B[49m\u001B[38;5;28;43mself\u001B[39;49m\u001B[43m,\u001B[49m\n\u001B[0;32m  10821\u001B[0m \u001B[43m        \u001B[49m\u001B[43mright\u001B[49m\u001B[43m,\u001B[49m\n\u001B[0;32m  10822\u001B[0m \u001B[43m        \u001B[49m\u001B[43mhow\u001B[49m\u001B[38;5;241;43m=\u001B[39;49m\u001B[43mhow\u001B[49m\u001B[43m,\u001B[49m\n\u001B[0;32m  10823\u001B[0m \u001B[43m        \u001B[49m\u001B[43mon\u001B[49m\u001B[38;5;241;43m=\u001B[39;49m\u001B[43mon\u001B[49m\u001B[43m,\u001B[49m\n\u001B[0;32m  10824\u001B[0m \u001B[43m        \u001B[49m\u001B[43mleft_on\u001B[49m\u001B[38;5;241;43m=\u001B[39;49m\u001B[43mleft_on\u001B[49m\u001B[43m,\u001B[49m\n\u001B[0;32m  10825\u001B[0m \u001B[43m        \u001B[49m\u001B[43mright_on\u001B[49m\u001B[38;5;241;43m=\u001B[39;49m\u001B[43mright_on\u001B[49m\u001B[43m,\u001B[49m\n\u001B[0;32m  10826\u001B[0m \u001B[43m        \u001B[49m\u001B[43mleft_index\u001B[49m\u001B[38;5;241;43m=\u001B[39;49m\u001B[43mleft_index\u001B[49m\u001B[43m,\u001B[49m\n\u001B[0;32m  10827\u001B[0m \u001B[43m        \u001B[49m\u001B[43mright_index\u001B[49m\u001B[38;5;241;43m=\u001B[39;49m\u001B[43mright_index\u001B[49m\u001B[43m,\u001B[49m\n\u001B[0;32m  10828\u001B[0m \u001B[43m        \u001B[49m\u001B[43msort\u001B[49m\u001B[38;5;241;43m=\u001B[39;49m\u001B[43msort\u001B[49m\u001B[43m,\u001B[49m\n\u001B[0;32m  10829\u001B[0m \u001B[43m        \u001B[49m\u001B[43msuffixes\u001B[49m\u001B[38;5;241;43m=\u001B[39;49m\u001B[43msuffixes\u001B[49m\u001B[43m,\u001B[49m\n\u001B[0;32m  10830\u001B[0m \u001B[43m        \u001B[49m\u001B[43mcopy\u001B[49m\u001B[38;5;241;43m=\u001B[39;49m\u001B[43mcopy\u001B[49m\u001B[43m,\u001B[49m\n\u001B[0;32m  10831\u001B[0m \u001B[43m        \u001B[49m\u001B[43mindicator\u001B[49m\u001B[38;5;241;43m=\u001B[39;49m\u001B[43mindicator\u001B[49m\u001B[43m,\u001B[49m\n\u001B[0;32m  10832\u001B[0m \u001B[43m        \u001B[49m\u001B[43mvalidate\u001B[49m\u001B[38;5;241;43m=\u001B[39;49m\u001B[43mvalidate\u001B[49m\u001B[43m,\u001B[49m\n\u001B[0;32m  10833\u001B[0m \u001B[43m    \u001B[49m\u001B[43m)\u001B[49m\n",
      "File \u001B[1;32mI:\\sloyka\\venv\\lib\\site-packages\\pandas\\core\\reshape\\merge.py:184\u001B[0m, in \u001B[0;36mmerge\u001B[1;34m(left, right, how, on, left_on, right_on, left_index, right_index, sort, suffixes, copy, indicator, validate)\u001B[0m\n\u001B[0;32m    169\u001B[0m \u001B[38;5;28;01melse\u001B[39;00m:\n\u001B[0;32m    170\u001B[0m     op \u001B[38;5;241m=\u001B[39m _MergeOperation(\n\u001B[0;32m    171\u001B[0m         left_df,\n\u001B[0;32m    172\u001B[0m         right_df,\n\u001B[1;32m   (...)\u001B[0m\n\u001B[0;32m    182\u001B[0m         validate\u001B[38;5;241m=\u001B[39mvalidate,\n\u001B[0;32m    183\u001B[0m     )\n\u001B[1;32m--> 184\u001B[0m     \u001B[38;5;28;01mreturn\u001B[39;00m \u001B[43mop\u001B[49m\u001B[38;5;241;43m.\u001B[39;49m\u001B[43mget_result\u001B[49m\u001B[43m(\u001B[49m\u001B[43mcopy\u001B[49m\u001B[38;5;241;43m=\u001B[39;49m\u001B[43mcopy\u001B[49m\u001B[43m)\u001B[49m\n",
      "File \u001B[1;32mI:\\sloyka\\venv\\lib\\site-packages\\pandas\\core\\reshape\\merge.py:896\u001B[0m, in \u001B[0;36m_MergeOperation.get_result\u001B[1;34m(self, copy)\u001B[0m\n\u001B[0;32m    893\u001B[0m \u001B[38;5;28;01mif\u001B[39;00m \u001B[38;5;28mself\u001B[39m\u001B[38;5;241m.\u001B[39mindicator:\n\u001B[0;32m    894\u001B[0m     result \u001B[38;5;241m=\u001B[39m \u001B[38;5;28mself\u001B[39m\u001B[38;5;241m.\u001B[39m_indicator_post_merge(result)\n\u001B[1;32m--> 896\u001B[0m \u001B[38;5;28;43mself\u001B[39;49m\u001B[38;5;241;43m.\u001B[39;49m\u001B[43m_maybe_add_join_keys\u001B[49m\u001B[43m(\u001B[49m\u001B[43mresult\u001B[49m\u001B[43m,\u001B[49m\u001B[43m \u001B[49m\u001B[43mleft_indexer\u001B[49m\u001B[43m,\u001B[49m\u001B[43m \u001B[49m\u001B[43mright_indexer\u001B[49m\u001B[43m)\u001B[49m\n\u001B[0;32m    898\u001B[0m \u001B[38;5;28mself\u001B[39m\u001B[38;5;241m.\u001B[39m_maybe_restore_index_levels(result)\n\u001B[0;32m    900\u001B[0m \u001B[38;5;28;01mreturn\u001B[39;00m result\u001B[38;5;241m.\u001B[39m__finalize__(\u001B[38;5;28mself\u001B[39m, method\u001B[38;5;241m=\u001B[39m\u001B[38;5;124m\"\u001B[39m\u001B[38;5;124mmerge\u001B[39m\u001B[38;5;124m\"\u001B[39m)\n",
      "File \u001B[1;32mI:\\sloyka\\venv\\lib\\site-packages\\pandas\\core\\reshape\\merge.py:1064\u001B[0m, in \u001B[0;36m_MergeOperation._maybe_add_join_keys\u001B[1;34m(self, result, left_indexer, right_indexer)\u001B[0m\n\u001B[0;32m   1062\u001B[0m     take_left \u001B[38;5;241m=\u001B[39m extract_array(take_left, extract_numpy\u001B[38;5;241m=\u001B[39m\u001B[38;5;28;01mTrue\u001B[39;00m)\n\u001B[0;32m   1063\u001B[0m     lfill \u001B[38;5;241m=\u001B[39m na_value_for_dtype(take_left\u001B[38;5;241m.\u001B[39mdtype)\n\u001B[1;32m-> 1064\u001B[0m     lvals \u001B[38;5;241m=\u001B[39m \u001B[43malgos\u001B[49m\u001B[38;5;241;43m.\u001B[39;49m\u001B[43mtake_nd\u001B[49m\u001B[43m(\u001B[49m\u001B[43mtake_left\u001B[49m\u001B[43m,\u001B[49m\u001B[43m \u001B[49m\u001B[43mleft_indexer\u001B[49m\u001B[43m,\u001B[49m\u001B[43m \u001B[49m\u001B[43mfill_value\u001B[49m\u001B[38;5;241;43m=\u001B[39;49m\u001B[43mlfill\u001B[49m\u001B[43m)\u001B[49m\n\u001B[0;32m   1066\u001B[0m \u001B[38;5;28;01mif\u001B[39;00m take_right \u001B[38;5;129;01mis\u001B[39;00m \u001B[38;5;28;01mNone\u001B[39;00m:\n\u001B[0;32m   1067\u001B[0m     rvals \u001B[38;5;241m=\u001B[39m result[name]\u001B[38;5;241m.\u001B[39m_values\n",
      "File \u001B[1;32mI:\\sloyka\\venv\\lib\\site-packages\\pandas\\core\\array_algos\\take.py:110\u001B[0m, in \u001B[0;36mtake_nd\u001B[1;34m(arr, indexer, axis, fill_value, allow_fill)\u001B[0m\n\u001B[0;32m    107\u001B[0m     \u001B[38;5;28;01mif\u001B[39;00m \u001B[38;5;129;01mnot\u001B[39;00m is_1d_only_ea_dtype(arr\u001B[38;5;241m.\u001B[39mdtype):\n\u001B[0;32m    108\u001B[0m         \u001B[38;5;66;03m# i.e. DatetimeArray, TimedeltaArray\u001B[39;00m\n\u001B[0;32m    109\u001B[0m         arr \u001B[38;5;241m=\u001B[39m cast(\u001B[38;5;124m\"\u001B[39m\u001B[38;5;124mNDArrayBackedExtensionArray\u001B[39m\u001B[38;5;124m\"\u001B[39m, arr)\n\u001B[1;32m--> 110\u001B[0m         \u001B[38;5;28;01mreturn\u001B[39;00m \u001B[43marr\u001B[49m\u001B[38;5;241;43m.\u001B[39;49m\u001B[43mtake\u001B[49m\u001B[43m(\u001B[49m\n\u001B[0;32m    111\u001B[0m \u001B[43m            \u001B[49m\u001B[43mindexer\u001B[49m\u001B[43m,\u001B[49m\u001B[43m \u001B[49m\u001B[43mfill_value\u001B[49m\u001B[38;5;241;43m=\u001B[39;49m\u001B[43mfill_value\u001B[49m\u001B[43m,\u001B[49m\u001B[43m \u001B[49m\u001B[43mallow_fill\u001B[49m\u001B[38;5;241;43m=\u001B[39;49m\u001B[43mallow_fill\u001B[49m\u001B[43m,\u001B[49m\u001B[43m \u001B[49m\u001B[43maxis\u001B[49m\u001B[38;5;241;43m=\u001B[39;49m\u001B[43maxis\u001B[49m\n\u001B[0;32m    112\u001B[0m \u001B[43m        \u001B[49m\u001B[43m)\u001B[49m\n\u001B[0;32m    114\u001B[0m     \u001B[38;5;28;01mreturn\u001B[39;00m arr\u001B[38;5;241m.\u001B[39mtake(indexer, fill_value\u001B[38;5;241m=\u001B[39mfill_value, allow_fill\u001B[38;5;241m=\u001B[39mallow_fill)\n\u001B[0;32m    116\u001B[0m arr \u001B[38;5;241m=\u001B[39m np\u001B[38;5;241m.\u001B[39masarray(arr)\n",
      "File \u001B[1;32mI:\\sloyka\\venv\\lib\\site-packages\\pandas\\core\\indexes\\range.py:1163\u001B[0m, in \u001B[0;36mRangeIndex.take\u001B[1;34m(self, indices, axis, allow_fill, fill_value, **kwargs)\u001B[0m\n\u001B[0;32m   1160\u001B[0m indices \u001B[38;5;241m=\u001B[39m ensure_platform_int(indices)\n\u001B[0;32m   1162\u001B[0m \u001B[38;5;66;03m# raise an exception if allow_fill is True and fill_value is not None\u001B[39;00m\n\u001B[1;32m-> 1163\u001B[0m \u001B[38;5;28;43mself\u001B[39;49m\u001B[38;5;241;43m.\u001B[39;49m\u001B[43m_maybe_disallow_fill\u001B[49m\u001B[43m(\u001B[49m\u001B[43mallow_fill\u001B[49m\u001B[43m,\u001B[49m\u001B[43m \u001B[49m\u001B[43mfill_value\u001B[49m\u001B[43m,\u001B[49m\u001B[43m \u001B[49m\u001B[43mindices\u001B[49m\u001B[43m)\u001B[49m\n\u001B[0;32m   1165\u001B[0m \u001B[38;5;28;01mif\u001B[39;00m \u001B[38;5;28mlen\u001B[39m(indices) \u001B[38;5;241m==\u001B[39m \u001B[38;5;241m0\u001B[39m:\n\u001B[0;32m   1166\u001B[0m     taken \u001B[38;5;241m=\u001B[39m np\u001B[38;5;241m.\u001B[39marray([], dtype\u001B[38;5;241m=\u001B[39m\u001B[38;5;28mself\u001B[39m\u001B[38;5;241m.\u001B[39mdtype)\n",
      "File \u001B[1;32mI:\\sloyka\\venv\\lib\\site-packages\\pandas\\core\\indexes\\base.py:1192\u001B[0m, in \u001B[0;36mIndex._maybe_disallow_fill\u001B[1;34m(self, allow_fill, fill_value, indices)\u001B[0m\n\u001B[0;32m   1190\u001B[0m     \u001B[38;5;28;01melse\u001B[39;00m:\n\u001B[0;32m   1191\u001B[0m         cls_name \u001B[38;5;241m=\u001B[39m \u001B[38;5;28mtype\u001B[39m(\u001B[38;5;28mself\u001B[39m)\u001B[38;5;241m.\u001B[39m\u001B[38;5;18m__name__\u001B[39m\n\u001B[1;32m-> 1192\u001B[0m         \u001B[38;5;28;01mraise\u001B[39;00m \u001B[38;5;167;01mValueError\u001B[39;00m(\n\u001B[0;32m   1193\u001B[0m             \u001B[38;5;124mf\u001B[39m\u001B[38;5;124m\"\u001B[39m\u001B[38;5;124mUnable to fill values because \u001B[39m\u001B[38;5;132;01m{\u001B[39;00mcls_name\u001B[38;5;132;01m}\u001B[39;00m\u001B[38;5;124m cannot contain NA\u001B[39m\u001B[38;5;124m\"\u001B[39m\n\u001B[0;32m   1194\u001B[0m         )\n\u001B[0;32m   1195\u001B[0m \u001B[38;5;28;01melse\u001B[39;00m:\n\u001B[0;32m   1196\u001B[0m     allow_fill \u001B[38;5;241m=\u001B[39m \u001B[38;5;28;01mFalse\u001B[39;00m\n",
      "\u001B[1;31mValueError\u001B[0m: Unable to fill values because RangeIndex cannot contain NA"
     ]
    }
   ],
   "source": [
    "from geocoder import Geocoder\n",
    "\n",
    "g = Geocoder(device='cuda')\n",
    "\n",
    "gdf = g.run(df_from_csv, 'text')"
   ],
   "metadata": {
    "collapsed": false
   }
  },
  {
   "cell_type": "code",
   "execution_count": 24,
   "outputs": [
    {
     "ename": "NameError",
     "evalue": "name 'gdf' is not defined",
     "output_type": "error",
     "traceback": [
      "\u001B[1;31m---------------------------------------------------------------------------\u001B[0m",
      "\u001B[1;31mNameError\u001B[0m                                 Traceback (most recent call last)",
      "Cell \u001B[1;32mIn[24], line 1\u001B[0m\n\u001B[1;32m----> 1\u001B[0m \u001B[43mgdf\u001B[49m\n",
      "\u001B[1;31mNameError\u001B[0m: name 'gdf' is not defined"
     ]
    }
   ],
   "source": [
    "gdf"
   ],
   "metadata": {
    "collapsed": false
   }
  },
  {
   "cell_type": "code",
   "execution_count": 25,
   "outputs": [
    {
     "ename": "NameError",
     "evalue": "name 'gdf' is not defined",
     "output_type": "error",
     "traceback": [
      "\u001B[1;31m---------------------------------------------------------------------------\u001B[0m",
      "\u001B[1;31mNameError\u001B[0m                                 Traceback (most recent call last)",
      "Cell \u001B[1;32mIn[25], line 1\u001B[0m\n\u001B[1;32m----> 1\u001B[0m \u001B[38;5;28mlen\u001B[39m(\u001B[43mgdf\u001B[49m[\u001B[38;5;124m'\u001B[39m\u001B[38;5;124mparents_stack\u001B[39m\u001B[38;5;124m'\u001B[39m]\u001B[38;5;241m.\u001B[39miloc[\u001B[38;5;241m187\u001B[39m])\n",
      "\u001B[1;31mNameError\u001B[0m: name 'gdf' is not defined"
     ]
    }
   ],
   "source": [
    "len(gdf['parents_stack'].iloc[187])"
   ],
   "metadata": {
    "collapsed": false
   }
  },
  {
   "cell_type": "code",
   "execution_count": 26,
   "outputs": [
    {
     "ename": "NameError",
     "evalue": "name 'gdf' is not defined",
     "output_type": "error",
     "traceback": [
      "\u001B[1;31m---------------------------------------------------------------------------\u001B[0m",
      "\u001B[1;31mNameError\u001B[0m                                 Traceback (most recent call last)",
      "Cell \u001B[1;32mIn[26], line 1\u001B[0m\n\u001B[1;32m----> 1\u001B[0m test_gdf \u001B[38;5;241m=\u001B[39m \u001B[43mgdf\u001B[49m\u001B[38;5;241m.\u001B[39mcopy()\n",
      "\u001B[1;31mNameError\u001B[0m: name 'gdf' is not defined"
     ]
    }
   ],
   "source": [
    "test_gdf = gdf.copy()"
   ],
   "metadata": {
    "collapsed": false
   }
  },
  {
   "cell_type": "code",
   "execution_count": 18,
   "outputs": [
    {
     "ename": "NameError",
     "evalue": "name 'test_gdf' is not defined",
     "output_type": "error",
     "traceback": [
      "\u001B[1;31m---------------------------------------------------------------------------\u001B[0m",
      "\u001B[1;31mNameError\u001B[0m                                 Traceback (most recent call last)",
      "Cell \u001B[1;32mIn[18], line 1\u001B[0m\n\u001B[1;32m----> 1\u001B[0m \u001B[43mtest_gdf\u001B[49m\n",
      "\u001B[1;31mNameError\u001B[0m: name 'test_gdf' is not defined"
     ]
    }
   ],
   "source": [
    "test_gdf"
   ],
   "metadata": {
    "collapsed": false
   }
  },
  {
   "cell_type": "code",
   "execution_count": 19,
   "outputs": [
    {
     "ename": "NameError",
     "evalue": "name 'test_gdf' is not defined",
     "output_type": "error",
     "traceback": [
      "\u001B[1;31m---------------------------------------------------------------------------\u001B[0m",
      "\u001B[1;31mNameError\u001B[0m                                 Traceback (most recent call last)",
      "Cell \u001B[1;32mIn[19], line 3\u001B[0m\n\u001B[0;32m      1\u001B[0m \u001B[38;5;28;01mimport\u001B[39;00m \u001B[38;5;21;01mnumpy\u001B[39;00m \u001B[38;5;28;01mas\u001B[39;00m \u001B[38;5;21;01mnp\u001B[39;00m\n\u001B[1;32m----> 3\u001B[0m \u001B[38;5;28;01mfor\u001B[39;00m i \u001B[38;5;129;01min\u001B[39;00m \u001B[38;5;28mrange\u001B[39m(\u001B[38;5;28mlen\u001B[39m(\u001B[43mtest_gdf\u001B[49m)):\n\u001B[0;32m      4\u001B[0m     tmp \u001B[38;5;241m=\u001B[39m test_gdf[\u001B[38;5;124m'\u001B[39m\u001B[38;5;124mparents_stack\u001B[39m\u001B[38;5;124m'\u001B[39m]\u001B[38;5;241m.\u001B[39miloc[i]\n\u001B[0;32m      5\u001B[0m     \u001B[38;5;28;01mif\u001B[39;00m \u001B[38;5;28mtype\u001B[39m(tmp) \u001B[38;5;129;01mis\u001B[39;00m \u001B[38;5;129;01mnot\u001B[39;00m \u001B[38;5;28mfloat\u001B[39m \u001B[38;5;129;01mand\u001B[39;00m \u001B[38;5;28mlen\u001B[39m(tmp) \u001B[38;5;241m>\u001B[39m \u001B[38;5;241m0\u001B[39m:\n",
      "\u001B[1;31mNameError\u001B[0m: name 'test_gdf' is not defined"
     ]
    }
   ],
   "source": [
    "import numpy as np\n",
    "\n",
    "for i in range(len(test_gdf)):\n",
    "    tmp = test_gdf['parents_stack'].iloc[i]\n",
    "    if type(tmp) is not float and len(tmp) > 0:\n",
    "        test_gdf.at[i, 'parents_stack'] = tmp[0]\n",
    "    else:\n",
    "        test_gdf.at[i, 'parents_stack'] = np.nan\n"
   ],
   "metadata": {
    "collapsed": false
   }
  },
  {
   "cell_type": "code",
   "execution_count": 14,
   "outputs": [
    {
     "data": {
      "text/plain": "                    date      id  \\\n0    2024-02-01 19:30:00  327734   \n1    2024-02-02 10:30:00  327851   \n2    2024-02-02 07:48:48  327853   \n3    2024-02-02 08:24:25  327854   \n4    2024-02-02 08:31:37  327855   \n..                   ...     ...   \n477  2024-03-21 16:33:06  333767   \n478  2024-03-21 16:33:49  333768   \n479  2024-03-21 16:36:27  333770   \n480  2024-03-21 16:38:47  333771   \n481  2024-03-21 16:40:20  333772   \n\n                                                  text  views.count  \\\n0    Как вам такая идея по обустройству широких газ...       3328.0   \n1    Возвращение домофонов в парадные после капремо...       3746.0   \n2    Повсеместно такая проблема.\\nУгол Мытнинской и...          NaN   \n3    Можно закидать меня тряпками, но я сторонник у...          NaN   \n4    Некрасова 60, 4-ая парадная. Установлена новая...          NaN   \n..                                                 ...          ...   \n477  Вредит не застройка, а косорукие строители и п...          NaN   \n478    Ужас, сквозные щели! Страшно жить в таком доме!          NaN   \n479                       статью заменят на хулиганку?          NaN   \n480                       Что и требовалось ожидать...          NaN   \n481  Становится очевидным что подобные \"истории\" пр...          NaN   \n\n     likes.count  reposts.count     type link   post_id parents_stack  ...  \\\n0             34            3.0     post  NaN       NaN           NaN  ...   \n1             58            4.0     post  NaN       NaN           NaN  ...   \n2              5            NaN  comment  NaN  327851.0            []  ...   \n3             13            NaN  comment  NaN  327851.0            []  ...   \n4              7            NaN  comment  NaN  327851.0            []  ...   \n..           ...            ...      ...  ...       ...           ...  ...   \n477            1            NaN  comment  NaN  333766.0            []  ...   \n478            1            NaN  comment  NaN  333766.0            []  ...   \n479            0            NaN  comment  NaN  333530.0            []  ...   \n480            0            NaN  comment  NaN  333766.0            []  ...   \n481            0            NaN  comment  NaN  333766.0            []  ...   \n\n    Score_y  Numbers initial_street  Toponims  \\\n0     0.961              Приморская      None   \n1     0.987       60      Некрасова      None   \n2       NaN        8     Мытнинской      None   \n3       NaN      NaN            NaN       NaN   \n4     0.992       60      Некрасова      None   \n..      ...      ...            ...       ...   \n477     NaN      NaN            NaN       NaN   \n478     NaN      NaN            NaN       NaN   \n479     NaN      NaN            NaN       NaN   \n480     NaN      NaN            NaN       NaN   \n481     NaN               Гороховой      None   \n\n                                      full_street_name  \\\n0             Приморская улица  Санкт-Петербург Россия   \n1            улица Некрасова 60 Санкт-Петербург Россия   \n2    Мытнинская улица 8 Санкт-Петербург Россия,Мытн...   \n3                                                  NaN   \n4            улица Некрасова 60 Санкт-Петербург Россия   \n..                                                 ...   \n477                                                NaN   \n478                                                NaN   \n479                                                NaN   \n480                                                NaN   \n481            Гороховая улица  Санкт-Петербург Россия   \n\n                                      location_options  \\\n0         ['Приморская улица  Санкт-Петербург Россия']   \n1        ['улица Некрасова 60 Санкт-Петербург Россия']   \n2    ['Мытнинская улица 8 Санкт-Петербург Россия', ...   \n3                                                  NaN   \n4        ['улица Некрасова 60 Санкт-Петербург Россия']   \n..                                                 ...   \n477                                                NaN   \n478                                                NaN   \n479                                                NaN   \n480                                                NaN   \n481        ['Гороховая улица  Санкт-Петербург Россия']   \n\n                               addr_to_geocode only_full_street_name  \\\n0     Приморская улица  Санкт-Петербург Россия      Приморская улица   \n1    улица Некрасова 60 Санкт-Петербург Россия       улица Некрасова   \n2    Мытнинская улица 8 Санкт-Петербург Россия      Мытнинская улица   \n3                                          NaN                   NaN   \n4    улица Некрасова 60 Санкт-Петербург Россия       улица Некрасова   \n..                                         ...                   ...   \n477                                        NaN                   NaN   \n478                                        NaN                   NaN   \n479                                        NaN                   NaN   \n480                                        NaN                   NaN   \n481    Гороховая улица  Санкт-Петербург Россия       Гороховая улица   \n\n                                              Location  \\\n0    Приморская улица, Просвещение, Петергоф, Санкт...   \n1    60, улица Некрасова, Пески, округ Смольнинское...   \n2    Мытнинская улица, 8-я Советская улица, Пески, ...   \n3                                                  NaN   \n4    60, улица Некрасова, Пески, округ Смольнинское...   \n..                                                 ...   \n477                                                NaN   \n478                                                NaN   \n479                                                NaN   \n480                                                NaN   \n481  Гороховая улица, Адмиралтейский округ, Санкт-П...   \n\n                      geometry  \n0    POINT (29.86224 59.89660)  \n1    POINT (30.36946 59.93851)  \n2    POINT (30.38073 59.93420)  \n3                         None  \n4    POINT (30.36946 59.93851)  \n..                         ...  \n477                       None  \n478                       None  \n479                       None  \n480                       None  \n481  POINT (30.31142 59.93560)  \n\n[482 rows x 23 columns]",
      "text/html": "<div>\n<style scoped>\n    .dataframe tbody tr th:only-of-type {\n        vertical-align: middle;\n    }\n\n    .dataframe tbody tr th {\n        vertical-align: top;\n    }\n\n    .dataframe thead th {\n        text-align: right;\n    }\n</style>\n<table border=\"1\" class=\"dataframe\">\n  <thead>\n    <tr style=\"text-align: right;\">\n      <th></th>\n      <th>date</th>\n      <th>id</th>\n      <th>text</th>\n      <th>views.count</th>\n      <th>likes.count</th>\n      <th>reposts.count</th>\n      <th>type</th>\n      <th>link</th>\n      <th>post_id</th>\n      <th>parents_stack</th>\n      <th>...</th>\n      <th>Score_y</th>\n      <th>Numbers</th>\n      <th>initial_street</th>\n      <th>Toponims</th>\n      <th>full_street_name</th>\n      <th>location_options</th>\n      <th>addr_to_geocode</th>\n      <th>only_full_street_name</th>\n      <th>Location</th>\n      <th>geometry</th>\n    </tr>\n  </thead>\n  <tbody>\n    <tr>\n      <th>0</th>\n      <td>2024-02-01 19:30:00</td>\n      <td>327734</td>\n      <td>Как вам такая идея по обустройству широких газ...</td>\n      <td>3328.0</td>\n      <td>34</td>\n      <td>3.0</td>\n      <td>post</td>\n      <td>NaN</td>\n      <td>NaN</td>\n      <td>NaN</td>\n      <td>...</td>\n      <td>0.961</td>\n      <td></td>\n      <td>Приморская</td>\n      <td>None</td>\n      <td>Приморская улица  Санкт-Петербург Россия</td>\n      <td>['Приморская улица  Санкт-Петербург Россия']</td>\n      <td>Приморская улица  Санкт-Петербург Россия</td>\n      <td>Приморская улица</td>\n      <td>Приморская улица, Просвещение, Петергоф, Санкт...</td>\n      <td>POINT (29.86224 59.89660)</td>\n    </tr>\n    <tr>\n      <th>1</th>\n      <td>2024-02-02 10:30:00</td>\n      <td>327851</td>\n      <td>Возвращение домофонов в парадные после капремо...</td>\n      <td>3746.0</td>\n      <td>58</td>\n      <td>4.0</td>\n      <td>post</td>\n      <td>NaN</td>\n      <td>NaN</td>\n      <td>NaN</td>\n      <td>...</td>\n      <td>0.987</td>\n      <td>60</td>\n      <td>Некрасова</td>\n      <td>None</td>\n      <td>улица Некрасова 60 Санкт-Петербург Россия</td>\n      <td>['улица Некрасова 60 Санкт-Петербург Россия']</td>\n      <td>улица Некрасова 60 Санкт-Петербург Россия</td>\n      <td>улица Некрасова</td>\n      <td>60, улица Некрасова, Пески, округ Смольнинское...</td>\n      <td>POINT (30.36946 59.93851)</td>\n    </tr>\n    <tr>\n      <th>2</th>\n      <td>2024-02-02 07:48:48</td>\n      <td>327853</td>\n      <td>Повсеместно такая проблема.\\nУгол Мытнинской и...</td>\n      <td>NaN</td>\n      <td>5</td>\n      <td>NaN</td>\n      <td>comment</td>\n      <td>NaN</td>\n      <td>327851.0</td>\n      <td>[]</td>\n      <td>...</td>\n      <td>NaN</td>\n      <td>8</td>\n      <td>Мытнинской</td>\n      <td>None</td>\n      <td>Мытнинская улица 8 Санкт-Петербург Россия,Мытн...</td>\n      <td>['Мытнинская улица 8 Санкт-Петербург Россия', ...</td>\n      <td>Мытнинская улица 8 Санкт-Петербург Россия</td>\n      <td>Мытнинская улица</td>\n      <td>Мытнинская улица, 8-я Советская улица, Пески, ...</td>\n      <td>POINT (30.38073 59.93420)</td>\n    </tr>\n    <tr>\n      <th>3</th>\n      <td>2024-02-02 08:24:25</td>\n      <td>327854</td>\n      <td>Можно закидать меня тряпками, но я сторонник у...</td>\n      <td>NaN</td>\n      <td>13</td>\n      <td>NaN</td>\n      <td>comment</td>\n      <td>NaN</td>\n      <td>327851.0</td>\n      <td>[]</td>\n      <td>...</td>\n      <td>NaN</td>\n      <td>NaN</td>\n      <td>NaN</td>\n      <td>NaN</td>\n      <td>NaN</td>\n      <td>NaN</td>\n      <td>NaN</td>\n      <td>NaN</td>\n      <td>NaN</td>\n      <td>None</td>\n    </tr>\n    <tr>\n      <th>4</th>\n      <td>2024-02-02 08:31:37</td>\n      <td>327855</td>\n      <td>Некрасова 60, 4-ая парадная. Установлена новая...</td>\n      <td>NaN</td>\n      <td>7</td>\n      <td>NaN</td>\n      <td>comment</td>\n      <td>NaN</td>\n      <td>327851.0</td>\n      <td>[]</td>\n      <td>...</td>\n      <td>0.992</td>\n      <td>60</td>\n      <td>Некрасова</td>\n      <td>None</td>\n      <td>улица Некрасова 60 Санкт-Петербург Россия</td>\n      <td>['улица Некрасова 60 Санкт-Петербург Россия']</td>\n      <td>улица Некрасова 60 Санкт-Петербург Россия</td>\n      <td>улица Некрасова</td>\n      <td>60, улица Некрасова, Пески, округ Смольнинское...</td>\n      <td>POINT (30.36946 59.93851)</td>\n    </tr>\n    <tr>\n      <th>...</th>\n      <td>...</td>\n      <td>...</td>\n      <td>...</td>\n      <td>...</td>\n      <td>...</td>\n      <td>...</td>\n      <td>...</td>\n      <td>...</td>\n      <td>...</td>\n      <td>...</td>\n      <td>...</td>\n      <td>...</td>\n      <td>...</td>\n      <td>...</td>\n      <td>...</td>\n      <td>...</td>\n      <td>...</td>\n      <td>...</td>\n      <td>...</td>\n      <td>...</td>\n      <td>...</td>\n    </tr>\n    <tr>\n      <th>477</th>\n      <td>2024-03-21 16:33:06</td>\n      <td>333767</td>\n      <td>Вредит не застройка, а косорукие строители и п...</td>\n      <td>NaN</td>\n      <td>1</td>\n      <td>NaN</td>\n      <td>comment</td>\n      <td>NaN</td>\n      <td>333766.0</td>\n      <td>[]</td>\n      <td>...</td>\n      <td>NaN</td>\n      <td>NaN</td>\n      <td>NaN</td>\n      <td>NaN</td>\n      <td>NaN</td>\n      <td>NaN</td>\n      <td>NaN</td>\n      <td>NaN</td>\n      <td>NaN</td>\n      <td>None</td>\n    </tr>\n    <tr>\n      <th>478</th>\n      <td>2024-03-21 16:33:49</td>\n      <td>333768</td>\n      <td>Ужас, сквозные щели! Страшно жить в таком доме!</td>\n      <td>NaN</td>\n      <td>1</td>\n      <td>NaN</td>\n      <td>comment</td>\n      <td>NaN</td>\n      <td>333766.0</td>\n      <td>[]</td>\n      <td>...</td>\n      <td>NaN</td>\n      <td>NaN</td>\n      <td>NaN</td>\n      <td>NaN</td>\n      <td>NaN</td>\n      <td>NaN</td>\n      <td>NaN</td>\n      <td>NaN</td>\n      <td>NaN</td>\n      <td>None</td>\n    </tr>\n    <tr>\n      <th>479</th>\n      <td>2024-03-21 16:36:27</td>\n      <td>333770</td>\n      <td>статью заменят на хулиганку?</td>\n      <td>NaN</td>\n      <td>0</td>\n      <td>NaN</td>\n      <td>comment</td>\n      <td>NaN</td>\n      <td>333530.0</td>\n      <td>[]</td>\n      <td>...</td>\n      <td>NaN</td>\n      <td>NaN</td>\n      <td>NaN</td>\n      <td>NaN</td>\n      <td>NaN</td>\n      <td>NaN</td>\n      <td>NaN</td>\n      <td>NaN</td>\n      <td>NaN</td>\n      <td>None</td>\n    </tr>\n    <tr>\n      <th>480</th>\n      <td>2024-03-21 16:38:47</td>\n      <td>333771</td>\n      <td>Что и требовалось ожидать...</td>\n      <td>NaN</td>\n      <td>0</td>\n      <td>NaN</td>\n      <td>comment</td>\n      <td>NaN</td>\n      <td>333766.0</td>\n      <td>[]</td>\n      <td>...</td>\n      <td>NaN</td>\n      <td>NaN</td>\n      <td>NaN</td>\n      <td>NaN</td>\n      <td>NaN</td>\n      <td>NaN</td>\n      <td>NaN</td>\n      <td>NaN</td>\n      <td>NaN</td>\n      <td>None</td>\n    </tr>\n    <tr>\n      <th>481</th>\n      <td>2024-03-21 16:40:20</td>\n      <td>333772</td>\n      <td>Становится очевидным что подобные \"истории\" пр...</td>\n      <td>NaN</td>\n      <td>0</td>\n      <td>NaN</td>\n      <td>comment</td>\n      <td>NaN</td>\n      <td>333766.0</td>\n      <td>[]</td>\n      <td>...</td>\n      <td>NaN</td>\n      <td></td>\n      <td>Гороховой</td>\n      <td>None</td>\n      <td>Гороховая улица  Санкт-Петербург Россия</td>\n      <td>['Гороховая улица  Санкт-Петербург Россия']</td>\n      <td>Гороховая улица  Санкт-Петербург Россия</td>\n      <td>Гороховая улица</td>\n      <td>Гороховая улица, Адмиралтейский округ, Санкт-П...</td>\n      <td>POINT (30.31142 59.93560)</td>\n    </tr>\n  </tbody>\n</table>\n<p>482 rows × 23 columns</p>\n</div>"
     },
     "execution_count": 14,
     "metadata": {},
     "output_type": "execute_result"
    }
   ],
   "source": [
    "test_gdf = test_gdf.drop_duplicates(subset='id')\n",
    "test_gdf = test_gdf.drop(columns=['date', 'text', 'views.count', 'likes.count', 'reposts.count', 'type', 'link', 'post_id', 'parents_stack'])\n",
    "test_gdf = pd.merge(result_df, test_gdf, on='id', how='outer')\n",
    "test_gdf"
   ],
   "metadata": {
    "collapsed": false
   }
  },
  {
   "cell_type": "code",
   "execution_count": 20,
   "outputs": [
    {
     "data": {
      "text/plain": "720"
     },
     "execution_count": 20,
     "metadata": {},
     "output_type": "execute_result"
    }
   ],
   "source": [
    "len(result_df)"
   ],
   "metadata": {
    "collapsed": false
   }
  },
  {
   "cell_type": "code",
   "execution_count": 22,
   "outputs": [
    {
     "data": {
      "text/plain": "[211,\n 141,\n 169,\n 252,\n 158,\n 442,\n 1,\n 73,\n 447,\n 690,\n 490,\n 277,\n 29,\n 163,\n 559,\n 520,\n 621,\n 612,\n 114,\n 422,\n 183,\n 358,\n 270,\n 526,\n 135,\n 601,\n 631,\n 639,\n 587,\n 345,\n 266,\n 476,\n 620,\n 211,\n 682,\n 141,\n 416,\n 170,\n 355,\n 242,\n 442,\n 717,\n 206,\n 85,\n 137,\n 579,\n 451,\n 487,\n 223,\n 636]"
     },
     "execution_count": 22,
     "metadata": {},
     "output_type": "execute_result"
    }
   ],
   "source": [
    "import random\n",
    "import numpy as np\n",
    "index_list = []\n",
    "\n",
    "\n",
    "result_df['toponim'] = np.nan\n",
    "for i in range (50):\n",
    "    index_list.append(random.randint(0, len(result_df)))\n",
    "\n",
    "index_list"
   ],
   "metadata": {
    "collapsed": false
   }
  },
  {
   "cell_type": "code",
   "execution_count": 23,
   "outputs": [],
   "source": [
    "test_gdf = result_df.copy()\n",
    "\n",
    "for i in index_list:\n",
    "    test_gdf.at[i, 'toponim'] = f'toponim_{i}'"
   ],
   "metadata": {
    "collapsed": false
   }
  },
  {
   "cell_type": "code",
   "execution_count": 135,
   "outputs": [],
   "source": [
    "test_gdf.at[121, 'toponim'] = 'toponim_implemented_1'"
   ],
   "metadata": {
    "collapsed": false
   }
  },
  {
   "cell_type": "code",
   "execution_count": 136,
   "outputs": [
    {
     "data": {
      "text/plain": "                    date      id  \\\n0    2024-03-21 19:30:00  333766   \n1    2024-03-21 10:30:00  333530   \n2    2024-03-20 19:30:00  333376   \n3    2024-03-20 10:30:00  333265   \n4    2024-03-19 19:30:00  333226   \n..                   ...     ...   \n715  2024-02-07 10:42:30  328420   \n716  2024-02-07 12:57:57  328422   \n717  2024-02-07 14:03:22  328427   \n718  2024-02-07 15:26:01  328438   \n719  2024-02-07 18:56:25  328462   \n\n                                                  text  views.count  \\\n0    В доме на Синопской набережной 32/35 из-за поз...        795.0   \n1    Сделайте сад Сан-Галли безопасным для граждан,...       3527.0   \n2    «Электросамокатная саранча» вновь повылезала н...       9866.0   \n3    Вот и отгуляла широкая Масленица! Наша команда...       4599.0   \n4    На том же месте сквозь года Вот так каланча ве...       4355.0   \n..                                                 ...          ...   \n715  Люди десятилетиями ждут замены лифтов, чтоб он...          NaN   \n716  С вопросом капремонта  лифтов, к сожалению, ст...          NaN   \n717  Думаю что лифты в порядке. Просто их выключили...          NaN   \n718         [id10835085|Андрей], очень даже может быть          NaN   \n719  С лифтами ныне у многих проблемы. У меня в дом...          NaN   \n\n     likes.count  reposts.count     type  \\\n0             28            8.0     post   \n1            126           23.0     post   \n2            188           24.0     post   \n3             54            8.0     post   \n4             51           11.0     post   \n..           ...            ...      ...   \n715            2            NaN  comment   \n716            4            NaN  comment   \n717            1            NaN  comment   \n718            1            NaN    reply   \n719            0            NaN  comment   \n\n                                                  link   post_id  \\\n0                                                  NaN       NaN   \n1                                                  NaN       NaN   \n2                                                  NaN       NaN   \n3           https://vk.com/wall-129354225_332885|ярко,       NaN   \n4    https://vk.com/wall-129354225_325408|уплотните...       NaN   \n..                                                 ...       ...   \n715                                                NaN  328388.0   \n716                                                NaN  328388.0   \n717                                                NaN  328388.0   \n718                                                NaN  328388.0   \n719                                                NaN  328388.0   \n\n    parents_stack      toponim  \n0             NaN          NaN  \n1             NaN    toponim_1  \n2             NaN          NaN  \n3             NaN          NaN  \n4             NaN          NaN  \n..            ...          ...  \n715           NaN          NaN  \n716           NaN          NaN  \n717           NaN  toponim_717  \n718        328427          NaN  \n719           NaN          NaN  \n\n[720 rows x 11 columns]",
      "text/html": "<div>\n<style scoped>\n    .dataframe tbody tr th:only-of-type {\n        vertical-align: middle;\n    }\n\n    .dataframe tbody tr th {\n        vertical-align: top;\n    }\n\n    .dataframe thead th {\n        text-align: right;\n    }\n</style>\n<table border=\"1\" class=\"dataframe\">\n  <thead>\n    <tr style=\"text-align: right;\">\n      <th></th>\n      <th>date</th>\n      <th>id</th>\n      <th>text</th>\n      <th>views.count</th>\n      <th>likes.count</th>\n      <th>reposts.count</th>\n      <th>type</th>\n      <th>link</th>\n      <th>post_id</th>\n      <th>parents_stack</th>\n      <th>toponim</th>\n    </tr>\n  </thead>\n  <tbody>\n    <tr>\n      <th>0</th>\n      <td>2024-03-21 19:30:00</td>\n      <td>333766</td>\n      <td>В доме на Синопской набережной 32/35 из-за поз...</td>\n      <td>795.0</td>\n      <td>28</td>\n      <td>8.0</td>\n      <td>post</td>\n      <td>NaN</td>\n      <td>NaN</td>\n      <td>NaN</td>\n      <td>NaN</td>\n    </tr>\n    <tr>\n      <th>1</th>\n      <td>2024-03-21 10:30:00</td>\n      <td>333530</td>\n      <td>Сделайте сад Сан-Галли безопасным для граждан,...</td>\n      <td>3527.0</td>\n      <td>126</td>\n      <td>23.0</td>\n      <td>post</td>\n      <td>NaN</td>\n      <td>NaN</td>\n      <td>NaN</td>\n      <td>toponim_1</td>\n    </tr>\n    <tr>\n      <th>2</th>\n      <td>2024-03-20 19:30:00</td>\n      <td>333376</td>\n      <td>«Электросамокатная саранча» вновь повылезала н...</td>\n      <td>9866.0</td>\n      <td>188</td>\n      <td>24.0</td>\n      <td>post</td>\n      <td>NaN</td>\n      <td>NaN</td>\n      <td>NaN</td>\n      <td>NaN</td>\n    </tr>\n    <tr>\n      <th>3</th>\n      <td>2024-03-20 10:30:00</td>\n      <td>333265</td>\n      <td>Вот и отгуляла широкая Масленица! Наша команда...</td>\n      <td>4599.0</td>\n      <td>54</td>\n      <td>8.0</td>\n      <td>post</td>\n      <td>https://vk.com/wall-129354225_332885|ярко,</td>\n      <td>NaN</td>\n      <td>NaN</td>\n      <td>NaN</td>\n    </tr>\n    <tr>\n      <th>4</th>\n      <td>2024-03-19 19:30:00</td>\n      <td>333226</td>\n      <td>На том же месте сквозь года Вот так каланча ве...</td>\n      <td>4355.0</td>\n      <td>51</td>\n      <td>11.0</td>\n      <td>post</td>\n      <td>https://vk.com/wall-129354225_325408|уплотните...</td>\n      <td>NaN</td>\n      <td>NaN</td>\n      <td>NaN</td>\n    </tr>\n    <tr>\n      <th>...</th>\n      <td>...</td>\n      <td>...</td>\n      <td>...</td>\n      <td>...</td>\n      <td>...</td>\n      <td>...</td>\n      <td>...</td>\n      <td>...</td>\n      <td>...</td>\n      <td>...</td>\n      <td>...</td>\n    </tr>\n    <tr>\n      <th>715</th>\n      <td>2024-02-07 10:42:30</td>\n      <td>328420</td>\n      <td>Люди десятилетиями ждут замены лифтов, чтоб он...</td>\n      <td>NaN</td>\n      <td>2</td>\n      <td>NaN</td>\n      <td>comment</td>\n      <td>NaN</td>\n      <td>328388.0</td>\n      <td>NaN</td>\n      <td>NaN</td>\n    </tr>\n    <tr>\n      <th>716</th>\n      <td>2024-02-07 12:57:57</td>\n      <td>328422</td>\n      <td>С вопросом капремонта  лифтов, к сожалению, ст...</td>\n      <td>NaN</td>\n      <td>4</td>\n      <td>NaN</td>\n      <td>comment</td>\n      <td>NaN</td>\n      <td>328388.0</td>\n      <td>NaN</td>\n      <td>NaN</td>\n    </tr>\n    <tr>\n      <th>717</th>\n      <td>2024-02-07 14:03:22</td>\n      <td>328427</td>\n      <td>Думаю что лифты в порядке. Просто их выключили...</td>\n      <td>NaN</td>\n      <td>1</td>\n      <td>NaN</td>\n      <td>comment</td>\n      <td>NaN</td>\n      <td>328388.0</td>\n      <td>NaN</td>\n      <td>toponim_717</td>\n    </tr>\n    <tr>\n      <th>718</th>\n      <td>2024-02-07 15:26:01</td>\n      <td>328438</td>\n      <td>[id10835085|Андрей], очень даже может быть</td>\n      <td>NaN</td>\n      <td>1</td>\n      <td>NaN</td>\n      <td>reply</td>\n      <td>NaN</td>\n      <td>328388.0</td>\n      <td>328427</td>\n      <td>NaN</td>\n    </tr>\n    <tr>\n      <th>719</th>\n      <td>2024-02-07 18:56:25</td>\n      <td>328462</td>\n      <td>С лифтами ныне у многих проблемы. У меня в дом...</td>\n      <td>NaN</td>\n      <td>0</td>\n      <td>NaN</td>\n      <td>comment</td>\n      <td>NaN</td>\n      <td>328388.0</td>\n      <td>NaN</td>\n      <td>NaN</td>\n    </tr>\n  </tbody>\n</table>\n<p>720 rows × 11 columns</p>\n</div>"
     },
     "execution_count": 136,
     "metadata": {},
     "output_type": "execute_result"
    }
   ],
   "source": [
    "test_gdf"
   ],
   "metadata": {
    "collapsed": false
   }
  },
  {
   "cell_type": "code",
   "execution_count": 119,
   "outputs": [
    {
     "ename": "TypeError",
     "evalue": "object of type 'int' has no len()",
     "output_type": "error",
     "traceback": [
      "\u001B[1;31m---------------------------------------------------------------------------\u001B[0m",
      "\u001B[1;31mTypeError\u001B[0m                                 Traceback (most recent call last)",
      "Cell \u001B[1;32mIn[119], line 5\u001B[0m\n\u001B[0;32m      3\u001B[0m \u001B[38;5;28;01mfor\u001B[39;00m i \u001B[38;5;129;01min\u001B[39;00m \u001B[38;5;28mrange\u001B[39m(\u001B[38;5;28mlen\u001B[39m(test_gdf)):\n\u001B[0;32m      4\u001B[0m     tmp \u001B[38;5;241m=\u001B[39m test_gdf[\u001B[38;5;124m'\u001B[39m\u001B[38;5;124mparents_stack\u001B[39m\u001B[38;5;124m'\u001B[39m]\u001B[38;5;241m.\u001B[39miloc[i]\n\u001B[1;32m----> 5\u001B[0m     \u001B[38;5;28;01mif\u001B[39;00m \u001B[38;5;28mtype\u001B[39m(tmp) \u001B[38;5;129;01mis\u001B[39;00m \u001B[38;5;129;01mnot\u001B[39;00m \u001B[38;5;28mfloat\u001B[39m \u001B[38;5;129;01mand\u001B[39;00m \u001B[38;5;28;43mlen\u001B[39;49m\u001B[43m(\u001B[49m\u001B[43mtmp\u001B[49m\u001B[43m)\u001B[49m \u001B[38;5;241m>\u001B[39m \u001B[38;5;241m0\u001B[39m:\n\u001B[0;32m      6\u001B[0m         test_gdf\u001B[38;5;241m.\u001B[39mat[i, \u001B[38;5;124m'\u001B[39m\u001B[38;5;124mparents_stack\u001B[39m\u001B[38;5;124m'\u001B[39m] \u001B[38;5;241m=\u001B[39m tmp[\u001B[38;5;241m0\u001B[39m]\n\u001B[0;32m      7\u001B[0m     \u001B[38;5;28;01melse\u001B[39;00m:\n",
      "\u001B[1;31mTypeError\u001B[0m: object of type 'int' has no len()"
     ]
    }
   ],
   "source": [
    "import numpy as np\n",
    "\n",
    "for i in range(len(test_gdf)):\n",
    "    tmp = test_gdf['parents_stack'].iloc[i]\n",
    "    if type(tmp) is not float and len(tmp) > 0:\n",
    "        test_gdf.at[i, 'parents_stack'] = tmp[0]\n",
    "    else:\n",
    "        test_gdf.at[i, 'parents_stack'] = np.nan"
   ],
   "metadata": {
    "collapsed": false
   }
  },
  {
   "cell_type": "code",
   "execution_count": 120,
   "outputs": [
    {
     "data": {
      "text/plain": "True"
     },
     "execution_count": 120,
     "metadata": {},
     "output_type": "execute_result"
    }
   ],
   "source": [
    "check = test_gdf['toponim'].loc[test_gdf['id'] == 333766][0]\n",
    "type(check) is float"
   ],
   "metadata": {
    "collapsed": false
   }
  },
  {
   "cell_type": "markdown",
   "source": [
    "Список id постов с топонимами"
   ],
   "metadata": {
    "collapsed": false
   }
  },
  {
   "cell_type": "code",
   "execution_count": 137,
   "outputs": [
    {
     "data": {
      "text/plain": "[333530, 331686, 329242, 328572]"
     },
     "execution_count": 137,
     "metadata": {},
     "output_type": "execute_result"
    }
   ],
   "source": [
    "post_top_gdf = test_gdf.loc[test_gdf['type'] == 'post']\n",
    "post_top_gdf = post_top_gdf.dropna(subset='toponim')\n",
    "post_toponim_list = list(post_top_gdf['id'])\n",
    "post_toponim_list"
   ],
   "metadata": {
    "collapsed": false
   }
  },
  {
   "cell_type": "markdown",
   "source": [
    "Список id комментариев с топонимами"
   ],
   "metadata": {
    "collapsed": false
   }
  },
  {
   "cell_type": "code",
   "execution_count": 138,
   "outputs": [
    {
     "data": {
      "text/plain": "[333775,\n 333532,\n 333535,\n 333565,\n 333596,\n 333698,\n 332892,\n 332895,\n 332927,\n 332598,\n 332283,\n 330212,\n 330217,\n 329443,\n 329448,\n 329451,\n 329528,\n 329550,\n 329561,\n 329752,\n 328941,\n 328977,\n 328984,\n 329005,\n 329014,\n 329025,\n 328833,\n 328427]"
     },
     "execution_count": 138,
     "metadata": {},
     "output_type": "execute_result"
    }
   ],
   "source": [
    "comment_top_gdf = test_gdf.loc[test_gdf['type'] == 'comment']\n",
    "comment_top_gdf = comment_top_gdf.dropna(subset='toponim')\n",
    "comment_toponim_list = list(comment_top_gdf['id'])\n",
    "comment_toponim_list"
   ],
   "metadata": {
    "collapsed": false
   }
  },
  {
   "cell_type": "markdown",
   "source": [
    "Список id реплаев с топонимами"
   ],
   "metadata": {
    "collapsed": false
   }
  },
  {
   "cell_type": "code",
   "execution_count": 139,
   "outputs": [
    {
     "data": {
      "text/plain": "[333540,\n 333606,\n 333669,\n 333717,\n 333765,\n 333782,\n 333604,\n 332973,\n 332957,\n 332744,\n 331181,\n 331194,\n 330246,\n 328975,\n 328991,\n 328404]"
     },
     "execution_count": 139,
     "metadata": {},
     "output_type": "execute_result"
    }
   ],
   "source": [
    "reply_top_gdf = test_gdf.loc[test_gdf['type'] == 'reply']\n",
    "reply_top_gdf = reply_top_gdf.dropna(subset='toponim')\n",
    "reply_toponim_list = list(reply_top_gdf['id'])\n",
    "reply_toponim_list"
   ],
   "metadata": {
    "collapsed": false
   }
  },
  {
   "cell_type": "code",
   "execution_count": 140,
   "outputs": [],
   "source": [
    "exclude_list = reply_toponim_list + comment_toponim_list"
   ],
   "metadata": {
    "collapsed": false
   }
  },
  {
   "cell_type": "code",
   "execution_count": 147,
   "outputs": [
    {
     "name": "stdout",
     "output_type": "stream",
     "text": [
      "333530 98\n",
      "331686 1\n",
      "329242 1\n",
      "328572 1\n"
     ]
    }
   ],
   "source": [
    "for i in post_toponim_list:\n",
    "    df_to_extract = list((test_gdf['text'].loc[(test_gdf['post_id'] == i)\n",
    "                                         & (~test_gdf['id'].isin(exclude_list))\n",
    "                                         &(~test_gdf['parents_stack'].isin(comment_toponim_list))]))\n",
    "\n",
    "    df_to_extract.append(test_gdf['text'].loc[test_gdf['id'] == i])\n",
    "\n",
    "    print(i, len(df_to_extract))"
   ],
   "metadata": {
    "collapsed": false
   }
  },
  {
   "cell_type": "code",
   "execution_count": 151,
   "outputs": [
    {
     "name": "stdout",
     "output_type": "stream",
     "text": [
      "333775 1\n",
      "333532 6\n",
      "333535 1\n",
      "333565 1\n",
      "333596 1\n",
      "333698 1\n",
      "332892 7\n",
      "332895 1\n",
      "332927 8\n",
      "332598 1\n",
      "332283 1\n",
      "330212 1\n",
      "330217 1\n",
      "329443 1\n",
      "329448 1\n",
      "329451 1\n",
      "329528 1\n",
      "329550 1\n",
      "329561 2\n",
      "329752 1\n",
      "328941 1\n",
      "328977 1\n",
      "328984 1\n",
      "329005 1\n",
      "329014 1\n",
      "329025 1\n",
      "328833 1\n",
      "328427 2\n"
     ]
    }
   ],
   "source": [
    "for i in comment_toponim_list:\n",
    "    df_to_extract = list(test_gdf['text'].loc[test_gdf['parents_stack'] == i])\n",
    "\n",
    "    df_to_extract.append(test_gdf['text'].loc[test_gdf['id'] == i])\n",
    "\n",
    "    print(i, len(df_to_extract))"
   ],
   "metadata": {
    "collapsed": false
   }
  },
  {
   "cell_type": "code",
   "execution_count": 152,
   "outputs": [
    {
     "name": "stdout",
     "output_type": "stream",
     "text": [
      "333540 1\n",
      "333606 1\n",
      "333669 1\n",
      "333717 1\n",
      "333765 1\n",
      "333782 1\n",
      "333604 1\n",
      "332973 1\n",
      "332957 1\n",
      "332744 1\n",
      "331181 1\n",
      "331194 1\n",
      "330246 1\n",
      "328975 1\n",
      "328991 1\n",
      "328404 1\n"
     ]
    }
   ],
   "source": [
    "for i in reply_toponim_list:\n",
    "    df_to_extract = test_gdf['text'].loc[test_gdf['id'] == i]\n",
    "\n",
    "    print(i, len(df_to_extract))"
   ],
   "metadata": {
    "collapsed": false
   }
  },
  {
   "cell_type": "code",
   "execution_count": 127,
   "outputs": [
    {
     "data": {
      "text/plain": "                    date      id  \\\n0    2024-03-21 19:30:00  333766   \n1    2024-03-21 10:30:00  333530   \n2    2024-03-20 19:30:00  333376   \n3    2024-03-20 10:30:00  333265   \n4    2024-03-19 19:30:00  333226   \n..                   ...     ...   \n715  2024-02-07 10:42:30  328420   \n716  2024-02-07 12:57:57  328422   \n717  2024-02-07 14:03:22  328427   \n718  2024-02-07 15:26:01  328438   \n719  2024-02-07 18:56:25  328462   \n\n                                                  text  views.count  \\\n0    В доме на Синопской набережной 32/35 из-за поз...        795.0   \n1    Сделайте сад Сан-Галли безопасным для граждан,...       3527.0   \n2    «Электросамокатная саранча» вновь повылезала н...       9866.0   \n3    Вот и отгуляла широкая Масленица! Наша команда...       4599.0   \n4    На том же месте сквозь года Вот так каланча ве...       4355.0   \n..                                                 ...          ...   \n715  Люди десятилетиями ждут замены лифтов, чтоб он...          NaN   \n716  С вопросом капремонта  лифтов, к сожалению, ст...          NaN   \n717  Думаю что лифты в порядке. Просто их выключили...          NaN   \n718         [id10835085|Андрей], очень даже может быть          NaN   \n719  С лифтами ныне у многих проблемы. У меня в дом...          NaN   \n\n     likes.count  reposts.count     type  \\\n0             28            8.0     post   \n1            126           23.0     post   \n2            188           24.0     post   \n3             54            8.0     post   \n4             51           11.0     post   \n..           ...            ...      ...   \n715            2            NaN  comment   \n716            4            NaN  comment   \n717            1            NaN  comment   \n718            1            NaN    reply   \n719            0            NaN  comment   \n\n                                                  link   post_id  \\\n0                                                  NaN       NaN   \n1                                                  NaN       NaN   \n2                                                  NaN       NaN   \n3           https://vk.com/wall-129354225_332885|ярко,       NaN   \n4    https://vk.com/wall-129354225_325408|уплотните...       NaN   \n..                                                 ...       ...   \n715                                                NaN  328388.0   \n716                                                NaN  328388.0   \n717                                                NaN  328388.0   \n718                                                NaN  328388.0   \n719                                                NaN  328388.0   \n\n    parents_stack      toponim  \n0             NaN          NaN  \n1             NaN    toponim_1  \n2             NaN          NaN  \n3             NaN          NaN  \n4             NaN          NaN  \n..            ...          ...  \n715           NaN          NaN  \n716           NaN          NaN  \n717           NaN  toponim_717  \n718        328427          NaN  \n719           NaN          NaN  \n\n[720 rows x 11 columns]",
      "text/html": "<div>\n<style scoped>\n    .dataframe tbody tr th:only-of-type {\n        vertical-align: middle;\n    }\n\n    .dataframe tbody tr th {\n        vertical-align: top;\n    }\n\n    .dataframe thead th {\n        text-align: right;\n    }\n</style>\n<table border=\"1\" class=\"dataframe\">\n  <thead>\n    <tr style=\"text-align: right;\">\n      <th></th>\n      <th>date</th>\n      <th>id</th>\n      <th>text</th>\n      <th>views.count</th>\n      <th>likes.count</th>\n      <th>reposts.count</th>\n      <th>type</th>\n      <th>link</th>\n      <th>post_id</th>\n      <th>parents_stack</th>\n      <th>toponim</th>\n    </tr>\n  </thead>\n  <tbody>\n    <tr>\n      <th>0</th>\n      <td>2024-03-21 19:30:00</td>\n      <td>333766</td>\n      <td>В доме на Синопской набережной 32/35 из-за поз...</td>\n      <td>795.0</td>\n      <td>28</td>\n      <td>8.0</td>\n      <td>post</td>\n      <td>NaN</td>\n      <td>NaN</td>\n      <td>NaN</td>\n      <td>NaN</td>\n    </tr>\n    <tr>\n      <th>1</th>\n      <td>2024-03-21 10:30:00</td>\n      <td>333530</td>\n      <td>Сделайте сад Сан-Галли безопасным для граждан,...</td>\n      <td>3527.0</td>\n      <td>126</td>\n      <td>23.0</td>\n      <td>post</td>\n      <td>NaN</td>\n      <td>NaN</td>\n      <td>NaN</td>\n      <td>toponim_1</td>\n    </tr>\n    <tr>\n      <th>2</th>\n      <td>2024-03-20 19:30:00</td>\n      <td>333376</td>\n      <td>«Электросамокатная саранча» вновь повылезала н...</td>\n      <td>9866.0</td>\n      <td>188</td>\n      <td>24.0</td>\n      <td>post</td>\n      <td>NaN</td>\n      <td>NaN</td>\n      <td>NaN</td>\n      <td>NaN</td>\n    </tr>\n    <tr>\n      <th>3</th>\n      <td>2024-03-20 10:30:00</td>\n      <td>333265</td>\n      <td>Вот и отгуляла широкая Масленица! Наша команда...</td>\n      <td>4599.0</td>\n      <td>54</td>\n      <td>8.0</td>\n      <td>post</td>\n      <td>https://vk.com/wall-129354225_332885|ярко,</td>\n      <td>NaN</td>\n      <td>NaN</td>\n      <td>NaN</td>\n    </tr>\n    <tr>\n      <th>4</th>\n      <td>2024-03-19 19:30:00</td>\n      <td>333226</td>\n      <td>На том же месте сквозь года Вот так каланча ве...</td>\n      <td>4355.0</td>\n      <td>51</td>\n      <td>11.0</td>\n      <td>post</td>\n      <td>https://vk.com/wall-129354225_325408|уплотните...</td>\n      <td>NaN</td>\n      <td>NaN</td>\n      <td>NaN</td>\n    </tr>\n    <tr>\n      <th>...</th>\n      <td>...</td>\n      <td>...</td>\n      <td>...</td>\n      <td>...</td>\n      <td>...</td>\n      <td>...</td>\n      <td>...</td>\n      <td>...</td>\n      <td>...</td>\n      <td>...</td>\n      <td>...</td>\n    </tr>\n    <tr>\n      <th>715</th>\n      <td>2024-02-07 10:42:30</td>\n      <td>328420</td>\n      <td>Люди десятилетиями ждут замены лифтов, чтоб он...</td>\n      <td>NaN</td>\n      <td>2</td>\n      <td>NaN</td>\n      <td>comment</td>\n      <td>NaN</td>\n      <td>328388.0</td>\n      <td>NaN</td>\n      <td>NaN</td>\n    </tr>\n    <tr>\n      <th>716</th>\n      <td>2024-02-07 12:57:57</td>\n      <td>328422</td>\n      <td>С вопросом капремонта  лифтов, к сожалению, ст...</td>\n      <td>NaN</td>\n      <td>4</td>\n      <td>NaN</td>\n      <td>comment</td>\n      <td>NaN</td>\n      <td>328388.0</td>\n      <td>NaN</td>\n      <td>NaN</td>\n    </tr>\n    <tr>\n      <th>717</th>\n      <td>2024-02-07 14:03:22</td>\n      <td>328427</td>\n      <td>Думаю что лифты в порядке. Просто их выключили...</td>\n      <td>NaN</td>\n      <td>1</td>\n      <td>NaN</td>\n      <td>comment</td>\n      <td>NaN</td>\n      <td>328388.0</td>\n      <td>NaN</td>\n      <td>toponim_717</td>\n    </tr>\n    <tr>\n      <th>718</th>\n      <td>2024-02-07 15:26:01</td>\n      <td>328438</td>\n      <td>[id10835085|Андрей], очень даже может быть</td>\n      <td>NaN</td>\n      <td>1</td>\n      <td>NaN</td>\n      <td>reply</td>\n      <td>NaN</td>\n      <td>328388.0</td>\n      <td>328427</td>\n      <td>NaN</td>\n    </tr>\n    <tr>\n      <th>719</th>\n      <td>2024-02-07 18:56:25</td>\n      <td>328462</td>\n      <td>С лифтами ныне у многих проблемы. У меня в дом...</td>\n      <td>NaN</td>\n      <td>0</td>\n      <td>NaN</td>\n      <td>comment</td>\n      <td>NaN</td>\n      <td>328388.0</td>\n      <td>NaN</td>\n      <td>NaN</td>\n    </tr>\n  </tbody>\n</table>\n<p>720 rows × 11 columns</p>\n</div>"
     },
     "execution_count": 127,
     "metadata": {},
     "output_type": "execute_result"
    }
   ],
   "source": [
    "test_gdf"
   ],
   "metadata": {
    "collapsed": false
   }
  },
  {
   "cell_type": "code",
   "execution_count": 15,
   "outputs": [
    {
     "ename": "ValueError",
     "evalue": "('Lengths must match to compare', (482,), (0,))",
     "output_type": "error",
     "traceback": [
      "\u001B[1;31m---------------------------------------------------------------------------\u001B[0m",
      "\u001B[1;31mValueError\u001B[0m                                Traceback (most recent call last)",
      "Cell \u001B[1;32mIn[15], line 38\u001B[0m\n\u001B[0;32m     36\u001B[0m \u001B[38;5;66;03m# Применяем функцию к DataFrame\u001B[39;00m\n\u001B[0;32m     37\u001B[0m df \u001B[38;5;241m=\u001B[39m test_gdf  \u001B[38;5;66;03m# Замените это на ваш DataFrame\u001B[39;00m\n\u001B[1;32m---> 38\u001B[0m df \u001B[38;5;241m=\u001B[39m \u001B[43mlink_comments\u001B[49m\u001B[43m(\u001B[49m\u001B[43mdf\u001B[49m\u001B[43m)\u001B[49m\n\u001B[0;32m     40\u001B[0m \u001B[38;5;66;03m# Выводим обновленный DataFrame\u001B[39;00m\n\u001B[0;32m     41\u001B[0m df\n",
      "Cell \u001B[1;32mIn[15], line 27\u001B[0m, in \u001B[0;36mlink_comments\u001B[1;34m(df)\u001B[0m\n\u001B[0;32m     24\u001B[0m     comments \u001B[38;5;241m=\u001B[39m df[(df[\u001B[38;5;124m'\u001B[39m\u001B[38;5;124mtype\u001B[39m\u001B[38;5;124m'\u001B[39m] \u001B[38;5;241m==\u001B[39m \u001B[38;5;124m'\u001B[39m\u001B[38;5;124mcomment\u001B[39m\u001B[38;5;124m'\u001B[39m) \u001B[38;5;241m&\u001B[39m (df[\u001B[38;5;124m'\u001B[39m\u001B[38;5;124mpost_id\u001B[39m\u001B[38;5;124m'\u001B[39m] \u001B[38;5;241m==\u001B[39m post[\u001B[38;5;124m'\u001B[39m\u001B[38;5;124mid\u001B[39m\u001B[38;5;124m'\u001B[39m])]\n\u001B[0;32m     25\u001B[0m     \u001B[38;5;28;01mfor\u001B[39;00m _, comment \u001B[38;5;129;01min\u001B[39;00m comments\u001B[38;5;241m.\u001B[39miterrows():\n\u001B[0;32m     26\u001B[0m         \u001B[38;5;66;03m# Добавляем id комментариев, если у них нет топонима и они не ссылаются на комментарий с топонимом\u001B[39;00m\n\u001B[1;32m---> 27\u001B[0m         \u001B[38;5;28;01mif\u001B[39;00m pd\u001B[38;5;241m.\u001B[39misnull(comment[\u001B[38;5;124m'\u001B[39m\u001B[38;5;124monly_full_street_name\u001B[39m\u001B[38;5;124m'\u001B[39m]) \u001B[38;5;129;01mand\u001B[39;00m pd\u001B[38;5;241m.\u001B[39misnull(df[\u001B[43mdf\u001B[49m\u001B[43m[\u001B[49m\u001B[38;5;124;43m'\u001B[39;49m\u001B[38;5;124;43mid\u001B[39;49m\u001B[38;5;124;43m'\u001B[39;49m\u001B[43m]\u001B[49m\u001B[43m \u001B[49m\u001B[38;5;241;43m==\u001B[39;49m\u001B[43m \u001B[49m\u001B[43mcomment\u001B[49m\u001B[43m[\u001B[49m\u001B[38;5;124;43m'\u001B[39;49m\u001B[38;5;124;43mparents_stack\u001B[39;49m\u001B[38;5;124;43m'\u001B[39;49m\u001B[43m]\u001B[49m][\u001B[38;5;124m'\u001B[39m\u001B[38;5;124monly_full_street_name\u001B[39m\u001B[38;5;124m'\u001B[39m])\u001B[38;5;241m.\u001B[39mall():\n\u001B[0;32m     28\u001B[0m             linked_ids\u001B[38;5;241m.\u001B[39mappend(comment[\u001B[38;5;124m'\u001B[39m\u001B[38;5;124mid\u001B[39m\u001B[38;5;124m'\u001B[39m])\n\u001B[0;32m     30\u001B[0m \u001B[38;5;66;03m# Записываем связанные id комментариев в новую ячейку\u001B[39;00m\n",
      "File \u001B[1;32mI:\\sloyka\\venv\\lib\\site-packages\\pandas\\core\\ops\\common.py:76\u001B[0m, in \u001B[0;36m_unpack_zerodim_and_defer.<locals>.new_method\u001B[1;34m(self, other)\u001B[0m\n\u001B[0;32m     72\u001B[0m             \u001B[38;5;28;01mreturn\u001B[39;00m \u001B[38;5;28mNotImplemented\u001B[39m\n\u001B[0;32m     74\u001B[0m other \u001B[38;5;241m=\u001B[39m item_from_zerodim(other)\n\u001B[1;32m---> 76\u001B[0m \u001B[38;5;28;01mreturn\u001B[39;00m \u001B[43mmethod\u001B[49m\u001B[43m(\u001B[49m\u001B[38;5;28;43mself\u001B[39;49m\u001B[43m,\u001B[49m\u001B[43m \u001B[49m\u001B[43mother\u001B[49m\u001B[43m)\u001B[49m\n",
      "File \u001B[1;32mI:\\sloyka\\venv\\lib\\site-packages\\pandas\\core\\arraylike.py:40\u001B[0m, in \u001B[0;36mOpsMixin.__eq__\u001B[1;34m(self, other)\u001B[0m\n\u001B[0;32m     38\u001B[0m \u001B[38;5;129m@unpack_zerodim_and_defer\u001B[39m(\u001B[38;5;124m\"\u001B[39m\u001B[38;5;124m__eq__\u001B[39m\u001B[38;5;124m\"\u001B[39m)\n\u001B[0;32m     39\u001B[0m \u001B[38;5;28;01mdef\u001B[39;00m \u001B[38;5;21m__eq__\u001B[39m(\u001B[38;5;28mself\u001B[39m, other):\n\u001B[1;32m---> 40\u001B[0m     \u001B[38;5;28;01mreturn\u001B[39;00m \u001B[38;5;28;43mself\u001B[39;49m\u001B[38;5;241;43m.\u001B[39;49m\u001B[43m_cmp_method\u001B[49m\u001B[43m(\u001B[49m\u001B[43mother\u001B[49m\u001B[43m,\u001B[49m\u001B[43m \u001B[49m\u001B[43moperator\u001B[49m\u001B[38;5;241;43m.\u001B[39;49m\u001B[43meq\u001B[49m\u001B[43m)\u001B[49m\n",
      "File \u001B[1;32mI:\\sloyka\\venv\\lib\\site-packages\\pandas\\core\\series.py:6110\u001B[0m, in \u001B[0;36mSeries._cmp_method\u001B[1;34m(self, other, op)\u001B[0m\n\u001B[0;32m   6107\u001B[0m lvalues \u001B[38;5;241m=\u001B[39m \u001B[38;5;28mself\u001B[39m\u001B[38;5;241m.\u001B[39m_values\n\u001B[0;32m   6108\u001B[0m rvalues \u001B[38;5;241m=\u001B[39m extract_array(other, extract_numpy\u001B[38;5;241m=\u001B[39m\u001B[38;5;28;01mTrue\u001B[39;00m, extract_range\u001B[38;5;241m=\u001B[39m\u001B[38;5;28;01mTrue\u001B[39;00m)\n\u001B[1;32m-> 6110\u001B[0m res_values \u001B[38;5;241m=\u001B[39m \u001B[43mops\u001B[49m\u001B[38;5;241;43m.\u001B[39;49m\u001B[43mcomparison_op\u001B[49m\u001B[43m(\u001B[49m\u001B[43mlvalues\u001B[49m\u001B[43m,\u001B[49m\u001B[43m \u001B[49m\u001B[43mrvalues\u001B[49m\u001B[43m,\u001B[49m\u001B[43m \u001B[49m\u001B[43mop\u001B[49m\u001B[43m)\u001B[49m\n\u001B[0;32m   6112\u001B[0m \u001B[38;5;28;01mreturn\u001B[39;00m \u001B[38;5;28mself\u001B[39m\u001B[38;5;241m.\u001B[39m_construct_result(res_values, name\u001B[38;5;241m=\u001B[39mres_name)\n",
      "File \u001B[1;32mI:\\sloyka\\venv\\lib\\site-packages\\pandas\\core\\ops\\array_ops.py:321\u001B[0m, in \u001B[0;36mcomparison_op\u001B[1;34m(left, right, op)\u001B[0m\n\u001B[0;32m    316\u001B[0m \u001B[38;5;28;01mif\u001B[39;00m \u001B[38;5;28misinstance\u001B[39m(rvalues, (np\u001B[38;5;241m.\u001B[39mndarray, ABCExtensionArray)):\n\u001B[0;32m    317\u001B[0m     \u001B[38;5;66;03m# TODO: make this treatment consistent across ops and classes.\u001B[39;00m\n\u001B[0;32m    318\u001B[0m     \u001B[38;5;66;03m#  We are not catching all listlikes here (e.g. frozenset, tuple)\u001B[39;00m\n\u001B[0;32m    319\u001B[0m     \u001B[38;5;66;03m#  The ambiguous case is object-dtype.  See GH#27803\u001B[39;00m\n\u001B[0;32m    320\u001B[0m     \u001B[38;5;28;01mif\u001B[39;00m \u001B[38;5;28mlen\u001B[39m(lvalues) \u001B[38;5;241m!=\u001B[39m \u001B[38;5;28mlen\u001B[39m(rvalues):\n\u001B[1;32m--> 321\u001B[0m         \u001B[38;5;28;01mraise\u001B[39;00m \u001B[38;5;167;01mValueError\u001B[39;00m(\n\u001B[0;32m    322\u001B[0m             \u001B[38;5;124m\"\u001B[39m\u001B[38;5;124mLengths must match to compare\u001B[39m\u001B[38;5;124m\"\u001B[39m, lvalues\u001B[38;5;241m.\u001B[39mshape, rvalues\u001B[38;5;241m.\u001B[39mshape\n\u001B[0;32m    323\u001B[0m         )\n\u001B[0;32m    325\u001B[0m \u001B[38;5;28;01mif\u001B[39;00m should_extension_dispatch(lvalues, rvalues) \u001B[38;5;129;01mor\u001B[39;00m (\n\u001B[0;32m    326\u001B[0m     (\u001B[38;5;28misinstance\u001B[39m(rvalues, (Timedelta, BaseOffset, Timestamp)) \u001B[38;5;129;01mor\u001B[39;00m right \u001B[38;5;129;01mis\u001B[39;00m NaT)\n\u001B[0;32m    327\u001B[0m     \u001B[38;5;129;01mand\u001B[39;00m lvalues\u001B[38;5;241m.\u001B[39mdtype \u001B[38;5;241m!=\u001B[39m \u001B[38;5;28mobject\u001B[39m\n\u001B[0;32m    328\u001B[0m ):\n\u001B[0;32m    329\u001B[0m     \u001B[38;5;66;03m# Call the method on lvalues\u001B[39;00m\n\u001B[0;32m    330\u001B[0m     res_values \u001B[38;5;241m=\u001B[39m op(lvalues, rvalues)\n",
      "\u001B[1;31mValueError\u001B[0m: ('Lengths must match to compare', (482,), (0,))"
     ]
    }
   ],
   "source": [
    "# Предполагается, что df - это ваш DataFrame с данными\n",
    "# Структура df: ['id', 'text', 'type', 'parent_id', 'parents_stack', 'toponim']\n",
    "\n",
    "# Функция для добавления id комментариев в новую ячейку\n",
    "def link_comments(df):\n",
    "    # Создаем новый столбец для связанных id комментариев\n",
    "    df['linked_comments'] = None\n",
    "\n",
    "    # Перебираем строки с типом 'post'\n",
    "    for index, post in df[df['type'] == 'post'].iterrows():\n",
    "        linked_ids = []\n",
    "\n",
    "        # Проверяем наличие топонима в посте\n",
    "        if pd.isnull(post['only_full_street_name']):\n",
    "            # Собираем комментарии, относящиеся к этому посту\n",
    "            comments = df[(df['type'] == 'comment') & (df['post_id'] == post['id'])]\n",
    "            for _, comment in comments.iterrows():\n",
    "                # Если в комментарии есть топоним, добавляем его id и id всех комментариев, ссылающихся на него\n",
    "                if pd.notnull(comment['only_full_street_name']):\n",
    "                    linked_ids.append(comment['id'])\n",
    "                    linked_ids.extend(df[df['parents_stack'] == comment['id']]['id'].tolist())\n",
    "        else:\n",
    "            # Собираем все комментарии, относящиеся к посту с топонимом\n",
    "            comments = df[(df['type'] == 'comment') & (df['post_id'] == post['id'])]\n",
    "            for _, comment in comments.iterrows():\n",
    "                # Добавляем id комментариев, если у них нет топонима и они не ссылаются на комментарий с топонимом\n",
    "                if pd.isnull(comment['only_full_street_name']) and pd.isnull(df[df['id'] == comment['parents_stack']]['only_full_street_name']).all():\n",
    "                    linked_ids.append(comment['id'])\n",
    "\n",
    "        # Записываем связанные id комментариев в новую ячейку\n",
    "        if linked_ids:\n",
    "            df.at[index, 'linked_comments'] = ', '.join(map(str, linked_ids))\n",
    "\n",
    "    return df\n",
    "\n",
    "# Применяем функцию к DataFrame\n",
    "df = test_gdf  # Замените это на ваш DataFrame\n",
    "df = link_comments(df)\n",
    "\n",
    "# Выводим обновленный DataFrame\n",
    "df"
   ],
   "metadata": {
    "collapsed": false
   }
  },
  {
   "cell_type": "code",
   "execution_count": null,
   "outputs": [],
   "source": [
    "df"
   ],
   "metadata": {
    "collapsed": false
   }
  },
  {
   "cell_type": "code",
   "execution_count": null,
   "outputs": [],
   "source": [
    "df = df.drop_duplicates(subset='id')\n",
    "df"
   ],
   "metadata": {
    "collapsed": false
   }
  },
  {
   "cell_type": "code",
   "execution_count": null,
   "outputs": [],
   "source": [],
   "metadata": {
    "collapsed": false
   }
  }
 ],
 "metadata": {
  "kernelspec": {
   "display_name": "Python 3",
   "language": "python",
   "name": "python3"
  },
  "language_info": {
   "codemirror_mode": {
    "name": "ipython",
    "version": 2
   },
   "file_extension": ".py",
   "mimetype": "text/x-python",
   "name": "python",
   "nbconvert_exporter": "python",
   "pygments_lexer": "ipython2",
   "version": "2.7.6"
  }
 },
 "nbformat": 4,
 "nbformat_minor": 0
}
