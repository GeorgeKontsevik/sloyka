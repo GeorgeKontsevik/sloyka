{
 "cells": [
  {
   "cell_type": "code",
   "execution_count": 1,
   "metadata": {
    "collapsed": true
   },
   "outputs": [],
   "source": [
    "import pandas as pd\n",
    "import keybert"
   ]
  },
  {
   "cell_type": "code",
   "execution_count": 10,
   "metadata": {
    "collapsed": false
   },
   "outputs": [],
   "source": [
    "import warnings\n",
    "\n",
    "warnings.simplefilter(\"ignore\")\n",
    "\n",
    "import os\n",
    "import sys\n",
    "\n",
    "folder = os.getcwd().split(\"\\\\examples\")[0]\n",
    "sys.path.append(folder)\n",
    "\n",
    "from sloyka.src.data_getter import VKParser"
   ]
  },
  {
   "cell_type": "code",
   "execution_count": 11,
   "metadata": {
    "collapsed": false
   },
   "outputs": [],
   "source": [
    "owner_id='-129354225' # группа \"центральный район за комфортную среду обитания\"\n",
    "token='...'"
   ]
  },
  {
   "cell_type": "code",
   "execution_count": 12,
   "metadata": {
    "collapsed": false
   },
   "outputs": [
    {
     "name": "stdout",
     "output_type": "stream",
     "text": [
      "2024-02-01 19:30:00\n",
      "posts downloaded\n"
     ]
    }
   ],
   "source": [
    "posts_df = VKParser().run_posts(owner_id, token, 100, \"2024-03-01\")"
   ]
  },
  {
   "cell_type": "code",
   "execution_count": 13,
   "metadata": {
    "collapsed": false
   },
   "outputs": [
    {
     "name": "stdout",
     "output_type": "stream",
     "text": [
      "comments downloaded\n"
     ]
    }
   ],
   "source": [
    "post_ids = posts_df[\"id\"].to_list()\n",
    "comments_df = VKParser().run_comments(owner_id=owner_id, post_ids=post_ids, access_token=token)"
   ]
  },
  {
   "cell_type": "code",
   "execution_count": 15,
   "metadata": {
    "collapsed": false
   },
   "outputs": [
    {
     "name": "stdout",
     "output_type": "stream",
     "text": [
      "2024-02-01 19:30:00\n",
      "posts downloaded\n",
      "comments downloaded\n"
     ]
    }
   ],
   "source": [
    "result_df = VKParser().run_parser(owner_id, token, step=100, cutoff_date='2024-03-20') #объединяем посты и комментарии в один датафрейм"
   ]
  },
  {
   "cell_type": "code",
   "execution_count": 16,
   "metadata": {
    "collapsed": false
   },
   "outputs": [
    {
     "data": {
      "text/html": [
       "<div>\n",
       "<style scoped>\n",
       "    .dataframe tbody tr th:only-of-type {\n",
       "        vertical-align: middle;\n",
       "    }\n",
       "\n",
       "    .dataframe tbody tr th {\n",
       "        vertical-align: top;\n",
       "    }\n",
       "\n",
       "    .dataframe thead th {\n",
       "        text-align: right;\n",
       "    }\n",
       "</style>\n",
       "<table border=\"1\" class=\"dataframe\">\n",
       "  <thead>\n",
       "    <tr style=\"text-align: right;\">\n",
       "      <th></th>\n",
       "      <th>date</th>\n",
       "      <th>id</th>\n",
       "      <th>text</th>\n",
       "      <th>views.count</th>\n",
       "      <th>likes.count</th>\n",
       "      <th>reposts.count</th>\n",
       "      <th>type</th>\n",
       "      <th>link</th>\n",
       "      <th>post_id</th>\n",
       "      <th>parents_stack</th>\n",
       "    </tr>\n",
       "  </thead>\n",
       "  <tbody>\n",
       "    <tr>\n",
       "      <th>0</th>\n",
       "      <td>2024-03-21 19:30:00</td>\n",
       "      <td>333766</td>\n",
       "      <td>В доме на Синопской набережной 32/35 из-за поз...</td>\n",
       "      <td>795.0</td>\n",
       "      <td>28</td>\n",
       "      <td>8.0</td>\n",
       "      <td>post</td>\n",
       "      <td>NaN</td>\n",
       "      <td>NaN</td>\n",
       "      <td>NaN</td>\n",
       "    </tr>\n",
       "    <tr>\n",
       "      <th>1</th>\n",
       "      <td>2024-03-21 10:30:00</td>\n",
       "      <td>333530</td>\n",
       "      <td>Сделайте сад Сан-Галли безопасным для граждан,...</td>\n",
       "      <td>3527.0</td>\n",
       "      <td>126</td>\n",
       "      <td>23.0</td>\n",
       "      <td>post</td>\n",
       "      <td>NaN</td>\n",
       "      <td>NaN</td>\n",
       "      <td>NaN</td>\n",
       "    </tr>\n",
       "    <tr>\n",
       "      <th>2</th>\n",
       "      <td>2024-03-20 19:30:00</td>\n",
       "      <td>333376</td>\n",
       "      <td>«Электросамокатная саранча» вновь повылезала н...</td>\n",
       "      <td>9866.0</td>\n",
       "      <td>188</td>\n",
       "      <td>24.0</td>\n",
       "      <td>post</td>\n",
       "      <td>NaN</td>\n",
       "      <td>NaN</td>\n",
       "      <td>NaN</td>\n",
       "    </tr>\n",
       "    <tr>\n",
       "      <th>3</th>\n",
       "      <td>2024-03-20 10:30:00</td>\n",
       "      <td>333265</td>\n",
       "      <td>Вот и отгуляла широкая Масленица! Наша команда...</td>\n",
       "      <td>4599.0</td>\n",
       "      <td>54</td>\n",
       "      <td>8.0</td>\n",
       "      <td>post</td>\n",
       "      <td>https://vk.com/wall-129354225_332885|ярко,</td>\n",
       "      <td>NaN</td>\n",
       "      <td>NaN</td>\n",
       "    </tr>\n",
       "    <tr>\n",
       "      <th>4</th>\n",
       "      <td>2024-03-19 19:30:00</td>\n",
       "      <td>333226</td>\n",
       "      <td>На том же месте сквозь года Вот так каланча ве...</td>\n",
       "      <td>4355.0</td>\n",
       "      <td>51</td>\n",
       "      <td>11.0</td>\n",
       "      <td>post</td>\n",
       "      <td>https://vk.com/wall-129354225_325408|уплотните...</td>\n",
       "      <td>NaN</td>\n",
       "      <td>NaN</td>\n",
       "    </tr>\n",
       "    <tr>\n",
       "      <th>...</th>\n",
       "      <td>...</td>\n",
       "      <td>...</td>\n",
       "      <td>...</td>\n",
       "      <td>...</td>\n",
       "      <td>...</td>\n",
       "      <td>...</td>\n",
       "      <td>...</td>\n",
       "      <td>...</td>\n",
       "      <td>...</td>\n",
       "      <td>...</td>\n",
       "    </tr>\n",
       "    <tr>\n",
       "      <th>715</th>\n",
       "      <td>2024-02-07 10:42:30</td>\n",
       "      <td>328420</td>\n",
       "      <td>Люди десятилетиями ждут замены лифтов, чтоб он...</td>\n",
       "      <td>NaN</td>\n",
       "      <td>2</td>\n",
       "      <td>NaN</td>\n",
       "      <td>comment</td>\n",
       "      <td>NaN</td>\n",
       "      <td>328388.0</td>\n",
       "      <td>[]</td>\n",
       "    </tr>\n",
       "    <tr>\n",
       "      <th>716</th>\n",
       "      <td>2024-02-07 12:57:57</td>\n",
       "      <td>328422</td>\n",
       "      <td>С вопросом капремонта  лифтов, к сожалению, ст...</td>\n",
       "      <td>NaN</td>\n",
       "      <td>4</td>\n",
       "      <td>NaN</td>\n",
       "      <td>comment</td>\n",
       "      <td>NaN</td>\n",
       "      <td>328388.0</td>\n",
       "      <td>[]</td>\n",
       "    </tr>\n",
       "    <tr>\n",
       "      <th>717</th>\n",
       "      <td>2024-02-07 14:03:22</td>\n",
       "      <td>328427</td>\n",
       "      <td>Думаю что лифты в порядке. Просто их выключили...</td>\n",
       "      <td>NaN</td>\n",
       "      <td>1</td>\n",
       "      <td>NaN</td>\n",
       "      <td>comment</td>\n",
       "      <td>NaN</td>\n",
       "      <td>328388.0</td>\n",
       "      <td>[]</td>\n",
       "    </tr>\n",
       "    <tr>\n",
       "      <th>718</th>\n",
       "      <td>2024-02-07 15:26:01</td>\n",
       "      <td>328438</td>\n",
       "      <td>[id10835085|Андрей], очень даже может быть</td>\n",
       "      <td>NaN</td>\n",
       "      <td>1</td>\n",
       "      <td>NaN</td>\n",
       "      <td>reply</td>\n",
       "      <td>NaN</td>\n",
       "      <td>328388.0</td>\n",
       "      <td>[328427]</td>\n",
       "    </tr>\n",
       "    <tr>\n",
       "      <th>719</th>\n",
       "      <td>2024-02-07 18:56:25</td>\n",
       "      <td>328462</td>\n",
       "      <td>С лифтами ныне у многих проблемы. У меня в дом...</td>\n",
       "      <td>NaN</td>\n",
       "      <td>0</td>\n",
       "      <td>NaN</td>\n",
       "      <td>comment</td>\n",
       "      <td>NaN</td>\n",
       "      <td>328388.0</td>\n",
       "      <td>[]</td>\n",
       "    </tr>\n",
       "  </tbody>\n",
       "</table>\n",
       "<p>720 rows × 10 columns</p>\n",
       "</div>"
      ],
      "text/plain": [
       "                    date      id  \\\n",
       "0    2024-03-21 19:30:00  333766   \n",
       "1    2024-03-21 10:30:00  333530   \n",
       "2    2024-03-20 19:30:00  333376   \n",
       "3    2024-03-20 10:30:00  333265   \n",
       "4    2024-03-19 19:30:00  333226   \n",
       "..                   ...     ...   \n",
       "715  2024-02-07 10:42:30  328420   \n",
       "716  2024-02-07 12:57:57  328422   \n",
       "717  2024-02-07 14:03:22  328427   \n",
       "718  2024-02-07 15:26:01  328438   \n",
       "719  2024-02-07 18:56:25  328462   \n",
       "\n",
       "                                                  text  views.count  \\\n",
       "0    В доме на Синопской набережной 32/35 из-за поз...        795.0   \n",
       "1    Сделайте сад Сан-Галли безопасным для граждан,...       3527.0   \n",
       "2    «Электросамокатная саранча» вновь повылезала н...       9866.0   \n",
       "3    Вот и отгуляла широкая Масленица! Наша команда...       4599.0   \n",
       "4    На том же месте сквозь года Вот так каланча ве...       4355.0   \n",
       "..                                                 ...          ...   \n",
       "715  Люди десятилетиями ждут замены лифтов, чтоб он...          NaN   \n",
       "716  С вопросом капремонта  лифтов, к сожалению, ст...          NaN   \n",
       "717  Думаю что лифты в порядке. Просто их выключили...          NaN   \n",
       "718         [id10835085|Андрей], очень даже может быть          NaN   \n",
       "719  С лифтами ныне у многих проблемы. У меня в дом...          NaN   \n",
       "\n",
       "     likes.count  reposts.count     type  \\\n",
       "0             28            8.0     post   \n",
       "1            126           23.0     post   \n",
       "2            188           24.0     post   \n",
       "3             54            8.0     post   \n",
       "4             51           11.0     post   \n",
       "..           ...            ...      ...   \n",
       "715            2            NaN  comment   \n",
       "716            4            NaN  comment   \n",
       "717            1            NaN  comment   \n",
       "718            1            NaN    reply   \n",
       "719            0            NaN  comment   \n",
       "\n",
       "                                                  link   post_id parents_stack  \n",
       "0                                                  NaN       NaN           NaN  \n",
       "1                                                  NaN       NaN           NaN  \n",
       "2                                                  NaN       NaN           NaN  \n",
       "3           https://vk.com/wall-129354225_332885|ярко,       NaN           NaN  \n",
       "4    https://vk.com/wall-129354225_325408|уплотните...       NaN           NaN  \n",
       "..                                                 ...       ...           ...  \n",
       "715                                                NaN  328388.0            []  \n",
       "716                                                NaN  328388.0            []  \n",
       "717                                                NaN  328388.0            []  \n",
       "718                                                NaN  328388.0      [328427]  \n",
       "719                                                NaN  328388.0            []  \n",
       "\n",
       "[720 rows x 10 columns]"
      ]
     },
     "execution_count": 16,
     "metadata": {},
     "output_type": "execute_result"
    }
   ],
   "source": [
    "result_df"
   ]
  },
  {
   "cell_type": "code",
   "execution_count": 17,
   "metadata": {
    "collapsed": false
   },
   "outputs": [],
   "source": [
    "result_df.to_csv(\"C:\\\\Users\\\\thebe\\\\Downloads\\\\ruina.csv\")"
   ]
  },
  {
   "cell_type": "code",
   "execution_count": 153,
   "metadata": {
    "collapsed": false
   },
   "outputs": [],
   "source": [
    "df_from_csv = pd.read_csv(\"C:\\\\Users\\\\thebe\\\\Downloads\\\\ruina.csv\")"
   ]
  },
  {
   "cell_type": "code",
   "execution_count": 154,
   "metadata": {
    "collapsed": false
   },
   "outputs": [
    {
     "name": "stdout",
     "output_type": "stream",
     "text": [
      "2024-03-22 14:11:45,652 SequenceTagger predicts: Dictionary with 5 tags: O, S-ADDRESS, B-ADDRESS, E-ADDRESS, I-ADDRESS\n",
      "\u001b[32m03-22 14:12\u001b[0m | \u001b[1mINFO    \u001b[0m | \u001b[36mclear_names started\u001b[0m\n",
      "\u001b[32m03-22 14:12\u001b[0m | \u001b[1mINFO    \u001b[0m | \u001b[36mget_street started\u001b[0m\n",
      "\u001b[32m03-22 14:12\u001b[0m | \u001b[1mINFO    \u001b[0m | \u001b[36mextract_ner_street started\u001b[0m\n"
     ]
    },
    {
     "name": "stderr",
     "output_type": "stream",
     "text": [
      "100%|██████████| 720/720 [00:06<00:00, 105.55it/s]\n",
      "100%|██████████| 720/720 [00:04<00:00, 169.52it/s]"
     ]
    },
    {
     "name": "stdout",
     "output_type": "stream",
     "text": [
      "\u001b[32m03-22 14:12\u001b[0m | \u001b[1mINFO    \u001b[0m | \u001b[36mpattern1.sub started\u001b[0m\n"
     ]
    },
    {
     "name": "stderr",
     "output_type": "stream",
     "text": [
      "\n",
      "100%|██████████| 720/720 [00:00<00:00, 719537.50it/s]"
     ]
    },
    {
     "name": "stdout",
     "output_type": "stream",
     "text": [
      "\u001b[32m03-22 14:12\u001b[0m | \u001b[1mINFO    \u001b[0m | \u001b[36mpattern2.findall started\u001b[0m\n"
     ]
    },
    {
     "name": "stderr",
     "output_type": "stream",
     "text": [
      "\n",
      "100%|██████████| 720/720 [00:00<00:00, 723675.74it/s]"
     ]
    },
    {
     "name": "stdout",
     "output_type": "stream",
     "text": [
      "\u001b[32m03-22 14:12\u001b[0m | \u001b[1mINFO    \u001b[0m | \u001b[36mpattern2.sub started\u001b[0m\n"
     ]
    },
    {
     "name": "stderr",
     "output_type": "stream",
     "text": [
      "\n",
      "100%|██████████| 720/720 [00:00<00:00, 718681.31it/s]"
     ]
    },
    {
     "name": "stdout",
     "output_type": "stream",
     "text": [
      "\u001b[32m03-22 14:12\u001b[0m | \u001b[1mINFO    \u001b[0m | \u001b[36mextract_building_num started\u001b[0m\n"
     ]
    },
    {
     "name": "stderr",
     "output_type": "stream",
     "text": [
      "\n",
      "100%|██████████| 720/720 [00:00<00:00, 36892.37it/s]"
     ]
    },
    {
     "name": "stdout",
     "output_type": "stream",
     "text": [
      "\u001b[32m03-22 14:12\u001b[0m | \u001b[1mINFO    \u001b[0m | \u001b[36mextract_toponym started\u001b[0m\n"
     ]
    },
    {
     "name": "stderr",
     "output_type": "stream",
     "text": [
      "\n",
      "100%|██████████| 720/720 [00:00<00:00, 4140.13it/s]"
     ]
    },
    {
     "name": "stdout",
     "output_type": "stream",
     "text": [
      "\u001b[32m03-22 14:12\u001b[0m | \u001b[1mINFO    \u001b[0m | \u001b[36mget_stem started\u001b[0m\n"
     ]
    },
    {
     "name": "stderr",
     "output_type": "stream",
     "text": [
      "\n"
     ]
    },
    {
     "ename": "ValueError",
     "evalue": "Unable to fill values because RangeIndex cannot contain NA",
     "output_type": "error",
     "traceback": [
      "\u001b[1;31m---------------------------------------------------------------------------\u001b[0m",
      "\u001b[1;31mValueError\u001b[0m                                Traceback (most recent call last)",
      "Cell \u001b[1;32mIn[154], line 5\u001b[0m\n\u001b[0;32m      1\u001b[0m \u001b[38;5;28;01mfrom\u001b[39;00m \u001b[38;5;21;01mgeocoder\u001b[39;00m \u001b[38;5;28;01mimport\u001b[39;00m Geocoder\n\u001b[0;32m      3\u001b[0m g \u001b[38;5;241m=\u001b[39m Geocoder(device\u001b[38;5;241m=\u001b[39m\u001b[38;5;124m'\u001b[39m\u001b[38;5;124mcuda\u001b[39m\u001b[38;5;124m'\u001b[39m)\n\u001b[1;32m----> 5\u001b[0m gdf \u001b[38;5;241m=\u001b[39m \u001b[43mg\u001b[49m\u001b[38;5;241;43m.\u001b[39;49m\u001b[43mrun\u001b[49m\u001b[43m(\u001b[49m\u001b[43mdf_from_csv\u001b[49m\u001b[43m,\u001b[49m\u001b[43m \u001b[49m\u001b[38;5;124;43m'\u001b[39;49m\u001b[38;5;124;43mtext\u001b[39;49m\u001b[38;5;124;43m'\u001b[39;49m\u001b[43m)\u001b[49m\n",
      "File \u001b[1;32mI:\\sloyka\\sloyka\\src\\geocoder.py:740\u001b[0m, in \u001b[0;36mGeocoder.run\u001b[1;34m(self, df, text_column)\u001b[0m\n\u001b[0;32m    738\u001b[0m df \u001b[38;5;241m=\u001b[39m \u001b[38;5;28mself\u001b[39m\u001b[38;5;241m.\u001b[39mget_street(df, text_column)\n\u001b[0;32m    739\u001b[0m street_names \u001b[38;5;241m=\u001b[39m \u001b[38;5;28mself\u001b[39m\u001b[38;5;241m.\u001b[39mget_stem(street_names)\n\u001b[1;32m--> 740\u001b[0m df \u001b[38;5;241m=\u001b[39m \u001b[38;5;28;43mself\u001b[39;49m\u001b[38;5;241;43m.\u001b[39;49m\u001b[43mfind_word_form\u001b[49m\u001b[43m(\u001b[49m\u001b[43mdf\u001b[49m\u001b[43m,\u001b[49m\u001b[43m \u001b[49m\u001b[43mstreet_names\u001b[49m\u001b[43m)\u001b[49m\n\u001b[0;32m    741\u001b[0m gdf \u001b[38;5;241m=\u001b[39m \u001b[38;5;28mself\u001b[39m\u001b[38;5;241m.\u001b[39mcreate_gdf(df)\n\u001b[0;32m    742\u001b[0m \u001b[38;5;66;03m# gdf2 = self.merge_to_initial_df(gdf, initial_df)\u001b[39;00m\n\u001b[0;32m    743\u001b[0m \n\u001b[0;32m    744\u001b[0m \u001b[38;5;66;03m# # Add a new 'level' column using the get_level function\u001b[39;00m\n\u001b[0;32m    745\u001b[0m \u001b[38;5;66;03m# gdf2[\"level\"] = gdf2.progress_apply(self.get_level, axis=1)\u001b[39;00m\n\u001b[0;32m    746\u001b[0m \u001b[38;5;66;03m# gdf2 = self.set_global_repr_point(gdf2)\u001b[39;00m\n",
      "File \u001b[1;32mI:\\sloyka\\sloyka\\src\\geocoder.py:561\u001b[0m, in \u001b[0;36mGeocoder.find_word_form\u001b[1;34m(self, df, strts_df)\u001b[0m\n\u001b[0;32m    558\u001b[0m new_df \u001b[38;5;241m=\u001b[39m tmp_df_1\u001b[38;5;241m.\u001b[39mto_frame()\u001b[38;5;241m.\u001b[39mjoin(tmp_df_2\u001b[38;5;241m.\u001b[39mto_frame()) \n\u001b[0;32m    560\u001b[0m df\u001b[38;5;241m.\u001b[39mdrop(columns\u001b[38;5;241m=\u001b[39m[\u001b[38;5;124m'\u001b[39m\u001b[38;5;124monly_full_street_name\u001b[39m\u001b[38;5;124m'\u001b[39m], inplace\u001b[38;5;241m=\u001b[39m\u001b[38;5;28;01mTrue\u001b[39;00m)\n\u001b[1;32m--> 561\u001b[0m df \u001b[38;5;241m=\u001b[39m \u001b[43mdf\u001b[49m\u001b[38;5;241;43m.\u001b[39;49m\u001b[43mmerge\u001b[49m\u001b[43m(\u001b[49m\u001b[43mnew_df\u001b[49m\u001b[43m,\u001b[49m\u001b[43m \u001b[49m\u001b[43mleft_on\u001b[49m\u001b[38;5;241;43m=\u001b[39;49m\u001b[43mdf\u001b[49m\u001b[38;5;241;43m.\u001b[39;49m\u001b[43mindex\u001b[49m\u001b[43m,\u001b[49m\u001b[43m \u001b[49m\u001b[43mright_on\u001b[49m\u001b[38;5;241;43m=\u001b[39;49m\u001b[43mnew_df\u001b[49m\u001b[38;5;241;43m.\u001b[39;49m\u001b[43mindex\u001b[49m\u001b[43m)\u001b[49m\n\u001b[0;32m    562\u001b[0m df\u001b[38;5;241m.\u001b[39mdrop(columns\u001b[38;5;241m=\u001b[39m[\u001b[38;5;124m'\u001b[39m\u001b[38;5;124mkey_0\u001b[39m\u001b[38;5;124m'\u001b[39m], inplace\u001b[38;5;241m=\u001b[39m\u001b[38;5;28;01mTrue\u001b[39;00m)\n\u001b[0;32m    564\u001b[0m \u001b[38;5;66;03m# new_df = df[\"only_full_street_name\"].explode()\u001b[39;00m\n\u001b[0;32m    565\u001b[0m \u001b[38;5;66;03m# new_df.name = \"only_full_street_name\"\u001b[39;00m\n\u001b[0;32m    566\u001b[0m \u001b[38;5;66;03m# df.drop(columns=['key_0', 'only_full_street_name'], inplace=True)\u001b[39;00m\n\u001b[0;32m    567\u001b[0m \u001b[38;5;66;03m# df = df.merge(new_df, left_on=df.index, right_on=new_df.index)\u001b[39;00m\n\u001b[0;32m    568\u001b[0m \n\u001b[0;32m    569\u001b[0m \u001b[38;5;66;03m# print(df.head())\u001b[39;00m\n",
      "File \u001b[1;32mI:\\sloyka\\venv\\lib\\site-packages\\pandas\\core\\frame.py:10819\u001b[0m, in \u001b[0;36mDataFrame.merge\u001b[1;34m(self, right, how, on, left_on, right_on, left_index, right_index, sort, suffixes, copy, indicator, validate)\u001b[0m\n\u001b[0;32m  10800\u001b[0m \u001b[38;5;129m@Substitution\u001b[39m(\u001b[38;5;124m\"\u001b[39m\u001b[38;5;124m\"\u001b[39m)\n\u001b[0;32m  10801\u001b[0m \u001b[38;5;129m@Appender\u001b[39m(_merge_doc, indents\u001b[38;5;241m=\u001b[39m\u001b[38;5;241m2\u001b[39m)\n\u001b[0;32m  10802\u001b[0m \u001b[38;5;28;01mdef\u001b[39;00m \u001b[38;5;21mmerge\u001b[39m(\n\u001b[1;32m   (...)\u001b[0m\n\u001b[0;32m  10815\u001b[0m     validate: MergeValidate \u001b[38;5;241m|\u001b[39m \u001b[38;5;28;01mNone\u001b[39;00m \u001b[38;5;241m=\u001b[39m \u001b[38;5;28;01mNone\u001b[39;00m,\n\u001b[0;32m  10816\u001b[0m ) \u001b[38;5;241m-\u001b[39m\u001b[38;5;241m>\u001b[39m DataFrame:\n\u001b[0;32m  10817\u001b[0m     \u001b[38;5;28;01mfrom\u001b[39;00m \u001b[38;5;21;01mpandas\u001b[39;00m\u001b[38;5;21;01m.\u001b[39;00m\u001b[38;5;21;01mcore\u001b[39;00m\u001b[38;5;21;01m.\u001b[39;00m\u001b[38;5;21;01mreshape\u001b[39;00m\u001b[38;5;21;01m.\u001b[39;00m\u001b[38;5;21;01mmerge\u001b[39;00m \u001b[38;5;28;01mimport\u001b[39;00m merge\n\u001b[1;32m> 10819\u001b[0m     \u001b[38;5;28;01mreturn\u001b[39;00m \u001b[43mmerge\u001b[49m\u001b[43m(\u001b[49m\n\u001b[0;32m  10820\u001b[0m \u001b[43m        \u001b[49m\u001b[38;5;28;43mself\u001b[39;49m\u001b[43m,\u001b[49m\n\u001b[0;32m  10821\u001b[0m \u001b[43m        \u001b[49m\u001b[43mright\u001b[49m\u001b[43m,\u001b[49m\n\u001b[0;32m  10822\u001b[0m \u001b[43m        \u001b[49m\u001b[43mhow\u001b[49m\u001b[38;5;241;43m=\u001b[39;49m\u001b[43mhow\u001b[49m\u001b[43m,\u001b[49m\n\u001b[0;32m  10823\u001b[0m \u001b[43m        \u001b[49m\u001b[43mon\u001b[49m\u001b[38;5;241;43m=\u001b[39;49m\u001b[43mon\u001b[49m\u001b[43m,\u001b[49m\n\u001b[0;32m  10824\u001b[0m \u001b[43m        \u001b[49m\u001b[43mleft_on\u001b[49m\u001b[38;5;241;43m=\u001b[39;49m\u001b[43mleft_on\u001b[49m\u001b[43m,\u001b[49m\n\u001b[0;32m  10825\u001b[0m \u001b[43m        \u001b[49m\u001b[43mright_on\u001b[49m\u001b[38;5;241;43m=\u001b[39;49m\u001b[43mright_on\u001b[49m\u001b[43m,\u001b[49m\n\u001b[0;32m  10826\u001b[0m \u001b[43m        \u001b[49m\u001b[43mleft_index\u001b[49m\u001b[38;5;241;43m=\u001b[39;49m\u001b[43mleft_index\u001b[49m\u001b[43m,\u001b[49m\n\u001b[0;32m  10827\u001b[0m \u001b[43m        \u001b[49m\u001b[43mright_index\u001b[49m\u001b[38;5;241;43m=\u001b[39;49m\u001b[43mright_index\u001b[49m\u001b[43m,\u001b[49m\n\u001b[0;32m  10828\u001b[0m \u001b[43m        \u001b[49m\u001b[43msort\u001b[49m\u001b[38;5;241;43m=\u001b[39;49m\u001b[43msort\u001b[49m\u001b[43m,\u001b[49m\n\u001b[0;32m  10829\u001b[0m \u001b[43m        \u001b[49m\u001b[43msuffixes\u001b[49m\u001b[38;5;241;43m=\u001b[39;49m\u001b[43msuffixes\u001b[49m\u001b[43m,\u001b[49m\n\u001b[0;32m  10830\u001b[0m \u001b[43m        \u001b[49m\u001b[43mcopy\u001b[49m\u001b[38;5;241;43m=\u001b[39;49m\u001b[43mcopy\u001b[49m\u001b[43m,\u001b[49m\n\u001b[0;32m  10831\u001b[0m \u001b[43m        \u001b[49m\u001b[43mindicator\u001b[49m\u001b[38;5;241;43m=\u001b[39;49m\u001b[43mindicator\u001b[49m\u001b[43m,\u001b[49m\n\u001b[0;32m  10832\u001b[0m \u001b[43m        \u001b[49m\u001b[43mvalidate\u001b[49m\u001b[38;5;241;43m=\u001b[39;49m\u001b[43mvalidate\u001b[49m\u001b[43m,\u001b[49m\n\u001b[0;32m  10833\u001b[0m \u001b[43m    \u001b[49m\u001b[43m)\u001b[49m\n",
      "File \u001b[1;32mI:\\sloyka\\venv\\lib\\site-packages\\pandas\\core\\reshape\\merge.py:184\u001b[0m, in \u001b[0;36mmerge\u001b[1;34m(left, right, how, on, left_on, right_on, left_index, right_index, sort, suffixes, copy, indicator, validate)\u001b[0m\n\u001b[0;32m    169\u001b[0m \u001b[38;5;28;01melse\u001b[39;00m:\n\u001b[0;32m    170\u001b[0m     op \u001b[38;5;241m=\u001b[39m _MergeOperation(\n\u001b[0;32m    171\u001b[0m         left_df,\n\u001b[0;32m    172\u001b[0m         right_df,\n\u001b[1;32m   (...)\u001b[0m\n\u001b[0;32m    182\u001b[0m         validate\u001b[38;5;241m=\u001b[39mvalidate,\n\u001b[0;32m    183\u001b[0m     )\n\u001b[1;32m--> 184\u001b[0m     \u001b[38;5;28;01mreturn\u001b[39;00m \u001b[43mop\u001b[49m\u001b[38;5;241;43m.\u001b[39;49m\u001b[43mget_result\u001b[49m\u001b[43m(\u001b[49m\u001b[43mcopy\u001b[49m\u001b[38;5;241;43m=\u001b[39;49m\u001b[43mcopy\u001b[49m\u001b[43m)\u001b[49m\n",
      "File \u001b[1;32mI:\\sloyka\\venv\\lib\\site-packages\\pandas\\core\\reshape\\merge.py:896\u001b[0m, in \u001b[0;36m_MergeOperation.get_result\u001b[1;34m(self, copy)\u001b[0m\n\u001b[0;32m    893\u001b[0m \u001b[38;5;28;01mif\u001b[39;00m \u001b[38;5;28mself\u001b[39m\u001b[38;5;241m.\u001b[39mindicator:\n\u001b[0;32m    894\u001b[0m     result \u001b[38;5;241m=\u001b[39m \u001b[38;5;28mself\u001b[39m\u001b[38;5;241m.\u001b[39m_indicator_post_merge(result)\n\u001b[1;32m--> 896\u001b[0m \u001b[38;5;28;43mself\u001b[39;49m\u001b[38;5;241;43m.\u001b[39;49m\u001b[43m_maybe_add_join_keys\u001b[49m\u001b[43m(\u001b[49m\u001b[43mresult\u001b[49m\u001b[43m,\u001b[49m\u001b[43m \u001b[49m\u001b[43mleft_indexer\u001b[49m\u001b[43m,\u001b[49m\u001b[43m \u001b[49m\u001b[43mright_indexer\u001b[49m\u001b[43m)\u001b[49m\n\u001b[0;32m    898\u001b[0m \u001b[38;5;28mself\u001b[39m\u001b[38;5;241m.\u001b[39m_maybe_restore_index_levels(result)\n\u001b[0;32m    900\u001b[0m \u001b[38;5;28;01mreturn\u001b[39;00m result\u001b[38;5;241m.\u001b[39m__finalize__(\u001b[38;5;28mself\u001b[39m, method\u001b[38;5;241m=\u001b[39m\u001b[38;5;124m\"\u001b[39m\u001b[38;5;124mmerge\u001b[39m\u001b[38;5;124m\"\u001b[39m)\n",
      "File \u001b[1;32mI:\\sloyka\\venv\\lib\\site-packages\\pandas\\core\\reshape\\merge.py:1064\u001b[0m, in \u001b[0;36m_MergeOperation._maybe_add_join_keys\u001b[1;34m(self, result, left_indexer, right_indexer)\u001b[0m\n\u001b[0;32m   1062\u001b[0m     take_left \u001b[38;5;241m=\u001b[39m extract_array(take_left, extract_numpy\u001b[38;5;241m=\u001b[39m\u001b[38;5;28;01mTrue\u001b[39;00m)\n\u001b[0;32m   1063\u001b[0m     lfill \u001b[38;5;241m=\u001b[39m na_value_for_dtype(take_left\u001b[38;5;241m.\u001b[39mdtype)\n\u001b[1;32m-> 1064\u001b[0m     lvals \u001b[38;5;241m=\u001b[39m \u001b[43malgos\u001b[49m\u001b[38;5;241;43m.\u001b[39;49m\u001b[43mtake_nd\u001b[49m\u001b[43m(\u001b[49m\u001b[43mtake_left\u001b[49m\u001b[43m,\u001b[49m\u001b[43m \u001b[49m\u001b[43mleft_indexer\u001b[49m\u001b[43m,\u001b[49m\u001b[43m \u001b[49m\u001b[43mfill_value\u001b[49m\u001b[38;5;241;43m=\u001b[39;49m\u001b[43mlfill\u001b[49m\u001b[43m)\u001b[49m\n\u001b[0;32m   1066\u001b[0m \u001b[38;5;28;01mif\u001b[39;00m take_right \u001b[38;5;129;01mis\u001b[39;00m \u001b[38;5;28;01mNone\u001b[39;00m:\n\u001b[0;32m   1067\u001b[0m     rvals \u001b[38;5;241m=\u001b[39m result[name]\u001b[38;5;241m.\u001b[39m_values\n",
      "File \u001b[1;32mI:\\sloyka\\venv\\lib\\site-packages\\pandas\\core\\array_algos\\take.py:110\u001b[0m, in \u001b[0;36mtake_nd\u001b[1;34m(arr, indexer, axis, fill_value, allow_fill)\u001b[0m\n\u001b[0;32m    107\u001b[0m     \u001b[38;5;28;01mif\u001b[39;00m \u001b[38;5;129;01mnot\u001b[39;00m is_1d_only_ea_dtype(arr\u001b[38;5;241m.\u001b[39mdtype):\n\u001b[0;32m    108\u001b[0m         \u001b[38;5;66;03m# i.e. DatetimeArray, TimedeltaArray\u001b[39;00m\n\u001b[0;32m    109\u001b[0m         arr \u001b[38;5;241m=\u001b[39m cast(\u001b[38;5;124m\"\u001b[39m\u001b[38;5;124mNDArrayBackedExtensionArray\u001b[39m\u001b[38;5;124m\"\u001b[39m, arr)\n\u001b[1;32m--> 110\u001b[0m         \u001b[38;5;28;01mreturn\u001b[39;00m \u001b[43marr\u001b[49m\u001b[38;5;241;43m.\u001b[39;49m\u001b[43mtake\u001b[49m\u001b[43m(\u001b[49m\n\u001b[0;32m    111\u001b[0m \u001b[43m            \u001b[49m\u001b[43mindexer\u001b[49m\u001b[43m,\u001b[49m\u001b[43m \u001b[49m\u001b[43mfill_value\u001b[49m\u001b[38;5;241;43m=\u001b[39;49m\u001b[43mfill_value\u001b[49m\u001b[43m,\u001b[49m\u001b[43m \u001b[49m\u001b[43mallow_fill\u001b[49m\u001b[38;5;241;43m=\u001b[39;49m\u001b[43mallow_fill\u001b[49m\u001b[43m,\u001b[49m\u001b[43m \u001b[49m\u001b[43maxis\u001b[49m\u001b[38;5;241;43m=\u001b[39;49m\u001b[43maxis\u001b[49m\n\u001b[0;32m    112\u001b[0m \u001b[43m        \u001b[49m\u001b[43m)\u001b[49m\n\u001b[0;32m    114\u001b[0m     \u001b[38;5;28;01mreturn\u001b[39;00m arr\u001b[38;5;241m.\u001b[39mtake(indexer, fill_value\u001b[38;5;241m=\u001b[39mfill_value, allow_fill\u001b[38;5;241m=\u001b[39mallow_fill)\n\u001b[0;32m    116\u001b[0m arr \u001b[38;5;241m=\u001b[39m np\u001b[38;5;241m.\u001b[39masarray(arr)\n",
      "File \u001b[1;32mI:\\sloyka\\venv\\lib\\site-packages\\pandas\\core\\indexes\\range.py:1163\u001b[0m, in \u001b[0;36mRangeIndex.take\u001b[1;34m(self, indices, axis, allow_fill, fill_value, **kwargs)\u001b[0m\n\u001b[0;32m   1160\u001b[0m indices \u001b[38;5;241m=\u001b[39m ensure_platform_int(indices)\n\u001b[0;32m   1162\u001b[0m \u001b[38;5;66;03m# raise an exception if allow_fill is True and fill_value is not None\u001b[39;00m\n\u001b[1;32m-> 1163\u001b[0m \u001b[38;5;28;43mself\u001b[39;49m\u001b[38;5;241;43m.\u001b[39;49m\u001b[43m_maybe_disallow_fill\u001b[49m\u001b[43m(\u001b[49m\u001b[43mallow_fill\u001b[49m\u001b[43m,\u001b[49m\u001b[43m \u001b[49m\u001b[43mfill_value\u001b[49m\u001b[43m,\u001b[49m\u001b[43m \u001b[49m\u001b[43mindices\u001b[49m\u001b[43m)\u001b[49m\n\u001b[0;32m   1165\u001b[0m \u001b[38;5;28;01mif\u001b[39;00m \u001b[38;5;28mlen\u001b[39m(indices) \u001b[38;5;241m==\u001b[39m \u001b[38;5;241m0\u001b[39m:\n\u001b[0;32m   1166\u001b[0m     taken \u001b[38;5;241m=\u001b[39m np\u001b[38;5;241m.\u001b[39marray([], dtype\u001b[38;5;241m=\u001b[39m\u001b[38;5;28mself\u001b[39m\u001b[38;5;241m.\u001b[39mdtype)\n",
      "File \u001b[1;32mI:\\sloyka\\venv\\lib\\site-packages\\pandas\\core\\indexes\\base.py:1192\u001b[0m, in \u001b[0;36mIndex._maybe_disallow_fill\u001b[1;34m(self, allow_fill, fill_value, indices)\u001b[0m\n\u001b[0;32m   1190\u001b[0m     \u001b[38;5;28;01melse\u001b[39;00m:\n\u001b[0;32m   1191\u001b[0m         cls_name \u001b[38;5;241m=\u001b[39m \u001b[38;5;28mtype\u001b[39m(\u001b[38;5;28mself\u001b[39m)\u001b[38;5;241m.\u001b[39m\u001b[38;5;18m__name__\u001b[39m\n\u001b[1;32m-> 1192\u001b[0m         \u001b[38;5;28;01mraise\u001b[39;00m \u001b[38;5;167;01mValueError\u001b[39;00m(\n\u001b[0;32m   1193\u001b[0m             \u001b[38;5;124mf\u001b[39m\u001b[38;5;124m\"\u001b[39m\u001b[38;5;124mUnable to fill values because \u001b[39m\u001b[38;5;132;01m{\u001b[39;00mcls_name\u001b[38;5;132;01m}\u001b[39;00m\u001b[38;5;124m cannot contain NA\u001b[39m\u001b[38;5;124m\"\u001b[39m\n\u001b[0;32m   1194\u001b[0m         )\n\u001b[0;32m   1195\u001b[0m \u001b[38;5;28;01melse\u001b[39;00m:\n\u001b[0;32m   1196\u001b[0m     allow_fill \u001b[38;5;241m=\u001b[39m \u001b[38;5;28;01mFalse\u001b[39;00m\n",
      "\u001b[1;31mValueError\u001b[0m: Unable to fill values because RangeIndex cannot contain NA"
     ]
    }
   ],
   "source": [
    "from geocoder import Geocoder\n",
    "\n",
    "g = Geocoder(device='cuda')\n",
    "\n",
    "gdf = g.run(df_from_csv, 'text')"
   ]
  },
  {
   "cell_type": "code",
   "execution_count": 24,
   "metadata": {
    "collapsed": false
   },
   "outputs": [
    {
     "ename": "NameError",
     "evalue": "name 'gdf' is not defined",
     "output_type": "error",
     "traceback": [
      "\u001b[1;31m---------------------------------------------------------------------------\u001b[0m",
      "\u001b[1;31mNameError\u001b[0m                                 Traceback (most recent call last)",
      "Cell \u001b[1;32mIn[24], line 1\u001b[0m\n\u001b[1;32m----> 1\u001b[0m \u001b[43mgdf\u001b[49m\n",
      "\u001b[1;31mNameError\u001b[0m: name 'gdf' is not defined"
     ]
    }
   ],
   "source": [
    "gdf"
   ]
  },
  {
   "cell_type": "code",
   "execution_count": 25,
   "metadata": {
    "collapsed": false
   },
   "outputs": [
    {
     "ename": "NameError",
     "evalue": "name 'gdf' is not defined",
     "output_type": "error",
     "traceback": [
      "\u001b[1;31m---------------------------------------------------------------------------\u001b[0m",
      "\u001b[1;31mNameError\u001b[0m                                 Traceback (most recent call last)",
      "Cell \u001b[1;32mIn[25], line 1\u001b[0m\n\u001b[1;32m----> 1\u001b[0m \u001b[38;5;28mlen\u001b[39m(\u001b[43mgdf\u001b[49m[\u001b[38;5;124m'\u001b[39m\u001b[38;5;124mparents_stack\u001b[39m\u001b[38;5;124m'\u001b[39m]\u001b[38;5;241m.\u001b[39miloc[\u001b[38;5;241m187\u001b[39m])\n",
      "\u001b[1;31mNameError\u001b[0m: name 'gdf' is not defined"
     ]
    }
   ],
   "source": [
    "len(gdf['parents_stack'].iloc[187])"
   ]
  },
  {
   "cell_type": "code",
   "execution_count": 26,
   "metadata": {
    "collapsed": false
   },
   "outputs": [
    {
     "ename": "NameError",
     "evalue": "name 'gdf' is not defined",
     "output_type": "error",
     "traceback": [
      "\u001b[1;31m---------------------------------------------------------------------------\u001b[0m",
      "\u001b[1;31mNameError\u001b[0m                                 Traceback (most recent call last)",
      "Cell \u001b[1;32mIn[26], line 1\u001b[0m\n\u001b[1;32m----> 1\u001b[0m test_gdf \u001b[38;5;241m=\u001b[39m \u001b[43mgdf\u001b[49m\u001b[38;5;241m.\u001b[39mcopy()\n",
      "\u001b[1;31mNameError\u001b[0m: name 'gdf' is not defined"
     ]
    }
   ],
   "source": [
    "test_gdf = gdf.copy()"
   ]
  },
  {
   "cell_type": "code",
   "execution_count": 18,
   "metadata": {
    "collapsed": false
   },
   "outputs": [
    {
     "ename": "NameError",
     "evalue": "name 'test_gdf' is not defined",
     "output_type": "error",
     "traceback": [
      "\u001b[1;31m---------------------------------------------------------------------------\u001b[0m",
      "\u001b[1;31mNameError\u001b[0m                                 Traceback (most recent call last)",
      "Cell \u001b[1;32mIn[18], line 1\u001b[0m\n\u001b[1;32m----> 1\u001b[0m \u001b[43mtest_gdf\u001b[49m\n",
      "\u001b[1;31mNameError\u001b[0m: name 'test_gdf' is not defined"
     ]
    }
   ],
   "source": [
    "test_gdf"
   ]
  },
  {
   "cell_type": "code",
   "execution_count": 19,
   "metadata": {
    "collapsed": false
   },
   "outputs": [
    {
     "ename": "NameError",
     "evalue": "name 'test_gdf' is not defined",
     "output_type": "error",
     "traceback": [
      "\u001b[1;31m---------------------------------------------------------------------------\u001b[0m",
      "\u001b[1;31mNameError\u001b[0m                                 Traceback (most recent call last)",
      "Cell \u001b[1;32mIn[19], line 3\u001b[0m\n\u001b[0;32m      1\u001b[0m \u001b[38;5;28;01mimport\u001b[39;00m \u001b[38;5;21;01mnumpy\u001b[39;00m \u001b[38;5;28;01mas\u001b[39;00m \u001b[38;5;21;01mnp\u001b[39;00m\n\u001b[1;32m----> 3\u001b[0m \u001b[38;5;28;01mfor\u001b[39;00m i \u001b[38;5;129;01min\u001b[39;00m \u001b[38;5;28mrange\u001b[39m(\u001b[38;5;28mlen\u001b[39m(\u001b[43mtest_gdf\u001b[49m)):\n\u001b[0;32m      4\u001b[0m     tmp \u001b[38;5;241m=\u001b[39m test_gdf[\u001b[38;5;124m'\u001b[39m\u001b[38;5;124mparents_stack\u001b[39m\u001b[38;5;124m'\u001b[39m]\u001b[38;5;241m.\u001b[39miloc[i]\n\u001b[0;32m      5\u001b[0m     \u001b[38;5;28;01mif\u001b[39;00m \u001b[38;5;28mtype\u001b[39m(tmp) \u001b[38;5;129;01mis\u001b[39;00m \u001b[38;5;129;01mnot\u001b[39;00m \u001b[38;5;28mfloat\u001b[39m \u001b[38;5;129;01mand\u001b[39;00m \u001b[38;5;28mlen\u001b[39m(tmp) \u001b[38;5;241m>\u001b[39m \u001b[38;5;241m0\u001b[39m:\n",
      "\u001b[1;31mNameError\u001b[0m: name 'test_gdf' is not defined"
     ]
    }
   ],
   "source": [
    "import numpy as np\n",
    "\n",
    "for i in range(len(test_gdf)):\n",
    "    tmp = test_gdf['parents_stack'].iloc[i]\n",
    "    if type(tmp) is not float and len(tmp) > 0:\n",
    "        test_gdf.at[i, 'parents_stack'] = tmp[0]\n",
    "    else:\n",
    "        test_gdf.at[i, 'parents_stack'] = np.nan\n"
   ]
  },
  {
   "cell_type": "code",
   "execution_count": 14,
   "metadata": {
    "collapsed": false
   },
   "outputs": [
    {
     "data": {
      "text/html": [
       "<div>\n",
       "<style scoped>\n",
       "    .dataframe tbody tr th:only-of-type {\n",
       "        vertical-align: middle;\n",
       "    }\n",
       "\n",
       "    .dataframe tbody tr th {\n",
       "        vertical-align: top;\n",
       "    }\n",
       "\n",
       "    .dataframe thead th {\n",
       "        text-align: right;\n",
       "    }\n",
       "</style>\n",
       "<table border=\"1\" class=\"dataframe\">\n",
       "  <thead>\n",
       "    <tr style=\"text-align: right;\">\n",
       "      <th></th>\n",
       "      <th>date</th>\n",
       "      <th>id</th>\n",
       "      <th>text</th>\n",
       "      <th>views.count</th>\n",
       "      <th>likes.count</th>\n",
       "      <th>reposts.count</th>\n",
       "      <th>type</th>\n",
       "      <th>link</th>\n",
       "      <th>post_id</th>\n",
       "      <th>parents_stack</th>\n",
       "      <th>...</th>\n",
       "      <th>Score_y</th>\n",
       "      <th>Numbers</th>\n",
       "      <th>initial_street</th>\n",
       "      <th>Toponims</th>\n",
       "      <th>full_street_name</th>\n",
       "      <th>location_options</th>\n",
       "      <th>addr_to_geocode</th>\n",
       "      <th>only_full_street_name</th>\n",
       "      <th>Location</th>\n",
       "      <th>geometry</th>\n",
       "    </tr>\n",
       "  </thead>\n",
       "  <tbody>\n",
       "    <tr>\n",
       "      <th>0</th>\n",
       "      <td>2024-02-01 19:30:00</td>\n",
       "      <td>327734</td>\n",
       "      <td>Как вам такая идея по обустройству широких газ...</td>\n",
       "      <td>3328.0</td>\n",
       "      <td>34</td>\n",
       "      <td>3.0</td>\n",
       "      <td>post</td>\n",
       "      <td>NaN</td>\n",
       "      <td>NaN</td>\n",
       "      <td>NaN</td>\n",
       "      <td>...</td>\n",
       "      <td>0.961</td>\n",
       "      <td></td>\n",
       "      <td>Приморская</td>\n",
       "      <td>None</td>\n",
       "      <td>Приморская улица  Санкт-Петербург Россия</td>\n",
       "      <td>['Приморская улица  Санкт-Петербург Россия']</td>\n",
       "      <td>Приморская улица  Санкт-Петербург Россия</td>\n",
       "      <td>Приморская улица</td>\n",
       "      <td>Приморская улица, Просвещение, Петергоф, Санкт...</td>\n",
       "      <td>POINT (29.86224 59.89660)</td>\n",
       "    </tr>\n",
       "    <tr>\n",
       "      <th>1</th>\n",
       "      <td>2024-02-02 10:30:00</td>\n",
       "      <td>327851</td>\n",
       "      <td>Возвращение домофонов в парадные после капремо...</td>\n",
       "      <td>3746.0</td>\n",
       "      <td>58</td>\n",
       "      <td>4.0</td>\n",
       "      <td>post</td>\n",
       "      <td>NaN</td>\n",
       "      <td>NaN</td>\n",
       "      <td>NaN</td>\n",
       "      <td>...</td>\n",
       "      <td>0.987</td>\n",
       "      <td>60</td>\n",
       "      <td>Некрасова</td>\n",
       "      <td>None</td>\n",
       "      <td>улица Некрасова 60 Санкт-Петербург Россия</td>\n",
       "      <td>['улица Некрасова 60 Санкт-Петербург Россия']</td>\n",
       "      <td>улица Некрасова 60 Санкт-Петербург Россия</td>\n",
       "      <td>улица Некрасова</td>\n",
       "      <td>60, улица Некрасова, Пески, округ Смольнинское...</td>\n",
       "      <td>POINT (30.36946 59.93851)</td>\n",
       "    </tr>\n",
       "    <tr>\n",
       "      <th>2</th>\n",
       "      <td>2024-02-02 07:48:48</td>\n",
       "      <td>327853</td>\n",
       "      <td>Повсеместно такая проблема.\\nУгол Мытнинской и...</td>\n",
       "      <td>NaN</td>\n",
       "      <td>5</td>\n",
       "      <td>NaN</td>\n",
       "      <td>comment</td>\n",
       "      <td>NaN</td>\n",
       "      <td>327851.0</td>\n",
       "      <td>[]</td>\n",
       "      <td>...</td>\n",
       "      <td>NaN</td>\n",
       "      <td>8</td>\n",
       "      <td>Мытнинской</td>\n",
       "      <td>None</td>\n",
       "      <td>Мытнинская улица 8 Санкт-Петербург Россия,Мытн...</td>\n",
       "      <td>['Мытнинская улица 8 Санкт-Петербург Россия', ...</td>\n",
       "      <td>Мытнинская улица 8 Санкт-Петербург Россия</td>\n",
       "      <td>Мытнинская улица</td>\n",
       "      <td>Мытнинская улица, 8-я Советская улица, Пески, ...</td>\n",
       "      <td>POINT (30.38073 59.93420)</td>\n",
       "    </tr>\n",
       "    <tr>\n",
       "      <th>3</th>\n",
       "      <td>2024-02-02 08:24:25</td>\n",
       "      <td>327854</td>\n",
       "      <td>Можно закидать меня тряпками, но я сторонник у...</td>\n",
       "      <td>NaN</td>\n",
       "      <td>13</td>\n",
       "      <td>NaN</td>\n",
       "      <td>comment</td>\n",
       "      <td>NaN</td>\n",
       "      <td>327851.0</td>\n",
       "      <td>[]</td>\n",
       "      <td>...</td>\n",
       "      <td>NaN</td>\n",
       "      <td>NaN</td>\n",
       "      <td>NaN</td>\n",
       "      <td>NaN</td>\n",
       "      <td>NaN</td>\n",
       "      <td>NaN</td>\n",
       "      <td>NaN</td>\n",
       "      <td>NaN</td>\n",
       "      <td>NaN</td>\n",
       "      <td>None</td>\n",
       "    </tr>\n",
       "    <tr>\n",
       "      <th>4</th>\n",
       "      <td>2024-02-02 08:31:37</td>\n",
       "      <td>327855</td>\n",
       "      <td>Некрасова 60, 4-ая парадная. Установлена новая...</td>\n",
       "      <td>NaN</td>\n",
       "      <td>7</td>\n",
       "      <td>NaN</td>\n",
       "      <td>comment</td>\n",
       "      <td>NaN</td>\n",
       "      <td>327851.0</td>\n",
       "      <td>[]</td>\n",
       "      <td>...</td>\n",
       "      <td>0.992</td>\n",
       "      <td>60</td>\n",
       "      <td>Некрасова</td>\n",
       "      <td>None</td>\n",
       "      <td>улица Некрасова 60 Санкт-Петербург Россия</td>\n",
       "      <td>['улица Некрасова 60 Санкт-Петербург Россия']</td>\n",
       "      <td>улица Некрасова 60 Санкт-Петербург Россия</td>\n",
       "      <td>улица Некрасова</td>\n",
       "      <td>60, улица Некрасова, Пески, округ Смольнинское...</td>\n",
       "      <td>POINT (30.36946 59.93851)</td>\n",
       "    </tr>\n",
       "    <tr>\n",
       "      <th>...</th>\n",
       "      <td>...</td>\n",
       "      <td>...</td>\n",
       "      <td>...</td>\n",
       "      <td>...</td>\n",
       "      <td>...</td>\n",
       "      <td>...</td>\n",
       "      <td>...</td>\n",
       "      <td>...</td>\n",
       "      <td>...</td>\n",
       "      <td>...</td>\n",
       "      <td>...</td>\n",
       "      <td>...</td>\n",
       "      <td>...</td>\n",
       "      <td>...</td>\n",
       "      <td>...</td>\n",
       "      <td>...</td>\n",
       "      <td>...</td>\n",
       "      <td>...</td>\n",
       "      <td>...</td>\n",
       "      <td>...</td>\n",
       "      <td>...</td>\n",
       "    </tr>\n",
       "    <tr>\n",
       "      <th>477</th>\n",
       "      <td>2024-03-21 16:33:06</td>\n",
       "      <td>333767</td>\n",
       "      <td>Вредит не застройка, а косорукие строители и п...</td>\n",
       "      <td>NaN</td>\n",
       "      <td>1</td>\n",
       "      <td>NaN</td>\n",
       "      <td>comment</td>\n",
       "      <td>NaN</td>\n",
       "      <td>333766.0</td>\n",
       "      <td>[]</td>\n",
       "      <td>...</td>\n",
       "      <td>NaN</td>\n",
       "      <td>NaN</td>\n",
       "      <td>NaN</td>\n",
       "      <td>NaN</td>\n",
       "      <td>NaN</td>\n",
       "      <td>NaN</td>\n",
       "      <td>NaN</td>\n",
       "      <td>NaN</td>\n",
       "      <td>NaN</td>\n",
       "      <td>None</td>\n",
       "    </tr>\n",
       "    <tr>\n",
       "      <th>478</th>\n",
       "      <td>2024-03-21 16:33:49</td>\n",
       "      <td>333768</td>\n",
       "      <td>Ужас, сквозные щели! Страшно жить в таком доме!</td>\n",
       "      <td>NaN</td>\n",
       "      <td>1</td>\n",
       "      <td>NaN</td>\n",
       "      <td>comment</td>\n",
       "      <td>NaN</td>\n",
       "      <td>333766.0</td>\n",
       "      <td>[]</td>\n",
       "      <td>...</td>\n",
       "      <td>NaN</td>\n",
       "      <td>NaN</td>\n",
       "      <td>NaN</td>\n",
       "      <td>NaN</td>\n",
       "      <td>NaN</td>\n",
       "      <td>NaN</td>\n",
       "      <td>NaN</td>\n",
       "      <td>NaN</td>\n",
       "      <td>NaN</td>\n",
       "      <td>None</td>\n",
       "    </tr>\n",
       "    <tr>\n",
       "      <th>479</th>\n",
       "      <td>2024-03-21 16:36:27</td>\n",
       "      <td>333770</td>\n",
       "      <td>статью заменят на хулиганку?</td>\n",
       "      <td>NaN</td>\n",
       "      <td>0</td>\n",
       "      <td>NaN</td>\n",
       "      <td>comment</td>\n",
       "      <td>NaN</td>\n",
       "      <td>333530.0</td>\n",
       "      <td>[]</td>\n",
       "      <td>...</td>\n",
       "      <td>NaN</td>\n",
       "      <td>NaN</td>\n",
       "      <td>NaN</td>\n",
       "      <td>NaN</td>\n",
       "      <td>NaN</td>\n",
       "      <td>NaN</td>\n",
       "      <td>NaN</td>\n",
       "      <td>NaN</td>\n",
       "      <td>NaN</td>\n",
       "      <td>None</td>\n",
       "    </tr>\n",
       "    <tr>\n",
       "      <th>480</th>\n",
       "      <td>2024-03-21 16:38:47</td>\n",
       "      <td>333771</td>\n",
       "      <td>Что и требовалось ожидать...</td>\n",
       "      <td>NaN</td>\n",
       "      <td>0</td>\n",
       "      <td>NaN</td>\n",
       "      <td>comment</td>\n",
       "      <td>NaN</td>\n",
       "      <td>333766.0</td>\n",
       "      <td>[]</td>\n",
       "      <td>...</td>\n",
       "      <td>NaN</td>\n",
       "      <td>NaN</td>\n",
       "      <td>NaN</td>\n",
       "      <td>NaN</td>\n",
       "      <td>NaN</td>\n",
       "      <td>NaN</td>\n",
       "      <td>NaN</td>\n",
       "      <td>NaN</td>\n",
       "      <td>NaN</td>\n",
       "      <td>None</td>\n",
       "    </tr>\n",
       "    <tr>\n",
       "      <th>481</th>\n",
       "      <td>2024-03-21 16:40:20</td>\n",
       "      <td>333772</td>\n",
       "      <td>Становится очевидным что подобные \"истории\" пр...</td>\n",
       "      <td>NaN</td>\n",
       "      <td>0</td>\n",
       "      <td>NaN</td>\n",
       "      <td>comment</td>\n",
       "      <td>NaN</td>\n",
       "      <td>333766.0</td>\n",
       "      <td>[]</td>\n",
       "      <td>...</td>\n",
       "      <td>NaN</td>\n",
       "      <td></td>\n",
       "      <td>Гороховой</td>\n",
       "      <td>None</td>\n",
       "      <td>Гороховая улица  Санкт-Петербург Россия</td>\n",
       "      <td>['Гороховая улица  Санкт-Петербург Россия']</td>\n",
       "      <td>Гороховая улица  Санкт-Петербург Россия</td>\n",
       "      <td>Гороховая улица</td>\n",
       "      <td>Гороховая улица, Адмиралтейский округ, Санкт-П...</td>\n",
       "      <td>POINT (30.31142 59.93560)</td>\n",
       "    </tr>\n",
       "  </tbody>\n",
       "</table>\n",
       "<p>482 rows × 23 columns</p>\n",
       "</div>"
      ],
      "text/plain": [
       "                    date      id  \\\n",
       "0    2024-02-01 19:30:00  327734   \n",
       "1    2024-02-02 10:30:00  327851   \n",
       "2    2024-02-02 07:48:48  327853   \n",
       "3    2024-02-02 08:24:25  327854   \n",
       "4    2024-02-02 08:31:37  327855   \n",
       "..                   ...     ...   \n",
       "477  2024-03-21 16:33:06  333767   \n",
       "478  2024-03-21 16:33:49  333768   \n",
       "479  2024-03-21 16:36:27  333770   \n",
       "480  2024-03-21 16:38:47  333771   \n",
       "481  2024-03-21 16:40:20  333772   \n",
       "\n",
       "                                                  text  views.count  \\\n",
       "0    Как вам такая идея по обустройству широких газ...       3328.0   \n",
       "1    Возвращение домофонов в парадные после капремо...       3746.0   \n",
       "2    Повсеместно такая проблема.\\nУгол Мытнинской и...          NaN   \n",
       "3    Можно закидать меня тряпками, но я сторонник у...          NaN   \n",
       "4    Некрасова 60, 4-ая парадная. Установлена новая...          NaN   \n",
       "..                                                 ...          ...   \n",
       "477  Вредит не застройка, а косорукие строители и п...          NaN   \n",
       "478    Ужас, сквозные щели! Страшно жить в таком доме!          NaN   \n",
       "479                       статью заменят на хулиганку?          NaN   \n",
       "480                       Что и требовалось ожидать...          NaN   \n",
       "481  Становится очевидным что подобные \"истории\" пр...          NaN   \n",
       "\n",
       "     likes.count  reposts.count     type link   post_id parents_stack  ...  \\\n",
       "0             34            3.0     post  NaN       NaN           NaN  ...   \n",
       "1             58            4.0     post  NaN       NaN           NaN  ...   \n",
       "2              5            NaN  comment  NaN  327851.0            []  ...   \n",
       "3             13            NaN  comment  NaN  327851.0            []  ...   \n",
       "4              7            NaN  comment  NaN  327851.0            []  ...   \n",
       "..           ...            ...      ...  ...       ...           ...  ...   \n",
       "477            1            NaN  comment  NaN  333766.0            []  ...   \n",
       "478            1            NaN  comment  NaN  333766.0            []  ...   \n",
       "479            0            NaN  comment  NaN  333530.0            []  ...   \n",
       "480            0            NaN  comment  NaN  333766.0            []  ...   \n",
       "481            0            NaN  comment  NaN  333766.0            []  ...   \n",
       "\n",
       "    Score_y  Numbers initial_street  Toponims  \\\n",
       "0     0.961              Приморская      None   \n",
       "1     0.987       60      Некрасова      None   \n",
       "2       NaN        8     Мытнинской      None   \n",
       "3       NaN      NaN            NaN       NaN   \n",
       "4     0.992       60      Некрасова      None   \n",
       "..      ...      ...            ...       ...   \n",
       "477     NaN      NaN            NaN       NaN   \n",
       "478     NaN      NaN            NaN       NaN   \n",
       "479     NaN      NaN            NaN       NaN   \n",
       "480     NaN      NaN            NaN       NaN   \n",
       "481     NaN               Гороховой      None   \n",
       "\n",
       "                                      full_street_name  \\\n",
       "0             Приморская улица  Санкт-Петербург Россия   \n",
       "1            улица Некрасова 60 Санкт-Петербург Россия   \n",
       "2    Мытнинская улица 8 Санкт-Петербург Россия,Мытн...   \n",
       "3                                                  NaN   \n",
       "4            улица Некрасова 60 Санкт-Петербург Россия   \n",
       "..                                                 ...   \n",
       "477                                                NaN   \n",
       "478                                                NaN   \n",
       "479                                                NaN   \n",
       "480                                                NaN   \n",
       "481            Гороховая улица  Санкт-Петербург Россия   \n",
       "\n",
       "                                      location_options  \\\n",
       "0         ['Приморская улица  Санкт-Петербург Россия']   \n",
       "1        ['улица Некрасова 60 Санкт-Петербург Россия']   \n",
       "2    ['Мытнинская улица 8 Санкт-Петербург Россия', ...   \n",
       "3                                                  NaN   \n",
       "4        ['улица Некрасова 60 Санкт-Петербург Россия']   \n",
       "..                                                 ...   \n",
       "477                                                NaN   \n",
       "478                                                NaN   \n",
       "479                                                NaN   \n",
       "480                                                NaN   \n",
       "481        ['Гороховая улица  Санкт-Петербург Россия']   \n",
       "\n",
       "                               addr_to_geocode only_full_street_name  \\\n",
       "0     Приморская улица  Санкт-Петербург Россия      Приморская улица   \n",
       "1    улица Некрасова 60 Санкт-Петербург Россия       улица Некрасова   \n",
       "2    Мытнинская улица 8 Санкт-Петербург Россия      Мытнинская улица   \n",
       "3                                          NaN                   NaN   \n",
       "4    улица Некрасова 60 Санкт-Петербург Россия       улица Некрасова   \n",
       "..                                         ...                   ...   \n",
       "477                                        NaN                   NaN   \n",
       "478                                        NaN                   NaN   \n",
       "479                                        NaN                   NaN   \n",
       "480                                        NaN                   NaN   \n",
       "481    Гороховая улица  Санкт-Петербург Россия       Гороховая улица   \n",
       "\n",
       "                                              Location  \\\n",
       "0    Приморская улица, Просвещение, Петергоф, Санкт...   \n",
       "1    60, улица Некрасова, Пески, округ Смольнинское...   \n",
       "2    Мытнинская улица, 8-я Советская улица, Пески, ...   \n",
       "3                                                  NaN   \n",
       "4    60, улица Некрасова, Пески, округ Смольнинское...   \n",
       "..                                                 ...   \n",
       "477                                                NaN   \n",
       "478                                                NaN   \n",
       "479                                                NaN   \n",
       "480                                                NaN   \n",
       "481  Гороховая улица, Адмиралтейский округ, Санкт-П...   \n",
       "\n",
       "                      geometry  \n",
       "0    POINT (29.86224 59.89660)  \n",
       "1    POINT (30.36946 59.93851)  \n",
       "2    POINT (30.38073 59.93420)  \n",
       "3                         None  \n",
       "4    POINT (30.36946 59.93851)  \n",
       "..                         ...  \n",
       "477                       None  \n",
       "478                       None  \n",
       "479                       None  \n",
       "480                       None  \n",
       "481  POINT (30.31142 59.93560)  \n",
       "\n",
       "[482 rows x 23 columns]"
      ]
     },
     "execution_count": 14,
     "metadata": {},
     "output_type": "execute_result"
    }
   ],
   "source": [
    "test_gdf = test_gdf.drop_duplicates(subset='id')\n",
    "test_gdf = test_gdf.drop(columns=['date', 'text', 'views.count', 'likes.count', 'reposts.count', 'type', 'link', 'post_id', 'parents_stack'])\n",
    "test_gdf = pd.merge(result_df, test_gdf, on='id', how='outer')\n",
    "test_gdf"
   ]
  },
  {
   "cell_type": "code",
   "execution_count": 20,
   "metadata": {
    "collapsed": false
   },
   "outputs": [
    {
     "data": {
      "text/plain": [
       "720"
      ]
     },
     "execution_count": 20,
     "metadata": {},
     "output_type": "execute_result"
    }
   ],
   "source": [
    "len(result_df)"
   ]
  },
  {
   "cell_type": "code",
   "execution_count": 22,
   "metadata": {
    "collapsed": false
   },
   "outputs": [
    {
     "data": {
      "text/plain": [
       "[211,\n",
       " 141,\n",
       " 169,\n",
       " 252,\n",
       " 158,\n",
       " 442,\n",
       " 1,\n",
       " 73,\n",
       " 447,\n",
       " 690,\n",
       " 490,\n",
       " 277,\n",
       " 29,\n",
       " 163,\n",
       " 559,\n",
       " 520,\n",
       " 621,\n",
       " 612,\n",
       " 114,\n",
       " 422,\n",
       " 183,\n",
       " 358,\n",
       " 270,\n",
       " 526,\n",
       " 135,\n",
       " 601,\n",
       " 631,\n",
       " 639,\n",
       " 587,\n",
       " 345,\n",
       " 266,\n",
       " 476,\n",
       " 620,\n",
       " 211,\n",
       " 682,\n",
       " 141,\n",
       " 416,\n",
       " 170,\n",
       " 355,\n",
       " 242,\n",
       " 442,\n",
       " 717,\n",
       " 206,\n",
       " 85,\n",
       " 137,\n",
       " 579,\n",
       " 451,\n",
       " 487,\n",
       " 223,\n",
       " 636]"
      ]
     },
     "execution_count": 22,
     "metadata": {},
     "output_type": "execute_result"
    }
   ],
   "source": [
    "import random\n",
    "import numpy as np\n",
    "index_list = []\n",
    "\n",
    "\n",
    "result_df['toponim'] = np.nan\n",
    "for i in range (50):\n",
    "    index_list.append(random.randint(0, len(result_df)))\n",
    "\n",
    "index_list"
   ]
  },
  {
   "cell_type": "code",
   "execution_count": 23,
   "metadata": {
    "collapsed": false
   },
   "outputs": [],
   "source": [
    "test_gdf = result_df.copy()\n",
    "\n",
    "for i in index_list:\n",
    "    test_gdf.at[i, 'toponim'] = f'toponim_{i}'"
   ]
  },
  {
   "cell_type": "code",
   "execution_count": 135,
   "metadata": {
    "collapsed": false
   },
   "outputs": [],
   "source": [
    "test_gdf.at[121, 'toponim'] = 'toponim_implemented_1'"
   ]
  },
  {
   "cell_type": "code",
   "execution_count": 136,
   "metadata": {
    "collapsed": false
   },
   "outputs": [
    {
     "data": {
      "text/html": [
       "<div>\n",
       "<style scoped>\n",
       "    .dataframe tbody tr th:only-of-type {\n",
       "        vertical-align: middle;\n",
       "    }\n",
       "\n",
       "    .dataframe tbody tr th {\n",
       "        vertical-align: top;\n",
       "    }\n",
       "\n",
       "    .dataframe thead th {\n",
       "        text-align: right;\n",
       "    }\n",
       "</style>\n",
       "<table border=\"1\" class=\"dataframe\">\n",
       "  <thead>\n",
       "    <tr style=\"text-align: right;\">\n",
       "      <th></th>\n",
       "      <th>date</th>\n",
       "      <th>id</th>\n",
       "      <th>text</th>\n",
       "      <th>views.count</th>\n",
       "      <th>likes.count</th>\n",
       "      <th>reposts.count</th>\n",
       "      <th>type</th>\n",
       "      <th>link</th>\n",
       "      <th>post_id</th>\n",
       "      <th>parents_stack</th>\n",
       "      <th>toponim</th>\n",
       "    </tr>\n",
       "  </thead>\n",
       "  <tbody>\n",
       "    <tr>\n",
       "      <th>0</th>\n",
       "      <td>2024-03-21 19:30:00</td>\n",
       "      <td>333766</td>\n",
       "      <td>В доме на Синопской набережной 32/35 из-за поз...</td>\n",
       "      <td>795.0</td>\n",
       "      <td>28</td>\n",
       "      <td>8.0</td>\n",
       "      <td>post</td>\n",
       "      <td>NaN</td>\n",
       "      <td>NaN</td>\n",
       "      <td>NaN</td>\n",
       "      <td>NaN</td>\n",
       "    </tr>\n",
       "    <tr>\n",
       "      <th>1</th>\n",
       "      <td>2024-03-21 10:30:00</td>\n",
       "      <td>333530</td>\n",
       "      <td>Сделайте сад Сан-Галли безопасным для граждан,...</td>\n",
       "      <td>3527.0</td>\n",
       "      <td>126</td>\n",
       "      <td>23.0</td>\n",
       "      <td>post</td>\n",
       "      <td>NaN</td>\n",
       "      <td>NaN</td>\n",
       "      <td>NaN</td>\n",
       "      <td>toponim_1</td>\n",
       "    </tr>\n",
       "    <tr>\n",
       "      <th>2</th>\n",
       "      <td>2024-03-20 19:30:00</td>\n",
       "      <td>333376</td>\n",
       "      <td>«Электросамокатная саранча» вновь повылезала н...</td>\n",
       "      <td>9866.0</td>\n",
       "      <td>188</td>\n",
       "      <td>24.0</td>\n",
       "      <td>post</td>\n",
       "      <td>NaN</td>\n",
       "      <td>NaN</td>\n",
       "      <td>NaN</td>\n",
       "      <td>NaN</td>\n",
       "    </tr>\n",
       "    <tr>\n",
       "      <th>3</th>\n",
       "      <td>2024-03-20 10:30:00</td>\n",
       "      <td>333265</td>\n",
       "      <td>Вот и отгуляла широкая Масленица! Наша команда...</td>\n",
       "      <td>4599.0</td>\n",
       "      <td>54</td>\n",
       "      <td>8.0</td>\n",
       "      <td>post</td>\n",
       "      <td>https://vk.com/wall-129354225_332885|ярко,</td>\n",
       "      <td>NaN</td>\n",
       "      <td>NaN</td>\n",
       "      <td>NaN</td>\n",
       "    </tr>\n",
       "    <tr>\n",
       "      <th>4</th>\n",
       "      <td>2024-03-19 19:30:00</td>\n",
       "      <td>333226</td>\n",
       "      <td>На том же месте сквозь года Вот так каланча ве...</td>\n",
       "      <td>4355.0</td>\n",
       "      <td>51</td>\n",
       "      <td>11.0</td>\n",
       "      <td>post</td>\n",
       "      <td>https://vk.com/wall-129354225_325408|уплотните...</td>\n",
       "      <td>NaN</td>\n",
       "      <td>NaN</td>\n",
       "      <td>NaN</td>\n",
       "    </tr>\n",
       "    <tr>\n",
       "      <th>...</th>\n",
       "      <td>...</td>\n",
       "      <td>...</td>\n",
       "      <td>...</td>\n",
       "      <td>...</td>\n",
       "      <td>...</td>\n",
       "      <td>...</td>\n",
       "      <td>...</td>\n",
       "      <td>...</td>\n",
       "      <td>...</td>\n",
       "      <td>...</td>\n",
       "      <td>...</td>\n",
       "    </tr>\n",
       "    <tr>\n",
       "      <th>715</th>\n",
       "      <td>2024-02-07 10:42:30</td>\n",
       "      <td>328420</td>\n",
       "      <td>Люди десятилетиями ждут замены лифтов, чтоб он...</td>\n",
       "      <td>NaN</td>\n",
       "      <td>2</td>\n",
       "      <td>NaN</td>\n",
       "      <td>comment</td>\n",
       "      <td>NaN</td>\n",
       "      <td>328388.0</td>\n",
       "      <td>NaN</td>\n",
       "      <td>NaN</td>\n",
       "    </tr>\n",
       "    <tr>\n",
       "      <th>716</th>\n",
       "      <td>2024-02-07 12:57:57</td>\n",
       "      <td>328422</td>\n",
       "      <td>С вопросом капремонта  лифтов, к сожалению, ст...</td>\n",
       "      <td>NaN</td>\n",
       "      <td>4</td>\n",
       "      <td>NaN</td>\n",
       "      <td>comment</td>\n",
       "      <td>NaN</td>\n",
       "      <td>328388.0</td>\n",
       "      <td>NaN</td>\n",
       "      <td>NaN</td>\n",
       "    </tr>\n",
       "    <tr>\n",
       "      <th>717</th>\n",
       "      <td>2024-02-07 14:03:22</td>\n",
       "      <td>328427</td>\n",
       "      <td>Думаю что лифты в порядке. Просто их выключили...</td>\n",
       "      <td>NaN</td>\n",
       "      <td>1</td>\n",
       "      <td>NaN</td>\n",
       "      <td>comment</td>\n",
       "      <td>NaN</td>\n",
       "      <td>328388.0</td>\n",
       "      <td>NaN</td>\n",
       "      <td>toponim_717</td>\n",
       "    </tr>\n",
       "    <tr>\n",
       "      <th>718</th>\n",
       "      <td>2024-02-07 15:26:01</td>\n",
       "      <td>328438</td>\n",
       "      <td>[id10835085|Андрей], очень даже может быть</td>\n",
       "      <td>NaN</td>\n",
       "      <td>1</td>\n",
       "      <td>NaN</td>\n",
       "      <td>reply</td>\n",
       "      <td>NaN</td>\n",
       "      <td>328388.0</td>\n",
       "      <td>328427</td>\n",
       "      <td>NaN</td>\n",
       "    </tr>\n",
       "    <tr>\n",
       "      <th>719</th>\n",
       "      <td>2024-02-07 18:56:25</td>\n",
       "      <td>328462</td>\n",
       "      <td>С лифтами ныне у многих проблемы. У меня в дом...</td>\n",
       "      <td>NaN</td>\n",
       "      <td>0</td>\n",
       "      <td>NaN</td>\n",
       "      <td>comment</td>\n",
       "      <td>NaN</td>\n",
       "      <td>328388.0</td>\n",
       "      <td>NaN</td>\n",
       "      <td>NaN</td>\n",
       "    </tr>\n",
       "  </tbody>\n",
       "</table>\n",
       "<p>720 rows × 11 columns</p>\n",
       "</div>"
      ],
      "text/plain": [
       "                    date      id  \\\n",
       "0    2024-03-21 19:30:00  333766   \n",
       "1    2024-03-21 10:30:00  333530   \n",
       "2    2024-03-20 19:30:00  333376   \n",
       "3    2024-03-20 10:30:00  333265   \n",
       "4    2024-03-19 19:30:00  333226   \n",
       "..                   ...     ...   \n",
       "715  2024-02-07 10:42:30  328420   \n",
       "716  2024-02-07 12:57:57  328422   \n",
       "717  2024-02-07 14:03:22  328427   \n",
       "718  2024-02-07 15:26:01  328438   \n",
       "719  2024-02-07 18:56:25  328462   \n",
       "\n",
       "                                                  text  views.count  \\\n",
       "0    В доме на Синопской набережной 32/35 из-за поз...        795.0   \n",
       "1    Сделайте сад Сан-Галли безопасным для граждан,...       3527.0   \n",
       "2    «Электросамокатная саранча» вновь повылезала н...       9866.0   \n",
       "3    Вот и отгуляла широкая Масленица! Наша команда...       4599.0   \n",
       "4    На том же месте сквозь года Вот так каланча ве...       4355.0   \n",
       "..                                                 ...          ...   \n",
       "715  Люди десятилетиями ждут замены лифтов, чтоб он...          NaN   \n",
       "716  С вопросом капремонта  лифтов, к сожалению, ст...          NaN   \n",
       "717  Думаю что лифты в порядке. Просто их выключили...          NaN   \n",
       "718         [id10835085|Андрей], очень даже может быть          NaN   \n",
       "719  С лифтами ныне у многих проблемы. У меня в дом...          NaN   \n",
       "\n",
       "     likes.count  reposts.count     type  \\\n",
       "0             28            8.0     post   \n",
       "1            126           23.0     post   \n",
       "2            188           24.0     post   \n",
       "3             54            8.0     post   \n",
       "4             51           11.0     post   \n",
       "..           ...            ...      ...   \n",
       "715            2            NaN  comment   \n",
       "716            4            NaN  comment   \n",
       "717            1            NaN  comment   \n",
       "718            1            NaN    reply   \n",
       "719            0            NaN  comment   \n",
       "\n",
       "                                                  link   post_id  \\\n",
       "0                                                  NaN       NaN   \n",
       "1                                                  NaN       NaN   \n",
       "2                                                  NaN       NaN   \n",
       "3           https://vk.com/wall-129354225_332885|ярко,       NaN   \n",
       "4    https://vk.com/wall-129354225_325408|уплотните...       NaN   \n",
       "..                                                 ...       ...   \n",
       "715                                                NaN  328388.0   \n",
       "716                                                NaN  328388.0   \n",
       "717                                                NaN  328388.0   \n",
       "718                                                NaN  328388.0   \n",
       "719                                                NaN  328388.0   \n",
       "\n",
       "    parents_stack      toponim  \n",
       "0             NaN          NaN  \n",
       "1             NaN    toponim_1  \n",
       "2             NaN          NaN  \n",
       "3             NaN          NaN  \n",
       "4             NaN          NaN  \n",
       "..            ...          ...  \n",
       "715           NaN          NaN  \n",
       "716           NaN          NaN  \n",
       "717           NaN  toponim_717  \n",
       "718        328427          NaN  \n",
       "719           NaN          NaN  \n",
       "\n",
       "[720 rows x 11 columns]"
      ]
     },
     "execution_count": 136,
     "metadata": {},
     "output_type": "execute_result"
    }
   ],
   "source": [
    "test_gdf"
   ]
  },
  {
   "cell_type": "code",
   "execution_count": 119,
   "metadata": {
    "collapsed": false
   },
   "outputs": [
    {
     "ename": "TypeError",
     "evalue": "object of type 'int' has no len()",
     "output_type": "error",
     "traceback": [
      "\u001b[1;31m---------------------------------------------------------------------------\u001b[0m",
      "\u001b[1;31mTypeError\u001b[0m                                 Traceback (most recent call last)",
      "Cell \u001b[1;32mIn[119], line 5\u001b[0m\n\u001b[0;32m      3\u001b[0m \u001b[38;5;28;01mfor\u001b[39;00m i \u001b[38;5;129;01min\u001b[39;00m \u001b[38;5;28mrange\u001b[39m(\u001b[38;5;28mlen\u001b[39m(test_gdf)):\n\u001b[0;32m      4\u001b[0m     tmp \u001b[38;5;241m=\u001b[39m test_gdf[\u001b[38;5;124m'\u001b[39m\u001b[38;5;124mparents_stack\u001b[39m\u001b[38;5;124m'\u001b[39m]\u001b[38;5;241m.\u001b[39miloc[i]\n\u001b[1;32m----> 5\u001b[0m     \u001b[38;5;28;01mif\u001b[39;00m \u001b[38;5;28mtype\u001b[39m(tmp) \u001b[38;5;129;01mis\u001b[39;00m \u001b[38;5;129;01mnot\u001b[39;00m \u001b[38;5;28mfloat\u001b[39m \u001b[38;5;129;01mand\u001b[39;00m \u001b[38;5;28;43mlen\u001b[39;49m\u001b[43m(\u001b[49m\u001b[43mtmp\u001b[49m\u001b[43m)\u001b[49m \u001b[38;5;241m>\u001b[39m \u001b[38;5;241m0\u001b[39m:\n\u001b[0;32m      6\u001b[0m         test_gdf\u001b[38;5;241m.\u001b[39mat[i, \u001b[38;5;124m'\u001b[39m\u001b[38;5;124mparents_stack\u001b[39m\u001b[38;5;124m'\u001b[39m] \u001b[38;5;241m=\u001b[39m tmp[\u001b[38;5;241m0\u001b[39m]\n\u001b[0;32m      7\u001b[0m     \u001b[38;5;28;01melse\u001b[39;00m:\n",
      "\u001b[1;31mTypeError\u001b[0m: object of type 'int' has no len()"
     ]
    }
   ],
   "source": [
    "import numpy as np\n",
    "\n",
    "for i in range(len(test_gdf)):\n",
    "    tmp = test_gdf['parents_stack'].iloc[i]\n",
    "    if type(tmp) is not float and len(tmp) > 0:\n",
    "        test_gdf.at[i, 'parents_stack'] = tmp[0]\n",
    "    else:\n",
    "        test_gdf.at[i, 'parents_stack'] = np.nan"
   ]
  },
  {
   "cell_type": "code",
   "execution_count": 120,
   "metadata": {
    "collapsed": false
   },
   "outputs": [
    {
     "data": {
      "text/plain": [
       "True"
      ]
     },
     "execution_count": 120,
     "metadata": {},
     "output_type": "execute_result"
    }
   ],
   "source": [
    "check = test_gdf['toponim'].loc[test_gdf['id'] == 333766][0]\n",
    "type(check) is float"
   ]
  },
  {
   "cell_type": "markdown",
   "metadata": {
    "collapsed": false
   },
   "source": [
    "Список id постов с топонимами"
   ]
  },
  {
   "cell_type": "code",
   "execution_count": 137,
   "metadata": {
    "collapsed": false
   },
   "outputs": [
    {
     "data": {
      "text/plain": [
       "[333530, 331686, 329242, 328572]"
      ]
     },
     "execution_count": 137,
     "metadata": {},
     "output_type": "execute_result"
    }
   ],
   "source": [
    "post_top_gdf = test_gdf.loc[test_gdf['type'] == 'post']\n",
    "post_top_gdf = post_top_gdf.dropna(subset='toponim')\n",
    "post_toponim_list = list(post_top_gdf['id'])\n",
    "post_toponim_list"
   ]
  },
  {
   "cell_type": "markdown",
   "metadata": {
    "collapsed": false
   },
   "source": [
    "Список id комментариев с топонимами"
   ]
  },
  {
   "cell_type": "code",
   "execution_count": 138,
   "metadata": {
    "collapsed": false
   },
   "outputs": [
    {
     "data": {
      "text/plain": [
       "[333775,\n",
       " 333532,\n",
       " 333535,\n",
       " 333565,\n",
       " 333596,\n",
       " 333698,\n",
       " 332892,\n",
       " 332895,\n",
       " 332927,\n",
       " 332598,\n",
       " 332283,\n",
       " 330212,\n",
       " 330217,\n",
       " 329443,\n",
       " 329448,\n",
       " 329451,\n",
       " 329528,\n",
       " 329550,\n",
       " 329561,\n",
       " 329752,\n",
       " 328941,\n",
       " 328977,\n",
       " 328984,\n",
       " 329005,\n",
       " 329014,\n",
       " 329025,\n",
       " 328833,\n",
       " 328427]"
      ]
     },
     "execution_count": 138,
     "metadata": {},
     "output_type": "execute_result"
    }
   ],
   "source": [
    "comment_top_gdf = test_gdf.loc[test_gdf['type'] == 'comment']\n",
    "comment_top_gdf = comment_top_gdf.dropna(subset='toponim')\n",
    "comment_toponim_list = list(comment_top_gdf['id'])\n",
    "comment_toponim_list"
   ]
  },
  {
   "cell_type": "markdown",
   "metadata": {
    "collapsed": false
   },
   "source": [
    "Список id реплаев с топонимами"
   ]
  },
  {
   "cell_type": "code",
   "execution_count": 139,
   "metadata": {
    "collapsed": false
   },
   "outputs": [
    {
     "data": {
      "text/plain": [
       "[333540,\n",
       " 333606,\n",
       " 333669,\n",
       " 333717,\n",
       " 333765,\n",
       " 333782,\n",
       " 333604,\n",
       " 332973,\n",
       " 332957,\n",
       " 332744,\n",
       " 331181,\n",
       " 331194,\n",
       " 330246,\n",
       " 328975,\n",
       " 328991,\n",
       " 328404]"
      ]
     },
     "execution_count": 139,
     "metadata": {},
     "output_type": "execute_result"
    }
   ],
   "source": [
    "reply_top_gdf = test_gdf.loc[test_gdf['type'] == 'reply']\n",
    "reply_top_gdf = reply_top_gdf.dropna(subset='toponim')\n",
    "reply_toponim_list = list(reply_top_gdf['id'])\n",
    "reply_toponim_list"
   ]
  },
  {
   "cell_type": "code",
   "execution_count": 140,
   "metadata": {
    "collapsed": false
   },
   "outputs": [],
   "source": [
    "exclude_list = reply_toponim_list + comment_toponim_list"
   ]
  },
  {
   "cell_type": "code",
   "execution_count": 147,
   "metadata": {
    "collapsed": false
   },
   "outputs": [
    {
     "name": "stdout",
     "output_type": "stream",
     "text": [
      "333530 98\n",
      "331686 1\n",
      "329242 1\n",
      "328572 1\n"
     ]
    }
   ],
   "source": [
    "for i in post_toponim_list:\n",
    "    df_to_extract = list((test_gdf['text'].loc[(test_gdf['post_id'] == i)\n",
    "                                         & (~test_gdf['id'].isin(exclude_list))\n",
    "                                         &(~test_gdf['parents_stack'].isin(comment_toponim_list))]))\n",
    "\n",
    "    df_to_extract.append(test_gdf['text'].loc[test_gdf['id'] == i])\n",
    "\n",
    "    print(i, len(df_to_extract))"
   ]
  },
  {
   "cell_type": "code",
   "execution_count": 151,
   "metadata": {
    "collapsed": false
   },
   "outputs": [
    {
     "name": "stdout",
     "output_type": "stream",
     "text": [
      "333775 1\n",
      "333532 6\n",
      "333535 1\n",
      "333565 1\n",
      "333596 1\n",
      "333698 1\n",
      "332892 7\n",
      "332895 1\n",
      "332927 8\n",
      "332598 1\n",
      "332283 1\n",
      "330212 1\n",
      "330217 1\n",
      "329443 1\n",
      "329448 1\n",
      "329451 1\n",
      "329528 1\n",
      "329550 1\n",
      "329561 2\n",
      "329752 1\n",
      "328941 1\n",
      "328977 1\n",
      "328984 1\n",
      "329005 1\n",
      "329014 1\n",
      "329025 1\n",
      "328833 1\n",
      "328427 2\n"
     ]
    }
   ],
   "source": [
    "for i in comment_toponim_list:\n",
    "    df_to_extract = list(test_gdf['text'].loc[test_gdf['parents_stack'] == i])\n",
    "\n",
    "    df_to_extract.append(test_gdf['text'].loc[test_gdf['id'] == i])\n",
    "\n",
    "    print(i, len(df_to_extract))"
   ]
  },
  {
   "cell_type": "code",
   "execution_count": 152,
   "metadata": {
    "collapsed": false
   },
   "outputs": [
    {
     "name": "stdout",
     "output_type": "stream",
     "text": [
      "333540 1\n",
      "333606 1\n",
      "333669 1\n",
      "333717 1\n",
      "333765 1\n",
      "333782 1\n",
      "333604 1\n",
      "332973 1\n",
      "332957 1\n",
      "332744 1\n",
      "331181 1\n",
      "331194 1\n",
      "330246 1\n",
      "328975 1\n",
      "328991 1\n",
      "328404 1\n"
     ]
    }
   ],
   "source": [
    "for i in reply_toponim_list:\n",
    "    df_to_extract = test_gdf['text'].loc[test_gdf['id'] == i]\n",
    "\n",
    "    print(i, len(df_to_extract))"
   ]
  },
  {
   "cell_type": "code",
   "execution_count": 127,
   "metadata": {
    "collapsed": false
   },
   "outputs": [
    {
     "data": {
      "text/html": [
       "<div>\n",
       "<style scoped>\n",
       "    .dataframe tbody tr th:only-of-type {\n",
       "        vertical-align: middle;\n",
       "    }\n",
       "\n",
       "    .dataframe tbody tr th {\n",
       "        vertical-align: top;\n",
       "    }\n",
       "\n",
       "    .dataframe thead th {\n",
       "        text-align: right;\n",
       "    }\n",
       "</style>\n",
       "<table border=\"1\" class=\"dataframe\">\n",
       "  <thead>\n",
       "    <tr style=\"text-align: right;\">\n",
       "      <th></th>\n",
       "      <th>date</th>\n",
       "      <th>id</th>\n",
       "      <th>text</th>\n",
       "      <th>views.count</th>\n",
       "      <th>likes.count</th>\n",
       "      <th>reposts.count</th>\n",
       "      <th>type</th>\n",
       "      <th>link</th>\n",
       "      <th>post_id</th>\n",
       "      <th>parents_stack</th>\n",
       "      <th>toponim</th>\n",
       "    </tr>\n",
       "  </thead>\n",
       "  <tbody>\n",
       "    <tr>\n",
       "      <th>0</th>\n",
       "      <td>2024-03-21 19:30:00</td>\n",
       "      <td>333766</td>\n",
       "      <td>В доме на Синопской набережной 32/35 из-за поз...</td>\n",
       "      <td>795.0</td>\n",
       "      <td>28</td>\n",
       "      <td>8.0</td>\n",
       "      <td>post</td>\n",
       "      <td>NaN</td>\n",
       "      <td>NaN</td>\n",
       "      <td>NaN</td>\n",
       "      <td>NaN</td>\n",
       "    </tr>\n",
       "    <tr>\n",
       "      <th>1</th>\n",
       "      <td>2024-03-21 10:30:00</td>\n",
       "      <td>333530</td>\n",
       "      <td>Сделайте сад Сан-Галли безопасным для граждан,...</td>\n",
       "      <td>3527.0</td>\n",
       "      <td>126</td>\n",
       "      <td>23.0</td>\n",
       "      <td>post</td>\n",
       "      <td>NaN</td>\n",
       "      <td>NaN</td>\n",
       "      <td>NaN</td>\n",
       "      <td>toponim_1</td>\n",
       "    </tr>\n",
       "    <tr>\n",
       "      <th>2</th>\n",
       "      <td>2024-03-20 19:30:00</td>\n",
       "      <td>333376</td>\n",
       "      <td>«Электросамокатная саранча» вновь повылезала н...</td>\n",
       "      <td>9866.0</td>\n",
       "      <td>188</td>\n",
       "      <td>24.0</td>\n",
       "      <td>post</td>\n",
       "      <td>NaN</td>\n",
       "      <td>NaN</td>\n",
       "      <td>NaN</td>\n",
       "      <td>NaN</td>\n",
       "    </tr>\n",
       "    <tr>\n",
       "      <th>3</th>\n",
       "      <td>2024-03-20 10:30:00</td>\n",
       "      <td>333265</td>\n",
       "      <td>Вот и отгуляла широкая Масленица! Наша команда...</td>\n",
       "      <td>4599.0</td>\n",
       "      <td>54</td>\n",
       "      <td>8.0</td>\n",
       "      <td>post</td>\n",
       "      <td>https://vk.com/wall-129354225_332885|ярко,</td>\n",
       "      <td>NaN</td>\n",
       "      <td>NaN</td>\n",
       "      <td>NaN</td>\n",
       "    </tr>\n",
       "    <tr>\n",
       "      <th>4</th>\n",
       "      <td>2024-03-19 19:30:00</td>\n",
       "      <td>333226</td>\n",
       "      <td>На том же месте сквозь года Вот так каланча ве...</td>\n",
       "      <td>4355.0</td>\n",
       "      <td>51</td>\n",
       "      <td>11.0</td>\n",
       "      <td>post</td>\n",
       "      <td>https://vk.com/wall-129354225_325408|уплотните...</td>\n",
       "      <td>NaN</td>\n",
       "      <td>NaN</td>\n",
       "      <td>NaN</td>\n",
       "    </tr>\n",
       "    <tr>\n",
       "      <th>...</th>\n",
       "      <td>...</td>\n",
       "      <td>...</td>\n",
       "      <td>...</td>\n",
       "      <td>...</td>\n",
       "      <td>...</td>\n",
       "      <td>...</td>\n",
       "      <td>...</td>\n",
       "      <td>...</td>\n",
       "      <td>...</td>\n",
       "      <td>...</td>\n",
       "      <td>...</td>\n",
       "    </tr>\n",
       "    <tr>\n",
       "      <th>715</th>\n",
       "      <td>2024-02-07 10:42:30</td>\n",
       "      <td>328420</td>\n",
       "      <td>Люди десятилетиями ждут замены лифтов, чтоб он...</td>\n",
       "      <td>NaN</td>\n",
       "      <td>2</td>\n",
       "      <td>NaN</td>\n",
       "      <td>comment</td>\n",
       "      <td>NaN</td>\n",
       "      <td>328388.0</td>\n",
       "      <td>NaN</td>\n",
       "      <td>NaN</td>\n",
       "    </tr>\n",
       "    <tr>\n",
       "      <th>716</th>\n",
       "      <td>2024-02-07 12:57:57</td>\n",
       "      <td>328422</td>\n",
       "      <td>С вопросом капремонта  лифтов, к сожалению, ст...</td>\n",
       "      <td>NaN</td>\n",
       "      <td>4</td>\n",
       "      <td>NaN</td>\n",
       "      <td>comment</td>\n",
       "      <td>NaN</td>\n",
       "      <td>328388.0</td>\n",
       "      <td>NaN</td>\n",
       "      <td>NaN</td>\n",
       "    </tr>\n",
       "    <tr>\n",
       "      <th>717</th>\n",
       "      <td>2024-02-07 14:03:22</td>\n",
       "      <td>328427</td>\n",
       "      <td>Думаю что лифты в порядке. Просто их выключили...</td>\n",
       "      <td>NaN</td>\n",
       "      <td>1</td>\n",
       "      <td>NaN</td>\n",
       "      <td>comment</td>\n",
       "      <td>NaN</td>\n",
       "      <td>328388.0</td>\n",
       "      <td>NaN</td>\n",
       "      <td>toponim_717</td>\n",
       "    </tr>\n",
       "    <tr>\n",
       "      <th>718</th>\n",
       "      <td>2024-02-07 15:26:01</td>\n",
       "      <td>328438</td>\n",
       "      <td>[id10835085|Андрей], очень даже может быть</td>\n",
       "      <td>NaN</td>\n",
       "      <td>1</td>\n",
       "      <td>NaN</td>\n",
       "      <td>reply</td>\n",
       "      <td>NaN</td>\n",
       "      <td>328388.0</td>\n",
       "      <td>328427</td>\n",
       "      <td>NaN</td>\n",
       "    </tr>\n",
       "    <tr>\n",
       "      <th>719</th>\n",
       "      <td>2024-02-07 18:56:25</td>\n",
       "      <td>328462</td>\n",
       "      <td>С лифтами ныне у многих проблемы. У меня в дом...</td>\n",
       "      <td>NaN</td>\n",
       "      <td>0</td>\n",
       "      <td>NaN</td>\n",
       "      <td>comment</td>\n",
       "      <td>NaN</td>\n",
       "      <td>328388.0</td>\n",
       "      <td>NaN</td>\n",
       "      <td>NaN</td>\n",
       "    </tr>\n",
       "  </tbody>\n",
       "</table>\n",
       "<p>720 rows × 11 columns</p>\n",
       "</div>"
      ],
      "text/plain": [
       "                    date      id  \\\n",
       "0    2024-03-21 19:30:00  333766   \n",
       "1    2024-03-21 10:30:00  333530   \n",
       "2    2024-03-20 19:30:00  333376   \n",
       "3    2024-03-20 10:30:00  333265   \n",
       "4    2024-03-19 19:30:00  333226   \n",
       "..                   ...     ...   \n",
       "715  2024-02-07 10:42:30  328420   \n",
       "716  2024-02-07 12:57:57  328422   \n",
       "717  2024-02-07 14:03:22  328427   \n",
       "718  2024-02-07 15:26:01  328438   \n",
       "719  2024-02-07 18:56:25  328462   \n",
       "\n",
       "                                                  text  views.count  \\\n",
       "0    В доме на Синопской набережной 32/35 из-за поз...        795.0   \n",
       "1    Сделайте сад Сан-Галли безопасным для граждан,...       3527.0   \n",
       "2    «Электросамокатная саранча» вновь повылезала н...       9866.0   \n",
       "3    Вот и отгуляла широкая Масленица! Наша команда...       4599.0   \n",
       "4    На том же месте сквозь года Вот так каланча ве...       4355.0   \n",
       "..                                                 ...          ...   \n",
       "715  Люди десятилетиями ждут замены лифтов, чтоб он...          NaN   \n",
       "716  С вопросом капремонта  лифтов, к сожалению, ст...          NaN   \n",
       "717  Думаю что лифты в порядке. Просто их выключили...          NaN   \n",
       "718         [id10835085|Андрей], очень даже может быть          NaN   \n",
       "719  С лифтами ныне у многих проблемы. У меня в дом...          NaN   \n",
       "\n",
       "     likes.count  reposts.count     type  \\\n",
       "0             28            8.0     post   \n",
       "1            126           23.0     post   \n",
       "2            188           24.0     post   \n",
       "3             54            8.0     post   \n",
       "4             51           11.0     post   \n",
       "..           ...            ...      ...   \n",
       "715            2            NaN  comment   \n",
       "716            4            NaN  comment   \n",
       "717            1            NaN  comment   \n",
       "718            1            NaN    reply   \n",
       "719            0            NaN  comment   \n",
       "\n",
       "                                                  link   post_id  \\\n",
       "0                                                  NaN       NaN   \n",
       "1                                                  NaN       NaN   \n",
       "2                                                  NaN       NaN   \n",
       "3           https://vk.com/wall-129354225_332885|ярко,       NaN   \n",
       "4    https://vk.com/wall-129354225_325408|уплотните...       NaN   \n",
       "..                                                 ...       ...   \n",
       "715                                                NaN  328388.0   \n",
       "716                                                NaN  328388.0   \n",
       "717                                                NaN  328388.0   \n",
       "718                                                NaN  328388.0   \n",
       "719                                                NaN  328388.0   \n",
       "\n",
       "    parents_stack      toponim  \n",
       "0             NaN          NaN  \n",
       "1             NaN    toponim_1  \n",
       "2             NaN          NaN  \n",
       "3             NaN          NaN  \n",
       "4             NaN          NaN  \n",
       "..            ...          ...  \n",
       "715           NaN          NaN  \n",
       "716           NaN          NaN  \n",
       "717           NaN  toponim_717  \n",
       "718        328427          NaN  \n",
       "719           NaN          NaN  \n",
       "\n",
       "[720 rows x 11 columns]"
      ]
     },
     "execution_count": 127,
     "metadata": {},
     "output_type": "execute_result"
    }
   ],
   "source": [
    "test_gdf"
   ]
  },
  {
   "cell_type": "code",
   "execution_count": 15,
   "metadata": {
    "collapsed": false
   },
   "outputs": [
    {
     "ename": "ValueError",
     "evalue": "('Lengths must match to compare', (482,), (0,))",
     "output_type": "error",
     "traceback": [
      "\u001b[1;31m---------------------------------------------------------------------------\u001b[0m",
      "\u001b[1;31mValueError\u001b[0m                                Traceback (most recent call last)",
      "Cell \u001b[1;32mIn[15], line 38\u001b[0m\n\u001b[0;32m     36\u001b[0m \u001b[38;5;66;03m# Применяем функцию к DataFrame\u001b[39;00m\n\u001b[0;32m     37\u001b[0m df \u001b[38;5;241m=\u001b[39m test_gdf  \u001b[38;5;66;03m# Замените это на ваш DataFrame\u001b[39;00m\n\u001b[1;32m---> 38\u001b[0m df \u001b[38;5;241m=\u001b[39m \u001b[43mlink_comments\u001b[49m\u001b[43m(\u001b[49m\u001b[43mdf\u001b[49m\u001b[43m)\u001b[49m\n\u001b[0;32m     40\u001b[0m \u001b[38;5;66;03m# Выводим обновленный DataFrame\u001b[39;00m\n\u001b[0;32m     41\u001b[0m df\n",
      "Cell \u001b[1;32mIn[15], line 27\u001b[0m, in \u001b[0;36mlink_comments\u001b[1;34m(df)\u001b[0m\n\u001b[0;32m     24\u001b[0m     comments \u001b[38;5;241m=\u001b[39m df[(df[\u001b[38;5;124m'\u001b[39m\u001b[38;5;124mtype\u001b[39m\u001b[38;5;124m'\u001b[39m] \u001b[38;5;241m==\u001b[39m \u001b[38;5;124m'\u001b[39m\u001b[38;5;124mcomment\u001b[39m\u001b[38;5;124m'\u001b[39m) \u001b[38;5;241m&\u001b[39m (df[\u001b[38;5;124m'\u001b[39m\u001b[38;5;124mpost_id\u001b[39m\u001b[38;5;124m'\u001b[39m] \u001b[38;5;241m==\u001b[39m post[\u001b[38;5;124m'\u001b[39m\u001b[38;5;124mid\u001b[39m\u001b[38;5;124m'\u001b[39m])]\n\u001b[0;32m     25\u001b[0m     \u001b[38;5;28;01mfor\u001b[39;00m _, comment \u001b[38;5;129;01min\u001b[39;00m comments\u001b[38;5;241m.\u001b[39miterrows():\n\u001b[0;32m     26\u001b[0m         \u001b[38;5;66;03m# Добавляем id комментариев, если у них нет топонима и они не ссылаются на комментарий с топонимом\u001b[39;00m\n\u001b[1;32m---> 27\u001b[0m         \u001b[38;5;28;01mif\u001b[39;00m pd\u001b[38;5;241m.\u001b[39misnull(comment[\u001b[38;5;124m'\u001b[39m\u001b[38;5;124monly_full_street_name\u001b[39m\u001b[38;5;124m'\u001b[39m]) \u001b[38;5;129;01mand\u001b[39;00m pd\u001b[38;5;241m.\u001b[39misnull(df[\u001b[43mdf\u001b[49m\u001b[43m[\u001b[49m\u001b[38;5;124;43m'\u001b[39;49m\u001b[38;5;124;43mid\u001b[39;49m\u001b[38;5;124;43m'\u001b[39;49m\u001b[43m]\u001b[49m\u001b[43m \u001b[49m\u001b[38;5;241;43m==\u001b[39;49m\u001b[43m \u001b[49m\u001b[43mcomment\u001b[49m\u001b[43m[\u001b[49m\u001b[38;5;124;43m'\u001b[39;49m\u001b[38;5;124;43mparents_stack\u001b[39;49m\u001b[38;5;124;43m'\u001b[39;49m\u001b[43m]\u001b[49m][\u001b[38;5;124m'\u001b[39m\u001b[38;5;124monly_full_street_name\u001b[39m\u001b[38;5;124m'\u001b[39m])\u001b[38;5;241m.\u001b[39mall():\n\u001b[0;32m     28\u001b[0m             linked_ids\u001b[38;5;241m.\u001b[39mappend(comment[\u001b[38;5;124m'\u001b[39m\u001b[38;5;124mid\u001b[39m\u001b[38;5;124m'\u001b[39m])\n\u001b[0;32m     30\u001b[0m \u001b[38;5;66;03m# Записываем связанные id комментариев в новую ячейку\u001b[39;00m\n",
      "File \u001b[1;32mI:\\sloyka\\venv\\lib\\site-packages\\pandas\\core\\ops\\common.py:76\u001b[0m, in \u001b[0;36m_unpack_zerodim_and_defer.<locals>.new_method\u001b[1;34m(self, other)\u001b[0m\n\u001b[0;32m     72\u001b[0m             \u001b[38;5;28;01mreturn\u001b[39;00m \u001b[38;5;28mNotImplemented\u001b[39m\n\u001b[0;32m     74\u001b[0m other \u001b[38;5;241m=\u001b[39m item_from_zerodim(other)\n\u001b[1;32m---> 76\u001b[0m \u001b[38;5;28;01mreturn\u001b[39;00m \u001b[43mmethod\u001b[49m\u001b[43m(\u001b[49m\u001b[38;5;28;43mself\u001b[39;49m\u001b[43m,\u001b[49m\u001b[43m \u001b[49m\u001b[43mother\u001b[49m\u001b[43m)\u001b[49m\n",
      "File \u001b[1;32mI:\\sloyka\\venv\\lib\\site-packages\\pandas\\core\\arraylike.py:40\u001b[0m, in \u001b[0;36mOpsMixin.__eq__\u001b[1;34m(self, other)\u001b[0m\n\u001b[0;32m     38\u001b[0m \u001b[38;5;129m@unpack_zerodim_and_defer\u001b[39m(\u001b[38;5;124m\"\u001b[39m\u001b[38;5;124m__eq__\u001b[39m\u001b[38;5;124m\"\u001b[39m)\n\u001b[0;32m     39\u001b[0m \u001b[38;5;28;01mdef\u001b[39;00m \u001b[38;5;21m__eq__\u001b[39m(\u001b[38;5;28mself\u001b[39m, other):\n\u001b[1;32m---> 40\u001b[0m     \u001b[38;5;28;01mreturn\u001b[39;00m \u001b[38;5;28;43mself\u001b[39;49m\u001b[38;5;241;43m.\u001b[39;49m\u001b[43m_cmp_method\u001b[49m\u001b[43m(\u001b[49m\u001b[43mother\u001b[49m\u001b[43m,\u001b[49m\u001b[43m \u001b[49m\u001b[43moperator\u001b[49m\u001b[38;5;241;43m.\u001b[39;49m\u001b[43meq\u001b[49m\u001b[43m)\u001b[49m\n",
      "File \u001b[1;32mI:\\sloyka\\venv\\lib\\site-packages\\pandas\\core\\series.py:6110\u001b[0m, in \u001b[0;36mSeries._cmp_method\u001b[1;34m(self, other, op)\u001b[0m\n\u001b[0;32m   6107\u001b[0m lvalues \u001b[38;5;241m=\u001b[39m \u001b[38;5;28mself\u001b[39m\u001b[38;5;241m.\u001b[39m_values\n\u001b[0;32m   6108\u001b[0m rvalues \u001b[38;5;241m=\u001b[39m extract_array(other, extract_numpy\u001b[38;5;241m=\u001b[39m\u001b[38;5;28;01mTrue\u001b[39;00m, extract_range\u001b[38;5;241m=\u001b[39m\u001b[38;5;28;01mTrue\u001b[39;00m)\n\u001b[1;32m-> 6110\u001b[0m res_values \u001b[38;5;241m=\u001b[39m \u001b[43mops\u001b[49m\u001b[38;5;241;43m.\u001b[39;49m\u001b[43mcomparison_op\u001b[49m\u001b[43m(\u001b[49m\u001b[43mlvalues\u001b[49m\u001b[43m,\u001b[49m\u001b[43m \u001b[49m\u001b[43mrvalues\u001b[49m\u001b[43m,\u001b[49m\u001b[43m \u001b[49m\u001b[43mop\u001b[49m\u001b[43m)\u001b[49m\n\u001b[0;32m   6112\u001b[0m \u001b[38;5;28;01mreturn\u001b[39;00m \u001b[38;5;28mself\u001b[39m\u001b[38;5;241m.\u001b[39m_construct_result(res_values, name\u001b[38;5;241m=\u001b[39mres_name)\n",
      "File \u001b[1;32mI:\\sloyka\\venv\\lib\\site-packages\\pandas\\core\\ops\\array_ops.py:321\u001b[0m, in \u001b[0;36mcomparison_op\u001b[1;34m(left, right, op)\u001b[0m\n\u001b[0;32m    316\u001b[0m \u001b[38;5;28;01mif\u001b[39;00m \u001b[38;5;28misinstance\u001b[39m(rvalues, (np\u001b[38;5;241m.\u001b[39mndarray, ABCExtensionArray)):\n\u001b[0;32m    317\u001b[0m     \u001b[38;5;66;03m# TODO: make this treatment consistent across ops and classes.\u001b[39;00m\n\u001b[0;32m    318\u001b[0m     \u001b[38;5;66;03m#  We are not catching all listlikes here (e.g. frozenset, tuple)\u001b[39;00m\n\u001b[0;32m    319\u001b[0m     \u001b[38;5;66;03m#  The ambiguous case is object-dtype.  See GH#27803\u001b[39;00m\n\u001b[0;32m    320\u001b[0m     \u001b[38;5;28;01mif\u001b[39;00m \u001b[38;5;28mlen\u001b[39m(lvalues) \u001b[38;5;241m!=\u001b[39m \u001b[38;5;28mlen\u001b[39m(rvalues):\n\u001b[1;32m--> 321\u001b[0m         \u001b[38;5;28;01mraise\u001b[39;00m \u001b[38;5;167;01mValueError\u001b[39;00m(\n\u001b[0;32m    322\u001b[0m             \u001b[38;5;124m\"\u001b[39m\u001b[38;5;124mLengths must match to compare\u001b[39m\u001b[38;5;124m\"\u001b[39m, lvalues\u001b[38;5;241m.\u001b[39mshape, rvalues\u001b[38;5;241m.\u001b[39mshape\n\u001b[0;32m    323\u001b[0m         )\n\u001b[0;32m    325\u001b[0m \u001b[38;5;28;01mif\u001b[39;00m should_extension_dispatch(lvalues, rvalues) \u001b[38;5;129;01mor\u001b[39;00m (\n\u001b[0;32m    326\u001b[0m     (\u001b[38;5;28misinstance\u001b[39m(rvalues, (Timedelta, BaseOffset, Timestamp)) \u001b[38;5;129;01mor\u001b[39;00m right \u001b[38;5;129;01mis\u001b[39;00m NaT)\n\u001b[0;32m    327\u001b[0m     \u001b[38;5;129;01mand\u001b[39;00m lvalues\u001b[38;5;241m.\u001b[39mdtype \u001b[38;5;241m!=\u001b[39m \u001b[38;5;28mobject\u001b[39m\n\u001b[0;32m    328\u001b[0m ):\n\u001b[0;32m    329\u001b[0m     \u001b[38;5;66;03m# Call the method on lvalues\u001b[39;00m\n\u001b[0;32m    330\u001b[0m     res_values \u001b[38;5;241m=\u001b[39m op(lvalues, rvalues)\n",
      "\u001b[1;31mValueError\u001b[0m: ('Lengths must match to compare', (482,), (0,))"
     ]
    }
   ],
   "source": [
    "# Предполагается, что df - это ваш DataFrame с данными\n",
    "# Структура df: ['id', 'text', 'type', 'parent_id', 'parents_stack', 'toponim']\n",
    "\n",
    "# Функция для добавления id комментариев в новую ячейку\n",
    "def link_comments(df):\n",
    "    # Создаем новый столбец для связанных id комментариев\n",
    "    df['linked_comments'] = None\n",
    "\n",
    "    # Перебираем строки с типом 'post'\n",
    "    for index, post in df[df['type'] == 'post'].iterrows():\n",
    "        linked_ids = []\n",
    "\n",
    "        # Проверяем наличие топонима в посте\n",
    "        if pd.isnull(post['only_full_street_name']):\n",
    "            # Собираем комментарии, относящиеся к этому посту\n",
    "            comments = df[(df['type'] == 'comment') & (df['post_id'] == post['id'])]\n",
    "            for _, comment in comments.iterrows():\n",
    "                # Если в комментарии есть топоним, добавляем его id и id всех комментариев, ссылающихся на него\n",
    "                if pd.notnull(comment['only_full_street_name']):\n",
    "                    linked_ids.append(comment['id'])\n",
    "                    linked_ids.extend(df[df['parents_stack'] == comment['id']]['id'].tolist())\n",
    "        else:\n",
    "            # Собираем все комментарии, относящиеся к посту с топонимом\n",
    "            comments = df[(df['type'] == 'comment') & (df['post_id'] == post['id'])]\n",
    "            for _, comment in comments.iterrows():\n",
    "                # Добавляем id комментариев, если у них нет топонима и они не ссылаются на комментарий с топонимом\n",
    "                if pd.isnull(comment['only_full_street_name']) and pd.isnull(df[df['id'] == comment['parents_stack']]['only_full_street_name']).all():\n",
    "                    linked_ids.append(comment['id'])\n",
    "\n",
    "        # Записываем связанные id комментариев в новую ячейку\n",
    "        if linked_ids:\n",
    "            df.at[index, 'linked_comments'] = ', '.join(map(str, linked_ids))\n",
    "\n",
    "    return df\n",
    "\n",
    "# Применяем функцию к DataFrame\n",
    "df = test_gdf  # Замените это на ваш DataFrame\n",
    "df = link_comments(df)\n",
    "\n",
    "# Выводим обновленный DataFrame\n",
    "df"
   ]
  },
  {
   "cell_type": "code",
   "execution_count": null,
   "metadata": {
    "collapsed": false
   },
   "outputs": [],
   "source": [
    "df"
   ]
  },
  {
   "cell_type": "code",
   "execution_count": null,
   "metadata": {
    "collapsed": false
   },
   "outputs": [],
   "source": [
    "df = df.drop_duplicates(subset='id')\n",
    "df"
   ]
  },
  {
   "cell_type": "code",
   "execution_count": null,
   "metadata": {
    "collapsed": false
   },
   "outputs": [],
   "source": []
  }
 ],
 "metadata": {
  "kernelspec": {
   "display_name": "Python 3",
   "language": "python",
   "name": "python3"
  },
  "language_info": {
   "codemirror_mode": {
    "name": "ipython",
    "version": 2
   },
   "file_extension": ".py",
   "mimetype": "text/x-python",
   "name": "python",
   "nbconvert_exporter": "python",
   "pygments_lexer": "ipython2",
   "version": "2.7.6"
  }
 },
 "nbformat": 4,
 "nbformat_minor": 0
}
