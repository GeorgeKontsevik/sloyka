{
 "cells": [
  {
   "cell_type": "markdown",
   "metadata": {},
   "source": [
    "# Парсинг постов и комментариев с групп ВК"
   ]
  },
  {
   "cell_type": "markdown",
   "metadata": {},
   "source": [
    "## Step by step"
   ]
  },
  {
   "cell_type": "markdown",
   "metadata": {},
   "source": [
    "Импорт необходимых модулей и VKParser"
   ]
  },
  {
   "cell_type": "code",
   "execution_count": 1,
   "metadata": {},
   "outputs": [
    {
     "name": "stdout",
     "output_type": "stream",
     "text": [
      "INFO: Pandarallel will run on -1 workers.\n",
      "INFO: Pandarallel will use standard multiprocessing data transfer (pipe) to transfer data between the main process and workers.\n"
     ]
    },
    {
     "name": "stderr",
     "output_type": "stream",
     "text": [
      "[nltk_data] Downloading package stopwords to\n",
      "[nltk_data]     /Users/sashamorozov/nltk_data...\n",
      "[nltk_data]   Package stopwords is already up-to-date!\n"
     ]
    }
   ],
   "source": [
    "import warnings\n",
    "\n",
    "warnings.simplefilter(\"ignore\")\n",
    "\n",
    "import os\n",
    "import sys\n",
    "\n",
    "folder = os.getcwd().split(\"\\\\examples\")[0]\n",
    "sys.path.append(folder)\n",
    "\n",
    "from sloyka.src.data_getter import VKParser"
   ]
  },
  {
   "cell_type": "markdown",
   "metadata": {},
   "source": [
    "Ввод данных о группе, с которой будут парситься посты и комментарии:\n",
    "* domain – указание на нужную группу ВК. Идет после последнего слэша в ссылке (в примере это mytndvor 'https://vk.com/mytndvor')\n",
    "* token – ключ от приложения ВК, которое нужно создать для загрузки данных"
   ]
  },
  {
   "cell_type": "code",
   "execution_count": 13,
   "metadata": {},
   "outputs": [],
   "source": [
    "domain = 'mytndvor' # группа \"центральный район за комфортную среду обитания\"\n",
    "token = '...'"
   ]
  },
  {
   "cell_type": "code",
   "execution_count": 14,
   "metadata": {},
   "outputs": [
    {
     "data": {
      "text/plain": [
       "-129354225"
      ]
     },
     "execution_count": 14,
     "metadata": {},
     "output_type": "execute_result"
    }
   ],
   "source": [
    "VKParser.get_owner_id_by_domain(domain, access_token=token)"
   ]
  },
  {
   "cell_type": "markdown",
   "metadata": {},
   "source": [
    "Запуск парсера постов, на вход:\n",
    "* domain\n",
    "* token \n",
    "* кол-во постов, получаемых при 1 запросе\n",
    "* дата, до которой скачиваются данные в формате гггг.мм.дд."
   ]
  },
  {
   "cell_type": "code",
   "execution_count": 5,
   "metadata": {},
   "outputs": [
    {
     "name": "stdout",
     "output_type": "stream",
     "text": [
      "2024-02-17 10:30:01\n",
      "posts downloaded\n"
     ]
    }
   ],
   "source": [
    "posts_df = VKParser().run_posts(domain, token, 100, \"2024-03-01\")"
   ]
  },
  {
   "cell_type": "markdown",
   "metadata": {},
   "source": [
    "3 первых полученных поста из итогового датафрема"
   ]
  },
  {
   "cell_type": "code",
   "execution_count": 6,
   "metadata": {},
   "outputs": [
    {
     "data": {
      "text/html": [
       "<div>\n",
       "<style scoped>\n",
       "    .dataframe tbody tr th:only-of-type {\n",
       "        vertical-align: middle;\n",
       "    }\n",
       "\n",
       "    .dataframe tbody tr th {\n",
       "        vertical-align: top;\n",
       "    }\n",
       "\n",
       "    .dataframe thead th {\n",
       "        text-align: right;\n",
       "    }\n",
       "</style>\n",
       "<table border=\"1\" class=\"dataframe\">\n",
       "  <thead>\n",
       "    <tr style=\"text-align: right;\">\n",
       "      <th></th>\n",
       "      <th>date</th>\n",
       "      <th>id</th>\n",
       "      <th>text</th>\n",
       "      <th>views.count</th>\n",
       "      <th>likes.count</th>\n",
       "      <th>reposts.count</th>\n",
       "      <th>type</th>\n",
       "      <th>link</th>\n",
       "    </tr>\n",
       "  </thead>\n",
       "  <tbody>\n",
       "    <tr>\n",
       "      <th>0</th>\n",
       "      <td>2024-04-05 19:30:00</td>\n",
       "      <td>337309</td>\n",
       "      <td>В рамках муниципальной предвыборной кампании 2...</td>\n",
       "      <td>3573</td>\n",
       "      <td>68</td>\n",
       "      <td>10</td>\n",
       "      <td>post</td>\n",
       "      <td>https://vk.com/@mytndvor-programma2024|предвыб...</td>\n",
       "    </tr>\n",
       "    <tr>\n",
       "      <th>1</th>\n",
       "      <td>2024-04-05 10:30:00</td>\n",
       "      <td>337154</td>\n",
       "      <td>«300 спартанцев» для инициализации референдума...</td>\n",
       "      <td>2984</td>\n",
       "      <td>131</td>\n",
       "      <td>24</td>\n",
       "      <td>post</td>\n",
       "      <td>https://vk.com/wall-129354225_335728|провести</td>\n",
       "    </tr>\n",
       "    <tr>\n",
       "      <th>2</th>\n",
       "      <td>2024-04-04 19:30:00</td>\n",
       "      <td>337038</td>\n",
       "      <td>На Тульской улице у дома 1 заработал киоск по ...</td>\n",
       "      <td>6315</td>\n",
       "      <td>216</td>\n",
       "      <td>37</td>\n",
       "      <td>post</td>\n",
       "      <td>NaN</td>\n",
       "    </tr>\n",
       "  </tbody>\n",
       "</table>\n",
       "</div>"
      ],
      "text/plain": [
       "                 date      id  \\\n",
       "0 2024-04-05 19:30:00  337309   \n",
       "1 2024-04-05 10:30:00  337154   \n",
       "2 2024-04-04 19:30:00  337038   \n",
       "\n",
       "                                                text  views.count  \\\n",
       "0  В рамках муниципальной предвыборной кампании 2...         3573   \n",
       "1  «300 спартанцев» для инициализации референдума...         2984   \n",
       "2  На Тульской улице у дома 1 заработал киоск по ...         6315   \n",
       "\n",
       "   likes.count  reposts.count  type  \\\n",
       "0           68             10  post   \n",
       "1          131             24  post   \n",
       "2          216             37  post   \n",
       "\n",
       "                                                link  \n",
       "0  https://vk.com/@mytndvor-programma2024|предвыб...  \n",
       "1      https://vk.com/wall-129354225_335728|провести  \n",
       "2                                                NaN  "
      ]
     },
     "execution_count": 6,
     "metadata": {},
     "output_type": "execute_result"
    }
   ],
   "source": [
    "posts_df.head(3)"
   ]
  },
  {
   "cell_type": "markdown",
   "metadata": {},
   "source": [
    "Запуск парсера комментариев, на вход:\n",
    "* domain\n",
    "* id постов из прошлого датафрейма\n",
    "* token"
   ]
  },
  {
   "cell_type": "code",
   "execution_count": 7,
   "metadata": {},
   "outputs": [
    {
     "name": "stderr",
     "output_type": "stream",
     "text": [
      "100%|██████████| 100/100 [10:35<00:00,  6.35s/it]"
     ]
    },
    {
     "name": "stdout",
     "output_type": "stream",
     "text": [
      "comments downloaded\n"
     ]
    },
    {
     "name": "stderr",
     "output_type": "stream",
     "text": [
      "\n"
     ]
    }
   ],
   "source": [
    "post_ids = posts_df[\"id\"].to_list()\n",
    "comments_df = VKParser().run_comments(domain, post_ids=post_ids, access_token=token)"
   ]
  },
  {
   "cell_type": "markdown",
   "metadata": {},
   "source": [
    "3 первых полученных комментария из итогового датафрема"
   ]
  },
  {
   "cell_type": "code",
   "execution_count": 8,
   "metadata": {},
   "outputs": [
    {
     "data": {
      "text/html": [
       "<div>\n",
       "<style scoped>\n",
       "    .dataframe tbody tr th:only-of-type {\n",
       "        vertical-align: middle;\n",
       "    }\n",
       "\n",
       "    .dataframe tbody tr th {\n",
       "        vertical-align: top;\n",
       "    }\n",
       "\n",
       "    .dataframe thead th {\n",
       "        text-align: right;\n",
       "    }\n",
       "</style>\n",
       "<table border=\"1\" class=\"dataframe\">\n",
       "  <thead>\n",
       "    <tr style=\"text-align: right;\">\n",
       "      <th></th>\n",
       "      <th>id</th>\n",
       "      <th>date</th>\n",
       "      <th>text</th>\n",
       "      <th>post_id</th>\n",
       "      <th>parents_stack</th>\n",
       "      <th>likes.count</th>\n",
       "      <th>type</th>\n",
       "    </tr>\n",
       "  </thead>\n",
       "  <tbody>\n",
       "    <tr>\n",
       "      <th>0</th>\n",
       "      <td>337312</td>\n",
       "      <td>2024-04-05 16:41:40</td>\n",
       "      <td>Замечательно, что есть неравнодушные люди, кот...</td>\n",
       "      <td>337309</td>\n",
       "      <td>[]</td>\n",
       "      <td>12</td>\n",
       "      <td>comment</td>\n",
       "    </tr>\n",
       "    <tr>\n",
       "      <th>1</th>\n",
       "      <td>337334</td>\n",
       "      <td>2024-04-05 18:35:48</td>\n",
       "      <td>[id7374803|Любовь], помогать словом , это прек...</td>\n",
       "      <td>337309</td>\n",
       "      <td>[337312]</td>\n",
       "      <td>1</td>\n",
       "      <td>comment</td>\n",
       "    </tr>\n",
       "    <tr>\n",
       "      <th>2</th>\n",
       "      <td>337335</td>\n",
       "      <td>2024-04-05 18:38:54</td>\n",
       "      <td>[id342126|Ирина], иногда людям достаточно подс...</td>\n",
       "      <td>337309</td>\n",
       "      <td>[337312]</td>\n",
       "      <td>5</td>\n",
       "      <td>comment</td>\n",
       "    </tr>\n",
       "  </tbody>\n",
       "</table>\n",
       "</div>"
      ],
      "text/plain": [
       "       id                 date  \\\n",
       "0  337312  2024-04-05 16:41:40   \n",
       "1  337334  2024-04-05 18:35:48   \n",
       "2  337335  2024-04-05 18:38:54   \n",
       "\n",
       "                                                text  post_id parents_stack  \\\n",
       "0  Замечательно, что есть неравнодушные люди, кот...   337309            []   \n",
       "1  [id7374803|Любовь], помогать словом , это прек...   337309      [337312]   \n",
       "2  [id342126|Ирина], иногда людям достаточно подс...   337309      [337312]   \n",
       "\n",
       "   likes.count     type  \n",
       "0           12  comment  \n",
       "1            1  comment  \n",
       "2            5  comment  "
      ]
     },
     "execution_count": 8,
     "metadata": {},
     "output_type": "execute_result"
    }
   ],
   "source": [
    "comments_df.head(3)"
   ]
  },
  {
   "cell_type": "markdown",
   "metadata": {},
   "source": [
    "Запуск парсера постов и комментариев с объединением в один датафрейм, на вход:\n",
    "* domain\n",
    "* token \n",
    "* кол-во постов/комментариев, получаемых при 1 запросе\n",
    "* дата, до которой скачиваются данные в формате гггг.мм.дд."
   ]
  },
  {
   "cell_type": "code",
   "execution_count": 9,
   "metadata": {},
   "outputs": [
    {
     "name": "stdout",
     "output_type": "stream",
     "text": [
      "2024-02-17 10:30:01\n",
      "posts downloaded\n"
     ]
    },
    {
     "name": "stderr",
     "output_type": "stream",
     "text": [
      "100%|██████████| 100/100 [09:55<00:00,  5.96s/it]\n"
     ]
    },
    {
     "name": "stdout",
     "output_type": "stream",
     "text": [
      "comments downloaded\n"
     ]
    }
   ],
   "source": [
    "result_df = VKParser().run_parser(domain, token, step=100, cutoff_date='2024-03-20') "
   ]
  },
  {
   "cell_type": "markdown",
   "metadata": {},
   "source": [
    "Пять случайных записей из итогового датафрейма"
   ]
  },
  {
   "cell_type": "code",
   "execution_count": 10,
   "metadata": {},
   "outputs": [
    {
     "data": {
      "text/html": [
       "<div>\n",
       "<style scoped>\n",
       "    .dataframe tbody tr th:only-of-type {\n",
       "        vertical-align: middle;\n",
       "    }\n",
       "\n",
       "    .dataframe tbody tr th {\n",
       "        vertical-align: top;\n",
       "    }\n",
       "\n",
       "    .dataframe thead th {\n",
       "        text-align: right;\n",
       "    }\n",
       "</style>\n",
       "<table border=\"1\" class=\"dataframe\">\n",
       "  <thead>\n",
       "    <tr style=\"text-align: right;\">\n",
       "      <th></th>\n",
       "      <th>date</th>\n",
       "      <th>id</th>\n",
       "      <th>text</th>\n",
       "      <th>views.count</th>\n",
       "      <th>likes.count</th>\n",
       "      <th>reposts.count</th>\n",
       "      <th>type</th>\n",
       "      <th>link</th>\n",
       "      <th>post_id</th>\n",
       "      <th>parents_stack</th>\n",
       "    </tr>\n",
       "  </thead>\n",
       "  <tbody>\n",
       "    <tr>\n",
       "      <th>1806</th>\n",
       "      <td>2024-03-27 19:16:55</td>\n",
       "      <td>335080</td>\n",
       "      <td>[id4649323|Елена], фото 1 из Капеллы- концерт ...</td>\n",
       "      <td>NaN</td>\n",
       "      <td>1</td>\n",
       "      <td>NaN</td>\n",
       "      <td>reply</td>\n",
       "      <td>NaN</td>\n",
       "      <td>335054.0</td>\n",
       "      <td>335065</td>\n",
       "    </tr>\n",
       "    <tr>\n",
       "      <th>3708</th>\n",
       "      <td>2024-03-18 04:54:07</td>\n",
       "      <td>333025</td>\n",
       "      <td>[id2983567|Андрей], законодательство плохо зна...</td>\n",
       "      <td>NaN</td>\n",
       "      <td>0</td>\n",
       "      <td>NaN</td>\n",
       "      <td>reply</td>\n",
       "      <td>NaN</td>\n",
       "      <td>332749.0</td>\n",
       "      <td>332759</td>\n",
       "    </tr>\n",
       "    <tr>\n",
       "      <th>1152</th>\n",
       "      <td>2024-04-03 09:44:35</td>\n",
       "      <td>336512</td>\n",
       "      <td>[id2909910|Денис], Вам самим не смешно? Я? Опа...</td>\n",
       "      <td>NaN</td>\n",
       "      <td>1</td>\n",
       "      <td>NaN</td>\n",
       "      <td>reply</td>\n",
       "      <td>NaN</td>\n",
       "      <td>335728.0</td>\n",
       "      <td>335935</td>\n",
       "    </tr>\n",
       "    <tr>\n",
       "      <th>5276</th>\n",
       "      <td>2024-02-28 10:07:52</td>\n",
       "      <td>330929</td>\n",
       "      <td>👏🏻Молодцы👏🏻</td>\n",
       "      <td>NaN</td>\n",
       "      <td>3</td>\n",
       "      <td>NaN</td>\n",
       "      <td>comment</td>\n",
       "      <td>NaN</td>\n",
       "      <td>330906.0</td>\n",
       "      <td>None</td>\n",
       "    </tr>\n",
       "    <tr>\n",
       "      <th>2566</th>\n",
       "      <td>2024-03-22 17:46:54</td>\n",
       "      <td>334024</td>\n",
       "      <td>Полный запрет.</td>\n",
       "      <td>NaN</td>\n",
       "      <td>10</td>\n",
       "      <td>NaN</td>\n",
       "      <td>comment</td>\n",
       "      <td>NaN</td>\n",
       "      <td>333949.0</td>\n",
       "      <td>None</td>\n",
       "    </tr>\n",
       "  </tbody>\n",
       "</table>\n",
       "</div>"
      ],
      "text/plain": [
       "                     date      id  \\\n",
       "1806  2024-03-27 19:16:55  335080   \n",
       "3708  2024-03-18 04:54:07  333025   \n",
       "1152  2024-04-03 09:44:35  336512   \n",
       "5276  2024-02-28 10:07:52  330929   \n",
       "2566  2024-03-22 17:46:54  334024   \n",
       "\n",
       "                                                   text  views.count  \\\n",
       "1806  [id4649323|Елена], фото 1 из Капеллы- концерт ...          NaN   \n",
       "3708  [id2983567|Андрей], законодательство плохо зна...          NaN   \n",
       "1152  [id2909910|Денис], Вам самим не смешно? Я? Опа...          NaN   \n",
       "5276                                        👏🏻Молодцы👏🏻          NaN   \n",
       "2566                                     Полный запрет.          NaN   \n",
       "\n",
       "      likes.count  reposts.count     type link   post_id parents_stack  \n",
       "1806            1            NaN    reply  NaN  335054.0        335065  \n",
       "3708            0            NaN    reply  NaN  332749.0        332759  \n",
       "1152            1            NaN    reply  NaN  335728.0        335935  \n",
       "5276            3            NaN  comment  NaN  330906.0          None  \n",
       "2566           10            NaN  comment  NaN  333949.0          None  "
      ]
     },
     "execution_count": 10,
     "metadata": {},
     "output_type": "execute_result"
    }
   ],
   "source": [
    "result_df.sample(5)"
   ]
  },
  {
   "cell_type": "markdown",
   "metadata": {},
   "source": [
    "## Запуск парсера на несколько групп одновременно "
   ]
  },
  {
   "cell_type": "code",
   "execution_count": 3,
   "metadata": {},
   "outputs": [
    {
     "name": "stdout",
     "output_type": "stream",
     "text": [
      "2024-04-19 09:00:01\n",
      "2024-05-25 08:00:02\n",
      "2024-05-20 18:44:00\n",
      "2024-05-15 21:20:53\n",
      "2024-05-10 20:00:01\n",
      "2024-05-06 16:00:02\n",
      "2024-05-02 06:00:00\n",
      "2024-04-27 14:00:01\n",
      "2024-04-23 16:00:00\n",
      "2024-04-19 09:47:16\n",
      "2024-04-14 23:00:00\n",
      "2024-04-10 11:00:01\n",
      "2024-04-05 14:30:00\n",
      "2024-04-01 10:47:21\n",
      "2024-03-28 11:00:02\n",
      "2024-03-24 16:30:00\n",
      "2024-03-21 19:30:00\n",
      "2024-03-17 17:00:02\n",
      "2024-03-13 08:00:02\n",
      "2024-03-08 09:00:06\n",
      "2024-03-04 09:00:02\n",
      "2024-02-28 16:00:03\n",
      "2024-02-23 18:05:52\n",
      "2024-02-18 17:03:48\n",
      "2024-02-13 19:34:50\n",
      "2024-02-08 17:00:02\n",
      "2024-02-04 02:00:00\n",
      "2024-01-30 09:55:22\n",
      "2024-01-25 22:00:00\n",
      "2024-01-21 16:26:23\n",
      "2024-01-17 14:00:02\n",
      "2024-01-13 04:00:00\n",
      "2024-01-08 10:45:01\n",
      "2024-01-03 09:00:01\n",
      "2023-12-30 04:00:00\n",
      "2023-12-25 04:00:00\n",
      "2023-12-20 23:30:00\n",
      "2023-12-16 10:00:01\n",
      "2023-12-12 12:00:03\n",
      "2023-12-07 19:30:00\n",
      "2023-12-04 10:16:56\n",
      "2023-11-29 21:15:00\n",
      "2023-11-26 19:00:03\n",
      "2023-11-22 13:44:15\n",
      "2023-11-17 19:30:12\n",
      "2023-11-13 10:00:02\n",
      "2023-11-08 18:00:03\n",
      "2023-11-04 06:00:00\n",
      "2023-10-30 20:28:01\n",
      "2023-10-26 04:00:00\n",
      "2023-10-21 06:00:00\n",
      "2023-10-16 06:00:00\n",
      "2023-10-11 06:00:00\n",
      "2023-10-05 20:00:00\n",
      "2023-10-01 10:00:01\n",
      "2023-09-26 21:57:48\n",
      "2023-09-22 08:00:01\n",
      "2023-09-17 15:10:13\n",
      "2023-09-12 18:20:42\n",
      "2023-09-08 08:00:01\n",
      "2023-09-03 09:50:00\n",
      "2023-08-29 21:20:49\n",
      "2023-08-25 15:00:01\n",
      "2023-08-21 10:57:27\n",
      "2023-08-16 08:00:00\n",
      "2023-08-11 09:00:01\n",
      "2023-08-06 08:00:01\n",
      "2023-08-01 13:00:01\n",
      "2023-07-27 20:00:01\n",
      "2023-07-23 11:35:44\n",
      "2023-07-19 06:00:00\n",
      "2023-07-15 10:00:01\n",
      "2023-07-11 12:00:01\n",
      "2023-07-07 19:00:01\n",
      "2023-07-03 09:00:01\n",
      "2023-06-28 07:13:18\n",
      "2023-06-24 12:00:02\n",
      "2023-06-20 12:33:17\n",
      "2023-06-15 21:19:26\n",
      "2023-06-11 04:00:00\n",
      "2023-06-06 16:29:03\n",
      "2023-06-02 15:00:02\n",
      "2023-05-29 02:00:00\n",
      "2023-05-24 21:16:57\n",
      "2023-05-19 17:15:00\n",
      "2023-05-15 02:00:00\n",
      "2023-05-09 23:08:20\n",
      "2023-05-05 16:00:04\n",
      "2023-05-01 11:45:22\n",
      "2023-04-27 04:00:00\n",
      "2023-04-22 02:00:00\n",
      "2023-04-17 09:30:00\n",
      "2023-04-12 17:49:48\n",
      "2023-04-08 11:00:01\n",
      "2023-04-03 17:36:55\n",
      "2023-03-30 06:00:00\n",
      "2023-03-25 11:39:17\n",
      "2023-03-20 15:00:01\n",
      "2023-03-15 17:00:01\n",
      "2023-03-10 20:03:01\n",
      "2023-03-05 13:00:01\n",
      "2023-02-28 22:00:00\n",
      "2023-02-24 14:00:02\n",
      "2023-02-19 22:00:01\n",
      "2023-02-14 18:00:02\n",
      "2023-02-10 08:00:02\n",
      "2023-02-05 17:00:02\n",
      "2023-02-01 02:00:00\n",
      "2023-01-27 11:23:00\n",
      "2023-01-22 19:00:00\n",
      "2023-01-18 17:00:16\n",
      "2023-01-14 08:00:02\n",
      "2023-01-09 18:00:02\n",
      "2023-01-05 14:00:01\n",
      "2023-01-01 01:09:33\n",
      "2022-12-27 14:49:39\n",
      "posts downloaded\n"
     ]
    },
    {
     "name": "stderr",
     "output_type": "stream",
     "text": [
      " 45%|████▌     | 4621/10250 [1:59:16<2:25:17,  1.55s/it] \n"
     ]
    },
    {
     "ename": "KeyboardInterrupt",
     "evalue": "",
     "output_type": "error",
     "traceback": [
      "\u001b[0;31m---------------------------------------------------------------------------\u001b[0m",
      "\u001b[0;31mKeyboardInterrupt\u001b[0m                         Traceback (most recent call last)",
      "Cell \u001b[0;32mIn[3], line 5\u001b[0m\n\u001b[1;32m      3\u001b[0m \u001b[38;5;28;01mfor\u001b[39;00m domain \u001b[38;5;129;01min\u001b[39;00m domain:\n\u001b[1;32m      4\u001b[0m     \u001b[38;5;28;01mtry\u001b[39;00m:\n\u001b[0;32m----> 5\u001b[0m         result_df \u001b[38;5;241m=\u001b[39m \u001b[43mVKParser\u001b[49m\u001b[43m(\u001b[49m\u001b[43m)\u001b[49m\u001b[38;5;241;43m.\u001b[39;49m\u001b[43mrun_parser\u001b[49m\u001b[43m(\u001b[49m\u001b[43mdomain\u001b[49m\u001b[43m,\u001b[49m\u001b[43m \u001b[49m\u001b[43mtoken\u001b[49m\u001b[43m,\u001b[49m\u001b[43m \u001b[49m\u001b[43mstep\u001b[49m\u001b[38;5;241;43m=\u001b[39;49m\u001b[38;5;241;43m100\u001b[39;49m\u001b[43m,\u001b[49m\u001b[43m \u001b[49m\u001b[43mcutoff_date\u001b[49m\u001b[38;5;241;43m=\u001b[39;49m\u001b[38;5;124;43m'\u001b[39;49m\u001b[38;5;124;43m2023-01-01\u001b[39;49m\u001b[38;5;124;43m'\u001b[39;49m\u001b[43m)\u001b[49m \u001b[38;5;66;03m# парсинг постов и комментариев в один датафрейм\u001b[39;00m\n\u001b[1;32m      6\u001b[0m         result_df\u001b[38;5;241m.\u001b[39mto_csv(\u001b[38;5;124mf\u001b[39m\u001b[38;5;124m'\u001b[39m\u001b[38;5;124m/Users/sashamorozov/Documents/Text_НИРМА/data_2/\u001b[39m\u001b[38;5;132;01m{\u001b[39;00mdomain\u001b[38;5;132;01m}\u001b[39;00m\u001b[38;5;124m.csv\u001b[39m\u001b[38;5;124m'\u001b[39m, index\u001b[38;5;241m=\u001b[39m\u001b[38;5;28;01mFalse\u001b[39;00m) \u001b[38;5;66;03m# сохранение результата в файл csv\u001b[39;00m\n\u001b[1;32m      7\u001b[0m         \u001b[38;5;28mprint\u001b[39m(\u001b[38;5;124mf\u001b[39m\u001b[38;5;124m'\u001b[39m\u001b[38;5;124mDone for \u001b[39m\u001b[38;5;132;01m{\u001b[39;00mdomain\u001b[38;5;132;01m}\u001b[39;00m\u001b[38;5;124m!\u001b[39m\u001b[38;5;124m'\u001b[39m)\n",
      "File \u001b[0;32m~/Documents/Code/lib_sloyka/sloyka/sloyka/src/data_getter.py:392\u001b[0m, in \u001b[0;36mVKParser.run_parser\u001b[0;34m(self, domain, access_token, step, cutoff_date, number_of_messages)\u001b[0m\n\u001b[1;32m    389\u001b[0m df_posts \u001b[38;5;241m=\u001b[39m \u001b[38;5;28mself\u001b[39m\u001b[38;5;241m.\u001b[39mrun_posts(owner_id, access_token, step, cutoff_date, number_of_messages)\n\u001b[1;32m    390\u001b[0m post_ids \u001b[38;5;241m=\u001b[39m df_posts[\u001b[38;5;124m'\u001b[39m\u001b[38;5;124mid\u001b[39m\u001b[38;5;124m'\u001b[39m]\u001b[38;5;241m.\u001b[39mtolist()\n\u001b[0;32m--> 392\u001b[0m df_comments \u001b[38;5;241m=\u001b[39m \u001b[38;5;28;43mself\u001b[39;49m\u001b[38;5;241;43m.\u001b[39;49m\u001b[43mrun_comments\u001b[49m\u001b[43m(\u001b[49m\u001b[43mowner_id\u001b[49m\u001b[43m,\u001b[49m\u001b[43m \u001b[49m\u001b[43mpost_ids\u001b[49m\u001b[43m,\u001b[49m\u001b[43m \u001b[49m\u001b[43maccess_token\u001b[49m\u001b[43m)\u001b[49m\n\u001b[1;32m    393\u001b[0m df_comments\u001b[38;5;241m.\u001b[39mloc[df_comments[\u001b[38;5;124m'\u001b[39m\u001b[38;5;124mparents_stack\u001b[39m\u001b[38;5;124m'\u001b[39m]\u001b[38;5;241m.\u001b[39mapply(\u001b[38;5;28;01mlambda\u001b[39;00m x: \u001b[38;5;28mlen\u001b[39m(x) \u001b[38;5;241m>\u001b[39m \u001b[38;5;241m0\u001b[39m), \u001b[38;5;124m'\u001b[39m\u001b[38;5;124mtype\u001b[39m\u001b[38;5;124m'\u001b[39m] \u001b[38;5;241m=\u001b[39m \u001b[38;5;124m'\u001b[39m\u001b[38;5;124mreply\u001b[39m\u001b[38;5;124m'\u001b[39m\n\u001b[1;32m    394\u001b[0m \u001b[38;5;28;01mfor\u001b[39;00m i \u001b[38;5;129;01min\u001b[39;00m \u001b[38;5;28mrange\u001b[39m(\u001b[38;5;28mlen\u001b[39m(df_comments)):\n",
      "File \u001b[0;32m~/Documents/Code/lib_sloyka/sloyka/sloyka/src/data_getter.py:369\u001b[0m, in \u001b[0;36mVKParser.run_comments\u001b[0;34m(self, domain, post_ids, access_token)\u001b[0m\n\u001b[1;32m    367\u001b[0m all_comments \u001b[38;5;241m=\u001b[39m []\n\u001b[1;32m    368\u001b[0m \u001b[38;5;28;01mfor\u001b[39;00m post_id \u001b[38;5;129;01min\u001b[39;00m tqdm(post_ids):\n\u001b[0;32m--> 369\u001b[0m     comments \u001b[38;5;241m=\u001b[39m \u001b[38;5;28;43mself\u001b[39;49m\u001b[38;5;241;43m.\u001b[39;49m\u001b[43mget_comments\u001b[49m\u001b[43m(\u001b[49m\u001b[43mowner_id\u001b[49m\u001b[43m,\u001b[49m\u001b[43m \u001b[49m\u001b[43mpost_id\u001b[49m\u001b[43m,\u001b[49m\u001b[43m \u001b[49m\u001b[43maccess_token\u001b[49m\u001b[43m)\u001b[49m\n\u001b[1;32m    370\u001b[0m     all_comments\u001b[38;5;241m.\u001b[39mextend(comments)\n\u001b[1;32m    371\u001b[0m df \u001b[38;5;241m=\u001b[39m \u001b[38;5;28mself\u001b[39m\u001b[38;5;241m.\u001b[39mcomments_to_dataframe(all_comments)\n",
      "File \u001b[0;32m~/Documents/Code/lib_sloyka/sloyka/sloyka/src/data_getter.py:277\u001b[0m, in \u001b[0;36mVKParser.get_comments\u001b[0;34m(self, owner_id, post_id, access_token)\u001b[0m\n\u001b[1;32m    275\u001b[0m response \u001b[38;5;241m=\u001b[39m requests\u001b[38;5;241m.\u001b[39mget(\u001b[38;5;124m'\u001b[39m\u001b[38;5;124mhttps://api.vk.com/method/wall.getComments\u001b[39m\u001b[38;5;124m'\u001b[39m, params\u001b[38;5;241m=\u001b[39mparams)\n\u001b[1;32m    276\u001b[0m \u001b[38;5;66;03m# print(response.json().keys())\u001b[39;00m\n\u001b[0;32m--> 277\u001b[0m \u001b[43mtime\u001b[49m\u001b[38;5;241;43m.\u001b[39;49m\u001b[43msleep\u001b[49m\u001b[43m(\u001b[49m\u001b[43mrandom\u001b[49m\u001b[38;5;241;43m.\u001b[39;49m\u001b[43mrandom\u001b[49m\u001b[43m(\u001b[49m\u001b[43m)\u001b[49m\u001b[43m)\u001b[49m\n\u001b[1;32m    278\u001b[0m data \u001b[38;5;241m=\u001b[39m response\u001b[38;5;241m.\u001b[39mjson()\n\u001b[1;32m    280\u001b[0m \u001b[38;5;28;01mif\u001b[39;00m \u001b[38;5;124m'\u001b[39m\u001b[38;5;124mresponse\u001b[39m\u001b[38;5;124m'\u001b[39m \u001b[38;5;129;01min\u001b[39;00m data:\n",
      "\u001b[0;31mKeyboardInterrupt\u001b[0m: "
     ]
    }
   ],
   "source": [
    "domain = ['my_krd', 'krd_23', 'kraskrd', 'typical_krd'] # домены групп в '...'  \n",
    "token = '6c44eaff6c44eaff6c44eaffca6f52ec1466c446c44eaff09769584de7acabcd2ac1d26' # сервисный ключ от приложения ВК\n",
    "for domain in domain:\n",
    "    try:\n",
    "        result_df = VKParser().run_parser(domain, token, step=100, cutoff_date='2023-01-01') # парсинг постов и комментариев в один датафрейм\n",
    "        result_df.to_csv(f'/Users/sashamorozov/Documents/Text_НИРМА/data_2/{domain}.csv', index=False) # сохранение результата в файл csv\n",
    "        print(f'Done for {domain}!')\n",
    "    except Exception as e:\n",
    "        print(f'Error processing {domain}: {e}. Moving to the next domain.')\n",
    "        continue"
   ]
  }
 ],
 "metadata": {
  "kernelspec": {
   "display_name": "nirmapy",
   "language": "python",
   "name": "python3"
  },
  "language_info": {
   "codemirror_mode": {
    "name": "ipython",
    "version": 3
   },
   "file_extension": ".py",
   "mimetype": "text/x-python",
   "name": "python",
   "nbconvert_exporter": "python",
   "pygments_lexer": "ipython3",
   "version": "3.10.13"
  }
 },
 "nbformat": 4,
 "nbformat_minor": 2
}
