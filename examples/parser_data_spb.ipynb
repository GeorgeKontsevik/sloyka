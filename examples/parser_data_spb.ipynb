{
 "cells": [
  {
   "cell_type": "markdown",
   "metadata": {},
   "source": [
    "# Парсинг постов и комментариев с групп ВК"
   ]
  },
  {
   "cell_type": "markdown",
   "metadata": {},
   "source": [
    "## Step by step"
   ]
  },
  {
   "cell_type": "markdown",
   "metadata": {},
   "source": [
    "Импорт необходимых модулей и VKParser"
   ]
  },
  {
   "cell_type": "code",
   "execution_count": 1,
   "metadata": {},
   "outputs": [
    {
     "ename": "SyntaxError",
     "evalue": "invalid syntax (__init__.py, line 13)",
     "output_type": "error",
     "traceback": [
      "Traceback \u001b[0;36m(most recent call last)\u001b[0m:\n",
      "\u001b[0m  File \u001b[1;32m~/Documents/Code/lib_sloyka/sloyka/.venv/lib/python3.10/site-packages/IPython/core/interactiveshell.py:3553\u001b[0m in \u001b[1;35mrun_code\u001b[0m\n    exec(code_obj, self.user_global_ns, self.user_ns)\u001b[0m\n",
      "\u001b[0;36m  Cell \u001b[0;32mIn[1], line 11\u001b[0;36m\n\u001b[0;31m    from sloyka.src.data_getter import VKParser\u001b[0;36m\n",
      "\u001b[0;36m  File \u001b[0;32m~/Documents/Code/lib_sloyka/sloyka/sloyka/__init__.py:13\u001b[0;36m\u001b[0m\n\u001b[0;31m    <<<<<<< HEAD\u001b[0m\n\u001b[0m    ^\u001b[0m\n\u001b[0;31mSyntaxError\u001b[0m\u001b[0;31m:\u001b[0m invalid syntax\n"
     ]
    }
   ],
   "source": [
    "import warnings\n",
    "\n",
    "warnings.simplefilter(\"ignore\")\n",
    "\n",
    "import os\n",
    "import sys\n",
    "\n",
    "folder = os.getcwd().split(\"\\\\examples\")[0]\n",
    "sys.path.append(folder)\n",
    "\n",
    "from sloyka.src.data_getter import VKParser"
   ]
  },
  {
   "cell_type": "markdown",
   "metadata": {},
   "source": [
    "Ввод данных о группе, с которой будут парситься посты и комментарии:\n",
    "* domain – указание на нужную группу ВК. Идет после последнего слэша в ссылке (в примере это mytndvor 'https://vk.com/mytndvor')\n",
    "* token – ключ от приложения ВК, которое нужно создать для загрузки данных"
   ]
  },
  {
   "cell_type": "code",
   "execution_count": 13,
   "metadata": {},
   "outputs": [],
   "source": [
    "domain = 'mytndvor' # группа \"центральный район за комфортную среду обитания\"\n",
    "token = '...'"
   ]
  },
  {
   "cell_type": "code",
   "execution_count": 14,
   "metadata": {},
   "outputs": [
    {
     "data": {
      "text/plain": [
       "-129354225"
      ]
     },
     "execution_count": 14,
     "metadata": {},
     "output_type": "execute_result"
    }
   ],
   "source": [
    "VKParser.get_owner_id_by_domain(domain, access_token=token)"
   ]
  },
  {
   "cell_type": "markdown",
   "metadata": {},
   "source": [
    "Запуск парсера постов, на вход:\n",
    "* domain\n",
    "* token \n",
    "* кол-во постов, получаемых при 1 запросе\n",
    "* дата, до которой скачиваются данные в формате гггг.мм.дд."
   ]
  },
  {
   "cell_type": "code",
   "execution_count": 5,
   "metadata": {},
   "outputs": [
    {
     "name": "stdout",
     "output_type": "stream",
     "text": [
      "2024-02-17 10:30:01\n",
      "posts downloaded\n"
     ]
    }
   ],
   "source": [
    "posts_df = VKParser().run_posts(domain, token, 100, \"2024-03-01\")"
   ]
  },
  {
   "cell_type": "markdown",
   "metadata": {},
   "source": [
    "3 первых полученных поста из итогового датафрема"
   ]
  },
  {
   "cell_type": "code",
   "execution_count": 6,
   "metadata": {},
   "outputs": [
    {
     "data": {
      "text/html": [
       "<div>\n",
       "<style scoped>\n",
       "    .dataframe tbody tr th:only-of-type {\n",
       "        vertical-align: middle;\n",
       "    }\n",
       "\n",
       "    .dataframe tbody tr th {\n",
       "        vertical-align: top;\n",
       "    }\n",
       "\n",
       "    .dataframe thead th {\n",
       "        text-align: right;\n",
       "    }\n",
       "</style>\n",
       "<table border=\"1\" class=\"dataframe\">\n",
       "  <thead>\n",
       "    <tr style=\"text-align: right;\">\n",
       "      <th></th>\n",
       "      <th>date</th>\n",
       "      <th>id</th>\n",
       "      <th>text</th>\n",
       "      <th>views.count</th>\n",
       "      <th>likes.count</th>\n",
       "      <th>reposts.count</th>\n",
       "      <th>type</th>\n",
       "      <th>link</th>\n",
       "    </tr>\n",
       "  </thead>\n",
       "  <tbody>\n",
       "    <tr>\n",
       "      <th>0</th>\n",
       "      <td>2024-04-05 19:30:00</td>\n",
       "      <td>337309</td>\n",
       "      <td>В рамках муниципальной предвыборной кампании 2...</td>\n",
       "      <td>3573</td>\n",
       "      <td>68</td>\n",
       "      <td>10</td>\n",
       "      <td>post</td>\n",
       "      <td>https://vk.com/@mytndvor-programma2024|предвыб...</td>\n",
       "    </tr>\n",
       "    <tr>\n",
       "      <th>1</th>\n",
       "      <td>2024-04-05 10:30:00</td>\n",
       "      <td>337154</td>\n",
       "      <td>«300 спартанцев» для инициализации референдума...</td>\n",
       "      <td>2984</td>\n",
       "      <td>131</td>\n",
       "      <td>24</td>\n",
       "      <td>post</td>\n",
       "      <td>https://vk.com/wall-129354225_335728|провести</td>\n",
       "    </tr>\n",
       "    <tr>\n",
       "      <th>2</th>\n",
       "      <td>2024-04-04 19:30:00</td>\n",
       "      <td>337038</td>\n",
       "      <td>На Тульской улице у дома 1 заработал киоск по ...</td>\n",
       "      <td>6315</td>\n",
       "      <td>216</td>\n",
       "      <td>37</td>\n",
       "      <td>post</td>\n",
       "      <td>NaN</td>\n",
       "    </tr>\n",
       "  </tbody>\n",
       "</table>\n",
       "</div>"
      ],
      "text/plain": [
       "                 date      id  \\\n",
       "0 2024-04-05 19:30:00  337309   \n",
       "1 2024-04-05 10:30:00  337154   \n",
       "2 2024-04-04 19:30:00  337038   \n",
       "\n",
       "                                                text  views.count  \\\n",
       "0  В рамках муниципальной предвыборной кампании 2...         3573   \n",
       "1  «300 спартанцев» для инициализации референдума...         2984   \n",
       "2  На Тульской улице у дома 1 заработал киоск по ...         6315   \n",
       "\n",
       "   likes.count  reposts.count  type  \\\n",
       "0           68             10  post   \n",
       "1          131             24  post   \n",
       "2          216             37  post   \n",
       "\n",
       "                                                link  \n",
       "0  https://vk.com/@mytndvor-programma2024|предвыб...  \n",
       "1      https://vk.com/wall-129354225_335728|провести  \n",
       "2                                                NaN  "
      ]
     },
     "execution_count": 6,
     "metadata": {},
     "output_type": "execute_result"
    }
   ],
   "source": [
    "posts_df.head(3)"
   ]
  },
  {
   "cell_type": "markdown",
   "metadata": {},
   "source": [
    "Запуск парсера комментариев, на вход:\n",
    "* domain\n",
    "* id постов из прошлого датафрейма\n",
    "* token"
   ]
  },
  {
   "cell_type": "code",
   "execution_count": 7,
   "metadata": {},
   "outputs": [
    {
     "name": "stderr",
     "output_type": "stream",
     "text": [
      "100%|██████████| 100/100 [10:35<00:00,  6.35s/it]"
     ]
    },
    {
     "name": "stdout",
     "output_type": "stream",
     "text": [
      "comments downloaded\n"
     ]
    },
    {
     "name": "stderr",
     "output_type": "stream",
     "text": [
      "\n"
     ]
    }
   ],
   "source": [
    "post_ids = posts_df[\"id\"].to_list()\n",
    "comments_df = VKParser().run_comments(domain, post_ids=post_ids, access_token=token)"
   ]
  },
  {
   "cell_type": "markdown",
   "metadata": {},
   "source": [
    "3 первых полученных комментария из итогового датафрема"
   ]
  },
  {
   "cell_type": "code",
   "execution_count": 8,
   "metadata": {},
   "outputs": [
    {
     "data": {
      "text/html": [
       "<div>\n",
       "<style scoped>\n",
       "    .dataframe tbody tr th:only-of-type {\n",
       "        vertical-align: middle;\n",
       "    }\n",
       "\n",
       "    .dataframe tbody tr th {\n",
       "        vertical-align: top;\n",
       "    }\n",
       "\n",
       "    .dataframe thead th {\n",
       "        text-align: right;\n",
       "    }\n",
       "</style>\n",
       "<table border=\"1\" class=\"dataframe\">\n",
       "  <thead>\n",
       "    <tr style=\"text-align: right;\">\n",
       "      <th></th>\n",
       "      <th>id</th>\n",
       "      <th>date</th>\n",
       "      <th>text</th>\n",
       "      <th>post_id</th>\n",
       "      <th>parents_stack</th>\n",
       "      <th>likes.count</th>\n",
       "      <th>type</th>\n",
       "    </tr>\n",
       "  </thead>\n",
       "  <tbody>\n",
       "    <tr>\n",
       "      <th>0</th>\n",
       "      <td>337312</td>\n",
       "      <td>2024-04-05 16:41:40</td>\n",
       "      <td>Замечательно, что есть неравнодушные люди, кот...</td>\n",
       "      <td>337309</td>\n",
       "      <td>[]</td>\n",
       "      <td>12</td>\n",
       "      <td>comment</td>\n",
       "    </tr>\n",
       "    <tr>\n",
       "      <th>1</th>\n",
       "      <td>337334</td>\n",
       "      <td>2024-04-05 18:35:48</td>\n",
       "      <td>[id7374803|Любовь], помогать словом , это прек...</td>\n",
       "      <td>337309</td>\n",
       "      <td>[337312]</td>\n",
       "      <td>1</td>\n",
       "      <td>comment</td>\n",
       "    </tr>\n",
       "    <tr>\n",
       "      <th>2</th>\n",
       "      <td>337335</td>\n",
       "      <td>2024-04-05 18:38:54</td>\n",
       "      <td>[id342126|Ирина], иногда людям достаточно подс...</td>\n",
       "      <td>337309</td>\n",
       "      <td>[337312]</td>\n",
       "      <td>5</td>\n",
       "      <td>comment</td>\n",
       "    </tr>\n",
       "  </tbody>\n",
       "</table>\n",
       "</div>"
      ],
      "text/plain": [
       "       id                 date  \\\n",
       "0  337312  2024-04-05 16:41:40   \n",
       "1  337334  2024-04-05 18:35:48   \n",
       "2  337335  2024-04-05 18:38:54   \n",
       "\n",
       "                                                text  post_id parents_stack  \\\n",
       "0  Замечательно, что есть неравнодушные люди, кот...   337309            []   \n",
       "1  [id7374803|Любовь], помогать словом , это прек...   337309      [337312]   \n",
       "2  [id342126|Ирина], иногда людям достаточно подс...   337309      [337312]   \n",
       "\n",
       "   likes.count     type  \n",
       "0           12  comment  \n",
       "1            1  comment  \n",
       "2            5  comment  "
      ]
     },
     "execution_count": 8,
     "metadata": {},
     "output_type": "execute_result"
    }
   ],
   "source": [
    "comments_df.head(3)"
   ]
  },
  {
   "cell_type": "markdown",
   "metadata": {},
   "source": [
    "Запуск парсера постов и комментариев с объединением в один датафрейм, на вход:\n",
    "* domain\n",
    "* token \n",
    "* кол-во постов/комментариев, получаемых при 1 запросе\n",
    "* дата, до которой скачиваются данные в формате гггг.мм.дд."
   ]
  },
  {
   "cell_type": "code",
   "execution_count": 9,
   "metadata": {},
   "outputs": [
    {
     "name": "stdout",
     "output_type": "stream",
     "text": [
      "2024-02-17 10:30:01\n",
      "posts downloaded\n"
     ]
    },
    {
     "name": "stderr",
     "output_type": "stream",
     "text": [
      "100%|██████████| 100/100 [09:55<00:00,  5.96s/it]\n"
     ]
    },
    {
     "name": "stdout",
     "output_type": "stream",
     "text": [
      "comments downloaded\n"
     ]
    }
   ],
   "source": [
    "result_df = VKParser().run_parser(domain, token, step=100, cutoff_date='2024-03-20') "
   ]
  },
  {
   "cell_type": "markdown",
   "metadata": {},
   "source": [
    "Пять случайных записей из итогового датафрейма"
   ]
  },
  {
   "cell_type": "code",
   "execution_count": 10,
   "metadata": {},
   "outputs": [
    {
     "data": {
      "text/html": [
       "<div>\n",
       "<style scoped>\n",
       "    .dataframe tbody tr th:only-of-type {\n",
       "        vertical-align: middle;\n",
       "    }\n",
       "\n",
       "    .dataframe tbody tr th {\n",
       "        vertical-align: top;\n",
       "    }\n",
       "\n",
       "    .dataframe thead th {\n",
       "        text-align: right;\n",
       "    }\n",
       "</style>\n",
       "<table border=\"1\" class=\"dataframe\">\n",
       "  <thead>\n",
       "    <tr style=\"text-align: right;\">\n",
       "      <th></th>\n",
       "      <th>date</th>\n",
       "      <th>id</th>\n",
       "      <th>text</th>\n",
       "      <th>views.count</th>\n",
       "      <th>likes.count</th>\n",
       "      <th>reposts.count</th>\n",
       "      <th>type</th>\n",
       "      <th>link</th>\n",
       "      <th>post_id</th>\n",
       "      <th>parents_stack</th>\n",
       "    </tr>\n",
       "  </thead>\n",
       "  <tbody>\n",
       "    <tr>\n",
       "      <th>1806</th>\n",
       "      <td>2024-03-27 19:16:55</td>\n",
       "      <td>335080</td>\n",
       "      <td>[id4649323|Елена], фото 1 из Капеллы- концерт ...</td>\n",
       "      <td>NaN</td>\n",
       "      <td>1</td>\n",
       "      <td>NaN</td>\n",
       "      <td>reply</td>\n",
       "      <td>NaN</td>\n",
       "      <td>335054.0</td>\n",
       "      <td>335065</td>\n",
       "    </tr>\n",
       "    <tr>\n",
       "      <th>3708</th>\n",
       "      <td>2024-03-18 04:54:07</td>\n",
       "      <td>333025</td>\n",
       "      <td>[id2983567|Андрей], законодательство плохо зна...</td>\n",
       "      <td>NaN</td>\n",
       "      <td>0</td>\n",
       "      <td>NaN</td>\n",
       "      <td>reply</td>\n",
       "      <td>NaN</td>\n",
       "      <td>332749.0</td>\n",
       "      <td>332759</td>\n",
       "    </tr>\n",
       "    <tr>\n",
       "      <th>1152</th>\n",
       "      <td>2024-04-03 09:44:35</td>\n",
       "      <td>336512</td>\n",
       "      <td>[id2909910|Денис], Вам самим не смешно? Я? Опа...</td>\n",
       "      <td>NaN</td>\n",
       "      <td>1</td>\n",
       "      <td>NaN</td>\n",
       "      <td>reply</td>\n",
       "      <td>NaN</td>\n",
       "      <td>335728.0</td>\n",
       "      <td>335935</td>\n",
       "    </tr>\n",
       "    <tr>\n",
       "      <th>5276</th>\n",
       "      <td>2024-02-28 10:07:52</td>\n",
       "      <td>330929</td>\n",
       "      <td>👏🏻Молодцы👏🏻</td>\n",
       "      <td>NaN</td>\n",
       "      <td>3</td>\n",
       "      <td>NaN</td>\n",
       "      <td>comment</td>\n",
       "      <td>NaN</td>\n",
       "      <td>330906.0</td>\n",
       "      <td>None</td>\n",
       "    </tr>\n",
       "    <tr>\n",
       "      <th>2566</th>\n",
       "      <td>2024-03-22 17:46:54</td>\n",
       "      <td>334024</td>\n",
       "      <td>Полный запрет.</td>\n",
       "      <td>NaN</td>\n",
       "      <td>10</td>\n",
       "      <td>NaN</td>\n",
       "      <td>comment</td>\n",
       "      <td>NaN</td>\n",
       "      <td>333949.0</td>\n",
       "      <td>None</td>\n",
       "    </tr>\n",
       "  </tbody>\n",
       "</table>\n",
       "</div>"
      ],
      "text/plain": [
       "                     date      id  \\\n",
       "1806  2024-03-27 19:16:55  335080   \n",
       "3708  2024-03-18 04:54:07  333025   \n",
       "1152  2024-04-03 09:44:35  336512   \n",
       "5276  2024-02-28 10:07:52  330929   \n",
       "2566  2024-03-22 17:46:54  334024   \n",
       "\n",
       "                                                   text  views.count  \\\n",
       "1806  [id4649323|Елена], фото 1 из Капеллы- концерт ...          NaN   \n",
       "3708  [id2983567|Андрей], законодательство плохо зна...          NaN   \n",
       "1152  [id2909910|Денис], Вам самим не смешно? Я? Опа...          NaN   \n",
       "5276                                        👏🏻Молодцы👏🏻          NaN   \n",
       "2566                                     Полный запрет.          NaN   \n",
       "\n",
       "      likes.count  reposts.count     type link   post_id parents_stack  \n",
       "1806            1            NaN    reply  NaN  335054.0        335065  \n",
       "3708            0            NaN    reply  NaN  332749.0        332759  \n",
       "1152            1            NaN    reply  NaN  335728.0        335935  \n",
       "5276            3            NaN  comment  NaN  330906.0          None  \n",
       "2566           10            NaN  comment  NaN  333949.0          None  "
      ]
     },
     "execution_count": 10,
     "metadata": {},
     "output_type": "execute_result"
    }
   ],
   "source": [
    "result_df.sample(5)"
   ]
  },
  {
   "cell_type": "markdown",
   "metadata": {},
   "source": [
    "## Запуск парсера на несколько групп одновременно "
   ]
  },
  {
   "cell_type": "code",
   "execution_count": 1,
   "metadata": {},
   "outputs": [
    {
     "name": "stdout",
     "output_type": "stream",
     "text": [
      "Error processing sochigov: name 'VKParser' is not defined. Moving to the next domain.\n",
      "Error processing mcu_sochi: name 'VKParser' is not defined. Moving to the next domain.\n",
      "Error processing sochi_transport_i_dorogi: name 'VKParser' is not defined. Moving to the next domain.\n",
      "Error processing dtpsochi: name 'VKParser' is not defined. Moving to the next domain.\n",
      "Error processing sochionline: name 'VKParser' is not defined. Moving to the next domain.\n",
      "Error processing sochi_official: name 'VKParser' is not defined. Moving to the next domain.\n",
      "Error processing krdru: name 'VKParser' is not defined. Moving to the next domain.\n",
      "Error processing mcu_krdru: name 'VKParser' is not defined. Moving to the next domain.\n",
      "Error processing krasnodarelektroseti: name 'VKParser' is not defined. Moving to the next domain.\n",
      "Error processing dghkrd: name 'VKParser' is not defined. Moving to the next domain.\n",
      "Error processing my_krd: name 'VKParser' is not defined. Moving to the next domain.\n",
      "Error processing krd_23: name 'VKParser' is not defined. Moving to the next domain.\n",
      "Error processing kraskrd: name 'VKParser' is not defined. Moving to the next domain.\n",
      "Error processing typical_krd: name 'VKParser' is not defined. Moving to the next domain.\n"
     ]
    }
   ],
   "source": [
    "domain = ['sochigov', 'mcu_sochi', 'sochi_transport_i_dorogi', 'dtpsochi' , 'sochionline', 'sochi_official', 'krdru', 'mcu_krdru', 'krasnodarelektroseti', 'dghkrd', 'my_krd', 'krd_23', 'kraskrd', 'typical_krd'] # домены групп в '...'  \n",
    "token = '6c44eaff6c44eaff6c44eaffca6f52ec1466c446c44eaff09769584de7acabcd2ac1d26' # сервисный ключ от приложения ВК\n",
    "for domain in domain:\n",
    "    try:\n",
    "        result_df = VKParser().run_parser(domain, token, step=100, cutoff_date='2023-01-01') # парсинг постов и комментариев в один датафрейм\n",
    "        result_df.to_csv(f'/Users/sashamorozov/Documents/Text_НИРМА/data_2/{domain}.csv', index=False) # сохранение результата в файл csv\n",
    "        print(f'Done for {domain}!')\n",
    "    except Exception as e:\n",
    "        print(f'Error processing {domain}: {e}. Moving to the next domain.')\n",
    "        continue"
   ]
  }
 ],
 "metadata": {
  "kernelspec": {
   "display_name": "nirmapy",
   "language": "python",
   "name": "python3"
  },
  "language_info": {
   "codemirror_mode": {
    "name": "ipython",
    "version": 3
   },
   "file_extension": ".py",
   "mimetype": "text/x-python",
   "name": "python",
   "nbconvert_exporter": "python",
   "pygments_lexer": "ipython3",
   "version": "3.10.13"
  }
 },
 "nbformat": 4,
 "nbformat_minor": 2
}
