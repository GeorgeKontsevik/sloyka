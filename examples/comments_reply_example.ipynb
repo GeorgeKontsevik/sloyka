{
 "cells": [
  {
   "cell_type": "code",
   "execution_count": 1,
   "metadata": {},
   "outputs": [],
   "source": [
    "import requests\n",
    "from datetime import datetime\n",
    "import pandas as pd\n",
    "\n",
    "class CommentsReply:\n",
    "    def get_comments(self,owner_id, post_id, access_token):\n",
    "        params = {\n",
    "            'owner_id': owner_id,\n",
    "            'post_id': post_id,\n",
    "            'access_token': access_token,\n",
    "            'v': '5.131',\n",
    "            'extended': 1,\n",
    "            'count': 100,\n",
    "            'need_likes': 1\n",
    "        }\n",
    "\n",
    "        comments = []\n",
    "\n",
    "        response = requests.get('https://api.vk.com/method/wall.getComments', params=params)\n",
    "        data = response.json()\n",
    "\n",
    "        if 'response' in data:\n",
    "            for item in data['response']['items']:\n",
    "                item['date'] = datetime.utcfromtimestamp(item['date']).strftime('%Y-%m-%d %H:%M:%S')\n",
    "                if 'likes' in item:\n",
    "                    item['likes_count'] = item['likes']['count']\n",
    "                comments.append(item)\n",
    "                if item['thread']['count'] > 0:\n",
    "                    params['comment_id'] = item['id']\n",
    "                    subcomments = self.get_subcomments(owner_id, post_id, access_token, params)\n",
    "                    comments.extend(subcomments)\n",
    "\n",
    "        return comments\n",
    "\n",
    "    def get_subcomments(self, owner_id, post_id, access_token, params):\n",
    "        subcomments = []\n",
    "\n",
    "        response = requests.get('https://api.vk.com/method/wall.getComments', params=params)\n",
    "        data = response.json()\n",
    "\n",
    "        if 'response' in data:\n",
    "            for item in data['response']['items']:\n",
    "                item['date'] = datetime.utcfromtimestamp(item['date']).strftime('%Y-%m-%d %H:%M:%S')\n",
    "                if 'likes' in item:\n",
    "                    item['likes_count'] = item['likes']['count']\n",
    "                subcomments.append(item)\n",
    "\n",
    "        return subcomments\n",
    "\n",
    "    def comments_to_dataframe(self, comments):\n",
    "        df = pd.DataFrame(comments)\n",
    "        df = df[['id', 'date', 'text', 'post_id', 'parents_stack', 'likes_count']]\n",
    "        return df"
   ]
  },
  {
   "cell_type": "code",
   "execution_count": 2,
   "metadata": {},
   "outputs": [
    {
     "name": "stdout",
     "output_type": "stream",
     "text": [
      "       id            date            text  post_id parents_stack  likes_count\n",
      "0  332330  2024-03-13 ...  Какая красо...   332329            []           47\n",
      "1  332371  2024-03-14 ...  [id5588054|...   332329      [332330]            2\n",
      "2  332331  2024-03-13 ...  Всю зиму жд...   332329            []           26\n",
      "3  332332  2024-03-13 ...  Очень краси...   332329            []           12\n",
      "4  332333  2024-03-13 ...  Великолепно...   332329            []           22\n"
     ]
    }
   ],
   "source": [
    "\n",
    "comments_parser = CommentsReply()\n",
    "\n",
    "owner_id='-129354225',\n",
    "post_id='332329'\n",
    "token='...'\n",
    "\n",
    "comments = comments_parser.get_comments(owner_id, post_id, token)\n",
    "\n",
    "df = comments_parser.comments_to_dataframe(comments)\n",
    "pd.options.display.max_colwidth = 15\n",
    "print(df.head(5))"
   ]
  }
 ],
 "metadata": {
  "kernelspec": {
   "display_name": "nirmapy",
   "language": "python",
   "name": "python3"
  },
  "language_info": {
   "codemirror_mode": {
    "name": "ipython",
    "version": 3
   },
   "file_extension": ".py",
   "mimetype": "text/x-python",
   "name": "python",
   "nbconvert_exporter": "python",
   "pygments_lexer": "ipython3",
   "version": "3.10.9"
  }
 },
 "nbformat": 4,
 "nbformat_minor": 2
}
