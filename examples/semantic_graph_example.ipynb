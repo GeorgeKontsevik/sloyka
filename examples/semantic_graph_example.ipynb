{
 "cells": [
  {
   "cell_type": "markdown",
   "metadata": {
    "id": "DpgYeOzQ-lc-"
   },
   "source": [
    "# Сборка семантического графа"
   ]
  },
  {
   "cell_type": "markdown",
   "metadata": {
    "id": "2NPjLwQ__aaj"
   },
   "source": [
    "#### Импорт библиотек"
   ]
  },
  {
   "cell_type": "code",
   "execution_count": null,
   "metadata": {
    "ExecuteTime": {
     "end_time": "2024-04-13T16:55:36.726865Z",
     "start_time": "2024-04-13T16:55:25.861082Z"
    },
    "id": "osM1J9Lc-lc_",
    "outputId": "802ae6ee-f245-4fba-9553-015b73a8aa88"
   },
   "outputs": [],
   "source": [
    "import geopandas as gpd\n",
    "import networkx as nx\n",
    "from pathlib import Path\n",
    "\n",
    "from sloyka import Semgraph\n",
    "\n",
    "package_dir = str(Path.cwd().parent)"
   ]
  },
  {
   "cell_type": "markdown",
   "metadata": {
    "id": "Pp8Nafnb_vAc"
   },
   "source": [
    "#### Инициализация класса семантического графа"
   ]
  },
  {
   "cell_type": "code",
   "execution_count": null,
   "metadata": {
    "ExecuteTime": {
     "end_time": "2024-04-13T16:55:41.577395Z",
     "start_time": "2024-04-13T16:55:39.473195Z"
    },
    "id": "zhSaUnLw-ldB",
    "outputId": "bf33a0c2-4e9a-40e9-c454-d16bdc6801c3"
   },
   "outputs": [],
   "source": [
    "sm = Semgraph()"
   ]
  },
  {
   "cell_type": "markdown",
   "metadata": {
    "id": "-oxBNT9e_6it"
   },
   "source": [
    "#### Загрузка данных\n",
    "###### Рекомендуется использовать после класса Geocoder"
   ]
  },
  {
   "cell_type": "code",
   "execution_count": 3,
   "metadata": {
    "ExecuteTime": {
     "end_time": "2024-04-13T16:55:44.269755Z",
     "start_time": "2024-04-13T16:55:44.266379Z"
    }
   },
   "outputs": [],
   "source": [
    "data_path = package_dir + \"/sloyka/sample_data/processed/\""
   ]
  },
  {
   "cell_type": "code",
   "execution_count": 4,
   "metadata": {
    "ExecuteTime": {
     "end_time": "2024-04-13T16:55:47.471940Z",
     "start_time": "2024-04-13T16:55:46.449472Z"
    },
    "id": "4Z-Ro4eN-ldB"
   },
   "outputs": [],
   "source": [
    "test_gdf  = gpd.read_file(data_path + \"-10696.geojson\")"
   ]
  },
  {
   "cell_type": "markdown",
   "metadata": {
    "id": "9BI5hYKRBYR8"
   },
   "source": [
    "#### Построение семантического графа"
   ]
  },
  {
   "cell_type": "code",
   "execution_count": 5,
   "metadata": {
    "ExecuteTime": {
     "end_time": "2024-04-13T16:56:58.579062Z",
     "start_time": "2024-04-13T16:55:50.713651Z"
    },
    "id": "FXohhdcw-ldB",
    "outputId": "602aafe8-f322-4489-eeba-caab15ab857a"
   },
   "outputs": [
    {
     "name": "stdout",
     "output_type": "stream",
     "text": [
      "Extracting keywords from post chains...\n"
     ]
    },
    {
     "name": "stderr",
     "output_type": "stream",
     "text": [
      "100%|██████████| 181/181 [00:38<00:00,  4.68it/s]\n"
     ]
    },
    {
     "name": "stdout",
     "output_type": "stream",
     "text": [
      "Extracting keywords from comment chains...\n"
     ]
    },
    {
     "name": "stderr",
     "output_type": "stream",
     "text": [
      "100%|██████████| 25/25 [00:01<00:00, 21.48it/s]\n"
     ]
    },
    {
     "name": "stdout",
     "output_type": "stream",
     "text": [
      "Extracting keywords from replies...\n"
     ]
    },
    {
     "name": "stderr",
     "output_type": "stream",
     "text": [
      "100%|██████████| 19/19 [00:01<00:00, 18.88it/s]\n"
     ]
    },
    {
     "name": "stdout",
     "output_type": "stream",
     "text": [
      "Calculating semantic closeness...\n"
     ]
    },
    {
     "name": "stderr",
     "output_type": "stream",
     "text": [
      "100%|██████████| 13861/13861 [00:17<00:00, 805.47it/s]\n"
     ]
    }
   ],
   "source": [
    "G = sm.build_graph(test_gdf[:len(test_gdf)//2],\n",
    "                   id_column='id',\n",
    "                   text_column='text',\n",
    "                   text_type_column='type',\n",
    "                   toponym_column='only_full_street_name_numbers',\n",
    "                   toponym_name_column='initial_street',\n",
    "                   toponym_type_column='Toponims',\n",
    "                   post_id_column='post_id',\n",
    "                   parents_stack_column='parents_stack',\n",
    "                   location_column='Location',\n",
    "                   geometry_column='geometry')"
   ]
  },
  {
   "cell_type": "markdown",
   "metadata": {
    "id": "WCNyNSwjBk2K"
   },
   "source": [
    "###### Получаем количество узлов графа"
   ]
  },
  {
   "cell_type": "code",
   "execution_count": null,
   "metadata": {
    "ExecuteTime": {
     "end_time": "2024-04-13T16:57:01.283476Z",
     "start_time": "2024-04-13T16:57:01.277773Z"
    },
    "id": "U8mItnyH-ldB",
    "outputId": "c0c503fc-5471-4849-d9ec-4fdccc35a6b7"
   },
   "outputs": [],
   "source": [
    "len(G.nodes)"
   ]
  },
  {
   "cell_type": "markdown",
   "metadata": {},
   "source": [
    "###### Обновляем граф"
   ]
  },
  {
   "cell_type": "code",
   "execution_count": null,
   "metadata": {
    "ExecuteTime": {
     "end_time": "2024-04-13T16:57:13.982875Z",
     "start_time": "2024-04-13T16:57:04.651491Z"
    }
   },
   "outputs": [],
   "source": [
    "G = sm.update_graph(G,\n",
    "                    test_gdf[len(test_gdf)//2:],\n",
    "                    id_column='id',\n",
    "                    text_column='text',\n",
    "                    text_type_column='type',\n",
    "                    toponym_column='only_full_street_name_numbers',\n",
    "                    toponym_name_column='initial_street',\n",
    "                    toponym_type_column='Toponims',\n",
    "                    post_id_column='post_id',\n",
    "                    parents_stack_column='parents_stack',\n",
    "                    location_column='Location',\n",
    "                    geometry_column='geometry')"
   ]
  },
  {
   "cell_type": "markdown",
   "metadata": {},
   "source": [
    "###### Проверяем что количество узлов стало больше"
   ]
  },
  {
   "cell_type": "code",
   "execution_count": null,
   "metadata": {
    "ExecuteTime": {
     "end_time": "2024-04-13T16:57:19.698788Z",
     "start_time": "2024-04-13T16:57:19.694893Z"
    }
   },
   "outputs": [],
   "source": [
    "len(G.nodes)"
   ]
  },
  {
   "cell_type": "markdown",
   "metadata": {},
   "source": [
    "###### Смотрим атрибуты узла с номером дома в id узла"
   ]
  },
  {
   "cell_type": "code",
   "execution_count": null,
   "metadata": {
    "ExecuteTime": {
     "end_time": "2024-04-13T16:57:26.364341Z",
     "start_time": "2024-04-13T16:57:26.359456Z"
    }
   },
   "outputs": [],
   "source": [
    "G.nodes['набережная канала Грибоедова 108']"
   ]
  },
  {
   "cell_type": "markdown",
   "metadata": {},
   "source": [
    "###### Добавляем в атрибуты узлов со зданиями атрибут с текстом, из которого был извлечён топоним"
   ]
  },
  {
   "cell_type": "code",
   "execution_count": 10,
   "metadata": {
    "ExecuteTime": {
     "end_time": "2024-04-13T16:57:31.802148Z",
     "start_time": "2024-04-13T16:57:31.791344Z"
    }
   },
   "outputs": [],
   "source": [
    "G = sm.get_house_text_id(G, test_gdf, 'id', 'text')"
   ]
  },
  {
   "cell_type": "markdown",
   "metadata": {},
   "source": [
    "###### Проверяем, что атрибут добавился"
   ]
  },
  {
   "cell_type": "code",
   "execution_count": null,
   "metadata": {
    "ExecuteTime": {
     "end_time": "2024-04-13T16:57:34.101451Z",
     "start_time": "2024-04-13T16:57:34.096986Z"
    }
   },
   "outputs": [],
   "source": [
    "G.nodes['набережная канала Грибоедова 108']"
   ]
  },
  {
   "cell_type": "markdown",
   "metadata": {},
   "source": [
    "###### Смотрим количество связей в графе"
   ]
  },
  {
   "cell_type": "code",
   "execution_count": null,
   "metadata": {
    "ExecuteTime": {
     "end_time": "2024-04-13T16:57:41.886473Z",
     "start_time": "2024-04-13T16:57:41.882378Z"
    }
   },
   "outputs": [],
   "source": [
    "len(G.edges)"
   ]
  },
  {
   "cell_type": "markdown",
   "metadata": {},
   "source": [
    "###### Добавляем связи расстояния между топонимами в граф"
   ]
  },
  {
   "cell_type": "code",
   "execution_count": null,
   "metadata": {
    "ExecuteTime": {
     "end_time": "2024-04-13T16:58:12.603990Z",
     "start_time": "2024-04-13T16:58:12.147978Z"
    }
   },
   "outputs": [],
   "source": [
    "G = sm.calculate_distances(G)"
   ]
  },
  {
   "cell_type": "markdown",
   "metadata": {},
   "source": [
    "###### Проверяем, что в граф добавились новые связи"
   ]
  },
  {
   "cell_type": "code",
   "execution_count": null,
   "metadata": {
    "ExecuteTime": {
     "end_time": "2024-04-13T16:58:15.961570Z",
     "start_time": "2024-04-13T16:58:15.957088Z"
    }
   },
   "outputs": [],
   "source": [
    "len(G.edges)"
   ]
  },
  {
   "cell_type": "markdown",
   "metadata": {},
   "source": [
    "###### Загружаем слои территориально-административного деления города"
   ]
  },
  {
   "cell_type": "code",
   "execution_count": 15,
   "metadata": {
    "ExecuteTime": {
     "end_time": "2024-04-13T16:58:23.881622Z",
     "start_time": "2024-04-13T16:58:23.633693Z"
    }
   },
   "outputs": [],
   "source": [
    "districts = gpd.read_file(data_path + \"districts.geojson\")\n",
    "mo = gpd.read_file(data_path + \"municipalities.geojson\")"
   ]
  },
  {
   "cell_type": "markdown",
   "metadata": {},
   "source": [
    "###### Смотрим количество узлов в графе"
   ]
  },
  {
   "cell_type": "code",
   "execution_count": null,
   "metadata": {
    "ExecuteTime": {
     "end_time": "2024-04-13T16:58:27.713199Z",
     "start_time": "2024-04-13T16:58:27.709265Z"
    }
   },
   "outputs": [],
   "source": [
    "len(G.nodes)"
   ]
  },
  {
   "cell_type": "markdown",
   "metadata": {},
   "source": [
    "###### Добавляем узлы районов и муниципалитетов в граф"
   ]
  },
  {
   "cell_type": "code",
   "execution_count": 17,
   "metadata": {
    "ExecuteTime": {
     "end_time": "2024-04-13T16:58:31.132293Z",
     "start_time": "2024-04-13T16:58:30.937887Z"
    }
   },
   "outputs": [],
   "source": [
    "G = sm.add_city_graph(G, districts, mo, 'city_id', 'district_name', 'name', 'geometry')"
   ]
  },
  {
   "cell_type": "markdown",
   "metadata": {},
   "source": [
    "###### Проверяем, что в графе появились новые узлы"
   ]
  },
  {
   "cell_type": "code",
   "execution_count": null,
   "metadata": {
    "ExecuteTime": {
     "end_time": "2024-04-13T16:58:34.665444Z",
     "start_time": "2024-04-13T16:58:34.661306Z"
    }
   },
   "outputs": [],
   "source": [
    "len(G.nodes)"
   ]
  },
  {
   "cell_type": "markdown",
   "metadata": {
    "id": "_oN6pluHB-D6"
   },
   "source": [
    "###### Сохранение полученного графа в формате ``graphml``"
   ]
  },
  {
   "cell_type": "code",
   "execution_count": null,
   "metadata": {
    "id": "2PbC8jDC-ldB"
   },
   "outputs": [],
   "source": [
    "# nx.write_graphml(G, \"semantic_graph_example.graphml\", encoding = 'utf-8')"
   ]
  }
 ],
 "metadata": {
  "colab": {
   "provenance": []
  },
  "kernelspec": {
   "display_name": "venv",
   "language": "python",
   "name": "python3"
  },
  "language_info": {
   "codemirror_mode": {
    "name": "ipython",
    "version": 3
   },
   "file_extension": ".py",
   "mimetype": "text/x-python",
   "name": "python",
   "nbconvert_exporter": "python",
   "pygments_lexer": "ipython3",
   "version": "3.10.13"
  }
 },
 "nbformat": 4,
 "nbformat_minor": 0
}
