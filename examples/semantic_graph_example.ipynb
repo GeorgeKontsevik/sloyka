{
 "cells": [
  {
   "cell_type": "markdown",
   "metadata": {
    "id": "DpgYeOzQ-lc-"
   },
   "source": [
    "# Сборка семантического графа"
   ]
  },
  {
   "cell_type": "markdown",
   "metadata": {
    "id": "2NPjLwQ__aaj"
   },
   "source": [
    "#### Импорт библиотек"
   ]
  },
  {
   "cell_type": "code",
   "metadata": {
    "id": "osM1J9Lc-lc_",
    "outputId": "802ae6ee-f245-4fba-9553-015b73a8aa88",
    "ExecuteTime": {
     "end_time": "2024-04-13T16:55:36.726865Z",
     "start_time": "2024-04-13T16:55:25.861082Z"
    }
   },
   "source": [
    "import geopandas as gpd\n",
    "import networkx as nx\n",
    "from pathlib import Path\n",
    "\n",
    "from sloyka import Semgraph\n",
    "\n",
    "package_dir = str(Path.cwd().parent)"
   ],
   "execution_count": 1,
   "outputs": []
  },
  {
   "cell_type": "markdown",
   "metadata": {
    "id": "Pp8Nafnb_vAc"
   },
   "source": [
    "#### Инициализация класса семантического графа"
   ]
  },
  {
   "cell_type": "code",
   "metadata": {
    "id": "zhSaUnLw-ldB",
    "outputId": "bf33a0c2-4e9a-40e9-c454-d16bdc6801c3",
    "ExecuteTime": {
     "end_time": "2024-04-13T16:55:41.577395Z",
     "start_time": "2024-04-13T16:55:39.473195Z"
    }
   },
   "source": [
    "sm = Semgraph()"
   ],
   "execution_count": 2,
   "outputs": []
  },
  {
   "cell_type": "markdown",
   "metadata": {
    "id": "-oxBNT9e_6it"
   },
   "source": [
    "#### Загрузка данных\n",
    "###### Рекомендуется использовать после класса Geocoder"
   ]
  },
  {
   "metadata": {
    "ExecuteTime": {
     "end_time": "2024-04-13T16:55:44.269755Z",
     "start_time": "2024-04-13T16:55:44.266379Z"
    }
   },
   "cell_type": "code",
   "source": "data_path = package_dir + \"/sloyka/sample_data/processed/\"",
   "execution_count": 3,
   "outputs": []
  },
  {
   "cell_type": "code",
   "metadata": {
    "id": "4Z-Ro4eN-ldB",
    "ExecuteTime": {
     "end_time": "2024-04-13T16:55:47.471940Z",
     "start_time": "2024-04-13T16:55:46.449472Z"
    }
   },
   "source": "test_gdf  = gpd.read_file(data_path + \"-10696.geojson\")",
   "execution_count": 4,
   "outputs": []
  },
  {
   "cell_type": "markdown",
   "metadata": {
    "id": "9BI5hYKRBYR8"
   },
   "source": [
    "#### Построение семантического графа"
   ]
  },
  {
   "cell_type": "code",
   "metadata": {
    "id": "FXohhdcw-ldB",
    "outputId": "602aafe8-f322-4489-eeba-caab15ab857a",
    "ExecuteTime": {
     "end_time": "2024-04-13T16:56:58.579062Z",
     "start_time": "2024-04-13T16:55:50.713651Z"
    }
   },
   "source": [
    "G = sm.build_graph(test_gdf[:len(test_gdf)//2],\n",
    "                   id_column='id',\n",
    "                   text_column='text',\n",
    "                   text_type_column='type',\n",
    "                   toponym_column='only_full_street_name_numbers',\n",
    "                   toponym_name_column='initial_street',\n",
    "                   toponym_type_column='Toponims',\n",
    "                   post_id_column='post_id',\n",
    "                   parents_stack_column='parents_stack',\n",
    "                   location_column='Location',\n",
    "                   geometry_column='geometry')"
   ],
   "execution_count": 5,
   "outputs": []
  },
  {
   "cell_type": "markdown",
   "metadata": {
    "id": "WCNyNSwjBk2K"
   },
   "source": "###### Получаем количество узлов графа"
  },
  {
   "cell_type": "code",
   "metadata": {
    "id": "U8mItnyH-ldB",
    "outputId": "c0c503fc-5471-4849-d9ec-4fdccc35a6b7",
    "ExecuteTime": {
     "end_time": "2024-04-13T16:57:01.283476Z",
     "start_time": "2024-04-13T16:57:01.277773Z"
    }
   },
   "source": "len(G.nodes)",
   "execution_count": 6,
   "outputs": []
  },
  {
   "metadata": {},
   "cell_type": "markdown",
   "source": "###### Обновляем граф"
  },
  {
   "metadata": {
    "ExecuteTime": {
     "end_time": "2024-04-13T16:57:13.982875Z",
     "start_time": "2024-04-13T16:57:04.651491Z"
    }
   },
   "cell_type": "code",
   "source": [
    "G = sm.update_graph(G,\n",
    "                    test_gdf[len(test_gdf)//2:],\n",
    "                    id_column='id',\n",
    "                    text_column='text',\n",
    "                    text_type_column='type',\n",
    "                    toponym_column='only_full_street_name_numbers',\n",
    "                    toponym_name_column='initial_street',\n",
    "                    toponym_type_column='Toponims',\n",
    "                    post_id_column='post_id',\n",
    "                    parents_stack_column='parents_stack',\n",
    "                    location_column='Location',\n",
    "                    geometry_column='geometry')"
   ],
   "execution_count": 7,
   "outputs": []
  },
  {
   "metadata": {},
   "cell_type": "markdown",
   "source": "###### Проверяем что количество узлов стало больше"
  },
  {
   "metadata": {
    "ExecuteTime": {
     "end_time": "2024-04-13T16:57:19.698788Z",
     "start_time": "2024-04-13T16:57:19.694893Z"
    }
   },
   "cell_type": "code",
   "source": "len(G.nodes)",
   "execution_count": 8,
   "outputs": []
  },
  {
   "metadata": {},
   "cell_type": "markdown",
   "source": "###### Смотрим атрибуты узла с номером дома в id узла"
  },
  {
   "metadata": {
    "ExecuteTime": {
     "end_time": "2024-04-13T16:57:26.364341Z",
     "start_time": "2024-04-13T16:57:26.359456Z"
    }
   },
   "cell_type": "code",
   "source": "G.nodes['набережная канала Грибоедова 108']",
   "execution_count": 9,
   "outputs": []
  },
  {
   "metadata": {},
   "cell_type": "markdown",
   "source": "###### Добавляем в атрибуты узлов со зданиями атрибут с текстом, из которого был извлечён топоним"
  },
  {
   "metadata": {
    "ExecuteTime": {
     "end_time": "2024-04-13T16:57:31.802148Z",
     "start_time": "2024-04-13T16:57:31.791344Z"
    }
   },
   "cell_type": "code",
   "source": "G = sm.get_house_text_id(G, test_gdf, 'id', 'text')",
   "execution_count": 10,
   "outputs": []
  },
  {
   "metadata": {},
   "cell_type": "markdown",
   "source": "###### Проверяем, что атрибут добавился"
  },
  {
   "metadata": {
    "ExecuteTime": {
     "end_time": "2024-04-13T16:57:34.101451Z",
     "start_time": "2024-04-13T16:57:34.096986Z"
    }
   },
   "cell_type": "code",
   "source": "G.nodes['набережная канала Грибоедова 108']",
   "execution_count": 11,
   "outputs": []
  },
  {
   "metadata": {},
   "cell_type": "markdown",
   "source": "###### Смотрим количество связей в графе"
  },
  {
   "metadata": {
    "ExecuteTime": {
     "end_time": "2024-04-13T16:57:41.886473Z",
     "start_time": "2024-04-13T16:57:41.882378Z"
    }
   },
   "cell_type": "code",
   "source": "len(G.edges)",
   "execution_count": 12,
   "outputs": []
  },
  {
   "metadata": {},
   "cell_type": "markdown",
   "source": "###### Добавляем связи расстояния между топонимами в граф"
  },
  {
   "metadata": {
    "ExecuteTime": {
     "end_time": "2024-04-13T16:58:12.603990Z",
     "start_time": "2024-04-13T16:58:12.147978Z"
    }
   },
   "cell_type": "code",
   "source": "G = sm.calculate_distances(G)",
   "execution_count": 13,
   "outputs": []
  },
  {
   "metadata": {},
   "cell_type": "markdown",
   "source": "###### Проверяем, что в граф добавились новые связи"
  },
  {
   "metadata": {
    "ExecuteTime": {
     "end_time": "2024-04-13T16:58:15.961570Z",
     "start_time": "2024-04-13T16:58:15.957088Z"
    }
   },
   "cell_type": "code",
   "source": "len(G.edges)",
   "execution_count": 14,
   "outputs": []
  },
  {
   "metadata": {},
   "cell_type": "markdown",
   "source": "###### Загружаем слои территориально-административного деления города"
  },
  {
   "metadata": {
    "ExecuteTime": {
     "end_time": "2024-04-13T16:58:23.881622Z",
     "start_time": "2024-04-13T16:58:23.633693Z"
    }
   },
   "cell_type": "code",
   "source": [
    "districts = gpd.read_file(data_path + \"districts.geojson\")\n",
    "mo = gpd.read_file(data_path + \"municipalities.geojson\")"
   ],
   "execution_count": 15,
   "outputs": []
  },
  {
   "metadata": {},
   "cell_type": "markdown",
   "source": "###### Смотрим количество узлов в графе"
  },
  {
   "metadata": {
    "ExecuteTime": {
     "end_time": "2024-04-13T16:58:27.713199Z",
     "start_time": "2024-04-13T16:58:27.709265Z"
    }
   },
   "cell_type": "code",
   "source": "len(G.nodes)",
   "execution_count": 16,
   "outputs": []
  },
  {
   "metadata": {},
   "cell_type": "markdown",
   "source": "###### Добавляем узлы районов и муниципалитетов в граф"
  },
  {
   "metadata": {
    "ExecuteTime": {
     "end_time": "2024-04-13T16:58:31.132293Z",
     "start_time": "2024-04-13T16:58:30.937887Z"
    }
   },
   "cell_type": "code",
   "source": "G = sm.add_city_graph(G, districts, mo, 'city_id', 'district_name', 'name', 'geometry')",
   "execution_count": 17,
   "outputs": []
  },
  {
   "metadata": {},
   "cell_type": "markdown",
   "source": "###### Проверяем, что в графе появились новые узлы"
  },
  {
   "metadata": {
    "ExecuteTime": {
     "end_time": "2024-04-13T16:58:34.665444Z",
     "start_time": "2024-04-13T16:58:34.661306Z"
    }
   },
   "cell_type": "code",
   "source": "len(G.nodes)",
   "execution_count": 18,
   "outputs": []
  },
  {
   "cell_type": "markdown",
   "metadata": {
    "id": "_oN6pluHB-D6"
   },
   "source": [
    "###### Сохранение полученного графа в формате ``graphml``"
   ]
  },
  {
   "cell_type": "code",
   "execution_count": null,
   "metadata": {
    "id": "2PbC8jDC-ldB"
   },
   "source": [
    "# nx.write_graphml(G, \"semantic_graph_example.graphml\", encoding = 'utf-8')"
   ],
   "outputs": []
  }
 ],
 "metadata": {
  "colab": {
   "provenance": []
  },
  "kernelspec": {
   "display_name": "venv",
   "language": "python",
   "name": "python3"
  },
  "language_info": {
   "codemirror_mode": {
    "name": "ipython",
    "version": 3
   },
   "file_extension": ".py",
   "mimetype": "text/x-python",
   "name": "python",
   "nbconvert_exporter": "python",
   "pygments_lexer": "ipython3",
   "version": "3.10.13"
  }
 },
 "nbformat": 4,
 "nbformat_minor": 0
}
