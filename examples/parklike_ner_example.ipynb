{
 "cells": [
  {
   "cell_type": "markdown",
   "metadata": {},
   "source": [
    "Извлечения именованных сущностей связанных с зелеными зонами "
   ]
  },
  {
   "cell_type": "code",
   "execution_count": 1,
   "metadata": {},
   "outputs": [
    {
     "name": "stderr",
     "output_type": "stream",
     "text": [
      "/home/gk/.cache/pypoetry/virtualenvs/factfinder-6OvYRBkP-py3.10/lib/python3.10/site-packages/tqdm/auto.py:22: TqdmWarning: IProgress not found. Please update jupyter and ipywidgets. See https://ipywidgets.readthedocs.io/en/stable/user_install.html\n",
      "  from .autonotebook import tqdm as notebook_tqdm\n"
     ]
    },
    {
     "name": "stdout",
     "output_type": "stream",
     "text": [
      "INFO: Pandarallel will run on 6 workers.\n",
      "INFO: Pandarallel will use Memory file system to transfer data between the main process and workers.\n"
     ]
    },
    {
     "name": "stderr",
     "output_type": "stream",
     "text": [
      "[nltk_data] Downloading package stopwords to /home/gk/nltk_data...\n",
      "[nltk_data]   Package stopwords is already up-to-date!\n"
     ]
    }
   ],
   "source": [
    "from sloyka import NER_parklike\n",
    "from pathlib import Path\n",
    "\n",
    "package_dir = str(Path.cwd().parent)"
   ]
  },
  {
   "cell_type": "code",
   "execution_count": 2,
   "metadata": {},
   "outputs": [
    {
     "data": {
      "text/html": [
       "<div>\n",
       "<style scoped>\n",
       "    .dataframe tbody tr th:only-of-type {\n",
       "        vertical-align: middle;\n",
       "    }\n",
       "\n",
       "    .dataframe tbody tr th {\n",
       "        vertical-align: top;\n",
       "    }\n",
       "\n",
       "    .dataframe thead th {\n",
       "        text-align: right;\n",
       "    }\n",
       "</style>\n",
       "<table border=\"1\" class=\"dataframe\">\n",
       "  <thead>\n",
       "    <tr style=\"text-align: right;\">\n",
       "      <th></th>\n",
       "      <th>message_id</th>\n",
       "      <th>Дата и время</th>\n",
       "      <th>Текст комментария</th>\n",
       "    </tr>\n",
       "  </thead>\n",
       "  <tbody>\n",
       "    <tr>\n",
       "      <th>0</th>\n",
       "      <td>0</td>\n",
       "      <td>2023.01.26 16:32</td>\n",
       "      <td>Здравствуйте! В Санкт-Петербурге нет Генеральн...</td>\n",
       "    </tr>\n",
       "    <tr>\n",
       "      <th>1</th>\n",
       "      <td>1</td>\n",
       "      <td>2023.01.26 11:55</td>\n",
       "      <td>[club143265175|Центральный район Санкт-Петербу...</td>\n",
       "    </tr>\n",
       "    <tr>\n",
       "      <th>2</th>\n",
       "      <td>2</td>\n",
       "      <td>2023.01.28 12:39</td>\n",
       "      <td>1) Фурштатская, 19 Отслоение штукатурного слоя...</td>\n",
       "    </tr>\n",
       "    <tr>\n",
       "      <th>3</th>\n",
       "      <td>3</td>\n",
       "      <td>2023.01.28 12:42</td>\n",
       "      <td>2) Фурштатская, 17 Здесь прямо-таки умоляю обр...</td>\n",
       "    </tr>\n",
       "    <tr>\n",
       "      <th>4</th>\n",
       "      <td>4</td>\n",
       "      <td>2023.01.28 12:45</td>\n",
       "      <td>3) Фурштатская, 13 Отслоение штукатурного слоя...</td>\n",
       "    </tr>\n",
       "  </tbody>\n",
       "</table>\n",
       "</div>"
      ],
      "text/plain": [
       "   message_id      Дата и время  \\\n",
       "0           0  2023.01.26 16:32   \n",
       "1           1  2023.01.26 11:55   \n",
       "2           2  2023.01.28 12:39   \n",
       "3           3  2023.01.28 12:42   \n",
       "4           4  2023.01.28 12:45   \n",
       "\n",
       "                                   Текст комментария  \n",
       "0  Здравствуйте! В Санкт-Петербурге нет Генеральн...  \n",
       "1  [club143265175|Центральный район Санкт-Петербу...  \n",
       "2  1) Фурштатская, 19 Отслоение штукатурного слоя...  \n",
       "3  2) Фурштатская, 17 Здесь прямо-таки умоляю обр...  \n",
       "4  3) Фурштатская, 13 Отслоение штукатурного слоя...  "
      ]
     },
     "execution_count": 2,
     "metadata": {},
     "output_type": "execute_result"
    }
   ],
   "source": [
    "import pandas as pd\n",
    "df = pd.read_csv(package_dir + '/sloyka/sample_data/sample_data.csv', index_col=0, sep=',', encoding='utf-8')\n",
    "\n",
    "df.head()"
   ]
  },
  {
   "cell_type": "code",
   "execution_count": 3,
   "metadata": {},
   "outputs": [
    {
     "name": "stderr",
     "output_type": "stream",
     "text": [
      "  0%|          | 0/200 [00:00<?, ?it/s]"
     ]
    },
    {
     "name": "stderr",
     "output_type": "stream",
     "text": [
      "100%|██████████| 200/200 [01:37<00:00,  2.04it/s]\n"
     ]
    }
   ],
   "source": [
    "result = NER_parklike().run(df, text_column='Текст комментария')"
   ]
  },
  {
   "cell_type": "code",
   "execution_count": 8,
   "metadata": {},
   "outputs": [
    {
     "data": {
      "text/html": [
       "<div>\n",
       "<style scoped>\n",
       "    .dataframe tbody tr th:only-of-type {\n",
       "        vertical-align: middle;\n",
       "    }\n",
       "\n",
       "    .dataframe tbody tr th {\n",
       "        vertical-align: top;\n",
       "    }\n",
       "\n",
       "    .dataframe thead th {\n",
       "        text-align: right;\n",
       "    }\n",
       "</style>\n",
       "<table border=\"1\" class=\"dataframe\">\n",
       "  <thead>\n",
       "    <tr style=\"text-align: right;\">\n",
       "      <th></th>\n",
       "      <th>message_id</th>\n",
       "      <th>Дата и время</th>\n",
       "      <th>Текст комментария</th>\n",
       "      <th>Start</th>\n",
       "      <th>Stop</th>\n",
       "      <th>Toponim</th>\n",
       "      <th>Toponim_type</th>\n",
       "    </tr>\n",
       "  </thead>\n",
       "  <tbody>\n",
       "    <tr>\n",
       "      <th>62</th>\n",
       "      <td>62</td>\n",
       "      <td>2022.12.19 10:51</td>\n",
       "      <td>[id1209378|Ольга], на стадионе Таврического са...</td>\n",
       "      <td>31.0</td>\n",
       "      <td>48.0</td>\n",
       "      <td>Таврического</td>\n",
       "      <td>сад</td>\n",
       "    </tr>\n",
       "    <tr>\n",
       "      <th>119</th>\n",
       "      <td>119</td>\n",
       "      <td>2022.12.12 21:18</td>\n",
       "      <td>Инициатива 2-сквер Кирочная и Новгородская 👌👏</td>\n",
       "      <td>13.0</td>\n",
       "      <td>29.0</td>\n",
       "      <td>Кирочная и</td>\n",
       "      <td>сквер</td>\n",
       "    </tr>\n",
       "    <tr>\n",
       "      <th>120</th>\n",
       "      <td>120</td>\n",
       "      <td>2022.12.12 23:45</td>\n",
       "      <td>Уважаемая администрация! Скажите,  пожалуйста,...</td>\n",
       "      <td>190.0</td>\n",
       "      <td>207.0</td>\n",
       "      <td>Восстания</td>\n",
       "      <td>площадь</td>\n",
       "    </tr>\n",
       "    <tr>\n",
       "      <th>122</th>\n",
       "      <td>122</td>\n",
       "      <td>2022.12.13 14:18</td>\n",
       "      <td>Овсянниковский сад</td>\n",
       "      <td>0.0</td>\n",
       "      <td>18.0</td>\n",
       "      <td>Овсянниковский</td>\n",
       "      <td>сад</td>\n",
       "    </tr>\n",
       "    <tr>\n",
       "      <th>123</th>\n",
       "      <td>123</td>\n",
       "      <td>2022.12.13 15:07</td>\n",
       "      <td>Овсянниковский сад, здорово. Место для выгула ...</td>\n",
       "      <td>0.0</td>\n",
       "      <td>18.0</td>\n",
       "      <td>Овсянниковский</td>\n",
       "      <td>сад</td>\n",
       "    </tr>\n",
       "    <tr>\n",
       "      <th>124</th>\n",
       "      <td>124</td>\n",
       "      <td>2022.12.13 17:23</td>\n",
       "      <td>Очевидно что создание сквера на Кирочной/Новго...</td>\n",
       "      <td>56.0</td>\n",
       "      <td>72.0</td>\n",
       "      <td>Некрасовский</td>\n",
       "      <td>сад</td>\n",
       "    </tr>\n",
       "    <tr>\n",
       "      <th>125</th>\n",
       "      <td>125</td>\n",
       "      <td>2022.12.13 17:31</td>\n",
       "      <td>За второй вариант.   Некрасовский сад - рассад...</td>\n",
       "      <td>21.0</td>\n",
       "      <td>37.0</td>\n",
       "      <td>Некрасовский</td>\n",
       "      <td>сад</td>\n",
       "    </tr>\n",
       "    <tr>\n",
       "      <th>165</th>\n",
       "      <td>165</td>\n",
       "      <td>2022.11.26 17:29</td>\n",
       "      <td>А на площади Восстания носками торговать можно?</td>\n",
       "      <td>5.0</td>\n",
       "      <td>22.0</td>\n",
       "      <td>Восстания</td>\n",
       "      <td>площадь</td>\n",
       "    </tr>\n",
       "    <tr>\n",
       "      <th>190</th>\n",
       "      <td>190</td>\n",
       "      <td>2022.11.11 07:39</td>\n",
       "      <td>[club157028191|Комитет по благоустройству Санк...</td>\n",
       "      <td>86.0</td>\n",
       "      <td>104.0</td>\n",
       "      <td>Финансистов</td>\n",
       "      <td>сквер</td>\n",
       "    </tr>\n",
       "  </tbody>\n",
       "</table>\n",
       "</div>"
      ],
      "text/plain": [
       "     message_id      Дата и время  \\\n",
       "62           62  2022.12.19 10:51   \n",
       "119         119  2022.12.12 21:18   \n",
       "120         120  2022.12.12 23:45   \n",
       "122         122  2022.12.13 14:18   \n",
       "123         123  2022.12.13 15:07   \n",
       "124         124  2022.12.13 17:23   \n",
       "125         125  2022.12.13 17:31   \n",
       "165         165  2022.11.26 17:29   \n",
       "190         190  2022.11.11 07:39   \n",
       "\n",
       "                                     Текст комментария  Start   Stop  \\\n",
       "62   [id1209378|Ольга], на стадионе Таврического са...   31.0   48.0   \n",
       "119      Инициатива 2-сквер Кирочная и Новгородская 👌👏   13.0   29.0   \n",
       "120  Уважаемая администрация! Скажите,  пожалуйста,...  190.0  207.0   \n",
       "122                                 Овсянниковский сад    0.0   18.0   \n",
       "123  Овсянниковский сад, здорово. Место для выгула ...    0.0   18.0   \n",
       "124  Очевидно что создание сквера на Кирочной/Новго...   56.0   72.0   \n",
       "125  За второй вариант.   Некрасовский сад - рассад...   21.0   37.0   \n",
       "165    А на площади Восстания носками торговать можно?    5.0   22.0   \n",
       "190  [club157028191|Комитет по благоустройству Санк...   86.0  104.0   \n",
       "\n",
       "            Toponim Toponim_type  \n",
       "62     Таврического          сад  \n",
       "119      Кирочная и        сквер  \n",
       "120       Восстания      площадь  \n",
       "122  Овсянниковский          сад  \n",
       "123  Овсянниковский          сад  \n",
       "124    Некрасовский          сад  \n",
       "125    Некрасовский          сад  \n",
       "165       Восстания      площадь  \n",
       "190     Финансистов        сквер  "
      ]
     },
     "execution_count": 8,
     "metadata": {},
     "output_type": "execute_result"
    }
   ],
   "source": [
    "df[df['Toponim'].notna()]"
   ]
  }
 ],
 "metadata": {
  "kernelspec": {
   "display_name": "base",
   "language": "python",
   "name": "python3"
  },
  "language_info": {
   "codemirror_mode": {
    "name": "ipython",
    "version": 3
   },
   "file_extension": ".py",
   "mimetype": "text/x-python",
   "name": "python",
   "nbconvert_exporter": "python",
   "pygments_lexer": "ipython3",
   "version": "3.10.13"
  }
 },
 "nbformat": 4,
 "nbformat_minor": 2
}
