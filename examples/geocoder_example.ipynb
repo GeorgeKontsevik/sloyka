{
 "cells": [
  {
   "cell_type": "markdown",
   "metadata": {},
   "source": [
    "# Геолокация сообщений"
   ]
  },
  {
   "cell_type": "markdown",
   "metadata": {},
   "source": [
    "#### Импорт библиотек"
   ]
  },
  {
   "cell_type": "code",
   "execution_count": 1,
   "metadata": {},
   "outputs": [
    {
     "name": "stdout",
     "output_type": "stream",
     "text": [
      "INFO: Pandarallel will run on -1 workers.\n",
      "INFO: Pandarallel will use standard multiprocessing data transfer (pipe) to transfer data between the main process and workers.\n"
     ]
    },
    {
     "name": "stderr",
     "output_type": "stream",
     "text": [
      "[nltk_data] Downloading package stopwords to /Users/test/nltk_data...\n",
      "[nltk_data]   Package stopwords is already up-to-date!\n",
      "[nltk_data] Downloading package stopwords to /Users/test/nltk_data...\n",
      "[nltk_data]   Package stopwords is already up-to-date!\n"
     ]
    },
    {
     "name": "stdout",
     "output_type": "stream",
     "text": [
      "2024-06-10 02:33:41,802 SequenceTagger predicts: Dictionary with 7 tags: O, S-Service, B-Service, E-Service, I-Service, <START>, <STOP>\n"
     ]
    }
   ],
   "source": [
    "import warnings\n",
    "\n",
    "warnings.simplefilter(\"ignore\")\n",
    "warnings.filterwarnings(\"ignore\", category=DeprecationWarning)\n",
    "\n",
    "from sloyka.src.utils.data_getter.data_getter import VKParser\n",
    "from sloyka.src.geocoder.geocoder import Geocoder"
   ]
  },
  {
   "cell_type": "markdown",
   "metadata": {},
   "source": [
    "#### Загрузка данных"
   ]
  },
  {
   "cell_type": "code",
   "execution_count": 2,
   "metadata": {},
   "outputs": [
    {
     "ename": "TypeError",
     "evalue": "'>' not supported between instances of 'int' and 'str'",
     "output_type": "error",
     "traceback": [
      "\u001b[0;31m---------------------------------------------------------------------------\u001b[0m",
      "\u001b[0;31mTypeError\u001b[0m                                 Traceback (most recent call last)",
      "Cell \u001b[0;32mIn[2], line 5\u001b[0m\n\u001b[1;32m      1\u001b[0m domain \u001b[38;5;241m=\u001b[39m \u001b[38;5;124m'\u001b[39m\u001b[38;5;124mkrdru\u001b[39m\u001b[38;5;124m'\u001b[39m \u001b[38;5;66;03m#доменное имя группы\u001b[39;00m\n\u001b[1;32m      2\u001b[0m accsess_token\u001b[38;5;241m=\u001b[39m\u001b[38;5;124m'\u001b[39m\u001b[38;5;124m96cbbc1496cbbc1496cbbc14b795dfa8b8996cb96cbbc14f2a8294fa4c4c6fc7e753a93\u001b[39m\u001b[38;5;124m'\u001b[39m\n\u001b[0;32m----> 5\u001b[0m df \u001b[38;5;241m=\u001b[39m \u001b[43mVKParser\u001b[49m\u001b[38;5;241;43m.\u001b[39;49m\u001b[43mrun_parser\u001b[49m\u001b[43m(\u001b[49m\u001b[43mdomain\u001b[49m\u001b[43m,\u001b[49m\u001b[43m \u001b[49m\u001b[43maccsess_token\u001b[49m\u001b[43m,\u001b[49m\u001b[43m \u001b[49m\u001b[43mstep\u001b[49m\u001b[38;5;241;43m=\u001b[39;49m\u001b[38;5;241;43m100\u001b[39;49m\u001b[43m,\u001b[49m\u001b[43m \u001b[49m\u001b[43mcutoff_date\u001b[49m\u001b[38;5;241;43m=\u001b[39;49m\u001b[38;5;124;43m'\u001b[39;49m\u001b[38;5;124;43m2024-03-20\u001b[39;49m\u001b[38;5;124;43m'\u001b[39;49m\u001b[43m,\u001b[49m\u001b[43m \u001b[49m\u001b[43mnumber_of_messages\u001b[49m\u001b[38;5;241;43m=\u001b[39;49m\u001b[38;5;241;43m50\u001b[39;49m\u001b[43m)\u001b[49m\n",
      "File \u001b[0;32m~/Documents/code/sloyka/sloyka/src/utils/data_getter/data_getter.py:542\u001b[0m, in \u001b[0;36mVKParser.run_parser\u001b[0;34m(domain, access_token, cutoff_date, number_of_messages, step)\u001b[0m\n\u001b[1;32m    531\u001b[0m \u001b[38;5;250m\u001b[39m\u001b[38;5;124;03m\"\"\"\u001b[39;00m\n\u001b[1;32m    532\u001b[0m \u001b[38;5;124;03mRuns the parser with the given parameters and returns a combined DataFrame of posts and comments.\u001b[39;00m\n\u001b[1;32m    533\u001b[0m \n\u001b[0;32m   (...)\u001b[0m\n\u001b[1;32m    539\u001b[0m \u001b[38;5;124;03m:return: A combined DataFrame of posts and comments.\u001b[39;00m\n\u001b[1;32m    540\u001b[0m \u001b[38;5;124;03m\"\"\"\u001b[39;00m\n\u001b[1;32m    541\u001b[0m owner_id \u001b[38;5;241m=\u001b[39m VKParser\u001b[38;5;241m.\u001b[39mget_owner_id_by_domain(domain, access_token)\n\u001b[0;32m--> 542\u001b[0m df_posts \u001b[38;5;241m=\u001b[39m \u001b[43mVKParser\u001b[49m\u001b[38;5;241;43m.\u001b[39;49m\u001b[43mrun_posts\u001b[49m\u001b[43m(\u001b[49m\u001b[43mowner_id\u001b[49m\u001b[43m,\u001b[49m\u001b[43m \u001b[49m\u001b[43maccess_token\u001b[49m\u001b[43m,\u001b[49m\u001b[43m \u001b[49m\u001b[43mstep\u001b[49m\u001b[43m,\u001b[49m\u001b[43m \u001b[49m\u001b[43mcutoff_date\u001b[49m\u001b[43m,\u001b[49m\u001b[43m \u001b[49m\u001b[43mnumber_of_messages\u001b[49m\u001b[43m)\u001b[49m\n\u001b[1;32m    543\u001b[0m post_ids \u001b[38;5;241m=\u001b[39m df_posts[\u001b[38;5;124m\"\u001b[39m\u001b[38;5;124mid\u001b[39m\u001b[38;5;124m\"\u001b[39m]\u001b[38;5;241m.\u001b[39mtolist()\n\u001b[1;32m    545\u001b[0m df_comments \u001b[38;5;241m=\u001b[39m VKParser\u001b[38;5;241m.\u001b[39mrun_comments(owner_id, post_ids, access_token)\n",
      "File \u001b[0;32m~/Documents/code/sloyka/sloyka/src/utils/data_getter/data_getter.py:477\u001b[0m, in \u001b[0;36mVKParser.run_posts\u001b[0;34m(domain, access_token, cutoff_date, number_of_messages, step)\u001b[0m\n\u001b[1;32m    475\u001b[0m offset \u001b[38;5;241m=\u001b[39m \u001b[38;5;241m0\u001b[39m\n\u001b[1;32m    476\u001b[0m all_posts \u001b[38;5;241m=\u001b[39m []\n\u001b[0;32m--> 477\u001b[0m \u001b[38;5;28;01mif\u001b[39;00m \u001b[43mstep\u001b[49m\u001b[43m \u001b[49m\u001b[38;5;241;43m>\u001b[39;49m\u001b[43m \u001b[49m\u001b[43mnumber_of_messages\u001b[49m:\n\u001b[1;32m    478\u001b[0m     step \u001b[38;5;241m=\u001b[39m number_of_messages\n\u001b[1;32m    479\u001b[0m \u001b[38;5;28;01mwhile\u001b[39;00m offset \u001b[38;5;241m<\u001b[39m number_of_messages:\n",
      "\u001b[0;31mTypeError\u001b[0m: '>' not supported between instances of 'int' and 'str'"
     ]
    }
   ],
   "source": [
    "domain = 'krdru' #доменное имя группы\n",
    "accsess_token='96cbbc1496cbbc1496cbbc14b795dfa8b8996cb96cbbc14f2a8294fa4c4c6fc7e753a93'\n",
    "\n",
    "\n",
    "df = VKParser.run_parser(domain, accsess_token, step=100, cutoff_date='2024-03-20', number_of_messages=50)"
   ]
  },
  {
   "cell_type": "code",
   "execution_count": null,
   "metadata": {},
   "outputs": [],
   "source": [
    "krasnodar_osm_id = 7373058\n",
    "geocoder = Geocoder(osm_id=krasnodar_osm_id)\n",
    "result = geocoder.run(tags={\"place\": [\"city\", \"suburb\"], \"admin_level\": [\"9\"]}, df=df)"
   ]
  },
  {
   "cell_type": "code",
   "execution_count": null,
   "metadata": {},
   "outputs": [],
   "source": [
    "display(result.sample(3))"
   ]
  }
 ],
 "metadata": {
  "kernelspec": {
   "display_name": "Python 3 (ipykernel)",
   "language": "python",
   "name": "python3"
  },
  "language_info": {
   "codemirror_mode": {
    "name": "ipython",
    "version": 3
   },
   "file_extension": ".py",
   "mimetype": "text/x-python",
   "name": "python",
   "nbconvert_exporter": "python",
   "pygments_lexer": "ipython3",
   "version": "3.11.9"
  }
 },
 "nbformat": 4,
 "nbformat_minor": 4
}
