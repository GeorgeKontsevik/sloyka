{
 "cells": [
  {
   "cell_type": "markdown",
   "metadata": {},
   "source": [
    "# Геолокация сообщений"
   ]
  },
  {
   "cell_type": "markdown",
   "metadata": {},
   "source": [
    "#### Импорт библиотек"
   ]
  },
  {
   "cell_type": "code",
   "execution_count": 1,
   "metadata": {},
   "outputs": [
    {
     "name": "stdout",
     "output_type": "stream",
     "text": [
      "INFO: Pandarallel will run on -1 workers.\n",
      "INFO: Pandarallel will use Memory file system to transfer data between the main process and workers.\n"
     ]
    },
    {
     "name": "stderr",
     "output_type": "stream",
     "text": [
      "[nltk_data] Downloading package stopwords to /home/gk/nltk_data...\n",
      "[nltk_data]   Package stopwords is already up-to-date!\n"
     ]
    }
   ],
   "source": [
    "import warnings\n",
    "\n",
    "warnings.simplefilter(\"ignore\")\n",
    "\n",
    "import os\n",
    "import sys\n",
    "\n",
    "folder = os.getcwd().split(\"\\\\examples\")[0]\n",
    "sys.path.append(folder)\n",
    "\n",
    "import sloyka\n",
    "from sloyka import Geocoder"
   ]
  },
  {
   "cell_type": "markdown",
   "metadata": {},
   "source": [
    "#### Загрузка данных"
   ]
  },
  {
   "cell_type": "code",
   "execution_count": 2,
   "metadata": {},
   "outputs": [],
   "source": [
    "import pandas as pd\n",
    "\n",
    "df = pd.read_csv('/home/gk/vscode/SOIKA_2/sloyka/sloyka/sample_data/sample_data.csv', index_col=0)"
   ]
  },
  {
   "cell_type": "code",
   "execution_count": 3,
   "metadata": {},
   "outputs": [
    {
     "data": {
      "text/html": [
       "<div>\n",
       "<style scoped>\n",
       "    .dataframe tbody tr th:only-of-type {\n",
       "        vertical-align: middle;\n",
       "    }\n",
       "\n",
       "    .dataframe tbody tr th {\n",
       "        vertical-align: top;\n",
       "    }\n",
       "\n",
       "    .dataframe thead th {\n",
       "        text-align: right;\n",
       "    }\n",
       "</style>\n",
       "<table border=\"1\" class=\"dataframe\">\n",
       "  <thead>\n",
       "    <tr style=\"text-align: right;\">\n",
       "      <th></th>\n",
       "      <th>date</th>\n",
       "      <th>text</th>\n",
       "      <th>link</th>\n",
       "    </tr>\n",
       "  </thead>\n",
       "  <tbody>\n",
       "    <tr>\n",
       "      <th>0</th>\n",
       "      <td>2024-02-29 08:00:02</td>\n",
       "      <td>А какой ваш любимый фрукт?Я бы персиков поела....</td>\n",
       "      <td>NaN</td>\n",
       "    </tr>\n",
       "    <tr>\n",
       "      <th>1</th>\n",
       "      <td>2024-02-29 07:00:04</td>\n",
       "      <td>27.02. 2024г.На территории Ленсоветовский откр...</td>\n",
       "      <td>NaN</td>\n",
       "    </tr>\n",
       "    <tr>\n",
       "      <th>2</th>\n",
       "      <td>2024-02-29 06:00:03</td>\n",
       "      <td>Требуется продавец продовольственных товаров,п...</td>\n",
       "      <td>NaN</td>\n",
       "    </tr>\n",
       "    <tr>\n",
       "      <th>3</th>\n",
       "      <td>2024-02-28 21:05:00</td>\n",
       "      <td>#длятехктонеспит Нашла фильм 29 февраля)Корея....</td>\n",
       "      <td>NaN</td>\n",
       "    </tr>\n",
       "    <tr>\n",
       "      <th>6</th>\n",
       "      <td>2024-02-28 16:30:00</td>\n",
       "      <td>🙋🏼Дорогие соседи, хотим поделиться с вами конт...</td>\n",
       "      <td>https://vk.com/remontholodilnikovvspb</td>\n",
       "    </tr>\n",
       "  </tbody>\n",
       "</table>\n",
       "</div>"
      ],
      "text/plain": [
       "                  date                                               text  \\\n",
       "0  2024-02-29 08:00:02  А какой ваш любимый фрукт?Я бы персиков поела....   \n",
       "1  2024-02-29 07:00:04  27.02. 2024г.На территории Ленсоветовский откр...   \n",
       "2  2024-02-29 06:00:03  Требуется продавец продовольственных товаров,п...   \n",
       "3  2024-02-28 21:05:00  #длятехктонеспит Нашла фильм 29 февраля)Корея....   \n",
       "6  2024-02-28 16:30:00  🙋🏼Дорогие соседи, хотим поделиться с вами конт...   \n",
       "\n",
       "                                    link  \n",
       "0                                    NaN  \n",
       "1                                    NaN  \n",
       "2                                    NaN  \n",
       "3                                    NaN  \n",
       "6  https://vk.com/remontholodilnikovvspb  "
      ]
     },
     "execution_count": 3,
     "metadata": {},
     "output_type": "execute_result"
    }
   ],
   "source": [
    "df.head()"
   ]
  },
  {
   "cell_type": "markdown",
   "metadata": {},
   "source": [
    "#### Запуск геолокатора со встроенным геокодером"
   ]
  },
  {
   "cell_type": "code",
   "execution_count": null,
   "metadata": {},
   "outputs": [],
   "source": [
    "result = Geocoder().run(df[:20], text_column='text')"
   ]
  },
  {
   "cell_type": "code",
   "execution_count": 21,
   "metadata": {},
   "outputs": [],
   "source": [
    "pd.set_option('display.max_colwidth', None)\n",
    "pd.reset_option('display.width', None)\n",
    "pd.set_option('display.width', 2000)\n"
   ]
  },
  {
   "cell_type": "code",
   "execution_count": 4,
   "metadata": {},
   "outputs": [
    {
     "data": {
      "text/html": [
       "<div>\n",
       "<style scoped>\n",
       "    .dataframe tbody tr th:only-of-type {\n",
       "        vertical-align: middle;\n",
       "    }\n",
       "\n",
       "    .dataframe tbody tr th {\n",
       "        vertical-align: top;\n",
       "    }\n",
       "\n",
       "    .dataframe thead th {\n",
       "        text-align: right;\n",
       "    }\n",
       "</style>\n",
       "<table border=\"1\" class=\"dataframe\">\n",
       "  <thead>\n",
       "    <tr style=\"text-align: right;\">\n",
       "      <th></th>\n",
       "      <th>message_id</th>\n",
       "      <th>Дата и время</th>\n",
       "      <th>Текст комментария</th>\n",
       "      <th>Street</th>\n",
       "      <th>initial_street</th>\n",
       "      <th>only_full_street_name</th>\n",
       "      <th>Numbers</th>\n",
       "      <th>Score</th>\n",
       "      <th>location_options</th>\n",
       "      <th>Location</th>\n",
       "      <th>geometry</th>\n",
       "      <th>level</th>\n",
       "    </tr>\n",
       "  </thead>\n",
       "  <tbody>\n",
       "    <tr>\n",
       "      <th>9</th>\n",
       "      <td>9</td>\n",
       "      <td>2023.01.13 20:58</td>\n",
       "      <td>а метро Адмиралтейская почти постоянно стоит 2...</td>\n",
       "      <td>адмиралтейская</td>\n",
       "      <td>Адмиралтейская</td>\n",
       "      <td>Адмиралтейская набережная</td>\n",
       "      <td></td>\n",
       "      <td>NaN</td>\n",
       "      <td>[Адмиралтейская набережная  Санкт-Петербург Ро...</td>\n",
       "      <td>Адмиралтейская набережная, Адмиралтейский окру...</td>\n",
       "      <td>POINT (30.30984 59.93990)</td>\n",
       "      <td>street</td>\n",
       "    </tr>\n",
       "    <tr>\n",
       "      <th>9</th>\n",
       "      <td>9</td>\n",
       "      <td>2023.01.13 20:58</td>\n",
       "      <td>а метро Адмиралтейская почти постоянно стоит 2...</td>\n",
       "      <td>адмиралтейская</td>\n",
       "      <td>Адмиралтейская</td>\n",
       "      <td>Адмиралтейская улица</td>\n",
       "      <td></td>\n",
       "      <td>NaN</td>\n",
       "      <td>[Адмиралтейская набережная  Санкт-Петербург Ро...</td>\n",
       "      <td>Адмиралтейская набережная, Адмиралтейский окру...</td>\n",
       "      <td>POINT (30.30984 59.93990)</td>\n",
       "      <td>street</td>\n",
       "    </tr>\n",
       "    <tr>\n",
       "      <th>10</th>\n",
       "      <td>10</td>\n",
       "      <td>2023.01.13 20:41</td>\n",
       "      <td>Б. Московская-идти невозможно-каток из подтаяв...</td>\n",
       "      <td>адмиралтейская</td>\n",
       "      <td>Адмиралтейская</td>\n",
       "      <td>Адмиралтейская набережная</td>\n",
       "      <td></td>\n",
       "      <td>NaN</td>\n",
       "      <td>[Адмиралтейская набережная  Санкт-Петербург Ро...</td>\n",
       "      <td>Адмиралтейская улица, Чухонка, Колпино, Санкт-...</td>\n",
       "      <td>POINT (30.59423 59.74329)</td>\n",
       "      <td>street</td>\n",
       "    </tr>\n",
       "    <tr>\n",
       "      <th>10</th>\n",
       "      <td>10</td>\n",
       "      <td>2023.01.13 20:41</td>\n",
       "      <td>Б. Московская-идти невозможно-каток из подтаяв...</td>\n",
       "      <td>адмиралтейская</td>\n",
       "      <td>Адмиралтейская</td>\n",
       "      <td>Адмиралтейская улица</td>\n",
       "      <td></td>\n",
       "      <td>NaN</td>\n",
       "      <td>[Адмиралтейская набережная  Санкт-Петербург Ро...</td>\n",
       "      <td>Адмиралтейская улица, Чухонка, Колпино, Санкт-...</td>\n",
       "      <td>POINT (30.59423 59.74329)</td>\n",
       "      <td>street</td>\n",
       "    </tr>\n",
       "    <tr>\n",
       "      <th>11</th>\n",
       "      <td>11</td>\n",
       "      <td>2023.01.15 15:37</td>\n",
       "      <td>Это просто кошмар какой-то. Дворы вообще не уб...</td>\n",
       "      <td>социалистическая</td>\n",
       "      <td>Социалистическая</td>\n",
       "      <td>Социалистическая улица</td>\n",
       "      <td></td>\n",
       "      <td>NaN</td>\n",
       "      <td>[Социалистическая улица  Санкт-Петербург Россия]</td>\n",
       "      <td>Социалистическая улица, Ушково, Санкт-Петербур...</td>\n",
       "      <td>POINT (29.64438 60.24111)</td>\n",
       "      <td>street</td>\n",
       "    </tr>\n",
       "  </tbody>\n",
       "</table>\n",
       "</div>"
      ],
      "text/plain": [
       "    message_id      Дата и время  \\\n",
       "9            9  2023.01.13 20:58   \n",
       "9            9  2023.01.13 20:58   \n",
       "10          10  2023.01.13 20:41   \n",
       "10          10  2023.01.13 20:41   \n",
       "11          11  2023.01.15 15:37   \n",
       "\n",
       "                                    Текст комментария            Street  \\\n",
       "9   а метро Адмиралтейская почти постоянно стоит 2...    адмиралтейская   \n",
       "9   а метро Адмиралтейская почти постоянно стоит 2...    адмиралтейская   \n",
       "10  Б. Московская-идти невозможно-каток из подтаяв...    адмиралтейская   \n",
       "10  Б. Московская-идти невозможно-каток из подтаяв...    адмиралтейская   \n",
       "11  Это просто кошмар какой-то. Дворы вообще не уб...  социалистическая   \n",
       "\n",
       "      initial_street      only_full_street_name Numbers  Score  \\\n",
       "9     Адмиралтейская  Адмиралтейская набережная            NaN   \n",
       "9     Адмиралтейская       Адмиралтейская улица            NaN   \n",
       "10    Адмиралтейская  Адмиралтейская набережная            NaN   \n",
       "10    Адмиралтейская       Адмиралтейская улица            NaN   \n",
       "11  Социалистическая     Социалистическая улица            NaN   \n",
       "\n",
       "                                     location_options  \\\n",
       "9   [Адмиралтейская набережная  Санкт-Петербург Ро...   \n",
       "9   [Адмиралтейская набережная  Санкт-Петербург Ро...   \n",
       "10  [Адмиралтейская набережная  Санкт-Петербург Ро...   \n",
       "10  [Адмиралтейская набережная  Санкт-Петербург Ро...   \n",
       "11   [Социалистическая улица  Санкт-Петербург Россия]   \n",
       "\n",
       "                                             Location  \\\n",
       "9   Адмиралтейская набережная, Адмиралтейский окру...   \n",
       "9   Адмиралтейская набережная, Адмиралтейский окру...   \n",
       "10  Адмиралтейская улица, Чухонка, Колпино, Санкт-...   \n",
       "10  Адмиралтейская улица, Чухонка, Колпино, Санкт-...   \n",
       "11  Социалистическая улица, Ушково, Санкт-Петербур...   \n",
       "\n",
       "                     geometry   level  \n",
       "9   POINT (30.30984 59.93990)  street  \n",
       "9   POINT (30.30984 59.93990)  street  \n",
       "10  POINT (30.59423 59.74329)  street  \n",
       "10  POINT (30.59423 59.74329)  street  \n",
       "11  POINT (29.64438 60.24111)  street  "
      ]
     },
     "execution_count": 4,
     "metadata": {},
     "output_type": "execute_result"
    }
   ],
   "source": [
    "mask = (result.Score.isna())&(~result.Street.isna())\n",
    "result[mask]\n",
    "# result.to_csv('C:\\Users\\USER\\SOIKA\\сохры.csv', index=False)"
   ]
  },
  {
   "cell_type": "code",
   "execution_count": 12,
   "metadata": {},
   "outputs": [
    {
     "name": "stderr",
     "output_type": "stream",
     "text": [
      "100%|██████████| 22/22 [00:00<00:00, 6228.46it/s]\n"
     ]
    }
   ],
   "source": [
    "from shapely.geometry import Point\n",
    "\n",
    "result['geometry'] = result.Location.progress_apply(lambda x: Point(x.longitude, x.latitude))"
   ]
  },
  {
   "cell_type": "markdown",
   "metadata": {},
   "source": [
    "#### Визаулизация полученных сообщений"
   ]
  },
  {
   "cell_type": "code",
   "execution_count": 13,
   "metadata": {},
   "outputs": [
    {
     "data": {
      "text/html": [
       "<div>\n",
       "<style scoped>\n",
       "    .dataframe tbody tr th:only-of-type {\n",
       "        vertical-align: middle;\n",
       "    }\n",
       "\n",
       "    .dataframe tbody tr th {\n",
       "        vertical-align: top;\n",
       "    }\n",
       "\n",
       "    .dataframe thead th {\n",
       "        text-align: right;\n",
       "    }\n",
       "</style>\n",
       "<table border=\"1\" class=\"dataframe\">\n",
       "  <thead>\n",
       "    <tr style=\"text-align: right;\">\n",
       "      <th></th>\n",
       "      <th>message_id</th>\n",
       "      <th>Дата и время</th>\n",
       "      <th>Текст комментария</th>\n",
       "      <th>Street</th>\n",
       "      <th>Score</th>\n",
       "      <th>Numbers</th>\n",
       "      <th>initial_street</th>\n",
       "      <th>Toponims</th>\n",
       "      <th>full_street_name</th>\n",
       "      <th>location_options</th>\n",
       "      <th>addr_to_geocode</th>\n",
       "      <th>only_full_street_name</th>\n",
       "      <th>Location</th>\n",
       "      <th>geometry</th>\n",
       "    </tr>\n",
       "  </thead>\n",
       "  <tbody>\n",
       "    <tr>\n",
       "      <th>0</th>\n",
       "      <td>0</td>\n",
       "      <td>2023.01.26 16:32</td>\n",
       "      <td>Здравствуйте! В Санкт-Петербурге нет Генеральн...</td>\n",
       "      <td>мойка</td>\n",
       "      <td>0.997</td>\n",
       "      <td>11</td>\n",
       "      <td>Мойка</td>\n",
       "      <td>улица</td>\n",
       "      <td>набережная реки Мойки 11 Санкт-Петербург Россия</td>\n",
       "      <td>[набережная реки Мойки 11 Санкт-Петербург Россия]</td>\n",
       "      <td>набережная реки Мойки 11 Санкт-Петербург Россия</td>\n",
       "      <td>набережная реки Мойки</td>\n",
       "      <td>(Генеральное консульство Нидерландов, 11, набе...</td>\n",
       "      <td>POINT (30.3245412 59.9425431)</td>\n",
       "    </tr>\n",
       "    <tr>\n",
       "      <th>1</th>\n",
       "      <td>1</td>\n",
       "      <td>2023.01.26 11:55</td>\n",
       "      <td>[club143265175|Центральный район Санкт-Петербу...</td>\n",
       "      <td>рубинштейна</td>\n",
       "      <td>0.900</td>\n",
       "      <td>2</td>\n",
       "      <td>Рубинштейна</td>\n",
       "      <td>None</td>\n",
       "      <td>улица Рубинштейна 2 Санкт-Петербург Россия</td>\n",
       "      <td>[улица Рубинштейна 2 Санкт-Петербург Россия]</td>\n",
       "      <td>улица Рубинштейна 2 Санкт-Петербург Россия</td>\n",
       "      <td>улица Рубинштейна</td>\n",
       "      <td>(2/45, улица Рубинштейна, Владимирский округ, ...</td>\n",
       "      <td>POINT (30.34623809680399 59.9324291)</td>\n",
       "    </tr>\n",
       "    <tr>\n",
       "      <th>2</th>\n",
       "      <td>2</td>\n",
       "      <td>2023.01.28 12:39</td>\n",
       "      <td>1) Фурштатская, 19 Отслоение штукатурного слоя...</td>\n",
       "      <td>фурштатская</td>\n",
       "      <td>0.784</td>\n",
       "      <td>19</td>\n",
       "      <td>Фурштатская</td>\n",
       "      <td>None</td>\n",
       "      <td>Фурштатская улица 19 Санкт-Петербург Россия</td>\n",
       "      <td>[Фурштатская улица 19 Санкт-Петербург Россия]</td>\n",
       "      <td>Фурштатская улица 19 Санкт-Петербург Россия</td>\n",
       "      <td>Фурштатская улица</td>\n",
       "      <td>(Онлайн Трейд, 19, Фурштатская улица, Литейный...</td>\n",
       "      <td>POINT (30.3559864 59.9450496)</td>\n",
       "    </tr>\n",
       "  </tbody>\n",
       "</table>\n",
       "</div>"
      ],
      "text/plain": [
       "   message_id      Дата и время  \\\n",
       "0           0  2023.01.26 16:32   \n",
       "1           1  2023.01.26 11:55   \n",
       "2           2  2023.01.28 12:39   \n",
       "\n",
       "                                   Текст комментария       Street  Score  \\\n",
       "0  Здравствуйте! В Санкт-Петербурге нет Генеральн...        мойка  0.997   \n",
       "1  [club143265175|Центральный район Санкт-Петербу...  рубинштейна  0.900   \n",
       "2  1) Фурштатская, 19 Отслоение штукатурного слоя...  фурштатская  0.784   \n",
       "\n",
       "  Numbers initial_street Toponims  \\\n",
       "0      11          Мойка    улица   \n",
       "1       2    Рубинштейна     None   \n",
       "2      19    Фурштатская     None   \n",
       "\n",
       "                                  full_street_name  \\\n",
       "0  набережная реки Мойки 11 Санкт-Петербург Россия   \n",
       "1       улица Рубинштейна 2 Санкт-Петербург Россия   \n",
       "2      Фурштатская улица 19 Санкт-Петербург Россия   \n",
       "\n",
       "                                    location_options  \\\n",
       "0  [набережная реки Мойки 11 Санкт-Петербург Россия]   \n",
       "1       [улица Рубинштейна 2 Санкт-Петербург Россия]   \n",
       "2      [Фурштатская улица 19 Санкт-Петербург Россия]   \n",
       "\n",
       "                                   addr_to_geocode  only_full_street_name  \\\n",
       "0  набережная реки Мойки 11 Санкт-Петербург Россия  набережная реки Мойки   \n",
       "1       улица Рубинштейна 2 Санкт-Петербург Россия      улица Рубинштейна   \n",
       "2      Фурштатская улица 19 Санкт-Петербург Россия      Фурштатская улица   \n",
       "\n",
       "                                            Location  \\\n",
       "0  (Генеральное консульство Нидерландов, 11, набе...   \n",
       "1  (2/45, улица Рубинштейна, Владимирский округ, ...   \n",
       "2  (Онлайн Трейд, 19, Фурштатская улица, Литейный...   \n",
       "\n",
       "                               geometry  \n",
       "0         POINT (30.3245412 59.9425431)  \n",
       "1  POINT (30.34623809680399 59.9324291)  \n",
       "2         POINT (30.3559864 59.9450496)  "
      ]
     },
     "execution_count": 13,
     "metadata": {},
     "output_type": "execute_result"
    }
   ],
   "source": [
    "result.head(3)"
   ]
  },
  {
   "cell_type": "code",
   "execution_count": 1,
   "metadata": {},
   "outputs": [],
   "source": [
    "# result.explore()"
   ]
  }
 ],
 "metadata": {
  "kernelspec": {
   "display_name": "venv",
   "language": "python",
   "name": "python3"
  },
  "language_info": {
   "codemirror_mode": {
    "name": "ipython",
    "version": 3
   },
   "file_extension": ".py",
   "mimetype": "text/x-python",
   "name": "python",
   "nbconvert_exporter": "python",
   "pygments_lexer": "ipython3",
   "version": "3.10.13"
  },
  "orig_nbformat": 4
 },
 "nbformat": 4,
 "nbformat_minor": 2
}
