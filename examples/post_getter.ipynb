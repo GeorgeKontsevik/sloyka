{
 "cells": [
  {
   "cell_type": "code",
   "execution_count": null,
   "metadata": {},
   "outputs": [],
   "source": [
    "# Вставить id приложения сюда\n",
    "your_id = \"\"  # {type:\"string\"}\n",
    "print(\n",
    "    f\"Cсылка: \"\\\n",
    "    \"https://oauth.vk.com/authorize?client_id={your_id}\"\\\n",
    "    \"&display=page&redirect_uri=https://oauth.vk.com/blank.html\"\\\n",
    "    \"&scope=offline&response_type=token&v=5.131\"\n",
    ")"
   ]
  },
  {
   "cell_type": "code",
   "execution_count": null,
   "metadata": {},
   "outputs": [],
   "source": [
    "# Вставить ссылку сюда:\n",
    "link = \"https://id.vk.com/auth?return_auth_hash=0de8e14f2bebdc4e1d&redirect_uri=https://oauth.vk.com/blank.html&redirect_uri_hash=4b8f2bd2015bc72c67&force_hash=1&app_id=51778462&response_type=token&code_challenge=&code_challenge_method=&scope=65536&state=\" # {type:\"string\"}\n",
    "token = '' # Вставить сюда токен\n"
   ]
  },
  {
   "cell_type": "code",
   "execution_count": null,
   "metadata": {},
   "outputs": [],
   "source": [
    "#Парсер комментариев\n",
    "\n",
    "import requests\n",
    "import pandas as pd\n",
    "from tqdm import tqdm\n",
    "import datetime\n",
    "import time\n",
    "\n",
    "def unix_to_date(ts): #перевод даты из unix-формата в привычный\n",
    "    return datetime.datetime.utcfromtimestamp(ts).strftime('%Y-%m-%d')\n",
    "\n",
    "def nes_params(post_id, all_comments): #работа с необходимыми параметрами.\n",
    "    nes_dict = {}\n",
    "    profiles = all_comments['profiles']\n",
    "    comments = all_comments['items']\n",
    "    first_string = ['NONE', 'NONE', 'NONE']\n",
    "    for comment in comments:\n",
    "        if len(comment['text']) > 3:\n",
    "            second_string = [unix_to_date(comment['date']), comment['likes']['count'],\n",
    "                             comment['text']]\n",
    "            for profile in profiles:\n",
    "                if comment['from_id'] == profile['id']:\n",
    "                    first_string = [profile['first_name'], profile['last_name']]\n",
    "            nes_dict[comment['id']] = first_string + second_string + [i]\n",
    "    return nes_dict\n",
    "\n",
    "def get_Comments(post_id, owner_id, nes_dict, token): #парсинг комментариев по id постов\n",
    "    version = 5.131\n",
    "    offset = 0\n",
    "    count = 100\n",
    "    while offset < 500:\n",
    "        response = requests.get('https://api.vk.com/method/wall.getComments',\n",
    "                                params={\n",
    "                                    'access_token': token,\n",
    "                                    'v': version,\n",
    "                                    'owner_id': owner_id,\n",
    "                                    'post_id': post_id,\n",
    "                                    'need_likes': 1,\n",
    "                                    'count': count,\n",
    "                                    'offset': offset,\n",
    "                                    'extended': 1\n",
    "                                }\n",
    "                                )\n",
    "        data_comments = response.json()['response']\n",
    "        tempDict = nes_params(post_id, data_comments)\n",
    "        nes_dict.update(tempDict)\n",
    "        offset += 100\n",
    "        time.sleep(0.5)\n",
    "    return nes_dict\n",
    "\n",
    "def to_df(nes_dict): #перевод словаря в датафрейм\n",
    "    df = pd.DataFrame.from_dict(nes_dict, orient='index',\n",
    "                                columns=['name', 'last_name', 'date', 'likes', 'text', 'post_id'])\n",
    "    return df\n",
    "\n",
    "owner_id =  -51988192 #{type:\"number\"} ID группы\n",
    "post_id = \"...\" # {type:\"string\"}\n",
    "\n",
    "nes_dict = {}\n",
    "for i in tqdm(post_id.split()):\n",
    "   get_Comments(i, owner_id, nes_dict, token)\n",
    "df = to_df(nes_dict)\n",
    "# df.to_csv('/content/' + f'{owner_id}.csv', sep=';', index=False)\n",
    "# print(f'\\n Таблица сохранилась на вашем диске под названием {owner_id}.csv')"
   ]
  }
 ],
 "metadata": {
  "kernelspec": {
   "display_name": "Python 3",
   "language": "python",
   "name": "python3"
  },
  "language_info": {
   "name": "python",
   "version": "3.10.13"
  }
 },
 "nbformat": 4,
 "nbformat_minor": 2
}
