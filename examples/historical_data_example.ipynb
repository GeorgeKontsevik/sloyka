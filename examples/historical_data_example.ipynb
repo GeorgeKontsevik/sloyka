{
 "cells": [
  {
   "cell_type": "code",
   "execution_count": null,
   "metadata": {},
   "outputs": [],
   "source": [
    "import warnings\n",
    "\n",
    "warnings.simplefilter(\"ignore\")\n",
    "\n",
    "import os\n",
    "import sys\n",
    "\n",
    "folder = os.getcwd().split(\"\\\\examples\")[0]\n",
    "sys.path.append(folder)\n",
    "\n",
    "from sloyka.src.data_getter import HistGeoDataGetter"
   ]
  },
  {
   "cell_type": "code",
   "execution_count": 3,
   "metadata": {},
   "outputs": [
    {
     "name": "stderr",
     "output_type": "stream",
     "text": [
      "Processing category amenity: 100%|██████████| 1/1 [00:01<00:00,  1.00s/it]\n"
     ]
    }
   ],
   "source": [
    "geo_data_getter = HistGeoDataGetter()\n",
    "\n",
    "osm_id = 421007\n",
    "tags = {\"amenity\": [\"university\"]}\n",
    "date = \"2012-12-31T00:00:00Z\"\n",
    "\n",
    "result = geo_data_getter.get_features_from_id(osm_id=osm_id, tags=tags, date=date)"
   ]
  },
  {
   "cell_type": "code",
   "execution_count": 4,
   "metadata": {},
   "outputs": [
    {
     "data": {
      "text/html": [
       "<div>\n",
       "<style scoped>\n",
       "    .dataframe tbody tr th:only-of-type {\n",
       "        vertical-align: middle;\n",
       "    }\n",
       "\n",
       "    .dataframe tbody tr th {\n",
       "        vertical-align: top;\n",
       "    }\n",
       "\n",
       "    .dataframe thead th {\n",
       "        text-align: right;\n",
       "    }\n",
       "</style>\n",
       "<table border=\"1\" class=\"dataframe\">\n",
       "  <thead>\n",
       "    <tr style=\"text-align: right;\">\n",
       "      <th></th>\n",
       "      <th>tag</th>\n",
       "      <th>key</th>\n",
       "      <th>element_type</th>\n",
       "      <th>osmid</th>\n",
       "      <th>name</th>\n",
       "      <th>geometry</th>\n",
       "      <th>centroid</th>\n",
       "      <th>creation_timestamp</th>\n",
       "    </tr>\n",
       "  </thead>\n",
       "  <tbody>\n",
       "    <tr>\n",
       "      <th>12</th>\n",
       "      <td>amenity</td>\n",
       "      <td>university</td>\n",
       "      <td>node</td>\n",
       "      <td>1143035051</td>\n",
       "      <td>СПбГУ Журфак</td>\n",
       "      <td>POINT (30.28888 59.94272)</td>\n",
       "      <td>POINT (3371742.465 8386997.022)</td>\n",
       "      <td>2011-02-08 20:01:25</td>\n",
       "    </tr>\n",
       "    <tr>\n",
       "      <th>45</th>\n",
       "      <td>amenity</td>\n",
       "      <td>university</td>\n",
       "      <td>way</td>\n",
       "      <td>65391151</td>\n",
       "      <td>Санкт-Петербургский государственный архитектур...</td>\n",
       "      <td>POLYGON ((30.31506 59.91553, 30.31514 59.91553...</td>\n",
       "      <td>POINT (3374714.989 8380950.840)</td>\n",
       "      <td>2007-10-11 21:48:16</td>\n",
       "    </tr>\n",
       "    <tr>\n",
       "      <th>37</th>\n",
       "      <td>amenity</td>\n",
       "      <td>university</td>\n",
       "      <td>way</td>\n",
       "      <td>42072608</td>\n",
       "      <td>Санкт-Петербургский филиал Российской Таможенн...</td>\n",
       "      <td>POLYGON ((30.41763 59.86594, 30.41991 59.86666...</td>\n",
       "      <td>POINT (3386140.929 8369856.842)</td>\n",
       "      <td>2007-09-05 13:37:05</td>\n",
       "    </tr>\n",
       "    <tr>\n",
       "      <th>97</th>\n",
       "      <td>amenity</td>\n",
       "      <td>university</td>\n",
       "      <td>relation</td>\n",
       "      <td>1413513</td>\n",
       "      <td>Северо-Западный государственный заочный технич...</td>\n",
       "      <td>POLYGON ((30.32773 59.94577, 30.32900 59.94606...</td>\n",
       "      <td>POINT (3376167.282 8387637.279)</td>\n",
       "      <td>2006-09-08 02:32:13</td>\n",
       "    </tr>\n",
       "    <tr>\n",
       "      <th>109</th>\n",
       "      <td>amenity</td>\n",
       "      <td>university</td>\n",
       "      <td>way</td>\n",
       "      <td>22984892</td>\n",
       "      <td>СПбГУКИ. Центр Режиссерского и продюсерского м...</td>\n",
       "      <td>POLYGON ((30.30609 59.98929, 30.30504 59.98894...</td>\n",
       "      <td>POINT (3373555.902 8397368.488)</td>\n",
       "      <td>2006-12-31 10:27:36</td>\n",
       "    </tr>\n",
       "  </tbody>\n",
       "</table>\n",
       "</div>"
      ],
      "text/plain": [
       "         tag         key element_type       osmid  \\\n",
       "12   amenity  university         node  1143035051   \n",
       "45   amenity  university          way    65391151   \n",
       "37   amenity  university          way    42072608   \n",
       "97   amenity  university     relation     1413513   \n",
       "109  amenity  university          way    22984892   \n",
       "\n",
       "                                                  name  \\\n",
       "12                                        СПбГУ Журфак   \n",
       "45   Санкт-Петербургский государственный архитектур...   \n",
       "37   Санкт-Петербургский филиал Российской Таможенн...   \n",
       "97   Северо-Западный государственный заочный технич...   \n",
       "109  СПбГУКИ. Центр Режиссерского и продюсерского м...   \n",
       "\n",
       "                                              geometry  \\\n",
       "12                           POINT (30.28888 59.94272)   \n",
       "45   POLYGON ((30.31506 59.91553, 30.31514 59.91553...   \n",
       "37   POLYGON ((30.41763 59.86594, 30.41991 59.86666...   \n",
       "97   POLYGON ((30.32773 59.94577, 30.32900 59.94606...   \n",
       "109  POLYGON ((30.30609 59.98929, 30.30504 59.98894...   \n",
       "\n",
       "                            centroid   creation_timestamp  \n",
       "12   POINT (3371742.465 8386997.022)  2011-02-08 20:01:25  \n",
       "45   POINT (3374714.989 8380950.840)  2007-10-11 21:48:16  \n",
       "37   POINT (3386140.929 8369856.842)  2007-09-05 13:37:05  \n",
       "97   POINT (3376167.282 8387637.279)  2006-09-08 02:32:13  \n",
       "109  POINT (3373555.902 8397368.488)  2006-12-31 10:27:36  "
      ]
     },
     "execution_count": 4,
     "metadata": {},
     "output_type": "execute_result"
    }
   ],
   "source": [
    "result.sample(5)"
   ]
  },
  {
   "cell_type": "code",
   "execution_count": 8,
   "metadata": {},
   "outputs": [],
   "source": [
    "\n",
    "osm_id = 368287\n",
    "date = \"2020-12-31T00:00:00Z\"\n",
    "network_type='drive'\n",
    "\n",
    "G = HistGeoDataGetter.query_year_from_osm_id(osm_id=osm_id, date=date, network_type=network_type)"
   ]
  },
  {
   "cell_type": "code",
   "execution_count": 10,
   "metadata": {},
   "outputs": [
    {
     "name": "stdout",
     "output_type": "stream",
     "text": [
      "Number of edges: 2480\n",
      "Number of nodes: 1229\n"
     ]
    }
   ],
   "source": [
    "print(f\"Number of edges: {G.number_of_edges()}\")\n",
    "print(f\"Number of nodes: {G.number_of_nodes()}\")"
   ]
  }
 ],
 "metadata": {
  "kernelspec": {
   "display_name": "nirmapy",
   "language": "python",
   "name": "python3"
  },
  "language_info": {
   "codemirror_mode": {
    "name": "ipython",
    "version": 3
   },
   "file_extension": ".py",
   "mimetype": "text/x-python",
   "name": "python",
   "nbconvert_exporter": "python",
   "pygments_lexer": "ipython3",
   "version": "3.10.9"
  }
 },
 "nbformat": 4,
 "nbformat_minor": 2
}
