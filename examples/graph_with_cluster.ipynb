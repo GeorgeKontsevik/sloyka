{
 "cells": [
  {
   "cell_type": "code",
   "execution_count": 1,
   "metadata": {},
   "outputs": [
    {
     "name": "stdout",
     "output_type": "stream",
     "text": [
      "INFO: Pandarallel will run on -1 workers.\n",
      "INFO: Pandarallel will use standard multiprocessing data transfer (pipe) to transfer data between the main process and workers.\n",
      "\n",
      "WARNING: You are on Windows. If you detect any issue with pandarallel, be sure you checked out the Troubleshooting page:\n",
      "https://nalepae.github.io/pandarallel/troubleshooting/\n"
     ]
    },
    {
     "name": "stderr",
     "output_type": "stream",
     "text": [
      "[nltk_data] Downloading package stopwords to\n",
      "[nltk_data]     C:\\Users\\thebe\\AppData\\Roaming\\nltk_data...\n",
      "[nltk_data]   Package stopwords is already up-to-date!\n"
     ]
    },
    {
     "name": "stdout",
     "output_type": "stream",
     "text": [
      "INFO: Pandarallel will run on -1 workers.\n",
      "INFO: Pandarallel will use standard multiprocessing data transfer (pipe) to transfer data between the main process and workers.\n",
      "\n",
      "WARNING: You are on Windows. If you detect any issue with pandarallel, be sure you checked out the Troubleshooting page:\n",
      "https://nalepae.github.io/pandarallel/troubleshooting/\n"
     ]
    },
    {
     "name": "stderr",
     "output_type": "stream",
     "text": [
      "[nltk_data] Downloading package stopwords to\n",
      "[nltk_data]     C:\\Users\\thebe\\AppData\\Roaming\\nltk_data...\n",
      "[nltk_data]   Package stopwords is already up-to-date!\n"
     ]
    }
   ],
   "source": [
    "import pandas as pd\n",
    "import geopandas as gpd\n",
    "from pathlib import Path\n",
    "import networkx as nx\n",
    "\n",
    "from geocoder import Geocoder\n",
    "from semantic_graph import Semgraph"
   ]
  },
  {
   "cell_type": "code",
   "execution_count": 2,
   "metadata": {},
   "outputs": [
    {
     "name": "stderr",
     "output_type": "stream",
     "text": [
      "Some weights of the model checkpoint at DeepPavlov/rubert-base-cased were not used when initializing BertModel: ['cls.predictions.bias', 'cls.predictions.decoder.bias', 'cls.predictions.decoder.weight', 'cls.predictions.transform.LayerNorm.bias', 'cls.predictions.transform.LayerNorm.weight', 'cls.predictions.transform.dense.bias', 'cls.predictions.transform.dense.weight', 'cls.seq_relationship.bias', 'cls.seq_relationship.weight']\n",
      "- This IS expected if you are initializing BertModel from the checkpoint of a model trained on another task or with another architecture (e.g. initializing a BertForSequenceClassification model from a BertForPreTraining model).\n",
      "- This IS NOT expected if you are initializing BertModel from the checkpoint of a model that you expect to be exactly identical (initializing a BertForSequenceClassification model from a BertForSequenceClassification model).\n"
     ]
    },
    {
     "name": "stdout",
     "output_type": "stream",
     "text": [
      "2024-03-19 11:27:55,671 SequenceTagger predicts: Dictionary with 5 tags: O, S-ADDRESS, B-ADDRESS, E-ADDRESS, I-ADDRESS\n"
     ]
    }
   ],
   "source": [
    "sm = Semgraph(device='cuda')\n",
    "g = Geocoder(device='cuda')"
   ]
  },
  {
   "cell_type": "code",
   "execution_count": 4,
   "metadata": {},
   "outputs": [
    {
     "data": {
      "text/plain": "   Unnamed: 0              date  \\\n0         0.0   17.03.2024 8:57   \n1         1.0   17.03.2024 8:00   \n2         2.0   17.03.2024 4:10   \n3         3.0  16.03.2024 18:50   \n4         4.0  16.03.2024 18:50   \n\n                                                text        id link  \n0                          С прощенным воскресеньем!  581418.0  NaN  \n1  Всем здравствуйте!)👨‍🔧Выполним недорогой и кач...  581416.0  NaN  \n2  Где в приозерске можно купить стекло. Небольшо...  581393.0  NaN  \n3  Не смотри в прошлое с тоской. Оно не вернется....  581375.0  NaN  \n4                                    Хорошего вечера  581374.0  NaN  ",
      "text/html": "<div>\n<style scoped>\n    .dataframe tbody tr th:only-of-type {\n        vertical-align: middle;\n    }\n\n    .dataframe tbody tr th {\n        vertical-align: top;\n    }\n\n    .dataframe thead th {\n        text-align: right;\n    }\n</style>\n<table border=\"1\" class=\"dataframe\">\n  <thead>\n    <tr style=\"text-align: right;\">\n      <th></th>\n      <th>Unnamed: 0</th>\n      <th>date</th>\n      <th>text</th>\n      <th>id</th>\n      <th>link</th>\n    </tr>\n  </thead>\n  <tbody>\n    <tr>\n      <th>0</th>\n      <td>0.0</td>\n      <td>17.03.2024 8:57</td>\n      <td>С прощенным воскресеньем!</td>\n      <td>581418.0</td>\n      <td>NaN</td>\n    </tr>\n    <tr>\n      <th>1</th>\n      <td>1.0</td>\n      <td>17.03.2024 8:00</td>\n      <td>Всем здравствуйте!)👨‍🔧Выполним недорогой и кач...</td>\n      <td>581416.0</td>\n      <td>NaN</td>\n    </tr>\n    <tr>\n      <th>2</th>\n      <td>2.0</td>\n      <td>17.03.2024 4:10</td>\n      <td>Где в приозерске можно купить стекло. Небольшо...</td>\n      <td>581393.0</td>\n      <td>NaN</td>\n    </tr>\n    <tr>\n      <th>3</th>\n      <td>3.0</td>\n      <td>16.03.2024 18:50</td>\n      <td>Не смотри в прошлое с тоской. Оно не вернется....</td>\n      <td>581375.0</td>\n      <td>NaN</td>\n    </tr>\n    <tr>\n      <th>4</th>\n      <td>4.0</td>\n      <td>16.03.2024 18:50</td>\n      <td>Хорошего вечера</td>\n      <td>581374.0</td>\n      <td>NaN</td>\n    </tr>\n  </tbody>\n</table>\n</div>"
     },
     "execution_count": 4,
     "metadata": {},
     "output_type": "execute_result"
    }
   ],
   "source": [
    "directory = \"C:\\\\Users\\\\thebe\\\\Downloads\\\\Выборг, Гатчина, Приозерск и Всеволожск\"\n",
    "path_list = Path(directory).glob('*.csv')\n",
    "\n",
    "df = pd.DataFrame()\n",
    "\n",
    "for path in path_list:\n",
    "\n",
    "    tmp_df = pd.read_csv(path, encoding='utf-8', delimiter=';')\n",
    "    df = pd.concat([df, tmp_df])\n",
    "\n",
    "df.head()"
   ]
  },
  {
   "cell_type": "code",
   "execution_count": 5,
   "outputs": [
    {
     "data": {
      "text/plain": "62518"
     },
     "execution_count": 5,
     "metadata": {},
     "output_type": "execute_result"
    }
   ],
   "source": [
    "len(df)"
   ],
   "metadata": {
    "collapsed": false
   }
  },
  {
   "cell_type": "code",
   "execution_count": 6,
   "metadata": {},
   "outputs": [
    {
     "name": "stderr",
     "output_type": "stream",
     "text": [
      "\u001B[32m2024-03-18 19:31:40.135\u001B[0m | \u001B[1mINFO    \u001B[0m | \u001B[36mgeocoder\u001B[0m:\u001B[36mclear_names\u001B[0m:\u001B[36m256\u001B[0m - \u001B[1mclear_names started\u001B[0m\n",
      "\u001B[32m2024-03-18 19:31:40.154\u001B[0m | \u001B[1mINFO    \u001B[0m | \u001B[36mgeocoder\u001B[0m:\u001B[36mget_street\u001B[0m:\u001B[36m597\u001B[0m - \u001B[1mget_street started\u001B[0m\n",
      "\u001B[32m2024-03-18 19:31:40.162\u001B[0m | \u001B[1mINFO    \u001B[0m | \u001B[36mgeocoder\u001B[0m:\u001B[36mget_street\u001B[0m:\u001B[36m602\u001B[0m - \u001B[1mextract_ner_street started\u001B[0m\n",
      " 18%|█▊        | 11547/62518 [02:11<10:00, 84.85it/s] "
     ]
    },
    {
     "name": "stdout",
     "output_type": "stream",
     "text": [
      "2024-03-18 19:33:51,829 Warning: An empty Sentence was created! Are there empty strings in your dataset?\n"
     ]
    },
    {
     "name": "stderr",
     "output_type": "stream",
     "text": [
      " 19%|█▉        | 11728/62518 [02:13<08:18, 101.97it/s]"
     ]
    },
    {
     "name": "stdout",
     "output_type": "stream",
     "text": [
      "2024-03-18 19:33:53,746 Warning: An empty Sentence was created! Are there empty strings in your dataset?\n"
     ]
    },
    {
     "name": "stderr",
     "output_type": "stream",
     "text": [
      " 40%|███▉      | 24739/62518 [04:31<05:40, 110.95it/s]"
     ]
    },
    {
     "name": "stdout",
     "output_type": "stream",
     "text": [
      "2024-03-18 19:36:11,998 Warning: An empty Sentence was created! Are there empty strings in your dataset?\n"
     ]
    },
    {
     "name": "stderr",
     "output_type": "stream",
     "text": [
      " 54%|█████▍    | 33895/62518 [06:05<04:47, 99.42it/s] "
     ]
    },
    {
     "name": "stdout",
     "output_type": "stream",
     "text": [
      "2024-03-18 19:37:46,022 Warning: An empty Sentence was created! Are there empty strings in your dataset?\n"
     ]
    },
    {
     "name": "stderr",
     "output_type": "stream",
     "text": [
      " 54%|█████▍    | 34060/62518 [06:07<06:50, 69.38it/s] "
     ]
    },
    {
     "name": "stdout",
     "output_type": "stream",
     "text": [
      "2024-03-18 19:37:47,699 Warning: An empty Sentence was created! Are there empty strings in your dataset?\n"
     ]
    },
    {
     "name": "stderr",
     "output_type": "stream",
     "text": [
      " 57%|█████▋    | 35488/62518 [06:21<04:40, 96.34it/s] "
     ]
    },
    {
     "name": "stdout",
     "output_type": "stream",
     "text": [
      "2024-03-18 19:38:01,373 Warning: An empty Sentence was created! Are there empty strings in your dataset?\n"
     ]
    },
    {
     "name": "stderr",
     "output_type": "stream",
     "text": [
      " 61%|██████    | 37914/62518 [06:46<04:34, 89.74it/s] "
     ]
    },
    {
     "name": "stdout",
     "output_type": "stream",
     "text": [
      "2024-03-18 19:38:26,995 Warning: An empty Sentence was created! Are there empty strings in your dataset?\n"
     ]
    },
    {
     "name": "stderr",
     "output_type": "stream",
     "text": [
      " 80%|███████▉  | 49709/62518 [08:29<01:42, 124.51it/s]"
     ]
    },
    {
     "name": "stdout",
     "output_type": "stream",
     "text": [
      "2024-03-18 19:40:09,615 Warning: An empty Sentence was created! Are there empty strings in your dataset?\n"
     ]
    },
    {
     "name": "stderr",
     "output_type": "stream",
     "text": [
      " 86%|████████▋ | 54043/62518 [09:07<03:37, 38.97it/s] "
     ]
    },
    {
     "name": "stdout",
     "output_type": "stream",
     "text": [
      "2024-03-18 19:40:47,885 Warning: An empty Sentence was created! Are there empty strings in your dataset?\n"
     ]
    },
    {
     "name": "stderr",
     "output_type": "stream",
     "text": [
      "100%|██████████| 62518/62518 [11:17<00:00, 92.28it/s] \n",
      "100%|██████████| 62518/62518 [11:43<00:00, 88.92it/s] \n",
      "\u001B[32m2024-03-18 19:54:40.729\u001B[0m | \u001B[1mINFO    \u001B[0m | \u001B[36mgeocoder\u001B[0m:\u001B[36mget_street\u001B[0m:\u001B[36m617\u001B[0m - \u001B[1mpattern1.sub started\u001B[0m\n",
      "100%|██████████| 35034/35034 [00:00<00:00, 480051.38it/s]\n",
      "\u001B[32m2024-03-18 19:54:40.805\u001B[0m | \u001B[1mINFO    \u001B[0m | \u001B[36mgeocoder\u001B[0m:\u001B[36mget_street\u001B[0m:\u001B[36m622\u001B[0m - \u001B[1mpattern2.findall started\u001B[0m\n",
      "100%|██████████| 35034/35034 [00:00<00:00, 899235.94it/s]\n",
      "\u001B[32m2024-03-18 19:54:40.847\u001B[0m | \u001B[1mINFO    \u001B[0m | \u001B[36mgeocoder\u001B[0m:\u001B[36mget_street\u001B[0m:\u001B[36m630\u001B[0m - \u001B[1mpattern2.sub started\u001B[0m\n",
      "100%|██████████| 35034/35034 [00:00<00:00, 814735.48it/s]\n",
      "\u001B[32m2024-03-18 19:54:40.904\u001B[0m | \u001B[1mINFO    \u001B[0m | \u001B[36mgeocoder\u001B[0m:\u001B[36mget_street\u001B[0m:\u001B[36m639\u001B[0m - \u001B[1mextract_building_num started\u001B[0m\n",
      "100%|██████████| 35034/35034 [00:01<00:00, 17776.47it/s]\n",
      "\u001B[32m2024-03-18 19:54:42.878\u001B[0m | \u001B[1mINFO    \u001B[0m | \u001B[36mgeocoder\u001B[0m:\u001B[36mget_street\u001B[0m:\u001B[36m648\u001B[0m - \u001B[1mextract_toponym started\u001B[0m\n",
      "100%|██████████| 35034/35034 [00:22<00:00, 1528.17it/s]\n",
      "\u001B[32m2024-03-18 19:55:05.807\u001B[0m | \u001B[1mINFO    \u001B[0m | \u001B[36mgeocoder\u001B[0m:\u001B[36mget_stem\u001B[0m:\u001B[36m473\u001B[0m - \u001B[1mget_stem started\u001B[0m\n",
      "\u001B[32m2024-03-18 19:57:21.180\u001B[0m | \u001B[1mINFO    \u001B[0m | \u001B[36mgeocoder\u001B[0m:\u001B[36mcreate_gdf\u001B[0m:\u001B[36m663\u001B[0m - \u001B[1mcreate_gdf started\u001B[0m\n",
      "100%|██████████| 2226294/2226294 [13:22<00:00, 2773.61it/s] \n"
     ]
    },
    {
     "data": {
      "text/plain": "2203461"
     },
     "execution_count": 6,
     "metadata": {},
     "output_type": "execute_result"
    }
   ],
   "source": [
    "geocoded_df = g.run(df, 'text')\n",
    "len(geocoded_df)"
   ]
  },
  {
   "cell_type": "code",
   "execution_count": 3,
   "outputs": [
    {
     "data": {
      "text/plain": "   Unnamed: 0             date                                          text  \\\n0         8.0  16.03.2024 4:17  Сколько стоит в Приозерске осветление волос?   \n1         8.0  16.03.2024 4:17  Сколько стоит в Приозерске осветление волос?   \n2         8.0  16.03.2024 4:17  Сколько стоит в Приозерске осветление волос?   \n3         8.0  16.03.2024 4:17  Сколько стоит в Приозерске осветление волос?   \n4         8.0  16.03.2024 4:17  Сколько стоит в Приозерске осветление волос?   \n\n         id  link      Street  Score Numbers initial_street Toponims  \\\n0  581206.0  None  приозерске    NaN             Приозерске     None   \n1  581206.0  None  приозерске    NaN             Приозерске     None   \n2  581206.0  None  приозерске    NaN             Приозерске     None   \n3  581206.0  None  приозерске    NaN             Приозерске     None   \n4  581206.0  None  приозерске    NaN             Приозерске     None   \n\n                            full_street_name  \\\n0  Приозерское шоссе  Санкт-Петербург Россия   \n1  Приозерское шоссе  Санкт-Петербург Россия   \n2  Приозерское шоссе  Санкт-Петербург Россия   \n3  Приозерское шоссе  Санкт-Петербург Россия   \n4  Приозерское шоссе  Санкт-Петербург Россия   \n\n                                location_options  \\\n0  ['Приозерское шоссе  Санкт-Петербург Россия']   \n1  ['Приозерское шоссе  Санкт-Петербург Россия']   \n2  ['Приозерское шоссе  Санкт-Петербург Россия']   \n3  ['Приозерское шоссе  Санкт-Петербург Россия']   \n4  ['Приозерское шоссе  Санкт-Петербург Россия']   \n\n                             addr_to_geocode only_full_street_name  \\\n0  Приозерское шоссе  Санкт-Петербург Россия     Приозерское шоссе   \n1  Приозерское шоссе  Санкт-Петербург Россия     Приозерское шоссе   \n2  Приозерское шоссе  Санкт-Петербург Россия     Приозерское шоссе   \n3  Приозерское шоссе  Санкт-Петербург Россия     Приозерское шоссе   \n4  Приозерское шоссе  Санкт-Петербург Россия     Приозерское шоссе   \n\n                                            Location  \\\n0  Приозерское шоссе, Осиновая Роща, Парголово, С...   \n1  Приозерское шоссе, Осиновая Роща, Парголово, С...   \n2  Приозерское шоссе, Осиновая Роща, Парголово, С...   \n3  Приозерское шоссе, Осиновая Роща, Парголово, С...   \n4  Приозерское шоссе, Осиновая Роща, Парголово, С...   \n\n                    geometry  \n0  POINT (30.25447 60.10987)  \n1  POINT (30.25447 60.10987)  \n2  POINT (30.25447 60.10987)  \n3  POINT (30.25447 60.10987)  \n4  POINT (30.25447 60.10987)  ",
      "text/html": "<div>\n<style scoped>\n    .dataframe tbody tr th:only-of-type {\n        vertical-align: middle;\n    }\n\n    .dataframe tbody tr th {\n        vertical-align: top;\n    }\n\n    .dataframe thead th {\n        text-align: right;\n    }\n</style>\n<table border=\"1\" class=\"dataframe\">\n  <thead>\n    <tr style=\"text-align: right;\">\n      <th></th>\n      <th>Unnamed: 0</th>\n      <th>date</th>\n      <th>text</th>\n      <th>id</th>\n      <th>link</th>\n      <th>Street</th>\n      <th>Score</th>\n      <th>Numbers</th>\n      <th>initial_street</th>\n      <th>Toponims</th>\n      <th>full_street_name</th>\n      <th>location_options</th>\n      <th>addr_to_geocode</th>\n      <th>only_full_street_name</th>\n      <th>Location</th>\n      <th>geometry</th>\n    </tr>\n  </thead>\n  <tbody>\n    <tr>\n      <th>0</th>\n      <td>8.0</td>\n      <td>16.03.2024 4:17</td>\n      <td>Сколько стоит в Приозерске осветление волос?</td>\n      <td>581206.0</td>\n      <td>None</td>\n      <td>приозерске</td>\n      <td>NaN</td>\n      <td></td>\n      <td>Приозерске</td>\n      <td>None</td>\n      <td>Приозерское шоссе  Санкт-Петербург Россия</td>\n      <td>['Приозерское шоссе  Санкт-Петербург Россия']</td>\n      <td>Приозерское шоссе  Санкт-Петербург Россия</td>\n      <td>Приозерское шоссе</td>\n      <td>Приозерское шоссе, Осиновая Роща, Парголово, С...</td>\n      <td>POINT (30.25447 60.10987)</td>\n    </tr>\n    <tr>\n      <th>1</th>\n      <td>8.0</td>\n      <td>16.03.2024 4:17</td>\n      <td>Сколько стоит в Приозерске осветление волос?</td>\n      <td>581206.0</td>\n      <td>None</td>\n      <td>приозерске</td>\n      <td>NaN</td>\n      <td></td>\n      <td>Приозерске</td>\n      <td>None</td>\n      <td>Приозерское шоссе  Санкт-Петербург Россия</td>\n      <td>['Приозерское шоссе  Санкт-Петербург Россия']</td>\n      <td>Приозерское шоссе  Санкт-Петербург Россия</td>\n      <td>Приозерское шоссе</td>\n      <td>Приозерское шоссе, Осиновая Роща, Парголово, С...</td>\n      <td>POINT (30.25447 60.10987)</td>\n    </tr>\n    <tr>\n      <th>2</th>\n      <td>8.0</td>\n      <td>16.03.2024 4:17</td>\n      <td>Сколько стоит в Приозерске осветление волос?</td>\n      <td>581206.0</td>\n      <td>None</td>\n      <td>приозерске</td>\n      <td>NaN</td>\n      <td></td>\n      <td>Приозерске</td>\n      <td>None</td>\n      <td>Приозерское шоссе  Санкт-Петербург Россия</td>\n      <td>['Приозерское шоссе  Санкт-Петербург Россия']</td>\n      <td>Приозерское шоссе  Санкт-Петербург Россия</td>\n      <td>Приозерское шоссе</td>\n      <td>Приозерское шоссе, Осиновая Роща, Парголово, С...</td>\n      <td>POINT (30.25447 60.10987)</td>\n    </tr>\n    <tr>\n      <th>3</th>\n      <td>8.0</td>\n      <td>16.03.2024 4:17</td>\n      <td>Сколько стоит в Приозерске осветление волос?</td>\n      <td>581206.0</td>\n      <td>None</td>\n      <td>приозерске</td>\n      <td>NaN</td>\n      <td></td>\n      <td>Приозерске</td>\n      <td>None</td>\n      <td>Приозерское шоссе  Санкт-Петербург Россия</td>\n      <td>['Приозерское шоссе  Санкт-Петербург Россия']</td>\n      <td>Приозерское шоссе  Санкт-Петербург Россия</td>\n      <td>Приозерское шоссе</td>\n      <td>Приозерское шоссе, Осиновая Роща, Парголово, С...</td>\n      <td>POINT (30.25447 60.10987)</td>\n    </tr>\n    <tr>\n      <th>4</th>\n      <td>8.0</td>\n      <td>16.03.2024 4:17</td>\n      <td>Сколько стоит в Приозерске осветление волос?</td>\n      <td>581206.0</td>\n      <td>None</td>\n      <td>приозерске</td>\n      <td>NaN</td>\n      <td></td>\n      <td>Приозерске</td>\n      <td>None</td>\n      <td>Приозерское шоссе  Санкт-Петербург Россия</td>\n      <td>['Приозерское шоссе  Санкт-Петербург Россия']</td>\n      <td>Приозерское шоссе  Санкт-Петербург Россия</td>\n      <td>Приозерское шоссе</td>\n      <td>Приозерское шоссе, Осиновая Роща, Парголово, С...</td>\n      <td>POINT (30.25447 60.10987)</td>\n    </tr>\n  </tbody>\n</table>\n</div>"
     },
     "execution_count": 3,
     "metadata": {},
     "output_type": "execute_result"
    }
   ],
   "source": [
    "gdf = gpd.read_feather(\"C:\\\\Users\\\\thebe\\\\OneDrive - ITMO UNIVERSITY\\\\НИРМА\\\\Data\\\\processed\\\\vyborg_co_geocoded.feather\")\n",
    "gdf.head()"
   ],
   "metadata": {
    "collapsed": false
   }
  },
  {
   "cell_type": "code",
   "execution_count": 18,
   "outputs": [
    {
     "data": {
      "text/plain": "30.2544702"
     },
     "execution_count": 18,
     "metadata": {},
     "output_type": "execute_result"
    }
   ],
   "source": [
    "coords = gdf.geometry.iloc[0]\n",
    "coords.x"
   ],
   "metadata": {
    "collapsed": false
   }
  },
  {
   "cell_type": "code",
   "execution_count": 4,
   "metadata": {},
   "outputs": [
    {
     "name": "stdout",
     "output_type": "stream",
     "text": [
      "Clustering data...\n"
     ]
    },
    {
     "name": "stderr",
     "output_type": "stream",
     "text": [
      "  0%|          | 0/376 [00:00<?, ?it/s]No sentence-transformers model found with name DeepPavlov/rubert-base-cased. Creating a new one with MEAN pooling.\n",
      "100%|██████████| 376/376 [08:45<00:00,  1.40s/it]\n"
     ]
    },
    {
     "name": "stdout",
     "output_type": "stream",
     "text": [
      "Extracting keywords\n"
     ]
    },
    {
     "name": "stderr",
     "output_type": "stream",
     "text": [
      "100%|██████████| 621/621 [06:38<00:00,  1.56it/s]\n"
     ]
    },
    {
     "name": "stdout",
     "output_type": "stream",
     "text": [
      "Calculating semantic closeness\n"
     ]
    },
    {
     "name": "stderr",
     "output_type": "stream",
     "text": [
      "100%|██████████| 113050/113050 [29:28<00:00, 63.93it/s]\n"
     ]
    }
   ],
   "source": [
    "G = sm.build_semantic_graph(gdf,\n",
    "                            'text',\n",
    "                            'only_full_street_name',\n",
    "                            'initial_street',\n",
    "                            'Toponims',\n",
    "                            'Location',\n",
    "                            'geometry',\n",
    "                            key_score_filter=0.57,\n",
    "                            semantic_score_filter=0.75)"
   ]
  },
  {
   "cell_type": "code",
   "execution_count": 5,
   "outputs": [
    {
     "data": {
      "text/plain": "{'tag': 'TOPONIM',\n 'Location': 'проспект Героев, Южно-Приморский округ, Санкт-Петербург, Северо-Западный федеральный округ, 198335, Россия',\n 'Lat': 30.1647577,\n 'Lon': 59.864655}"
     },
     "execution_count": 5,
     "metadata": {},
     "output_type": "execute_result"
    }
   ],
   "source": [
    "G.nodes['улица Героев']"
   ],
   "metadata": {
    "collapsed": false
   }
  },
  {
   "cell_type": "code",
   "execution_count": 6,
   "metadata": {},
   "outputs": [],
   "source": [
    "nx.write_graphml(G, 'vuborg_and_co_graph_0.03.graphml', encoding='utf-8')"
   ]
  },
  {
   "cell_type": "code",
   "execution_count": 7,
   "outputs": [],
   "source": [
    "from pyvis.network import Network\n",
    "\n",
    "nt = Network('1000px', '1000px')\n",
    "nt.show_buttons(filter_=['physics'])\n",
    "nt.from_nx(G)\n",
    "\n",
    "nt.write_html('vuborg_and_co_graph.html')"
   ],
   "metadata": {
    "collapsed": false
   }
  },
  {
   "cell_type": "code",
   "execution_count": 16,
   "outputs": [
    {
     "data": {
      "text/plain": "['улица Димитрова',\n 'затопить',\n 'макароны',\n 'водяной',\n 'выставка',\n 'галерея',\n 'выставочный',\n 'художница',\n 'Дачная улица',\n 'собака',\n 'улица Лебедева',\n 'лесопосадка',\n 'Псковская улица',\n 'пехота',\n 'десантник',\n 'полка',\n 'батальон',\n 'боевик',\n 'Петровский переулок',\n 'пёс',\n 'Центральная улица',\n 'путин',\n 'россия',\n 'улица Коробицына',\n 'светогорск',\n 'конкурс',\n 'ленинградский',\n 'Каменный проспект',\n 'проголосовать',\n 'голосование',\n 'избиратель',\n 'бюллетень',\n 'Крепостной переулок',\n 'улица',\n 'пешеходный',\n 'московский',\n 'перекрёсток',\n 'Садовая улица',\n 'радовать',\n 'порадовать',\n 'являться',\n 'Суворовский проспект',\n 'вакцинация',\n 'Уральская улица',\n 'новобрачный',\n 'брак',\n 'улица Пушкина',\n 'фестиваль',\n 'мероприятие',\n 'соревнование',\n 'чемпионат',\n 'Павловский проспект',\n 'мост',\n 'путепровод Нева',\n 'подарок',\n 'Горская улица',\n 'облачность',\n 'атмосферный',\n 'набережная Кутузова',\n 'российский',\n 'тюльпан',\n 'букет',\n 'Малиновская улица',\n 'светильник',\n 'Майская улица',\n 'жильё',\n 'квартира',\n 'жилищный',\n 'Школьный переулок',\n 'здравоохранение',\n 'пациент',\n 'медицинский',\n 'Кузьминское шоссе',\n 'беременный',\n 'Советский бульвар',\n 'дзюдо',\n 'фильм',\n 'военный',\n 'всероссийский',\n 'Аэродромная улица',\n 'финляндия',\n 'Вересковая улица',\n 'Павловское шоссе',\n 'Первомайская улица',\n 'импровизация',\n 'Зеленогорское шоссе',\n 'поэт',\n 'Офицерская улица',\n 'зафиксировать',\n 'сообщаться',\n 'вестись',\n 'обращаться',\n 'выступить',\n 'Приморская улица',\n 'женщина',\n 'женский',\n 'жена',\n 'тротуар',\n 'снежный',\n 'проспект',\n 'погодный',\n 'снег',\n 'шторм',\n 'улица Свердлова',\n 'преподаватель',\n 'учитель',\n 'воспитание',\n 'образование',\n 'школа',\n 'набережная реки Сестры',\n 'русский',\n 'Транспортная улица',\n 'водыгубернатор',\n 'Петровская площадь',\n 'дорожный',\n 'транспортный',\n 'водитель',\n 'депутат',\n 'площадь Культуры',\n 'выборы',\n 'голосовать',\n 'Школьная улица',\n 'отреставрировать',\n 'улица Суворова',\n 'дзюдоист',\n 'улица Некрасова',\n 'кот',\n 'котик',\n 'россиянин',\n 'Привокзальная улица',\n 'доброволец',\n 'волонтёр',\n 'улица Володарского',\n 'благотворительный',\n 'Швейцарская улица',\n 'овчарка',\n 'убежать',\n 'Лазаревский переулок',\n 'Выборгский переулок',\n 'музей',\n 'музейный',\n 'архив',\n 'сквер',\n 'площадь',\n 'посёлок',\n 'двор',\n 'Центральная аллея',\n 'вертолёт',\n 'Выборгская улица',\n 'нарушитель',\n 'пенсионер',\n 'уголовный',\n 'грибник',\n 'гриб',\n 'Железнодорожный переулок',\n 'Черноморский переулок',\n 'поезд',\n 'Московский переулок',\n 'улица Сикейроса',\n 'советский',\n 'Петровская улица',\n 'экспонироваться',\n 'Северная площадь',\n 'Ростовская улица',\n 'православный',\n 'Берёзовая улица',\n 'рыбоперерабатывающий',\n 'флот',\n 'судостроительный',\n 'Первомайский проспект',\n 'сельхозтоваропроизводитель',\n 'сельский',\n 'крестьянин',\n 'агропромышленный',\n 'Молодёжное шоссе',\n 'экспозиция',\n 'Вокзальная улица',\n 'подарочный',\n 'Большой проспект',\n 'палатка',\n 'Кленовая улица',\n 'ярмарка',\n 'площадь Европы',\n 'рождественский',\n 'рождество',\n 'праздник',\n 'новогодний',\n 'Финский переулок',\n 'Комсомольская улица',\n 'взрывной',\n 'взрыв',\n 'бульвар Дружбы',\n 'публиковать',\n 'новгород',\n 'проспект Калинина',\n 'комплимент',\n 'Планерная улица',\n 'работодатель',\n 'Пограничная улица',\n 'дождь',\n 'Новосибирская улица',\n 'заболеваемость',\n 'Травяная улица',\n 'вандализм',\n 'граффитчик',\n 'граффити',\n 'улица Антонова-Овсеенко',\n 'магазин',\n 'Гатчинское шоссе',\n 'погода',\n 'день',\n 'Ленинградское шоссе',\n 'госуслуга',\n 'февраль',\n 'март',\n 'Светогорская улица',\n 'волейбол',\n 'Кленовая аллея',\n 'бригада',\n 'Клубная улица',\n 'собеседник',\n 'красавец',\n 'парень',\n 'близкий',\n 'Набережная улица',\n 'беременность',\n 'беременная',\n 'площадь Мужества',\n 'общероссийский',\n 'Северный мост',\n 'избирательный',\n 'Путейская улица',\n 'пожар',\n 'пламя',\n 'сгореть',\n 'пожарный',\n 'Казанский мост',\n 'реставрация',\n 'восстановление',\n 'Захаров переулок',\n 'поздравительный',\n 'поздравить',\n 'зеленогорск',\n 'переулок Газа',\n 'тариф',\n 'проспект Ленина',\n 'пескоуловитель',\n 'водоканал',\n 'морской',\n 'вокзал',\n 'Певческий переулок',\n 'хоровой',\n 'концерт',\n 'Пионерская улица',\n 'весна',\n 'представитель',\n 'таможенный',\n 'улица Ленина',\n 'преступный',\n 'проспект Пятилеток',\n 'декабрь',\n 'январь',\n 'улица Куйбышева',\n 'кутузов',\n 'улица Каменка',\n 'прихожанин',\n 'Пулковская улица',\n 'Потёмкинская улица',\n 'гуманитарный',\n 'Морская улица',\n 'канализационный',\n 'канализациибольша',\n 'канализация',\n 'Красная улица',\n 'издевательство',\n 'улица Смольного',\n 'охотничий',\n 'охота',\n 'охотник',\n 'Саратовская улица',\n 'железнодорожный',\n 'Красноармейская улица',\n 'ресторанчик',\n 'sushipandavyborgс',\n 'ресторан',\n 'Рубежная улица',\n 'юбилей',\n 'компенсация',\n 'компенсациюнаблюдательный',\n 'выплата',\n 'Ириновский проспект',\n 'градостроительство',\n 'Александровский бульвар',\n 'товарыпогулять',\n 'Колтушский мост',\n 'здание',\n 'Тупиковая улица',\n 'туризм',\n 'Новгородская улица',\n 'виртуальный',\n 'Кузнечная улица',\n 'обвинительный',\n 'проспект Энергетиков',\n 'предпринимательство',\n 'предпринимательский',\n 'предприниматель',\n 'Никольская площадь',\n 'поздравлять',\n 'моряк',\n 'Приозерское шоссе',\n 'рождаемость',\n 'Октябрьская улица',\n 'дорожник',\n 'автодорога',\n 'дорога',\n 'пугачёвский',\n 'Московский проспект',\n 'труп',\n 'Цимлянский переулок',\n 'вино',\n 'винодельческий',\n 'Благодатная улица',\n 'плазменный',\n 'плазма',\n 'Приморский переулок',\n 'земляк',\n 'врач',\n 'доктор',\n 'педиатр',\n 'корреспондент',\n 'мостовый',\n 'Железнодорожная улица',\n 'Театральная улица',\n 'Спортивная улица',\n 'пирог',\n 'Советская улица',\n 'фейерверк',\n 'переулок Володарского',\n 'улица Васильева',\n 'анимационный',\n 'Заречная улица',\n 'Выборгское шоссе',\n 'водоснабжение',\n 'водоочистный',\n 'площадь Победы',\n 'аварийный',\n 'авария',\n 'Карельский мост',\n 'реестр',\n 'клиентоориентированность',\n 'Гвардейская улица']"
     },
     "execution_count": 16,
     "metadata": {},
     "output_type": "execute_result"
    }
   ],
   "source": [
    "list(G.nodes)"
   ],
   "metadata": {
    "collapsed": false
   }
  },
  {
   "cell_type": "code",
   "execution_count": null,
   "metadata": {},
   "outputs": [],
   "source": [
    "clustering_items = [i for i in G.nodes if G.nodes[i].get('tag') != 'TOPONIM']"
   ]
  },
  {
   "cell_type": "code",
   "execution_count": null,
   "metadata": {},
   "outputs": [
    {
     "data": {
      "text/html": [
       "<div>\n",
       "<style scoped>\n",
       "    .dataframe tbody tr th:only-of-type {\n",
       "        vertical-align: middle;\n",
       "    }\n",
       "\n",
       "    .dataframe tbody tr th {\n",
       "        vertical-align: top;\n",
       "    }\n",
       "\n",
       "    .dataframe thead th {\n",
       "        text-align: right;\n",
       "    }\n",
       "</style>\n",
       "<table border=\"1\" class=\"dataframe\">\n",
       "  <thead>\n",
       "    <tr style=\"text-align: right;\">\n",
       "      <th></th>\n",
       "      <th>Topic</th>\n",
       "      <th>Count</th>\n",
       "      <th>Name</th>\n",
       "      <th>Representation</th>\n",
       "      <th>Representative_Docs</th>\n",
       "    </tr>\n",
       "  </thead>\n",
       "  <tbody>\n",
       "    <tr>\n",
       "      <th>0</th>\n",
       "      <td>-1</td>\n",
       "      <td>273</td>\n",
       "      <td>-1__отдать_книга_полицейский_публичный_приглашать</td>\n",
       "      <td>[_отдать_книга, полицейский, публичный, пригла...</td>\n",
       "      <td>[эвакуировалипоток, отравление, эйхенбаум]</td>\n",
       "    </tr>\n",
       "    <tr>\n",
       "      <th>1</th>\n",
       "      <td>0</td>\n",
       "      <td>118</td>\n",
       "      <td>0_proленсоветовский_некрасовский_славянка_москвич</td>\n",
       "      <td>[proленсоветовский, некрасовский, славянка, мо...</td>\n",
       "      <td>[дмитриевич, игоревич, владимир]</td>\n",
       "    </tr>\n",
       "    <tr>\n",
       "      <th>2</th>\n",
       "      <td>1</td>\n",
       "      <td>63</td>\n",
       "      <td>1_ehwqrsmtrgpgmiftэ_олигофрен_футболист_цкк_пу...</td>\n",
       "      <td>[ehwqrsmtrgpgmiftэ, олигофрен, футболист, цкк_...</td>\n",
       "      <td>[белоостров, читайгород, околоколомяжий]</td>\n",
       "    </tr>\n",
       "    <tr>\n",
       "      <th>3</th>\n",
       "      <td>2</td>\n",
       "      <td>54</td>\n",
       "      <td>2_анонсировать_убывающаялун_подвиг_удача</td>\n",
       "      <td>[анонсировать, убывающаялун, подвиг, удача, по...</td>\n",
       "      <td>[согласовать, провести, стать]</td>\n",
       "    </tr>\n",
       "    <tr>\n",
       "      <th>4</th>\n",
       "      <td>3</td>\n",
       "      <td>43</td>\n",
       "      <td>3_всеволожскийрайон_фрунзенскийрайон_грунт_пет...</td>\n",
       "      <td>[всеволожскийрайон, фрунзенскийрайон, грунт, п...</td>\n",
       "      <td>[район, соседство, пригород]</td>\n",
       "    </tr>\n",
       "    <tr>\n",
       "      <th>5</th>\n",
       "      <td>4</td>\n",
       "      <td>36</td>\n",
       "      <td>4_время_час_маршировать_парадное</td>\n",
       "      <td>[время, час, маршировать, парадное, патриотиче...</td>\n",
       "      <td>[годаначало, рождественский, день]</td>\n",
       "    </tr>\n",
       "    <tr>\n",
       "      <th>6</th>\n",
       "      <td>5</td>\n",
       "      <td>35</td>\n",
       "      <td>5_автодора_улицасавушкин_байконурскаяулица_дор...</td>\n",
       "      <td>[автодора, улицасавушкин, байконурскаяулица, д...</td>\n",
       "      <td>[остановкаобещественноготранспорт, зампред, ма...</td>\n",
       "    </tr>\n",
       "    <tr>\n",
       "      <th>7</th>\n",
       "      <td>6</td>\n",
       "      <td>32</td>\n",
       "      <td>6_благодарность_благодарный_удовольствие_счаст...</td>\n",
       "      <td>[благодарность, благодарный, удовольствие, сча...</td>\n",
       "      <td>[уличный, хороший, хотеть]</td>\n",
       "    </tr>\n",
       "    <tr>\n",
       "      <th>8</th>\n",
       "      <td>7</td>\n",
       "      <td>30</td>\n",
       "      <td>7_бежать_взлетать_ходить_уборкакаждыйдеть</td>\n",
       "      <td>[бежать, взлетать, ходить, уборкакаждыйдеть, у...</td>\n",
       "      <td>[понаехать, гулять, проходить]</td>\n",
       "    </tr>\n",
       "    <tr>\n",
       "      <th>9</th>\n",
       "      <td>8</td>\n",
       "      <td>29</td>\n",
       "      <td>8_пассажиравтотранс_авто_транспортировка_трампуть</td>\n",
       "      <td>[пассажиравтотранс, авто, транспортировка, тра...</td>\n",
       "      <td>[автовый, машина, пассажиравтотранс]</td>\n",
       "    </tr>\n",
       "    <tr>\n",
       "      <th>10</th>\n",
       "      <td>9</td>\n",
       "      <td>29</td>\n",
       "      <td>9_метростроевский_автобус_электробус_троллейбус</td>\n",
       "      <td>[метростроевский, автобус, электробус, троллей...</td>\n",
       "      <td>[железнодорожный, вокзал, поезд]</td>\n",
       "    </tr>\n",
       "    <tr>\n",
       "      <th>11</th>\n",
       "      <td>10</td>\n",
       "      <td>28</td>\n",
       "      <td>10_крематорий_кремация_фашистский_убитый</td>\n",
       "      <td>[крематорий, кремация, фашистский, убитый, уби...</td>\n",
       "      <td>[пострадать, потерпевший, захоронение]</td>\n",
       "    </tr>\n",
       "    <tr>\n",
       "      <th>12</th>\n",
       "      <td>11</td>\n",
       "      <td>24</td>\n",
       "      <td>11_намаз_палата_церковьниколаячудотвтоца_церковь</td>\n",
       "      <td>[намаз, палата, церковьниколаячудотвтоца, церк...</td>\n",
       "      <td>[палата, храм, собор]</td>\n",
       "    </tr>\n",
       "    <tr>\n",
       "      <th>13</th>\n",
       "      <td>12</td>\n",
       "      <td>22</td>\n",
       "      <td>12_концертный_мелодия_театрализованный_театр</td>\n",
       "      <td>[концертный, мелодия, театрализованный, театр,...</td>\n",
       "      <td>[концертный, музыка, голливуд]</td>\n",
       "    </tr>\n",
       "    <tr>\n",
       "      <th>14</th>\n",
       "      <td>13</td>\n",
       "      <td>21</td>\n",
       "      <td>13_водоём_гидропривод_река_проток</td>\n",
       "      <td>[водоём, гидропривод, река, проток, промочить,...</td>\n",
       "      <td>[потоп, водоём, акватория]</td>\n",
       "    </tr>\n",
       "    <tr>\n",
       "      <th>15</th>\n",
       "      <td>14</td>\n",
       "      <td>21</td>\n",
       "      <td>14_лекторий_маленький_школьник_школа</td>\n",
       "      <td>[лекторий, маленький, школьник, школа, учитель...</td>\n",
       "      <td>[ребёнок, малышок, новорождённый]</td>\n",
       "    </tr>\n",
       "    <tr>\n",
       "      <th>16</th>\n",
       "      <td>15</td>\n",
       "      <td>20</td>\n",
       "      <td>15_доход_задолженность_цена_супермаркет</td>\n",
       "      <td>[доход, задолженность, цена, супермаркет, поку...</td>\n",
       "      <td>[купец, бюджет, плата]</td>\n",
       "    </tr>\n",
       "    <tr>\n",
       "      <th>17</th>\n",
       "      <td>16</td>\n",
       "      <td>20</td>\n",
       "      <td>16_облачный_отопление_шторм_циклонтино</td>\n",
       "      <td>[облачный, отопление, шторм, циклонтино, цикло...</td>\n",
       "      <td>[застылый, отопление, туманность]</td>\n",
       "    </tr>\n",
       "    <tr>\n",
       "      <th>18</th>\n",
       "      <td>17</td>\n",
       "      <td>20</td>\n",
       "      <td>17_догхантеры_овчарка_собачкусрочный_собачка</td>\n",
       "      <td>[догхантеры, овчарка, собачкусрочный, собачка,...</td>\n",
       "      <td>[овчарка, ветеринарный, собаководчица]</td>\n",
       "    </tr>\n",
       "    <tr>\n",
       "      <th>19</th>\n",
       "      <td>18</td>\n",
       "      <td>20</td>\n",
       "      <td>18_городовой_городок_столичный_мэр</td>\n",
       "      <td>[городовой, городок, столичный, мэр, муниципал...</td>\n",
       "      <td>[столичный, градостроительство, городбазар]</td>\n",
       "    </tr>\n",
       "    <tr>\n",
       "      <th>20</th>\n",
       "      <td>19</td>\n",
       "      <td>20</td>\n",
       "      <td>19_московскийвокзал_новороссия_сталинградский_...</td>\n",
       "      <td>[московскийвокзал, новороссия, сталинградский,...</td>\n",
       "      <td>[путин, россиянин, всероссийский]</td>\n",
       "    </tr>\n",
       "    <tr>\n",
       "      <th>21</th>\n",
       "      <td>20</td>\n",
       "      <td>20</td>\n",
       "      <td>20_аэропорт_аэропортный_электроснабжение_элект...</td>\n",
       "      <td>[аэропорт, аэропортный, электроснабжение, элек...</td>\n",
       "      <td>[аэропортный, дрон, авиация]</td>\n",
       "    </tr>\n",
       "    <tr>\n",
       "      <th>22</th>\n",
       "      <td>21</td>\n",
       "      <td>19</td>\n",
       "      <td>21_зимят_ледяной_холодное_холодапогода</td>\n",
       "      <td>[зимят, ледяной, холодное, холодапогода, снежн...</td>\n",
       "      <td>[снегоочистка, снегофоб, зимний]</td>\n",
       "    </tr>\n",
       "    <tr>\n",
       "      <th>23</th>\n",
       "      <td>22</td>\n",
       "      <td>19</td>\n",
       "      <td>22_заработный_кабинет_трудоустройство_сотрудник</td>\n",
       "      <td>[заработный, кабинет, трудоустройство, сотрудн...</td>\n",
       "      <td>[работодатель, ведомство, почта]</td>\n",
       "    </tr>\n",
       "    <tr>\n",
       "      <th>24</th>\n",
       "      <td>23</td>\n",
       "      <td>19</td>\n",
       "      <td>23_здание_изобретение_фасад_стройплощадка</td>\n",
       "      <td>[здание, изобретение, фасад, стройплощадка, ст...</td>\n",
       "      <td>[архитектурный, инфраструктура, подрядчик]</td>\n",
       "    </tr>\n",
       "    <tr>\n",
       "      <th>25</th>\n",
       "      <td>24</td>\n",
       "      <td>18</td>\n",
       "      <td>24_деревце_озеленитель_цветущийприморский_цвет...</td>\n",
       "      <td>[деревце, озеленитель, цветущийприморский, цве...</td>\n",
       "      <td>[цветок, растение, тюльпан]</td>\n",
       "    </tr>\n",
       "    <tr>\n",
       "      <th>26</th>\n",
       "      <td>25</td>\n",
       "      <td>18</td>\n",
       "      <td>25_затмение_космический_сияние_светофорный</td>\n",
       "      <td>[затмение, космический, сияние, светофорный, с...</td>\n",
       "      <td>[космический, затмение, светофорный]</td>\n",
       "    </tr>\n",
       "    <tr>\n",
       "      <th>27</th>\n",
       "      <td>26</td>\n",
       "      <td>18</td>\n",
       "      <td>26_борт_корабельный_флотский_флотоводческий</td>\n",
       "      <td>[борт, корабельный, флотский, флотоводческий, ...</td>\n",
       "      <td>[судный, морзаводовец, флотоводческий]</td>\n",
       "    </tr>\n",
       "    <tr>\n",
       "      <th>28</th>\n",
       "      <td>27</td>\n",
       "      <td>18</td>\n",
       "      <td>27_больница_госпитализация_психиатор_поликлиника</td>\n",
       "      <td>[больница, госпитализация, психиатор, поликлин...</td>\n",
       "      <td>[эхокардиография, массаж, больница]</td>\n",
       "    </tr>\n",
       "    <tr>\n",
       "      <th>29</th>\n",
       "      <td>28</td>\n",
       "      <td>17</td>\n",
       "      <td>28_залив_кайтсёрфингист_рыбалка_спб_приморский...</td>\n",
       "      <td>[залив, кайтсёрфингист, рыбалка_спб, приморски...</td>\n",
       "      <td>[берег, приморскийрайон, морской]</td>\n",
       "    </tr>\n",
       "    <tr>\n",
       "      <th>30</th>\n",
       "      <td>29</td>\n",
       "      <td>16</td>\n",
       "      <td>29_баскетбольный_игрок_фитнесвыборгский_физкул...</td>\n",
       "      <td>[баскетбольный, игрок, фитнесвыборгский, физку...</td>\n",
       "      <td>[стадион, спортнормажизнь, баскетбол]</td>\n",
       "    </tr>\n",
       "    <tr>\n",
       "      <th>31</th>\n",
       "      <td>30</td>\n",
       "      <td>16</td>\n",
       "      <td>30_горький_дрозд_шипеть_чёрт</td>\n",
       "      <td>[горький, дрозд, шипеть, чёрт, умолк, свистнут...</td>\n",
       "      <td>[шум, заглушка, наткнуться]</td>\n",
       "    </tr>\n",
       "    <tr>\n",
       "      <th>32</th>\n",
       "      <td>31</td>\n",
       "      <td>15</td>\n",
       "      <td>31_ворон_ворона_сова_птичкихичкокк</td>\n",
       "      <td>[ворон, ворона, сова, птичкихичкокк, птичка, п...</td>\n",
       "      <td>[ворона, чайка, попугайчик]</td>\n",
       "    </tr>\n",
       "    <tr>\n",
       "      <th>33</th>\n",
       "      <td>32</td>\n",
       "      <td>14</td>\n",
       "      <td>32_щенячий_щенкисостоянки_ищутдом_стадо_собачник</td>\n",
       "      <td>[щенячий, щенкисостоянки_ищутдом, стадо, собач...</td>\n",
       "      <td>[потеряласьовчарка, щенкисостоянки_ищутдом, со...</td>\n",
       "    </tr>\n",
       "    <tr>\n",
       "      <th>34</th>\n",
       "      <td>33</td>\n",
       "      <td>14</td>\n",
       "      <td>33_штрафовать_штраф_уголовный_приговорить</td>\n",
       "      <td>[штрафовать, штраф, уголовный, приговорить, пр...</td>\n",
       "      <td>[преступление, наказание, арест]</td>\n",
       "    </tr>\n",
       "    <tr>\n",
       "      <th>35</th>\n",
       "      <td>34</td>\n",
       "      <td>14</td>\n",
       "      <td>34_художница_художник_художественный_фигурка</td>\n",
       "      <td>[художница, художник, художественный, фигурка,...</td>\n",
       "      <td>[мода, живописец, деревняхудожник]</td>\n",
       "    </tr>\n",
       "    <tr>\n",
       "      <th>36</th>\n",
       "      <td>35</td>\n",
       "      <td>13</td>\n",
       "      <td>35_фотохудожник_фотомузыкальный_фотография_фот...</td>\n",
       "      <td>[фотохудожник, фотомузыкальный, фотография, фо...</td>\n",
       "      <td>[панорама, фотография, сфотографировать]</td>\n",
       "    </tr>\n",
       "    <tr>\n",
       "      <th>37</th>\n",
       "      <td>36</td>\n",
       "      <td>13</td>\n",
       "      <td>36_разбойник_похитить_похитительница_ограбление</td>\n",
       "      <td>[разбойник, похитить, похитительница, ограблен...</td>\n",
       "      <td>[вор, грабёж, похитительница]</td>\n",
       "    </tr>\n",
       "    <tr>\n",
       "      <th>38</th>\n",
       "      <td>37</td>\n",
       "      <td>12</td>\n",
       "      <td>37_фейерверк_сжигать_пожароопасный_пожарный</td>\n",
       "      <td>[фейерверк, сжигать, пожароопасный, пожарный, ...</td>\n",
       "      <td>[огонь, пожарный, пожароопасный]</td>\n",
       "    </tr>\n",
       "    <tr>\n",
       "      <th>39</th>\n",
       "      <td>38</td>\n",
       "      <td>12</td>\n",
       "      <td>38_припарковаться_перепарковываться_перепарков...</td>\n",
       "      <td>[припарковаться, перепарковываться, перепарков...</td>\n",
       "      <td>[припарковаться, парковка, парковкас]</td>\n",
       "    </tr>\n",
       "    <tr>\n",
       "      <th>40</th>\n",
       "      <td>39</td>\n",
       "      <td>12</td>\n",
       "      <td>39_кошкино_кошкамочь_кошка_кошечка</td>\n",
       "      <td>[кошкино, кошкамочь, кошка, кошечка, кошекправ...</td>\n",
       "      <td>[кошкино, котёночек, котик]</td>\n",
       "    </tr>\n",
       "    <tr>\n",
       "      <th>41</th>\n",
       "      <td>40</td>\n",
       "      <td>11</td>\n",
       "      <td>40_экспонат_музейспб_музейный_музей</td>\n",
       "      <td>[экспонат, музейспб, музейный, музей, галерея,...</td>\n",
       "      <td>[выставка, археология, артефакт]</td>\n",
       "    </tr>\n",
       "  </tbody>\n",
       "</table>\n",
       "</div>"
      ],
      "text/plain": [
       "    Topic  Count                                               Name  \\\n",
       "0      -1    273  -1__отдать_книга_полицейский_публичный_приглашать   \n",
       "1       0    118  0_proленсоветовский_некрасовский_славянка_москвич   \n",
       "2       1     63  1_ehwqrsmtrgpgmiftэ_олигофрен_футболист_цкк_пу...   \n",
       "3       2     54           2_анонсировать_убывающаялун_подвиг_удача   \n",
       "4       3     43  3_всеволожскийрайон_фрунзенскийрайон_грунт_пет...   \n",
       "5       4     36                   4_время_час_маршировать_парадное   \n",
       "6       5     35  5_автодора_улицасавушкин_байконурскаяулица_дор...   \n",
       "7       6     32  6_благодарность_благодарный_удовольствие_счаст...   \n",
       "8       7     30          7_бежать_взлетать_ходить_уборкакаждыйдеть   \n",
       "9       8     29  8_пассажиравтотранс_авто_транспортировка_трампуть   \n",
       "10      9     29    9_метростроевский_автобус_электробус_троллейбус   \n",
       "11     10     28           10_крематорий_кремация_фашистский_убитый   \n",
       "12     11     24   11_намаз_палата_церковьниколаячудотвтоца_церковь   \n",
       "13     12     22       12_концертный_мелодия_театрализованный_театр   \n",
       "14     13     21                  13_водоём_гидропривод_река_проток   \n",
       "15     14     21               14_лекторий_маленький_школьник_школа   \n",
       "16     15     20            15_доход_задолженность_цена_супермаркет   \n",
       "17     16     20             16_облачный_отопление_шторм_циклонтино   \n",
       "18     17     20       17_догхантеры_овчарка_собачкусрочный_собачка   \n",
       "19     18     20                 18_городовой_городок_столичный_мэр   \n",
       "20     19     20  19_московскийвокзал_новороссия_сталинградский_...   \n",
       "21     20     20  20_аэропорт_аэропортный_электроснабжение_элект...   \n",
       "22     21     19             21_зимят_ледяной_холодное_холодапогода   \n",
       "23     22     19    22_заработный_кабинет_трудоустройство_сотрудник   \n",
       "24     23     19          23_здание_изобретение_фасад_стройплощадка   \n",
       "25     24     18  24_деревце_озеленитель_цветущийприморский_цвет...   \n",
       "26     25     18         25_затмение_космический_сияние_светофорный   \n",
       "27     26     18        26_борт_корабельный_флотский_флотоводческий   \n",
       "28     27     18   27_больница_госпитализация_психиатор_поликлиника   \n",
       "29     28     17  28_залив_кайтсёрфингист_рыбалка_спб_приморский...   \n",
       "30     29     16  29_баскетбольный_игрок_фитнесвыборгский_физкул...   \n",
       "31     30     16                       30_горький_дрозд_шипеть_чёрт   \n",
       "32     31     15                 31_ворон_ворона_сова_птичкихичкокк   \n",
       "33     32     14   32_щенячий_щенкисостоянки_ищутдом_стадо_собачник   \n",
       "34     33     14          33_штрафовать_штраф_уголовный_приговорить   \n",
       "35     34     14       34_художница_художник_художественный_фигурка   \n",
       "36     35     13  35_фотохудожник_фотомузыкальный_фотография_фот...   \n",
       "37     36     13    36_разбойник_похитить_похитительница_ограбление   \n",
       "38     37     12        37_фейерверк_сжигать_пожароопасный_пожарный   \n",
       "39     38     12  38_припарковаться_перепарковываться_перепарков...   \n",
       "40     39     12                 39_кошкино_кошкамочь_кошка_кошечка   \n",
       "41     40     11                40_экспонат_музейспб_музейный_музей   \n",
       "\n",
       "                                       Representation  \\\n",
       "0   [_отдать_книга, полицейский, публичный, пригла...   \n",
       "1   [proленсоветовский, некрасовский, славянка, мо...   \n",
       "2   [ehwqrsmtrgpgmiftэ, олигофрен, футболист, цкк_...   \n",
       "3   [анонсировать, убывающаялун, подвиг, удача, по...   \n",
       "4   [всеволожскийрайон, фрунзенскийрайон, грунт, п...   \n",
       "5   [время, час, маршировать, парадное, патриотиче...   \n",
       "6   [автодора, улицасавушкин, байконурскаяулица, д...   \n",
       "7   [благодарность, благодарный, удовольствие, сча...   \n",
       "8   [бежать, взлетать, ходить, уборкакаждыйдеть, у...   \n",
       "9   [пассажиравтотранс, авто, транспортировка, тра...   \n",
       "10  [метростроевский, автобус, электробус, троллей...   \n",
       "11  [крематорий, кремация, фашистский, убитый, уби...   \n",
       "12  [намаз, палата, церковьниколаячудотвтоца, церк...   \n",
       "13  [концертный, мелодия, театрализованный, театр,...   \n",
       "14  [водоём, гидропривод, река, проток, промочить,...   \n",
       "15  [лекторий, маленький, школьник, школа, учитель...   \n",
       "16  [доход, задолженность, цена, супермаркет, поку...   \n",
       "17  [облачный, отопление, шторм, циклонтино, цикло...   \n",
       "18  [догхантеры, овчарка, собачкусрочный, собачка,...   \n",
       "19  [городовой, городок, столичный, мэр, муниципал...   \n",
       "20  [московскийвокзал, новороссия, сталинградский,...   \n",
       "21  [аэропорт, аэропортный, электроснабжение, элек...   \n",
       "22  [зимят, ледяной, холодное, холодапогода, снежн...   \n",
       "23  [заработный, кабинет, трудоустройство, сотрудн...   \n",
       "24  [здание, изобретение, фасад, стройплощадка, ст...   \n",
       "25  [деревце, озеленитель, цветущийприморский, цве...   \n",
       "26  [затмение, космический, сияние, светофорный, с...   \n",
       "27  [борт, корабельный, флотский, флотоводческий, ...   \n",
       "28  [больница, госпитализация, психиатор, поликлин...   \n",
       "29  [залив, кайтсёрфингист, рыбалка_спб, приморски...   \n",
       "30  [баскетбольный, игрок, фитнесвыборгский, физку...   \n",
       "31  [горький, дрозд, шипеть, чёрт, умолк, свистнут...   \n",
       "32  [ворон, ворона, сова, птичкихичкокк, птичка, п...   \n",
       "33  [щенячий, щенкисостоянки_ищутдом, стадо, собач...   \n",
       "34  [штрафовать, штраф, уголовный, приговорить, пр...   \n",
       "35  [художница, художник, художественный, фигурка,...   \n",
       "36  [фотохудожник, фотомузыкальный, фотография, фо...   \n",
       "37  [разбойник, похитить, похитительница, ограблен...   \n",
       "38  [фейерверк, сжигать, пожароопасный, пожарный, ...   \n",
       "39  [припарковаться, перепарковываться, перепарков...   \n",
       "40  [кошкино, кошкамочь, кошка, кошечка, кошекправ...   \n",
       "41  [экспонат, музейспб, музейный, музей, галерея,...   \n",
       "\n",
       "                                  Representative_Docs  \n",
       "0          [эвакуировалипоток, отравление, эйхенбаум]  \n",
       "1                    [дмитриевич, игоревич, владимир]  \n",
       "2            [белоостров, читайгород, околоколомяжий]  \n",
       "3                      [согласовать, провести, стать]  \n",
       "4                        [район, соседство, пригород]  \n",
       "5                  [годаначало, рождественский, день]  \n",
       "6   [остановкаобещественноготранспорт, зампред, ма...  \n",
       "7                          [уличный, хороший, хотеть]  \n",
       "8                      [понаехать, гулять, проходить]  \n",
       "9                [автовый, машина, пассажиравтотранс]  \n",
       "10                   [железнодорожный, вокзал, поезд]  \n",
       "11             [пострадать, потерпевший, захоронение]  \n",
       "12                              [палата, храм, собор]  \n",
       "13                     [концертный, музыка, голливуд]  \n",
       "14                         [потоп, водоём, акватория]  \n",
       "15                  [ребёнок, малышок, новорождённый]  \n",
       "16                             [купец, бюджет, плата]  \n",
       "17                  [застылый, отопление, туманность]  \n",
       "18             [овчарка, ветеринарный, собаководчица]  \n",
       "19        [столичный, градостроительство, городбазар]  \n",
       "20                  [путин, россиянин, всероссийский]  \n",
       "21                       [аэропортный, дрон, авиация]  \n",
       "22                   [снегоочистка, снегофоб, зимний]  \n",
       "23                   [работодатель, ведомство, почта]  \n",
       "24         [архитектурный, инфраструктура, подрядчик]  \n",
       "25                        [цветок, растение, тюльпан]  \n",
       "26               [космический, затмение, светофорный]  \n",
       "27             [судный, морзаводовец, флотоводческий]  \n",
       "28                [эхокардиография, массаж, больница]  \n",
       "29                  [берег, приморскийрайон, морской]  \n",
       "30              [стадион, спортнормажизнь, баскетбол]  \n",
       "31                        [шум, заглушка, наткнуться]  \n",
       "32                        [ворона, чайка, попугайчик]  \n",
       "33  [потеряласьовчарка, щенкисостоянки_ищутдом, со...  \n",
       "34                   [преступление, наказание, арест]  \n",
       "35                 [мода, живописец, деревняхудожник]  \n",
       "36           [панорама, фотография, сфотографировать]  \n",
       "37                      [вор, грабёж, похитительница]  \n",
       "38                   [огонь, пожарный, пожароопасный]  \n",
       "39              [припарковаться, парковка, парковкас]  \n",
       "40                        [кошкино, котёночек, котик]  \n",
       "41                   [выставка, археология, артефакт]  "
      ]
     },
     "execution_count": 8,
     "metadata": {},
     "output_type": "execute_result"
    }
   ],
   "source": [
    "from bertopic import BERTopic\n",
    "\n",
    "topic_model = BERTopic(language=\"russian\")\n",
    "topics, probs = topic_model.fit_transform(clustering_items)\n",
    "topic_model.get_topic_info()"
   ]
  },
  {
   "cell_type": "code",
   "execution_count": null,
   "metadata": {},
   "outputs": [
    {
     "name": "stderr",
     "output_type": "stream",
     "text": [
      "2024-03-09 21:24:39,287 - BERTopic - Transformed documents to Embeddings\n",
      "2024-03-09 21:24:41,833 - BERTopic - Reduced dimensionality\n",
      "2024-03-09 21:24:41,933 - BERTopic - Clustered reduced embeddings\n",
      "2024-03-09 21:24:41,974 - BERTopic - Reduced number of topics from 28 to 20\n"
     ]
    },
    {
     "data": {
      "text/html": [
       "<div>\n",
       "<style scoped>\n",
       "    .dataframe tbody tr th:only-of-type {\n",
       "        vertical-align: middle;\n",
       "    }\n",
       "\n",
       "    .dataframe tbody tr th {\n",
       "        vertical-align: top;\n",
       "    }\n",
       "\n",
       "    .dataframe thead th {\n",
       "        text-align: right;\n",
       "    }\n",
       "</style>\n",
       "<table border=\"1\" class=\"dataframe\">\n",
       "  <thead>\n",
       "    <tr style=\"text-align: right;\">\n",
       "      <th></th>\n",
       "      <th>Topic</th>\n",
       "      <th>Count</th>\n",
       "      <th>Name</th>\n",
       "      <th>Representation</th>\n",
       "      <th>Representative_Docs</th>\n",
       "    </tr>\n",
       "  </thead>\n",
       "  <tbody>\n",
       "    <tr>\n",
       "      <th>0</th>\n",
       "      <td>-1</td>\n",
       "      <td>157</td>\n",
       "      <td>-1__отдать_книга_романтика_подписать_приятный</td>\n",
       "      <td>[_отдать_книга, романтика, подписать, приятный...</td>\n",
       "      <td>[сосед, сообщество, _отдать_книга]</td>\n",
       "    </tr>\n",
       "    <tr>\n",
       "      <th>1</th>\n",
       "      <td>0</td>\n",
       "      <td>366</td>\n",
       "      <td>0__ленинградский_потёмкин_пропустить_раскачать</td>\n",
       "      <td>[_ленинградский, потёмкин, пропустить, раскача...</td>\n",
       "      <td>[прилечь, потеряшки_калининскийисточник, выжни...</td>\n",
       "    </tr>\n",
       "    <tr>\n",
       "      <th>2</th>\n",
       "      <td>1</td>\n",
       "      <td>208</td>\n",
       "      <td>1_автовокзал_район_охранник_окрестность</td>\n",
       "      <td>[автовокзал, район, охранник, окрестность, под...</td>\n",
       "      <td>[коммунальщик, улочка, мебель]</td>\n",
       "    </tr>\n",
       "    <tr>\n",
       "      <th>3</th>\n",
       "      <td>2</td>\n",
       "      <td>73</td>\n",
       "      <td>2__фото_панорама_фотограф_снимка</td>\n",
       "      <td>[_фото, панорама, фотограф, снимка, скульптор,...</td>\n",
       "      <td>[искусство, елочкаживить, цветник]</td>\n",
       "    </tr>\n",
       "    <tr>\n",
       "      <th>4</th>\n",
       "      <td>3</td>\n",
       "      <td>46</td>\n",
       "      <td>3_вандализм_украсть_воровка_грабитель</td>\n",
       "      <td>[вандализм, украсть, воровка, грабитель, вымог...</td>\n",
       "      <td>[недобросовестный, потерпевший, обвинить]</td>\n",
       "    </tr>\n",
       "    <tr>\n",
       "      <th>5</th>\n",
       "      <td>4</td>\n",
       "      <td>35</td>\n",
       "      <td>4_архив_ресторан_делаемпетербургчище_долг</td>\n",
       "      <td>[архив, ресторан, делаемпетербургчище, долг, м...</td>\n",
       "      <td>[покупать, супермаркет, петербургский]</td>\n",
       "    </tr>\n",
       "    <tr>\n",
       "      <th>6</th>\n",
       "      <td>5</td>\n",
       "      <td>34</td>\n",
       "      <td>5_адмиралтейский_флотилия_жкполисприморский_кит</td>\n",
       "      <td>[адмиралтейский, флотилия, жкполисприморский, ...</td>\n",
       "      <td>[пляжный, яхтенный, морской]</td>\n",
       "    </tr>\n",
       "    <tr>\n",
       "      <th>7</th>\n",
       "      <td>6</td>\n",
       "      <td>28</td>\n",
       "      <td>6_массажист_массажный_токсический_психиатор</td>\n",
       "      <td>[массажист, массажный, токсический, психиатор,...</td>\n",
       "      <td>[лекарство, массажист, массажный]</td>\n",
       "    </tr>\n",
       "    <tr>\n",
       "      <th>8</th>\n",
       "      <td>7</td>\n",
       "      <td>27</td>\n",
       "      <td>7_котик_котёнок_школьник_школа</td>\n",
       "      <td>[котик, котёнок, школьник, школа, учитель, ууч...</td>\n",
       "      <td>[школа, учитель, котик]</td>\n",
       "    </tr>\n",
       "    <tr>\n",
       "      <th>9</th>\n",
       "      <td>8</td>\n",
       "      <td>27</td>\n",
       "      <td>8_потоп_промочить_фонтанка_фонтан</td>\n",
       "      <td>[потоп, промочить, фонтанка, фонтан, утонуть, ...</td>\n",
       "      <td>[санитарный, река, купальня]</td>\n",
       "    </tr>\n",
       "    <tr>\n",
       "      <th>10</th>\n",
       "      <td>9</td>\n",
       "      <td>27</td>\n",
       "      <td>9_огниво_огонь_эвакуация_фейерверк</td>\n",
       "      <td>[огниво, огонь, эвакуация, фейерверк, утеплять...</td>\n",
       "      <td>[взрывной, эвакуация, загореться]</td>\n",
       "    </tr>\n",
       "    <tr>\n",
       "      <th>11</th>\n",
       "      <td>10</td>\n",
       "      <td>23</td>\n",
       "      <td>10_вертолёт_ветер_роботизированный_полёт</td>\n",
       "      <td>[вертолёт, ветер, роботизированный, полёт, пил...</td>\n",
       "      <td>[авиатренажёр, самолёт, аэродром]</td>\n",
       "    </tr>\n",
       "    <tr>\n",
       "      <th>12</th>\n",
       "      <td>11</td>\n",
       "      <td>21</td>\n",
       "      <td>11_поселкафестиваль_праздник_флаг_фестиваль</td>\n",
       "      <td>[поселкафестиваль, праздник, флаг, фестиваль, ...</td>\n",
       "      <td>[парад, танец, ритуал]</td>\n",
       "    </tr>\n",
       "    <tr>\n",
       "      <th>13</th>\n",
       "      <td>12</td>\n",
       "      <td>19</td>\n",
       "      <td>12_конторский_менеджер_сотрудник_секретарь</td>\n",
       "      <td>[конторский, менеджер, сотрудник, секретарь, р...</td>\n",
       "      <td>[секретарь, нанимать, персонал]</td>\n",
       "    </tr>\n",
       "    <tr>\n",
       "      <th>14</th>\n",
       "      <td>13</td>\n",
       "      <td>17</td>\n",
       "      <td>13_малороссия_московский_советский_русский</td>\n",
       "      <td>[малороссия, московский, советский, русский, р...</td>\n",
       "      <td>[российский, малороссия, сталинградский]</td>\n",
       "    </tr>\n",
       "    <tr>\n",
       "      <th>15</th>\n",
       "      <td>14</td>\n",
       "      <td>16</td>\n",
       "      <td>14_зима_зимний_снежинка_снегоуборочный</td>\n",
       "      <td>[зима, зимний, снежинка, снегоуборочный, снего...</td>\n",
       "      <td>[лыжа, лыжня, снегопад]</td>\n",
       "    </tr>\n",
       "    <tr>\n",
       "      <th>16</th>\n",
       "      <td>15</td>\n",
       "      <td>12</td>\n",
       "      <td>15_церковь_церковный_христианский_храм</td>\n",
       "      <td>[церковь, церковный, христианский, храм, хор, ...</td>\n",
       "      <td>[церковь, монастырь, православный]</td>\n",
       "    </tr>\n",
       "    <tr>\n",
       "      <th>17</th>\n",
       "      <td>16</td>\n",
       "      <td>12</td>\n",
       "      <td>16_троллейбус_трамплин_трамвайный_трамвай</td>\n",
       "      <td>[троллейбус, трамплин, трамвайный, трамвай, тр...</td>\n",
       "      <td>[троллейбус, поезд, трамплин]</td>\n",
       "    </tr>\n",
       "    <tr>\n",
       "      <th>18</th>\n",
       "      <td>17</td>\n",
       "      <td>12</td>\n",
       "      <td>17_убитый_убийство_смерть_смертность</td>\n",
       "      <td>[убитый, убийство, смерть, смертность, погибши...</td>\n",
       "      <td>[погибнуть, захоронение, гибдд]</td>\n",
       "    </tr>\n",
       "    <tr>\n",
       "      <th>19</th>\n",
       "      <td>18</td>\n",
       "      <td>10</td>\n",
       "      <td>18_хоровой_сопрано_оркестр_музыкальный</td>\n",
       "      <td>[хоровой, сопрано, оркестр, музыкальный, музык...</td>\n",
       "      <td>[хоровой, оркестр, барабанный]</td>\n",
       "    </tr>\n",
       "  </tbody>\n",
       "</table>\n",
       "</div>"
      ],
      "text/plain": [
       "    Topic  Count                                             Name  \\\n",
       "0      -1    157    -1__отдать_книга_романтика_подписать_приятный   \n",
       "1       0    366   0__ленинградский_потёмкин_пропустить_раскачать   \n",
       "2       1    208          1_автовокзал_район_охранник_окрестность   \n",
       "3       2     73                 2__фото_панорама_фотограф_снимка   \n",
       "4       3     46            3_вандализм_украсть_воровка_грабитель   \n",
       "5       4     35        4_архив_ресторан_делаемпетербургчище_долг   \n",
       "6       5     34  5_адмиралтейский_флотилия_жкполисприморский_кит   \n",
       "7       6     28      6_массажист_массажный_токсический_психиатор   \n",
       "8       7     27                   7_котик_котёнок_школьник_школа   \n",
       "9       8     27                8_потоп_промочить_фонтанка_фонтан   \n",
       "10      9     27               9_огниво_огонь_эвакуация_фейерверк   \n",
       "11     10     23         10_вертолёт_ветер_роботизированный_полёт   \n",
       "12     11     21      11_поселкафестиваль_праздник_флаг_фестиваль   \n",
       "13     12     19       12_конторский_менеджер_сотрудник_секретарь   \n",
       "14     13     17       13_малороссия_московский_советский_русский   \n",
       "15     14     16           14_зима_зимний_снежинка_снегоуборочный   \n",
       "16     15     12           15_церковь_церковный_христианский_храм   \n",
       "17     16     12        16_троллейбус_трамплин_трамвайный_трамвай   \n",
       "18     17     12             17_убитый_убийство_смерть_смертность   \n",
       "19     18     10           18_хоровой_сопрано_оркестр_музыкальный   \n",
       "\n",
       "                                       Representation  \\\n",
       "0   [_отдать_книга, романтика, подписать, приятный...   \n",
       "1   [_ленинградский, потёмкин, пропустить, раскача...   \n",
       "2   [автовокзал, район, охранник, окрестность, под...   \n",
       "3   [_фото, панорама, фотограф, снимка, скульптор,...   \n",
       "4   [вандализм, украсть, воровка, грабитель, вымог...   \n",
       "5   [архив, ресторан, делаемпетербургчище, долг, м...   \n",
       "6   [адмиралтейский, флотилия, жкполисприморский, ...   \n",
       "7   [массажист, массажный, токсический, психиатор,...   \n",
       "8   [котик, котёнок, школьник, школа, учитель, ууч...   \n",
       "9   [потоп, промочить, фонтанка, фонтан, утонуть, ...   \n",
       "10  [огниво, огонь, эвакуация, фейерверк, утеплять...   \n",
       "11  [вертолёт, ветер, роботизированный, полёт, пил...   \n",
       "12  [поселкафестиваль, праздник, флаг, фестиваль, ...   \n",
       "13  [конторский, менеджер, сотрудник, секретарь, р...   \n",
       "14  [малороссия, московский, советский, русский, р...   \n",
       "15  [зима, зимний, снежинка, снегоуборочный, снего...   \n",
       "16  [церковь, церковный, христианский, храм, хор, ...   \n",
       "17  [троллейбус, трамплин, трамвайный, трамвай, тр...   \n",
       "18  [убитый, убийство, смерть, смертность, погибши...   \n",
       "19  [хоровой, сопрано, оркестр, музыкальный, музык...   \n",
       "\n",
       "                                  Representative_Docs  \n",
       "0                  [сосед, сообщество, _отдать_книга]  \n",
       "1   [прилечь, потеряшки_калининскийисточник, выжни...  \n",
       "2                      [коммунальщик, улочка, мебель]  \n",
       "3                  [искусство, елочкаживить, цветник]  \n",
       "4           [недобросовестный, потерпевший, обвинить]  \n",
       "5              [покупать, супермаркет, петербургский]  \n",
       "6                        [пляжный, яхтенный, морской]  \n",
       "7                   [лекарство, массажист, массажный]  \n",
       "8                             [школа, учитель, котик]  \n",
       "9                        [санитарный, река, купальня]  \n",
       "10                  [взрывной, эвакуация, загореться]  \n",
       "11                  [авиатренажёр, самолёт, аэродром]  \n",
       "12                             [парад, танец, ритуал]  \n",
       "13                    [секретарь, нанимать, персонал]  \n",
       "14           [российский, малороссия, сталинградский]  \n",
       "15                            [лыжа, лыжня, снегопад]  \n",
       "16                 [церковь, монастырь, православный]  \n",
       "17                      [троллейбус, поезд, трамплин]  \n",
       "18                    [погибнуть, захоронение, гибдд]  \n",
       "19                     [хоровой, оркестр, барабанный]  "
      ]
     },
     "execution_count": 12,
     "metadata": {},
     "output_type": "execute_result"
    }
   ],
   "source": [
    "# from umap import UMAP\n",
    "# from bertopic import BERTopic\n",
    "\n",
    "# umap_model = UMAP(n_neighbors=5,\n",
    "#                   n_components=15,\n",
    "#                   min_dist=0.0,\n",
    "#                   metric='cosine',\n",
    "#                   random_state=1234)\n",
    "                  \n",
    "# # Initiate BERTopic                  \n",
    "# topic_model = BERTopic(\n",
    "#                        umap_model=umap_model,\n",
    "#                        language=\"russian\",\n",
    "#                        calculate_probabilities=True,\n",
    "#                        nr_topics=20)\n",
    "\n",
    "# topics, probabilities = topic_model.fit_transform(clustering_items)\n",
    "# topic_model.get_topic_info()"
   ]
  },
  {
   "cell_type": "code",
   "execution_count": null,
   "metadata": {},
   "outputs": [
    {
     "data": {
      "text/plain": [
       "1286"
      ]
     },
     "execution_count": 9,
     "metadata": {},
     "output_type": "execute_result"
    }
   ],
   "source": [
    "clustered_nodes = pd.DataFrame()\n",
    "clustered_nodes['node_id'] = clustering_items\n",
    "clustered_nodes['cluster'] = topic_model.topics_\n",
    "len(clustered_nodes)"
   ]
  },
  {
   "cell_type": "code",
   "execution_count": null,
   "metadata": {},
   "outputs": [],
   "source": [
    "node_list = list(clustered_nodes['node_id'])\n",
    "info = topic_model.get_topic_info()\n",
    "\n",
    "for i in G.nodes:\n",
    "    if i in node_list:\n",
    "        G.nodes[i]['Cluster'] = clustered_nodes['cluster'].iloc[node_list.index(i)]\n",
    "        G.nodes[i]['Group_name'] = info.loc[info['Topic'] == G.nodes[i]['Cluster']]['Name'].iloc[0]"
   ]
  },
  {
   "cell_type": "code",
   "execution_count": null,
   "metadata": {},
   "outputs": [],
   "source": [
    "toponims_list = [i for i in G.nodes if G.nodes[i].get('tag') == 'TOPONIM']\n",
    "all_toponims_list = list(geocoded_df['only_full_street_name'])"
   ]
  },
  {
   "cell_type": "code",
   "execution_count": null,
   "metadata": {},
   "outputs": [],
   "source": [
    "for i in toponims_list:\n",
    "    if i in all_toponims_list:\n",
    "        index = all_toponims_list.index(i)\n",
    "        G.nodes[i]['Location'] = str(geocoded_df['Location'].iloc[all_toponims_list.index(i)])"
   ]
  },
  {
   "cell_type": "code",
   "execution_count": null,
   "metadata": {},
   "outputs": [
    {
     "data": {
      "text/plain": [
       "(59.7394631, 30.5499878)"
      ]
     },
     "execution_count": 22,
     "metadata": {},
     "output_type": "execute_result"
    }
   ],
   "source": [
    "geocoded_df.geometry.iloc[0]"
   ]
  },
  {
   "cell_type": "code",
   "execution_count": null,
   "metadata": {},
   "outputs": [
    {
     "ename": "TypeError",
     "evalue": "'NoneType' object is not subscriptable",
     "output_type": "error",
     "traceback": [
      "\u001B[1;31m---------------------------------------------------------------------------\u001B[0m",
      "\u001B[1;31mTypeError\u001B[0m                                 Traceback (most recent call last)",
      "Cell \u001B[1;32mIn[31], line 6\u001B[0m\n\u001B[0;32m      4\u001B[0m cord \u001B[38;5;241m=\u001B[39m geocoded_df[\u001B[38;5;124m'\u001B[39m\u001B[38;5;124mLocation\u001B[39m\u001B[38;5;124m'\u001B[39m]\u001B[38;5;241m.\u001B[39miloc[all_toponims_list\u001B[38;5;241m.\u001B[39mindex(i)]\n\u001B[0;32m      5\u001B[0m \u001B[38;5;66;03m# G.nodes[i]['Location'] = cord[0]\u001B[39;00m\n\u001B[1;32m----> 6\u001B[0m G\u001B[38;5;241m.\u001B[39mnodes[i][\u001B[38;5;124m'\u001B[39m\u001B[38;5;124mLat\u001B[39m\u001B[38;5;124m'\u001B[39m] \u001B[38;5;241m=\u001B[39m \u001B[43mcord\u001B[49m\u001B[43m[\u001B[49m\u001B[38;5;241;43m1\u001B[39;49m\u001B[43m]\u001B[49m[\u001B[38;5;241m0\u001B[39m]\n\u001B[0;32m      7\u001B[0m G\u001B[38;5;241m.\u001B[39mnodes[i][\u001B[38;5;124m'\u001B[39m\u001B[38;5;124mLon\u001B[39m\u001B[38;5;124m'\u001B[39m] \u001B[38;5;241m=\u001B[39m cord[\u001B[38;5;241m1\u001B[39m][\u001B[38;5;241m1\u001B[39m]\n",
      "\u001B[1;31mTypeError\u001B[0m: 'NoneType' object is not subscriptable"
     ]
    }
   ],
   "source": [
    "for i in toponims_list:\n",
    "    if i in all_toponims_list:\n",
    "        index = all_toponims_list.index(i)\n",
    "        cord = geocoded_df['geometry'].iloc[all_toponims_list.index(i)][0]\n",
    "        G.nodes[i]['Lat'] = cord[0]\n",
    "        G.nodes[i]['Lon'] = cord[1]"
   ]
  },
  {
   "cell_type": "code",
   "execution_count": null,
   "metadata": {},
   "outputs": [],
   "source": [
    "nx.write_graphml(G, 'total_graph_0.05.graphml', encoding='utf-8')"
   ]
  },
  {
   "cell_type": "code",
   "execution_count": null,
   "metadata": {},
   "outputs": [],
   "source": [
    "cluster = -1\n",
    "cluster_coordes = []\n",
    "\n",
    "for i in G.nodes:\n",
    "    if G.nodes[i]['tag'] == 'TOPONIM':\n",
    "        round = [n for n in G.neighbors(i)]\n",
    "        for j in round:\n",
    "            if G.nodes[j]['Cluster'] == cluster:\n",
    "                current_coords = (G.nodes[i]['Lat'], G.nodes[i]['Lon'])\n",
    "                cluster_coordes.append(current_coords)"
   ]
  },
  {
   "cell_type": "code",
   "execution_count": null,
   "metadata": {},
   "outputs": [],
   "source": [
    "import folium\n",
    "\n",
    "mymap = folium.Map(location=[59.9343, 30.3351], zoom_start=10, tiles='cartodbdark_matter')\n",
    "\n",
    "for i in cluster_coordes:\n",
    "    folium.Marker(location=[i[1], i[0]]).add_to(mymap)\n",
    "\n",
    "mymap.save('map_-1.html')"
   ]
  },
  {
   "cell_type": "code",
   "execution_count": null,
   "metadata": {},
   "outputs": [
    {
     "data": {
      "text/plain": [
       "{'tag': 'NOUN',\n",
       " 'Cluster': 27,\n",
       " 'Group_name': '27_шуваловскийпарк_удельныйпарк_прометейпарк_паркпарк'}"
      ]
     },
     "execution_count": 30,
     "metadata": {},
     "output_type": "execute_result"
    }
   ],
   "source": [
    "G.nodes['газон']"
   ]
  },
  {
   "cell_type": "code",
   "execution_count": null,
   "metadata": {},
   "outputs": [],
   "source": [
    "nx.write_graphml(G, 'total_graph_0.05.graphml', encoding='utf-8')"
   ]
  }
 ],
 "metadata": {
  "kernelspec": {
   "display_name": "venv",
   "language": "python",
   "name": "python3"
  },
  "language_info": {
   "codemirror_mode": {
    "name": "ipython",
    "version": 3
   },
   "file_extension": ".py",
   "mimetype": "text/x-python",
   "name": "python",
   "nbconvert_exporter": "python",
   "pygments_lexer": "ipython3",
   "version": "3.10.11"
  }
 },
 "nbformat": 4,
 "nbformat_minor": 2
}
