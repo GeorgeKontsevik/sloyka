{
 "cells": [
  {
   "cell_type": "code",
   "execution_count": 1,
   "metadata": {},
   "outputs": [
    {
     "name": "stderr",
     "output_type": "stream",
     "text": [
      "/home/gk/.cache/pypoetry/virtualenvs/factfinder-6OvYRBkP-py3.10/lib/python3.10/site-packages/tqdm/auto.py:22: TqdmWarning: IProgress not found. Please update jupyter and ipywidgets. See https://ipywidgets.readthedocs.io/en/stable/user_install.html\n",
      "  from .autonotebook import tqdm as notebook_tqdm\n"
     ]
    },
    {
     "name": "stdout",
     "output_type": "stream",
     "text": [
      "INFO: Pandarallel will run on 6 workers.\n",
      "INFO: Pandarallel will use Memory file system to transfer data between the main process and workers.\n"
     ]
    },
    {
     "name": "stderr",
     "output_type": "stream",
     "text": [
      "[nltk_data] Downloading package stopwords to /home/gk/nltk_data...\n",
      "[nltk_data]   Package stopwords is already up-to-date!\n"
     ]
    }
   ],
   "source": [
    "from sloyka import VkCommentsParser, VkPostGetter"
   ]
  },
  {
   "cell_type": "code",
   "execution_count": 2,
   "metadata": {},
   "outputs": [],
   "source": [
    "owner_id = \"-60463565\" # группа \"девяткино онлайн\"\n",
    "token = ''"
   ]
  },
  {
   "cell_type": "code",
   "execution_count": 3,
   "metadata": {},
   "outputs": [
    {
     "name": "stdout",
     "output_type": "stream",
     "text": [
      "10\n"
     ]
    }
   ],
   "source": [
    "post_num_limit = 10\n",
    "step = 10\n",
    "#Вызов метода\n",
    "post_ids = VkPostGetter.get_group_post_ids(owner_id, token, post_num_limit, step)\n",
    "\n",
    "print(len(post_ids))"
   ]
  },
  {
   "cell_type": "code",
   "execution_count": 4,
   "metadata": {},
   "outputs": [
    {
     "name": "stderr",
     "output_type": "stream",
     "text": [
      " 30%|███       | 3/10 [00:09<00:22,  3.24s/it]\n"
     ]
    }
   ],
   "source": [
    "comments_num = 30\n",
    "\n",
    "# Вызов метода\n",
    "result = VkCommentsParser.get_Comments(post_ids, owner_id, token, comments_num=comments_num)"
   ]
  },
  {
   "cell_type": "code",
   "execution_count": 5,
   "metadata": {},
   "outputs": [
    {
     "data": {
      "text/html": [
       "<div>\n",
       "<style scoped>\n",
       "    .dataframe tbody tr th:only-of-type {\n",
       "        vertical-align: middle;\n",
       "    }\n",
       "\n",
       "    .dataframe tbody tr th {\n",
       "        vertical-align: top;\n",
       "    }\n",
       "\n",
       "    .dataframe thead th {\n",
       "        text-align: right;\n",
       "    }\n",
       "</style>\n",
       "<table border=\"1\" class=\"dataframe\">\n",
       "  <thead>\n",
       "    <tr style=\"text-align: right;\">\n",
       "      <th></th>\n",
       "      <th>name</th>\n",
       "      <th>last_name</th>\n",
       "      <th>date</th>\n",
       "      <th>likes</th>\n",
       "      <th>text</th>\n",
       "      <th>post_id</th>\n",
       "    </tr>\n",
       "  </thead>\n",
       "  <tbody>\n",
       "    <tr>\n",
       "      <th>2672680</th>\n",
       "      <td>Elena</td>\n",
       "      <td>Konik</td>\n",
       "      <td>2024-02-13</td>\n",
       "      <td>0</td>\n",
       "      <td>Кидайте свои фотки!</td>\n",
       "      <td>2672649</td>\n",
       "    </tr>\n",
       "    <tr>\n",
       "      <th>2672684</th>\n",
       "      <td>Nstasy</td>\n",
       "      <td>Jule</td>\n",
       "      <td>2024-02-13</td>\n",
       "      <td>1</td>\n",
       "      <td>Но это не Девяткино))) судя по дому;))🙃</td>\n",
       "      <td>2672649</td>\n",
       "    </tr>\n",
       "    <tr>\n",
       "      <th>2672603</th>\n",
       "      <td>Alexander</td>\n",
       "      <td>Komogortsev</td>\n",
       "      <td>2024-02-13</td>\n",
       "      <td>6</td>\n",
       "      <td>Значит она общается с другими парнями. Поверь....</td>\n",
       "      <td>2672582</td>\n",
       "    </tr>\n",
       "  </tbody>\n",
       "</table>\n",
       "</div>"
      ],
      "text/plain": [
       "              name    last_name        date  likes  \\\n",
       "2672680      Elena        Konik  2024-02-13      0   \n",
       "2672684     Nstasy         Jule  2024-02-13      1   \n",
       "2672603  Alexander  Komogortsev  2024-02-13      6   \n",
       "\n",
       "                                                      text  post_id  \n",
       "2672680                                Кидайте свои фотки!  2672649  \n",
       "2672684            Но это не Девяткино))) судя по дому;))🙃  2672649  \n",
       "2672603  Значит она общается с другими парнями. Поверь....  2672582  "
      ]
     },
     "execution_count": 5,
     "metadata": {},
     "output_type": "execute_result"
    }
   ],
   "source": [
    "result.sample(3)"
   ]
  }
 ],
 "metadata": {
  "kernelspec": {
   "display_name": "nirmapy",
   "language": "python",
   "name": "python3"
  },
  "language_info": {
   "codemirror_mode": {
    "name": "ipython",
    "version": 3
   },
   "file_extension": ".py",
   "mimetype": "text/x-python",
   "name": "python",
   "nbconvert_exporter": "python",
   "pygments_lexer": "ipython3",
   "version": "3.10.13"
  }
 },
 "nbformat": 4,
 "nbformat_minor": 2
}
