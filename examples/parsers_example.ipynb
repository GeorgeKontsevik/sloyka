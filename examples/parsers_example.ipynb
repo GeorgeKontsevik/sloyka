{
 "cells": [
  {
   "cell_type": "code",
   "execution_count": 1,
   "metadata": {},
   "outputs": [
    {
     "name": "stdout",
     "output_type": "stream",
     "text": [
      "INFO: Pandarallel will run on -1 workers.\n",
      "INFO: Pandarallel will use standard multiprocessing data transfer (pipe) to transfer data between the main process and workers.\n"
     ]
    },
    {
     "name": "stderr",
     "output_type": "stream",
     "text": [
      "[nltk_data] Downloading package stopwords to\n",
      "[nltk_data]     /Users/sashamorozov/nltk_data...\n",
      "[nltk_data]   Package stopwords is already up-to-date!\n"
     ]
    },
    {
     "data": {
      "application/vnd.jupyter.widget-view+json": {
       "model_id": "aa2db47c3f0e411fbce158daedf0a2f9",
       "version_major": 2,
       "version_minor": 0
      },
      "text/plain": [
       "pytorch_model.bin:   0%|          | 0.00/1.24G [00:00<?, ?B/s]"
      ]
     },
     "metadata": {},
     "output_type": "display_data"
    },
    {
     "name": "stdout",
     "output_type": "stream",
     "text": [
      "2024-06-04 00:51:24,310 SequenceTagger predicts: Dictionary with 7 tags: O, S-Service, B-Service, E-Service, I-Service, <START>, <STOP>\n"
     ]
    }
   ],
   "source": [
    "import warnings\n",
    "\n",
    "warnings.simplefilter(\"ignore\")\n",
    "\n",
    "import os\n",
    "import sys\n",
    "\n",
    "folder = os.getcwd().split(\"\\\\examples\")[0]\n",
    "sys.path.append(folder)\n",
    "\n",
    "from sloyka.src.data_getter import VKParser"
   ]
  },
  {
   "cell_type": "code",
   "execution_count": 2,
   "metadata": {},
   "outputs": [
    {
     "name": "stdout",
     "output_type": "stream",
     "text": [
      "2024-05-27 12:43:32\n",
      "2024-05-20 12:53:56\n",
      "2024-05-09 16:45:25\n",
      "2024-05-03 11:37:15\n",
      "2024-04-26 12:12:10\n",
      "2024-04-19 11:33:29\n",
      "2024-04-11 17:11:08\n",
      "2024-04-04 10:54:14\n",
      "2024-03-27 11:38:58\n",
      "2024-03-19 11:56:22\n",
      "2024-03-13 09:45:51\n",
      "2024-03-06 10:35:03\n",
      "2024-02-28 16:30:13\n",
      "2024-02-21 09:27:59\n",
      "2024-02-13 17:15:05\n",
      "2024-02-07 09:58:54\n",
      "2024-02-01 11:39:16\n",
      "2024-01-25 14:50:11\n",
      "2024-01-17 11:16:02\n",
      "2024-01-09 14:12:06\n",
      "2023-12-28 08:45:01\n",
      "2023-12-20 09:00:16\n",
      "2023-12-12 17:01:38\n",
      "2023-12-05 16:10:44\n",
      "2023-11-29 11:12:31\n",
      "2023-11-22 15:48:39\n",
      "2023-11-15 18:20:04\n",
      "2023-11-08 14:40:01\n",
      "2023-11-01 13:15:03\n",
      "2023-10-23 14:42:27\n",
      "2023-10-12 17:26:07\n",
      "2023-10-06 12:24:05\n",
      "2023-09-28 12:52:26\n",
      "2023-09-19 14:39:36\n",
      "2023-09-11 10:34:27\n",
      "2023-09-01 14:18:25\n",
      "2023-08-24 09:03:20\n",
      "2023-08-15 18:00:11\n",
      "2023-08-08 10:31:04\n",
      "2023-07-28 10:47:29\n",
      "2023-07-17 16:22:39\n",
      "2023-07-10 02:51:05\n",
      "2023-06-30 18:14:50\n",
      "2023-06-23 15:15:25\n",
      "2023-06-14 21:10:00\n",
      "2023-06-07 13:26:25\n",
      "2023-05-29 17:31:07\n",
      "2023-05-22 15:34:32\n",
      "2023-05-12 14:24:01\n",
      "2023-05-04 10:54:58\n",
      "2023-04-24 11:53:08\n",
      "2023-04-14 13:17:00\n",
      "2023-04-06 15:56:18\n",
      "2023-03-28 12:52:38\n",
      "2023-03-19 10:35:04\n",
      "2023-03-10 13:23:21\n",
      "2023-03-02 10:54:30\n",
      "2023-02-21 17:25:03\n",
      "2023-02-14 10:07:14\n",
      "2023-02-03 11:47:07\n",
      "2023-01-24 10:09:18\n",
      "2023-01-09 10:19:45\n",
      "2022-12-27 17:56:53\n",
      "posts downloaded\n"
     ]
    },
    {
     "name": "stderr",
     "output_type": "stream",
     "text": [
      "100%|██████████| 5939/5939 [1:00:51<00:00,  1.63it/s]\n"
     ]
    },
    {
     "name": "stdout",
     "output_type": "stream",
     "text": [
      "Error processing sochigov: \"None of [Index(['id', 'date', 'text', 'post_id', 'parents_stack', 'likes.count'], dtype='object')] are in the [columns]\". Moving to the next domain.\n",
      "2024-05-06 12:27:34\n",
      "2024-04-06 17:00:00\n",
      "2024-03-08 11:00:02\n",
      "2024-02-06 20:36:40\n",
      "2024-01-08 17:00:01\n",
      "2023-12-04 14:09:08\n",
      "2023-10-26 15:51:45\n",
      "2023-09-26 14:30:42\n",
      "2023-08-25 11:09:49\n",
      "2023-07-25 21:57:04\n",
      "2023-06-24 12:22:22\n",
      "2023-05-29 17:40:14\n",
      "2023-04-25 19:03:06\n",
      "2023-03-22 15:03:25\n",
      "2023-02-17 16:28:58\n",
      "2023-01-16 18:07:26\n",
      "2022-12-14 17:29:45\n",
      "posts downloaded\n"
     ]
    },
    {
     "name": "stderr",
     "output_type": "stream",
     "text": [
      "100%|██████████| 1403/1403 [13:47<00:00,  1.70it/s]\n"
     ]
    },
    {
     "name": "stdout",
     "output_type": "stream",
     "text": [
      "Error processing mcu_sochi: \"None of [Index(['id', 'date', 'text', 'post_id', 'parents_stack', 'likes.count'], dtype='object')] are in the [columns]\". Moving to the next domain.\n",
      "2024-05-08 14:06:42\n",
      "2024-04-11 15:42:38\n",
      "2024-03-20 14:23:51\n",
      "2024-02-18 12:46:30\n",
      "2024-01-27 13:32:03\n",
      "2023-12-11 17:12:40\n",
      "2023-11-15 11:18:14\n",
      "2023-10-16 15:03:08\n",
      "2023-09-15 12:36:21\n",
      "2023-08-17 16:03:00\n",
      "2023-07-14 14:03:17\n",
      "2023-06-19 11:11:17\n",
      "2023-05-05 15:46:05\n",
      "2023-03-08 08:12:05\n",
      "2022-12-06 16:43:59\n",
      "posts downloaded\n"
     ]
    },
    {
     "name": "stderr",
     "output_type": "stream",
     "text": [
      "100%|██████████| 1327/1327 [16:18<00:00,  1.36it/s] \n"
     ]
    },
    {
     "name": "stdout",
     "output_type": "stream",
     "text": [
      "Error processing sochi_transport_i_dorogi: \"None of [Index(['id', 'date', 'text', 'post_id', 'parents_stack', 'likes.count'], dtype='object')] are in the [columns]\". Moving to the next domain.\n",
      "2024-05-17 08:17:40\n",
      "2024-04-26 12:10:59\n",
      "2024-03-30 10:24:22\n",
      "2024-02-16 08:49:42\n",
      "2024-01-10 17:18:45\n",
      "2023-12-19 13:59:58\n",
      "2023-11-30 10:35:12\n",
      "2023-11-15 13:00:05\n",
      "2023-10-27 13:00:01\n",
      "2023-10-09 15:23:38\n",
      "2023-09-20 18:52:02\n",
      "2023-09-04 17:21:05\n",
      "2023-08-14 13:57:58\n",
      "2023-07-24 12:31:13\n",
      "2023-07-08 16:40:48\n",
      "2023-06-16 14:30:44\n",
      "2023-05-26 10:43:58\n",
      "2023-05-05 07:07:13\n",
      "2023-04-11 08:40:04\n",
      "2023-03-19 07:20:21\n",
      "2023-02-25 15:25:13\n",
      "2023-02-04 10:35:22\n",
      "2023-01-18 16:14:26\n",
      "2022-12-26 10:08:57\n",
      "posts downloaded\n"
     ]
    },
    {
     "name": "stderr",
     "output_type": "stream",
     "text": [
      "100%|██████████| 2140/2140 [24:32<00:00,  1.45it/s]\n"
     ]
    },
    {
     "name": "stdout",
     "output_type": "stream",
     "text": [
      "Error processing dtpsochi: \"None of [Index(['id', 'date', 'text', 'post_id', 'parents_stack', 'likes.count'], dtype='object')] are in the [columns]\". Moving to the next domain.\n",
      "2024-05-30 15:26:12\n",
      "2024-05-27 20:00:09\n",
      "2024-05-24 10:22:19\n",
      "2024-05-21 11:16:50\n",
      "2024-05-17 12:14:12\n",
      "2024-05-14 19:57:30\n",
      "2024-05-10 21:03:57\n",
      "2024-05-06 16:07:05\n",
      "2024-05-03 08:36:08\n",
      "2024-04-30 06:20:23\n",
      "2024-04-26 20:32:47\n",
      "2024-04-24 08:44:52\n",
      "2024-04-20 18:20:19\n",
      "2024-04-17 09:06:46\n",
      "2024-04-14 07:41:35\n",
      "2024-04-09 21:05:08\n",
      "2024-04-04 20:38:51\n",
      "2024-03-30 20:26:03\n",
      "2024-03-27 19:24:50\n",
      "2024-03-23 15:34:03\n",
      "2024-03-17 17:00:01\n",
      "2024-03-10 08:06:54\n",
      "2024-03-02 22:50:03\n",
      "2024-02-25 09:10:00\n",
      "2024-02-20 21:37:46\n",
      "2024-02-16 08:34:41\n",
      "2024-02-11 21:04:00\n",
      "2024-02-06 11:37:14\n",
      "2024-02-01 18:15:55\n",
      "2024-01-28 18:36:08\n",
      "2024-01-23 20:33:06\n",
      "2024-01-19 12:50:21\n",
      "2024-01-14 20:52:47\n",
      "2024-01-10 20:03:52\n",
      "2024-01-05 10:49:22\n",
      "2023-12-31 13:27:00\n"
     ]
    },
    {
     "ename": "KeyboardInterrupt",
     "evalue": "",
     "output_type": "error",
     "traceback": [
      "\u001b[0;31m---------------------------------------------------------------------------\u001b[0m",
      "\u001b[0;31mKeyboardInterrupt\u001b[0m                         Traceback (most recent call last)",
      "Cell \u001b[0;32mIn[2], line 5\u001b[0m\n\u001b[1;32m      3\u001b[0m \u001b[38;5;28;01mfor\u001b[39;00m domain \u001b[38;5;129;01min\u001b[39;00m domain:\n\u001b[1;32m      4\u001b[0m     \u001b[38;5;28;01mtry\u001b[39;00m:\n\u001b[0;32m----> 5\u001b[0m         result_df \u001b[38;5;241m=\u001b[39m \u001b[43mVKParser\u001b[49m\u001b[43m(\u001b[49m\u001b[43m)\u001b[49m\u001b[38;5;241;43m.\u001b[39;49m\u001b[43mrun_parser\u001b[49m\u001b[43m(\u001b[49m\u001b[43mdomain\u001b[49m\u001b[43m,\u001b[49m\u001b[43m \u001b[49m\u001b[43mtoken\u001b[49m\u001b[43m,\u001b[49m\u001b[43m \u001b[49m\u001b[43mstep\u001b[49m\u001b[38;5;241;43m=\u001b[39;49m\u001b[38;5;241;43m100\u001b[39;49m\u001b[43m,\u001b[49m\u001b[43m \u001b[49m\u001b[43mcutoff_date\u001b[49m\u001b[38;5;241;43m=\u001b[39;49m\u001b[38;5;124;43m'\u001b[39;49m\u001b[38;5;124;43m2023-01-01\u001b[39;49m\u001b[38;5;124;43m'\u001b[39;49m\u001b[43m)\u001b[49m \u001b[38;5;66;03m# парсинг постов и комментариев в один датафрейм\u001b[39;00m\n\u001b[1;32m      6\u001b[0m         result_df\u001b[38;5;241m.\u001b[39mto_csv(\u001b[38;5;124mf\u001b[39m\u001b[38;5;124m'\u001b[39m\u001b[38;5;124m/Users/sashamorozov/Documents/Text_НИРМА/data_2/\u001b[39m\u001b[38;5;132;01m{\u001b[39;00mdomain\u001b[38;5;132;01m}\u001b[39;00m\u001b[38;5;124m.csv\u001b[39m\u001b[38;5;124m'\u001b[39m, index\u001b[38;5;241m=\u001b[39m\u001b[38;5;28;01mFalse\u001b[39;00m) \u001b[38;5;66;03m# сохранение результата в файл csv\u001b[39;00m\n\u001b[1;32m      7\u001b[0m         \u001b[38;5;28mprint\u001b[39m(\u001b[38;5;124mf\u001b[39m\u001b[38;5;124m'\u001b[39m\u001b[38;5;124mDone for \u001b[39m\u001b[38;5;132;01m{\u001b[39;00mdomain\u001b[38;5;132;01m}\u001b[39;00m\u001b[38;5;124m!\u001b[39m\u001b[38;5;124m'\u001b[39m)\n",
      "File \u001b[0;32m~/Documents/Code/lib_sloyka/sloyka/sloyka/src/data_getter.py:359\u001b[0m, in \u001b[0;36mVKParser.run_parser\u001b[0;34m(self, owner_id, your_token, step, cutoff_date, number_of_messages)\u001b[0m\n\u001b[1;32m    348\u001b[0m \u001b[38;5;28;01mdef\u001b[39;00m \u001b[38;5;21mrun_parser\u001b[39m(\u001b[38;5;28mself\u001b[39m, owner_id, your_token, step, cutoff_date, number_of_messages\u001b[38;5;241m=\u001b[39m\u001b[38;5;28mfloat\u001b[39m(\u001b[38;5;124m'\u001b[39m\u001b[38;5;124minf\u001b[39m\u001b[38;5;124m'\u001b[39m)):\n\u001b[1;32m    349\u001b[0m \u001b[38;5;250m    \u001b[39m\u001b[38;5;124;03m\"\"\"\u001b[39;00m\n\u001b[1;32m    350\u001b[0m \u001b[38;5;124;03m    Runs the parser with the given parameters and returns a combined DataFrame of posts and comments.\u001b[39;00m\n\u001b[1;32m    351\u001b[0m \u001b[38;5;124;03m    \u001b[39;00m\n\u001b[0;32m   (...)\u001b[0m\n\u001b[1;32m    357\u001b[0m \u001b[38;5;124;03m    :return: A combined DataFrame of posts and comments.\u001b[39;00m\n\u001b[1;32m    358\u001b[0m \u001b[38;5;124;03m    \"\"\"\u001b[39;00m\n\u001b[0;32m--> 359\u001b[0m     df_posts \u001b[38;5;241m=\u001b[39m \u001b[38;5;28;43mself\u001b[39;49m\u001b[38;5;241;43m.\u001b[39;49m\u001b[43mrun_posts\u001b[49m\u001b[43m(\u001b[49m\u001b[43mowner_id\u001b[49m\u001b[43m,\u001b[49m\u001b[43m \u001b[49m\u001b[43myour_token\u001b[49m\u001b[43m,\u001b[49m\u001b[43m \u001b[49m\u001b[43mstep\u001b[49m\u001b[43m,\u001b[49m\u001b[43m \u001b[49m\u001b[43mcutoff_date\u001b[49m\u001b[43m,\u001b[49m\u001b[43m \u001b[49m\u001b[43mnumber_of_messages\u001b[49m\u001b[43m)\u001b[49m\n\u001b[1;32m    360\u001b[0m     post_ids \u001b[38;5;241m=\u001b[39m df_posts[\u001b[38;5;124m'\u001b[39m\u001b[38;5;124mid\u001b[39m\u001b[38;5;124m'\u001b[39m]\u001b[38;5;241m.\u001b[39mtolist()\n\u001b[1;32m    362\u001b[0m     df_comments \u001b[38;5;241m=\u001b[39m \u001b[38;5;28mself\u001b[39m\u001b[38;5;241m.\u001b[39mrun_comments(owner_id, post_ids, your_token)\n",
      "File \u001b[0;32m~/Documents/Code/lib_sloyka/sloyka/sloyka/src/data_getter.py:330\u001b[0m, in \u001b[0;36mVKParser.run_posts\u001b[0;34m(self, owner_id, your_token, step, cutoff_date, number_of_messages)\u001b[0m\n\u001b[1;32m    328\u001b[0m     \u001b[38;5;28;01melse\u001b[39;00m:\n\u001b[1;32m    329\u001b[0m         \u001b[38;5;28;01mcontinue\u001b[39;00m\n\u001b[0;32m--> 330\u001b[0m     \u001b[43mtime\u001b[49m\u001b[38;5;241;43m.\u001b[39;49m\u001b[43msleep\u001b[49m\u001b[43m(\u001b[49m\u001b[43mrandom\u001b[49m\u001b[38;5;241;43m.\u001b[39;49m\u001b[43mrandom\u001b[49m\u001b[43m(\u001b[49m\u001b[43m)\u001b[49m\u001b[43m)\u001b[49m\n\u001b[1;32m    331\u001b[0m df_posts \u001b[38;5;241m=\u001b[39m pd\u001b[38;5;241m.\u001b[39mconcat(all_posts)\u001b[38;5;241m.\u001b[39mreset_index(drop\u001b[38;5;241m=\u001b[39m\u001b[38;5;28;01mTrue\u001b[39;00m)\n\u001b[1;32m    332\u001b[0m df_posts \u001b[38;5;241m=\u001b[39m df_posts[df_posts\u001b[38;5;241m.\u001b[39mtext\u001b[38;5;241m.\u001b[39mmap(\u001b[38;5;28;01mlambda\u001b[39;00m x: \u001b[38;5;28mlen\u001b[39m(x)) \u001b[38;5;241m>\u001b[39m \u001b[38;5;241m0\u001b[39m]\n",
      "\u001b[0;31mKeyboardInterrupt\u001b[0m: "
     ]
    }
   ],
   "source": [
    "domain = ['sochigov', 'mcu_sochi', 'sochi_transport_i_dorogi', 'dtpsochi' , 'sochionline', 'sochi_official', 'krdru', 'mcu_krdru', 'krasnodarelektroseti', 'dghkrd', 'my_krd', 'krd_23', 'kraskrd', 'typical_krd'] # домены групп в '...'  \n",
    "token = '492f35ec492f35ec492f35ecdd4a3926724492f492f35ec2c17df616b6994a83242f520' # сервисный ключ от приложения ВК\n",
    "for domain in domain:\n",
    "    try:\n",
    "        result_df = VKParser().run_parser(domain, token, step=100, cutoff_date='2023-01-01') # парсинг постов и комментариев в один датафрейм\n",
    "        result_df.to_csv(f'/Users/sashamorozov/Documents/Text_НИРМА/data_2/{domain}.csv', index=False) # сохранение результата в файл csv\n",
    "        print(f'Done for {domain}!')\n",
    "    except Exception as e:\n",
    "        print(f'Error processing {domain}: {e}. Moving to the next domain.')\n",
    "        continue"
   ]
  },
  {
   "cell_type": "code",
   "execution_count": 2,
   "metadata": {},
   "outputs": [],
   "source": [
    "# owner_id='-129354225' # группа \"центральный район за комфортную среду обитания\"\n",
    "token='492f35ec492f35ec492f35ecdd4a3926724492f492f35ec2c17df616b6994a83242f520'"
   ]
  },
  {
   "cell_type": "code",
   "execution_count": 3,
   "metadata": {},
   "outputs": [
    {
     "name": "stdout",
     "output_type": "stream",
     "text": [
      "2024-03-26 10:51:07\n"
     ]
    },
    {
     "name": "stderr",
     "output_type": "stream",
     "text": [
      "100%|██████████| 10/10 [00:12<00:00,  1.21s/it]\n"
     ]
    },
    {
     "name": "stdout",
     "output_type": "stream",
     "text": [
      "comments downloaded\n",
      "2024-02-25 22:24:54\n",
      "posts downloaded\n"
     ]
    },
    {
     "name": "stderr",
     "output_type": "stream",
     "text": [
      "100%|██████████| 8/8 [00:08<00:00,  1.03s/it]\n"
     ]
    },
    {
     "name": "stdout",
     "output_type": "stream",
     "text": [
      "comments downloaded\n",
      "2024-03-18 11:51:34\n"
     ]
    },
    {
     "name": "stderr",
     "output_type": "stream",
     "text": [
      "100%|██████████| 7/7 [00:05<00:00,  1.34it/s]"
     ]
    },
    {
     "name": "stdout",
     "output_type": "stream",
     "text": [
      "comments downloaded\n"
     ]
    },
    {
     "name": "stderr",
     "output_type": "stream",
     "text": [
      "\n"
     ]
    }
   ],
   "source": [
    "import pandas as pd\n",
    "posts_df = pd.DataFrame()\n",
    "for i in ['-58956','-140123666','-8037']:\n",
    "\n",
    "    posts_df = pd.concat([posts_df, VKParser().run_parser(i, token, step=10, cutoff_date=\"2024-03-01\", number_of_messages=10)])"
   ]
  },
  {
   "cell_type": "code",
   "execution_count": 11,
   "metadata": {},
   "outputs": [
    {
     "data": {
      "text/html": [
       "<div>\n",
       "<style scoped>\n",
       "    .dataframe tbody tr th:only-of-type {\n",
       "        vertical-align: middle;\n",
       "    }\n",
       "\n",
       "    .dataframe tbody tr th {\n",
       "        vertical-align: top;\n",
       "    }\n",
       "\n",
       "    .dataframe thead th {\n",
       "        text-align: right;\n",
       "    }\n",
       "</style>\n",
       "<table border=\"1\" class=\"dataframe\">\n",
       "  <thead>\n",
       "    <tr style=\"text-align: right;\">\n",
       "      <th></th>\n",
       "      <th>date</th>\n",
       "      <th>id</th>\n",
       "      <th>text</th>\n",
       "      <th>views.count</th>\n",
       "      <th>likes.count</th>\n",
       "      <th>reposts.count</th>\n",
       "      <th>type</th>\n",
       "      <th>link</th>\n",
       "    </tr>\n",
       "  </thead>\n",
       "  <tbody>\n",
       "    <tr>\n",
       "      <th>0</th>\n",
       "      <td>2024-02-25 22:24:54</td>\n",
       "      <td>74596</td>\n",
       "      <td>В \"Юбилейном\" дождались школ, но не дождались ...</td>\n",
       "      <td>17110</td>\n",
       "      <td>133</td>\n",
       "      <td>38</td>\n",
       "      <td>post</td>\n",
       "      <td>https://vk.com/wall-6253_127260|получит</td>\n",
       "    </tr>\n",
       "    <tr>\n",
       "      <th>99</th>\n",
       "      <td>2024-03-13 15:12:22</td>\n",
       "      <td>75541</td>\n",
       "      <td>Будьте осторожны на перекрёстках: переход на к...</td>\n",
       "      <td>2616</td>\n",
       "      <td>40</td>\n",
       "      <td>11</td>\n",
       "      <td>post</td>\n",
       "      <td>NaN</td>\n",
       "    </tr>\n",
       "    <tr>\n",
       "      <th>98</th>\n",
       "      <td>2024-03-13 15:33:00</td>\n",
       "      <td>75543</td>\n",
       "      <td>МО \"Озеро Долгое\" планирует потратить 121 млн ...</td>\n",
       "      <td>3671</td>\n",
       "      <td>46</td>\n",
       "      <td>4</td>\n",
       "      <td>post</td>\n",
       "      <td>https://russia-news.ru/ru/8-news/5648-trendy-b...</td>\n",
       "    </tr>\n",
       "    <tr>\n",
       "      <th>97</th>\n",
       "      <td>2024-03-13 16:50:11</td>\n",
       "      <td>75548</td>\n",
       "      <td>Санкт-Петербург, муниципальное образование Кол...</td>\n",
       "      <td>2547</td>\n",
       "      <td>49</td>\n",
       "      <td>4</td>\n",
       "      <td>post</td>\n",
       "      <td>NaN</td>\n",
       "    </tr>\n",
       "    <tr>\n",
       "      <th>96</th>\n",
       "      <td>2024-03-13 17:15:00</td>\n",
       "      <td>75549</td>\n",
       "      <td>Беглову подогнали новенькие ̶C̶h̶e̶r̶y̶ ̶T̶i̶g...</td>\n",
       "      <td>5227</td>\n",
       "      <td>66</td>\n",
       "      <td>20</td>\n",
       "      <td>post</td>\n",
       "      <td>NaN</td>\n",
       "    </tr>\n",
       "    <tr>\n",
       "      <th>...</th>\n",
       "      <td>...</td>\n",
       "      <td>...</td>\n",
       "      <td>...</td>\n",
       "      <td>...</td>\n",
       "      <td>...</td>\n",
       "      <td>...</td>\n",
       "      <td>...</td>\n",
       "      <td>...</td>\n",
       "    </tr>\n",
       "    <tr>\n",
       "      <th>4</th>\n",
       "      <td>2024-03-26 20:00:02</td>\n",
       "      <td>415455</td>\n",
       "      <td>Весенний закат 🌆📷Борис Конов</td>\n",
       "      <td>6276</td>\n",
       "      <td>177</td>\n",
       "      <td>16</td>\n",
       "      <td>post</td>\n",
       "      <td>NaN</td>\n",
       "    </tr>\n",
       "    <tr>\n",
       "      <th>3</th>\n",
       "      <td>2024-03-26 20:05:16</td>\n",
       "      <td>415456</td>\n",
       "      <td>Отступающий грозовой фронт 🌩️Фото: [club203406...</td>\n",
       "      <td>4435</td>\n",
       "      <td>62</td>\n",
       "      <td>5</td>\n",
       "      <td>post</td>\n",
       "      <td>NaN</td>\n",
       "    </tr>\n",
       "    <tr>\n",
       "      <th>2</th>\n",
       "      <td>2024-03-26 21:35:44</td>\n",
       "      <td>415477</td>\n",
       "      <td>Весенняя радуга 🌈📷 [id1621959|Татьяна Лопатина...</td>\n",
       "      <td>2869</td>\n",
       "      <td>44</td>\n",
       "      <td>5</td>\n",
       "      <td>post</td>\n",
       "      <td>NaN</td>\n",
       "    </tr>\n",
       "    <tr>\n",
       "      <th>1</th>\n",
       "      <td>2024-03-26 21:46:45</td>\n",
       "      <td>415483</td>\n",
       "      <td>Кого-то явно не воспитывали  🧐</td>\n",
       "      <td>4291</td>\n",
       "      <td>8</td>\n",
       "      <td>4</td>\n",
       "      <td>post</td>\n",
       "      <td>NaN</td>\n",
       "    </tr>\n",
       "    <tr>\n",
       "      <th>0</th>\n",
       "      <td>2024-03-26 22:07:45</td>\n",
       "      <td>415487</td>\n",
       "      <td>⚠️Уважаемые автомобилисты, обратите внимание н...</td>\n",
       "      <td>7071</td>\n",
       "      <td>6</td>\n",
       "      <td>17</td>\n",
       "      <td>post</td>\n",
       "      <td>NaN</td>\n",
       "    </tr>\n",
       "  </tbody>\n",
       "</table>\n",
       "<p>439 rows × 8 columns</p>\n",
       "</div>"
      ],
      "text/plain": [
       "                  date      id  \\\n",
       "0  2024-02-25 22:24:54   74596   \n",
       "99 2024-03-13 15:12:22   75541   \n",
       "98 2024-03-13 15:33:00   75543   \n",
       "97 2024-03-13 16:50:11   75548   \n",
       "96 2024-03-13 17:15:00   75549   \n",
       "..                 ...     ...   \n",
       "4  2024-03-26 20:00:02  415455   \n",
       "3  2024-03-26 20:05:16  415456   \n",
       "2  2024-03-26 21:35:44  415477   \n",
       "1  2024-03-26 21:46:45  415483   \n",
       "0  2024-03-26 22:07:45  415487   \n",
       "\n",
       "                                                 text  views.count  \\\n",
       "0   В \"Юбилейном\" дождались школ, но не дождались ...        17110   \n",
       "99  Будьте осторожны на перекрёстках: переход на к...         2616   \n",
       "98  МО \"Озеро Долгое\" планирует потратить 121 млн ...         3671   \n",
       "97  Санкт-Петербург, муниципальное образование Кол...         2547   \n",
       "96  Беглову подогнали новенькие ̶C̶h̶e̶r̶y̶ ̶T̶i̶g...         5227   \n",
       "..                                                ...          ...   \n",
       "4                        Весенний закат 🌆📷Борис Конов         6276   \n",
       "3   Отступающий грозовой фронт 🌩️Фото: [club203406...         4435   \n",
       "2   Весенняя радуга 🌈📷 [id1621959|Татьяна Лопатина...         2869   \n",
       "1                      Кого-то явно не воспитывали  🧐         4291   \n",
       "0   ⚠️Уважаемые автомобилисты, обратите внимание н...         7071   \n",
       "\n",
       "    likes.count  reposts.count  type  \\\n",
       "0           133             38  post   \n",
       "99           40             11  post   \n",
       "98           46              4  post   \n",
       "97           49              4  post   \n",
       "96           66             20  post   \n",
       "..          ...            ...   ...   \n",
       "4           177             16  post   \n",
       "3            62              5  post   \n",
       "2            44              5  post   \n",
       "1             8              4  post   \n",
       "0             6             17  post   \n",
       "\n",
       "                                                 link  \n",
       "0             https://vk.com/wall-6253_127260|получит  \n",
       "99                                                NaN  \n",
       "98  https://russia-news.ru/ru/8-news/5648-trendy-b...  \n",
       "97                                                NaN  \n",
       "96                                                NaN  \n",
       "..                                                ...  \n",
       "4                                                 NaN  \n",
       "3                                                 NaN  \n",
       "2                                                 NaN  \n",
       "1                                                 NaN  \n",
       "0                                                 NaN  \n",
       "\n",
       "[439 rows x 8 columns]"
      ]
     },
     "execution_count": 11,
     "metadata": {},
     "output_type": "execute_result"
    }
   ],
   "source": [
    "posts_df.sort_values(by='id')"
   ]
  },
  {
   "cell_type": "code",
   "execution_count": 5,
   "metadata": {},
   "outputs": [
    {
     "name": "stdout",
     "output_type": "stream",
     "text": [
      "comments downloaded\n"
     ]
    }
   ],
   "source": [
    "post_ids = posts_df[\"id\"].to_list()\n",
    "comments_df = VKParser().run_comments(owner_id=owner_id, post_ids=post_ids, access_token=token)"
   ]
  },
  {
   "cell_type": "code",
   "execution_count": 6,
   "metadata": {},
   "outputs": [
    {
     "data": {
      "text/html": [
       "<div>\n",
       "<style scoped>\n",
       "    .dataframe tbody tr th:only-of-type {\n",
       "        vertical-align: middle;\n",
       "    }\n",
       "\n",
       "    .dataframe tbody tr th {\n",
       "        vertical-align: top;\n",
       "    }\n",
       "\n",
       "    .dataframe thead th {\n",
       "        text-align: right;\n",
       "    }\n",
       "</style>\n",
       "<table border=\"1\" class=\"dataframe\">\n",
       "  <thead>\n",
       "    <tr style=\"text-align: right;\">\n",
       "      <th></th>\n",
       "      <th>id</th>\n",
       "      <th>date</th>\n",
       "      <th>text</th>\n",
       "      <th>post_id</th>\n",
       "      <th>parents_stack</th>\n",
       "      <th>likes.count</th>\n",
       "      <th>type</th>\n",
       "    </tr>\n",
       "  </thead>\n",
       "  <tbody>\n",
       "    <tr>\n",
       "      <th>0</th>\n",
       "      <td>333531</td>\n",
       "      <td>2024-03-21 07:35:33</td>\n",
       "      <td>Отличная идея. Территории точно хватит для реа...</td>\n",
       "      <td>333530</td>\n",
       "      <td>[]</td>\n",
       "      <td>14</td>\n",
       "      <td>comment</td>\n",
       "    </tr>\n",
       "    <tr>\n",
       "      <th>1</th>\n",
       "      <td>333532</td>\n",
       "      <td>2024-03-21 07:39:46</td>\n",
       "      <td>Ещё для ограничения движения курьеров на элект...</td>\n",
       "      <td>333530</td>\n",
       "      <td>[]</td>\n",
       "      <td>5</td>\n",
       "      <td>comment</td>\n",
       "    </tr>\n",
       "    <tr>\n",
       "      <th>2</th>\n",
       "      <td>333576</td>\n",
       "      <td>2024-03-21 08:37:47</td>\n",
       "      <td>[id533640320|Андрей], через узкую калитку курь...</td>\n",
       "      <td>333530</td>\n",
       "      <td>[333532]</td>\n",
       "      <td>1</td>\n",
       "      <td>comment</td>\n",
       "    </tr>\n",
       "  </tbody>\n",
       "</table>\n",
       "</div>"
      ],
      "text/plain": [
       "       id                 date  \\\n",
       "0  333531  2024-03-21 07:35:33   \n",
       "1  333532  2024-03-21 07:39:46   \n",
       "2  333576  2024-03-21 08:37:47   \n",
       "\n",
       "                                                text  post_id parents_stack  \\\n",
       "0  Отличная идея. Территории точно хватит для реа...   333530            []   \n",
       "1  Ещё для ограничения движения курьеров на элект...   333530            []   \n",
       "2  [id533640320|Андрей], через узкую калитку курь...   333530      [333532]   \n",
       "\n",
       "   likes.count     type  \n",
       "0           14  comment  \n",
       "1            5  comment  \n",
       "2            1  comment  "
      ]
     },
     "execution_count": 6,
     "metadata": {},
     "output_type": "execute_result"
    }
   ],
   "source": [
    "comments_df.head(3)"
   ]
  },
  {
   "cell_type": "code",
   "execution_count": 9,
   "metadata": {},
   "outputs": [
    {
     "name": "stdout",
     "output_type": "stream",
     "text": [
      "2024-02-01 10:30:00\n",
      "posts downloaded\n",
      "comments downloaded\n"
     ]
    }
   ],
   "source": [
    "result_df = VKParser().run_parser(owner_id, token, step=100, cutoff_date='2024-03-20') #объединяем посты и комментарии в один датафрейм"
   ]
  },
  {
   "cell_type": "code",
   "execution_count": 15,
   "metadata": {},
   "outputs": [
    {
     "data": {
      "text/html": [
       "<div>\n",
       "<style scoped>\n",
       "    .dataframe tbody tr th:only-of-type {\n",
       "        vertical-align: middle;\n",
       "    }\n",
       "\n",
       "    .dataframe tbody tr th {\n",
       "        vertical-align: top;\n",
       "    }\n",
       "\n",
       "    .dataframe thead th {\n",
       "        text-align: right;\n",
       "    }\n",
       "</style>\n",
       "<table border=\"1\" class=\"dataframe\">\n",
       "  <thead>\n",
       "    <tr style=\"text-align: right;\">\n",
       "      <th></th>\n",
       "      <th>date</th>\n",
       "      <th>id</th>\n",
       "      <th>text</th>\n",
       "      <th>views.count</th>\n",
       "      <th>likes.count</th>\n",
       "      <th>reposts.count</th>\n",
       "      <th>type</th>\n",
       "      <th>link</th>\n",
       "      <th>post_id</th>\n",
       "      <th>parents_stack</th>\n",
       "    </tr>\n",
       "  </thead>\n",
       "  <tbody>\n",
       "    <tr>\n",
       "      <th>503</th>\n",
       "      <td>2024-03-02 17:54:57</td>\n",
       "      <td>331220</td>\n",
       "      <td>[id588441849|Сергей], я не живу в этом доме</td>\n",
       "      <td>NaN</td>\n",
       "      <td>2</td>\n",
       "      <td>NaN</td>\n",
       "      <td>reply</td>\n",
       "      <td>NaN</td>\n",
       "      <td>331192.0</td>\n",
       "      <td>[331201]</td>\n",
       "    </tr>\n",
       "    <tr>\n",
       "      <th>1058</th>\n",
       "      <td>2024-02-05 16:13:46</td>\n",
       "      <td>328132</td>\n",
       "      <td>Надо конечно же восстановить исторический обли...</td>\n",
       "      <td>NaN</td>\n",
       "      <td>4</td>\n",
       "      <td>NaN</td>\n",
       "      <td>comment</td>\n",
       "      <td>NaN</td>\n",
       "      <td>327947.0</td>\n",
       "      <td>[]</td>\n",
       "    </tr>\n",
       "    <tr>\n",
       "      <th>731</th>\n",
       "      <td>2024-02-17 16:33:06</td>\n",
       "      <td>329439</td>\n",
       "      <td>А зачем? Сейчас же нельзя писать плохое про чи...</td>\n",
       "      <td>NaN</td>\n",
       "      <td>4</td>\n",
       "      <td>NaN</td>\n",
       "      <td>comment</td>\n",
       "      <td>NaN</td>\n",
       "      <td>329438.0</td>\n",
       "      <td>[]</td>\n",
       "    </tr>\n",
       "    <tr>\n",
       "      <th>298</th>\n",
       "      <td>2024-03-17 16:53:03</td>\n",
       "      <td>332868</td>\n",
       "      <td>[id747280507|Lora], именно с согласия  собстве...</td>\n",
       "      <td>NaN</td>\n",
       "      <td>1</td>\n",
       "      <td>NaN</td>\n",
       "      <td>reply</td>\n",
       "      <td>NaN</td>\n",
       "      <td>332749.0</td>\n",
       "      <td>[332759]</td>\n",
       "    </tr>\n",
       "    <tr>\n",
       "      <th>465</th>\n",
       "      <td>2024-03-03 09:34:13</td>\n",
       "      <td>331262</td>\n",
       "      <td>Где г/номер этого транспортного средства?</td>\n",
       "      <td>NaN</td>\n",
       "      <td>7</td>\n",
       "      <td>NaN</td>\n",
       "      <td>comment</td>\n",
       "      <td>NaN</td>\n",
       "      <td>331239.0</td>\n",
       "      <td>[]</td>\n",
       "    </tr>\n",
       "  </tbody>\n",
       "</table>\n",
       "</div>"
      ],
      "text/plain": [
       "                     date      id  \\\n",
       "503   2024-03-02 17:54:57  331220   \n",
       "1058  2024-02-05 16:13:46  328132   \n",
       "731   2024-02-17 16:33:06  329439   \n",
       "298   2024-03-17 16:53:03  332868   \n",
       "465   2024-03-03 09:34:13  331262   \n",
       "\n",
       "                                                   text  views.count  \\\n",
       "503         [id588441849|Сергей], я не живу в этом доме          NaN   \n",
       "1058  Надо конечно же восстановить исторический обли...          NaN   \n",
       "731   А зачем? Сейчас же нельзя писать плохое про чи...          NaN   \n",
       "298   [id747280507|Lora], именно с согласия  собстве...          NaN   \n",
       "465           Где г/номер этого транспортного средства?          NaN   \n",
       "\n",
       "      likes.count  reposts.count     type link   post_id parents_stack  \n",
       "503             2            NaN    reply  NaN  331192.0      [331201]  \n",
       "1058            4            NaN  comment  NaN  327947.0            []  \n",
       "731             4            NaN  comment  NaN  329438.0            []  \n",
       "298             1            NaN    reply  NaN  332749.0      [332759]  \n",
       "465             7            NaN  comment  NaN  331239.0            []  "
      ]
     },
     "execution_count": 15,
     "metadata": {},
     "output_type": "execute_result"
    }
   ],
   "source": [
    "result_df.sample(5)"
   ]
  }
 ],
 "metadata": {
  "kernelspec": {
   "display_name": "nirmapy",
   "language": "python",
   "name": "python3"
  },
  "language_info": {
   "codemirror_mode": {
    "name": "ipython",
    "version": 3
   },
   "file_extension": ".py",
   "mimetype": "text/x-python",
   "name": "python",
   "nbconvert_exporter": "python",
   "pygments_lexer": "ipython3",
   "version": "3.10.13"
  }
 },
 "nbformat": 4,
 "nbformat_minor": 2
}
