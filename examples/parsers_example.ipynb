{
  "cells": [
    {
      "cell_type": "markdown",
      "source": [
        "# Загрузка текстовых данных из VK (посты и комментарии)"
      ],
      "metadata": {
        "id": "hvSRAwa1KJGc"
      }
    },
    {
      "cell_type": "markdown",
      "source": [
        "#### Импорт библиотек"
      ],
      "metadata": {
        "id": "cHDHtJ2OKPmJ"
      }
    },
    {
      "cell_type": "code",
      "execution_count": null,
      "metadata": {
        "id": "kTwl8woPKD9p"
      },
      "outputs": [],
      "source": [
        "import requests\n",
        "import pandas as pd\n",
        "from tqdm import tqdm\n",
        "import datetime\n",
        "import time\n",
        "from typing import List"
      ]
    },
    {
      "cell_type": "markdown",
      "source": [
        "#### Загрузка комментариев и вывод данных в формате DataFrame"
      ],
      "metadata": {
        "id": "MH2aIbhHKY7X"
      }
    },
    {
      "cell_type": "markdown",
      "source": [
        "Функция парсинга комментариев"
      ],
      "metadata": {
        "id": "vl4MyuFGKl9R"
      }
    },
    {
      "cell_type": "code",
      "execution_count": null,
      "metadata": {
        "id": "8LDQ-a-uKD9q"
      },
      "outputs": [],
      "source": [
        "class VkCommentsParser:\n",
        "    def unix_to_date(ts):\n",
        "        return datetime.datetime.utcfromtimestamp(ts).strftime('%Y-%m-%d')\n",
        "\n",
        "    def nes_params(post_id, all_comments):\n",
        "        nes_dict = {}\n",
        "        nes_dict = {}\n",
        "        profiles = all_comments['profiles']\n",
        "        comments = all_comments['items']\n",
        "        first_string = ['NONE', 'NONE', 'NONE']\n",
        "        for comment in comments:\n",
        "            if len(comment['text']) > 3:\n",
        "                second_string = [VkCommentsParser.unix_to_date(comment['date']), comment['likes']['count'],\n",
        "                                comment['text']]\n",
        "                for profile in profiles:\n",
        "                    if comment['from_id'] == profile['id']:\n",
        "                        first_string = [profile['first_name'], profile['last_name']]\n",
        "                nes_dict[comment['id']] = first_string + second_string\n",
        "        return nes_dict\n",
        "\n",
        "    def get_Comments(post_id, owner_id, token, nes_dict={}):\n",
        "        version = 5.131\n",
        "        offset = 0\n",
        "        count = 100\n",
        "        while offset < 500:\n",
        "            response = requests.get('https://api.vk.com/method/wall.getComments',\n",
        "                                params={\n",
        "                                    'access_token': token,\n",
        "                                    'v': version,\n",
        "                                    'owner_id': owner_id,\n",
        "                                    'post_id': post_id,\n",
        "                                    'need_likes': 1,\n",
        "                                    'count': count,\n",
        "                                    'offset': offset,\n",
        "                                    'extended': 1\n",
        "                                }\n",
        "                                )\n",
        "            data_comments = response.json()['response']\n",
        "            tempDict = VkCommentsParser.nes_params(post_id, data_comments)\n",
        "            nes_dict.update(tempDict)\n",
        "            offset += 100\n",
        "            time.sleep(0.5)\n",
        "        return nes_dict\n",
        "\n",
        "    def to_df(nes_dict):\n",
        "        df = pd.DataFrame.from_dict(nes_dict, orient='index',\n",
        "                                    columns=['name', 'last_name', 'date', 'likes', 'text', 'post_id'])\n",
        "        return df"
      ]
    },
    {
      "cell_type": "markdown",
      "source": [
        "Вызов метода и вывод полученных данных.\n",
        "Необходимо ввести ключ-токен приложения для загрузки данных."
      ],
      "metadata": {
        "id": "ihG_WkeEKqPE"
      }
    },
    {
      "cell_type": "code",
      "execution_count": null,
      "metadata": {
        "id": "l8Nuq8vjKD9r",
        "outputId": "0f7514e3-d249-4a32-8911-3da730a16343"
      },
      "outputs": [
        {
          "name": "stdout",
          "output_type": "stream",
          "text": [
            "{10799: ['Elena', 'Goncharenko', '2024-01-26', 0, 'А кто ответственный за организацию концерта?'], 10801: ['Natalia', 'Sergeeva', '2024-01-26', 0, 'мою маму блокадницу, 90 лет в этом году будет, никто никуда не приглашал']}\n"
          ]
        }
      ],
      "source": [
        "token = '492f35ec492f35ec492f35ecdd4a3926724492f492f35ec2c17df616b6994a83242f520'\n",
        "owner_id = \"-51988192\"\n",
        "post_id = \"10796\"\n",
        "\n",
        "# Вызов метода\n",
        "result = VkCommentsParser.get_Comments(post_id, owner_id, token)\n",
        "\n",
        "print(result)"
      ]
    },
    {
      "cell_type": "markdown",
      "source": [
        "#### Загрузка постов и вывод данных в формате DataFrame"
      ],
      "metadata": {
        "id": "YYs3RUoBK3f4"
      }
    },
    {
      "cell_type": "markdown",
      "source": [
        "Функция парсинга постов"
      ],
      "metadata": {
        "id": "bZpDGsKKLPI0"
      }
    },
    {
      "cell_type": "code",
      "execution_count": null,
      "metadata": {
        "id": "dm8QYFFPKD9s"
      },
      "outputs": [],
      "source": [
        "class PostGetter:\n",
        "    def __init__():\n",
        "        pass\n",
        "\n",
        "    API_VERISON = 5.131\n",
        "    OFFSET_STEP = 100\n",
        "    OFFSET_LIMIT = 700\n",
        "    COUNT_ITEMS = 100\n",
        "    SLEEP_TIME = 0.5\n",
        "    TIMEOUT_LIMIT = 15\n",
        "\n",
        "    def get_group_post_ids(owner_id, your_token) -> List[int]:\n",
        "        offset = 0\n",
        "        post_ids = []\n",
        "\n",
        "        while offset < PostGetter.OFFSET_LIMIT:\n",
        "            res = requests.get(\n",
        "                \"https://api.vk.com/method/wall.get\",\n",
        "                params={\n",
        "                    \"access_token\": your_token,\n",
        "                    \"v\": PostGetter.API_VERISON,\n",
        "                    \"owner_id\": owner_id,\n",
        "                    \"count\": PostGetter.COUNT_ITEMS,\n",
        "                    \"offset\": offset,\n",
        "                },\n",
        "            ).json()[\"response\"]\n",
        "\n",
        "            post_ids_new = [k[\"id\"] for k in res[\"items\"]]\n",
        "            post_ids += post_ids_new\n",
        "            offset += PostGetter.OFFSET_STEP\n",
        "\n",
        "        return post_ids\n",
        "\n",
        "    def unix_to_date(ts):  # перевод даты из unix-формата в привычный\n",
        "        return datetime.datetime.utcfromtimestamp(ts).strftime(\"%Y-%m-%d\")\n",
        "\n",
        "    def nes_params(post_id, all_comments):  # работа с необходимыми параметрами.\n",
        "        nes_dict = {}\n",
        "        profiles = all_comments[\"profiles\"]\n",
        "        comments = all_comments[\"items\"]\n",
        "        first_string = [\"NONE\", \"NONE\", \"NONE\"]\n",
        "        for comment in comments:\n",
        "            if len(comment[\"text\"]) > 3:\n",
        "                second_string = [\n",
        "                    PostGetter.unix_to_date(comment[\"date\"]),\n",
        "                    comment[\"text\"],\n",
        "                ]\n",
        "                for profile in profiles:\n",
        "                    if comment[\"from_id\"] == profile[\"id\"]:\n",
        "                        first_string = [\n",
        "                            profile[\"first_name\"],\n",
        "                            profile[\"last_name\"],\n",
        "                        ]\n",
        "                nes_dict[comment[\"id\"]] = (\n",
        "                    first_string + second_string + [post_id]\n",
        "                )\n",
        "        return nes_dict\n",
        "\n",
        "    def get_Comments(\n",
        "        post_id, owner_id, token\n",
        "    ):  # парсинг комментариев по id постов\n",
        "        temp_dict = {}\n",
        "        offset = 0\n",
        "        while offset < PostGetter.OFFSET_LIMIT:\n",
        "            response = requests.get(\n",
        "                \"https://api.vk.com/method/wall.getComments\",\n",
        "                params={\n",
        "                    \"access_token\": token,\n",
        "                    \"v\": PostGetter.API_VERISON,\n",
        "                    \"owner_id\": owner_id,\n",
        "                    \"post_id\": post_id,\n",
        "                    \"count\": PostGetter.COUNT_ITEMS,\n",
        "                    \"offset\": offset,\n",
        "                    \"extended\": 1,\n",
        "                },\n",
        "                timeout=PostGetter.TIMEOUT_LIMIT,\n",
        "            )\n",
        "            data_comments = response.json()[\"response\"]\n",
        "            comments_dict = PostGetter.nes_params(post_id, data_comments)\n",
        "            temp_dict.update(comments_dict)\n",
        "\n",
        "            offset += PostGetter.OFFSET_STEP\n",
        "            time.sleep(PostGetter.SLEEP_TIME)\n",
        "        return temp_dict\n",
        "\n",
        "    def _to_df(nes_dict):  # перевод словаря в датафрейм\n",
        "        df = pd.DataFrame.from_dict(\n",
        "            nes_dict,\n",
        "            orient=\"index\",\n",
        "        )\n",
        "        if 5 in df.columns:\n",
        "            temp_df = df[df[0] == \"NONE\"]\n",
        "            df = df.drop(temp_df.index)\n",
        "            df = df.drop(columns=[5])\n",
        "            temp_df = temp_df.drop(columns=[0])\n",
        "            df.columns = [\"name\", \"last_name\", \"date\", \"text\", \"post_id\"]\n",
        "            temp_df.columns = [\"name\", \"last_name\", \"date\", \"text\", \"post_id\"]\n",
        "            df = pd.concat([df, temp_df]).sort_values(by='post_id')\n",
        "        else:\n",
        "            df.columns = [\"name\", \"last_name\", \"date\", \"text\", \"post_id\"]\n",
        "        df.text = df[\"text\"].str.replace(\"\\n\", \" \")\n",
        "        return df\n",
        "\n",
        "    def run(your_owner_id, your_token, limit_posts=None):\n",
        "        nes_dict = {}\n",
        "        post_ids = PostGetter.get_group_post_ids(your_owner_id, your_token)\n",
        "        for post_id in tqdm(post_ids[:limit_posts]):\n",
        "            comments_dict = PostGetter.get_Comments(post_id, your_owner_id, your_token)\n",
        "            nes_dict.update(comments_dict)\n",
        "\n",
        "        return PostGetter._to_df(nes_dict)"
      ]
    },
    {
      "cell_type": "markdown",
      "source": [
        "Получение данных в формате DataFrame"
      ],
      "metadata": {
        "id": "6N3KQAt9LWD0"
      }
    },
    {
      "cell_type": "code",
      "execution_count": null,
      "metadata": {
        "id": "IFCVo8geKD9t",
        "outputId": "8d261bc3-b683-4598-8f42-55544653603f"
      },
      "outputs": [
        {
          "data": {
            "text/plain": [
              "{10799: ['Elena',\n",
              "  'Goncharenko',\n",
              "  '2024-01-26',\n",
              "  'А кто ответственный за организацию концерта?',\n",
              "  '10796'],\n",
              " 10801: ['Natalia',\n",
              "  'Sergeeva',\n",
              "  '2024-01-26',\n",
              "  'мою маму блокадницу, 90 лет в этом году будет, никто никуда не приглашал',\n",
              "  '10796']}"
            ]
          },
          "execution_count": 11,
          "metadata": {},
          "output_type": "execute_result"
        }
      ],
      "source": [
        "post_id = \"10796\"\n",
        "owner_id = \"-51988192\"\n",
        "token = '492f35ec492f35ec492f35ecdd4a3926724492f492f35ec2c17df616b6994a83242f520'\n",
        "\n",
        "#Вызов метода\n",
        "result_df = PostGetter.get_Comments(post_id, owner_id, token)\n",
        "\n",
        "result_df"
      ]
    }
  ],
  "metadata": {
    "kernelspec": {
      "display_name": "nirmapy",
      "language": "python",
      "name": "python3"
    },
    "language_info": {
      "codemirror_mode": {
        "name": "ipython",
        "version": 3
      },
      "file_extension": ".py",
      "mimetype": "text/x-python",
      "name": "python",
      "nbconvert_exporter": "python",
      "pygments_lexer": "ipython3",
      "version": "3.10.9"
    },
    "colab": {
      "provenance": []
    }
  },
  "nbformat": 4,
  "nbformat_minor": 0
}