{
 "cells": [
  {
   "cell_type": "code",
   "execution_count": 1,
   "metadata": {},
   "outputs": [
    {
     "name": "stdout",
     "output_type": "stream",
     "text": [
      "INFO: Pandarallel will run on -1 workers.\n",
      "INFO: Pandarallel will use Memory file system to transfer data between the main process and workers.\n"
     ]
    },
    {
     "name": "stderr",
     "output_type": "stream",
     "text": [
      "[nltk_data] Downloading package stopwords to /home/gk/nltk_data...\n",
      "[nltk_data]   Package stopwords is already up-to-date!\n"
     ]
    }
   ],
   "source": [
    "import warnings\n",
    "\n",
    "warnings.simplefilter(\"ignore\")\n",
    "\n",
    "import os\n",
    "import sys\n",
    "\n",
    "folder = os.getcwd().split(\"\\\\examples\")[0]\n",
    "sys.path.append(folder)\n",
    "\n",
    "from sloyka.src.data_getter import VKParser"
   ]
  },
  {
   "cell_type": "code",
   "execution_count": 2,
   "metadata": {},
   "outputs": [],
   "source": [
    "# owner_id='-129354225' # группа \"центральный район за комфортную среду обитания\"\n",
    "token='...'"
   ]
  },
  {
   "cell_type": "code",
   "execution_count": 3,
   "metadata": {},
   "outputs": [
    {
     "name": "stdout",
     "output_type": "stream",
     "text": [
      "2024-03-26 10:51:07\n"
     ]
    },
    {
     "name": "stderr",
     "output_type": "stream",
     "text": [
      "100%|██████████| 10/10 [00:12<00:00,  1.21s/it]\n"
     ]
    },
    {
     "name": "stdout",
     "output_type": "stream",
     "text": [
      "comments downloaded\n",
      "2024-02-25 22:24:54\n",
      "posts downloaded\n"
     ]
    },
    {
     "name": "stderr",
     "output_type": "stream",
     "text": [
      "100%|██████████| 8/8 [00:08<00:00,  1.03s/it]\n"
     ]
    },
    {
     "name": "stdout",
     "output_type": "stream",
     "text": [
      "comments downloaded\n",
      "2024-03-18 11:51:34\n"
     ]
    },
    {
     "name": "stderr",
     "output_type": "stream",
     "text": [
      "100%|██████████| 7/7 [00:05<00:00,  1.34it/s]"
     ]
    },
    {
     "name": "stdout",
     "output_type": "stream",
     "text": [
      "comments downloaded\n"
     ]
    },
    {
     "name": "stderr",
     "output_type": "stream",
     "text": [
      "\n"
     ]
    }
   ],
   "source": [
    "import pandas as pd\n",
    "posts_df = pd.DataFrame()\n",
    "for i in ['-58956','-140123666','-8037']:\n",
    "\n",
    "    posts_df = pd.concat([posts_df, VKParser().run_parser(i, token, step=10, cutoff_date=\"2024-03-01\", number_of_messages=10)])"
   ]
  },
  {
   "cell_type": "code",
   "execution_count": 11,
   "metadata": {},
   "outputs": [
    {
     "data": {
      "text/html": [
       "<div>\n",
       "<style scoped>\n",
       "    .dataframe tbody tr th:only-of-type {\n",
       "        vertical-align: middle;\n",
       "    }\n",
       "\n",
       "    .dataframe tbody tr th {\n",
       "        vertical-align: top;\n",
       "    }\n",
       "\n",
       "    .dataframe thead th {\n",
       "        text-align: right;\n",
       "    }\n",
       "</style>\n",
       "<table border=\"1\" class=\"dataframe\">\n",
       "  <thead>\n",
       "    <tr style=\"text-align: right;\">\n",
       "      <th></th>\n",
       "      <th>date</th>\n",
       "      <th>id</th>\n",
       "      <th>text</th>\n",
       "      <th>views.count</th>\n",
       "      <th>likes.count</th>\n",
       "      <th>reposts.count</th>\n",
       "      <th>type</th>\n",
       "      <th>link</th>\n",
       "    </tr>\n",
       "  </thead>\n",
       "  <tbody>\n",
       "    <tr>\n",
       "      <th>0</th>\n",
       "      <td>2024-02-25 22:24:54</td>\n",
       "      <td>74596</td>\n",
       "      <td>В \"Юбилейном\" дождались школ, но не дождались ...</td>\n",
       "      <td>17110</td>\n",
       "      <td>133</td>\n",
       "      <td>38</td>\n",
       "      <td>post</td>\n",
       "      <td>https://vk.com/wall-6253_127260|получит</td>\n",
       "    </tr>\n",
       "    <tr>\n",
       "      <th>99</th>\n",
       "      <td>2024-03-13 15:12:22</td>\n",
       "      <td>75541</td>\n",
       "      <td>Будьте осторожны на перекрёстках: переход на к...</td>\n",
       "      <td>2616</td>\n",
       "      <td>40</td>\n",
       "      <td>11</td>\n",
       "      <td>post</td>\n",
       "      <td>NaN</td>\n",
       "    </tr>\n",
       "    <tr>\n",
       "      <th>98</th>\n",
       "      <td>2024-03-13 15:33:00</td>\n",
       "      <td>75543</td>\n",
       "      <td>МО \"Озеро Долгое\" планирует потратить 121 млн ...</td>\n",
       "      <td>3671</td>\n",
       "      <td>46</td>\n",
       "      <td>4</td>\n",
       "      <td>post</td>\n",
       "      <td>https://russia-news.ru/ru/8-news/5648-trendy-b...</td>\n",
       "    </tr>\n",
       "    <tr>\n",
       "      <th>97</th>\n",
       "      <td>2024-03-13 16:50:11</td>\n",
       "      <td>75548</td>\n",
       "      <td>Санкт-Петербург, муниципальное образование Кол...</td>\n",
       "      <td>2547</td>\n",
       "      <td>49</td>\n",
       "      <td>4</td>\n",
       "      <td>post</td>\n",
       "      <td>NaN</td>\n",
       "    </tr>\n",
       "    <tr>\n",
       "      <th>96</th>\n",
       "      <td>2024-03-13 17:15:00</td>\n",
       "      <td>75549</td>\n",
       "      <td>Беглову подогнали новенькие ̶C̶h̶e̶r̶y̶ ̶T̶i̶g...</td>\n",
       "      <td>5227</td>\n",
       "      <td>66</td>\n",
       "      <td>20</td>\n",
       "      <td>post</td>\n",
       "      <td>NaN</td>\n",
       "    </tr>\n",
       "    <tr>\n",
       "      <th>...</th>\n",
       "      <td>...</td>\n",
       "      <td>...</td>\n",
       "      <td>...</td>\n",
       "      <td>...</td>\n",
       "      <td>...</td>\n",
       "      <td>...</td>\n",
       "      <td>...</td>\n",
       "      <td>...</td>\n",
       "    </tr>\n",
       "    <tr>\n",
       "      <th>4</th>\n",
       "      <td>2024-03-26 20:00:02</td>\n",
       "      <td>415455</td>\n",
       "      <td>Весенний закат 🌆📷Борис Конов</td>\n",
       "      <td>6276</td>\n",
       "      <td>177</td>\n",
       "      <td>16</td>\n",
       "      <td>post</td>\n",
       "      <td>NaN</td>\n",
       "    </tr>\n",
       "    <tr>\n",
       "      <th>3</th>\n",
       "      <td>2024-03-26 20:05:16</td>\n",
       "      <td>415456</td>\n",
       "      <td>Отступающий грозовой фронт 🌩️Фото: [club203406...</td>\n",
       "      <td>4435</td>\n",
       "      <td>62</td>\n",
       "      <td>5</td>\n",
       "      <td>post</td>\n",
       "      <td>NaN</td>\n",
       "    </tr>\n",
       "    <tr>\n",
       "      <th>2</th>\n",
       "      <td>2024-03-26 21:35:44</td>\n",
       "      <td>415477</td>\n",
       "      <td>Весенняя радуга 🌈📷 [id1621959|Татьяна Лопатина...</td>\n",
       "      <td>2869</td>\n",
       "      <td>44</td>\n",
       "      <td>5</td>\n",
       "      <td>post</td>\n",
       "      <td>NaN</td>\n",
       "    </tr>\n",
       "    <tr>\n",
       "      <th>1</th>\n",
       "      <td>2024-03-26 21:46:45</td>\n",
       "      <td>415483</td>\n",
       "      <td>Кого-то явно не воспитывали  🧐</td>\n",
       "      <td>4291</td>\n",
       "      <td>8</td>\n",
       "      <td>4</td>\n",
       "      <td>post</td>\n",
       "      <td>NaN</td>\n",
       "    </tr>\n",
       "    <tr>\n",
       "      <th>0</th>\n",
       "      <td>2024-03-26 22:07:45</td>\n",
       "      <td>415487</td>\n",
       "      <td>⚠️Уважаемые автомобилисты, обратите внимание н...</td>\n",
       "      <td>7071</td>\n",
       "      <td>6</td>\n",
       "      <td>17</td>\n",
       "      <td>post</td>\n",
       "      <td>NaN</td>\n",
       "    </tr>\n",
       "  </tbody>\n",
       "</table>\n",
       "<p>439 rows × 8 columns</p>\n",
       "</div>"
      ],
      "text/plain": [
       "                  date      id  \\\n",
       "0  2024-02-25 22:24:54   74596   \n",
       "99 2024-03-13 15:12:22   75541   \n",
       "98 2024-03-13 15:33:00   75543   \n",
       "97 2024-03-13 16:50:11   75548   \n",
       "96 2024-03-13 17:15:00   75549   \n",
       "..                 ...     ...   \n",
       "4  2024-03-26 20:00:02  415455   \n",
       "3  2024-03-26 20:05:16  415456   \n",
       "2  2024-03-26 21:35:44  415477   \n",
       "1  2024-03-26 21:46:45  415483   \n",
       "0  2024-03-26 22:07:45  415487   \n",
       "\n",
       "                                                 text  views.count  \\\n",
       "0   В \"Юбилейном\" дождались школ, но не дождались ...        17110   \n",
       "99  Будьте осторожны на перекрёстках: переход на к...         2616   \n",
       "98  МО \"Озеро Долгое\" планирует потратить 121 млн ...         3671   \n",
       "97  Санкт-Петербург, муниципальное образование Кол...         2547   \n",
       "96  Беглову подогнали новенькие ̶C̶h̶e̶r̶y̶ ̶T̶i̶g...         5227   \n",
       "..                                                ...          ...   \n",
       "4                        Весенний закат 🌆📷Борис Конов         6276   \n",
       "3   Отступающий грозовой фронт 🌩️Фото: [club203406...         4435   \n",
       "2   Весенняя радуга 🌈📷 [id1621959|Татьяна Лопатина...         2869   \n",
       "1                      Кого-то явно не воспитывали  🧐         4291   \n",
       "0   ⚠️Уважаемые автомобилисты, обратите внимание н...         7071   \n",
       "\n",
       "    likes.count  reposts.count  type  \\\n",
       "0           133             38  post   \n",
       "99           40             11  post   \n",
       "98           46              4  post   \n",
       "97           49              4  post   \n",
       "96           66             20  post   \n",
       "..          ...            ...   ...   \n",
       "4           177             16  post   \n",
       "3            62              5  post   \n",
       "2            44              5  post   \n",
       "1             8              4  post   \n",
       "0             6             17  post   \n",
       "\n",
       "                                                 link  \n",
       "0             https://vk.com/wall-6253_127260|получит  \n",
       "99                                                NaN  \n",
       "98  https://russia-news.ru/ru/8-news/5648-trendy-b...  \n",
       "97                                                NaN  \n",
       "96                                                NaN  \n",
       "..                                                ...  \n",
       "4                                                 NaN  \n",
       "3                                                 NaN  \n",
       "2                                                 NaN  \n",
       "1                                                 NaN  \n",
       "0                                                 NaN  \n",
       "\n",
       "[439 rows x 8 columns]"
      ]
     },
     "execution_count": 11,
     "metadata": {},
     "output_type": "execute_result"
    }
   ],
   "source": [
    "posts_df.sort_values(by='id')"
   ]
  },
  {
   "cell_type": "code",
   "execution_count": 5,
   "metadata": {},
   "outputs": [
    {
     "name": "stdout",
     "output_type": "stream",
     "text": [
      "comments downloaded\n"
     ]
    }
   ],
   "source": [
    "post_ids = posts_df[\"id\"].to_list()\n",
    "comments_df = VKParser().run_comments(owner_id=owner_id, post_ids=post_ids, access_token=token)"
   ]
  },
  {
   "cell_type": "code",
   "execution_count": 6,
   "metadata": {},
   "outputs": [
    {
     "data": {
      "text/html": [
       "<div>\n",
       "<style scoped>\n",
       "    .dataframe tbody tr th:only-of-type {\n",
       "        vertical-align: middle;\n",
       "    }\n",
       "\n",
       "    .dataframe tbody tr th {\n",
       "        vertical-align: top;\n",
       "    }\n",
       "\n",
       "    .dataframe thead th {\n",
       "        text-align: right;\n",
       "    }\n",
       "</style>\n",
       "<table border=\"1\" class=\"dataframe\">\n",
       "  <thead>\n",
       "    <tr style=\"text-align: right;\">\n",
       "      <th></th>\n",
       "      <th>id</th>\n",
       "      <th>date</th>\n",
       "      <th>text</th>\n",
       "      <th>post_id</th>\n",
       "      <th>parents_stack</th>\n",
       "      <th>likes.count</th>\n",
       "      <th>type</th>\n",
       "    </tr>\n",
       "  </thead>\n",
       "  <tbody>\n",
       "    <tr>\n",
       "      <th>0</th>\n",
       "      <td>333531</td>\n",
       "      <td>2024-03-21 07:35:33</td>\n",
       "      <td>Отличная идея. Территории точно хватит для реа...</td>\n",
       "      <td>333530</td>\n",
       "      <td>[]</td>\n",
       "      <td>14</td>\n",
       "      <td>comment</td>\n",
       "    </tr>\n",
       "    <tr>\n",
       "      <th>1</th>\n",
       "      <td>333532</td>\n",
       "      <td>2024-03-21 07:39:46</td>\n",
       "      <td>Ещё для ограничения движения курьеров на элект...</td>\n",
       "      <td>333530</td>\n",
       "      <td>[]</td>\n",
       "      <td>5</td>\n",
       "      <td>comment</td>\n",
       "    </tr>\n",
       "    <tr>\n",
       "      <th>2</th>\n",
       "      <td>333576</td>\n",
       "      <td>2024-03-21 08:37:47</td>\n",
       "      <td>[id533640320|Андрей], через узкую калитку курь...</td>\n",
       "      <td>333530</td>\n",
       "      <td>[333532]</td>\n",
       "      <td>1</td>\n",
       "      <td>comment</td>\n",
       "    </tr>\n",
       "  </tbody>\n",
       "</table>\n",
       "</div>"
      ],
      "text/plain": [
       "       id                 date  \\\n",
       "0  333531  2024-03-21 07:35:33   \n",
       "1  333532  2024-03-21 07:39:46   \n",
       "2  333576  2024-03-21 08:37:47   \n",
       "\n",
       "                                                text  post_id parents_stack  \\\n",
       "0  Отличная идея. Территории точно хватит для реа...   333530            []   \n",
       "1  Ещё для ограничения движения курьеров на элект...   333530            []   \n",
       "2  [id533640320|Андрей], через узкую калитку курь...   333530      [333532]   \n",
       "\n",
       "   likes.count     type  \n",
       "0           14  comment  \n",
       "1            5  comment  \n",
       "2            1  comment  "
      ]
     },
     "execution_count": 6,
     "metadata": {},
     "output_type": "execute_result"
    }
   ],
   "source": [
    "comments_df.head(3)"
   ]
  },
  {
   "cell_type": "code",
   "execution_count": 9,
   "metadata": {},
   "outputs": [
    {
     "name": "stdout",
     "output_type": "stream",
     "text": [
      "2024-02-01 10:30:00\n",
      "posts downloaded\n",
      "comments downloaded\n"
     ]
    }
   ],
   "source": [
    "result_df = VKParser().run_parser(owner_id, token, step=100, cutoff_date='2024-03-20') #объединяем посты и комментарии в один датафрейм"
   ]
  },
  {
   "cell_type": "code",
   "execution_count": 15,
   "metadata": {},
   "outputs": [
    {
     "data": {
      "text/html": [
       "<div>\n",
       "<style scoped>\n",
       "    .dataframe tbody tr th:only-of-type {\n",
       "        vertical-align: middle;\n",
       "    }\n",
       "\n",
       "    .dataframe tbody tr th {\n",
       "        vertical-align: top;\n",
       "    }\n",
       "\n",
       "    .dataframe thead th {\n",
       "        text-align: right;\n",
       "    }\n",
       "</style>\n",
       "<table border=\"1\" class=\"dataframe\">\n",
       "  <thead>\n",
       "    <tr style=\"text-align: right;\">\n",
       "      <th></th>\n",
       "      <th>date</th>\n",
       "      <th>id</th>\n",
       "      <th>text</th>\n",
       "      <th>views.count</th>\n",
       "      <th>likes.count</th>\n",
       "      <th>reposts.count</th>\n",
       "      <th>type</th>\n",
       "      <th>link</th>\n",
       "      <th>post_id</th>\n",
       "      <th>parents_stack</th>\n",
       "    </tr>\n",
       "  </thead>\n",
       "  <tbody>\n",
       "    <tr>\n",
       "      <th>503</th>\n",
       "      <td>2024-03-02 17:54:57</td>\n",
       "      <td>331220</td>\n",
       "      <td>[id588441849|Сергей], я не живу в этом доме</td>\n",
       "      <td>NaN</td>\n",
       "      <td>2</td>\n",
       "      <td>NaN</td>\n",
       "      <td>reply</td>\n",
       "      <td>NaN</td>\n",
       "      <td>331192.0</td>\n",
       "      <td>[331201]</td>\n",
       "    </tr>\n",
       "    <tr>\n",
       "      <th>1058</th>\n",
       "      <td>2024-02-05 16:13:46</td>\n",
       "      <td>328132</td>\n",
       "      <td>Надо конечно же восстановить исторический обли...</td>\n",
       "      <td>NaN</td>\n",
       "      <td>4</td>\n",
       "      <td>NaN</td>\n",
       "      <td>comment</td>\n",
       "      <td>NaN</td>\n",
       "      <td>327947.0</td>\n",
       "      <td>[]</td>\n",
       "    </tr>\n",
       "    <tr>\n",
       "      <th>731</th>\n",
       "      <td>2024-02-17 16:33:06</td>\n",
       "      <td>329439</td>\n",
       "      <td>А зачем? Сейчас же нельзя писать плохое про чи...</td>\n",
       "      <td>NaN</td>\n",
       "      <td>4</td>\n",
       "      <td>NaN</td>\n",
       "      <td>comment</td>\n",
       "      <td>NaN</td>\n",
       "      <td>329438.0</td>\n",
       "      <td>[]</td>\n",
       "    </tr>\n",
       "    <tr>\n",
       "      <th>298</th>\n",
       "      <td>2024-03-17 16:53:03</td>\n",
       "      <td>332868</td>\n",
       "      <td>[id747280507|Lora], именно с согласия  собстве...</td>\n",
       "      <td>NaN</td>\n",
       "      <td>1</td>\n",
       "      <td>NaN</td>\n",
       "      <td>reply</td>\n",
       "      <td>NaN</td>\n",
       "      <td>332749.0</td>\n",
       "      <td>[332759]</td>\n",
       "    </tr>\n",
       "    <tr>\n",
       "      <th>465</th>\n",
       "      <td>2024-03-03 09:34:13</td>\n",
       "      <td>331262</td>\n",
       "      <td>Где г/номер этого транспортного средства?</td>\n",
       "      <td>NaN</td>\n",
       "      <td>7</td>\n",
       "      <td>NaN</td>\n",
       "      <td>comment</td>\n",
       "      <td>NaN</td>\n",
       "      <td>331239.0</td>\n",
       "      <td>[]</td>\n",
       "    </tr>\n",
       "  </tbody>\n",
       "</table>\n",
       "</div>"
      ],
      "text/plain": [
       "                     date      id  \\\n",
       "503   2024-03-02 17:54:57  331220   \n",
       "1058  2024-02-05 16:13:46  328132   \n",
       "731   2024-02-17 16:33:06  329439   \n",
       "298   2024-03-17 16:53:03  332868   \n",
       "465   2024-03-03 09:34:13  331262   \n",
       "\n",
       "                                                   text  views.count  \\\n",
       "503         [id588441849|Сергей], я не живу в этом доме          NaN   \n",
       "1058  Надо конечно же восстановить исторический обли...          NaN   \n",
       "731   А зачем? Сейчас же нельзя писать плохое про чи...          NaN   \n",
       "298   [id747280507|Lora], именно с согласия  собстве...          NaN   \n",
       "465           Где г/номер этого транспортного средства?          NaN   \n",
       "\n",
       "      likes.count  reposts.count     type link   post_id parents_stack  \n",
       "503             2            NaN    reply  NaN  331192.0      [331201]  \n",
       "1058            4            NaN  comment  NaN  327947.0            []  \n",
       "731             4            NaN  comment  NaN  329438.0            []  \n",
       "298             1            NaN    reply  NaN  332749.0      [332759]  \n",
       "465             7            NaN  comment  NaN  331239.0            []  "
      ]
     },
     "execution_count": 15,
     "metadata": {},
     "output_type": "execute_result"
    }
   ],
   "source": [
    "result_df.sample(5)"
   ]
  }
 ],
 "metadata": {
  "kernelspec": {
   "display_name": "nirmapy",
   "language": "python",
   "name": "python3"
  },
  "language_info": {
   "codemirror_mode": {
    "name": "ipython",
    "version": 3
   },
   "file_extension": ".py",
   "mimetype": "text/x-python",
   "name": "python",
   "nbconvert_exporter": "python",
   "pygments_lexer": "ipython3",
   "version": "3.10.13"
  }
 },
 "nbformat": 4,
 "nbformat_minor": 2
}
