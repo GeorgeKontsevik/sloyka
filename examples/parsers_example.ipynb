{
 "cells": [
  {
   "cell_type": "code",
   "execution_count": 1,
   "metadata": {},
   "outputs": [
    {
     "name": "stderr",
     "output_type": "stream",
     "text": [
      "/home/gk/.cache/pypoetry/virtualenvs/factfinder-6OvYRBkP-py3.10/lib/python3.10/site-packages/tqdm/auto.py:22: TqdmWarning: IProgress not found. Please update jupyter and ipywidgets. See https://ipywidgets.readthedocs.io/en/stable/user_install.html\n",
      "  from .autonotebook import tqdm as notebook_tqdm\n"
     ]
    },
    {
     "name": "stdout",
     "output_type": "stream",
     "text": [
      "INFO: Pandarallel will run on 6 workers.\n",
      "INFO: Pandarallel will use Memory file system to transfer data between the main process and workers.\n"
     ]
    },
    {
     "name": "stderr",
     "output_type": "stream",
     "text": [
      "[nltk_data] Downloading package stopwords to /home/gk/nltk_data...\n",
      "[nltk_data]   Package stopwords is already up-to-date!\n"
     ]
    }
   ],
   "source": [
    "from sloyka import VkCommentsParser, VkPostGetter"
   ]
  },
  {
   "cell_type": "code",
   "execution_count": 2,
   "metadata": {},
   "outputs": [],
   "source": [
    "owner_id = \"-60463565\" # группа \"девяткино онлайн\"\n",
    "token = '492f35ec492f35ec492f35ecdd4a3926724492f492f35ec2c17df616b6994a83242f520'"
   ]
  },
  {
   "cell_type": "code",
   "execution_count": 3,
   "metadata": {},
   "outputs": [
    {
     "name": "stdout",
     "output_type": "stream",
     "text": [
      "10\n"
     ]
    }
   ],
   "source": [
    "post_num_limit = 10\n",
    "step = 10\n",
    "#Вызов метода\n",
    "post_ids = VkPostGetter.get_group_post_ids(owner_id, token, post_num_limit, step)\n",
    "\n",
    "print(len(post_ids))"
   ]
  },
  {
   "cell_type": "code",
   "execution_count": 4,
   "metadata": {},
   "outputs": [
    {
     "name": "stderr",
     "output_type": "stream",
     "text": [
      " 40%|████      | 4/10 [00:16<00:24,  4.01s/it]\n"
     ]
    }
   ],
   "source": [
    "comments_num = 30\n",
    "\n",
    "# Вызов метода\n",
    "result = VkCommentsParser.get_Comments(post_ids, owner_id, token, comments_num=comments_num)"
   ]
  },
  {
   "cell_type": "code",
   "execution_count": 7,
   "metadata": {},
   "outputs": [
    {
     "data": {
      "text/html": [
       "<div>\n",
       "<style scoped>\n",
       "    .dataframe tbody tr th:only-of-type {\n",
       "        vertical-align: middle;\n",
       "    }\n",
       "\n",
       "    .dataframe tbody tr th {\n",
       "        vertical-align: top;\n",
       "    }\n",
       "\n",
       "    .dataframe thead th {\n",
       "        text-align: right;\n",
       "    }\n",
       "</style>\n",
       "<table border=\"1\" class=\"dataframe\">\n",
       "  <thead>\n",
       "    <tr style=\"text-align: right;\">\n",
       "      <th></th>\n",
       "      <th>name</th>\n",
       "      <th>last_name</th>\n",
       "      <th>date</th>\n",
       "      <th>likes</th>\n",
       "      <th>text</th>\n",
       "      <th>post_id</th>\n",
       "    </tr>\n",
       "  </thead>\n",
       "  <tbody>\n",
       "    <tr>\n",
       "      <th>2672542</th>\n",
       "      <td>Yashka</td>\n",
       "      <td>Artillerist</td>\n",
       "      <td>2024-02-13</td>\n",
       "      <td>1</td>\n",
       "      <td>У нас народ выберет как обычно он хороший чело...</td>\n",
       "      <td>2672516</td>\n",
       "    </tr>\n",
       "    <tr>\n",
       "      <th>2672606</th>\n",
       "      <td>Alexandra</td>\n",
       "      <td>Petrova</td>\n",
       "      <td>2024-02-13</td>\n",
       "      <td>7</td>\n",
       "      <td>Три года вместе, а что не женишься?\\nДевушка п...</td>\n",
       "      <td>2672582</td>\n",
       "    </tr>\n",
       "    <tr>\n",
       "      <th>2672593</th>\n",
       "      <td>Nadezhda</td>\n",
       "      <td>Nikitina</td>\n",
       "      <td>2024-02-13</td>\n",
       "      <td>1</td>\n",
       "      <td>Я с помощью этого бота смогла узнать с кем мой...</td>\n",
       "      <td>2672582</td>\n",
       "    </tr>\n",
       "  </tbody>\n",
       "</table>\n",
       "</div>"
      ],
      "text/plain": [
       "              name    last_name        date  likes  \\\n",
       "2672542     Yashka  Artillerist  2024-02-13      1   \n",
       "2672606  Alexandra      Petrova  2024-02-13      7   \n",
       "2672593   Nadezhda     Nikitina  2024-02-13      1   \n",
       "\n",
       "                                                      text  post_id  \n",
       "2672542  У нас народ выберет как обычно он хороший чело...  2672516  \n",
       "2672606  Три года вместе, а что не женишься?\\nДевушка п...  2672582  \n",
       "2672593  Я с помощью этого бота смогла узнать с кем мой...  2672582  "
      ]
     },
     "execution_count": 7,
     "metadata": {},
     "output_type": "execute_result"
    }
   ],
   "source": [
    "result.sample(3)"
   ]
  }
 ],
 "metadata": {
  "kernelspec": {
   "display_name": "nirmapy",
   "language": "python",
   "name": "python3"
  },
  "language_info": {
   "codemirror_mode": {
    "name": "ipython",
    "version": 3
   },
   "file_extension": ".py",
   "mimetype": "text/x-python",
   "name": "python",
   "nbconvert_exporter": "python",
   "pygments_lexer": "ipython3",
   "version": "3.10.13"
  }
 },
 "nbformat": 4,
 "nbformat_minor": 2
}
