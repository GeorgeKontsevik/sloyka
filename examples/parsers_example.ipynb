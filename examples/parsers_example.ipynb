{
 "cells": [
  {
   "cell_type": "code",
   "execution_count": null,
   "metadata": {},
   "outputs": [],
   "source": [
    "import warnings\n",
    "\n",
    "warnings.simplefilter(\"ignore\")\n",
    "\n",
    "import os\n",
    "import sys\n",
    "\n",
    "folder = os.getcwd().split(\"\\\\examples\")[0]\n",
    "sys.path.append(folder)\n",
    "\n",
    "from sloyka.src.data_getter import VKParser"
   ]
  },
  {
   "cell_type": "code",
   "execution_count": 2,
   "metadata": {},
   "outputs": [],
   "source": [
    "owner_id='-129354225' # группа \"центральный район за комфортную среду обитания\"\n",
    "token=''"
   ]
  },
  {
   "cell_type": "code",
   "execution_count": 3,
   "metadata": {},
   "outputs": [
    {
     "name": "stdout",
     "output_type": "stream",
     "text": [
      "2024-02-01 10:30:00\n",
      "posts downloaded\n"
     ]
    }
   ],
   "source": [
    "posts_df = VKParser().run_posts(owner_id, token, 100, \"2024-03-01\")"
   ]
  },
  {
   "cell_type": "code",
   "execution_count": 4,
   "metadata": {},
   "outputs": [
    {
     "data": {
      "text/html": [
       "<div>\n",
       "<style scoped>\n",
       "    .dataframe tbody tr th:only-of-type {\n",
       "        vertical-align: middle;\n",
       "    }\n",
       "\n",
       "    .dataframe tbody tr th {\n",
       "        vertical-align: top;\n",
       "    }\n",
       "\n",
       "    .dataframe thead th {\n",
       "        text-align: right;\n",
       "    }\n",
       "</style>\n",
       "<table border=\"1\" class=\"dataframe\">\n",
       "  <thead>\n",
       "    <tr style=\"text-align: right;\">\n",
       "      <th></th>\n",
       "      <th>date</th>\n",
       "      <th>id</th>\n",
       "      <th>text</th>\n",
       "      <th>views.count</th>\n",
       "      <th>likes.count</th>\n",
       "      <th>reposts.count</th>\n",
       "      <th>type</th>\n",
       "      <th>link</th>\n",
       "    </tr>\n",
       "  </thead>\n",
       "  <tbody>\n",
       "    <tr>\n",
       "      <th>0</th>\n",
       "      <td>2024-03-21 10:30:00</td>\n",
       "      <td>333530</td>\n",
       "      <td>Сделайте сад Сан-Галли безопасным для граждан,...</td>\n",
       "      <td>2749</td>\n",
       "      <td>97</td>\n",
       "      <td>20</td>\n",
       "      <td>post</td>\n",
       "      <td>NaN</td>\n",
       "    </tr>\n",
       "    <tr>\n",
       "      <th>1</th>\n",
       "      <td>2024-03-20 19:30:00</td>\n",
       "      <td>333376</td>\n",
       "      <td>«Электросамокатная саранча» вновь повылезала н...</td>\n",
       "      <td>8722</td>\n",
       "      <td>168</td>\n",
       "      <td>23</td>\n",
       "      <td>post</td>\n",
       "      <td>NaN</td>\n",
       "    </tr>\n",
       "    <tr>\n",
       "      <th>2</th>\n",
       "      <td>2024-03-20 10:30:00</td>\n",
       "      <td>333265</td>\n",
       "      <td>Вот и отгуляла широкая Масленица! Наша команда...</td>\n",
       "      <td>4457</td>\n",
       "      <td>53</td>\n",
       "      <td>8</td>\n",
       "      <td>post</td>\n",
       "      <td>https://vk.com/wall-129354225_332885|ярко,</td>\n",
       "    </tr>\n",
       "  </tbody>\n",
       "</table>\n",
       "</div>"
      ],
      "text/plain": [
       "                 date      id  \\\n",
       "0 2024-03-21 10:30:00  333530   \n",
       "1 2024-03-20 19:30:00  333376   \n",
       "2 2024-03-20 10:30:00  333265   \n",
       "\n",
       "                                                text  views.count  \\\n",
       "0  Сделайте сад Сан-Галли безопасным для граждан,...         2749   \n",
       "1  «Электросамокатная саранча» вновь повылезала н...         8722   \n",
       "2  Вот и отгуляла широкая Масленица! Наша команда...         4457   \n",
       "\n",
       "   likes.count  reposts.count  type  \\\n",
       "0           97             20  post   \n",
       "1          168             23  post   \n",
       "2           53              8  post   \n",
       "\n",
       "                                         link  \n",
       "0                                         NaN  \n",
       "1                                         NaN  \n",
       "2  https://vk.com/wall-129354225_332885|ярко,  "
      ]
     },
     "execution_count": 4,
     "metadata": {},
     "output_type": "execute_result"
    }
   ],
   "source": [
    "posts_df.head(3)"
   ]
  },
  {
   "cell_type": "code",
   "execution_count": 5,
   "metadata": {},
   "outputs": [
    {
     "name": "stdout",
     "output_type": "stream",
     "text": [
      "comments downloaded\n"
     ]
    }
   ],
   "source": [
    "post_ids = posts_df[\"id\"].to_list()\n",
    "comments_df = VKParser().run_comments(owner_id=owner_id, post_ids=post_ids, access_token=token)"
   ]
  },
  {
   "cell_type": "code",
   "execution_count": 6,
   "metadata": {},
   "outputs": [
    {
     "data": {
      "text/html": [
       "<div>\n",
       "<style scoped>\n",
       "    .dataframe tbody tr th:only-of-type {\n",
       "        vertical-align: middle;\n",
       "    }\n",
       "\n",
       "    .dataframe tbody tr th {\n",
       "        vertical-align: top;\n",
       "    }\n",
       "\n",
       "    .dataframe thead th {\n",
       "        text-align: right;\n",
       "    }\n",
       "</style>\n",
       "<table border=\"1\" class=\"dataframe\">\n",
       "  <thead>\n",
       "    <tr style=\"text-align: right;\">\n",
       "      <th></th>\n",
       "      <th>id</th>\n",
       "      <th>date</th>\n",
       "      <th>text</th>\n",
       "      <th>post_id</th>\n",
       "      <th>parents_stack</th>\n",
       "      <th>likes.count</th>\n",
       "      <th>type</th>\n",
       "    </tr>\n",
       "  </thead>\n",
       "  <tbody>\n",
       "    <tr>\n",
       "      <th>0</th>\n",
       "      <td>333531</td>\n",
       "      <td>2024-03-21 07:35:33</td>\n",
       "      <td>Отличная идея. Территории точно хватит для реа...</td>\n",
       "      <td>333530</td>\n",
       "      <td>[]</td>\n",
       "      <td>14</td>\n",
       "      <td>comment</td>\n",
       "    </tr>\n",
       "    <tr>\n",
       "      <th>1</th>\n",
       "      <td>333532</td>\n",
       "      <td>2024-03-21 07:39:46</td>\n",
       "      <td>Ещё для ограничения движения курьеров на элект...</td>\n",
       "      <td>333530</td>\n",
       "      <td>[]</td>\n",
       "      <td>5</td>\n",
       "      <td>comment</td>\n",
       "    </tr>\n",
       "    <tr>\n",
       "      <th>2</th>\n",
       "      <td>333576</td>\n",
       "      <td>2024-03-21 08:37:47</td>\n",
       "      <td>[id533640320|Андрей], через узкую калитку курь...</td>\n",
       "      <td>333530</td>\n",
       "      <td>[333532]</td>\n",
       "      <td>1</td>\n",
       "      <td>comment</td>\n",
       "    </tr>\n",
       "  </tbody>\n",
       "</table>\n",
       "</div>"
      ],
      "text/plain": [
       "       id                 date  \\\n",
       "0  333531  2024-03-21 07:35:33   \n",
       "1  333532  2024-03-21 07:39:46   \n",
       "2  333576  2024-03-21 08:37:47   \n",
       "\n",
       "                                                text  post_id parents_stack  \\\n",
       "0  Отличная идея. Территории точно хватит для реа...   333530            []   \n",
       "1  Ещё для ограничения движения курьеров на элект...   333530            []   \n",
       "2  [id533640320|Андрей], через узкую калитку курь...   333530      [333532]   \n",
       "\n",
       "   likes.count     type  \n",
       "0           14  comment  \n",
       "1            5  comment  \n",
       "2            1  comment  "
      ]
     },
     "execution_count": 6,
     "metadata": {},
     "output_type": "execute_result"
    }
   ],
   "source": [
    "comments_df.head(3)"
   ]
  },
  {
   "cell_type": "code",
   "execution_count": 9,
   "metadata": {},
   "outputs": [
    {
     "name": "stdout",
     "output_type": "stream",
     "text": [
      "2024-02-01 10:30:00\n",
      "posts downloaded\n",
      "comments downloaded\n"
     ]
    }
   ],
   "source": [
    "result_df = VKParser().run_parser(owner_id, token, step=100, cutoff_date='2024-03-20') #объединяем посты и комментарии в один датафрейм"
   ]
  },
  {
   "cell_type": "code",
   "execution_count": 15,
   "metadata": {},
   "outputs": [
    {
     "data": {
      "text/html": [
       "<div>\n",
       "<style scoped>\n",
       "    .dataframe tbody tr th:only-of-type {\n",
       "        vertical-align: middle;\n",
       "    }\n",
       "\n",
       "    .dataframe tbody tr th {\n",
       "        vertical-align: top;\n",
       "    }\n",
       "\n",
       "    .dataframe thead th {\n",
       "        text-align: right;\n",
       "    }\n",
       "</style>\n",
       "<table border=\"1\" class=\"dataframe\">\n",
       "  <thead>\n",
       "    <tr style=\"text-align: right;\">\n",
       "      <th></th>\n",
       "      <th>date</th>\n",
       "      <th>id</th>\n",
       "      <th>text</th>\n",
       "      <th>views.count</th>\n",
       "      <th>likes.count</th>\n",
       "      <th>reposts.count</th>\n",
       "      <th>type</th>\n",
       "      <th>link</th>\n",
       "      <th>post_id</th>\n",
       "      <th>parents_stack</th>\n",
       "    </tr>\n",
       "  </thead>\n",
       "  <tbody>\n",
       "    <tr>\n",
       "      <th>503</th>\n",
       "      <td>2024-03-02 17:54:57</td>\n",
       "      <td>331220</td>\n",
       "      <td>[id588441849|Сергей], я не живу в этом доме</td>\n",
       "      <td>NaN</td>\n",
       "      <td>2</td>\n",
       "      <td>NaN</td>\n",
       "      <td>reply</td>\n",
       "      <td>NaN</td>\n",
       "      <td>331192.0</td>\n",
       "      <td>[331201]</td>\n",
       "    </tr>\n",
       "    <tr>\n",
       "      <th>1058</th>\n",
       "      <td>2024-02-05 16:13:46</td>\n",
       "      <td>328132</td>\n",
       "      <td>Надо конечно же восстановить исторический обли...</td>\n",
       "      <td>NaN</td>\n",
       "      <td>4</td>\n",
       "      <td>NaN</td>\n",
       "      <td>comment</td>\n",
       "      <td>NaN</td>\n",
       "      <td>327947.0</td>\n",
       "      <td>[]</td>\n",
       "    </tr>\n",
       "    <tr>\n",
       "      <th>731</th>\n",
       "      <td>2024-02-17 16:33:06</td>\n",
       "      <td>329439</td>\n",
       "      <td>А зачем? Сейчас же нельзя писать плохое про чи...</td>\n",
       "      <td>NaN</td>\n",
       "      <td>4</td>\n",
       "      <td>NaN</td>\n",
       "      <td>comment</td>\n",
       "      <td>NaN</td>\n",
       "      <td>329438.0</td>\n",
       "      <td>[]</td>\n",
       "    </tr>\n",
       "    <tr>\n",
       "      <th>298</th>\n",
       "      <td>2024-03-17 16:53:03</td>\n",
       "      <td>332868</td>\n",
       "      <td>[id747280507|Lora], именно с согласия  собстве...</td>\n",
       "      <td>NaN</td>\n",
       "      <td>1</td>\n",
       "      <td>NaN</td>\n",
       "      <td>reply</td>\n",
       "      <td>NaN</td>\n",
       "      <td>332749.0</td>\n",
       "      <td>[332759]</td>\n",
       "    </tr>\n",
       "    <tr>\n",
       "      <th>465</th>\n",
       "      <td>2024-03-03 09:34:13</td>\n",
       "      <td>331262</td>\n",
       "      <td>Где г/номер этого транспортного средства?</td>\n",
       "      <td>NaN</td>\n",
       "      <td>7</td>\n",
       "      <td>NaN</td>\n",
       "      <td>comment</td>\n",
       "      <td>NaN</td>\n",
       "      <td>331239.0</td>\n",
       "      <td>[]</td>\n",
       "    </tr>\n",
       "  </tbody>\n",
       "</table>\n",
       "</div>"
      ],
      "text/plain": [
       "                     date      id  \\\n",
       "503   2024-03-02 17:54:57  331220   \n",
       "1058  2024-02-05 16:13:46  328132   \n",
       "731   2024-02-17 16:33:06  329439   \n",
       "298   2024-03-17 16:53:03  332868   \n",
       "465   2024-03-03 09:34:13  331262   \n",
       "\n",
       "                                                   text  views.count  \\\n",
       "503         [id588441849|Сергей], я не живу в этом доме          NaN   \n",
       "1058  Надо конечно же восстановить исторический обли...          NaN   \n",
       "731   А зачем? Сейчас же нельзя писать плохое про чи...          NaN   \n",
       "298   [id747280507|Lora], именно с согласия  собстве...          NaN   \n",
       "465           Где г/номер этого транспортного средства?          NaN   \n",
       "\n",
       "      likes.count  reposts.count     type link   post_id parents_stack  \n",
       "503             2            NaN    reply  NaN  331192.0      [331201]  \n",
       "1058            4            NaN  comment  NaN  327947.0            []  \n",
       "731             4            NaN  comment  NaN  329438.0            []  \n",
       "298             1            NaN    reply  NaN  332749.0      [332759]  \n",
       "465             7            NaN  comment  NaN  331239.0            []  "
      ]
     },
     "execution_count": 15,
     "metadata": {},
     "output_type": "execute_result"
    }
   ],
   "source": [
    "result_df.sample(5)"
   ]
  }
 ],
 "metadata": {
  "kernelspec": {
   "display_name": "nirmapy",
   "language": "python",
   "name": "python3"
  },
  "language_info": {
   "codemirror_mode": {
    "name": "ipython",
    "version": 3
   },
   "file_extension": ".py",
   "mimetype": "text/x-python",
   "name": "python",
   "nbconvert_exporter": "python",
   "pygments_lexer": "ipython3",
   "version": "3.10.13"
  }
 },
 "nbformat": 4,
 "nbformat_minor": 2
}
