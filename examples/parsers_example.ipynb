{
 "cells": [
  {
   "cell_type": "code",
   "execution_count": null,
   "metadata": {},
   "outputs": [],
   "source": [
    "import warnings\n",
    "\n",
    "warnings.simplefilter(\"ignore\")\n",
    "\n",
    "import os\n",
    "import sys\n",
    "\n",
    "folder = os.getcwd().split(\"\\\\examples\")[0]\n",
    "sys.path.append(folder)\n",
    "\n",
    "from sloyka import VkCommentsParser, VkPostGetter"
   ]
  },
  {
   "cell_type": "code",
   "execution_count": 2,
   "metadata": {},
   "outputs": [],
   "source": [
    "owner_id = \"-60463565\" # группа \"девяткино онлайн\"\n",
    "token = ''"
   ]
  },
  {
   "cell_type": "code",
   "execution_count": 3,
   "metadata": {},
   "outputs": [
    {
     "name": "stdout",
     "output_type": "stream",
     "text": [
      "10\n"
     ]
    }
   ],
   "source": [
    "post_num_limit = 10\n",
    "step = 10\n",
    "#Вызов метода\n",
    "post_ids = VkPostGetter.get_group_post_ids(owner_id, token, post_num_limit, step)\n",
    "\n",
    "print(len(post_ids))"
   ]
  },
  {
   "cell_type": "code",
   "execution_count": 5,
   "metadata": {},
   "outputs": [
    {
     "name": "stdout",
     "output_type": "stream",
     "text": [
      "2024-02-21 00:53:05\n",
      "2024-02-09 11:11:06\n",
      "2024-01-26 21:15:00\n",
      "2024-01-13 20:04:00\n",
      "2024-01-02 17:17:00\n",
      "2023-12-22 12:32:47\n",
      "finished\n"
     ]
    }
   ],
   "source": [
    "posts = VkPostGetter.run(owner_id, token, 100, \"2024-01-01\")"
   ]
  },
  {
   "cell_type": "code",
   "execution_count": 5,
   "metadata": {},
   "outputs": [
    {
     "name": "stderr",
     "output_type": "stream",
     "text": [
      " 60%|██████    | 6/10 [00:17<00:11,  2.86s/it]\n"
     ]
    }
   ],
   "source": [
    "comments_num = 30\n",
    "\n",
    "# Вызов метода\n",
    "result = VkCommentsParser.get_Comments(post_ids, owner_id, token, comments_num=comments_num)"
   ]
  },
  {
   "cell_type": "code",
   "execution_count": 6,
   "metadata": {},
   "outputs": [
    {
     "data": {
      "text/html": [
       "<div>\n",
       "<style scoped>\n",
       "    .dataframe tbody tr th:only-of-type {\n",
       "        vertical-align: middle;\n",
       "    }\n",
       "\n",
       "    .dataframe tbody tr th {\n",
       "        vertical-align: top;\n",
       "    }\n",
       "\n",
       "    .dataframe thead th {\n",
       "        text-align: right;\n",
       "    }\n",
       "</style>\n",
       "<table border=\"1\" class=\"dataframe\">\n",
       "  <thead>\n",
       "    <tr style=\"text-align: right;\">\n",
       "      <th></th>\n",
       "      <th>date</th>\n",
       "      <th>id</th>\n",
       "      <th>text</th>\n",
       "      <th>views.count</th>\n",
       "      <th>likes.count</th>\n",
       "      <th>reposts.count</th>\n",
       "      <th>link</th>\n",
       "    </tr>\n",
       "  </thead>\n",
       "  <tbody>\n",
       "    <tr>\n",
       "      <th>536</th>\n",
       "      <td>2023-12-29 17:35:59</td>\n",
       "      <td>2652281</td>\n",
       "      <td>Юные муринцы слепили доступное жильеНа что еще...</td>\n",
       "      <td>11583</td>\n",
       "      <td>57</td>\n",
       "      <td>12</td>\n",
       "      <td>NaN</td>\n",
       "    </tr>\n",
       "    <tr>\n",
       "      <th>444</th>\n",
       "      <td>2024-01-08 22:02:00</td>\n",
       "      <td>2655847</td>\n",
       "      <td>Чей котейка во дворе Шувалова 40 прямо сейчас....</td>\n",
       "      <td>16162</td>\n",
       "      <td>47</td>\n",
       "      <td>16</td>\n",
       "      <td>NaN</td>\n",
       "    </tr>\n",
       "    <tr>\n",
       "      <th>105</th>\n",
       "      <td>2024-02-20 09:36:01</td>\n",
       "      <td>2674916</td>\n",
       "      <td>Хочу сказать спасибо большое и человеческое сп...</td>\n",
       "      <td>15815</td>\n",
       "      <td>65</td>\n",
       "      <td>10</td>\n",
       "      <td>NaN</td>\n",
       "    </tr>\n",
       "  </tbody>\n",
       "</table>\n",
       "</div>"
      ],
      "text/plain": [
       "                   date       id  \\\n",
       "536 2023-12-29 17:35:59  2652281   \n",
       "444 2024-01-08 22:02:00  2655847   \n",
       "105 2024-02-20 09:36:01  2674916   \n",
       "\n",
       "                                                  text  views.count  \\\n",
       "536  Юные муринцы слепили доступное жильеНа что еще...        11583   \n",
       "444  Чей котейка во дворе Шувалова 40 прямо сейчас....        16162   \n",
       "105  Хочу сказать спасибо большое и человеческое сп...        15815   \n",
       "\n",
       "     likes.count  reposts.count link  \n",
       "536           57             12  NaN  \n",
       "444           47             16  NaN  \n",
       "105           65             10  NaN  "
      ]
     },
     "execution_count": 6,
     "metadata": {},
     "output_type": "execute_result"
    }
   ],
   "source": [
    "posts.sample(3)"
   ]
  },
  {
   "cell_type": "code",
   "execution_count": 5,
   "metadata": {},
   "outputs": [
    {
     "data": {
      "text/html": [
       "<div>\n",
       "<style scoped>\n",
       "    .dataframe tbody tr th:only-of-type {\n",
       "        vertical-align: middle;\n",
       "    }\n",
       "\n",
       "    .dataframe tbody tr th {\n",
       "        vertical-align: top;\n",
       "    }\n",
       "\n",
       "    .dataframe thead th {\n",
       "        text-align: right;\n",
       "    }\n",
       "</style>\n",
       "<table border=\"1\" class=\"dataframe\">\n",
       "  <thead>\n",
       "    <tr style=\"text-align: right;\">\n",
       "      <th></th>\n",
       "      <th>name</th>\n",
       "      <th>last_name</th>\n",
       "      <th>date</th>\n",
       "      <th>likes</th>\n",
       "      <th>text</th>\n",
       "      <th>post_id</th>\n",
       "    </tr>\n",
       "  </thead>\n",
       "  <tbody>\n",
       "    <tr>\n",
       "      <th>2672680</th>\n",
       "      <td>Elena</td>\n",
       "      <td>Konik</td>\n",
       "      <td>2024-02-13</td>\n",
       "      <td>0</td>\n",
       "      <td>Кидайте свои фотки!</td>\n",
       "      <td>2672649</td>\n",
       "    </tr>\n",
       "    <tr>\n",
       "      <th>2672684</th>\n",
       "      <td>Nstasy</td>\n",
       "      <td>Jule</td>\n",
       "      <td>2024-02-13</td>\n",
       "      <td>1</td>\n",
       "      <td>Но это не Девяткино))) судя по дому;))🙃</td>\n",
       "      <td>2672649</td>\n",
       "    </tr>\n",
       "    <tr>\n",
       "      <th>2672603</th>\n",
       "      <td>Alexander</td>\n",
       "      <td>Komogortsev</td>\n",
       "      <td>2024-02-13</td>\n",
       "      <td>6</td>\n",
       "      <td>Значит она общается с другими парнями. Поверь....</td>\n",
       "      <td>2672582</td>\n",
       "    </tr>\n",
       "  </tbody>\n",
       "</table>\n",
       "</div>"
      ],
      "text/plain": [
       "              name    last_name        date  likes  \\\n",
       "2672680      Elena        Konik  2024-02-13      0   \n",
       "2672684     Nstasy         Jule  2024-02-13      1   \n",
       "2672603  Alexander  Komogortsev  2024-02-13      6   \n",
       "\n",
       "                                                      text  post_id  \n",
       "2672680                                Кидайте свои фотки!  2672649  \n",
       "2672684            Но это не Девяткино))) судя по дому;))🙃  2672649  \n",
       "2672603  Значит она общается с другими парнями. Поверь....  2672582  "
      ]
     },
     "execution_count": 5,
     "metadata": {},
     "output_type": "execute_result"
    }
   ],
   "source": [
    "result.sample(3)"
   ]
  },
  {
   "cell_type": "code",
   "execution_count": 3,
   "metadata": {},
   "outputs": [],
   "source": [
    "owner_id='-129354225',\n",
    "post_ids= ['332329', '332275']\n",
    "access_token=''\n",
    "\n",
    "# Вызов метода\n",
    "result_df = CommentsReply.run(owner_id, post_ids, access_token)"
   ]
  },
  {
   "cell_type": "code",
   "execution_count": 4,
   "metadata": {},
   "outputs": [
    {
     "data": {
      "text/html": [
       "<div>\n",
       "<style scoped>\n",
       "    .dataframe tbody tr th:only-of-type {\n",
       "        vertical-align: middle;\n",
       "    }\n",
       "\n",
       "    .dataframe tbody tr th {\n",
       "        vertical-align: top;\n",
       "    }\n",
       "\n",
       "    .dataframe thead th {\n",
       "        text-align: right;\n",
       "    }\n",
       "</style>\n",
       "<table border=\"1\" class=\"dataframe\">\n",
       "  <thead>\n",
       "    <tr style=\"text-align: right;\">\n",
       "      <th></th>\n",
       "      <th>id</th>\n",
       "      <th>date</th>\n",
       "      <th>text</th>\n",
       "      <th>post_id</th>\n",
       "      <th>parents_stack</th>\n",
       "      <th>likes_count</th>\n",
       "    </tr>\n",
       "  </thead>\n",
       "  <tbody>\n",
       "    <tr>\n",
       "      <th>21</th>\n",
       "      <td>332400</td>\n",
       "      <td>2024-03-14 10:07:38</td>\n",
       "      <td>[club129354225|Центральный район за комфортную...</td>\n",
       "      <td>332329</td>\n",
       "      <td>[332341]</td>\n",
       "      <td>0</td>\n",
       "    </tr>\n",
       "    <tr>\n",
       "      <th>27</th>\n",
       "      <td>332407</td>\n",
       "      <td>2024-03-14 10:15:22</td>\n",
       "      <td>[id71624853|Юрий], собрания, какого?,я о нем н...</td>\n",
       "      <td>332329</td>\n",
       "      <td>[332341]</td>\n",
       "      <td>0</td>\n",
       "    </tr>\n",
       "    <tr>\n",
       "      <th>36</th>\n",
       "      <td>332350</td>\n",
       "      <td>2024-03-13 18:28:39</td>\n",
       "      <td>Вот это прекрасно!!! \\nТут и возразить нечего,...</td>\n",
       "      <td>332329</td>\n",
       "      <td>[]</td>\n",
       "      <td>8</td>\n",
       "    </tr>\n",
       "  </tbody>\n",
       "</table>\n",
       "</div>"
      ],
      "text/plain": [
       "        id                 date  \\\n",
       "21  332400  2024-03-14 10:07:38   \n",
       "27  332407  2024-03-14 10:15:22   \n",
       "36  332350  2024-03-13 18:28:39   \n",
       "\n",
       "                                                 text  post_id parents_stack  \\\n",
       "21  [club129354225|Центральный район за комфортную...   332329      [332341]   \n",
       "27  [id71624853|Юрий], собрания, какого?,я о нем н...   332329      [332341]   \n",
       "36  Вот это прекрасно!!! \\nТут и возразить нечего,...   332329            []   \n",
       "\n",
       "    likes_count  \n",
       "21            0  \n",
       "27            0  \n",
       "36            8  "
      ]
     },
     "execution_count": 4,
     "metadata": {},
     "output_type": "execute_result"
    }
   ],
   "source": [
    "result_df.sample(3)"
   ]
  }
 ],
 "metadata": {
  "kernelspec": {
   "display_name": "nirmapy",
   "language": "python",
   "name": "python3"
  },
  "language_info": {
   "codemirror_mode": {
    "name": "ipython",
    "version": 3
   },
   "file_extension": ".py",
   "mimetype": "text/x-python",
   "name": "python",
   "nbconvert_exporter": "python",
   "pygments_lexer": "ipython3",
   "version": "3.10.9"
  }
 },
 "nbformat": 4,
 "nbformat_minor": 2
}
