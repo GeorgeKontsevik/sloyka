{
 "cells": [
  {
   "cell_type": "markdown",
   "metadata": {},
   "source": [
    "Тест"
   ]
  },
  {
   "cell_type": "code",
   "execution_count": null,
   "metadata": {},
   "outputs": [],
   "source": [
    "import warnings\n",
    "\n",
    "warnings.simplefilter(\"ignore\")\n",
    "\n",
    "import os\n",
    "import sys\n",
    "\n",
    "folder = os.getcwd().split(\"\\\\examples\")[0]\n",
    "sys.path.append(folder)\n",
    "\n",
    "from sloyka import EmotionRecognizer"
   ]
  },
  {
   "cell_type": "code",
   "execution_count": null,
   "metadata": {},
   "outputs": [],
   "source": [
    "#загрузка датафрейма\n",
    "import pandas as pd\n",
    "df = pd.read_csv('C:/Users/kozak/OneDrive/Рабочий стол/итмо поступление/НИРМА/sloyka/sloyka/sample_data/raw/comments_grazhdanka_spb_kalininsky.csv', sep = ';', index_col=0)"
   ]
  },
  {
   "cell_type": "code",
   "execution_count": null,
   "metadata": {},
   "outputs": [],
   "source": [
    "df"
   ]
  },
  {
   "cell_type": "markdown",
   "metadata": {},
   "source": [
    "Определение эмоции, используя одну модель. По умолчанию стоит модель HuggingFaceModel.Text.Bert_Large, но можно использовать также HuggingFaceModel.Text.Bert_Tiny, HuggingFaceModel.Text.Bert_Base, HuggingFaceModel.Text.Bert_Tiny2"
   ]
  },
  {
   "cell_type": "code",
   "execution_count": null,
   "metadata": {},
   "outputs": [],
   "source": [
    "recognizer = EmotionRecognizer()\n",
    "df['emotion'] = df['text'].apply(recognizer.recognize_emotion)"
   ]
  },
  {
   "cell_type": "code",
   "execution_count": null,
   "metadata": {},
   "outputs": [],
   "source": [
    "df"
   ]
  },
  {
   "cell_type": "markdown",
   "metadata": {},
   "source": [
    "Возможно более точный способ. Берёт среднее из нескольких моделей и возвращает доминирующую эмоцию, если указано average=True, или просто самую максимальную вероятность эмоции из моделей, если verage=False. "
   ]
  },
  {
   "cell_type": "code",
   "execution_count": null,
   "metadata": {},
   "outputs": [],
   "source": [
    "#df=df.head(100)\n",
    "# Создание экземпляра класса EmotionRecognizer\n",
    "emotion_recognizer = EmotionRecognizer()\n",
    "\n",
    "# Применение функции recognize_average_emotion_from_multiple_models ко всем строкам DataFrame. \n",
    "# При average=True подсчёт будет по среднему значению.\n",
    "# При average=False подсчёт будет по максимальному значению.\n",
    "df['emotion_average'] = emotion_recognizer.recognize_average_emotion_from_multiple_models(df, 'text', average=True)"
   ]
  },
  {
   "cell_type": "code",
   "execution_count": null,
   "metadata": {},
   "outputs": [],
   "source": [
    "df"
   ]
  }
 ],
 "metadata": {
  "kernelspec": {
   "display_name": "Python 3",
   "language": "python",
   "name": "python3"
  },
  "language_info": {
   "codemirror_mode": {
    "name": "ipython",
    "version": 3
   },
   "file_extension": ".py",
   "mimetype": "text/x-python",
   "name": "python",
   "nbconvert_exporter": "python",
   "pygments_lexer": "ipython3",
   "version": "3.11.9"
  }
 },
 "nbformat": 4,
 "nbformat_minor": 2
}
