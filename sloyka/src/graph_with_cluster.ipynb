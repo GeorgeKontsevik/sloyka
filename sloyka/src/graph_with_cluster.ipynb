{
 "cells": [
  {
   "cell_type": "code",
   "execution_count": 1,
   "metadata": {},
   "outputs": [
    {
     "name": "stderr",
     "output_type": "stream",
     "text": [
      "i:\\sloyka\\new_venv\\Lib\\site-packages\\tqdm\\auto.py:22: TqdmWarning: IProgress not found. Please update jupyter and ipywidgets. See https://ipywidgets.readthedocs.io/en/stable/user_install.html\n",
      "  from .autonotebook import tqdm as notebook_tqdm\n"
     ]
    },
    {
     "ename": "ImportError",
     "evalue": "cannot import name 'START_INDEX_POSITION' from 'constants' (i:\\sloyka\\sloyka\\src\\constants.py)",
     "output_type": "error",
     "traceback": [
      "\u001b[1;31m---------------------------------------------------------------------------\u001b[0m",
      "\u001b[1;31mImportError\u001b[0m                               Traceback (most recent call last)",
      "Cell \u001b[1;32mIn[1], line 6\u001b[0m\n\u001b[0;32m      3\u001b[0m \u001b[38;5;28;01mfrom\u001b[39;00m \u001b[38;5;21;01mshapely\u001b[39;00m \u001b[38;5;28;01mimport\u001b[39;00m get_coordinates\n\u001b[0;32m      4\u001b[0m \u001b[38;5;28;01mimport\u001b[39;00m \u001b[38;5;21;01mnetworkx\u001b[39;00m \u001b[38;5;28;01mas\u001b[39;00m \u001b[38;5;21;01mnx\u001b[39;00m\n\u001b[1;32m----> 6\u001b[0m \u001b[38;5;28;01mfrom\u001b[39;00m \u001b[38;5;21;01mgeocoder\u001b[39;00m \u001b[38;5;28;01mimport\u001b[39;00m Geocoder\n\u001b[0;32m      7\u001b[0m \u001b[38;5;28;01mfrom\u001b[39;00m \u001b[38;5;21;01msemantic_graph\u001b[39;00m \u001b[38;5;28;01mimport\u001b[39;00m Semgraph\n",
      "File \u001b[1;32mi:\\sloyka\\sloyka\\src\\geocoder.py:23\u001b[0m\n\u001b[0;32m     21\u001b[0m \u001b[38;5;28;01mimport\u001b[39;00m \u001b[38;5;21;01mstring\u001b[39;00m\n\u001b[0;32m     22\u001b[0m \u001b[38;5;28;01mimport\u001b[39;00m \u001b[38;5;21;01mmath\u001b[39;00m\n\u001b[1;32m---> 23\u001b[0m \u001b[38;5;28;01mfrom\u001b[39;00m \u001b[38;5;21;01mconstants\u001b[39;00m \u001b[38;5;28;01mimport\u001b[39;00m (\n\u001b[0;32m     24\u001b[0m     START_INDEX_POSITION,\n\u001b[0;32m     25\u001b[0m     REPLACEMENT_DICT,\n\u001b[0;32m     26\u001b[0m     TARGET_TOPONYMS,\n\u001b[0;32m     27\u001b[0m     END_INDEX_POSITION,\n\u001b[0;32m     28\u001b[0m )\n\u001b[0;32m     30\u001b[0m \u001b[38;5;28;01mfrom\u001b[39;00m \u001b[38;5;21;01mflair\u001b[39;00m\u001b[38;5;21;01m.\u001b[39;00m\u001b[38;5;21;01mdata\u001b[39;00m \u001b[38;5;28;01mimport\u001b[39;00m Sentence\n\u001b[0;32m     31\u001b[0m \u001b[38;5;28;01mfrom\u001b[39;00m \u001b[38;5;21;01mflair\u001b[39;00m\u001b[38;5;21;01m.\u001b[39;00m\u001b[38;5;21;01mmodels\u001b[39;00m \u001b[38;5;28;01mimport\u001b[39;00m SequenceTagger\n",
      "\u001b[1;31mImportError\u001b[0m: cannot import name 'START_INDEX_POSITION' from 'constants' (i:\\sloyka\\sloyka\\src\\constants.py)"
     ]
    }
   ],
   "source": [
    "import pandas as pd\n",
    "from pathlib import Path\n",
    "from shapely import get_coordinates\n",
    "import networkx as nx\n",
    "\n",
    "from geocoder import Geocoder\n",
    "from semantic_graph import Semgraph"
   ]
  },
  {
   "cell_type": "code",
   "execution_count": null,
   "metadata": {},
   "outputs": [
    {
     "name": "stderr",
     "output_type": "stream",
     "text": [
      "Some weights of the model checkpoint at DeepPavlov/rubert-base-cased were not used when initializing BertModel: ['cls.predictions.transform.LayerNorm.bias', 'cls.predictions.decoder.bias', 'cls.predictions.transform.LayerNorm.weight', 'cls.predictions.transform.dense.bias', 'cls.seq_relationship.bias', 'cls.predictions.bias', 'cls.predictions.transform.dense.weight', 'cls.predictions.decoder.weight', 'cls.seq_relationship.weight']\n",
      "- This IS expected if you are initializing BertModel from the checkpoint of a model trained on another task or with another architecture (e.g. initializing a BertForSequenceClassification model from a BertForPreTraining model).\n",
      "- This IS NOT expected if you are initializing BertModel from the checkpoint of a model that you expect to be exactly identical (initializing a BertForSequenceClassification model from a BertForSequenceClassification model).\n"
     ]
    },
    {
     "name": "stdout",
     "output_type": "stream",
     "text": [
      "2024-03-10 23:38:11,545 SequenceTagger predicts: Dictionary with 5 tags: O, S-ADDRESS, B-ADDRESS, E-ADDRESS, I-ADDRESS\n"
     ]
    }
   ],
   "source": [
    "sm = Semgraph(device='cuda')\n",
    "g = Geocoder(device='cuda')"
   ]
  },
  {
   "cell_type": "code",
   "execution_count": null,
   "metadata": {},
   "outputs": [
    {
     "data": {
      "text/html": [
       "<div>\n",
       "<style scoped>\n",
       "    .dataframe tbody tr th:only-of-type {\n",
       "        vertical-align: middle;\n",
       "    }\n",
       "\n",
       "    .dataframe tbody tr th {\n",
       "        vertical-align: top;\n",
       "    }\n",
       "\n",
       "    .dataframe thead th {\n",
       "        text-align: right;\n",
       "    }\n",
       "</style>\n",
       "<table border=\"1\" class=\"dataframe\">\n",
       "  <thead>\n",
       "    <tr style=\"text-align: right;\">\n",
       "      <th></th>\n",
       "      <th>Unnamed: 0</th>\n",
       "      <th>name</th>\n",
       "      <th>last_name</th>\n",
       "      <th>date</th>\n",
       "      <th>text</th>\n",
       "      <th>post_id</th>\n",
       "      <th>Unnamed: 0.1</th>\n",
       "      <th>link</th>\n",
       "      <th>Column1</th>\n",
       "    </tr>\n",
       "  </thead>\n",
       "  <tbody>\n",
       "    <tr>\n",
       "      <th>0</th>\n",
       "      <td>1069097.0</td>\n",
       "      <td>Anton</td>\n",
       "      <td>Volkov</td>\n",
       "      <td>2022-12-24</td>\n",
       "      <td>Действительно липовый...</td>\n",
       "      <td>1068963.0</td>\n",
       "      <td>NaN</td>\n",
       "      <td>NaN</td>\n",
       "      <td>NaN</td>\n",
       "    </tr>\n",
       "    <tr>\n",
       "      <th>1</th>\n",
       "      <td>1069091.0</td>\n",
       "      <td>Sergei</td>\n",
       "      <td>Vic</td>\n",
       "      <td>2022-12-24</td>\n",
       "      <td>Подьехать можно? Взять ложечку мёда на проверк...</td>\n",
       "      <td>1068963.0</td>\n",
       "      <td>NaN</td>\n",
       "      <td>NaN</td>\n",
       "      <td>NaN</td>\n",
       "    </tr>\n",
       "    <tr>\n",
       "      <th>2</th>\n",
       "      <td>1069089.0</td>\n",
       "      <td>Sergei</td>\n",
       "      <td>Vic</td>\n",
       "      <td>2022-12-24</td>\n",
       "      <td>Брал кто нибудь мёд,  качество как?</td>\n",
       "      <td>1068963.0</td>\n",
       "      <td>NaN</td>\n",
       "      <td>NaN</td>\n",
       "      <td>NaN</td>\n",
       "    </tr>\n",
       "    <tr>\n",
       "      <th>3</th>\n",
       "      <td>1069031.0</td>\n",
       "      <td>Artyom</td>\n",
       "      <td>Mikheev</td>\n",
       "      <td>2022-12-24</td>\n",
       "      <td>Пластилин голимый. 😏</td>\n",
       "      <td>1068963.0</td>\n",
       "      <td>NaN</td>\n",
       "      <td>NaN</td>\n",
       "      <td>NaN</td>\n",
       "    </tr>\n",
       "    <tr>\n",
       "      <th>4</th>\n",
       "      <td>1068982.0</td>\n",
       "      <td>Galina</td>\n",
       "      <td>Sladkovataya</td>\n",
       "      <td>2022-12-24</td>\n",
       "      <td>Мед паленый! После него нормально не могла схо...</td>\n",
       "      <td>1068963.0</td>\n",
       "      <td>NaN</td>\n",
       "      <td>NaN</td>\n",
       "      <td>NaN</td>\n",
       "    </tr>\n",
       "  </tbody>\n",
       "</table>\n",
       "</div>"
      ],
      "text/plain": [
       "   Unnamed: 0    name     last_name        date  \\\n",
       "0   1069097.0   Anton        Volkov  2022-12-24   \n",
       "1   1069091.0  Sergei           Vic  2022-12-24   \n",
       "2   1069089.0  Sergei           Vic  2022-12-24   \n",
       "3   1069031.0  Artyom       Mikheev  2022-12-24   \n",
       "4   1068982.0  Galina  Sladkovataya  2022-12-24   \n",
       "\n",
       "                                                text    post_id  Unnamed: 0.1  \\\n",
       "0                           Действительно липовый...  1068963.0           NaN   \n",
       "1  Подьехать можно? Взять ложечку мёда на проверк...  1068963.0           NaN   \n",
       "2                Брал кто нибудь мёд,  качество как?  1068963.0           NaN   \n",
       "3                               Пластилин голимый. 😏  1068963.0           NaN   \n",
       "4  Мед паленый! После него нормально не могла схо...  1068963.0           NaN   \n",
       "\n",
       "  link  Column1  \n",
       "0  NaN      NaN  \n",
       "1  NaN      NaN  \n",
       "2  NaN      NaN  \n",
       "3  NaN      NaN  \n",
       "4  NaN      NaN  "
      ]
     },
     "execution_count": 3,
     "metadata": {},
     "output_type": "execute_result"
    }
   ],
   "source": [
    "directory = \"C:\\\\Users\\\\thebe\\\\OneDrive - ITMO UNIVERSITY\\\\НИРМА\\\\Data\\\\checked_all_data_raw\"\n",
    "pathlist = Path(directory).glob('*.csv')\n",
    "\n",
    "df = pd.DataFrame()\n",
    "\n",
    "for path in pathlist:\n",
    "\n",
    "    tmp_df = pd.read_csv(path, encoding='utf-8', delimiter=';')\n",
    "    df = pd.concat([df, tmp_df])\n",
    "\n",
    "df.head()"
   ]
  },
  {
   "cell_type": "code",
   "execution_count": null,
   "metadata": {},
   "outputs": [
    {
     "name": "stderr",
     "output_type": "stream",
     "text": [
      "\u001b[32m2024-03-10 23:38:43.152\u001b[0m | \u001b[1mINFO    \u001b[0m | \u001b[36mgeocoder\u001b[0m:\u001b[36mclear_names\u001b[0m:\u001b[36m256\u001b[0m - \u001b[1mclear_names started\u001b[0m\n",
      "100%|██████████| 3306/3306 [00:00<00:00, 367379.43it/s]\n",
      "100%|██████████| 3306/3306 [00:00<00:00, 472175.20it/s]\n",
      "\u001b[32m2024-03-10 23:38:43.178\u001b[0m | \u001b[1mINFO    \u001b[0m | \u001b[36mgeocoder\u001b[0m:\u001b[36mget_street\u001b[0m:\u001b[36m589\u001b[0m - \u001b[1mget_street started\u001b[0m\n",
      "\u001b[32m2024-03-10 23:38:43.213\u001b[0m | \u001b[1mINFO    \u001b[0m | \u001b[36mgeocoder\u001b[0m:\u001b[36mget_street\u001b[0m:\u001b[36m594\u001b[0m - \u001b[1mextract_ner_street started\u001b[0m\n",
      "  2%|▏         | 3549/188740 [00:29<23:32, 131.13it/s]"
     ]
    },
    {
     "name": "stdout",
     "output_type": "stream",
     "text": [
      "2024-03-10 23:39:13,079 Warning: An empty Sentence was created! Are there empty strings in your dataset?\n"
     ]
    },
    {
     "name": "stderr",
     "output_type": "stream",
     "text": [
      " 11%|█         | 20873/188740 [02:51<21:58, 127.30it/s] "
     ]
    },
    {
     "name": "stdout",
     "output_type": "stream",
     "text": [
      "2024-03-10 23:41:34,382 Warning: An empty Sentence was created! Are there empty strings in your dataset?\n"
     ]
    },
    {
     "name": "stderr",
     "output_type": "stream",
     "text": [
      " 25%|██▍       | 46850/188740 [06:11<17:01, 138.92it/s]"
     ]
    },
    {
     "name": "stdout",
     "output_type": "stream",
     "text": [
      "2024-03-10 23:44:54,483 Warning: An empty Sentence was created! Are there empty strings in your dataset?\n"
     ]
    },
    {
     "name": "stderr",
     "output_type": "stream",
     "text": [
      " 28%|██▊       | 52911/188740 [06:57<16:50, 134.45it/s]"
     ]
    },
    {
     "name": "stdout",
     "output_type": "stream",
     "text": [
      "2024-03-10 23:45:41,149 Warning: An empty Sentence was created! Are there empty strings in your dataset?\n"
     ]
    },
    {
     "name": "stderr",
     "output_type": "stream",
     "text": [
      " 28%|██▊       | 53109/188740 [06:59<16:33, 136.48it/s]"
     ]
    },
    {
     "name": "stdout",
     "output_type": "stream",
     "text": [
      "2024-03-10 23:45:42,715 Warning: An empty Sentence was created! Are there empty strings in your dataset?\n"
     ]
    },
    {
     "name": "stderr",
     "output_type": "stream",
     "text": [
      " 29%|██▉       | 55528/188740 [07:17<16:39, 133.34it/s]"
     ]
    },
    {
     "name": "stdout",
     "output_type": "stream",
     "text": [
      "2024-03-10 23:46:00,795 Warning: An empty Sentence was created! Are there empty strings in your dataset?\n"
     ]
    },
    {
     "name": "stderr",
     "output_type": "stream",
     "text": [
      " 37%|███▋      | 70630/188740 [09:12<14:42, 133.81it/s]"
     ]
    },
    {
     "name": "stdout",
     "output_type": "stream",
     "text": [
      "2024-03-10 23:47:56,241 Warning: An empty Sentence was created! Are there empty strings in your dataset?\n"
     ]
    },
    {
     "name": "stderr",
     "output_type": "stream",
     "text": [
      " 38%|███▊      | 70882/188740 [09:14<14:20, 136.93it/s]"
     ]
    },
    {
     "name": "stdout",
     "output_type": "stream",
     "text": [
      "2024-03-10 23:47:58,144 Warning: An empty Sentence was created! Are there empty strings in your dataset?\n"
     ]
    },
    {
     "name": "stderr",
     "output_type": "stream",
     "text": [
      " 60%|█████▉    | 112998/188740 [15:32<09:53, 127.57it/s]"
     ]
    },
    {
     "name": "stdout",
     "output_type": "stream",
     "text": [
      "2024-03-10 23:54:15,982 Warning: An empty Sentence was created! Are there empty strings in your dataset?\n",
      "2024-03-10 23:54:16,044 Warning: An empty Sentence was created! Are there empty strings in your dataset?\n"
     ]
    },
    {
     "name": "stderr",
     "output_type": "stream",
     "text": [
      " 60%|█████▉    | 113011/188740 [15:32<10:03, 125.49it/s]"
     ]
    },
    {
     "name": "stdout",
     "output_type": "stream",
     "text": [
      "2024-03-10 23:54:16,064 Warning: An empty Sentence was created! Are there empty strings in your dataset?\n"
     ]
    },
    {
     "name": "stderr",
     "output_type": "stream",
     "text": [
      " 67%|██████▋   | 126597/188740 [17:54<08:13, 125.81it/s]"
     ]
    },
    {
     "name": "stdout",
     "output_type": "stream",
     "text": [
      "2024-03-10 23:56:37,588 Warning: An empty Sentence was created! Are there empty strings in your dataset?\n"
     ]
    },
    {
     "name": "stderr",
     "output_type": "stream",
     "text": [
      " 79%|███████▉  | 148660/188740 [21:38<06:30, 102.66it/s]"
     ]
    },
    {
     "name": "stdout",
     "output_type": "stream",
     "text": [
      "2024-03-11 00:00:21,954 Warning: An empty Sentence was created! Are there empty strings in your dataset?\n"
     ]
    },
    {
     "name": "stderr",
     "output_type": "stream",
     "text": [
      " 82%|████████▏ | 154495/188740 [22:43<04:36, 124.03it/s]"
     ]
    },
    {
     "name": "stdout",
     "output_type": "stream",
     "text": [
      "2024-03-11 00:01:26,998 Warning: An empty Sentence was created! Are there empty strings in your dataset?\n",
      "2024-03-11 00:01:26,999 Warning: An empty Sentence was created! Are there empty strings in your dataset?\n"
     ]
    },
    {
     "name": "stderr",
     "output_type": "stream",
     "text": [
      " 95%|█████████▌| 179788/188740 [27:07<01:23, 106.59it/s]"
     ]
    },
    {
     "name": "stdout",
     "output_type": "stream",
     "text": [
      "2024-03-11 00:05:50,759 Warning: An empty Sentence was created! Are there empty strings in your dataset?\n"
     ]
    },
    {
     "name": "stderr",
     "output_type": "stream",
     "text": [
      "100%|██████████| 188740/188740 [28:43<00:00, 109.54it/s]\n",
      "100%|██████████| 188740/188740 [19:47<00:00, 158.88it/s]\n",
      "\u001b[32m2024-03-11 00:27:14.350\u001b[0m | \u001b[1mINFO    \u001b[0m | \u001b[36mgeocoder\u001b[0m:\u001b[36mget_street\u001b[0m:\u001b[36m609\u001b[0m - \u001b[1mpattern1.sub started\u001b[0m\n",
      "100%|██████████| 73039/73039 [00:00<00:00, 526441.29it/s]\n",
      "\u001b[32m2024-03-11 00:27:14.498\u001b[0m | \u001b[1mINFO    \u001b[0m | \u001b[36mgeocoder\u001b[0m:\u001b[36mget_street\u001b[0m:\u001b[36m614\u001b[0m - \u001b[1mpattern2.findall started\u001b[0m\n",
      "100%|██████████| 73039/73039 [00:00<00:00, 906547.46it/s]\n",
      "\u001b[32m2024-03-11 00:27:14.584\u001b[0m | \u001b[1mINFO    \u001b[0m | \u001b[36mgeocoder\u001b[0m:\u001b[36mget_street\u001b[0m:\u001b[36m622\u001b[0m - \u001b[1mpattern2.sub started\u001b[0m\n",
      "100%|██████████| 73039/73039 [00:00<00:00, 859236.18it/s]\n",
      "\u001b[32m2024-03-11 00:27:14.702\u001b[0m | \u001b[1mINFO    \u001b[0m | \u001b[36mgeocoder\u001b[0m:\u001b[36mget_street\u001b[0m:\u001b[36m631\u001b[0m - \u001b[1mextract_building_num started\u001b[0m\n",
      "100%|██████████| 73039/73039 [00:03<00:00, 22010.74it/s]\n",
      "\u001b[32m2024-03-11 00:27:18.031\u001b[0m | \u001b[1mINFO    \u001b[0m | \u001b[36mgeocoder\u001b[0m:\u001b[36mget_street\u001b[0m:\u001b[36m640\u001b[0m - \u001b[1mextract_toponym started\u001b[0m\n",
      "100%|██████████| 73039/73039 [00:37<00:00, 1951.56it/s]\n",
      "\u001b[32m2024-03-11 00:27:55.460\u001b[0m | \u001b[1mINFO    \u001b[0m | \u001b[36mgeocoder\u001b[0m:\u001b[36mget_stem\u001b[0m:\u001b[36m473\u001b[0m - \u001b[1mget_stem started\u001b[0m\n",
      "100%|██████████| 3306/3306 [00:00<00:00, 4129.63it/s]\n",
      "100%|██████████| 3306/3306 [00:00<00:00, 4022.13it/s]\n",
      "100%|██████████| 3306/3306 [00:00<00:00, 3965.54it/s]\n",
      "100%|██████████| 3306/3306 [00:00<00:00, 4061.94it/s]\n",
      "100%|██████████| 3306/3306 [00:00<00:00, 4083.27it/s]\n",
      "100%|██████████| 3306/3306 [00:00<00:00, 4110.25it/s]\n",
      "100%|██████████| 73039/73039 [04:48<00:00, 252.99it/s]\n",
      "\u001b[32m2024-03-11 00:33:01.721\u001b[0m | \u001b[1mINFO    \u001b[0m | \u001b[36mgeocoder\u001b[0m:\u001b[36mcreate_gdf\u001b[0m:\u001b[36m655\u001b[0m - \u001b[1mcreate_gdf started\u001b[0m\n",
      "100%|██████████| 2077658/2077658 [22:37<00:00, 1530.13it/s] \n",
      "100%|██████████| 2074915/2074915 [00:13<00:00, 153007.05it/s]\n",
      "100%|██████████| 2074915/2074915 [00:00<00:00, 2532918.50it/s]\n",
      "100%|██████████| 2261900/2261900 [00:12<00:00, 182416.10it/s]\n"
     ]
    },
    {
     "data": {
      "text/plain": [
       "2077658"
      ]
     },
     "execution_count": 4,
     "metadata": {},
     "output_type": "execute_result"
    }
   ],
   "source": [
    "geocoded_df = g.run(df, 'text')\n",
    "len(geocoded_df)"
   ]
  },
  {
   "cell_type": "code",
   "execution_count": null,
   "metadata": {},
   "outputs": [
    {
     "name": "stdout",
     "output_type": "stream",
     "text": [
      "Clasterizing data...\n"
     ]
    },
    {
     "name": "stderr",
     "output_type": "stream",
     "text": [
      "100%|██████████| 763/763 [17:12<00:00,  1.35s/it]\n"
     ]
    },
    {
     "name": "stdout",
     "output_type": "stream",
     "text": [
      "Extracting keywords\n"
     ]
    },
    {
     "name": "stderr",
     "output_type": "stream",
     "text": [
      "100%|██████████| 1561/1561 [15:12<00:00,  1.71it/s]\n"
     ]
    },
    {
     "name": "stdout",
     "output_type": "stream",
     "text": [
      "Calculating semantic closeness\n"
     ]
    },
    {
     "name": "stderr",
     "output_type": "stream",
     "text": [
      "100%|██████████| 826255/826255 [2:39:18<00:00, 86.45it/s]  \n"
     ]
    }
   ],
   "source": [
    "G = sm.build_semantic_graph(geocoded_df,\n",
    "                        'text',\n",
    "                        'only_full_street_name',\n",
    "                        'initial_street',\n",
    "                        'Toponims',\n",
    "                        key_score_filter=0.55)"
   ]
  },
  {
   "cell_type": "code",
   "execution_count": null,
   "metadata": {},
   "outputs": [],
   "source": [
    "nx.write_graphml(G, 'total_graph_0.05_test.graphml', encoding='utf-8')"
   ]
  },
  {
   "cell_type": "code",
   "execution_count": null,
   "metadata": {},
   "outputs": [],
   "source": [
    "clustering_items = [i for i in G.nodes if G.nodes[i].get('tag') != 'TOPONIM']"
   ]
  },
  {
   "cell_type": "code",
   "execution_count": null,
   "metadata": {},
   "outputs": [
    {
     "data": {
      "text/html": [
       "<div>\n",
       "<style scoped>\n",
       "    .dataframe tbody tr th:only-of-type {\n",
       "        vertical-align: middle;\n",
       "    }\n",
       "\n",
       "    .dataframe tbody tr th {\n",
       "        vertical-align: top;\n",
       "    }\n",
       "\n",
       "    .dataframe thead th {\n",
       "        text-align: right;\n",
       "    }\n",
       "</style>\n",
       "<table border=\"1\" class=\"dataframe\">\n",
       "  <thead>\n",
       "    <tr style=\"text-align: right;\">\n",
       "      <th></th>\n",
       "      <th>Topic</th>\n",
       "      <th>Count</th>\n",
       "      <th>Name</th>\n",
       "      <th>Representation</th>\n",
       "      <th>Representative_Docs</th>\n",
       "    </tr>\n",
       "  </thead>\n",
       "  <tbody>\n",
       "    <tr>\n",
       "      <th>0</th>\n",
       "      <td>-1</td>\n",
       "      <td>273</td>\n",
       "      <td>-1__отдать_книга_полицейский_публичный_приглашать</td>\n",
       "      <td>[_отдать_книга, полицейский, публичный, пригла...</td>\n",
       "      <td>[эвакуировалипоток, отравление, эйхенбаум]</td>\n",
       "    </tr>\n",
       "    <tr>\n",
       "      <th>1</th>\n",
       "      <td>0</td>\n",
       "      <td>118</td>\n",
       "      <td>0_proленсоветовский_некрасовский_славянка_москвич</td>\n",
       "      <td>[proленсоветовский, некрасовский, славянка, мо...</td>\n",
       "      <td>[дмитриевич, игоревич, владимир]</td>\n",
       "    </tr>\n",
       "    <tr>\n",
       "      <th>2</th>\n",
       "      <td>1</td>\n",
       "      <td>63</td>\n",
       "      <td>1_ehwqrsmtrgpgmiftэ_олигофрен_футболист_цкк_пу...</td>\n",
       "      <td>[ehwqrsmtrgpgmiftэ, олигофрен, футболист, цкк_...</td>\n",
       "      <td>[белоостров, читайгород, околоколомяжий]</td>\n",
       "    </tr>\n",
       "    <tr>\n",
       "      <th>3</th>\n",
       "      <td>2</td>\n",
       "      <td>54</td>\n",
       "      <td>2_анонсировать_убывающаялун_подвиг_удача</td>\n",
       "      <td>[анонсировать, убывающаялун, подвиг, удача, по...</td>\n",
       "      <td>[согласовать, провести, стать]</td>\n",
       "    </tr>\n",
       "    <tr>\n",
       "      <th>4</th>\n",
       "      <td>3</td>\n",
       "      <td>43</td>\n",
       "      <td>3_всеволожскийрайон_фрунзенскийрайон_грунт_пет...</td>\n",
       "      <td>[всеволожскийрайон, фрунзенскийрайон, грунт, п...</td>\n",
       "      <td>[район, соседство, пригород]</td>\n",
       "    </tr>\n",
       "    <tr>\n",
       "      <th>5</th>\n",
       "      <td>4</td>\n",
       "      <td>36</td>\n",
       "      <td>4_время_час_маршировать_парадное</td>\n",
       "      <td>[время, час, маршировать, парадное, патриотиче...</td>\n",
       "      <td>[годаначало, рождественский, день]</td>\n",
       "    </tr>\n",
       "    <tr>\n",
       "      <th>6</th>\n",
       "      <td>5</td>\n",
       "      <td>35</td>\n",
       "      <td>5_автодора_улицасавушкин_байконурскаяулица_дор...</td>\n",
       "      <td>[автодора, улицасавушкин, байконурскаяулица, д...</td>\n",
       "      <td>[остановкаобещественноготранспорт, зампред, ма...</td>\n",
       "    </tr>\n",
       "    <tr>\n",
       "      <th>7</th>\n",
       "      <td>6</td>\n",
       "      <td>32</td>\n",
       "      <td>6_благодарность_благодарный_удовольствие_счаст...</td>\n",
       "      <td>[благодарность, благодарный, удовольствие, сча...</td>\n",
       "      <td>[уличный, хороший, хотеть]</td>\n",
       "    </tr>\n",
       "    <tr>\n",
       "      <th>8</th>\n",
       "      <td>7</td>\n",
       "      <td>30</td>\n",
       "      <td>7_бежать_взлетать_ходить_уборкакаждыйдеть</td>\n",
       "      <td>[бежать, взлетать, ходить, уборкакаждыйдеть, у...</td>\n",
       "      <td>[понаехать, гулять, проходить]</td>\n",
       "    </tr>\n",
       "    <tr>\n",
       "      <th>9</th>\n",
       "      <td>8</td>\n",
       "      <td>29</td>\n",
       "      <td>8_пассажиравтотранс_авто_транспортировка_трампуть</td>\n",
       "      <td>[пассажиравтотранс, авто, транспортировка, тра...</td>\n",
       "      <td>[автовый, машина, пассажиравтотранс]</td>\n",
       "    </tr>\n",
       "    <tr>\n",
       "      <th>10</th>\n",
       "      <td>9</td>\n",
       "      <td>29</td>\n",
       "      <td>9_метростроевский_автобус_электробус_троллейбус</td>\n",
       "      <td>[метростроевский, автобус, электробус, троллей...</td>\n",
       "      <td>[железнодорожный, вокзал, поезд]</td>\n",
       "    </tr>\n",
       "    <tr>\n",
       "      <th>11</th>\n",
       "      <td>10</td>\n",
       "      <td>28</td>\n",
       "      <td>10_крематорий_кремация_фашистский_убитый</td>\n",
       "      <td>[крематорий, кремация, фашистский, убитый, уби...</td>\n",
       "      <td>[пострадать, потерпевший, захоронение]</td>\n",
       "    </tr>\n",
       "    <tr>\n",
       "      <th>12</th>\n",
       "      <td>11</td>\n",
       "      <td>24</td>\n",
       "      <td>11_намаз_палата_церковьниколаячудотвтоца_церковь</td>\n",
       "      <td>[намаз, палата, церковьниколаячудотвтоца, церк...</td>\n",
       "      <td>[палата, храм, собор]</td>\n",
       "    </tr>\n",
       "    <tr>\n",
       "      <th>13</th>\n",
       "      <td>12</td>\n",
       "      <td>22</td>\n",
       "      <td>12_концертный_мелодия_театрализованный_театр</td>\n",
       "      <td>[концертный, мелодия, театрализованный, театр,...</td>\n",
       "      <td>[концертный, музыка, голливуд]</td>\n",
       "    </tr>\n",
       "    <tr>\n",
       "      <th>14</th>\n",
       "      <td>13</td>\n",
       "      <td>21</td>\n",
       "      <td>13_водоём_гидропривод_река_проток</td>\n",
       "      <td>[водоём, гидропривод, река, проток, промочить,...</td>\n",
       "      <td>[потоп, водоём, акватория]</td>\n",
       "    </tr>\n",
       "    <tr>\n",
       "      <th>15</th>\n",
       "      <td>14</td>\n",
       "      <td>21</td>\n",
       "      <td>14_лекторий_маленький_школьник_школа</td>\n",
       "      <td>[лекторий, маленький, школьник, школа, учитель...</td>\n",
       "      <td>[ребёнок, малышок, новорождённый]</td>\n",
       "    </tr>\n",
       "    <tr>\n",
       "      <th>16</th>\n",
       "      <td>15</td>\n",
       "      <td>20</td>\n",
       "      <td>15_доход_задолженность_цена_супермаркет</td>\n",
       "      <td>[доход, задолженность, цена, супермаркет, поку...</td>\n",
       "      <td>[купец, бюджет, плата]</td>\n",
       "    </tr>\n",
       "    <tr>\n",
       "      <th>17</th>\n",
       "      <td>16</td>\n",
       "      <td>20</td>\n",
       "      <td>16_облачный_отопление_шторм_циклонтино</td>\n",
       "      <td>[облачный, отопление, шторм, циклонтино, цикло...</td>\n",
       "      <td>[застылый, отопление, туманность]</td>\n",
       "    </tr>\n",
       "    <tr>\n",
       "      <th>18</th>\n",
       "      <td>17</td>\n",
       "      <td>20</td>\n",
       "      <td>17_догхантеры_овчарка_собачкусрочный_собачка</td>\n",
       "      <td>[догхантеры, овчарка, собачкусрочный, собачка,...</td>\n",
       "      <td>[овчарка, ветеринарный, собаководчица]</td>\n",
       "    </tr>\n",
       "    <tr>\n",
       "      <th>19</th>\n",
       "      <td>18</td>\n",
       "      <td>20</td>\n",
       "      <td>18_городовой_городок_столичный_мэр</td>\n",
       "      <td>[городовой, городок, столичный, мэр, муниципал...</td>\n",
       "      <td>[столичный, градостроительство, городбазар]</td>\n",
       "    </tr>\n",
       "    <tr>\n",
       "      <th>20</th>\n",
       "      <td>19</td>\n",
       "      <td>20</td>\n",
       "      <td>19_московскийвокзал_новороссия_сталинградский_...</td>\n",
       "      <td>[московскийвокзал, новороссия, сталинградский,...</td>\n",
       "      <td>[путин, россиянин, всероссийский]</td>\n",
       "    </tr>\n",
       "    <tr>\n",
       "      <th>21</th>\n",
       "      <td>20</td>\n",
       "      <td>20</td>\n",
       "      <td>20_аэропорт_аэропортный_электроснабжение_элект...</td>\n",
       "      <td>[аэропорт, аэропортный, электроснабжение, элек...</td>\n",
       "      <td>[аэропортный, дрон, авиация]</td>\n",
       "    </tr>\n",
       "    <tr>\n",
       "      <th>22</th>\n",
       "      <td>21</td>\n",
       "      <td>19</td>\n",
       "      <td>21_зимят_ледяной_холодное_холодапогода</td>\n",
       "      <td>[зимят, ледяной, холодное, холодапогода, снежн...</td>\n",
       "      <td>[снегоочистка, снегофоб, зимний]</td>\n",
       "    </tr>\n",
       "    <tr>\n",
       "      <th>23</th>\n",
       "      <td>22</td>\n",
       "      <td>19</td>\n",
       "      <td>22_заработный_кабинет_трудоустройство_сотрудник</td>\n",
       "      <td>[заработный, кабинет, трудоустройство, сотрудн...</td>\n",
       "      <td>[работодатель, ведомство, почта]</td>\n",
       "    </tr>\n",
       "    <tr>\n",
       "      <th>24</th>\n",
       "      <td>23</td>\n",
       "      <td>19</td>\n",
       "      <td>23_здание_изобретение_фасад_стройплощадка</td>\n",
       "      <td>[здание, изобретение, фасад, стройплощадка, ст...</td>\n",
       "      <td>[архитектурный, инфраструктура, подрядчик]</td>\n",
       "    </tr>\n",
       "    <tr>\n",
       "      <th>25</th>\n",
       "      <td>24</td>\n",
       "      <td>18</td>\n",
       "      <td>24_деревце_озеленитель_цветущийприморский_цвет...</td>\n",
       "      <td>[деревце, озеленитель, цветущийприморский, цве...</td>\n",
       "      <td>[цветок, растение, тюльпан]</td>\n",
       "    </tr>\n",
       "    <tr>\n",
       "      <th>26</th>\n",
       "      <td>25</td>\n",
       "      <td>18</td>\n",
       "      <td>25_затмение_космический_сияние_светофорный</td>\n",
       "      <td>[затмение, космический, сияние, светофорный, с...</td>\n",
       "      <td>[космический, затмение, светофорный]</td>\n",
       "    </tr>\n",
       "    <tr>\n",
       "      <th>27</th>\n",
       "      <td>26</td>\n",
       "      <td>18</td>\n",
       "      <td>26_борт_корабельный_флотский_флотоводческий</td>\n",
       "      <td>[борт, корабельный, флотский, флотоводческий, ...</td>\n",
       "      <td>[судный, морзаводовец, флотоводческий]</td>\n",
       "    </tr>\n",
       "    <tr>\n",
       "      <th>28</th>\n",
       "      <td>27</td>\n",
       "      <td>18</td>\n",
       "      <td>27_больница_госпитализация_психиатор_поликлиника</td>\n",
       "      <td>[больница, госпитализация, психиатор, поликлин...</td>\n",
       "      <td>[эхокардиография, массаж, больница]</td>\n",
       "    </tr>\n",
       "    <tr>\n",
       "      <th>29</th>\n",
       "      <td>28</td>\n",
       "      <td>17</td>\n",
       "      <td>28_залив_кайтсёрфингист_рыбалка_спб_приморский...</td>\n",
       "      <td>[залив, кайтсёрфингист, рыбалка_спб, приморски...</td>\n",
       "      <td>[берег, приморскийрайон, морской]</td>\n",
       "    </tr>\n",
       "    <tr>\n",
       "      <th>30</th>\n",
       "      <td>29</td>\n",
       "      <td>16</td>\n",
       "      <td>29_баскетбольный_игрок_фитнесвыборгский_физкул...</td>\n",
       "      <td>[баскетбольный, игрок, фитнесвыборгский, физку...</td>\n",
       "      <td>[стадион, спортнормажизнь, баскетбол]</td>\n",
       "    </tr>\n",
       "    <tr>\n",
       "      <th>31</th>\n",
       "      <td>30</td>\n",
       "      <td>16</td>\n",
       "      <td>30_горький_дрозд_шипеть_чёрт</td>\n",
       "      <td>[горький, дрозд, шипеть, чёрт, умолк, свистнут...</td>\n",
       "      <td>[шум, заглушка, наткнуться]</td>\n",
       "    </tr>\n",
       "    <tr>\n",
       "      <th>32</th>\n",
       "      <td>31</td>\n",
       "      <td>15</td>\n",
       "      <td>31_ворон_ворона_сова_птичкихичкокк</td>\n",
       "      <td>[ворон, ворона, сова, птичкихичкокк, птичка, п...</td>\n",
       "      <td>[ворона, чайка, попугайчик]</td>\n",
       "    </tr>\n",
       "    <tr>\n",
       "      <th>33</th>\n",
       "      <td>32</td>\n",
       "      <td>14</td>\n",
       "      <td>32_щенячий_щенкисостоянки_ищутдом_стадо_собачник</td>\n",
       "      <td>[щенячий, щенкисостоянки_ищутдом, стадо, собач...</td>\n",
       "      <td>[потеряласьовчарка, щенкисостоянки_ищутдом, со...</td>\n",
       "    </tr>\n",
       "    <tr>\n",
       "      <th>34</th>\n",
       "      <td>33</td>\n",
       "      <td>14</td>\n",
       "      <td>33_штрафовать_штраф_уголовный_приговорить</td>\n",
       "      <td>[штрафовать, штраф, уголовный, приговорить, пр...</td>\n",
       "      <td>[преступление, наказание, арест]</td>\n",
       "    </tr>\n",
       "    <tr>\n",
       "      <th>35</th>\n",
       "      <td>34</td>\n",
       "      <td>14</td>\n",
       "      <td>34_художница_художник_художественный_фигурка</td>\n",
       "      <td>[художница, художник, художественный, фигурка,...</td>\n",
       "      <td>[мода, живописец, деревняхудожник]</td>\n",
       "    </tr>\n",
       "    <tr>\n",
       "      <th>36</th>\n",
       "      <td>35</td>\n",
       "      <td>13</td>\n",
       "      <td>35_фотохудожник_фотомузыкальный_фотография_фот...</td>\n",
       "      <td>[фотохудожник, фотомузыкальный, фотография, фо...</td>\n",
       "      <td>[панорама, фотография, сфотографировать]</td>\n",
       "    </tr>\n",
       "    <tr>\n",
       "      <th>37</th>\n",
       "      <td>36</td>\n",
       "      <td>13</td>\n",
       "      <td>36_разбойник_похитить_похитительница_ограбление</td>\n",
       "      <td>[разбойник, похитить, похитительница, ограблен...</td>\n",
       "      <td>[вор, грабёж, похитительница]</td>\n",
       "    </tr>\n",
       "    <tr>\n",
       "      <th>38</th>\n",
       "      <td>37</td>\n",
       "      <td>12</td>\n",
       "      <td>37_фейерверк_сжигать_пожароопасный_пожарный</td>\n",
       "      <td>[фейерверк, сжигать, пожароопасный, пожарный, ...</td>\n",
       "      <td>[огонь, пожарный, пожароопасный]</td>\n",
       "    </tr>\n",
       "    <tr>\n",
       "      <th>39</th>\n",
       "      <td>38</td>\n",
       "      <td>12</td>\n",
       "      <td>38_припарковаться_перепарковываться_перепарков...</td>\n",
       "      <td>[припарковаться, перепарковываться, перепарков...</td>\n",
       "      <td>[припарковаться, парковка, парковкас]</td>\n",
       "    </tr>\n",
       "    <tr>\n",
       "      <th>40</th>\n",
       "      <td>39</td>\n",
       "      <td>12</td>\n",
       "      <td>39_кошкино_кошкамочь_кошка_кошечка</td>\n",
       "      <td>[кошкино, кошкамочь, кошка, кошечка, кошекправ...</td>\n",
       "      <td>[кошкино, котёночек, котик]</td>\n",
       "    </tr>\n",
       "    <tr>\n",
       "      <th>41</th>\n",
       "      <td>40</td>\n",
       "      <td>11</td>\n",
       "      <td>40_экспонат_музейспб_музейный_музей</td>\n",
       "      <td>[экспонат, музейспб, музейный, музей, галерея,...</td>\n",
       "      <td>[выставка, археология, артефакт]</td>\n",
       "    </tr>\n",
       "  </tbody>\n",
       "</table>\n",
       "</div>"
      ],
      "text/plain": [
       "    Topic  Count                                               Name  \\\n",
       "0      -1    273  -1__отдать_книга_полицейский_публичный_приглашать   \n",
       "1       0    118  0_proленсоветовский_некрасовский_славянка_москвич   \n",
       "2       1     63  1_ehwqrsmtrgpgmiftэ_олигофрен_футболист_цкк_пу...   \n",
       "3       2     54           2_анонсировать_убывающаялун_подвиг_удача   \n",
       "4       3     43  3_всеволожскийрайон_фрунзенскийрайон_грунт_пет...   \n",
       "5       4     36                   4_время_час_маршировать_парадное   \n",
       "6       5     35  5_автодора_улицасавушкин_байконурскаяулица_дор...   \n",
       "7       6     32  6_благодарность_благодарный_удовольствие_счаст...   \n",
       "8       7     30          7_бежать_взлетать_ходить_уборкакаждыйдеть   \n",
       "9       8     29  8_пассажиравтотранс_авто_транспортировка_трампуть   \n",
       "10      9     29    9_метростроевский_автобус_электробус_троллейбус   \n",
       "11     10     28           10_крематорий_кремация_фашистский_убитый   \n",
       "12     11     24   11_намаз_палата_церковьниколаячудотвтоца_церковь   \n",
       "13     12     22       12_концертный_мелодия_театрализованный_театр   \n",
       "14     13     21                  13_водоём_гидропривод_река_проток   \n",
       "15     14     21               14_лекторий_маленький_школьник_школа   \n",
       "16     15     20            15_доход_задолженность_цена_супермаркет   \n",
       "17     16     20             16_облачный_отопление_шторм_циклонтино   \n",
       "18     17     20       17_догхантеры_овчарка_собачкусрочный_собачка   \n",
       "19     18     20                 18_городовой_городок_столичный_мэр   \n",
       "20     19     20  19_московскийвокзал_новороссия_сталинградский_...   \n",
       "21     20     20  20_аэропорт_аэропортный_электроснабжение_элект...   \n",
       "22     21     19             21_зимят_ледяной_холодное_холодапогода   \n",
       "23     22     19    22_заработный_кабинет_трудоустройство_сотрудник   \n",
       "24     23     19          23_здание_изобретение_фасад_стройплощадка   \n",
       "25     24     18  24_деревце_озеленитель_цветущийприморский_цвет...   \n",
       "26     25     18         25_затмение_космический_сияние_светофорный   \n",
       "27     26     18        26_борт_корабельный_флотский_флотоводческий   \n",
       "28     27     18   27_больница_госпитализация_психиатор_поликлиника   \n",
       "29     28     17  28_залив_кайтсёрфингист_рыбалка_спб_приморский...   \n",
       "30     29     16  29_баскетбольный_игрок_фитнесвыборгский_физкул...   \n",
       "31     30     16                       30_горький_дрозд_шипеть_чёрт   \n",
       "32     31     15                 31_ворон_ворона_сова_птичкихичкокк   \n",
       "33     32     14   32_щенячий_щенкисостоянки_ищутдом_стадо_собачник   \n",
       "34     33     14          33_штрафовать_штраф_уголовный_приговорить   \n",
       "35     34     14       34_художница_художник_художественный_фигурка   \n",
       "36     35     13  35_фотохудожник_фотомузыкальный_фотография_фот...   \n",
       "37     36     13    36_разбойник_похитить_похитительница_ограбление   \n",
       "38     37     12        37_фейерверк_сжигать_пожароопасный_пожарный   \n",
       "39     38     12  38_припарковаться_перепарковываться_перепарков...   \n",
       "40     39     12                 39_кошкино_кошкамочь_кошка_кошечка   \n",
       "41     40     11                40_экспонат_музейспб_музейный_музей   \n",
       "\n",
       "                                       Representation  \\\n",
       "0   [_отдать_книга, полицейский, публичный, пригла...   \n",
       "1   [proленсоветовский, некрасовский, славянка, мо...   \n",
       "2   [ehwqrsmtrgpgmiftэ, олигофрен, футболист, цкк_...   \n",
       "3   [анонсировать, убывающаялун, подвиг, удача, по...   \n",
       "4   [всеволожскийрайон, фрунзенскийрайон, грунт, п...   \n",
       "5   [время, час, маршировать, парадное, патриотиче...   \n",
       "6   [автодора, улицасавушкин, байконурскаяулица, д...   \n",
       "7   [благодарность, благодарный, удовольствие, сча...   \n",
       "8   [бежать, взлетать, ходить, уборкакаждыйдеть, у...   \n",
       "9   [пассажиравтотранс, авто, транспортировка, тра...   \n",
       "10  [метростроевский, автобус, электробус, троллей...   \n",
       "11  [крематорий, кремация, фашистский, убитый, уби...   \n",
       "12  [намаз, палата, церковьниколаячудотвтоца, церк...   \n",
       "13  [концертный, мелодия, театрализованный, театр,...   \n",
       "14  [водоём, гидропривод, река, проток, промочить,...   \n",
       "15  [лекторий, маленький, школьник, школа, учитель...   \n",
       "16  [доход, задолженность, цена, супермаркет, поку...   \n",
       "17  [облачный, отопление, шторм, циклонтино, цикло...   \n",
       "18  [догхантеры, овчарка, собачкусрочный, собачка,...   \n",
       "19  [городовой, городок, столичный, мэр, муниципал...   \n",
       "20  [московскийвокзал, новороссия, сталинградский,...   \n",
       "21  [аэропорт, аэропортный, электроснабжение, элек...   \n",
       "22  [зимят, ледяной, холодное, холодапогода, снежн...   \n",
       "23  [заработный, кабинет, трудоустройство, сотрудн...   \n",
       "24  [здание, изобретение, фасад, стройплощадка, ст...   \n",
       "25  [деревце, озеленитель, цветущийприморский, цве...   \n",
       "26  [затмение, космический, сияние, светофорный, с...   \n",
       "27  [борт, корабельный, флотский, флотоводческий, ...   \n",
       "28  [больница, госпитализация, психиатор, поликлин...   \n",
       "29  [залив, кайтсёрфингист, рыбалка_спб, приморски...   \n",
       "30  [баскетбольный, игрок, фитнесвыборгский, физку...   \n",
       "31  [горький, дрозд, шипеть, чёрт, умолк, свистнут...   \n",
       "32  [ворон, ворона, сова, птичкихичкокк, птичка, п...   \n",
       "33  [щенячий, щенкисостоянки_ищутдом, стадо, собач...   \n",
       "34  [штрафовать, штраф, уголовный, приговорить, пр...   \n",
       "35  [художница, художник, художественный, фигурка,...   \n",
       "36  [фотохудожник, фотомузыкальный, фотография, фо...   \n",
       "37  [разбойник, похитить, похитительница, ограблен...   \n",
       "38  [фейерверк, сжигать, пожароопасный, пожарный, ...   \n",
       "39  [припарковаться, перепарковываться, перепарков...   \n",
       "40  [кошкино, кошкамочь, кошка, кошечка, кошекправ...   \n",
       "41  [экспонат, музейспб, музейный, музей, галерея,...   \n",
       "\n",
       "                                  Representative_Docs  \n",
       "0          [эвакуировалипоток, отравление, эйхенбаум]  \n",
       "1                    [дмитриевич, игоревич, владимир]  \n",
       "2            [белоостров, читайгород, околоколомяжий]  \n",
       "3                      [согласовать, провести, стать]  \n",
       "4                        [район, соседство, пригород]  \n",
       "5                  [годаначало, рождественский, день]  \n",
       "6   [остановкаобещественноготранспорт, зампред, ма...  \n",
       "7                          [уличный, хороший, хотеть]  \n",
       "8                      [понаехать, гулять, проходить]  \n",
       "9                [автовый, машина, пассажиравтотранс]  \n",
       "10                   [железнодорожный, вокзал, поезд]  \n",
       "11             [пострадать, потерпевший, захоронение]  \n",
       "12                              [палата, храм, собор]  \n",
       "13                     [концертный, музыка, голливуд]  \n",
       "14                         [потоп, водоём, акватория]  \n",
       "15                  [ребёнок, малышок, новорождённый]  \n",
       "16                             [купец, бюджет, плата]  \n",
       "17                  [застылый, отопление, туманность]  \n",
       "18             [овчарка, ветеринарный, собаководчица]  \n",
       "19        [столичный, градостроительство, городбазар]  \n",
       "20                  [путин, россиянин, всероссийский]  \n",
       "21                       [аэропортный, дрон, авиация]  \n",
       "22                   [снегоочистка, снегофоб, зимний]  \n",
       "23                   [работодатель, ведомство, почта]  \n",
       "24         [архитектурный, инфраструктура, подрядчик]  \n",
       "25                        [цветок, растение, тюльпан]  \n",
       "26               [космический, затмение, светофорный]  \n",
       "27             [судный, морзаводовец, флотоводческий]  \n",
       "28                [эхокардиография, массаж, больница]  \n",
       "29                  [берег, приморскийрайон, морской]  \n",
       "30              [стадион, спортнормажизнь, баскетбол]  \n",
       "31                        [шум, заглушка, наткнуться]  \n",
       "32                        [ворона, чайка, попугайчик]  \n",
       "33  [потеряласьовчарка, щенкисостоянки_ищутдом, со...  \n",
       "34                   [преступление, наказание, арест]  \n",
       "35                 [мода, живописец, деревняхудожник]  \n",
       "36           [панорама, фотография, сфотографировать]  \n",
       "37                      [вор, грабёж, похитительница]  \n",
       "38                   [огонь, пожарный, пожароопасный]  \n",
       "39              [припарковаться, парковка, парковкас]  \n",
       "40                        [кошкино, котёночек, котик]  \n",
       "41                   [выставка, археология, артефакт]  "
      ]
     },
     "execution_count": 8,
     "metadata": {},
     "output_type": "execute_result"
    }
   ],
   "source": [
    "from bertopic import BERTopic\n",
    "\n",
    "topic_model = BERTopic(language=\"russian\")\n",
    "topics, probs = topic_model.fit_transform(clustering_items)\n",
    "topic_model.get_topic_info()"
   ]
  },
  {
   "cell_type": "code",
   "execution_count": null,
   "metadata": {},
   "outputs": [
    {
     "name": "stderr",
     "output_type": "stream",
     "text": [
      "2024-03-09 21:24:39,287 - BERTopic - Transformed documents to Embeddings\n",
      "2024-03-09 21:24:41,833 - BERTopic - Reduced dimensionality\n",
      "2024-03-09 21:24:41,933 - BERTopic - Clustered reduced embeddings\n",
      "2024-03-09 21:24:41,974 - BERTopic - Reduced number of topics from 28 to 20\n"
     ]
    },
    {
     "data": {
      "text/html": [
       "<div>\n",
       "<style scoped>\n",
       "    .dataframe tbody tr th:only-of-type {\n",
       "        vertical-align: middle;\n",
       "    }\n",
       "\n",
       "    .dataframe tbody tr th {\n",
       "        vertical-align: top;\n",
       "    }\n",
       "\n",
       "    .dataframe thead th {\n",
       "        text-align: right;\n",
       "    }\n",
       "</style>\n",
       "<table border=\"1\" class=\"dataframe\">\n",
       "  <thead>\n",
       "    <tr style=\"text-align: right;\">\n",
       "      <th></th>\n",
       "      <th>Topic</th>\n",
       "      <th>Count</th>\n",
       "      <th>Name</th>\n",
       "      <th>Representation</th>\n",
       "      <th>Representative_Docs</th>\n",
       "    </tr>\n",
       "  </thead>\n",
       "  <tbody>\n",
       "    <tr>\n",
       "      <th>0</th>\n",
       "      <td>-1</td>\n",
       "      <td>157</td>\n",
       "      <td>-1__отдать_книга_романтика_подписать_приятный</td>\n",
       "      <td>[_отдать_книга, романтика, подписать, приятный...</td>\n",
       "      <td>[сосед, сообщество, _отдать_книга]</td>\n",
       "    </tr>\n",
       "    <tr>\n",
       "      <th>1</th>\n",
       "      <td>0</td>\n",
       "      <td>366</td>\n",
       "      <td>0__ленинградский_потёмкин_пропустить_раскачать</td>\n",
       "      <td>[_ленинградский, потёмкин, пропустить, раскача...</td>\n",
       "      <td>[прилечь, потеряшки_калининскийисточник, выжни...</td>\n",
       "    </tr>\n",
       "    <tr>\n",
       "      <th>2</th>\n",
       "      <td>1</td>\n",
       "      <td>208</td>\n",
       "      <td>1_автовокзал_район_охранник_окрестность</td>\n",
       "      <td>[автовокзал, район, охранник, окрестность, под...</td>\n",
       "      <td>[коммунальщик, улочка, мебель]</td>\n",
       "    </tr>\n",
       "    <tr>\n",
       "      <th>3</th>\n",
       "      <td>2</td>\n",
       "      <td>73</td>\n",
       "      <td>2__фото_панорама_фотограф_снимка</td>\n",
       "      <td>[_фото, панорама, фотограф, снимка, скульптор,...</td>\n",
       "      <td>[искусство, елочкаживить, цветник]</td>\n",
       "    </tr>\n",
       "    <tr>\n",
       "      <th>4</th>\n",
       "      <td>3</td>\n",
       "      <td>46</td>\n",
       "      <td>3_вандализм_украсть_воровка_грабитель</td>\n",
       "      <td>[вандализм, украсть, воровка, грабитель, вымог...</td>\n",
       "      <td>[недобросовестный, потерпевший, обвинить]</td>\n",
       "    </tr>\n",
       "    <tr>\n",
       "      <th>5</th>\n",
       "      <td>4</td>\n",
       "      <td>35</td>\n",
       "      <td>4_архив_ресторан_делаемпетербургчище_долг</td>\n",
       "      <td>[архив, ресторан, делаемпетербургчище, долг, м...</td>\n",
       "      <td>[покупать, супермаркет, петербургский]</td>\n",
       "    </tr>\n",
       "    <tr>\n",
       "      <th>6</th>\n",
       "      <td>5</td>\n",
       "      <td>34</td>\n",
       "      <td>5_адмиралтейский_флотилия_жкполисприморский_кит</td>\n",
       "      <td>[адмиралтейский, флотилия, жкполисприморский, ...</td>\n",
       "      <td>[пляжный, яхтенный, морской]</td>\n",
       "    </tr>\n",
       "    <tr>\n",
       "      <th>7</th>\n",
       "      <td>6</td>\n",
       "      <td>28</td>\n",
       "      <td>6_массажист_массажный_токсический_психиатор</td>\n",
       "      <td>[массажист, массажный, токсический, психиатор,...</td>\n",
       "      <td>[лекарство, массажист, массажный]</td>\n",
       "    </tr>\n",
       "    <tr>\n",
       "      <th>8</th>\n",
       "      <td>7</td>\n",
       "      <td>27</td>\n",
       "      <td>7_котик_котёнок_школьник_школа</td>\n",
       "      <td>[котик, котёнок, школьник, школа, учитель, ууч...</td>\n",
       "      <td>[школа, учитель, котик]</td>\n",
       "    </tr>\n",
       "    <tr>\n",
       "      <th>9</th>\n",
       "      <td>8</td>\n",
       "      <td>27</td>\n",
       "      <td>8_потоп_промочить_фонтанка_фонтан</td>\n",
       "      <td>[потоп, промочить, фонтанка, фонтан, утонуть, ...</td>\n",
       "      <td>[санитарный, река, купальня]</td>\n",
       "    </tr>\n",
       "    <tr>\n",
       "      <th>10</th>\n",
       "      <td>9</td>\n",
       "      <td>27</td>\n",
       "      <td>9_огниво_огонь_эвакуация_фейерверк</td>\n",
       "      <td>[огниво, огонь, эвакуация, фейерверк, утеплять...</td>\n",
       "      <td>[взрывной, эвакуация, загореться]</td>\n",
       "    </tr>\n",
       "    <tr>\n",
       "      <th>11</th>\n",
       "      <td>10</td>\n",
       "      <td>23</td>\n",
       "      <td>10_вертолёт_ветер_роботизированный_полёт</td>\n",
       "      <td>[вертолёт, ветер, роботизированный, полёт, пил...</td>\n",
       "      <td>[авиатренажёр, самолёт, аэродром]</td>\n",
       "    </tr>\n",
       "    <tr>\n",
       "      <th>12</th>\n",
       "      <td>11</td>\n",
       "      <td>21</td>\n",
       "      <td>11_поселкафестиваль_праздник_флаг_фестиваль</td>\n",
       "      <td>[поселкафестиваль, праздник, флаг, фестиваль, ...</td>\n",
       "      <td>[парад, танец, ритуал]</td>\n",
       "    </tr>\n",
       "    <tr>\n",
       "      <th>13</th>\n",
       "      <td>12</td>\n",
       "      <td>19</td>\n",
       "      <td>12_конторский_менеджер_сотрудник_секретарь</td>\n",
       "      <td>[конторский, менеджер, сотрудник, секретарь, р...</td>\n",
       "      <td>[секретарь, нанимать, персонал]</td>\n",
       "    </tr>\n",
       "    <tr>\n",
       "      <th>14</th>\n",
       "      <td>13</td>\n",
       "      <td>17</td>\n",
       "      <td>13_малороссия_московский_советский_русский</td>\n",
       "      <td>[малороссия, московский, советский, русский, р...</td>\n",
       "      <td>[российский, малороссия, сталинградский]</td>\n",
       "    </tr>\n",
       "    <tr>\n",
       "      <th>15</th>\n",
       "      <td>14</td>\n",
       "      <td>16</td>\n",
       "      <td>14_зима_зимний_снежинка_снегоуборочный</td>\n",
       "      <td>[зима, зимний, снежинка, снегоуборочный, снего...</td>\n",
       "      <td>[лыжа, лыжня, снегопад]</td>\n",
       "    </tr>\n",
       "    <tr>\n",
       "      <th>16</th>\n",
       "      <td>15</td>\n",
       "      <td>12</td>\n",
       "      <td>15_церковь_церковный_христианский_храм</td>\n",
       "      <td>[церковь, церковный, христианский, храм, хор, ...</td>\n",
       "      <td>[церковь, монастырь, православный]</td>\n",
       "    </tr>\n",
       "    <tr>\n",
       "      <th>17</th>\n",
       "      <td>16</td>\n",
       "      <td>12</td>\n",
       "      <td>16_троллейбус_трамплин_трамвайный_трамвай</td>\n",
       "      <td>[троллейбус, трамплин, трамвайный, трамвай, тр...</td>\n",
       "      <td>[троллейбус, поезд, трамплин]</td>\n",
       "    </tr>\n",
       "    <tr>\n",
       "      <th>18</th>\n",
       "      <td>17</td>\n",
       "      <td>12</td>\n",
       "      <td>17_убитый_убийство_смерть_смертность</td>\n",
       "      <td>[убитый, убийство, смерть, смертность, погибши...</td>\n",
       "      <td>[погибнуть, захоронение, гибдд]</td>\n",
       "    </tr>\n",
       "    <tr>\n",
       "      <th>19</th>\n",
       "      <td>18</td>\n",
       "      <td>10</td>\n",
       "      <td>18_хоровой_сопрано_оркестр_музыкальный</td>\n",
       "      <td>[хоровой, сопрано, оркестр, музыкальный, музык...</td>\n",
       "      <td>[хоровой, оркестр, барабанный]</td>\n",
       "    </tr>\n",
       "  </tbody>\n",
       "</table>\n",
       "</div>"
      ],
      "text/plain": [
       "    Topic  Count                                             Name  \\\n",
       "0      -1    157    -1__отдать_книга_романтика_подписать_приятный   \n",
       "1       0    366   0__ленинградский_потёмкин_пропустить_раскачать   \n",
       "2       1    208          1_автовокзал_район_охранник_окрестность   \n",
       "3       2     73                 2__фото_панорама_фотограф_снимка   \n",
       "4       3     46            3_вандализм_украсть_воровка_грабитель   \n",
       "5       4     35        4_архив_ресторан_делаемпетербургчище_долг   \n",
       "6       5     34  5_адмиралтейский_флотилия_жкполисприморский_кит   \n",
       "7       6     28      6_массажист_массажный_токсический_психиатор   \n",
       "8       7     27                   7_котик_котёнок_школьник_школа   \n",
       "9       8     27                8_потоп_промочить_фонтанка_фонтан   \n",
       "10      9     27               9_огниво_огонь_эвакуация_фейерверк   \n",
       "11     10     23         10_вертолёт_ветер_роботизированный_полёт   \n",
       "12     11     21      11_поселкафестиваль_праздник_флаг_фестиваль   \n",
       "13     12     19       12_конторский_менеджер_сотрудник_секретарь   \n",
       "14     13     17       13_малороссия_московский_советский_русский   \n",
       "15     14     16           14_зима_зимний_снежинка_снегоуборочный   \n",
       "16     15     12           15_церковь_церковный_христианский_храм   \n",
       "17     16     12        16_троллейбус_трамплин_трамвайный_трамвай   \n",
       "18     17     12             17_убитый_убийство_смерть_смертность   \n",
       "19     18     10           18_хоровой_сопрано_оркестр_музыкальный   \n",
       "\n",
       "                                       Representation  \\\n",
       "0   [_отдать_книга, романтика, подписать, приятный...   \n",
       "1   [_ленинградский, потёмкин, пропустить, раскача...   \n",
       "2   [автовокзал, район, охранник, окрестность, под...   \n",
       "3   [_фото, панорама, фотограф, снимка, скульптор,...   \n",
       "4   [вандализм, украсть, воровка, грабитель, вымог...   \n",
       "5   [архив, ресторан, делаемпетербургчище, долг, м...   \n",
       "6   [адмиралтейский, флотилия, жкполисприморский, ...   \n",
       "7   [массажист, массажный, токсический, психиатор,...   \n",
       "8   [котик, котёнок, школьник, школа, учитель, ууч...   \n",
       "9   [потоп, промочить, фонтанка, фонтан, утонуть, ...   \n",
       "10  [огниво, огонь, эвакуация, фейерверк, утеплять...   \n",
       "11  [вертолёт, ветер, роботизированный, полёт, пил...   \n",
       "12  [поселкафестиваль, праздник, флаг, фестиваль, ...   \n",
       "13  [конторский, менеджер, сотрудник, секретарь, р...   \n",
       "14  [малороссия, московский, советский, русский, р...   \n",
       "15  [зима, зимний, снежинка, снегоуборочный, снего...   \n",
       "16  [церковь, церковный, христианский, храм, хор, ...   \n",
       "17  [троллейбус, трамплин, трамвайный, трамвай, тр...   \n",
       "18  [убитый, убийство, смерть, смертность, погибши...   \n",
       "19  [хоровой, сопрано, оркестр, музыкальный, музык...   \n",
       "\n",
       "                                  Representative_Docs  \n",
       "0                  [сосед, сообщество, _отдать_книга]  \n",
       "1   [прилечь, потеряшки_калининскийисточник, выжни...  \n",
       "2                      [коммунальщик, улочка, мебель]  \n",
       "3                  [искусство, елочкаживить, цветник]  \n",
       "4           [недобросовестный, потерпевший, обвинить]  \n",
       "5              [покупать, супермаркет, петербургский]  \n",
       "6                        [пляжный, яхтенный, морской]  \n",
       "7                   [лекарство, массажист, массажный]  \n",
       "8                             [школа, учитель, котик]  \n",
       "9                        [санитарный, река, купальня]  \n",
       "10                  [взрывной, эвакуация, загореться]  \n",
       "11                  [авиатренажёр, самолёт, аэродром]  \n",
       "12                             [парад, танец, ритуал]  \n",
       "13                    [секретарь, нанимать, персонал]  \n",
       "14           [российский, малороссия, сталинградский]  \n",
       "15                            [лыжа, лыжня, снегопад]  \n",
       "16                 [церковь, монастырь, православный]  \n",
       "17                      [троллейбус, поезд, трамплин]  \n",
       "18                    [погибнуть, захоронение, гибдд]  \n",
       "19                     [хоровой, оркестр, барабанный]  "
      ]
     },
     "execution_count": 12,
     "metadata": {},
     "output_type": "execute_result"
    }
   ],
   "source": [
    "# from umap import UMAP\n",
    "# from bertopic import BERTopic\n",
    "\n",
    "# umap_model = UMAP(n_neighbors=5,\n",
    "#                   n_components=15,\n",
    "#                   min_dist=0.0,\n",
    "#                   metric='cosine',\n",
    "#                   random_state=1234)\n",
    "                  \n",
    "# # Initiate BERTopic                  \n",
    "# topic_model = BERTopic(\n",
    "#                        umap_model=umap_model,\n",
    "#                        language=\"russian\",\n",
    "#                        calculate_probabilities=True,\n",
    "#                        nr_topics=20)\n",
    "\n",
    "# topics, probabilities = topic_model.fit_transform(clustering_items)\n",
    "# topic_model.get_topic_info()"
   ]
  },
  {
   "cell_type": "code",
   "execution_count": null,
   "metadata": {},
   "outputs": [
    {
     "data": {
      "text/plain": [
       "1286"
      ]
     },
     "execution_count": 9,
     "metadata": {},
     "output_type": "execute_result"
    }
   ],
   "source": [
    "clustered_nodes = pd.DataFrame()\n",
    "clustered_nodes['node_id'] = clustering_items\n",
    "clustered_nodes['cluster'] = topic_model.topics_\n",
    "len(clustered_nodes)"
   ]
  },
  {
   "cell_type": "code",
   "execution_count": null,
   "metadata": {},
   "outputs": [],
   "source": [
    "node_list = list(clustered_nodes['node_id'])\n",
    "info = topic_model.get_topic_info()\n",
    "\n",
    "for i in G.nodes:\n",
    "    if i in node_list:\n",
    "        G.nodes[i]['Cluster'] = clustered_nodes['cluster'].iloc[node_list.index(i)]\n",
    "        G.nodes[i]['Group_name'] = info.loc[info['Topic'] == G.nodes[i]['Cluster']]['Name'].iloc[0]"
   ]
  },
  {
   "cell_type": "code",
   "execution_count": null,
   "metadata": {},
   "outputs": [],
   "source": [
    "toponims_list = [i for i in G.nodes if G.nodes[i].get('tag') == 'TOPONIM']\n",
    "all_toponims_list = list(geocoded_df['only_full_street_name'])"
   ]
  },
  {
   "cell_type": "code",
   "execution_count": null,
   "metadata": {},
   "outputs": [],
   "source": [
    "for i in toponims_list:\n",
    "    if i in all_toponims_list:\n",
    "        index = all_toponims_list.index(i)\n",
    "        G.nodes[i]['Location'] = str(geocoded_df['Location'].iloc[all_toponims_list.index(i)])"
   ]
  },
  {
   "cell_type": "code",
   "execution_count": null,
   "metadata": {},
   "outputs": [
    {
     "data": {
      "text/plain": [
       "(59.7394631, 30.5499878)"
      ]
     },
     "execution_count": 22,
     "metadata": {},
     "output_type": "execute_result"
    }
   ],
   "source": [
    "geocoded_df.geometry.iloc[0]"
   ]
  },
  {
   "cell_type": "code",
   "execution_count": null,
   "metadata": {},
   "outputs": [
    {
     "ename": "TypeError",
     "evalue": "'NoneType' object is not subscriptable",
     "output_type": "error",
     "traceback": [
      "\u001b[1;31m---------------------------------------------------------------------------\u001b[0m",
      "\u001b[1;31mTypeError\u001b[0m                                 Traceback (most recent call last)",
      "Cell \u001b[1;32mIn[31], line 6\u001b[0m\n\u001b[0;32m      4\u001b[0m cord \u001b[38;5;241m=\u001b[39m geocoded_df[\u001b[38;5;124m'\u001b[39m\u001b[38;5;124mLocation\u001b[39m\u001b[38;5;124m'\u001b[39m]\u001b[38;5;241m.\u001b[39miloc[all_toponims_list\u001b[38;5;241m.\u001b[39mindex(i)]\n\u001b[0;32m      5\u001b[0m \u001b[38;5;66;03m# G.nodes[i]['Location'] = cord[0]\u001b[39;00m\n\u001b[1;32m----> 6\u001b[0m G\u001b[38;5;241m.\u001b[39mnodes[i][\u001b[38;5;124m'\u001b[39m\u001b[38;5;124mLat\u001b[39m\u001b[38;5;124m'\u001b[39m] \u001b[38;5;241m=\u001b[39m \u001b[43mcord\u001b[49m\u001b[43m[\u001b[49m\u001b[38;5;241;43m1\u001b[39;49m\u001b[43m]\u001b[49m[\u001b[38;5;241m0\u001b[39m]\n\u001b[0;32m      7\u001b[0m G\u001b[38;5;241m.\u001b[39mnodes[i][\u001b[38;5;124m'\u001b[39m\u001b[38;5;124mLon\u001b[39m\u001b[38;5;124m'\u001b[39m] \u001b[38;5;241m=\u001b[39m cord[\u001b[38;5;241m1\u001b[39m][\u001b[38;5;241m1\u001b[39m]\n",
      "\u001b[1;31mTypeError\u001b[0m: 'NoneType' object is not subscriptable"
     ]
    }
   ],
   "source": [
    "for i in toponims_list:\n",
    "    if i in all_toponims_list:\n",
    "        index = all_toponims_list.index(i)\n",
    "        cord = geocoded_df['geometry'].iloc[all_toponims_list.index(i)][0]\n",
    "        G.nodes[i]['Lat'] = cord[0]\n",
    "        G.nodes[i]['Lon'] = cord[1]"
   ]
  },
  {
   "cell_type": "code",
   "execution_count": null,
   "metadata": {},
   "outputs": [],
   "source": [
    "nx.write_graphml(G, 'total_graph_0.05.graphml', encoding='utf-8')"
   ]
  },
  {
   "cell_type": "code",
   "execution_count": null,
   "metadata": {},
   "outputs": [],
   "source": [
    "cluster = -1\n",
    "cluster_coordes = []\n",
    "\n",
    "for i in G.nodes:\n",
    "    if G.nodes[i]['tag'] == 'TOPONIM':\n",
    "        round = [n for n in G.neighbors(i)]\n",
    "        for j in round:\n",
    "            if G.nodes[j]['Cluster'] == cluster:\n",
    "                current_coords = (G.nodes[i]['Lat'], G.nodes[i]['Lon'])\n",
    "                cluster_coordes.append(current_coords)"
   ]
  },
  {
   "cell_type": "code",
   "execution_count": null,
   "metadata": {},
   "outputs": [],
   "source": [
    "import folium\n",
    "\n",
    "mymap = folium.Map(location=[59.9343, 30.3351], zoom_start=10, tiles='cartodbdark_matter')\n",
    "\n",
    "for i in cluster_coordes:\n",
    "    folium.Marker(location=[i[1], i[0]]).add_to(mymap)\n",
    "\n",
    "mymap.save('map_-1.html')"
   ]
  },
  {
   "cell_type": "code",
   "execution_count": null,
   "metadata": {},
   "outputs": [
    {
     "data": {
      "text/plain": [
       "{'tag': 'NOUN',\n",
       " 'Cluster': 27,\n",
       " 'Group_name': '27_шуваловскийпарк_удельныйпарк_прометейпарк_паркпарк'}"
      ]
     },
     "execution_count": 30,
     "metadata": {},
     "output_type": "execute_result"
    }
   ],
   "source": [
    "G.nodes['газон']"
   ]
  },
  {
   "cell_type": "code",
   "execution_count": null,
   "metadata": {},
   "outputs": [],
   "source": [
    "nx.write_graphml(G, 'total_graph_0.05.graphml', encoding='utf-8')"
   ]
  }
 ],
 "metadata": {
  "kernelspec": {
   "display_name": "venv",
   "language": "python",
   "name": "python3"
  },
  "language_info": {
   "codemirror_mode": {
    "name": "ipython",
    "version": 3
   },
   "file_extension": ".py",
   "mimetype": "text/x-python",
   "name": "python",
   "nbconvert_exporter": "python",
   "pygments_lexer": "ipython3",
   "version": "3.11.8"
  }
 },
 "nbformat": 4,
 "nbformat_minor": 2
}
