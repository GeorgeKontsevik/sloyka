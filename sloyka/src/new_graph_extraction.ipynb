{
 "cells": [
  {
   "cell_type": "code",
   "execution_count": 1,
   "metadata": {
    "collapsed": true,
    "pycharm": {
     "name": "#%%\n"
    }
   },
   "outputs": [],
   "source": [
    "import pandas as pd\n",
    "import keybert"
   ]
  },
  {
   "cell_type": "code",
   "execution_count": 2,
   "outputs": [
    {
     "data": {
      "text/plain": "   Unnamed: 0                                               text     type  id  \\\n0           0  Анонимно пожалуйста.Сегодня наблюдаю ситуацию,...     post   1   \n1           1  Собачники ОЧЕНЬ ГРЯЗНЫЕ ЛЮДИ! У НИХ ДОМА КАК В...  comment   2   \n2           2  Руслан, уверена,что вы тоже не источаете арома...    reply   3   \n3           3  Руслан, зайди ко мне в подъезд и мою квартиру....    reply   4   \n4           4  Катя, бла бла бла, я ноги чаще мою чем ты свое...    reply   5   \n5           5  Вы посмотрите сколько мусора валяется . Это сд...  comment   6   \n6           6         Ирина, давайте еще и какашек накидаем, да?    reply   7   \n7           7  Тима, не надо фантазировать. Меня просто удивл...    reply   8   \n\n   ref_id toponim  \n0     NaN   yes_1  \n1     1.0     NaN  \n2     2.0     NaN  \n3     2.0   yes_2  \n4     2.0     NaN  \n5     1.0   yes_3  \n6     6.0     NaN  \n7     6.0     NaN  ",
      "text/html": "<div>\n<style scoped>\n    .dataframe tbody tr th:only-of-type {\n        vertical-align: middle;\n    }\n\n    .dataframe tbody tr th {\n        vertical-align: top;\n    }\n\n    .dataframe thead th {\n        text-align: right;\n    }\n</style>\n<table border=\"1\" class=\"dataframe\">\n  <thead>\n    <tr style=\"text-align: right;\">\n      <th></th>\n      <th>Unnamed: 0</th>\n      <th>text</th>\n      <th>type</th>\n      <th>id</th>\n      <th>ref_id</th>\n      <th>toponim</th>\n    </tr>\n  </thead>\n  <tbody>\n    <tr>\n      <th>0</th>\n      <td>0</td>\n      <td>Анонимно пожалуйста.Сегодня наблюдаю ситуацию,...</td>\n      <td>post</td>\n      <td>1</td>\n      <td>NaN</td>\n      <td>yes_1</td>\n    </tr>\n    <tr>\n      <th>1</th>\n      <td>1</td>\n      <td>Собачники ОЧЕНЬ ГРЯЗНЫЕ ЛЮДИ! У НИХ ДОМА КАК В...</td>\n      <td>comment</td>\n      <td>2</td>\n      <td>1.0</td>\n      <td>NaN</td>\n    </tr>\n    <tr>\n      <th>2</th>\n      <td>2</td>\n      <td>Руслан, уверена,что вы тоже не источаете арома...</td>\n      <td>reply</td>\n      <td>3</td>\n      <td>2.0</td>\n      <td>NaN</td>\n    </tr>\n    <tr>\n      <th>3</th>\n      <td>3</td>\n      <td>Руслан, зайди ко мне в подъезд и мою квартиру....</td>\n      <td>reply</td>\n      <td>4</td>\n      <td>2.0</td>\n      <td>yes_2</td>\n    </tr>\n    <tr>\n      <th>4</th>\n      <td>4</td>\n      <td>Катя, бла бла бла, я ноги чаще мою чем ты свое...</td>\n      <td>reply</td>\n      <td>5</td>\n      <td>2.0</td>\n      <td>NaN</td>\n    </tr>\n    <tr>\n      <th>5</th>\n      <td>5</td>\n      <td>Вы посмотрите сколько мусора валяется . Это сд...</td>\n      <td>comment</td>\n      <td>6</td>\n      <td>1.0</td>\n      <td>yes_3</td>\n    </tr>\n    <tr>\n      <th>6</th>\n      <td>6</td>\n      <td>Ирина, давайте еще и какашек накидаем, да?</td>\n      <td>reply</td>\n      <td>7</td>\n      <td>6.0</td>\n      <td>NaN</td>\n    </tr>\n    <tr>\n      <th>7</th>\n      <td>7</td>\n      <td>Тима, не надо фантазировать. Меня просто удивл...</td>\n      <td>reply</td>\n      <td>8</td>\n      <td>6.0</td>\n      <td>NaN</td>\n    </tr>\n  </tbody>\n</table>\n</div>"
     },
     "execution_count": 2,
     "metadata": {},
     "output_type": "execute_result"
    }
   ],
   "source": [
    "df = pd.read_csv(\"C:\\\\Users\\\\thebe\\\\OneDrive - ITMO UNIVERSITY\\\\НИРМА\\\\Data\\\\test_structure.csv\", sep=';', encoding='utf-8')\n",
    "df"
   ],
   "metadata": {
    "collapsed": false,
    "pycharm": {
     "name": "#%%\n"
    }
   }
  },
  {
   "cell_type": "code",
   "execution_count": 4,
   "outputs": [
    {
     "data": {
      "text/plain": "0    Анонимно пожалуйста.Сегодня наблюдаю ситуацию,...\nName: text, dtype: object"
     },
     "execution_count": 4,
     "metadata": {},
     "output_type": "execute_result"
    }
   ],
   "source": [
    "post = df.text.loc[df.type == 'post']\n",
    "post"
   ],
   "metadata": {
    "collapsed": false,
    "pycharm": {
     "name": "#%%\n"
    }
   }
  },
  {
   "cell_type": "code",
   "execution_count": 13,
   "outputs": [
    {
     "data": {
      "text/plain": "['Собачники ОЧЕНЬ ГРЯЗНЫЕ ЛЮДИ! У НИХ ДОМА КАК В САРАЯХ ВОНЯЕТ И ГРЯЗНО! ДАЖЕ НА ЭТАЖЕ В КОРИДОРЕ ВОНЯЕТ ГДЕ СОБАЧНИК СУЩЕСТВУЕТ!',\n 'Вы посмотрите сколько мусора валяется . Это сделали люди. Что то никто им за шиворот не кидает ?']"
     },
     "execution_count": 13,
     "metadata": {},
     "output_type": "execute_result"
    }
   ],
   "source": [
    "comments = [ i for i in df.text.loc[df.ref_id == 1.0] if i is not None]\n",
    "comments"
   ],
   "metadata": {
    "collapsed": false,
    "pycharm": {
     "name": "#%%\n"
    }
   }
  },
  {
   "cell_type": "code",
   "execution_count": null,
   "outputs": [],
   "source": [],
   "metadata": {
    "collapsed": false,
    "pycharm": {
     "name": "#%%\n"
    }
   }
  }
 ],
 "metadata": {
  "kernelspec": {
   "display_name": "Python 3",
   "language": "python",
   "name": "python3"
  },
  "language_info": {
   "codemirror_mode": {
    "name": "ipython",
    "version": 2
   },
   "file_extension": ".py",
   "mimetype": "text/x-python",
   "name": "python",
   "nbconvert_exporter": "python",
   "pygments_lexer": "ipython2",
   "version": "2.7.6"
  }
 },
 "nbformat": 4,
 "nbformat_minor": 0
}