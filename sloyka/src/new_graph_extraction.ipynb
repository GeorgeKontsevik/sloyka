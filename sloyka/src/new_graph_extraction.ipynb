{
 "cells": [
  {
   "cell_type": "code",
   "execution_count": 3,
   "metadata": {
    "collapsed": true,
    "pycharm": {
     "name": "#%%\n"
    }
   },
   "outputs": [],
   "source": [
    "import pandas as pd\n",
    "import keybert"
   ]
  },
  {
   "cell_type": "code",
   "execution_count": 4,
   "outputs": [
    {
     "name": "stdout",
     "output_type": "stream",
     "text": [
      "INFO: Pandarallel will run on -1 workers.\n",
      "INFO: Pandarallel will use standard multiprocessing data transfer (pipe) to transfer data between the main process and workers.\n",
      "\n",
      "WARNING: You are on Windows. If you detect any issue with pandarallel, be sure you checked out the Troubleshooting page:\n",
      "https://nalepae.github.io/pandarallel/troubleshooting/\n"
     ]
    },
    {
     "name": "stderr",
     "output_type": "stream",
     "text": [
      "[nltk_data] Downloading package stopwords to\n",
      "[nltk_data]     C:\\Users\\thebe\\AppData\\Roaming\\nltk_data...\n",
      "[nltk_data]   Package stopwords is already up-to-date!\n"
     ]
    }
   ],
   "source": [
    "import warnings\n",
    "\n",
    "warnings.simplefilter(\"ignore\")\n",
    "\n",
    "import os\n",
    "import sys\n",
    "\n",
    "folder = 'I:\\sloyka\\sloyka\\src'\n",
    "sys.path.append(folder)\n",
    "\n",
    "from sloyka.src.data_getter import VKParser"
   ],
   "metadata": {
    "collapsed": false
   }
  },
  {
   "cell_type": "code",
   "execution_count": 5,
   "outputs": [],
   "source": [
    "owner_id='-129354225' # группа \"центральный район за комфортную среду обитания\"\n",
    "token='af981bccaf981bccaf981bcc00ac8f3fccaaf98af981bccca2667d92812caf000917163'"
   ],
   "metadata": {
    "collapsed": false
   }
  },
  {
   "cell_type": "code",
   "execution_count": 6,
   "outputs": [
    {
     "name": "stdout",
     "output_type": "stream",
     "text": [
      "2024-02-01 10:30:00\n",
      "posts downloaded\n"
     ]
    }
   ],
   "source": [
    "posts_df = VKParser().run_posts(owner_id, token, 100, \"2024-03-01\")"
   ],
   "metadata": {
    "collapsed": false
   }
  },
  {
   "cell_type": "code",
   "execution_count": 7,
   "outputs": [
    {
     "name": "stdout",
     "output_type": "stream",
     "text": [
      "comments downloaded\n"
     ]
    }
   ],
   "source": [
    "post_ids = posts_df[\"id\"].to_list()\n",
    "comments_df = VKParser().run_comments(owner_id=owner_id, post_ids=post_ids, access_token=token)"
   ],
   "metadata": {
    "collapsed": false
   }
  },
  {
   "cell_type": "code",
   "execution_count": 8,
   "outputs": [
    {
     "name": "stdout",
     "output_type": "stream",
     "text": [
      "2024-02-01 10:30:00\n",
      "posts downloaded\n",
      "comments downloaded\n"
     ]
    }
   ],
   "source": [
    "result_df = VKParser().run_parser(owner_id, token, step=100, cutoff_date='2024-03-20') #объединяем посты и комментарии в один датафрейм"
   ],
   "metadata": {
    "collapsed": false
   }
  },
  {
   "cell_type": "code",
   "execution_count": 9,
   "outputs": [
    {
     "data": {
      "text/plain": "                    date      id  \\\n0    2024-03-21 10:30:00  333530   \n1    2024-03-20 19:30:00  333376   \n2    2024-03-20 10:30:00  333265   \n3    2024-03-19 19:30:00  333226   \n4    2024-03-19 10:30:00  333157   \n..                   ...     ...   \n410  2024-02-07 20:01:06  328469   \n411  2024-02-08 23:18:13  328653   \n412  2024-02-09 06:09:47  328664   \n413  2024-02-09 09:55:28  328728   \n414  2024-02-25 19:15:14  330397   \n\n                                                  text  views.count  \\\n0    Сделайте сад Сан-Галли безопасным для граждан,...       2937.0   \n1    «Электросамокатная саранча» вновь повылезала н...       9015.0   \n2    Вот и отгуляла широкая Масленица! Наша команда...       4492.0   \n3    На том же месте сквозь года Вот так каланча ве...       4305.0   \n4    Мы не об этом просили! На углу Восстания и Жук...       7650.0   \n..                                                 ...          ...   \n410                             Днепропетровский сквер          NaN   \n411  В Центральном районе самое убогое оборудование...          NaN   \n412  У нас такие же стоят уже два года. Одни ворота...          NaN   \n413                                   Улетели зимовать          NaN   \n414  🤣 про воровать детство это сильно сказано! \\nТ...          NaN   \n\n     likes.count  reposts.count     type  \\\n0            105           21.0     post   \n1            174           24.0     post   \n2             54            8.0     post   \n3             50           11.0     post   \n4             95           15.0     post   \n..           ...            ...      ...   \n410            2            NaN  comment   \n411            0            NaN  comment   \n412            0            NaN  comment   \n413            0            NaN  comment   \n414            0            NaN  comment   \n\n                                                  link   post_id parents_stack  \n0                                                  NaN       NaN           NaN  \n1                                                  NaN       NaN           NaN  \n2           https://vk.com/wall-129354225_332885|ярко,       NaN           NaN  \n3    https://vk.com/wall-129354225_325408|уплотните...       NaN           NaN  \n4    https://vk.com/wall-129354225_315591?access_ke...       NaN           NaN  \n..                                                 ...       ...           ...  \n410                                                NaN  328446.0            []  \n411                                                NaN  328446.0            []  \n412                                                NaN  328446.0            []  \n413                                                NaN  328446.0            []  \n414                                                NaN  328446.0            []  \n\n[415 rows x 10 columns]",
      "text/html": "<div>\n<style scoped>\n    .dataframe tbody tr th:only-of-type {\n        vertical-align: middle;\n    }\n\n    .dataframe tbody tr th {\n        vertical-align: top;\n    }\n\n    .dataframe thead th {\n        text-align: right;\n    }\n</style>\n<table border=\"1\" class=\"dataframe\">\n  <thead>\n    <tr style=\"text-align: right;\">\n      <th></th>\n      <th>date</th>\n      <th>id</th>\n      <th>text</th>\n      <th>views.count</th>\n      <th>likes.count</th>\n      <th>reposts.count</th>\n      <th>type</th>\n      <th>link</th>\n      <th>post_id</th>\n      <th>parents_stack</th>\n    </tr>\n  </thead>\n  <tbody>\n    <tr>\n      <th>0</th>\n      <td>2024-03-21 10:30:00</td>\n      <td>333530</td>\n      <td>Сделайте сад Сан-Галли безопасным для граждан,...</td>\n      <td>2937.0</td>\n      <td>105</td>\n      <td>21.0</td>\n      <td>post</td>\n      <td>NaN</td>\n      <td>NaN</td>\n      <td>NaN</td>\n    </tr>\n    <tr>\n      <th>1</th>\n      <td>2024-03-20 19:30:00</td>\n      <td>333376</td>\n      <td>«Электросамокатная саранча» вновь повылезала н...</td>\n      <td>9015.0</td>\n      <td>174</td>\n      <td>24.0</td>\n      <td>post</td>\n      <td>NaN</td>\n      <td>NaN</td>\n      <td>NaN</td>\n    </tr>\n    <tr>\n      <th>2</th>\n      <td>2024-03-20 10:30:00</td>\n      <td>333265</td>\n      <td>Вот и отгуляла широкая Масленица! Наша команда...</td>\n      <td>4492.0</td>\n      <td>54</td>\n      <td>8.0</td>\n      <td>post</td>\n      <td>https://vk.com/wall-129354225_332885|ярко,</td>\n      <td>NaN</td>\n      <td>NaN</td>\n    </tr>\n    <tr>\n      <th>3</th>\n      <td>2024-03-19 19:30:00</td>\n      <td>333226</td>\n      <td>На том же месте сквозь года Вот так каланча ве...</td>\n      <td>4305.0</td>\n      <td>50</td>\n      <td>11.0</td>\n      <td>post</td>\n      <td>https://vk.com/wall-129354225_325408|уплотните...</td>\n      <td>NaN</td>\n      <td>NaN</td>\n    </tr>\n    <tr>\n      <th>4</th>\n      <td>2024-03-19 10:30:00</td>\n      <td>333157</td>\n      <td>Мы не об этом просили! На углу Восстания и Жук...</td>\n      <td>7650.0</td>\n      <td>95</td>\n      <td>15.0</td>\n      <td>post</td>\n      <td>https://vk.com/wall-129354225_315591?access_ke...</td>\n      <td>NaN</td>\n      <td>NaN</td>\n    </tr>\n    <tr>\n      <th>...</th>\n      <td>...</td>\n      <td>...</td>\n      <td>...</td>\n      <td>...</td>\n      <td>...</td>\n      <td>...</td>\n      <td>...</td>\n      <td>...</td>\n      <td>...</td>\n      <td>...</td>\n    </tr>\n    <tr>\n      <th>410</th>\n      <td>2024-02-07 20:01:06</td>\n      <td>328469</td>\n      <td>Днепропетровский сквер</td>\n      <td>NaN</td>\n      <td>2</td>\n      <td>NaN</td>\n      <td>comment</td>\n      <td>NaN</td>\n      <td>328446.0</td>\n      <td>[]</td>\n    </tr>\n    <tr>\n      <th>411</th>\n      <td>2024-02-08 23:18:13</td>\n      <td>328653</td>\n      <td>В Центральном районе самое убогое оборудование...</td>\n      <td>NaN</td>\n      <td>0</td>\n      <td>NaN</td>\n      <td>comment</td>\n      <td>NaN</td>\n      <td>328446.0</td>\n      <td>[]</td>\n    </tr>\n    <tr>\n      <th>412</th>\n      <td>2024-02-09 06:09:47</td>\n      <td>328664</td>\n      <td>У нас такие же стоят уже два года. Одни ворота...</td>\n      <td>NaN</td>\n      <td>0</td>\n      <td>NaN</td>\n      <td>comment</td>\n      <td>NaN</td>\n      <td>328446.0</td>\n      <td>[]</td>\n    </tr>\n    <tr>\n      <th>413</th>\n      <td>2024-02-09 09:55:28</td>\n      <td>328728</td>\n      <td>Улетели зимовать</td>\n      <td>NaN</td>\n      <td>0</td>\n      <td>NaN</td>\n      <td>comment</td>\n      <td>NaN</td>\n      <td>328446.0</td>\n      <td>[]</td>\n    </tr>\n    <tr>\n      <th>414</th>\n      <td>2024-02-25 19:15:14</td>\n      <td>330397</td>\n      <td>🤣 про воровать детство это сильно сказано! \\nТ...</td>\n      <td>NaN</td>\n      <td>0</td>\n      <td>NaN</td>\n      <td>comment</td>\n      <td>NaN</td>\n      <td>328446.0</td>\n      <td>[]</td>\n    </tr>\n  </tbody>\n</table>\n<p>415 rows × 10 columns</p>\n</div>"
     },
     "execution_count": 9,
     "metadata": {},
     "output_type": "execute_result"
    }
   ],
   "source": [
    "result_df"
   ],
   "metadata": {
    "collapsed": false
   }
  },
  {
   "cell_type": "code",
   "execution_count": 50,
   "outputs": [
    {
     "name": "stdout",
     "output_type": "stream",
     "text": [
      "2024-03-21 18:46:51,214 SequenceTagger predicts: Dictionary with 5 tags: O, S-ADDRESS, B-ADDRESS, E-ADDRESS, I-ADDRESS\n",
      "\u001B[32m03-21 18:47\u001B[0m | \u001B[1mINFO    \u001B[0m | \u001B[36mclear_names started\u001B[0m\n",
      "\u001B[32m03-21 18:47\u001B[0m | \u001B[1mINFO    \u001B[0m | \u001B[36mget_street started\u001B[0m\n",
      "\u001B[32m03-21 18:47\u001B[0m | \u001B[1mINFO    \u001B[0m | \u001B[36mextract_ner_street started\u001B[0m\n"
     ]
    },
    {
     "name": "stderr",
     "output_type": "stream",
     "text": [
      " 59%|█████▊    | 243/415 [00:03<00:01, 105.19it/s]"
     ]
    },
    {
     "name": "stdout",
     "output_type": "stream",
     "text": [
      "2024-03-21 18:47:20,081 Warning: An empty Sentence was created! Are there empty strings in your dataset?\n"
     ]
    },
    {
     "name": "stderr",
     "output_type": "stream",
     "text": [
      "100%|██████████| 415/415 [00:04<00:00, 83.67it/s] \n",
      "100%|██████████| 415/415 [00:02<00:00, 147.97it/s]"
     ]
    },
    {
     "name": "stdout",
     "output_type": "stream",
     "text": [
      "\u001B[32m03-21 18:47\u001B[0m | \u001B[1mINFO    \u001B[0m | \u001B[36mpattern1.sub started\u001B[0m\n"
     ]
    },
    {
     "name": "stderr",
     "output_type": "stream",
     "text": [
      "\n",
      "100%|██████████| 133/133 [00:00<?, ?it/s]"
     ]
    },
    {
     "name": "stdout",
     "output_type": "stream",
     "text": [
      "\u001B[32m03-21 18:47\u001B[0m | \u001B[1mINFO    \u001B[0m | \u001B[36mpattern2.findall started\u001B[0m\n"
     ]
    },
    {
     "name": "stderr",
     "output_type": "stream",
     "text": [
      "\n",
      "100%|██████████| 133/133 [00:00<?, ?it/s]"
     ]
    },
    {
     "name": "stdout",
     "output_type": "stream",
     "text": [
      "\u001B[32m03-21 18:47\u001B[0m | \u001B[1mINFO    \u001B[0m | \u001B[36mpattern2.sub started\u001B[0m\n"
     ]
    },
    {
     "name": "stderr",
     "output_type": "stream",
     "text": [
      "\n",
      "100%|██████████| 133/133 [00:00<?, ?it/s]"
     ]
    },
    {
     "name": "stdout",
     "output_type": "stream",
     "text": [
      "\u001B[32m03-21 18:47\u001B[0m | \u001B[1mINFO    \u001B[0m | \u001B[36mextract_building_num started\u001B[0m\n"
     ]
    },
    {
     "name": "stderr",
     "output_type": "stream",
     "text": [
      "\n",
      "100%|██████████| 133/133 [00:00<00:00, 18986.50it/s]"
     ]
    },
    {
     "name": "stdout",
     "output_type": "stream",
     "text": [
      "\u001B[32m03-21 18:47\u001B[0m | \u001B[1mINFO    \u001B[0m | \u001B[36mextract_toponym started\u001B[0m\n"
     ]
    },
    {
     "name": "stderr",
     "output_type": "stream",
     "text": [
      "\n",
      "100%|██████████| 133/133 [00:00<00:00, 1502.50it/s]"
     ]
    },
    {
     "name": "stdout",
     "output_type": "stream",
     "text": [
      "\u001B[32m03-21 18:47\u001B[0m | \u001B[1mINFO    \u001B[0m | \u001B[36mget_stem started\u001B[0m\n"
     ]
    },
    {
     "name": "stderr",
     "output_type": "stream",
     "text": [
      "\n"
     ]
    },
    {
     "name": "stdout",
     "output_type": "stream",
     "text": [
      "\u001B[32m03-21 18:47\u001B[0m | \u001B[1mINFO    \u001B[0m | \u001B[36mcreate_gdf started\u001B[0m\n"
     ]
    },
    {
     "name": "stderr",
     "output_type": "stream",
     "text": [
      "100%|██████████| 276/276 [01:47<00:00,  2.57it/s]\n"
     ]
    }
   ],
   "source": [
    "from geocoder import Geocoder\n",
    "\n",
    "g = Geocoder(device='cuda')\n",
    "\n",
    "gdf = g.run(result_df, 'text')"
   ],
   "metadata": {
    "collapsed": false
   }
  },
  {
   "cell_type": "code",
   "execution_count": 51,
   "outputs": [
    {
     "data": {
      "text/plain": "                    date      id  \\\n0    2024-03-21 10:30:00  333530   \n1    2024-03-19 19:30:00  333226   \n2    2024-03-19 10:30:00  333157   \n3    2024-03-18 19:30:00  333061   \n4    2024-03-18 10:30:00  333033   \n..                   ...     ...   \n271  2024-02-07 19:50:58  328468   \n272  2024-02-07 20:01:06  328469   \n273  2024-02-08 23:18:13  328653   \n274  2024-02-09 09:55:28  328728   \n275  2024-02-25 19:15:14  330397   \n\n                                                  text  views.count  \\\n0    Сделайте сад Сан-Галли безопасным для граждан,...       2937.0   \n1    На том же месте сквозь года Вот так каланча ве...       4305.0   \n2    Мы не об этом просили! На углу Восстания и Жук...       7650.0   \n3    Без вашей помощи мы не справимся! Открываем кр...       7214.0   \n4    Начинаем новую неделю с хороших новостей: в Пе...       6467.0   \n..                                                 ...          ...   \n271  Правительство Санкт-Петербурга \\n \\n«Жалоба на...          NaN   \n272                             Днепропетровский сквер          NaN   \n273  В Центральном районе самое убогое оборудование...          NaN   \n274                                   Улетели зимовать          NaN   \n275  🤣 про воровать детство это сильно сказано! \\nТ...          NaN   \n\n     likes.count  reposts.count     type  \\\n0            105           21.0     post   \n1             50           11.0     post   \n2             95           15.0     post   \n3             93           28.0     post   \n4            186            9.0     post   \n..           ...            ...      ...   \n271            0            NaN  comment   \n272            2            NaN  comment   \n273            0            NaN  comment   \n274            0            NaN  comment   \n275            0            NaN  comment   \n\n                                                  link   post_id  \\\n0                                                  NaN       NaN   \n1    https://vk.com/wall-129354225_325408|уплотните...       NaN   \n2    https://vk.com/wall-129354225_315591?access_ke...       NaN   \n3    https://vk.com/@mytndvor-programma2024|предвыб...       NaN   \n4           https://vk.com/wall-129354225_330987|нашей       NaN   \n..                                                 ...       ...   \n271                                                NaN  328446.0   \n272                                                NaN  328446.0   \n273                                                NaN  328446.0   \n274                                                NaN  328446.0   \n275                                                NaN  328446.0   \n\n    parents_stack  ...  Score  Numbers       initial_street Toponims  \\\n0             NaN  ...    NaN                     Сан-Галли     None   \n1             NaN  ...    NaN       37           Загородном     None   \n2             NaN  ...  0.971                       Бадаева     None   \n3             NaN  ...    NaN             Центральный район     None   \n4             NaN  ...  0.961       44         Лиговском .И     None   \n..            ...  ...    ...      ...                  ...      ...   \n271            []  ...    NaN           Центрального района     None   \n272            []  ...  0.807              Днепропетровский     None   \n273            []  ...    NaN            Центральном районе     None   \n274            []  ...    NaN                       Улетели     None   \n275            []  ...  0.974                     Моисеенко    улица   \n\n                                  full_street_name  \\\n0                                             None   \n1    Загородный проспект 37 Санкт-Петербург Россия   \n2            улица Бадаева  Санкт-Петербург Россия   \n3                                             None   \n4                                             None   \n..                                             ...   \n271                                           None   \n272                                           None   \n273                                           None   \n274                                           None   \n275        улица Моисеенко  Санкт-Петербург Россия   \n\n                                      location_options  \\\n0                                                 None   \n1    ['Загородный проспект 37 Санкт-Петербург Россия']   \n2            ['улица Бадаева  Санкт-Петербург Россия']   \n3                                                 None   \n4                                                 None   \n..                                                 ...   \n271                                               None   \n272                                               None   \n273                                               None   \n274                                               None   \n275        ['улица Моисеенко  Санкт-Петербург Россия']   \n\n                                   addr_to_geocode only_full_street_name  \\\n0                                             None                  None   \n1    Загородный проспект 37 Санкт-Петербург Россия   Загородный проспект   \n2            улица Бадаева  Санкт-Петербург Россия         улица Бадаева   \n3                                             None                  None   \n4                                             None                  None   \n..                                             ...                   ...   \n271                                           None                  None   \n272                                           None                  None   \n273                                           None                  None   \n274                                           None                  None   \n275        улица Моисеенко  Санкт-Петербург Россия       улица Моисеенко   \n\n                                              Location  \\\n0                                                 None   \n1    Электродом, 37/70 литА, Загородный проспект, о...   \n2    улица Бадаева, округ Правобережный, Санкт-Пете...   \n3                                                 None   \n4                                                 None   \n..                                                 ...   \n271                                               None   \n272                                               None   \n273                                               None   \n274                                               None   \n275  улица Моисеенко, Пески, округ Смольнинское, Са...   \n\n                      geometry  \n0                         None  \n1    POINT (30.33256 59.92240)  \n2    POINT (30.44214 59.92105)  \n3                         None  \n4                         None  \n..                         ...  \n271                       None  \n272                       None  \n273                       None  \n274                       None  \n275  POINT (30.39558 59.93747)  \n\n[276 rows x 21 columns]",
      "text/html": "<div>\n<style scoped>\n    .dataframe tbody tr th:only-of-type {\n        vertical-align: middle;\n    }\n\n    .dataframe tbody tr th {\n        vertical-align: top;\n    }\n\n    .dataframe thead th {\n        text-align: right;\n    }\n</style>\n<table border=\"1\" class=\"dataframe\">\n  <thead>\n    <tr style=\"text-align: right;\">\n      <th></th>\n      <th>date</th>\n      <th>id</th>\n      <th>text</th>\n      <th>views.count</th>\n      <th>likes.count</th>\n      <th>reposts.count</th>\n      <th>type</th>\n      <th>link</th>\n      <th>post_id</th>\n      <th>parents_stack</th>\n      <th>...</th>\n      <th>Score</th>\n      <th>Numbers</th>\n      <th>initial_street</th>\n      <th>Toponims</th>\n      <th>full_street_name</th>\n      <th>location_options</th>\n      <th>addr_to_geocode</th>\n      <th>only_full_street_name</th>\n      <th>Location</th>\n      <th>geometry</th>\n    </tr>\n  </thead>\n  <tbody>\n    <tr>\n      <th>0</th>\n      <td>2024-03-21 10:30:00</td>\n      <td>333530</td>\n      <td>Сделайте сад Сан-Галли безопасным для граждан,...</td>\n      <td>2937.0</td>\n      <td>105</td>\n      <td>21.0</td>\n      <td>post</td>\n      <td>NaN</td>\n      <td>NaN</td>\n      <td>NaN</td>\n      <td>...</td>\n      <td>NaN</td>\n      <td></td>\n      <td>Сан-Галли</td>\n      <td>None</td>\n      <td>None</td>\n      <td>None</td>\n      <td>None</td>\n      <td>None</td>\n      <td>None</td>\n      <td>None</td>\n    </tr>\n    <tr>\n      <th>1</th>\n      <td>2024-03-19 19:30:00</td>\n      <td>333226</td>\n      <td>На том же месте сквозь года Вот так каланча ве...</td>\n      <td>4305.0</td>\n      <td>50</td>\n      <td>11.0</td>\n      <td>post</td>\n      <td>https://vk.com/wall-129354225_325408|уплотните...</td>\n      <td>NaN</td>\n      <td>NaN</td>\n      <td>...</td>\n      <td>NaN</td>\n      <td>37</td>\n      <td>Загородном</td>\n      <td>None</td>\n      <td>Загородный проспект 37 Санкт-Петербург Россия</td>\n      <td>['Загородный проспект 37 Санкт-Петербург Россия']</td>\n      <td>Загородный проспект 37 Санкт-Петербург Россия</td>\n      <td>Загородный проспект</td>\n      <td>Электродом, 37/70 литА, Загородный проспект, о...</td>\n      <td>POINT (30.33256 59.92240)</td>\n    </tr>\n    <tr>\n      <th>2</th>\n      <td>2024-03-19 10:30:00</td>\n      <td>333157</td>\n      <td>Мы не об этом просили! На углу Восстания и Жук...</td>\n      <td>7650.0</td>\n      <td>95</td>\n      <td>15.0</td>\n      <td>post</td>\n      <td>https://vk.com/wall-129354225_315591?access_ke...</td>\n      <td>NaN</td>\n      <td>NaN</td>\n      <td>...</td>\n      <td>0.971</td>\n      <td></td>\n      <td>Бадаева</td>\n      <td>None</td>\n      <td>улица Бадаева  Санкт-Петербург Россия</td>\n      <td>['улица Бадаева  Санкт-Петербург Россия']</td>\n      <td>улица Бадаева  Санкт-Петербург Россия</td>\n      <td>улица Бадаева</td>\n      <td>улица Бадаева, округ Правобережный, Санкт-Пете...</td>\n      <td>POINT (30.44214 59.92105)</td>\n    </tr>\n    <tr>\n      <th>3</th>\n      <td>2024-03-18 19:30:00</td>\n      <td>333061</td>\n      <td>Без вашей помощи мы не справимся! Открываем кр...</td>\n      <td>7214.0</td>\n      <td>93</td>\n      <td>28.0</td>\n      <td>post</td>\n      <td>https://vk.com/@mytndvor-programma2024|предвыб...</td>\n      <td>NaN</td>\n      <td>NaN</td>\n      <td>...</td>\n      <td>NaN</td>\n      <td></td>\n      <td>Центральный район</td>\n      <td>None</td>\n      <td>None</td>\n      <td>None</td>\n      <td>None</td>\n      <td>None</td>\n      <td>None</td>\n      <td>None</td>\n    </tr>\n    <tr>\n      <th>4</th>\n      <td>2024-03-18 10:30:00</td>\n      <td>333033</td>\n      <td>Начинаем новую неделю с хороших новостей: в Пе...</td>\n      <td>6467.0</td>\n      <td>186</td>\n      <td>9.0</td>\n      <td>post</td>\n      <td>https://vk.com/wall-129354225_330987|нашей</td>\n      <td>NaN</td>\n      <td>NaN</td>\n      <td>...</td>\n      <td>0.961</td>\n      <td>44</td>\n      <td>Лиговском .И</td>\n      <td>None</td>\n      <td>None</td>\n      <td>None</td>\n      <td>None</td>\n      <td>None</td>\n      <td>None</td>\n      <td>None</td>\n    </tr>\n    <tr>\n      <th>...</th>\n      <td>...</td>\n      <td>...</td>\n      <td>...</td>\n      <td>...</td>\n      <td>...</td>\n      <td>...</td>\n      <td>...</td>\n      <td>...</td>\n      <td>...</td>\n      <td>...</td>\n      <td>...</td>\n      <td>...</td>\n      <td>...</td>\n      <td>...</td>\n      <td>...</td>\n      <td>...</td>\n      <td>...</td>\n      <td>...</td>\n      <td>...</td>\n      <td>...</td>\n      <td>...</td>\n    </tr>\n    <tr>\n      <th>271</th>\n      <td>2024-02-07 19:50:58</td>\n      <td>328468</td>\n      <td>Правительство Санкт-Петербурга \\n \\n«Жалоба на...</td>\n      <td>NaN</td>\n      <td>0</td>\n      <td>NaN</td>\n      <td>comment</td>\n      <td>NaN</td>\n      <td>328446.0</td>\n      <td>[]</td>\n      <td>...</td>\n      <td>NaN</td>\n      <td></td>\n      <td>Центрального района</td>\n      <td>None</td>\n      <td>None</td>\n      <td>None</td>\n      <td>None</td>\n      <td>None</td>\n      <td>None</td>\n      <td>None</td>\n    </tr>\n    <tr>\n      <th>272</th>\n      <td>2024-02-07 20:01:06</td>\n      <td>328469</td>\n      <td>Днепропетровский сквер</td>\n      <td>NaN</td>\n      <td>2</td>\n      <td>NaN</td>\n      <td>comment</td>\n      <td>NaN</td>\n      <td>328446.0</td>\n      <td>[]</td>\n      <td>...</td>\n      <td>0.807</td>\n      <td></td>\n      <td>Днепропетровский</td>\n      <td>None</td>\n      <td>None</td>\n      <td>None</td>\n      <td>None</td>\n      <td>None</td>\n      <td>None</td>\n      <td>None</td>\n    </tr>\n    <tr>\n      <th>273</th>\n      <td>2024-02-08 23:18:13</td>\n      <td>328653</td>\n      <td>В Центральном районе самое убогое оборудование...</td>\n      <td>NaN</td>\n      <td>0</td>\n      <td>NaN</td>\n      <td>comment</td>\n      <td>NaN</td>\n      <td>328446.0</td>\n      <td>[]</td>\n      <td>...</td>\n      <td>NaN</td>\n      <td></td>\n      <td>Центральном районе</td>\n      <td>None</td>\n      <td>None</td>\n      <td>None</td>\n      <td>None</td>\n      <td>None</td>\n      <td>None</td>\n      <td>None</td>\n    </tr>\n    <tr>\n      <th>274</th>\n      <td>2024-02-09 09:55:28</td>\n      <td>328728</td>\n      <td>Улетели зимовать</td>\n      <td>NaN</td>\n      <td>0</td>\n      <td>NaN</td>\n      <td>comment</td>\n      <td>NaN</td>\n      <td>328446.0</td>\n      <td>[]</td>\n      <td>...</td>\n      <td>NaN</td>\n      <td></td>\n      <td>Улетели</td>\n      <td>None</td>\n      <td>None</td>\n      <td>None</td>\n      <td>None</td>\n      <td>None</td>\n      <td>None</td>\n      <td>None</td>\n    </tr>\n    <tr>\n      <th>275</th>\n      <td>2024-02-25 19:15:14</td>\n      <td>330397</td>\n      <td>🤣 про воровать детство это сильно сказано! \\nТ...</td>\n      <td>NaN</td>\n      <td>0</td>\n      <td>NaN</td>\n      <td>comment</td>\n      <td>NaN</td>\n      <td>328446.0</td>\n      <td>[]</td>\n      <td>...</td>\n      <td>0.974</td>\n      <td></td>\n      <td>Моисеенко</td>\n      <td>улица</td>\n      <td>улица Моисеенко  Санкт-Петербург Россия</td>\n      <td>['улица Моисеенко  Санкт-Петербург Россия']</td>\n      <td>улица Моисеенко  Санкт-Петербург Россия</td>\n      <td>улица Моисеенко</td>\n      <td>улица Моисеенко, Пески, округ Смольнинское, Са...</td>\n      <td>POINT (30.39558 59.93747)</td>\n    </tr>\n  </tbody>\n</table>\n<p>276 rows × 21 columns</p>\n</div>"
     },
     "execution_count": 51,
     "metadata": {},
     "output_type": "execute_result"
    }
   ],
   "source": [
    "gdf"
   ],
   "metadata": {
    "collapsed": false
   }
  },
  {
   "cell_type": "code",
   "execution_count": 52,
   "outputs": [
    {
     "data": {
      "text/plain": "0"
     },
     "execution_count": 52,
     "metadata": {},
     "output_type": "execute_result"
    }
   ],
   "source": [
    "len(gdf['parents_stack'].iloc[187])"
   ],
   "metadata": {
    "collapsed": false
   }
  },
  {
   "cell_type": "code",
   "execution_count": 58,
   "outputs": [],
   "source": [
    "test_gdf = gdf.copy()"
   ],
   "metadata": {
    "collapsed": false
   }
  },
  {
   "cell_type": "code",
   "execution_count": 59,
   "outputs": [
    {
     "data": {
      "text/plain": "                    date      id  \\\n0    2024-03-21 10:30:00  333530   \n1    2024-03-19 19:30:00  333226   \n2    2024-03-19 10:30:00  333157   \n3    2024-03-18 19:30:00  333061   \n4    2024-03-18 10:30:00  333033   \n..                   ...     ...   \n271  2024-02-07 19:50:58  328468   \n272  2024-02-07 20:01:06  328469   \n273  2024-02-08 23:18:13  328653   \n274  2024-02-09 09:55:28  328728   \n275  2024-02-25 19:15:14  330397   \n\n                                                  text  views.count  \\\n0    Сделайте сад Сан-Галли безопасным для граждан,...       2937.0   \n1    На том же месте сквозь года Вот так каланча ве...       4305.0   \n2    Мы не об этом просили! На углу Восстания и Жук...       7650.0   \n3    Без вашей помощи мы не справимся! Открываем кр...       7214.0   \n4    Начинаем новую неделю с хороших новостей: в Пе...       6467.0   \n..                                                 ...          ...   \n271  Правительство Санкт-Петербурга \\n \\n«Жалоба на...          NaN   \n272                             Днепропетровский сквер          NaN   \n273  В Центральном районе самое убогое оборудование...          NaN   \n274                                   Улетели зимовать          NaN   \n275  🤣 про воровать детство это сильно сказано! \\nТ...          NaN   \n\n     likes.count  reposts.count     type  \\\n0            105           21.0     post   \n1             50           11.0     post   \n2             95           15.0     post   \n3             93           28.0     post   \n4            186            9.0     post   \n..           ...            ...      ...   \n271            0            NaN  comment   \n272            2            NaN  comment   \n273            0            NaN  comment   \n274            0            NaN  comment   \n275            0            NaN  comment   \n\n                                                  link   post_id  \\\n0                                                  NaN       NaN   \n1    https://vk.com/wall-129354225_325408|уплотните...       NaN   \n2    https://vk.com/wall-129354225_315591?access_ke...       NaN   \n3    https://vk.com/@mytndvor-programma2024|предвыб...       NaN   \n4           https://vk.com/wall-129354225_330987|нашей       NaN   \n..                                                 ...       ...   \n271                                                NaN  328446.0   \n272                                                NaN  328446.0   \n273                                                NaN  328446.0   \n274                                                NaN  328446.0   \n275                                                NaN  328446.0   \n\n    parents_stack  ...  Score  Numbers       initial_street Toponims  \\\n0             NaN  ...    NaN                     Сан-Галли     None   \n1             NaN  ...    NaN       37           Загородном     None   \n2             NaN  ...  0.971                       Бадаева     None   \n3             NaN  ...    NaN             Центральный район     None   \n4             NaN  ...  0.961       44         Лиговском .И     None   \n..            ...  ...    ...      ...                  ...      ...   \n271            []  ...    NaN           Центрального района     None   \n272            []  ...  0.807              Днепропетровский     None   \n273            []  ...    NaN            Центральном районе     None   \n274            []  ...    NaN                       Улетели     None   \n275            []  ...  0.974                     Моисеенко    улица   \n\n                                  full_street_name  \\\n0                                             None   \n1    Загородный проспект 37 Санкт-Петербург Россия   \n2            улица Бадаева  Санкт-Петербург Россия   \n3                                             None   \n4                                             None   \n..                                             ...   \n271                                           None   \n272                                           None   \n273                                           None   \n274                                           None   \n275        улица Моисеенко  Санкт-Петербург Россия   \n\n                                      location_options  \\\n0                                                 None   \n1    ['Загородный проспект 37 Санкт-Петербург Россия']   \n2            ['улица Бадаева  Санкт-Петербург Россия']   \n3                                                 None   \n4                                                 None   \n..                                                 ...   \n271                                               None   \n272                                               None   \n273                                               None   \n274                                               None   \n275        ['улица Моисеенко  Санкт-Петербург Россия']   \n\n                                   addr_to_geocode only_full_street_name  \\\n0                                             None                  None   \n1    Загородный проспект 37 Санкт-Петербург Россия   Загородный проспект   \n2            улица Бадаева  Санкт-Петербург Россия         улица Бадаева   \n3                                             None                  None   \n4                                             None                  None   \n..                                             ...                   ...   \n271                                           None                  None   \n272                                           None                  None   \n273                                           None                  None   \n274                                           None                  None   \n275        улица Моисеенко  Санкт-Петербург Россия       улица Моисеенко   \n\n                                              Location  \\\n0                                                 None   \n1    Электродом, 37/70 литА, Загородный проспект, о...   \n2    улица Бадаева, округ Правобережный, Санкт-Пете...   \n3                                                 None   \n4                                                 None   \n..                                                 ...   \n271                                               None   \n272                                               None   \n273                                               None   \n274                                               None   \n275  улица Моисеенко, Пески, округ Смольнинское, Са...   \n\n                      geometry  \n0                         None  \n1    POINT (30.33256 59.92240)  \n2    POINT (30.44214 59.92105)  \n3                         None  \n4                         None  \n..                         ...  \n271                       None  \n272                       None  \n273                       None  \n274                       None  \n275  POINT (30.39558 59.93747)  \n\n[276 rows x 21 columns]",
      "text/html": "<div>\n<style scoped>\n    .dataframe tbody tr th:only-of-type {\n        vertical-align: middle;\n    }\n\n    .dataframe tbody tr th {\n        vertical-align: top;\n    }\n\n    .dataframe thead th {\n        text-align: right;\n    }\n</style>\n<table border=\"1\" class=\"dataframe\">\n  <thead>\n    <tr style=\"text-align: right;\">\n      <th></th>\n      <th>date</th>\n      <th>id</th>\n      <th>text</th>\n      <th>views.count</th>\n      <th>likes.count</th>\n      <th>reposts.count</th>\n      <th>type</th>\n      <th>link</th>\n      <th>post_id</th>\n      <th>parents_stack</th>\n      <th>...</th>\n      <th>Score</th>\n      <th>Numbers</th>\n      <th>initial_street</th>\n      <th>Toponims</th>\n      <th>full_street_name</th>\n      <th>location_options</th>\n      <th>addr_to_geocode</th>\n      <th>only_full_street_name</th>\n      <th>Location</th>\n      <th>geometry</th>\n    </tr>\n  </thead>\n  <tbody>\n    <tr>\n      <th>0</th>\n      <td>2024-03-21 10:30:00</td>\n      <td>333530</td>\n      <td>Сделайте сад Сан-Галли безопасным для граждан,...</td>\n      <td>2937.0</td>\n      <td>105</td>\n      <td>21.0</td>\n      <td>post</td>\n      <td>NaN</td>\n      <td>NaN</td>\n      <td>NaN</td>\n      <td>...</td>\n      <td>NaN</td>\n      <td></td>\n      <td>Сан-Галли</td>\n      <td>None</td>\n      <td>None</td>\n      <td>None</td>\n      <td>None</td>\n      <td>None</td>\n      <td>None</td>\n      <td>None</td>\n    </tr>\n    <tr>\n      <th>1</th>\n      <td>2024-03-19 19:30:00</td>\n      <td>333226</td>\n      <td>На том же месте сквозь года Вот так каланча ве...</td>\n      <td>4305.0</td>\n      <td>50</td>\n      <td>11.0</td>\n      <td>post</td>\n      <td>https://vk.com/wall-129354225_325408|уплотните...</td>\n      <td>NaN</td>\n      <td>NaN</td>\n      <td>...</td>\n      <td>NaN</td>\n      <td>37</td>\n      <td>Загородном</td>\n      <td>None</td>\n      <td>Загородный проспект 37 Санкт-Петербург Россия</td>\n      <td>['Загородный проспект 37 Санкт-Петербург Россия']</td>\n      <td>Загородный проспект 37 Санкт-Петербург Россия</td>\n      <td>Загородный проспект</td>\n      <td>Электродом, 37/70 литА, Загородный проспект, о...</td>\n      <td>POINT (30.33256 59.92240)</td>\n    </tr>\n    <tr>\n      <th>2</th>\n      <td>2024-03-19 10:30:00</td>\n      <td>333157</td>\n      <td>Мы не об этом просили! На углу Восстания и Жук...</td>\n      <td>7650.0</td>\n      <td>95</td>\n      <td>15.0</td>\n      <td>post</td>\n      <td>https://vk.com/wall-129354225_315591?access_ke...</td>\n      <td>NaN</td>\n      <td>NaN</td>\n      <td>...</td>\n      <td>0.971</td>\n      <td></td>\n      <td>Бадаева</td>\n      <td>None</td>\n      <td>улица Бадаева  Санкт-Петербург Россия</td>\n      <td>['улица Бадаева  Санкт-Петербург Россия']</td>\n      <td>улица Бадаева  Санкт-Петербург Россия</td>\n      <td>улица Бадаева</td>\n      <td>улица Бадаева, округ Правобережный, Санкт-Пете...</td>\n      <td>POINT (30.44214 59.92105)</td>\n    </tr>\n    <tr>\n      <th>3</th>\n      <td>2024-03-18 19:30:00</td>\n      <td>333061</td>\n      <td>Без вашей помощи мы не справимся! Открываем кр...</td>\n      <td>7214.0</td>\n      <td>93</td>\n      <td>28.0</td>\n      <td>post</td>\n      <td>https://vk.com/@mytndvor-programma2024|предвыб...</td>\n      <td>NaN</td>\n      <td>NaN</td>\n      <td>...</td>\n      <td>NaN</td>\n      <td></td>\n      <td>Центральный район</td>\n      <td>None</td>\n      <td>None</td>\n      <td>None</td>\n      <td>None</td>\n      <td>None</td>\n      <td>None</td>\n      <td>None</td>\n    </tr>\n    <tr>\n      <th>4</th>\n      <td>2024-03-18 10:30:00</td>\n      <td>333033</td>\n      <td>Начинаем новую неделю с хороших новостей: в Пе...</td>\n      <td>6467.0</td>\n      <td>186</td>\n      <td>9.0</td>\n      <td>post</td>\n      <td>https://vk.com/wall-129354225_330987|нашей</td>\n      <td>NaN</td>\n      <td>NaN</td>\n      <td>...</td>\n      <td>0.961</td>\n      <td>44</td>\n      <td>Лиговском .И</td>\n      <td>None</td>\n      <td>None</td>\n      <td>None</td>\n      <td>None</td>\n      <td>None</td>\n      <td>None</td>\n      <td>None</td>\n    </tr>\n    <tr>\n      <th>...</th>\n      <td>...</td>\n      <td>...</td>\n      <td>...</td>\n      <td>...</td>\n      <td>...</td>\n      <td>...</td>\n      <td>...</td>\n      <td>...</td>\n      <td>...</td>\n      <td>...</td>\n      <td>...</td>\n      <td>...</td>\n      <td>...</td>\n      <td>...</td>\n      <td>...</td>\n      <td>...</td>\n      <td>...</td>\n      <td>...</td>\n      <td>...</td>\n      <td>...</td>\n      <td>...</td>\n    </tr>\n    <tr>\n      <th>271</th>\n      <td>2024-02-07 19:50:58</td>\n      <td>328468</td>\n      <td>Правительство Санкт-Петербурга \\n \\n«Жалоба на...</td>\n      <td>NaN</td>\n      <td>0</td>\n      <td>NaN</td>\n      <td>comment</td>\n      <td>NaN</td>\n      <td>328446.0</td>\n      <td>[]</td>\n      <td>...</td>\n      <td>NaN</td>\n      <td></td>\n      <td>Центрального района</td>\n      <td>None</td>\n      <td>None</td>\n      <td>None</td>\n      <td>None</td>\n      <td>None</td>\n      <td>None</td>\n      <td>None</td>\n    </tr>\n    <tr>\n      <th>272</th>\n      <td>2024-02-07 20:01:06</td>\n      <td>328469</td>\n      <td>Днепропетровский сквер</td>\n      <td>NaN</td>\n      <td>2</td>\n      <td>NaN</td>\n      <td>comment</td>\n      <td>NaN</td>\n      <td>328446.0</td>\n      <td>[]</td>\n      <td>...</td>\n      <td>0.807</td>\n      <td></td>\n      <td>Днепропетровский</td>\n      <td>None</td>\n      <td>None</td>\n      <td>None</td>\n      <td>None</td>\n      <td>None</td>\n      <td>None</td>\n      <td>None</td>\n    </tr>\n    <tr>\n      <th>273</th>\n      <td>2024-02-08 23:18:13</td>\n      <td>328653</td>\n      <td>В Центральном районе самое убогое оборудование...</td>\n      <td>NaN</td>\n      <td>0</td>\n      <td>NaN</td>\n      <td>comment</td>\n      <td>NaN</td>\n      <td>328446.0</td>\n      <td>[]</td>\n      <td>...</td>\n      <td>NaN</td>\n      <td></td>\n      <td>Центральном районе</td>\n      <td>None</td>\n      <td>None</td>\n      <td>None</td>\n      <td>None</td>\n      <td>None</td>\n      <td>None</td>\n      <td>None</td>\n    </tr>\n    <tr>\n      <th>274</th>\n      <td>2024-02-09 09:55:28</td>\n      <td>328728</td>\n      <td>Улетели зимовать</td>\n      <td>NaN</td>\n      <td>0</td>\n      <td>NaN</td>\n      <td>comment</td>\n      <td>NaN</td>\n      <td>328446.0</td>\n      <td>[]</td>\n      <td>...</td>\n      <td>NaN</td>\n      <td></td>\n      <td>Улетели</td>\n      <td>None</td>\n      <td>None</td>\n      <td>None</td>\n      <td>None</td>\n      <td>None</td>\n      <td>None</td>\n      <td>None</td>\n    </tr>\n    <tr>\n      <th>275</th>\n      <td>2024-02-25 19:15:14</td>\n      <td>330397</td>\n      <td>🤣 про воровать детство это сильно сказано! \\nТ...</td>\n      <td>NaN</td>\n      <td>0</td>\n      <td>NaN</td>\n      <td>comment</td>\n      <td>NaN</td>\n      <td>328446.0</td>\n      <td>[]</td>\n      <td>...</td>\n      <td>0.974</td>\n      <td></td>\n      <td>Моисеенко</td>\n      <td>улица</td>\n      <td>улица Моисеенко  Санкт-Петербург Россия</td>\n      <td>['улица Моисеенко  Санкт-Петербург Россия']</td>\n      <td>улица Моисеенко  Санкт-Петербург Россия</td>\n      <td>улица Моисеенко</td>\n      <td>улица Моисеенко, Пески, округ Смольнинское, Са...</td>\n      <td>POINT (30.39558 59.93747)</td>\n    </tr>\n  </tbody>\n</table>\n<p>276 rows × 21 columns</p>\n</div>"
     },
     "execution_count": 59,
     "metadata": {},
     "output_type": "execute_result"
    }
   ],
   "source": [
    "test_gdf"
   ],
   "metadata": {
    "collapsed": false
   }
  },
  {
   "cell_type": "code",
   "execution_count": 60,
   "outputs": [],
   "source": [
    "import numpy as np\n",
    "\n",
    "for i in range(len(test_gdf)):\n",
    "    tmp = test_gdf['parents_stack'].iloc[i]\n",
    "    if type(tmp) is not float and len(tmp) > 0:\n",
    "        test_gdf.at[i, 'parents_stack'] = tmp[0]\n",
    "    else:\n",
    "        test_gdf.at[i, 'parents_stack'] = np.nan\n"
   ],
   "metadata": {
    "collapsed": false
   }
  },
  {
   "cell_type": "code",
   "execution_count": 61,
   "outputs": [
    {
     "data": {
      "text/plain": "                    date      id  \\\n0    2024-03-21 10:30:00  333530   \n1    2024-03-19 19:30:00  333226   \n2    2024-03-19 10:30:00  333157   \n3    2024-03-18 19:30:00  333061   \n4    2024-03-18 10:30:00  333033   \n..                   ...     ...   \n271  2024-02-07 19:50:58  328468   \n272  2024-02-07 20:01:06  328469   \n273  2024-02-08 23:18:13  328653   \n274  2024-02-09 09:55:28  328728   \n275  2024-02-25 19:15:14  330397   \n\n                                                  text  views.count  \\\n0    Сделайте сад Сан-Галли безопасным для граждан,...       2937.0   \n1    На том же месте сквозь года Вот так каланча ве...       4305.0   \n2    Мы не об этом просили! На углу Восстания и Жук...       7650.0   \n3    Без вашей помощи мы не справимся! Открываем кр...       7214.0   \n4    Начинаем новую неделю с хороших новостей: в Пе...       6467.0   \n..                                                 ...          ...   \n271  Правительство Санкт-Петербурга \\n \\n«Жалоба на...          NaN   \n272                             Днепропетровский сквер          NaN   \n273  В Центральном районе самое убогое оборудование...          NaN   \n274                                   Улетели зимовать          NaN   \n275  🤣 про воровать детство это сильно сказано! \\nТ...          NaN   \n\n     likes.count  reposts.count     type  \\\n0            105           21.0     post   \n1             50           11.0     post   \n2             95           15.0     post   \n3             93           28.0     post   \n4            186            9.0     post   \n..           ...            ...      ...   \n271            0            NaN  comment   \n272            2            NaN  comment   \n273            0            NaN  comment   \n274            0            NaN  comment   \n275            0            NaN  comment   \n\n                                                  link   post_id  \\\n0                                                  NaN       NaN   \n1    https://vk.com/wall-129354225_325408|уплотните...       NaN   \n2    https://vk.com/wall-129354225_315591?access_ke...       NaN   \n3    https://vk.com/@mytndvor-programma2024|предвыб...       NaN   \n4           https://vk.com/wall-129354225_330987|нашей       NaN   \n..                                                 ...       ...   \n271                                                NaN  328446.0   \n272                                                NaN  328446.0   \n273                                                NaN  328446.0   \n274                                                NaN  328446.0   \n275                                                NaN  328446.0   \n\n    parents_stack  ...  Score  Numbers       initial_street Toponims  \\\n0             NaN  ...    NaN                     Сан-Галли     None   \n1             NaN  ...    NaN       37           Загородном     None   \n2             NaN  ...  0.971                       Бадаева     None   \n3             NaN  ...    NaN             Центральный район     None   \n4             NaN  ...  0.961       44         Лиговском .И     None   \n..            ...  ...    ...      ...                  ...      ...   \n271           NaN  ...    NaN           Центрального района     None   \n272           NaN  ...  0.807              Днепропетровский     None   \n273           NaN  ...    NaN            Центральном районе     None   \n274           NaN  ...    NaN                       Улетели     None   \n275           NaN  ...  0.974                     Моисеенко    улица   \n\n                                  full_street_name  \\\n0                                             None   \n1    Загородный проспект 37 Санкт-Петербург Россия   \n2            улица Бадаева  Санкт-Петербург Россия   \n3                                             None   \n4                                             None   \n..                                             ...   \n271                                           None   \n272                                           None   \n273                                           None   \n274                                           None   \n275        улица Моисеенко  Санкт-Петербург Россия   \n\n                                      location_options  \\\n0                                                 None   \n1    ['Загородный проспект 37 Санкт-Петербург Россия']   \n2            ['улица Бадаева  Санкт-Петербург Россия']   \n3                                                 None   \n4                                                 None   \n..                                                 ...   \n271                                               None   \n272                                               None   \n273                                               None   \n274                                               None   \n275        ['улица Моисеенко  Санкт-Петербург Россия']   \n\n                                   addr_to_geocode only_full_street_name  \\\n0                                             None                  None   \n1    Загородный проспект 37 Санкт-Петербург Россия   Загородный проспект   \n2            улица Бадаева  Санкт-Петербург Россия         улица Бадаева   \n3                                             None                  None   \n4                                             None                  None   \n..                                             ...                   ...   \n271                                           None                  None   \n272                                           None                  None   \n273                                           None                  None   \n274                                           None                  None   \n275        улица Моисеенко  Санкт-Петербург Россия       улица Моисеенко   \n\n                                              Location  \\\n0                                                 None   \n1    Электродом, 37/70 литА, Загородный проспект, о...   \n2    улица Бадаева, округ Правобережный, Санкт-Пете...   \n3                                                 None   \n4                                                 None   \n..                                                 ...   \n271                                               None   \n272                                               None   \n273                                               None   \n274                                               None   \n275  улица Моисеенко, Пески, округ Смольнинское, Са...   \n\n                      geometry  \n0                         None  \n1    POINT (30.33256 59.92240)  \n2    POINT (30.44214 59.92105)  \n3                         None  \n4                         None  \n..                         ...  \n271                       None  \n272                       None  \n273                       None  \n274                       None  \n275  POINT (30.39558 59.93747)  \n\n[276 rows x 21 columns]",
      "text/html": "<div>\n<style scoped>\n    .dataframe tbody tr th:only-of-type {\n        vertical-align: middle;\n    }\n\n    .dataframe tbody tr th {\n        vertical-align: top;\n    }\n\n    .dataframe thead th {\n        text-align: right;\n    }\n</style>\n<table border=\"1\" class=\"dataframe\">\n  <thead>\n    <tr style=\"text-align: right;\">\n      <th></th>\n      <th>date</th>\n      <th>id</th>\n      <th>text</th>\n      <th>views.count</th>\n      <th>likes.count</th>\n      <th>reposts.count</th>\n      <th>type</th>\n      <th>link</th>\n      <th>post_id</th>\n      <th>parents_stack</th>\n      <th>...</th>\n      <th>Score</th>\n      <th>Numbers</th>\n      <th>initial_street</th>\n      <th>Toponims</th>\n      <th>full_street_name</th>\n      <th>location_options</th>\n      <th>addr_to_geocode</th>\n      <th>only_full_street_name</th>\n      <th>Location</th>\n      <th>geometry</th>\n    </tr>\n  </thead>\n  <tbody>\n    <tr>\n      <th>0</th>\n      <td>2024-03-21 10:30:00</td>\n      <td>333530</td>\n      <td>Сделайте сад Сан-Галли безопасным для граждан,...</td>\n      <td>2937.0</td>\n      <td>105</td>\n      <td>21.0</td>\n      <td>post</td>\n      <td>NaN</td>\n      <td>NaN</td>\n      <td>NaN</td>\n      <td>...</td>\n      <td>NaN</td>\n      <td></td>\n      <td>Сан-Галли</td>\n      <td>None</td>\n      <td>None</td>\n      <td>None</td>\n      <td>None</td>\n      <td>None</td>\n      <td>None</td>\n      <td>None</td>\n    </tr>\n    <tr>\n      <th>1</th>\n      <td>2024-03-19 19:30:00</td>\n      <td>333226</td>\n      <td>На том же месте сквозь года Вот так каланча ве...</td>\n      <td>4305.0</td>\n      <td>50</td>\n      <td>11.0</td>\n      <td>post</td>\n      <td>https://vk.com/wall-129354225_325408|уплотните...</td>\n      <td>NaN</td>\n      <td>NaN</td>\n      <td>...</td>\n      <td>NaN</td>\n      <td>37</td>\n      <td>Загородном</td>\n      <td>None</td>\n      <td>Загородный проспект 37 Санкт-Петербург Россия</td>\n      <td>['Загородный проспект 37 Санкт-Петербург Россия']</td>\n      <td>Загородный проспект 37 Санкт-Петербург Россия</td>\n      <td>Загородный проспект</td>\n      <td>Электродом, 37/70 литА, Загородный проспект, о...</td>\n      <td>POINT (30.33256 59.92240)</td>\n    </tr>\n    <tr>\n      <th>2</th>\n      <td>2024-03-19 10:30:00</td>\n      <td>333157</td>\n      <td>Мы не об этом просили! На углу Восстания и Жук...</td>\n      <td>7650.0</td>\n      <td>95</td>\n      <td>15.0</td>\n      <td>post</td>\n      <td>https://vk.com/wall-129354225_315591?access_ke...</td>\n      <td>NaN</td>\n      <td>NaN</td>\n      <td>...</td>\n      <td>0.971</td>\n      <td></td>\n      <td>Бадаева</td>\n      <td>None</td>\n      <td>улица Бадаева  Санкт-Петербург Россия</td>\n      <td>['улица Бадаева  Санкт-Петербург Россия']</td>\n      <td>улица Бадаева  Санкт-Петербург Россия</td>\n      <td>улица Бадаева</td>\n      <td>улица Бадаева, округ Правобережный, Санкт-Пете...</td>\n      <td>POINT (30.44214 59.92105)</td>\n    </tr>\n    <tr>\n      <th>3</th>\n      <td>2024-03-18 19:30:00</td>\n      <td>333061</td>\n      <td>Без вашей помощи мы не справимся! Открываем кр...</td>\n      <td>7214.0</td>\n      <td>93</td>\n      <td>28.0</td>\n      <td>post</td>\n      <td>https://vk.com/@mytndvor-programma2024|предвыб...</td>\n      <td>NaN</td>\n      <td>NaN</td>\n      <td>...</td>\n      <td>NaN</td>\n      <td></td>\n      <td>Центральный район</td>\n      <td>None</td>\n      <td>None</td>\n      <td>None</td>\n      <td>None</td>\n      <td>None</td>\n      <td>None</td>\n      <td>None</td>\n    </tr>\n    <tr>\n      <th>4</th>\n      <td>2024-03-18 10:30:00</td>\n      <td>333033</td>\n      <td>Начинаем новую неделю с хороших новостей: в Пе...</td>\n      <td>6467.0</td>\n      <td>186</td>\n      <td>9.0</td>\n      <td>post</td>\n      <td>https://vk.com/wall-129354225_330987|нашей</td>\n      <td>NaN</td>\n      <td>NaN</td>\n      <td>...</td>\n      <td>0.961</td>\n      <td>44</td>\n      <td>Лиговском .И</td>\n      <td>None</td>\n      <td>None</td>\n      <td>None</td>\n      <td>None</td>\n      <td>None</td>\n      <td>None</td>\n      <td>None</td>\n    </tr>\n    <tr>\n      <th>...</th>\n      <td>...</td>\n      <td>...</td>\n      <td>...</td>\n      <td>...</td>\n      <td>...</td>\n      <td>...</td>\n      <td>...</td>\n      <td>...</td>\n      <td>...</td>\n      <td>...</td>\n      <td>...</td>\n      <td>...</td>\n      <td>...</td>\n      <td>...</td>\n      <td>...</td>\n      <td>...</td>\n      <td>...</td>\n      <td>...</td>\n      <td>...</td>\n      <td>...</td>\n      <td>...</td>\n    </tr>\n    <tr>\n      <th>271</th>\n      <td>2024-02-07 19:50:58</td>\n      <td>328468</td>\n      <td>Правительство Санкт-Петербурга \\n \\n«Жалоба на...</td>\n      <td>NaN</td>\n      <td>0</td>\n      <td>NaN</td>\n      <td>comment</td>\n      <td>NaN</td>\n      <td>328446.0</td>\n      <td>NaN</td>\n      <td>...</td>\n      <td>NaN</td>\n      <td></td>\n      <td>Центрального района</td>\n      <td>None</td>\n      <td>None</td>\n      <td>None</td>\n      <td>None</td>\n      <td>None</td>\n      <td>None</td>\n      <td>None</td>\n    </tr>\n    <tr>\n      <th>272</th>\n      <td>2024-02-07 20:01:06</td>\n      <td>328469</td>\n      <td>Днепропетровский сквер</td>\n      <td>NaN</td>\n      <td>2</td>\n      <td>NaN</td>\n      <td>comment</td>\n      <td>NaN</td>\n      <td>328446.0</td>\n      <td>NaN</td>\n      <td>...</td>\n      <td>0.807</td>\n      <td></td>\n      <td>Днепропетровский</td>\n      <td>None</td>\n      <td>None</td>\n      <td>None</td>\n      <td>None</td>\n      <td>None</td>\n      <td>None</td>\n      <td>None</td>\n    </tr>\n    <tr>\n      <th>273</th>\n      <td>2024-02-08 23:18:13</td>\n      <td>328653</td>\n      <td>В Центральном районе самое убогое оборудование...</td>\n      <td>NaN</td>\n      <td>0</td>\n      <td>NaN</td>\n      <td>comment</td>\n      <td>NaN</td>\n      <td>328446.0</td>\n      <td>NaN</td>\n      <td>...</td>\n      <td>NaN</td>\n      <td></td>\n      <td>Центральном районе</td>\n      <td>None</td>\n      <td>None</td>\n      <td>None</td>\n      <td>None</td>\n      <td>None</td>\n      <td>None</td>\n      <td>None</td>\n    </tr>\n    <tr>\n      <th>274</th>\n      <td>2024-02-09 09:55:28</td>\n      <td>328728</td>\n      <td>Улетели зимовать</td>\n      <td>NaN</td>\n      <td>0</td>\n      <td>NaN</td>\n      <td>comment</td>\n      <td>NaN</td>\n      <td>328446.0</td>\n      <td>NaN</td>\n      <td>...</td>\n      <td>NaN</td>\n      <td></td>\n      <td>Улетели</td>\n      <td>None</td>\n      <td>None</td>\n      <td>None</td>\n      <td>None</td>\n      <td>None</td>\n      <td>None</td>\n      <td>None</td>\n    </tr>\n    <tr>\n      <th>275</th>\n      <td>2024-02-25 19:15:14</td>\n      <td>330397</td>\n      <td>🤣 про воровать детство это сильно сказано! \\nТ...</td>\n      <td>NaN</td>\n      <td>0</td>\n      <td>NaN</td>\n      <td>comment</td>\n      <td>NaN</td>\n      <td>328446.0</td>\n      <td>NaN</td>\n      <td>...</td>\n      <td>0.974</td>\n      <td></td>\n      <td>Моисеенко</td>\n      <td>улица</td>\n      <td>улица Моисеенко  Санкт-Петербург Россия</td>\n      <td>['улица Моисеенко  Санкт-Петербург Россия']</td>\n      <td>улица Моисеенко  Санкт-Петербург Россия</td>\n      <td>улица Моисеенко</td>\n      <td>улица Моисеенко, Пески, округ Смольнинское, Са...</td>\n      <td>POINT (30.39558 59.93747)</td>\n    </tr>\n  </tbody>\n</table>\n<p>276 rows × 21 columns</p>\n</div>"
     },
     "execution_count": 61,
     "metadata": {},
     "output_type": "execute_result"
    }
   ],
   "source": [
    "test_gdf"
   ],
   "metadata": {
    "collapsed": false
   }
  },
  {
   "cell_type": "code",
   "execution_count": 63,
   "outputs": [
    {
     "name": "stdout",
     "output_type": "stream",
     "text": [
      "date\n",
      "id\n",
      "text\n",
      "views.count\n",
      "likes.count\n",
      "reposts.count\n",
      "type\n",
      "link\n",
      "post_id\n",
      "parents_stack\n",
      "Street\n",
      "Score\n",
      "Numbers\n",
      "initial_street\n",
      "Toponims\n",
      "full_street_name\n",
      "location_options\n",
      "addr_to_geocode\n",
      "only_full_street_name\n",
      "Location\n",
      "geometry\n"
     ]
    }
   ],
   "source": [
    "for post_id, post in test_gdf[['id'], ['text']]:\n",
    "    print(i)"
   ],
   "metadata": {
    "collapsed": false
   }
  },
  {
   "cell_type": "code",
   "execution_count": 64,
   "outputs": [
    {
     "name": "stdout",
     "output_type": "stream",
     "text": [
      "                    date      id  \\\n",
      "0    2024-03-21 10:30:00  333530   \n",
      "1    2024-03-19 19:30:00  333226   \n",
      "2    2024-03-19 10:30:00  333157   \n",
      "3    2024-03-18 19:30:00  333061   \n",
      "4    2024-03-18 10:30:00  333033   \n",
      "..                   ...     ...   \n",
      "271  2024-02-07 19:50:58  328468   \n",
      "272  2024-02-07 20:01:06  328469   \n",
      "273  2024-02-08 23:18:13  328653   \n",
      "274  2024-02-09 09:55:28  328728   \n",
      "275  2024-02-25 19:15:14  330397   \n",
      "\n",
      "                                                  text  views.count  \\\n",
      "0    Сделайте сад Сан-Галли безопасным для граждан,...       2937.0   \n",
      "1    На том же месте сквозь года Вот так каланча ве...       4305.0   \n",
      "2    Мы не об этом просили! На углу Восстания и Жук...       7650.0   \n",
      "3    Без вашей помощи мы не справимся! Открываем кр...       7214.0   \n",
      "4    Начинаем новую неделю с хороших новостей: в Пе...       6467.0   \n",
      "..                                                 ...          ...   \n",
      "271  Правительство Санкт-Петербурга \\n \\n«Жалоба на...          NaN   \n",
      "272                             Днепропетровский сквер          NaN   \n",
      "273  В Центральном районе самое убогое оборудование...          NaN   \n",
      "274                                   Улетели зимовать          NaN   \n",
      "275  🤣 про воровать детство это сильно сказано! \\nТ...          NaN   \n",
      "\n",
      "     likes.count  reposts.count     type  \\\n",
      "0            105           21.0     post   \n",
      "1             50           11.0     post   \n",
      "2             95           15.0     post   \n",
      "3             93           28.0     post   \n",
      "4            186            9.0     post   \n",
      "..           ...            ...      ...   \n",
      "271            0            NaN  comment   \n",
      "272            2            NaN  comment   \n",
      "273            0            NaN  comment   \n",
      "274            0            NaN  comment   \n",
      "275            0            NaN  comment   \n",
      "\n",
      "                                                  link   post_id  \\\n",
      "0                                                  NaN       NaN   \n",
      "1    https://vk.com/wall-129354225_325408|уплотните...       NaN   \n",
      "2    https://vk.com/wall-129354225_315591?access_ke...       NaN   \n",
      "3    https://vk.com/@mytndvor-programma2024|предвыб...       NaN   \n",
      "4           https://vk.com/wall-129354225_330987|нашей       NaN   \n",
      "..                                                 ...       ...   \n",
      "271                                                NaN  328446.0   \n",
      "272                                                NaN  328446.0   \n",
      "273                                                NaN  328446.0   \n",
      "274                                                NaN  328446.0   \n",
      "275                                                NaN  328446.0   \n",
      "\n",
      "    parents_stack  ... Numbers       initial_street Toponims  \\\n",
      "0             NaN  ...                    Сан-Галли     None   \n",
      "1             NaN  ...      37           Загородном     None   \n",
      "2             NaN  ...                      Бадаева     None   \n",
      "3             NaN  ...            Центральный район     None   \n",
      "4             NaN  ...      44         Лиговском .И     None   \n",
      "..            ...  ...     ...                  ...      ...   \n",
      "271           NaN  ...          Центрального района     None   \n",
      "272           NaN  ...             Днепропетровский     None   \n",
      "273           NaN  ...           Центральном районе     None   \n",
      "274           NaN  ...                      Улетели     None   \n",
      "275           NaN  ...                    Моисеенко    улица   \n",
      "\n",
      "                                  full_street_name  \\\n",
      "0                                             None   \n",
      "1    Загородный проспект 37 Санкт-Петербург Россия   \n",
      "2            улица Бадаева  Санкт-Петербург Россия   \n",
      "3                                             None   \n",
      "4                                             None   \n",
      "..                                             ...   \n",
      "271                                           None   \n",
      "272                                           None   \n",
      "273                                           None   \n",
      "274                                           None   \n",
      "275        улица Моисеенко  Санкт-Петербург Россия   \n",
      "\n",
      "                                      location_options  \\\n",
      "0                                                 None   \n",
      "1    ['Загородный проспект 37 Санкт-Петербург Россия']   \n",
      "2            ['улица Бадаева  Санкт-Петербург Россия']   \n",
      "3                                                 None   \n",
      "4                                                 None   \n",
      "..                                                 ...   \n",
      "271                                               None   \n",
      "272                                               None   \n",
      "273                                               None   \n",
      "274                                               None   \n",
      "275        ['улица Моисеенко  Санкт-Петербург Россия']   \n",
      "\n",
      "                                   addr_to_geocode only_full_street_name  \\\n",
      "0                                             None                  None   \n",
      "1    Загородный проспект 37 Санкт-Петербург Россия   Загородный проспект   \n",
      "2            улица Бадаева  Санкт-Петербург Россия         улица Бадаева   \n",
      "3                                             None                  None   \n",
      "4                                             None                  None   \n",
      "..                                             ...                   ...   \n",
      "271                                           None                  None   \n",
      "272                                           None                  None   \n",
      "273                                           None                  None   \n",
      "274                                           None                  None   \n",
      "275        улица Моисеенко  Санкт-Петербург Россия       улица Моисеенко   \n",
      "\n",
      "                                              Location  \\\n",
      "0                                                 None   \n",
      "1    Электродом, 37/70 литА, Загородный проспект, о...   \n",
      "2    улица Бадаева, округ Правобережный, Санкт-Пете...   \n",
      "3                                                 None   \n",
      "4                                                 None   \n",
      "..                                                 ...   \n",
      "271                                               None   \n",
      "272                                               None   \n",
      "273                                               None   \n",
      "274                                               None   \n",
      "275  улица Моисеенко, Пески, округ Смольнинское, Са...   \n",
      "\n",
      "                      geometry linked_comments  \n",
      "0                         None  333535, 333581  \n",
      "1    POINT (30.33256 59.92240)            None  \n",
      "2    POINT (30.44214 59.92105)            None  \n",
      "3                         None            None  \n",
      "4                         None            None  \n",
      "..                         ...             ...  \n",
      "271                       None            None  \n",
      "272                       None            None  \n",
      "273                       None            None  \n",
      "274                       None            None  \n",
      "275  POINT (30.39558 59.93747)            None  \n",
      "\n",
      "[276 rows x 22 columns]\n"
     ]
    }
   ],
   "source": [
    "# Предполагается, что df - это ваш DataFrame с данными\n",
    "# Структура df: ['id', 'text', 'type', 'parent_id', 'parents_stack', 'toponim']\n",
    "\n",
    "# Функция для добавления id комментариев в новую ячейку\n",
    "def link_comments(df):\n",
    "    # Создаем новый столбец для связанных id комментариев\n",
    "    df['linked_comments'] = None\n",
    "\n",
    "    # Перебираем строки с типом 'post'\n",
    "    for index, post in df[df['type'] == 'post'].iterrows():\n",
    "        linked_ids = []\n",
    "\n",
    "        # Проверяем наличие топонима в посте\n",
    "        if pd.isnull(post['only_full_street_name']):\n",
    "            # Собираем комментарии, относящиеся к этому посту\n",
    "            comments = df[(df['type'] == 'comment') & (df['post_id'] == post['id'])]\n",
    "            for _, comment in comments.iterrows():\n",
    "                # Если в комментарии есть топоним, добавляем его id и id всех комментариев, ссылающихся на него\n",
    "                if pd.notnull(comment['only_full_street_name']):\n",
    "                    linked_ids.append(comment['id'])\n",
    "                    linked_ids.extend(df[df['parents_stack'] == comment['id']]['id'].tolist())\n",
    "        else:\n",
    "            # Собираем все комментарии, относящиеся к посту с топонимом\n",
    "            comments = df[(df['type'] == 'comment') & (df['post_id'] == post['id'])]\n",
    "            for _, comment in comments.iterrows():\n",
    "                # Добавляем id комментариев, если у них нет топонима и они не ссылаются на комментарий с топонимом\n",
    "                if pd.isnull(comment['only_full_street_name']) and pd.isnull(df[df['id'] == comment['parents_stack']]['only_full_street_name']).all():\n",
    "                    linked_ids.append(comment['id'])\n",
    "\n",
    "        # Записываем связанные id комментариев в новую ячейку\n",
    "        if linked_ids:\n",
    "            df.at[index, 'linked_comments'] = ', '.join(map(str, linked_ids))\n",
    "\n",
    "    return df\n",
    "\n",
    "# Применяем функцию к DataFrame\n",
    "df = test_gdf  # Замените это на ваш DataFrame\n",
    "df = link_comments(df)\n",
    "\n",
    "# Выводим обновленный DataFrame\n",
    "print(df)\n"
   ],
   "metadata": {
    "collapsed": false
   }
  },
  {
   "cell_type": "code",
   "execution_count": 65,
   "outputs": [
    {
     "data": {
      "text/plain": "                    date      id  \\\n0    2024-03-21 10:30:00  333530   \n1    2024-03-19 19:30:00  333226   \n2    2024-03-19 10:30:00  333157   \n3    2024-03-18 19:30:00  333061   \n4    2024-03-18 10:30:00  333033   \n..                   ...     ...   \n271  2024-02-07 19:50:58  328468   \n272  2024-02-07 20:01:06  328469   \n273  2024-02-08 23:18:13  328653   \n274  2024-02-09 09:55:28  328728   \n275  2024-02-25 19:15:14  330397   \n\n                                                  text  views.count  \\\n0    Сделайте сад Сан-Галли безопасным для граждан,...       2937.0   \n1    На том же месте сквозь года Вот так каланча ве...       4305.0   \n2    Мы не об этом просили! На углу Восстания и Жук...       7650.0   \n3    Без вашей помощи мы не справимся! Открываем кр...       7214.0   \n4    Начинаем новую неделю с хороших новостей: в Пе...       6467.0   \n..                                                 ...          ...   \n271  Правительство Санкт-Петербурга \\n \\n«Жалоба на...          NaN   \n272                             Днепропетровский сквер          NaN   \n273  В Центральном районе самое убогое оборудование...          NaN   \n274                                   Улетели зимовать          NaN   \n275  🤣 про воровать детство это сильно сказано! \\nТ...          NaN   \n\n     likes.count  reposts.count     type  \\\n0            105           21.0     post   \n1             50           11.0     post   \n2             95           15.0     post   \n3             93           28.0     post   \n4            186            9.0     post   \n..           ...            ...      ...   \n271            0            NaN  comment   \n272            2            NaN  comment   \n273            0            NaN  comment   \n274            0            NaN  comment   \n275            0            NaN  comment   \n\n                                                  link   post_id  \\\n0                                                  NaN       NaN   \n1    https://vk.com/wall-129354225_325408|уплотните...       NaN   \n2    https://vk.com/wall-129354225_315591?access_ke...       NaN   \n3    https://vk.com/@mytndvor-programma2024|предвыб...       NaN   \n4           https://vk.com/wall-129354225_330987|нашей       NaN   \n..                                                 ...       ...   \n271                                                NaN  328446.0   \n272                                                NaN  328446.0   \n273                                                NaN  328446.0   \n274                                                NaN  328446.0   \n275                                                NaN  328446.0   \n\n    parents_stack  ... Numbers       initial_street Toponims  \\\n0             NaN  ...                    Сан-Галли     None   \n1             NaN  ...      37           Загородном     None   \n2             NaN  ...                      Бадаева     None   \n3             NaN  ...            Центральный район     None   \n4             NaN  ...      44         Лиговском .И     None   \n..            ...  ...     ...                  ...      ...   \n271           NaN  ...          Центрального района     None   \n272           NaN  ...             Днепропетровский     None   \n273           NaN  ...           Центральном районе     None   \n274           NaN  ...                      Улетели     None   \n275           NaN  ...                    Моисеенко    улица   \n\n                                  full_street_name  \\\n0                                             None   \n1    Загородный проспект 37 Санкт-Петербург Россия   \n2            улица Бадаева  Санкт-Петербург Россия   \n3                                             None   \n4                                             None   \n..                                             ...   \n271                                           None   \n272                                           None   \n273                                           None   \n274                                           None   \n275        улица Моисеенко  Санкт-Петербург Россия   \n\n                                      location_options  \\\n0                                                 None   \n1    ['Загородный проспект 37 Санкт-Петербург Россия']   \n2            ['улица Бадаева  Санкт-Петербург Россия']   \n3                                                 None   \n4                                                 None   \n..                                                 ...   \n271                                               None   \n272                                               None   \n273                                               None   \n274                                               None   \n275        ['улица Моисеенко  Санкт-Петербург Россия']   \n\n                                   addr_to_geocode only_full_street_name  \\\n0                                             None                  None   \n1    Загородный проспект 37 Санкт-Петербург Россия   Загородный проспект   \n2            улица Бадаева  Санкт-Петербург Россия         улица Бадаева   \n3                                             None                  None   \n4                                             None                  None   \n..                                             ...                   ...   \n271                                           None                  None   \n272                                           None                  None   \n273                                           None                  None   \n274                                           None                  None   \n275        улица Моисеенко  Санкт-Петербург Россия       улица Моисеенко   \n\n                                              Location  \\\n0                                                 None   \n1    Электродом, 37/70 литА, Загородный проспект, о...   \n2    улица Бадаева, округ Правобережный, Санкт-Пете...   \n3                                                 None   \n4                                                 None   \n..                                                 ...   \n271                                               None   \n272                                               None   \n273                                               None   \n274                                               None   \n275  улица Моисеенко, Пески, округ Смольнинское, Са...   \n\n                      geometry linked_comments  \n0                         None  333535, 333581  \n1    POINT (30.33256 59.92240)            None  \n2    POINT (30.44214 59.92105)            None  \n3                         None            None  \n4                         None            None  \n..                         ...             ...  \n271                       None            None  \n272                       None            None  \n273                       None            None  \n274                       None            None  \n275  POINT (30.39558 59.93747)            None  \n\n[276 rows x 22 columns]",
      "text/html": "<div>\n<style scoped>\n    .dataframe tbody tr th:only-of-type {\n        vertical-align: middle;\n    }\n\n    .dataframe tbody tr th {\n        vertical-align: top;\n    }\n\n    .dataframe thead th {\n        text-align: right;\n    }\n</style>\n<table border=\"1\" class=\"dataframe\">\n  <thead>\n    <tr style=\"text-align: right;\">\n      <th></th>\n      <th>date</th>\n      <th>id</th>\n      <th>text</th>\n      <th>views.count</th>\n      <th>likes.count</th>\n      <th>reposts.count</th>\n      <th>type</th>\n      <th>link</th>\n      <th>post_id</th>\n      <th>parents_stack</th>\n      <th>...</th>\n      <th>Numbers</th>\n      <th>initial_street</th>\n      <th>Toponims</th>\n      <th>full_street_name</th>\n      <th>location_options</th>\n      <th>addr_to_geocode</th>\n      <th>only_full_street_name</th>\n      <th>Location</th>\n      <th>geometry</th>\n      <th>linked_comments</th>\n    </tr>\n  </thead>\n  <tbody>\n    <tr>\n      <th>0</th>\n      <td>2024-03-21 10:30:00</td>\n      <td>333530</td>\n      <td>Сделайте сад Сан-Галли безопасным для граждан,...</td>\n      <td>2937.0</td>\n      <td>105</td>\n      <td>21.0</td>\n      <td>post</td>\n      <td>NaN</td>\n      <td>NaN</td>\n      <td>NaN</td>\n      <td>...</td>\n      <td></td>\n      <td>Сан-Галли</td>\n      <td>None</td>\n      <td>None</td>\n      <td>None</td>\n      <td>None</td>\n      <td>None</td>\n      <td>None</td>\n      <td>None</td>\n      <td>333535, 333581</td>\n    </tr>\n    <tr>\n      <th>1</th>\n      <td>2024-03-19 19:30:00</td>\n      <td>333226</td>\n      <td>На том же месте сквозь года Вот так каланча ве...</td>\n      <td>4305.0</td>\n      <td>50</td>\n      <td>11.0</td>\n      <td>post</td>\n      <td>https://vk.com/wall-129354225_325408|уплотните...</td>\n      <td>NaN</td>\n      <td>NaN</td>\n      <td>...</td>\n      <td>37</td>\n      <td>Загородном</td>\n      <td>None</td>\n      <td>Загородный проспект 37 Санкт-Петербург Россия</td>\n      <td>['Загородный проспект 37 Санкт-Петербург Россия']</td>\n      <td>Загородный проспект 37 Санкт-Петербург Россия</td>\n      <td>Загородный проспект</td>\n      <td>Электродом, 37/70 литА, Загородный проспект, о...</td>\n      <td>POINT (30.33256 59.92240)</td>\n      <td>None</td>\n    </tr>\n    <tr>\n      <th>2</th>\n      <td>2024-03-19 10:30:00</td>\n      <td>333157</td>\n      <td>Мы не об этом просили! На углу Восстания и Жук...</td>\n      <td>7650.0</td>\n      <td>95</td>\n      <td>15.0</td>\n      <td>post</td>\n      <td>https://vk.com/wall-129354225_315591?access_ke...</td>\n      <td>NaN</td>\n      <td>NaN</td>\n      <td>...</td>\n      <td></td>\n      <td>Бадаева</td>\n      <td>None</td>\n      <td>улица Бадаева  Санкт-Петербург Россия</td>\n      <td>['улица Бадаева  Санкт-Петербург Россия']</td>\n      <td>улица Бадаева  Санкт-Петербург Россия</td>\n      <td>улица Бадаева</td>\n      <td>улица Бадаева, округ Правобережный, Санкт-Пете...</td>\n      <td>POINT (30.44214 59.92105)</td>\n      <td>None</td>\n    </tr>\n    <tr>\n      <th>3</th>\n      <td>2024-03-18 19:30:00</td>\n      <td>333061</td>\n      <td>Без вашей помощи мы не справимся! Открываем кр...</td>\n      <td>7214.0</td>\n      <td>93</td>\n      <td>28.0</td>\n      <td>post</td>\n      <td>https://vk.com/@mytndvor-programma2024|предвыб...</td>\n      <td>NaN</td>\n      <td>NaN</td>\n      <td>...</td>\n      <td></td>\n      <td>Центральный район</td>\n      <td>None</td>\n      <td>None</td>\n      <td>None</td>\n      <td>None</td>\n      <td>None</td>\n      <td>None</td>\n      <td>None</td>\n      <td>None</td>\n    </tr>\n    <tr>\n      <th>4</th>\n      <td>2024-03-18 10:30:00</td>\n      <td>333033</td>\n      <td>Начинаем новую неделю с хороших новостей: в Пе...</td>\n      <td>6467.0</td>\n      <td>186</td>\n      <td>9.0</td>\n      <td>post</td>\n      <td>https://vk.com/wall-129354225_330987|нашей</td>\n      <td>NaN</td>\n      <td>NaN</td>\n      <td>...</td>\n      <td>44</td>\n      <td>Лиговском .И</td>\n      <td>None</td>\n      <td>None</td>\n      <td>None</td>\n      <td>None</td>\n      <td>None</td>\n      <td>None</td>\n      <td>None</td>\n      <td>None</td>\n    </tr>\n    <tr>\n      <th>...</th>\n      <td>...</td>\n      <td>...</td>\n      <td>...</td>\n      <td>...</td>\n      <td>...</td>\n      <td>...</td>\n      <td>...</td>\n      <td>...</td>\n      <td>...</td>\n      <td>...</td>\n      <td>...</td>\n      <td>...</td>\n      <td>...</td>\n      <td>...</td>\n      <td>...</td>\n      <td>...</td>\n      <td>...</td>\n      <td>...</td>\n      <td>...</td>\n      <td>...</td>\n      <td>...</td>\n    </tr>\n    <tr>\n      <th>271</th>\n      <td>2024-02-07 19:50:58</td>\n      <td>328468</td>\n      <td>Правительство Санкт-Петербурга \\n \\n«Жалоба на...</td>\n      <td>NaN</td>\n      <td>0</td>\n      <td>NaN</td>\n      <td>comment</td>\n      <td>NaN</td>\n      <td>328446.0</td>\n      <td>NaN</td>\n      <td>...</td>\n      <td></td>\n      <td>Центрального района</td>\n      <td>None</td>\n      <td>None</td>\n      <td>None</td>\n      <td>None</td>\n      <td>None</td>\n      <td>None</td>\n      <td>None</td>\n      <td>None</td>\n    </tr>\n    <tr>\n      <th>272</th>\n      <td>2024-02-07 20:01:06</td>\n      <td>328469</td>\n      <td>Днепропетровский сквер</td>\n      <td>NaN</td>\n      <td>2</td>\n      <td>NaN</td>\n      <td>comment</td>\n      <td>NaN</td>\n      <td>328446.0</td>\n      <td>NaN</td>\n      <td>...</td>\n      <td></td>\n      <td>Днепропетровский</td>\n      <td>None</td>\n      <td>None</td>\n      <td>None</td>\n      <td>None</td>\n      <td>None</td>\n      <td>None</td>\n      <td>None</td>\n      <td>None</td>\n    </tr>\n    <tr>\n      <th>273</th>\n      <td>2024-02-08 23:18:13</td>\n      <td>328653</td>\n      <td>В Центральном районе самое убогое оборудование...</td>\n      <td>NaN</td>\n      <td>0</td>\n      <td>NaN</td>\n      <td>comment</td>\n      <td>NaN</td>\n      <td>328446.0</td>\n      <td>NaN</td>\n      <td>...</td>\n      <td></td>\n      <td>Центральном районе</td>\n      <td>None</td>\n      <td>None</td>\n      <td>None</td>\n      <td>None</td>\n      <td>None</td>\n      <td>None</td>\n      <td>None</td>\n      <td>None</td>\n    </tr>\n    <tr>\n      <th>274</th>\n      <td>2024-02-09 09:55:28</td>\n      <td>328728</td>\n      <td>Улетели зимовать</td>\n      <td>NaN</td>\n      <td>0</td>\n      <td>NaN</td>\n      <td>comment</td>\n      <td>NaN</td>\n      <td>328446.0</td>\n      <td>NaN</td>\n      <td>...</td>\n      <td></td>\n      <td>Улетели</td>\n      <td>None</td>\n      <td>None</td>\n      <td>None</td>\n      <td>None</td>\n      <td>None</td>\n      <td>None</td>\n      <td>None</td>\n      <td>None</td>\n    </tr>\n    <tr>\n      <th>275</th>\n      <td>2024-02-25 19:15:14</td>\n      <td>330397</td>\n      <td>🤣 про воровать детство это сильно сказано! \\nТ...</td>\n      <td>NaN</td>\n      <td>0</td>\n      <td>NaN</td>\n      <td>comment</td>\n      <td>NaN</td>\n      <td>328446.0</td>\n      <td>NaN</td>\n      <td>...</td>\n      <td></td>\n      <td>Моисеенко</td>\n      <td>улица</td>\n      <td>улица Моисеенко  Санкт-Петербург Россия</td>\n      <td>['улица Моисеенко  Санкт-Петербург Россия']</td>\n      <td>улица Моисеенко  Санкт-Петербург Россия</td>\n      <td>улица Моисеенко</td>\n      <td>улица Моисеенко, Пески, округ Смольнинское, Са...</td>\n      <td>POINT (30.39558 59.93747)</td>\n      <td>None</td>\n    </tr>\n  </tbody>\n</table>\n<p>276 rows × 22 columns</p>\n</div>"
     },
     "execution_count": 65,
     "metadata": {},
     "output_type": "execute_result"
    }
   ],
   "source": [
    "df"
   ],
   "metadata": {
    "collapsed": false
   }
  },
  {
   "cell_type": "code",
   "execution_count": 66,
   "outputs": [
    {
     "data": {
      "text/plain": "                    date      id  \\\n0    2024-03-21 10:30:00  333530   \n1    2024-03-19 19:30:00  333226   \n2    2024-03-19 10:30:00  333157   \n3    2024-03-18 19:30:00  333061   \n4    2024-03-18 10:30:00  333033   \n..                   ...     ...   \n271  2024-02-07 19:50:58  328468   \n272  2024-02-07 20:01:06  328469   \n273  2024-02-08 23:18:13  328653   \n274  2024-02-09 09:55:28  328728   \n275  2024-02-25 19:15:14  330397   \n\n                                                  text  views.count  \\\n0    Сделайте сад Сан-Галли безопасным для граждан,...       2937.0   \n1    На том же месте сквозь года Вот так каланча ве...       4305.0   \n2    Мы не об этом просили! На углу Восстания и Жук...       7650.0   \n3    Без вашей помощи мы не справимся! Открываем кр...       7214.0   \n4    Начинаем новую неделю с хороших новостей: в Пе...       6467.0   \n..                                                 ...          ...   \n271  Правительство Санкт-Петербурга \\n \\n«Жалоба на...          NaN   \n272                             Днепропетровский сквер          NaN   \n273  В Центральном районе самое убогое оборудование...          NaN   \n274                                   Улетели зимовать          NaN   \n275  🤣 про воровать детство это сильно сказано! \\nТ...          NaN   \n\n     likes.count  reposts.count     type  \\\n0            105           21.0     post   \n1             50           11.0     post   \n2             95           15.0     post   \n3             93           28.0     post   \n4            186            9.0     post   \n..           ...            ...      ...   \n271            0            NaN  comment   \n272            2            NaN  comment   \n273            0            NaN  comment   \n274            0            NaN  comment   \n275            0            NaN  comment   \n\n                                                  link   post_id  \\\n0                                                  NaN       NaN   \n1    https://vk.com/wall-129354225_325408|уплотните...       NaN   \n2    https://vk.com/wall-129354225_315591?access_ke...       NaN   \n3    https://vk.com/@mytndvor-programma2024|предвыб...       NaN   \n4           https://vk.com/wall-129354225_330987|нашей       NaN   \n..                                                 ...       ...   \n271                                                NaN  328446.0   \n272                                                NaN  328446.0   \n273                                                NaN  328446.0   \n274                                                NaN  328446.0   \n275                                                NaN  328446.0   \n\n    parents_stack  ... Numbers       initial_street Toponims  \\\n0             NaN  ...                    Сан-Галли     None   \n1             NaN  ...      37           Загородном     None   \n2             NaN  ...                      Бадаева     None   \n3             NaN  ...            Центральный район     None   \n4             NaN  ...      44         Лиговском .И     None   \n..            ...  ...     ...                  ...      ...   \n271           NaN  ...          Центрального района     None   \n272           NaN  ...             Днепропетровский     None   \n273           NaN  ...           Центральном районе     None   \n274           NaN  ...                      Улетели     None   \n275           NaN  ...                    Моисеенко    улица   \n\n                                  full_street_name  \\\n0                                             None   \n1    Загородный проспект 37 Санкт-Петербург Россия   \n2            улица Бадаева  Санкт-Петербург Россия   \n3                                             None   \n4                                             None   \n..                                             ...   \n271                                           None   \n272                                           None   \n273                                           None   \n274                                           None   \n275        улица Моисеенко  Санкт-Петербург Россия   \n\n                                      location_options  \\\n0                                                 None   \n1    ['Загородный проспект 37 Санкт-Петербург Россия']   \n2            ['улица Бадаева  Санкт-Петербург Россия']   \n3                                                 None   \n4                                                 None   \n..                                                 ...   \n271                                               None   \n272                                               None   \n273                                               None   \n274                                               None   \n275        ['улица Моисеенко  Санкт-Петербург Россия']   \n\n                                   addr_to_geocode only_full_street_name  \\\n0                                             None                  None   \n1    Загородный проспект 37 Санкт-Петербург Россия   Загородный проспект   \n2            улица Бадаева  Санкт-Петербург Россия         улица Бадаева   \n3                                             None                  None   \n4                                             None                  None   \n..                                             ...                   ...   \n271                                           None                  None   \n272                                           None                  None   \n273                                           None                  None   \n274                                           None                  None   \n275        улица Моисеенко  Санкт-Петербург Россия       улица Моисеенко   \n\n                                              Location  \\\n0                                                 None   \n1    Электродом, 37/70 литА, Загородный проспект, о...   \n2    улица Бадаева, округ Правобережный, Санкт-Пете...   \n3                                                 None   \n4                                                 None   \n..                                                 ...   \n271                                               None   \n272                                               None   \n273                                               None   \n274                                               None   \n275  улица Моисеенко, Пески, округ Смольнинское, Са...   \n\n                      geometry linked_comments  \n0                         None  333535, 333581  \n1    POINT (30.33256 59.92240)            None  \n2    POINT (30.44214 59.92105)            None  \n3                         None            None  \n4                         None            None  \n..                         ...             ...  \n271                       None            None  \n272                       None            None  \n273                       None            None  \n274                       None            None  \n275  POINT (30.39558 59.93747)            None  \n\n[133 rows x 22 columns]",
      "text/html": "<div>\n<style scoped>\n    .dataframe tbody tr th:only-of-type {\n        vertical-align: middle;\n    }\n\n    .dataframe tbody tr th {\n        vertical-align: top;\n    }\n\n    .dataframe thead th {\n        text-align: right;\n    }\n</style>\n<table border=\"1\" class=\"dataframe\">\n  <thead>\n    <tr style=\"text-align: right;\">\n      <th></th>\n      <th>date</th>\n      <th>id</th>\n      <th>text</th>\n      <th>views.count</th>\n      <th>likes.count</th>\n      <th>reposts.count</th>\n      <th>type</th>\n      <th>link</th>\n      <th>post_id</th>\n      <th>parents_stack</th>\n      <th>...</th>\n      <th>Numbers</th>\n      <th>initial_street</th>\n      <th>Toponims</th>\n      <th>full_street_name</th>\n      <th>location_options</th>\n      <th>addr_to_geocode</th>\n      <th>only_full_street_name</th>\n      <th>Location</th>\n      <th>geometry</th>\n      <th>linked_comments</th>\n    </tr>\n  </thead>\n  <tbody>\n    <tr>\n      <th>0</th>\n      <td>2024-03-21 10:30:00</td>\n      <td>333530</td>\n      <td>Сделайте сад Сан-Галли безопасным для граждан,...</td>\n      <td>2937.0</td>\n      <td>105</td>\n      <td>21.0</td>\n      <td>post</td>\n      <td>NaN</td>\n      <td>NaN</td>\n      <td>NaN</td>\n      <td>...</td>\n      <td></td>\n      <td>Сан-Галли</td>\n      <td>None</td>\n      <td>None</td>\n      <td>None</td>\n      <td>None</td>\n      <td>None</td>\n      <td>None</td>\n      <td>None</td>\n      <td>333535, 333581</td>\n    </tr>\n    <tr>\n      <th>1</th>\n      <td>2024-03-19 19:30:00</td>\n      <td>333226</td>\n      <td>На том же месте сквозь года Вот так каланча ве...</td>\n      <td>4305.0</td>\n      <td>50</td>\n      <td>11.0</td>\n      <td>post</td>\n      <td>https://vk.com/wall-129354225_325408|уплотните...</td>\n      <td>NaN</td>\n      <td>NaN</td>\n      <td>...</td>\n      <td>37</td>\n      <td>Загородном</td>\n      <td>None</td>\n      <td>Загородный проспект 37 Санкт-Петербург Россия</td>\n      <td>['Загородный проспект 37 Санкт-Петербург Россия']</td>\n      <td>Загородный проспект 37 Санкт-Петербург Россия</td>\n      <td>Загородный проспект</td>\n      <td>Электродом, 37/70 литА, Загородный проспект, о...</td>\n      <td>POINT (30.33256 59.92240)</td>\n      <td>None</td>\n    </tr>\n    <tr>\n      <th>2</th>\n      <td>2024-03-19 10:30:00</td>\n      <td>333157</td>\n      <td>Мы не об этом просили! На углу Восстания и Жук...</td>\n      <td>7650.0</td>\n      <td>95</td>\n      <td>15.0</td>\n      <td>post</td>\n      <td>https://vk.com/wall-129354225_315591?access_ke...</td>\n      <td>NaN</td>\n      <td>NaN</td>\n      <td>...</td>\n      <td></td>\n      <td>Бадаева</td>\n      <td>None</td>\n      <td>улица Бадаева  Санкт-Петербург Россия</td>\n      <td>['улица Бадаева  Санкт-Петербург Россия']</td>\n      <td>улица Бадаева  Санкт-Петербург Россия</td>\n      <td>улица Бадаева</td>\n      <td>улица Бадаева, округ Правобережный, Санкт-Пете...</td>\n      <td>POINT (30.44214 59.92105)</td>\n      <td>None</td>\n    </tr>\n    <tr>\n      <th>3</th>\n      <td>2024-03-18 19:30:00</td>\n      <td>333061</td>\n      <td>Без вашей помощи мы не справимся! Открываем кр...</td>\n      <td>7214.0</td>\n      <td>93</td>\n      <td>28.0</td>\n      <td>post</td>\n      <td>https://vk.com/@mytndvor-programma2024|предвыб...</td>\n      <td>NaN</td>\n      <td>NaN</td>\n      <td>...</td>\n      <td></td>\n      <td>Центральный район</td>\n      <td>None</td>\n      <td>None</td>\n      <td>None</td>\n      <td>None</td>\n      <td>None</td>\n      <td>None</td>\n      <td>None</td>\n      <td>None</td>\n    </tr>\n    <tr>\n      <th>4</th>\n      <td>2024-03-18 10:30:00</td>\n      <td>333033</td>\n      <td>Начинаем новую неделю с хороших новостей: в Пе...</td>\n      <td>6467.0</td>\n      <td>186</td>\n      <td>9.0</td>\n      <td>post</td>\n      <td>https://vk.com/wall-129354225_330987|нашей</td>\n      <td>NaN</td>\n      <td>NaN</td>\n      <td>...</td>\n      <td>44</td>\n      <td>Лиговском .И</td>\n      <td>None</td>\n      <td>None</td>\n      <td>None</td>\n      <td>None</td>\n      <td>None</td>\n      <td>None</td>\n      <td>None</td>\n      <td>None</td>\n    </tr>\n    <tr>\n      <th>...</th>\n      <td>...</td>\n      <td>...</td>\n      <td>...</td>\n      <td>...</td>\n      <td>...</td>\n      <td>...</td>\n      <td>...</td>\n      <td>...</td>\n      <td>...</td>\n      <td>...</td>\n      <td>...</td>\n      <td>...</td>\n      <td>...</td>\n      <td>...</td>\n      <td>...</td>\n      <td>...</td>\n      <td>...</td>\n      <td>...</td>\n      <td>...</td>\n      <td>...</td>\n      <td>...</td>\n    </tr>\n    <tr>\n      <th>271</th>\n      <td>2024-02-07 19:50:58</td>\n      <td>328468</td>\n      <td>Правительство Санкт-Петербурга \\n \\n«Жалоба на...</td>\n      <td>NaN</td>\n      <td>0</td>\n      <td>NaN</td>\n      <td>comment</td>\n      <td>NaN</td>\n      <td>328446.0</td>\n      <td>NaN</td>\n      <td>...</td>\n      <td></td>\n      <td>Центрального района</td>\n      <td>None</td>\n      <td>None</td>\n      <td>None</td>\n      <td>None</td>\n      <td>None</td>\n      <td>None</td>\n      <td>None</td>\n      <td>None</td>\n    </tr>\n    <tr>\n      <th>272</th>\n      <td>2024-02-07 20:01:06</td>\n      <td>328469</td>\n      <td>Днепропетровский сквер</td>\n      <td>NaN</td>\n      <td>2</td>\n      <td>NaN</td>\n      <td>comment</td>\n      <td>NaN</td>\n      <td>328446.0</td>\n      <td>NaN</td>\n      <td>...</td>\n      <td></td>\n      <td>Днепропетровский</td>\n      <td>None</td>\n      <td>None</td>\n      <td>None</td>\n      <td>None</td>\n      <td>None</td>\n      <td>None</td>\n      <td>None</td>\n      <td>None</td>\n    </tr>\n    <tr>\n      <th>273</th>\n      <td>2024-02-08 23:18:13</td>\n      <td>328653</td>\n      <td>В Центральном районе самое убогое оборудование...</td>\n      <td>NaN</td>\n      <td>0</td>\n      <td>NaN</td>\n      <td>comment</td>\n      <td>NaN</td>\n      <td>328446.0</td>\n      <td>NaN</td>\n      <td>...</td>\n      <td></td>\n      <td>Центральном районе</td>\n      <td>None</td>\n      <td>None</td>\n      <td>None</td>\n      <td>None</td>\n      <td>None</td>\n      <td>None</td>\n      <td>None</td>\n      <td>None</td>\n    </tr>\n    <tr>\n      <th>274</th>\n      <td>2024-02-09 09:55:28</td>\n      <td>328728</td>\n      <td>Улетели зимовать</td>\n      <td>NaN</td>\n      <td>0</td>\n      <td>NaN</td>\n      <td>comment</td>\n      <td>NaN</td>\n      <td>328446.0</td>\n      <td>NaN</td>\n      <td>...</td>\n      <td></td>\n      <td>Улетели</td>\n      <td>None</td>\n      <td>None</td>\n      <td>None</td>\n      <td>None</td>\n      <td>None</td>\n      <td>None</td>\n      <td>None</td>\n      <td>None</td>\n    </tr>\n    <tr>\n      <th>275</th>\n      <td>2024-02-25 19:15:14</td>\n      <td>330397</td>\n      <td>🤣 про воровать детство это сильно сказано! \\nТ...</td>\n      <td>NaN</td>\n      <td>0</td>\n      <td>NaN</td>\n      <td>comment</td>\n      <td>NaN</td>\n      <td>328446.0</td>\n      <td>NaN</td>\n      <td>...</td>\n      <td></td>\n      <td>Моисеенко</td>\n      <td>улица</td>\n      <td>улица Моисеенко  Санкт-Петербург Россия</td>\n      <td>['улица Моисеенко  Санкт-Петербург Россия']</td>\n      <td>улица Моисеенко  Санкт-Петербург Россия</td>\n      <td>улица Моисеенко</td>\n      <td>улица Моисеенко, Пески, округ Смольнинское, Са...</td>\n      <td>POINT (30.39558 59.93747)</td>\n      <td>None</td>\n    </tr>\n  </tbody>\n</table>\n<p>133 rows × 22 columns</p>\n</div>"
     },
     "execution_count": 66,
     "metadata": {},
     "output_type": "execute_result"
    }
   ],
   "source": [
    "df = df.drop_duplicates(subset='id')\n",
    "df"
   ],
   "metadata": {
    "collapsed": false
   }
  },
  {
   "cell_type": "code",
   "execution_count": null,
   "outputs": [],
   "source": [],
   "metadata": {
    "collapsed": false
   }
  }
 ],
 "metadata": {
  "kernelspec": {
   "display_name": "Python 3",
   "language": "python",
   "name": "python3"
  },
  "language_info": {
   "codemirror_mode": {
    "name": "ipython",
    "version": 2
   },
   "file_extension": ".py",
   "mimetype": "text/x-python",
   "name": "python",
   "nbconvert_exporter": "python",
   "pygments_lexer": "ipython2",
   "version": "2.7.6"
  }
 },
 "nbformat": 4,
 "nbformat_minor": 0
}
